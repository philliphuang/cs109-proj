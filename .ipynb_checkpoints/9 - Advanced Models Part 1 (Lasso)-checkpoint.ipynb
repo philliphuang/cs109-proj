{
 "cells": [
  {
   "cell_type": "markdown",
   "metadata": {},
   "source": [
    "# Notebook 9: Advanced Models Part 1 (Lasso)\n",
    "We can now begin explore more sophisticated statistical models.\n",
    "This notebook contains the first part: lasso regression."
   ]
  },
  {
   "cell_type": "code",
   "execution_count": 1,
   "metadata": {
    "collapsed": false
   },
   "outputs": [],
   "source": [
    "# Import packages\n",
    "import numpy as np\n",
    "import pandas as pd\n",
    "import matplotlib\n",
    "import matplotlib.pyplot as plt\n",
    "%matplotlib inline\n",
    "import statsmodels.formula.api as sm\n",
    "import pickle\n",
    "from collections import Counter\n",
    "import sklearn as sk\n",
    "from sklearn.preprocessing import Imputer\n",
    "from sklearn import linear_model\n",
    "from sklearn.grid_search import GridSearchCV"
   ]
  },
  {
   "cell_type": "code",
   "execution_count": 2,
   "metadata": {
    "collapsed": true
   },
   "outputs": [],
   "source": [
    "# Load cleaned NCD data from pickled files\n",
    "out = open('data/clean/deaths_100k.p', 'r')\n",
    "deaths_100k = pickle.load(out)\n",
    "out.close()\n",
    "out = open('data/clean/risk.p', 'r')\n",
    "risk_of_death = pickle.load(out)\n",
    "out.close()\n",
    "out = open('data/clean/crops.p', 'r')\n",
    "crops = pickle.load(out)\n",
    "out.close()\n",
    "out = open('data/clean/meat.p', 'r')\n",
    "meat = pickle.load(out)\n",
    "out.close()\n",
    "out = open('data/clean/var_desc_livestock.p', 'r')\n",
    "livestock_desc = pickle.load(out)\n",
    "out.close()\n",
    "out = open('data/clean/var_desc_crops.p', 'r')\n",
    "crops_desc = pickle.load(out)\n",
    "out.close()\n",
    "\n",
    "# load cleaned food data with redundant variables removed\n",
    "out = open('data/final/food_1970_2000_cleaned.p', 'r')\n",
    "food_1970_2000_cleaned = pickle.load(out)\n",
    "\n",
    "# Get response variables\n",
    "deaths_100k_all_2000 = deaths_100k['all'][2000]\n",
    "deaths_100k_cancer_2000 = deaths_100k['cancer'][2000]\n",
    "deaths_100k_cardio_2000 = deaths_100k['cardio'][2000]\n",
    "deaths_100k_diabetes_2000 = deaths_100k['diabetes'][2000]\n",
    "deaths_100k_resp_2000 = deaths_100k['resp'][2000]\n",
    "\n",
    "risk_of_death_2000 = risk_of_death[2000]\n",
    "\n",
    "time_period = range(1970, 2000)\n",
    "\n",
    "# Calculate the mean for each crop/meat over the period 1970-2000\n",
    "food_1970_2000 = pd.DataFrame(index=risk_of_death.index)\n",
    "\n",
    "for crop in crops.iterkeys():\n",
    "    food_1970_2000[crop] = crops[crop][time_period].mean(axis=1)\n",
    "    \n",
    "for m in meat.iterkeys():\n",
    "    food_1970_2000[m] = meat[m][time_period].mean(axis=1)\n",
    "\n",
    "# list of countries to drop due to being less than 50% full\n",
    "countries_to_drop = []\n",
    "\n",
    "for index, row in food_1970_2000.iterrows():\n",
    "    if row.isnull().sum() > len(row) / 2:\n",
    "        countries_to_drop.append(index)"
   ]
  },
  {
   "cell_type": "code",
   "execution_count": 3,
   "metadata": {
    "collapsed": true
   },
   "outputs": [],
   "source": [
    "# Plots bar graph of coefficient estimates for regression model and given significance level \n",
    "def plot_sig_coeffs(fit, sig_level):\n",
    "    # Filter for predictors with p-values less than provided cutoff\n",
    "    significant = fit.pvalues[fit.pvalues <= sig_level]\n",
    "    # Plot coefficient estimates for predictors with p < 0.1 \n",
    "    fit.params[significant.index].sort_values().plot(kind=\"bar\", \n",
    "        title=\"Coefficient Estimates for Predictors with p < 0.1\", \n",
    "        )"
   ]
  },
  {
   "cell_type": "markdown",
   "metadata": {},
   "source": [
    "# Lasso Regression\n",
    "To do variable selection efficiently, as explained in Baseline Models and Revised Baseline Models."
   ]
  },
  {
   "cell_type": "markdown",
   "metadata": {},
   "source": [
    "## Risk of Death in 2000 as Response Variable"
   ]
  },
  {
   "cell_type": "markdown",
   "metadata": {},
   "source": [
    "We use `sklearn`'s `GridSearchCV` function to find the best hyperparameter ($\\alpha$) value."
   ]
  },
  {
   "cell_type": "code",
   "execution_count": 38,
   "metadata": {
    "collapsed": false,
    "scrolled": true
   },
   "outputs": [
    {
     "data": {
      "text/plain": [
       "{'alpha': 5.6}"
      ]
     },
     "execution_count": 38,
     "metadata": {},
     "output_type": "execute_result"
    }
   ],
   "source": [
    "lasso = linear_model.Lasso(alpha = 1.0)\n",
    "X = food_1970_2000_cleaned.values\n",
    "y_death_lasso = risk_of_death_2000.drop(countries_to_drop).values\n",
    "lasso.fit(X, y_death_lasso)\n",
    "lasso.score(X, y_death_lasso)\n",
    "lasso.coef_\n",
    "params = {\n",
    "    'alpha': [0.3,0.6,1.0,1.3,1.6,2.0,2.3,2.6,3.0,4.0,5.0, 6.0, 7.0, 8.0] + \n",
    "             [4.3, 4.6, 5.3, 5.6, 6.0, 6.3, 6.6, 7.0]\n",
    "}\n",
    "\n",
    "CV_model = GridSearchCV(lasso, param_grid=params, cv=5)\n",
    "CV_model.fit(X, y_death_lasso)\n",
    "CV_model.best_params_"
   ]
  },
  {
   "cell_type": "markdown",
   "metadata": {},
   "source": [
    "We then fit the model using the optimum alpha provided to fit the model using `statsmodels`."
   ]
  },
  {
   "cell_type": "code",
   "execution_count": 6,
   "metadata": {
    "collapsed": false,
    "scrolled": true
   },
   "outputs": [
    {
     "name": "stdout",
     "output_type": "stream",
     "text": [
      "                            OLS Regression Results                            \n",
      "==============================================================================\n",
      "Dep. Variable:                   2000   R-squared:                       0.964\n",
      "Model:                            OLS   Adj. R-squared:                  0.923\n",
      "Method:                 Least Squares   F-statistic:                     23.64\n",
      "Date:                Wed, 14 Dec 2016   Prob (F-statistic):           1.32e-31\n",
      "Time:                        19:49:48   Log-Likelihood:                -445.06\n",
      "No. Observations:                 154   AIC:                             1054.\n",
      "Df Residuals:                      72   BIC:                             1303.\n",
      "Df Model:                          82                                         \n",
      "Covariance Type:            nonrobust                                         \n",
      "===================================================================================================\n",
      "                                      coef    std err          t      P>|t|      [95.0% Conf. Int.]\n",
      "---------------------------------------------------------------------------------------------------\n",
      "Plantains                                0          0        nan        nan             0         0\n",
      "Sugar, Raw Equivalent               0.0033      0.056      0.060      0.953        -0.108     0.114\n",
      "Beverages, Alcoholic                     0          0        nan        nan             0         0\n",
      "Olives (including preserved)             0          0        nan        nan             0         0\n",
      "Cloves                                   0          0        nan        nan             0         0\n",
      "Coconuts - Incl Copra               0.0085      0.023      0.367      0.714        -0.037     0.054\n",
      "Vegetables, Other                  -0.0074      0.010     -0.768      0.445        -0.027     0.012\n",
      "Sesame seed                        -0.0160      0.040     -0.402      0.689        -0.095     0.063\n",
      "Wine                               -0.0087      0.020     -0.444      0.659        -0.048     0.030\n",
      "Apples and products                -0.0098      0.040     -0.246      0.806        -0.089     0.069\n",
      "Rape and Mustard Oil               -0.0064      0.040     -0.158      0.875        -0.087     0.074\n",
      "Maize and products                  0.0303      0.007      4.461      0.000         0.017     0.044\n",
      "Groundnuts (Shelled Eq)                  0          0        nan        nan             0         0\n",
      "Barley and products                      0          0        nan        nan             0         0\n",
      "Maize Germ Oil                           0          0        nan        nan             0         0\n",
      "Beer                               -0.0024      0.011     -0.214      0.831        -0.024     0.020\n",
      "Groundnut Oil                            0          0        nan        nan             0         0\n",
      "Pineapples and products                  0          0        nan        nan             0         0\n",
      "Pulses, Other and products          0.0874      0.059      1.487      0.141        -0.030     0.205\n",
      "Sugar (Raw Equivalent)              0.0256      0.060      0.424      0.673        -0.095     0.146\n",
      "Palm Oil                            0.0159      0.043      0.367      0.715        -0.070     0.102\n",
      "Oilcrops, Other                          0          0        nan        nan             0         0\n",
      "Dates                               0.0274      0.030      0.926      0.358        -0.032     0.087\n",
      "Oats                                     0          0        nan        nan             0         0\n",
      "Soyabeans                                0          0        nan        nan             0         0\n",
      "Beans                               0.1014      0.048      2.116      0.038         0.006     0.197\n",
      "Sesameseed Oil                      0.0703      0.042      1.665      0.100        -0.014     0.154\n",
      "Grapes and products (excl wine)          0          0        nan        nan             0         0\n",
      "Beverages, Fermented                0.0205      0.010      2.149      0.035         0.001     0.040\n",
      "Potatoes and products               0.0207      0.010      2.010      0.048         0.000     0.041\n",
      "Cottonseed Oil                           0          0        nan        nan             0         0\n",
      "Onions                                   0          0        nan        nan             0         0\n",
      "Coffee and products                      0          0        nan        nan             0         0\n",
      "Roots, Other                        0.0250      0.014      1.781      0.079        -0.003     0.053\n",
      "Infant food                              0          0        nan        nan             0         0\n",
      "Cereals, Other                      0.0326      0.033      0.985      0.328        -0.033     0.099\n",
      "Pepper                                   0          0        nan        nan             0         0\n",
      "Peas                                     0          0        nan        nan             0         0\n",
      "Nuts and products                        0          0        nan        nan             0         0\n",
      "Cocoa Beans and products                 0          0        nan        nan             0         0\n",
      "Wheat and products                  0.0446      0.006      7.103      0.000         0.032     0.057\n",
      "Cassava and products                0.0158      0.004      3.894      0.000         0.008     0.024\n",
      "Sunflowerseed Oil                        0          0        nan        nan             0         0\n",
      "Palmkernel Oil                           0          0        nan        nan             0         0\n",
      "Pimento                                  0          0        nan        nan             0         0\n",
      "Fruits, Other                       0.0229      0.021      1.065      0.290        -0.020     0.066\n",
      "Citrus, Other                            0          0        nan        nan             0         0\n",
      "Lemons, Limes and products               0          0        nan        nan             0         0\n",
      "Tea (including mate)                     0          0        nan        nan             0         0\n",
      "Soyabean Oil                             0          0        nan        nan             0         0\n",
      "Grapefruit and products             0.0006      0.035      0.016      0.987        -0.070     0.071\n",
      "Rye and products                    0.0088      0.028      0.307      0.760        -0.048     0.066\n",
      "Olive Oil                                0          0        nan        nan             0         0\n",
      "Coconut Oil                         0.0147      0.043      0.338      0.736        -0.072     0.101\n",
      "Tomatoes and products              -0.0252      0.020     -1.267      0.209        -0.065     0.014\n",
      "Oilcrops Oil, Other                      0          0        nan        nan             0         0\n",
      "Bananas                                  0          0        nan        nan             0         0\n",
      "Spices, Other                            0          0        nan        nan             0         0\n",
      "Sweet potatoes                           0          0        nan        nan             0         0\n",
      "Oranges, Mandarines                -0.0529      0.028     -1.871      0.065        -0.109     0.003\n",
      "Rice (Milled Equivalent)            0.0529      0.006      9.006      0.000         0.041     0.065\n",
      "Butter, Ghee                             0          0        nan        nan             0         0\n",
      "Fats, Animals, Raw                       0          0        nan        nan             0         0\n",
      "Crustaceans                              0          0        nan        nan             0         0\n",
      "Marine Fish, Other                  0.0123      0.045      0.272      0.786        -0.078     0.102\n",
      "Aquatic Plants                           0          0        nan        nan             0         0\n",
      "Pigmeat                                  0          0        nan        nan             0         0\n",
      "Freshwater Fish                          0          0        nan        nan             0         0\n",
      "Poultry Meat                             0          0        nan        nan             0         0\n",
      "Fish, Liver Oil                          0          0        nan        nan             0         0\n",
      "Meat, Other                         0.0037      0.056      0.067      0.947        -0.107     0.115\n",
      "Cephalopods                              0          0        nan        nan             0         0\n",
      "Mutton & Goat Meat                  0.0490      0.036      1.342      0.184        -0.024     0.122\n",
      "Pelagic Fish                             0          0        nan        nan             0         0\n",
      "Bovine Meat                         0.0208      0.026      0.812      0.419        -0.030     0.072\n",
      "Molluscs, Other                          0          0        nan        nan             0         0\n",
      "Fish, Body Oil                           0          0        nan        nan             0         0\n",
      "Aquatic Animals, Others             0.0435      0.047      0.931      0.355        -0.050     0.137\n",
      "Honey                                    0          0        nan        nan             0         0\n",
      "Offals, Edible                           0          0        nan        nan             0         0\n",
      "Demersal Fish                      -0.0415      0.047     -0.892      0.375        -0.134     0.051\n",
      "Cream                                    0          0        nan        nan             0         0\n",
      "==============================================================================\n",
      "Omnibus:                       14.905   Durbin-Watson:                   2.008\n",
      "Prob(Omnibus):                  0.001   Jarque-Bera (JB):               18.824\n",
      "Skew:                           0.607   Prob(JB):                     8.17e-05\n",
      "Kurtosis:                       4.207   Cond. No.                         552.\n",
      "==============================================================================\n",
      "\n",
      "Warnings:\n",
      "[1] Standard Errors assume that the covariance matrix of the errors is correctly specified.\n"
     ]
    }
   ],
   "source": [
    "# Fit linear model with risk of death in 2000 as response variable\n",
    "risk_2000_model_lasso = sm.OLS(risk_of_death_2000.drop(countries_to_drop), food_1970_2000_cleaned)\n",
    "risk_2000_results_lasso = risk_2000_model_lasso.fit_regularized(alpha = 5.6)\n",
    "print(risk_2000_results_lasso.summary())"
   ]
  },
  {
   "cell_type": "markdown",
   "metadata": {},
   "source": [
    "Checking the same diagnostics as before, while the Condition Number is much smaller (indicating a reduced likelihood of multicollinearity affecting the model), for the model considering overall percentage risk of death in 2000 the residuals do not appear to be normally distributed (according to the Omnibus and Jarque-Bera Tests), so we should address that issue in follow-up models."
   ]
  },
  {
   "cell_type": "code",
   "execution_count": 7,
   "metadata": {
    "collapsed": false
   },
   "outputs": [
    {
     "data": {
      "image/png": "[encoded data removed]",
      "text/plain": [
       "<matplotlib.figure.Figure at 0xd617d30>"
      ]
     },
     "metadata": {},
     "output_type": "display_data"
    }
   ],
   "source": [
    "plot_sig_coeffs(risk_2000_results_lasso, 0.1)"
   ]
  },
  {
   "cell_type": "markdown",
   "metadata": {},
   "source": [
    "## Deaths per 100k from All Causes as Response Variable"
   ]
  },
  {
   "cell_type": "code",
   "execution_count": 23,
   "metadata": {
    "collapsed": false
   },
   "outputs": [
    {
     "data": {
      "text/plain": [
       "{'alpha': 8.0}"
      ]
     },
     "execution_count": 23,
     "metadata": {},
     "output_type": "execute_result"
    }
   ],
   "source": [
    "lasso = linear_model.Lasso(alpha = 1.0)\n",
    "X = food_1970_2000_cleaned\n",
    "y_death_100k_cancer_lasso = deaths_100k_all_2000.drop(countries_to_drop).sort_index().loc[food_1970_2000_cleaned.index].values\n",
    "lasso.fit(X, y_death_100k_cancer_lasso)\n",
    "lasso.score(X, y_death_100k_cancer_lasso)\n",
    "lasso.coef_\n",
    "params = {\n",
    "    'alpha': [0.3,0.6,1.0,1.3,1.6,2.0,2.3,2.6,3.0,4.0,5.0, 6.0, 7.0, 8.0] + \n",
    "             [4.3, 4.6, 5.3, 5.6, 6.0, 6.3, 6.6, 7.0]\n",
    "}\n",
    "\n",
    "CV_model = GridSearchCV(lasso, param_grid=params, cv=5)\n",
    "CV_model.fit(X, y_death_100k_cancer_lasso)\n",
    "CV_model.best_params_"
   ]
  },
  {
   "cell_type": "code",
   "execution_count": 24,
   "metadata": {
    "collapsed": false,
    "scrolled": true
   },
   "outputs": [
    {
     "name": "stdout",
     "output_type": "stream",
     "text": [
      "                            OLS Regression Results                            \n",
      "==============================================================================\n",
      "Dep. Variable:                   2000   R-squared:                       0.977\n",
      "Model:                            OLS   Adj. R-squared:                  0.951\n",
      "Method:                 Least Squares   F-statistic:                     37.14\n",
      "Date:                Wed, 14 Dec 2016   Prob (F-statistic):           3.06e-38\n",
      "Time:                        19:51:59   Log-Likelihood:                -927.13\n",
      "No. Observations:                 154   AIC:                             2018.\n",
      "Df Residuals:                      72   BIC:                             2267.\n",
      "Df Model:                          82                                         \n",
      "Covariance Type:            nonrobust                                         \n",
      "===================================================================================================\n",
      "                                      coef    std err          t      P>|t|      [95.0% Conf. Int.]\n",
      "---------------------------------------------------------------------------------------------------\n",
      "Plantains                           0.1830      0.288      0.636      0.527        -0.391     0.757\n",
      "Sugar, Raw Equivalent               0.9335      1.505      0.620      0.537        -2.067     3.934\n",
      "Beverages, Alcoholic                1.0603      2.274      0.466      0.642        -3.473     5.594\n",
      "Olives (including preserved)       -1.8344      2.965     -0.619      0.538        -7.746     4.077\n",
      "Cloves                             -1.7602      2.024     -0.870      0.387        -5.795     2.274\n",
      "Coconuts - Incl Copra               0.1581      0.636      0.249      0.804        -1.109     1.426\n",
      "Vegetables, Other                  -0.2952      0.296     -0.998      0.321        -0.885     0.294\n",
      "Sesame seed                        -1.1960      1.180     -1.014      0.314        -3.548     1.156\n",
      "Wine                               -0.2104      0.553     -0.381      0.705        -1.312     0.891\n",
      "Apples and products                -2.0589      1.146     -1.796      0.077        -4.344     0.226\n",
      "Rape and Mustard Oil               -1.9303      1.263     -1.528      0.131        -4.449     0.588\n",
      "Maize and products                  0.9811      0.198      4.962      0.000         0.587     1.375\n",
      "Groundnuts (Shelled Eq)             2.9080      2.313      1.257      0.213        -1.702     7.518\n",
      "Barley and products                 0.3471      0.764      0.454      0.651        -1.176     1.870\n",
      "Maize Germ Oil                     -1.7192      3.346     -0.514      0.609        -8.389     4.951\n",
      "Beer                                0.1562      0.354      0.441      0.660        -0.549     0.862\n",
      "Groundnut Oil                       1.5762      2.699      0.584      0.561        -3.805     6.957\n",
      "Pineapples and products                  0          0        nan        nan             0         0\n",
      "Pulses, Other and products          4.7044      1.643      2.864      0.005         1.430     7.979\n",
      "Sugar (Raw Equivalent)             -0.6053      1.631     -0.371      0.712        -3.856     2.646\n",
      "Palm Oil                            0.8190      1.265      0.647      0.519        -1.703     3.341\n",
      "Oilcrops, Other                     1.5456      1.101      1.404      0.165        -0.649     3.740\n",
      "Dates                               1.6749      0.879      1.906      0.061        -0.077     3.427\n",
      "Oats                                     0          0        nan        nan             0         0\n",
      "Soyabeans                           0.6246      2.574      0.243      0.809        -4.506     5.755\n",
      "Beans                               3.4827      1.536      2.268      0.026         0.421     6.544\n",
      "Sesameseed Oil                      3.1853      1.233      2.583      0.012         0.727     5.644\n",
      "Grapes and products (excl wine)     0.6559      0.771      0.851      0.397        -0.880     2.192\n",
      "Beverages, Fermented                0.5761      0.252      2.287      0.025         0.074     1.078\n",
      "Potatoes and products               0.9577      0.279      3.433      0.001         0.402     1.514\n",
      "Cottonseed Oil                     -0.6747      1.038     -0.650      0.518        -2.745     1.396\n",
      "Onions                                   0          0        nan        nan             0         0\n",
      "Coffee and products                      0          0        nan        nan             0         0\n",
      "Roots, Other                        0.6018      0.363      1.657      0.102        -0.122     1.326\n",
      "Infant food                        -2.1669      1.748     -1.240      0.219        -5.650     1.317\n",
      "Cereals, Other                      1.8275      0.925      1.976      0.052        -0.016     3.671\n",
      "Pepper                             -6.5964      4.404     -1.498      0.139       -15.375     2.182\n",
      "Peas                               -1.5061      2.023     -0.745      0.459        -5.539     2.527\n",
      "Nuts and products                   3.6717      3.886      0.945      0.348        -4.074    11.418\n",
      "Cocoa Beans and products                 0          0        nan        nan             0         0\n",
      "Wheat and products                  1.0542      0.181      5.822      0.000         0.693     1.415\n",
      "Cassava and products                0.3890      0.123      3.153      0.002         0.143     0.635\n",
      "Sunflowerseed Oil                   4.6651      2.385      1.956      0.054        -0.090     9.420\n",
      "Palmkernel Oil                     -0.9579      1.089     -0.879      0.382        -3.129     1.214\n",
      "Pimento                                  0          0        nan        nan             0         0\n",
      "Fruits, Other                       0.9010      0.645      1.396      0.167        -0.385     2.187\n",
      "Citrus, Other                      -0.2117      1.735     -0.122      0.903        -3.670     3.247\n",
      "Lemons, Limes and products         -1.0278      2.306     -0.446      0.657        -5.624     3.568\n",
      "Tea (including mate)                1.6708      4.276      0.391      0.697        -6.853    10.194\n",
      "Soyabean Oil                        0.5019      2.369      0.212      0.833        -4.220     5.224\n",
      "Grapefruit and products             0.8352      1.080      0.773      0.442        -1.318     2.988\n",
      "Rye and products                         0          0        nan        nan             0         0\n",
      "Olive Oil                          -1.6530      3.376     -0.490      0.626        -8.382     5.076\n",
      "Coconut Oil                        -0.1536      1.322     -0.116      0.908        -2.789     2.482\n",
      "Tomatoes and products              -0.4705      0.625     -0.753      0.454        -1.717     0.776\n",
      "Oilcrops Oil, Other                 1.7762      1.932      0.919      0.361        -2.076     5.629\n",
      "Bananas                            -0.0029      0.465     -0.006      0.995        -0.930     0.924\n",
      "Spices, Other                            0          0        nan        nan             0         0\n",
      "Sweet potatoes                     -0.3810      0.408     -0.935      0.353        -1.194     0.432\n",
      "Oranges, Mandarines                -1.3880      0.886     -1.566      0.122        -3.155     0.379\n",
      "Rice (Milled Equivalent)            1.5118      0.167      9.062      0.000         1.179     1.844\n",
      "Butter, Ghee                             0          0        nan        nan             0         0\n",
      "Fats, Animals, Raw                 -0.7896      3.132     -0.252      0.802        -7.033     5.454\n",
      "Crustaceans                        -3.1411      3.755     -0.836      0.406       -10.627     4.345\n",
      "Marine Fish, Other                  2.3274      1.545      1.507      0.136        -0.752     5.406\n",
      "Aquatic Plants                      3.8745      2.564      1.511      0.135        -1.236     8.985\n",
      "Pigmeat                             0.9863      1.078      0.915      0.363        -1.163     3.136\n",
      "Freshwater Fish                          0          0        nan        nan             0         0\n",
      "Poultry Meat                       -0.1735      1.177     -0.147      0.883        -2.519     2.172\n",
      "Fish, Liver Oil                     1.9587      2.028      0.966      0.337        -2.084     6.001\n",
      "Meat, Other                         0.9647      1.770      0.545      0.587        -2.563     4.493\n",
      "Cephalopods                        -7.3894      3.885     -1.902      0.061       -15.134     0.355\n",
      "Mutton & Goat Meat                  3.7047      1.097      3.377      0.001         1.518     5.892\n",
      "Pelagic Fish                       -0.9775      1.100     -0.889      0.377        -3.170     1.215\n",
      "Bovine Meat                         0.1028      0.743      0.138      0.890        -1.378     1.583\n",
      "Molluscs, Other                          0          0        nan        nan             0         0\n",
      "Fish, Body Oil                      2.9046      2.602      1.116      0.268        -2.282     8.091\n",
      "Aquatic Animals, Others             1.7439      1.359      1.283      0.204        -0.966     4.454\n",
      "Honey                                    0          0        nan        nan             0         0\n",
      "Offals, Edible                     -5.4562      3.815     -1.430      0.157       -13.062     2.149\n",
      "Demersal Fish                      -0.3800      1.768     -0.215      0.830        -3.904     3.144\n",
      "Cream                              -0.5819      2.126     -0.274      0.785        -4.820     3.656\n",
      "==============================================================================\n",
      "Omnibus:                       10.554   Durbin-Watson:                   1.867\n",
      "Prob(Omnibus):                  0.005   Jarque-Bera (JB):               12.816\n",
      "Skew:                           0.460   Prob(JB):                      0.00165\n",
      "Kurtosis:                       4.073   Cond. No.                         552.\n",
      "==============================================================================\n",
      "\n",
      "Warnings:\n",
      "[1] Standard Errors assume that the covariance matrix of the errors is correctly specified.\n"
     ]
    }
   ],
   "source": [
    "# Fit linear model with risk of death in 2000 as response variable\n",
    "deaths100k_model_lasso = sm.OLS(deaths_100k_all_2000.drop(countries_to_drop).sort_index().loc[food_1970_2000_cleaned.index], \n",
    "                                food_1970_2000_cleaned)\n",
    "deaths100k_results_lasso = deaths100k_model_lasso.fit_regularized(alpha = 8.0)\n",
    "print(deaths100k_results_lasso.summary())"
   ]
  },
  {
   "cell_type": "markdown",
   "metadata": {},
   "source": [
    "Similarly, when considering age-standardized mortality rate as the response variable, according to the Omnibus and Jarque-Bera Tests the residuals do not appear normally distributed, which we should address in follow-up models."
   ]
  },
  {
   "cell_type": "code",
   "execution_count": 25,
   "metadata": {
    "collapsed": false
   },
   "outputs": [
    {
     "data": {
      "image/png": "[encoded data removed]",
      "text/plain": [
       "<matplotlib.figure.Figure at 0xdf10f28>"
      ]
     },
     "metadata": {},
     "output_type": "display_data"
    }
   ],
   "source": [
    "plot_sig_coeffs(deaths100k_results_lasso, 0.1)"
   ]
  },
  {
   "cell_type": "markdown",
   "metadata": {},
   "source": [
    "## Deaths per 100k from Cancer as Response Variable"
   ]
  },
  {
   "cell_type": "code",
   "execution_count": 26,
   "metadata": {
    "collapsed": false
   },
   "outputs": [
    {
     "data": {
      "text/plain": [
       "{'alpha': 8.0}"
      ]
     },
     "execution_count": 26,
     "metadata": {},
     "output_type": "execute_result"
    }
   ],
   "source": [
    "lasso = linear_model.Lasso(alpha = 1.0)\n",
    "y_death_100k_cancer_lasso = deaths_100k_cancer_2000.drop(countries_to_drop).sort_index().loc[food_1970_2000_cleaned.index]\n",
    "lasso.fit(X.values, y_death_100k_cancer_lasso.values)\n",
    "lasso.score(X.values, y_death_100k_cancer_lasso.values)\n",
    "lasso.coef_\n",
    "params = {\n",
    "    'alpha': [0.3,0.6,1.0,1.3,1.6,2.0,2.3,2.6,3.0,4.0,5.0, 6.0, 7.0, 8.0] + \n",
    "             [4.3, 4.6, 5.3, 5.6, 6.0, 6.3, 6.6, 7.0]\n",
    "}\n",
    "\n",
    "CV_model = GridSearchCV(lasso, param_grid=params, cv=5)\n",
    "CV_model.fit(X, y_death_100k_cancer_lasso)\n",
    "CV_model.best_params_"
   ]
  },
  {
   "cell_type": "code",
   "execution_count": 27,
   "metadata": {
    "collapsed": false,
    "scrolled": true
   },
   "outputs": [
    {
     "name": "stdout",
     "output_type": "stream",
     "text": [
      "                            OLS Regression Results                            \n",
      "==============================================================================\n",
      "Dep. Variable:                   2000   R-squared:                       0.958\n",
      "Model:                            OLS   Adj. R-squared:                  0.910\n",
      "Method:                 Least Squares   F-statistic:                     20.06\n",
      "Date:                Wed, 14 Dec 2016   Prob (F-statistic):           3.05e-29\n",
      "Time:                        19:52:19   Log-Likelihood:                -719.83\n",
      "No. Observations:                 154   AIC:                             1604.\n",
      "Df Residuals:                      72   BIC:                             1853.\n",
      "Df Model:                          82                                         \n",
      "Covariance Type:            nonrobust                                         \n",
      "===================================================================================================\n",
      "                                      coef    std err          t      P>|t|      [95.0% Conf. Int.]\n",
      "---------------------------------------------------------------------------------------------------\n",
      "Plantains                          -0.0209      0.068     -0.307      0.760        -0.157     0.115\n",
      "Sugar, Raw Equivalent               0.1349      0.152      0.886      0.378        -0.169     0.438\n",
      "Beverages, Alcoholic                0.5846      0.526      1.112      0.270        -0.464     1.633\n",
      "Olives (including preserved)             0          0        nan        nan             0         0\n",
      "Cloves                             -0.2217      0.428     -0.517      0.606        -1.076     0.632\n",
      "Coconuts - Incl Copra              -0.0142      0.153     -0.093      0.926        -0.319     0.291\n",
      "Vegetables, Other                        0          0        nan        nan             0         0\n",
      "Sesame seed                        -0.2156      0.276     -0.781      0.437        -0.766     0.334\n",
      "Wine                                0.0070      0.130      0.054      0.957        -0.252     0.266\n",
      "Apples and products                      0          0        nan        nan             0         0\n",
      "Rape and Mustard Oil               -0.1802      0.291     -0.618      0.538        -0.761     0.401\n",
      "Maize and products                  0.2154      0.044      4.866      0.000         0.127     0.304\n",
      "Groundnuts (Shelled Eq)             0.0519      0.566      0.092      0.927        -1.077     1.181\n",
      "Barley and products                -0.0154      0.191     -0.081      0.936        -0.397     0.366\n",
      "Maize Germ Oil                           0          0        nan        nan             0         0\n",
      "Beer                                0.0114      0.089      0.128      0.898        -0.166     0.189\n",
      "Groundnut Oil                            0          0        nan        nan             0         0\n",
      "Pineapples and products                  0          0        nan        nan             0         0\n",
      "Pulses, Other and products               0          0        nan        nan             0         0\n",
      "Sugar (Raw Equivalent)                   0          0        nan        nan             0         0\n",
      "Palm Oil                            0.0054      0.298      0.018      0.986        -0.589     0.600\n",
      "Oilcrops, Other                     0.0707      0.298      0.237      0.813        -0.523     0.665\n",
      "Dates                              -0.2384      0.205     -1.164      0.248        -0.647     0.170\n",
      "Oats                               -0.1077      0.510     -0.211      0.833        -1.124     0.908\n",
      "Soyabeans                                0          0        nan        nan             0         0\n",
      "Beans                               0.2709      0.362      0.748      0.457        -0.451     0.993\n",
      "Sesameseed Oil                      0.0926      0.282      0.328      0.744        -0.469     0.654\n",
      "Grapes and products (excl wine)     0.1910      0.185      1.034      0.304        -0.177     0.559\n",
      "Beverages, Fermented                0.1580      0.061      2.573      0.012         0.036     0.280\n",
      "Potatoes and products               0.1706      0.068      2.527      0.014         0.036     0.305\n",
      "Cottonseed Oil                           0          0        nan        nan             0         0\n",
      "Onions                             -0.3089      0.410     -0.752      0.454        -1.127     0.509\n",
      "Coffee and products                 0.0354      1.083      0.033      0.974        -2.123     2.194\n",
      "Roots, Other                        0.0021      0.093      0.023      0.982        -0.183     0.187\n",
      "Infant food                        -0.0610      0.412     -0.148      0.883        -0.882     0.760\n",
      "Cereals, Other                      0.1516      0.208      0.729      0.468        -0.263     0.566\n",
      "Pepper                                   0          0        nan        nan             0         0\n",
      "Peas                                0.2274      0.432      0.526      0.601        -0.635     1.089\n",
      "Nuts and products                        0          0        nan        nan             0         0\n",
      "Cocoa Beans and products                 0          0        nan        nan             0         0\n",
      "Wheat and products                  0.1550      0.044      3.541      0.001         0.068     0.242\n",
      "Cassava and products                0.0440      0.028      1.594      0.115        -0.011     0.099\n",
      "Sunflowerseed Oil                        0          0        nan        nan             0         0\n",
      "Palmkernel Oil                     -0.1262      0.243     -0.519      0.605        -0.611     0.359\n",
      "Pimento                             0.4509      0.480      0.939      0.351        -0.507     1.408\n",
      "Fruits, Other                       0.0093      0.140      0.066      0.947        -0.270     0.289\n",
      "Citrus, Other                       0.0426      0.354      0.120      0.905        -0.664     0.749\n",
      "Lemons, Limes and products               0          0        nan        nan             0         0\n",
      "Tea (including mate)                     0          0        nan        nan             0         0\n",
      "Soyabean Oil                             0          0        nan        nan             0         0\n",
      "Grapefruit and products            -0.0556      0.262     -0.213      0.832        -0.577     0.466\n",
      "Rye and products                   -0.0852      0.208     -0.410      0.683        -0.499     0.329\n",
      "Olive Oil                          -0.2058      0.694     -0.297      0.768        -1.589     1.177\n",
      "Coconut Oil                              0          0        nan        nan             0         0\n",
      "Tomatoes and products              -0.1165      0.152     -0.766      0.446        -0.420     0.187\n",
      "Oilcrops Oil, Other                      0          0        nan        nan             0         0\n",
      "Bananas                             0.0618      0.114      0.542      0.590        -0.166     0.289\n",
      "Spices, Other                            0          0        nan        nan             0         0\n",
      "Sweet potatoes                      0.1221      0.090      1.351      0.181        -0.058     0.302\n",
      "Oranges, Mandarines                 0.1190      0.210      0.566      0.573        -0.300     0.538\n",
      "Rice (Milled Equivalent)            0.2312      0.038      6.092      0.000         0.156     0.307\n",
      "Butter, Ghee                             0          0        nan        nan             0         0\n",
      "Fats, Animals, Raw                  0.7335      0.756      0.970      0.335        -0.773     2.240\n",
      "Crustaceans                        -0.7633      0.921     -0.828      0.410        -2.600     1.074\n",
      "Marine Fish, Other                  0.3306      0.325      1.018      0.312        -0.317     0.978\n",
      "Aquatic Plants                      0.2504      0.521      0.480      0.633        -0.789     1.290\n",
      "Pigmeat                             0.1643      0.273      0.603      0.549        -0.379     0.708\n",
      "Freshwater Fish                          0          0        nan        nan             0         0\n",
      "Poultry Meat                        0.0093      0.281      0.033      0.974        -0.550     0.569\n",
      "Fish, Liver Oil                    -0.1494      0.427     -0.350      0.727        -1.001     0.702\n",
      "Meat, Other                         0.8177      0.384      2.131      0.036         0.053     1.582\n",
      "Cephalopods                              0          0        nan        nan             0         0\n",
      "Mutton & Goat Meat                  0.7387      0.261      2.827      0.006         0.218     1.260\n",
      "Pelagic Fish                             0          0        nan        nan             0         0\n",
      "Bovine Meat                         0.0709      0.181      0.392      0.696        -0.290     0.432\n",
      "Molluscs, Other                          0          0        nan        nan             0         0\n",
      "Fish, Body Oil                           0          0        nan        nan             0         0\n",
      "Aquatic Animals, Others             0.2575      0.319      0.807      0.422        -0.378     0.893\n",
      "Honey                                    0          0        nan        nan             0         0\n",
      "Offals, Edible                     -0.3316      0.918     -0.361      0.719        -2.161     1.498\n",
      "Demersal Fish                      -0.0226      0.338     -0.067      0.947        -0.696     0.651\n",
      "Cream                                    0          0        nan        nan             0         0\n",
      "==============================================================================\n",
      "Omnibus:                       73.688   Durbin-Watson:                   1.813\n",
      "Prob(Omnibus):                  0.000   Jarque-Bera (JB):              417.296\n",
      "Skew:                           1.637   Prob(JB):                     2.43e-91\n",
      "Kurtosis:                      10.370   Cond. No.                         552.\n",
      "==============================================================================\n",
      "\n",
      "Warnings:\n",
      "[1] Standard Errors assume that the covariance matrix of the errors is correctly specified.\n"
     ]
    }
   ],
   "source": [
    "# Fit linear model with risk of death in 2000 as response variable\n",
    "deaths100k_cancer_model_lasso = sm.OLS(y_death_100k_cancer_lasso, X)\n",
    "deaths100k_cancer_results_lasso = deaths100k_cancer_model_lasso.fit_regularized(alpha = 8.0)\n",
    "print(deaths100k_cancer_results_lasso.summary())"
   ]
  },
  {
   "cell_type": "markdown",
   "metadata": {},
   "source": [
    "When considering the age-standardized mortality rate from cancer, once again the Omnibus and Jarque-Bera Tests indicate that the residuals are not normally distributed."
   ]
  },
  {
   "cell_type": "code",
   "execution_count": 28,
   "metadata": {
    "collapsed": false
   },
   "outputs": [
    {
     "data": {
      "image/png": "[encoded data removed]",
      "text/plain": [
       "<matplotlib.figure.Figure at 0xd995978>"
      ]
     },
     "metadata": {},
     "output_type": "display_data"
    }
   ],
   "source": [
    "plot_sig_coeffs(deaths100k_cancer_results_lasso, 0.1)"
   ]
  },
  {
   "cell_type": "markdown",
   "metadata": {},
   "source": [
    "## Deaths per 100k from Cardiovascular Disease as Response Variable"
   ]
  },
  {
   "cell_type": "code",
   "execution_count": 29,
   "metadata": {
    "collapsed": false
   },
   "outputs": [
    {
     "data": {
      "text/plain": [
       "{'alpha': 8.0}"
      ]
     },
     "execution_count": 29,
     "metadata": {},
     "output_type": "execute_result"
    }
   ],
   "source": [
    "lasso = linear_model.Lasso(alpha = 1.0)\n",
    "y_death_100k_cardio_lasso = deaths_100k_cardio_2000.drop(countries_to_drop).sort_index().loc[food_1970_2000_cleaned.index]\n",
    "lasso.fit(X.values, y_death_100k_cardio_lasso.values)\n",
    "lasso.score(X.values, y_death_100k_cardio_lasso.values)\n",
    "lasso.coef_\n",
    "params = {\n",
    "    'alpha': [0.3,0.6,1.0,1.3,1.6,2.0,2.3,2.6,3.0,4.0,5.0, 6.0, 7.0, 8.0] + \n",
    "             [4.3, 4.6, 5.3, 5.6, 6.0, 6.3, 6.6, 7.0]\n",
    "}\n",
    "\n",
    "CV_model = GridSearchCV(lasso, param_grid=params, cv=5)\n",
    "CV_model.fit(X, y_death_100k_cardio_lasso)\n",
    "CV_model.best_params_"
   ]
  },
  {
   "cell_type": "code",
   "execution_count": 30,
   "metadata": {
    "collapsed": false,
    "scrolled": true
   },
   "outputs": [
    {
     "name": "stdout",
     "output_type": "stream",
     "text": [
      "                            OLS Regression Results                            \n",
      "==============================================================================\n",
      "Dep. Variable:                   2000   R-squared:                       0.971\n",
      "Model:                            OLS   Adj. R-squared:                  0.939\n",
      "Method:                 Least Squares   F-statistic:                     29.81\n",
      "Date:                Wed, 14 Dec 2016   Prob (F-statistic):           5.51e-35\n",
      "Time:                        19:52:35   Log-Likelihood:                -845.58\n",
      "No. Observations:                 154   AIC:                             1855.\n",
      "Df Residuals:                      72   BIC:                             2104.\n",
      "Df Model:                          82                                         \n",
      "Covariance Type:            nonrobust                                         \n",
      "===================================================================================================\n",
      "                                      coef    std err          t      P>|t|      [95.0% Conf. Int.]\n",
      "---------------------------------------------------------------------------------------------------\n",
      "Plantains                           0.1114      0.173      0.646      0.521        -0.233     0.455\n",
      "Sugar, Raw Equivalent               0.4388      0.920      0.477      0.635        -1.395     2.273\n",
      "Beverages, Alcoholic                0.5892      1.346      0.438      0.663        -2.094     3.273\n",
      "Olives (including preserved)       -2.1098      1.664     -1.268      0.209        -5.426     1.206\n",
      "Cloves                             -0.3886      1.208     -0.322      0.749        -2.797     2.019\n",
      "Coconuts - Incl Copra               0.3596      0.377      0.953      0.344        -0.392     1.111\n",
      "Vegetables, Other                  -0.1411      0.170     -0.829      0.410        -0.480     0.198\n",
      "Sesame seed                        -0.2198      0.718     -0.306      0.760        -1.651     1.211\n",
      "Wine                               -0.4860      0.329     -1.476      0.144        -1.143     0.171\n",
      "Apples and products                -0.8804      0.688     -1.279      0.205        -2.252     0.491\n",
      "Rape and Mustard Oil               -1.0219      0.741     -1.379      0.172        -2.499     0.456\n",
      "Maize and products                  0.3408      0.120      2.842      0.006         0.102     0.580\n",
      "Groundnuts (Shelled Eq)             1.2630      1.361      0.928      0.356        -1.449     3.975\n",
      "Barley and products                -0.0999      0.459     -0.218      0.828        -1.014     0.815\n",
      "Maize Germ Oil                           0          0        nan        nan             0         0\n",
      "Beer                               -0.1910      0.221     -0.863      0.391        -0.632     0.250\n",
      "Groundnut Oil                       0.6701      1.609      0.417      0.678        -2.537     3.877\n",
      "Pineapples and products             0.5496      0.931      0.590      0.557        -1.307     2.406\n",
      "Pulses, Other and products          1.5827      1.009      1.569      0.121        -0.429     3.594\n",
      "Sugar (Raw Equivalent)             -0.2295      0.986     -0.233      0.817        -2.194     1.735\n",
      "Palm Oil                            0.3580      0.745      0.481      0.632        -1.126     1.843\n",
      "Oilcrops, Other                     0.8085      0.676      1.197      0.235        -0.538     2.155\n",
      "Dates                               1.2689      0.520      2.439      0.017         0.232     2.306\n",
      "Oats                                     0          0        nan        nan             0         0\n",
      "Soyabeans                                0          0        nan        nan             0         0\n",
      "Beans                               1.7622      0.922      1.911      0.060        -0.076     3.601\n",
      "Sesameseed Oil                      2.2473      0.715      3.141      0.002         0.821     3.674\n",
      "Grapes and products (excl wine)     0.1875      0.458      0.410      0.683        -0.725     1.100\n",
      "Beverages, Fermented                0.1115      0.158      0.707      0.482        -0.203     0.426\n",
      "Potatoes and products               0.5009      0.165      3.037      0.003         0.172     0.830\n",
      "Cottonseed Oil                     -0.6148      0.630     -0.975      0.333        -1.871     0.642\n",
      "Onions                              0.5445      1.033      0.527      0.600        -1.514     2.603\n",
      "Coffee and products                      0          0        nan        nan             0         0\n",
      "Roots, Other                        0.4080      0.216      1.890      0.063        -0.022     0.838\n",
      "Infant food                        -0.8551      1.079     -0.793      0.431        -3.006     1.296\n",
      "Cereals, Other                      0.5831      0.570      1.023      0.310        -0.553     1.720\n",
      "Pepper                             -1.4492      2.461     -0.589      0.558        -6.354     3.456\n",
      "Peas                               -1.1375      1.142     -0.996      0.322        -3.413     1.138\n",
      "Nuts and products                   1.8030      2.345      0.769      0.444        -2.871     6.477\n",
      "Cocoa Beans and products                 0          0        nan        nan             0         0\n",
      "Wheat and products                  0.6950      0.109      6.367      0.000         0.477     0.913\n",
      "Cassava and products                0.2217      0.073      3.039      0.003         0.076     0.367\n",
      "Sunflowerseed Oil                   2.4931      1.462      1.706      0.092        -0.420     5.407\n",
      "Palmkernel Oil                      0.3159      0.642      0.492      0.624        -0.964     1.595\n",
      "Pimento                            -1.5854      1.290     -1.229      0.223        -4.156     0.985\n",
      "Fruits, Other                       0.5932      0.386      1.538      0.128        -0.175     1.362\n",
      "Citrus, Other                      -0.3341      1.023     -0.327      0.745        -2.373     1.705\n",
      "Lemons, Limes and products         -0.8838      1.395     -0.634      0.528        -3.665     1.897\n",
      "Tea (including mate)                1.8525      2.492      0.743      0.460        -3.115     6.820\n",
      "Soyabean Oil                       -0.2170      1.446     -0.150      0.881        -3.100     2.666\n",
      "Grapefruit and products             0.6284      0.632      0.995      0.323        -0.631     1.888\n",
      "Rye and products                    0.1344      0.504      0.267      0.790        -0.870     1.139\n",
      "Olive Oil                          -1.3842      1.993     -0.694      0.490        -5.357     2.589\n",
      "Coconut Oil                         0.4248      0.788      0.539      0.592        -1.146     1.996\n",
      "Tomatoes and products              -0.0241      0.398     -0.061      0.952        -0.817     0.769\n",
      "Oilcrops Oil, Other                 0.9323      1.152      0.809      0.421        -1.365     3.229\n",
      "Bananas                             0.0848      0.278      0.305      0.761        -0.469     0.639\n",
      "Spices, Other                            0          0        nan        nan             0         0\n",
      "Sweet potatoes                     -0.3141      0.247     -1.270      0.208        -0.807     0.179\n",
      "Oranges, Mandarines                -1.3657      0.525     -2.600      0.011        -2.413    -0.318\n",
      "Rice (Milled Equivalent)            0.5826      0.115      5.047      0.000         0.352     0.813\n",
      "Butter, Ghee                             0          0        nan        nan             0         0\n",
      "Fats, Animals, Raw                       0          0        nan        nan             0         0\n",
      "Crustaceans                        -1.8601      2.241     -0.830      0.409        -6.328     2.608\n",
      "Marine Fish, Other                  1.0947      0.961      1.140      0.258        -0.820     3.010\n",
      "Aquatic Plants                      0.5772      1.467      0.393      0.695        -2.348     3.502\n",
      "Pigmeat                             0.6758      0.580      1.166      0.248        -0.480     1.831\n",
      "Freshwater Fish                     0.1769      1.699      0.104      0.917        -3.210     3.564\n",
      "Poultry Meat                       -0.1802      0.708     -0.255      0.800        -1.591     1.230\n",
      "Fish, Liver Oil                     2.3191      1.134      2.046      0.044         0.059     4.579\n",
      "Meat, Other                         0.1400      1.062      0.132      0.896        -1.977     2.257\n",
      "Cephalopods                        -1.7780      2.230     -0.797      0.428        -6.224     2.668\n",
      "Mutton & Goat Meat                  1.7965      0.655      2.742      0.008         0.490     3.103\n",
      "Pelagic Fish                       -0.5900      0.627     -0.941      0.350        -1.840     0.660\n",
      "Bovine Meat                        -0.1340      0.427     -0.314      0.755        -0.985     0.717\n",
      "Molluscs, Other                          0          0        nan        nan             0         0\n",
      "Fish, Body Oil                      0.5670      1.476      0.384      0.702        -2.374     3.509\n",
      "Aquatic Animals, Others             0.4084      0.797      0.512      0.610        -1.181     1.997\n",
      "Honey                                    0          0        nan        nan             0         0\n",
      "Offals, Edible                     -2.3246      2.199     -1.057      0.294        -6.708     2.059\n",
      "Demersal Fish                      -0.2442      1.016     -0.240      0.811        -2.270     1.781\n",
      "Cream                              -0.3705      1.333     -0.278      0.782        -3.027     2.286\n",
      "==============================================================================\n",
      "Omnibus:                        1.192   Durbin-Watson:                   2.067\n",
      "Prob(Omnibus):                  0.551   Jarque-Bera (JB):                1.281\n",
      "Skew:                           0.197   Prob(JB):                        0.527\n",
      "Kurtosis:                       2.788   Cond. No.                         552.\n",
      "==============================================================================\n",
      "\n",
      "Warnings:\n",
      "[1] Standard Errors assume that the covariance matrix of the errors is correctly specified.\n"
     ]
    }
   ],
   "source": [
    "# Fit linear model with risk of death in 2000 as response variable\n",
    "deaths100k_cardio_model_lasso = sm.OLS(y_death_100k_cardio_lasso, X)\n",
    "deaths100k_cardio_results_lasso = deaths100k_cardio_model_lasso.fit_regularized(alpha = 8.0)\n",
    "print(deaths100k_cardio_results_lasso.summary())"
   ]
  },
  {
   "cell_type": "markdown",
   "metadata": {},
   "source": [
    "According to both the Omnibus and Jarque-Bera Tests, we fail to reject the null hypothesis that the residuals are normally distributed in this model, with the age-standardized mortality rate from cardiovascular disease as the response variable."
   ]
  },
  {
   "cell_type": "code",
   "execution_count": 31,
   "metadata": {
    "collapsed": false
   },
   "outputs": [
    {
     "data": {
      "image/png": "[encoded data removed]",
      "text/plain": [
       "<matplotlib.figure.Figure at 0xdcc1198>"
      ]
     },
     "metadata": {},
     "output_type": "display_data"
    }
   ],
   "source": [
    "plot_sig_coeffs(deaths100k_cardio_results_lasso, 0.1)"
   ]
  },
  {
   "cell_type": "markdown",
   "metadata": {},
   "source": [
    "## Deaths per 100k from Diabetes as Response Variable"
   ]
  },
  {
   "cell_type": "code",
   "execution_count": 32,
   "metadata": {
    "collapsed": false
   },
   "outputs": [
    {
     "data": {
      "text/plain": [
       "{'alpha': 8.0}"
      ]
     },
     "execution_count": 32,
     "metadata": {},
     "output_type": "execute_result"
    }
   ],
   "source": [
    "lasso = linear_model.Lasso(alpha = 1.0)\n",
    "y_death_100k_diabetes_lasso = deaths_100k_diabetes_2000.drop(countries_to_drop).sort_index().loc[food_1970_2000_cleaned.index]\n",
    "lasso.fit(X.values, y_death_100k_diabetes_lasso.values)\n",
    "lasso.score(X.values, y_death_100k_diabetes_lasso.values)\n",
    "lasso.coef_\n",
    "params = {\n",
    "    'alpha': [0.3,0.6,1.0,1.3,1.6,2.0,2.3,2.6,3.0,4.0,5.0, 6.0, 7.0, 8.0] + \n",
    "             [4.3, 4.6, 5.3, 5.6, 6.0, 6.3, 6.6, 7.0]\n",
    "}\n",
    "\n",
    "CV_model = GridSearchCV(lasso, param_grid=params, cv=5)\n",
    "CV_model.fit(X, y_death_100k_diabetes_lasso)\n",
    "CV_model.best_params_"
   ]
  },
  {
   "cell_type": "code",
   "execution_count": 33,
   "metadata": {
    "collapsed": false,
    "scrolled": true
   },
   "outputs": [
    {
     "name": "stdout",
     "output_type": "stream",
     "text": [
      "                            OLS Regression Results                            \n",
      "==============================================================================\n",
      "Dep. Variable:                   2000   R-squared:                       0.853\n",
      "Model:                            OLS   Adj. R-squared:                  0.685\n",
      "Method:                 Least Squares   F-statistic:                     5.090\n",
      "Date:                Wed, 14 Dec 2016   Prob (F-statistic):           1.43e-11\n",
      "Time:                        19:52:49   Log-Likelihood:                -642.33\n",
      "No. Observations:                 154   AIC:                             1449.\n",
      "Df Residuals:                      72   BIC:                             1698.\n",
      "Df Model:                          82                                         \n",
      "Covariance Type:            nonrobust                                         \n",
      "===================================================================================================\n",
      "                                      coef    std err          t      P>|t|      [95.0% Conf. Int.]\n",
      "---------------------------------------------------------------------------------------------------\n",
      "Plantains                                0          0        nan        nan             0         0\n",
      "Sugar, Raw Equivalent                    0          0        nan        nan             0         0\n",
      "Beverages, Alcoholic                     0          0        nan        nan             0         0\n",
      "Olives (including preserved)             0          0        nan        nan             0         0\n",
      "Cloves                                   0          0        nan        nan             0         0\n",
      "Coconuts - Incl Copra               0.0908      0.089      1.016      0.313        -0.087     0.269\n",
      "Vegetables, Other                  -0.0227      0.039     -0.587      0.559        -0.100     0.054\n",
      "Sesame seed                        -0.1266      0.155     -0.819      0.416        -0.435     0.182\n",
      "Wine                                0.0763      0.077      0.994      0.324        -0.077     0.229\n",
      "Apples and products                -0.2303      0.160     -1.442      0.154        -0.549     0.088\n",
      "Rape and Mustard Oil                0.0116      0.158      0.074      0.942        -0.303     0.326\n",
      "Maize and products                  0.0530      0.024      2.173      0.033         0.004     0.102\n",
      "Groundnuts (Shelled Eq)                  0          0        nan        nan             0         0\n",
      "Barley and products                 0.2221      0.115      1.924      0.058        -0.008     0.452\n",
      "Maize Germ Oil                           0          0        nan        nan             0         0\n",
      "Beer                                0.0406      0.049      0.831      0.409        -0.057     0.138\n",
      "Groundnut Oil                            0          0        nan        nan             0         0\n",
      "Pineapples and products            -0.0448      0.223     -0.201      0.841        -0.489     0.399\n",
      "Pulses, Other and products          0.2813      0.221      1.271      0.208        -0.160     0.722\n",
      "Sugar (Raw Equivalent)              0.2608      0.093      2.818      0.006         0.076     0.445\n",
      "Palm Oil                            0.0142      0.175      0.082      0.935        -0.334     0.362\n",
      "Oilcrops, Other                    -0.0548      0.156     -0.352      0.726        -0.365     0.256\n",
      "Dates                               0.1705      0.116      1.464      0.148        -0.062     0.403\n",
      "Oats                                     0          0        nan        nan             0         0\n",
      "Soyabeans                                0          0        nan        nan             0         0\n",
      "Beans                                    0          0        nan        nan             0         0\n",
      "Sesameseed Oil                           0          0        nan        nan             0         0\n",
      "Grapes and products (excl wine)     0.0404      0.110      0.367      0.715        -0.179     0.260\n",
      "Beverages, Fermented                0.0662      0.034      1.952      0.055        -0.001     0.134\n",
      "Potatoes and products              -0.0394      0.039     -1.020      0.311        -0.116     0.038\n",
      "Cottonseed Oil                     -0.1136      0.153     -0.744      0.459        -0.418     0.191\n",
      "Onions                              0.0538      0.238      0.226      0.822        -0.421     0.529\n",
      "Coffee and products                      0          0        nan        nan             0         0\n",
      "Roots, Other                        0.0360      0.052      0.696      0.489        -0.067     0.139\n",
      "Infant food                        -0.0745      0.225     -0.332      0.741        -0.522     0.373\n",
      "Cereals, Other                      0.0657      0.137      0.479      0.634        -0.208     0.339\n",
      "Pepper                                   0          0        nan        nan             0         0\n",
      "Peas                               -0.0607      0.248     -0.244      0.808        -0.556     0.435\n",
      "Nuts and products                        0          0        nan        nan             0         0\n",
      "Cocoa Beans and products                 0          0        nan        nan             0         0\n",
      "Wheat and products                  0.0389      0.026      1.490      0.141        -0.013     0.091\n",
      "Cassava and products                0.0276      0.015      1.814      0.074        -0.003     0.058\n",
      "Sunflowerseed Oil                   0.2113      0.302      0.699      0.487        -0.391     0.814\n",
      "Palmkernel Oil                     -0.1526      0.150     -1.018      0.312        -0.452     0.146\n",
      "Pimento                                  0          0        nan        nan             0         0\n",
      "Fruits, Other                       0.1185      0.085      1.390      0.169        -0.051     0.288\n",
      "Citrus, Other                            0          0        nan        nan             0         0\n",
      "Lemons, Limes and products               0          0        nan        nan             0         0\n",
      "Tea (including mate)                     0          0        nan        nan             0         0\n",
      "Soyabean Oil                        0.4675      0.318      1.469      0.146        -0.167     1.102\n",
      "Grapefruit and products             0.0307      0.136      0.227      0.821        -0.239     0.301\n",
      "Rye and products                    0.1519      0.121      1.256      0.213        -0.089     0.393\n",
      "Olive Oil                                0          0        nan        nan             0         0\n",
      "Coconut Oil                              0          0        nan        nan             0         0\n",
      "Tomatoes and products              -0.1158      0.082     -1.408      0.163        -0.280     0.048\n",
      "Oilcrops Oil, Other                 0.1978      0.278      0.711      0.479        -0.356     0.752\n",
      "Bananas                            -0.0452      0.066     -0.679      0.499        -0.178     0.087\n",
      "Spices, Other                            0          0        nan        nan             0         0\n",
      "Sweet potatoes                           0          0        nan        nan             0         0\n",
      "Oranges, Mandarines                -0.0433      0.115     -0.375      0.709        -0.273     0.187\n",
      "Rice (Milled Equivalent)            0.0651      0.023      2.804      0.006         0.019     0.111\n",
      "Butter, Ghee                             0          0        nan        nan             0         0\n",
      "Fats, Animals, Raw                       0          0        nan        nan             0         0\n",
      "Crustaceans                              0          0        nan        nan             0         0\n",
      "Marine Fish, Other                  0.1121      0.187      0.600      0.551        -0.261     0.485\n",
      "Aquatic Plants                           0          0        nan        nan             0         0\n",
      "Pigmeat                            -0.1461      0.123     -1.186      0.240        -0.392     0.100\n",
      "Freshwater Fish                          0          0        nan        nan             0         0\n",
      "Poultry Meat                        0.0553      0.156      0.354      0.724        -0.256     0.367\n",
      "Fish, Liver Oil                    -0.0044      0.225     -0.019      0.985        -0.452     0.443\n",
      "Meat, Other                        -0.0820      0.213     -0.385      0.702        -0.507     0.343\n",
      "Cephalopods                              0          0        nan        nan             0         0\n",
      "Mutton & Goat Meat                       0          0        nan        nan             0         0\n",
      "Pelagic Fish                       -0.0776      0.147     -0.529      0.598        -0.370     0.215\n",
      "Bovine Meat                        -0.0629      0.092     -0.683      0.497        -0.247     0.121\n",
      "Molluscs, Other                          0          0        nan        nan             0         0\n",
      "Fish, Body Oil                     -0.0726      0.329     -0.221      0.826        -0.728     0.583\n",
      "Aquatic Animals, Others             0.1679      0.181      0.930      0.355        -0.192     0.528\n",
      "Honey                                    0          0        nan        nan             0         0\n",
      "Offals, Edible                           0          0        nan        nan             0         0\n",
      "Demersal Fish                      -0.0467      0.212     -0.220      0.826        -0.470     0.376\n",
      "Cream                              -0.1926      0.268     -0.719      0.474        -0.727     0.341\n",
      "==============================================================================\n",
      "Omnibus:                       65.149   Durbin-Watson:                   1.908\n",
      "Prob(Omnibus):                  0.000   Jarque-Bera (JB):              306.529\n",
      "Skew:                           1.479   Prob(JB):                     2.74e-67\n",
      "Kurtosis:                       9.246   Cond. No.                         552.\n",
      "==============================================================================\n",
      "\n",
      "Warnings:\n",
      "[1] Standard Errors assume that the covariance matrix of the errors is correctly specified.\n"
     ]
    }
   ],
   "source": [
    "# Fit linear model with risk of death in 2000 as response variable\n",
    "deaths100k_diabetes_model_lasso = sm.OLS(y_death_100k_diabetes_lasso, X)\n",
    "deaths100k_diabetes_results_lasso = deaths100k_diabetes_model_lasso.fit_regularized(alpha = 8.0)\n",
    "print(deaths100k_diabetes_results_lasso.summary())"
   ]
  },
  {
   "cell_type": "markdown",
   "metadata": {},
   "source": [
    "When considering the age-standardized mortality rate from diabetes as the response variable, both the Omnibus and Jarque-Bera Tests reject the null hypothesis, claiming that there is significant evidence that the residuals are not normally distributed."
   ]
  },
  {
   "cell_type": "code",
   "execution_count": 34,
   "metadata": {
    "collapsed": false
   },
   "outputs": [
    {
     "data": {
      "image/png": "[encoded data removed]",
      "text/plain": [
       "<matplotlib.figure.Figure at 0xdca8470>"
      ]
     },
     "metadata": {},
     "output_type": "display_data"
    }
   ],
   "source": [
    "plot_sig_coeffs(deaths100k_diabetes_results_lasso, 0.1)"
   ]
  },
  {
   "cell_type": "markdown",
   "metadata": {},
   "source": [
    "## Deaths per 100k from Respiratory Disease as Response Variable"
   ]
  },
  {
   "cell_type": "code",
   "execution_count": 35,
   "metadata": {
    "collapsed": false
   },
   "outputs": [
    {
     "data": {
      "text/plain": [
       "{'alpha': 8.0}"
      ]
     },
     "execution_count": 35,
     "metadata": {},
     "output_type": "execute_result"
    }
   ],
   "source": [
    "lasso = linear_model.Lasso(alpha = 1.0)\n",
    "y_death_100k_resp_lasso = deaths_100k_resp_2000.drop(countries_to_drop).sort_index().loc[food_1970_2000_cleaned.index]\n",
    "lasso.fit(X.values, y_death_100k_resp_lasso.values)\n",
    "lasso.score(X.values, y_death_100k_resp_lasso.values)\n",
    "lasso.coef_\n",
    "params = {\n",
    "    'alpha': [0.3,0.6,1.0,1.3,1.6,2.0,2.3,2.6,3.0,4.0,5.0, 6.0, 7.0, 8.0] + \n",
    "             [4.3, 4.6, 5.3, 5.6, 6.0, 6.3, 6.6, 7.0]\n",
    "}\n",
    "\n",
    "CV_model = GridSearchCV(lasso, param_grid=params, cv=5)\n",
    "CV_model.fit(X, y_death_100k_resp_lasso)\n",
    "CV_model.best_params_"
   ]
  },
  {
   "cell_type": "code",
   "execution_count": 36,
   "metadata": {
    "collapsed": false,
    "scrolled": true
   },
   "outputs": [
    {
     "name": "stdout",
     "output_type": "stream",
     "text": [
      "                            OLS Regression Results                            \n",
      "==============================================================================\n",
      "Dep. Variable:                   2000   R-squared:                       0.873\n",
      "Model:                            OLS   Adj. R-squared:                  0.728\n",
      "Method:                 Least Squares   F-statistic:                     6.032\n",
      "Date:                Wed, 14 Dec 2016   Prob (F-statistic):           1.78e-13\n",
      "Time:                        19:53:06   Log-Likelihood:                -687.01\n",
      "No. Observations:                 154   AIC:                             1538.\n",
      "Df Residuals:                      72   BIC:                             1787.\n",
      "Df Model:                          82                                         \n",
      "Covariance Type:            nonrobust                                         \n",
      "===================================================================================================\n",
      "                                      coef    std err          t      P>|t|      [95.0% Conf. Int.]\n",
      "---------------------------------------------------------------------------------------------------\n",
      "Plantains                           0.0079      0.057      0.139      0.890        -0.105     0.121\n",
      "Sugar, Raw Equivalent               0.0891      0.291      0.306      0.760        -0.491     0.669\n",
      "Beverages, Alcoholic                     0          0        nan        nan             0         0\n",
      "Olives (including preserved)        0.4078      0.484      0.842      0.403        -0.558     1.373\n",
      "Cloves                              0.0667      0.363      0.184      0.855        -0.658     0.791\n",
      "Coconuts - Incl Copra                    0          0        nan        nan             0         0\n",
      "Vegetables, Other                   0.0217      0.052      0.420      0.676        -0.081     0.125\n",
      "Sesame seed                              0          0        nan        nan             0         0\n",
      "Wine                               -0.0068      0.096     -0.071      0.944        -0.198     0.184\n",
      "Apples and products                -0.0359      0.204     -0.176      0.861        -0.442     0.370\n",
      "Rape and Mustard Oil               -0.1654      0.214     -0.774      0.441        -0.591     0.261\n",
      "Maize and products                  0.1094      0.037      2.992      0.004         0.036     0.182\n",
      "Groundnuts (Shelled Eq)             0.2584      0.431      0.599      0.551        -0.601     1.118\n",
      "Barley and products                -0.0665      0.155     -0.428      0.670        -0.376     0.243\n",
      "Maize Germ Oil                           0          0        nan        nan             0         0\n",
      "Beer                                0.0264      0.060      0.442      0.660        -0.093     0.145\n",
      "Groundnut Oil                            0          0        nan        nan             0         0\n",
      "Pineapples and products                  0          0        nan        nan             0         0\n",
      "Pulses, Other and products          0.8270      0.311      2.658      0.010         0.207     1.447\n",
      "Sugar (Raw Equivalent)             -0.2213      0.309     -0.716      0.477        -0.838     0.395\n",
      "Palm Oil                           -0.0395      0.244     -0.162      0.872        -0.526     0.447\n",
      "Oilcrops, Other                    -0.0123      0.212     -0.058      0.954        -0.436     0.411\n",
      "Dates                                    0          0        nan        nan             0         0\n",
      "Oats                               -0.1199      0.420     -0.286      0.776        -0.957     0.717\n",
      "Soyabeans                                0          0        nan        nan             0         0\n",
      "Beans                               0.2481      0.292      0.851      0.398        -0.333     0.829\n",
      "Sesameseed Oil                           0          0        nan        nan             0         0\n",
      "Grapes and products (excl wine)          0          0        nan        nan             0         0\n",
      "Beverages, Fermented               -0.0012      0.051     -0.024      0.981        -0.104     0.101\n",
      "Potatoes and products               0.0475      0.050      0.944      0.349        -0.053     0.148\n",
      "Cottonseed Oil                     -0.0700      0.210     -0.333      0.740        -0.489     0.349\n",
      "Onions                                   0          0        nan        nan             0         0\n",
      "Coffee and products                      0          0        nan        nan             0         0\n",
      "Roots, Other                        0.1056      0.073      1.453      0.151        -0.039     0.251\n",
      "Infant food                              0          0        nan        nan             0         0\n",
      "Cereals, Other                      0.2966      0.181      1.643      0.105        -0.063     0.657\n",
      "Pepper                             -0.9757      0.717     -1.361      0.178        -2.405     0.454\n",
      "Peas                                     0          0        nan        nan             0         0\n",
      "Nuts and products                        0          0        nan        nan             0         0\n",
      "Cocoa Beans and products                 0          0        nan        nan             0         0\n",
      "Wheat and products                  0.0894      0.035      2.528      0.014         0.019     0.160\n",
      "Cassava and products                0.0212      0.023      0.924      0.359        -0.025     0.067\n",
      "Sunflowerseed Oil                   0.1488      0.458      0.325      0.746        -0.764     1.061\n",
      "Palmkernel Oil                     -0.0764      0.200     -0.383      0.703        -0.475     0.322\n",
      "Pimento                             0.0444      0.408      0.109      0.914        -0.769     0.858\n",
      "Fruits, Other                            0          0        nan        nan             0         0\n",
      "Citrus, Other                      -0.0775      0.308     -0.252      0.802        -0.691     0.536\n",
      "Lemons, Limes and products               0          0        nan        nan             0         0\n",
      "Tea (including mate)                     0          0        nan        nan             0         0\n",
      "Soyabean Oil                             0          0        nan        nan             0         0\n",
      "Grapefruit and products             0.1491      0.199      0.749      0.457        -0.248     0.546\n",
      "Rye and products                   -0.0385      0.166     -0.232      0.817        -0.369     0.292\n",
      "Olive Oil                                0          0        nan        nan             0         0\n",
      "Coconut Oil                        -0.0841      0.230     -0.365      0.716        -0.543     0.375\n",
      "Tomatoes and products              -0.1216      0.108     -1.127      0.264        -0.337     0.094\n",
      "Oilcrops Oil, Other                 0.2010      0.373      0.539      0.591        -0.542     0.944\n",
      "Bananas                            -0.0022      0.094     -0.023      0.982        -0.190     0.186\n",
      "Spices, Other                            0          0        nan        nan             0         0\n",
      "Sweet potatoes                      0.0223      0.075      0.295      0.769        -0.128     0.173\n",
      "Oranges, Mandarines                -0.0213      0.152     -0.140      0.889        -0.324     0.281\n",
      "Rice (Milled Equivalent)            0.2263      0.031      7.326      0.000         0.165     0.288\n",
      "Butter, Ghee                             0          0        nan        nan             0         0\n",
      "Fats, Animals, Raw                 -0.3538      0.532     -0.665      0.508        -1.414     0.707\n",
      "Crustaceans                              0          0        nan        nan             0         0\n",
      "Marine Fish, Other                  0.1034      0.276      0.375      0.709        -0.447     0.654\n",
      "Aquatic Plants                           0          0        nan        nan             0         0\n",
      "Pigmeat                                  0          0        nan        nan             0         0\n",
      "Freshwater Fish                          0          0        nan        nan             0         0\n",
      "Poultry Meat                       -0.1440      0.207     -0.696      0.488        -0.556     0.268\n",
      "Fish, Liver Oil                    -0.1700      0.359     -0.473      0.638        -0.886     0.546\n",
      "Meat, Other                         0.0280      0.329      0.085      0.932        -0.627     0.683\n",
      "Cephalopods                        -0.8860      0.629     -1.409      0.163        -2.140     0.368\n",
      "Mutton & Goat Meat                  0.1610      0.191      0.844      0.401        -0.219     0.541\n",
      "Pelagic Fish                       -0.0466      0.208     -0.224      0.824        -0.462     0.369\n",
      "Bovine Meat                         0.0752      0.136      0.553      0.582        -0.196     0.346\n",
      "Molluscs, Other                          0          0        nan        nan             0         0\n",
      "Fish, Body Oil                      0.4029      0.463      0.870      0.387        -0.521     1.327\n",
      "Aquatic Animals, Others             0.0730      0.257      0.284      0.778        -0.440     0.586\n",
      "Honey                                    0          0        nan        nan             0         0\n",
      "Offals, Edible                           0          0        nan        nan             0         0\n",
      "Demersal Fish                      -0.0646      0.296     -0.218      0.828        -0.655     0.526\n",
      "Cream                               0.3115      0.408      0.763      0.448        -0.503     1.126\n",
      "==============================================================================\n",
      "Omnibus:                       58.030   Durbin-Watson:                   2.063\n",
      "Prob(Omnibus):                  0.000   Jarque-Bera (JB):              199.335\n",
      "Skew:                           1.421   Prob(JB):                     5.19e-44\n",
      "Kurtosis:                       7.795   Cond. No.                         552.\n",
      "==============================================================================\n",
      "\n",
      "Warnings:\n",
      "[1] Standard Errors assume that the covariance matrix of the errors is correctly specified.\n"
     ]
    }
   ],
   "source": [
    "# Fit linear model with risk of death in 2000 as response variable\n",
    "deaths100k_resp_model_lasso = sm.OLS(y_death_100k_resp_lasso, X)\n",
    "deaths100k_resp_results_lasso = deaths100k_resp_model_lasso.fit_regularized(alpha = 8.0)\n",
    "print(deaths100k_resp_results_lasso.summary())"
   ]
  },
  {
   "cell_type": "markdown",
   "metadata": {},
   "source": [
    "When considering the age-standardized mortality rate from respiratory disease as the response variable, both the Omnibus and Jarque-Bera Tests reject the null hypothesis of normality in the residuals."
   ]
  },
  {
   "cell_type": "code",
   "execution_count": 37,
   "metadata": {
    "collapsed": false
   },
   "outputs": [
    {
     "data": {
      "image/png": "[encoded data removed]",
      "text/plain": [
       "<matplotlib.figure.Figure at 0xd9f1c88>"
      ]
     },
     "metadata": {},
     "output_type": "display_data"
    }
   ],
   "source": [
    "plot_sig_coeffs(deaths100k_resp_results_lasso, 0.1)"
   ]
  },
  {
   "cell_type": "markdown",
   "metadata": {},
   "source": [
    "Lastly, we will pickle all the models we have fit here so we can perform further analysis later."
   ]
  },
  {
   "cell_type": "code",
   "execution_count": 40,
   "metadata": {
    "collapsed": false
   },
   "outputs": [],
   "source": [
    "# pickling models\n",
    "pickle.dump(risk_2000_results_lasso, open('data/models/risk_results_lasso.p', 'wb'))\n",
    "pickle.dump(deaths100k_results_lasso, open('data/models/deaths_all_results_lasso.p', 'wb'))\n",
    "pickle.dump(deaths100k_cancer_results_lasso, open('data/models/deaths_cancer_results_lasso.p', 'wb'))\n",
    "pickle.dump(deaths100k_cardio_results_lasso, open('data/models/deaths_cardio_results_lasso.p', 'wb'))\n",
    "pickle.dump(deaths100k_diabetes_results_lasso, open('data/models/deaths_diabetes_results_lasso.p', 'wb'))\n",
    "pickle.dump(deaths100k_resp_results_lasso, open('data/models/deaths_resp_results_lasso.p', 'wb'))"
   ]
  }
 ],
 "metadata": {
  "anaconda-cloud": {},
  "kernelspec": {
   "display_name": "Python [Root]",
   "language": "python",
   "name": "Python [Root]"
  },
  "language_info": {
   "codemirror_mode": {
    "name": "ipython",
    "version": 2
   },
   "file_extension": ".py",
   "mimetype": "text/x-python",
   "name": "python",
   "nbconvert_exporter": "python",
   "pygments_lexer": "ipython2",
   "version": "2.7.12"
  }
 },
 "nbformat": 4,
 "nbformat_minor": 0
}
