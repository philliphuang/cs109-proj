{
 "cells": [
  {
   "cell_type": "markdown",
   "metadata": {},
   "source": [
    "# Notebook 9: Advanced Models\n",
    "This notebook contains our exploration more sophisticated models. "
   ]
  },
  {
   "cell_type": "code",
   "execution_count": 4,
   "metadata": {
    "collapsed": true
   },
   "outputs": [],
   "source": [
    "# Import packages\n",
    "import numpy as np\n",
    "import pandas as pd\n",
    "import matplotlib\n",
    "import matplotlib.pyplot as plt\n",
    "import statsmodels.formula.api as sm\n",
    "import pickle\n",
    "from collections import Counter\n",
    "import sklearn as sk\n",
    "from sklearn.preprocessing import Imputer\n",
    "from sklearn import linear_model\n",
    "%matplotlib inline"
   ]
  },
  {
   "cell_type": "code",
   "execution_count": 5,
   "metadata": {
    "collapsed": true
   },
   "outputs": [],
   "source": [
    "# Load cleaned NCD data from pickled files\n",
    "out = open('data/clean/deaths_100k.p', 'r')\n",
    "deaths_100k = pickle.load(out)\n",
    "out.close()\n",
    "out = open('data/clean/risk.p', 'r')\n",
    "risk_of_death = pickle.load(out)\n",
    "out.close()\n",
    "out = open('data/clean/crops.p', 'r')\n",
    "crops = pickle.load(out)\n",
    "out.close()\n",
    "out = open('data/clean/meat.p', 'r')\n",
    "meat = pickle.load(out)\n",
    "out.close()\n",
    "out = open('data/clean/var_desc_livestock.p', 'r')\n",
    "livestock_desc = pickle.load(out)\n",
    "out.close()\n",
    "out = open('data/clean/var_desc_crops.p', 'r')\n",
    "crops_desc = pickle.load(out)\n",
    "out.close()\n",
    "\n",
    "# load cleaned food data with redundant variables removed\n",
    "out = open('data/final/food_1970_2000_cleaned.p', 'r')\n",
    "food_1970_2000_cleaned = pickle.load(out)\n",
    "\n",
    "# Get response variables\n",
    "deaths_100k_all_2000 = deaths_100k['all'][2000]\n",
    "deaths_100k_cancer_2000 = deaths_100k['cancer'][2000]\n",
    "deaths_100k_cardio_2000 = deaths_100k['cardio'][2000]\n",
    "deaths_100k_diabetes_2000 = deaths_100k['diabetes'][2000]\n",
    "deaths_100k_resp_2000 = deaths_100k['resp'][2000]\n",
    "\n",
    "risk_of_death_2000 = risk_of_death[2000]\n",
    "\n",
    "time_period = range(1970, 2000)\n",
    "\n",
    "# Calculate the mean for each crop/meat over the period 1970-2000\n",
    "food_1970_2000 = pd.DataFrame(index=risk_of_death.index)\n",
    "\n",
    "for crop in crops.iterkeys():\n",
    "    food_1970_2000[crop] = crops[crop][time_period].mean(axis=1)\n",
    "    \n",
    "for m in meat.iterkeys():\n",
    "    food_1970_2000[m] = meat[m][time_period].mean(axis=1)\n",
    "\n",
    "# list of countries to drop due to being less than 50% full\n",
    "countries_to_drop = []\n",
    "\n",
    "for index, row in food_1970_2000.iterrows():\n",
    "    if row.isnull().sum() > len(row) / 2:\n",
    "        countries_to_drop.append(index)"
   ]
  },
  {
   "cell_type": "markdown",
   "metadata": {},
   "source": [
    "# I. Lasso Regression\n",
    "To do variable selection efficiently, as explained in Baseline Models and Revised Baseline Models."
   ]
  },
  {
   "cell_type": "markdown",
   "metadata": {},
   "source": [
    "## Risk of Death in 2000 as Response Variable"
   ]
  },
  {
   "cell_type": "markdown",
   "metadata": {},
   "source": [
    "We use `sklearn`'s `GridSearchCV` function to find the best hyperparameter ($\\alpha$) value."
   ]
  },
  {
   "cell_type": "code",
   "execution_count": 6,
   "metadata": {
    "collapsed": false
   },
   "outputs": [
    {
     "ename": "AttributeError",
     "evalue": "'module' object has no attribute 'grid_search'",
     "output_type": "error",
     "traceback": [
      "\u001b[0;31m---------------------------------------------------------------------------\u001b[0m",
      "\u001b[0;31mAttributeError\u001b[0m                            Traceback (most recent call last)",
      "\u001b[0;32m<ipython-input-6-22feb55d13f5>\u001b[0m in \u001b[0;36m<module>\u001b[0;34m()\u001b[0m\n\u001b[1;32m     12\u001b[0m }\n\u001b[1;32m     13\u001b[0m \u001b[0;34m\u001b[0m\u001b[0m\n\u001b[0;32m---> 14\u001b[0;31m \u001b[0mCV_model\u001b[0m \u001b[0;34m=\u001b[0m \u001b[0msk\u001b[0m\u001b[0;34m.\u001b[0m\u001b[0mgrid_search\u001b[0m\u001b[0;34m.\u001b[0m\u001b[0mGridSearchCV\u001b[0m\u001b[0;34m(\u001b[0m\u001b[0mlasso\u001b[0m\u001b[0;34m,\u001b[0m \u001b[0mparam_grid\u001b[0m\u001b[0;34m=\u001b[0m\u001b[0mparams\u001b[0m\u001b[0;34m,\u001b[0m \u001b[0mcv\u001b[0m\u001b[0;34m=\u001b[0m\u001b[0;36m5\u001b[0m\u001b[0;34m)\u001b[0m\u001b[0;34m\u001b[0m\u001b[0m\n\u001b[0m\u001b[1;32m     15\u001b[0m \u001b[0mCV_model\u001b[0m\u001b[0;34m.\u001b[0m\u001b[0mfit\u001b[0m\u001b[0;34m(\u001b[0m\u001b[0mX\u001b[0m\u001b[0;34m,\u001b[0m \u001b[0my_death_lasso\u001b[0m\u001b[0;34m)\u001b[0m\u001b[0;34m\u001b[0m\u001b[0m\n\u001b[1;32m     16\u001b[0m \u001b[0mCV_model\u001b[0m\u001b[0;34m.\u001b[0m\u001b[0mbest_params_\u001b[0m\u001b[0;34m\u001b[0m\u001b[0m\n",
      "\u001b[0;31mAttributeError\u001b[0m: 'module' object has no attribute 'grid_search'"
     ]
    }
   ],
   "source": [
    "lasso = linear_model.Lasso(alpha = 1.0)\n",
    "X = food_1970_2000_cleaned.values\n",
    "y_death_lasso = risk_of_death_2000.drop(countries_to_drop).values\n",
    "lasso.fit(X, y_death_lasso)\n",
    "lasso.score(X, y_death_lasso)\n",
    "lasso.coef_\n",
    "params = {\n",
    "    'alpha': [0,0.3,0.6,1.0,1.3,1.6,2.0,2.3,2.6,3.0,4.0,5.0, 6.0, 7.0, 8.0] + \n",
    "             [4.3, 4.6, 5.3, 5.6, 6.0, 6.3, 6.6, 7.0],\n",
    "    'fit_intercept': [True, False],\n",
    "    'normalize': [True, False],\n",
    "}\n",
    "\n",
    "CV_model = sk.grid_search.GridSearchCV(lasso, param_grid=params, cv=5)\n",
    "CV_model.fit(X, y_death_lasso)\n",
    "CV_model.best_params_"
   ]
  },
  {
   "cell_type": "markdown",
   "metadata": {},
   "source": [
    "We then fit the model using the optimum alpha provided to fit the model using `statsmodels`."
   ]
  },
  {
   "cell_type": "code",
   "execution_count": null,
   "metadata": {
    "collapsed": true
   },
   "outputs": [],
   "source": [
    "# Fit linear model with risk of death in 2000 as response variable\n",
    "risk_2000_model_lasso = sm.OLS(risk_of_death_2000.drop(countries_to_drop), food_1970_2000_cleaned)\n",
    "risk_2000_results_lasso = risk_2000_model_lasso.fit_regularized(alpha = 5.6)\n",
    "print(risk_2000_results_lasso.summary())"
   ]
  },
  {
   "cell_type": "markdown",
   "metadata": {},
   "source": [
    "Checking the same diagnostics as before, while the Condition Number is much smaller (indicating a reduced likelihood of multicollinearity affecting the model), for the model considering overall percentage risk of death in 2000 the residuals do not appear to be normally distributed (according to the Omnibus and Jarque-Bera Tests), so we should address that issue in follow-up models."
   ]
  },
  {
   "cell_type": "code",
   "execution_count": null,
   "metadata": {
    "collapsed": true
   },
   "outputs": [],
   "source": [
    "plot_sig_coeffs(risk_2000_results_lasso, 0.1)"
   ]
  },
  {
   "cell_type": "markdown",
   "metadata": {},
   "source": [
    "## Deaths per 100k from All Causes as Response Variable"
   ]
  },
  {
   "cell_type": "code",
   "execution_count": null,
   "metadata": {
    "collapsed": true
   },
   "outputs": [],
   "source": [
    "lasso = linear_model.Lasso(alpha = 1.0)\n",
    "X = food_1970_2000_cleaned\n",
    "y_death_100k_cancer_lasso = deaths_100k_all_2000.drop(countries_to_drop).sort_index().loc[food_1970_2000_cleaned.index].values\n",
    "lasso.fit(X, y_death_100k_cancer_lasso)\n",
    "lasso.score(X, y_death_100k_cancer_lasso)\n",
    "lasso.coef_\n",
    "params = {\n",
    "    'alpha': [0,0.3,0.6,1.0,1.3,1.6,2.0,2.3,2.6,3.0,4.0,5.0],\n",
    "    'fit_intercept': [True, False],\n",
    "    'normalize': [True, False],\n",
    "}\n",
    "\n",
    "CV_model = sk.grid_search.GridSearchCV(lasso, param_grid=params, cv=5)\n",
    "CV_model.fit(X, y_death_100k_cancer_lasso)\n",
    "CV_model.best_params_"
   ]
  }
 ],
 "metadata": {
  "kernelspec": {
   "display_name": "Python [Root]",
   "language": "python",
   "name": "Python [Root]"
  },
  "language_info": {
   "codemirror_mode": {
    "name": "ipython",
    "version": 2
   },
   "file_extension": ".py",
   "mimetype": "text/x-python",
   "name": "python",
   "nbconvert_exporter": "python",
   "pygments_lexer": "ipython2",
   "version": "2.7.12"
  }
 },
 "nbformat": 4,
 "nbformat_minor": 0
}
