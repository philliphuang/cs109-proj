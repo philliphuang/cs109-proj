{
 "cells": [
  {
   "cell_type": "markdown",
   "metadata": {},
   "source": [
    "# CS 109 Project: Visualization\n",
    "Work by Harry Xue"
   ]
  },
  {
   "cell_type": "code",
   "execution_count": 1,
   "metadata": {
    "collapsed": false
   },
   "outputs": [
    {
     "ename": "ImportError",
     "evalue": "No module named plotly",
     "output_type": "error",
     "traceback": [
      "\u001b[1;31m---------------------------------------------------------------------------\u001b[0m",
      "\u001b[1;31mImportError\u001b[0m                               Traceback (most recent call last)",
      "\u001b[1;32m<ipython-input-1-e1b05eca77ad>\u001b[0m in \u001b[0;36m<module>\u001b[1;34m()\u001b[0m\n\u001b[0;32m      1\u001b[0m \u001b[1;32mimport\u001b[0m \u001b[0mpickle\u001b[0m\u001b[1;33m\u001b[0m\u001b[0m\n\u001b[0;32m      2\u001b[0m \u001b[1;32mimport\u001b[0m \u001b[0mpandas\u001b[0m \u001b[1;32mas\u001b[0m \u001b[0mpd\u001b[0m\u001b[1;33m\u001b[0m\u001b[0m\n\u001b[1;32m----> 3\u001b[1;33m \u001b[1;32mimport\u001b[0m \u001b[0mplotly\u001b[0m\u001b[1;33m\u001b[0m\u001b[0m\n\u001b[0m\u001b[0;32m      4\u001b[0m \u001b[1;32mfrom\u001b[0m \u001b[0mplotly\u001b[0m\u001b[1;33m.\u001b[0m\u001b[0moffline\u001b[0m \u001b[1;32mimport\u001b[0m \u001b[0mdownload_plotlyjs\u001b[0m\u001b[1;33m,\u001b[0m \u001b[0minit_notebook_mode\u001b[0m\u001b[1;33m,\u001b[0m \u001b[0mplot\u001b[0m\u001b[1;33m,\u001b[0m \u001b[0miplot\u001b[0m\u001b[1;33m,\u001b[0m \u001b[0minit_notebook_mode\u001b[0m\u001b[1;33m\u001b[0m\u001b[0m\n\u001b[0;32m      5\u001b[0m \u001b[0mplotly\u001b[0m\u001b[1;33m.\u001b[0m\u001b[0moffline\u001b[0m\u001b[1;33m.\u001b[0m\u001b[0minit_notebook_mode\u001b[0m\u001b[1;33m(\u001b[0m\u001b[1;33m)\u001b[0m\u001b[1;33m\u001b[0m\u001b[0m\n",
      "\u001b[1;31mImportError\u001b[0m: No module named plotly"
     ]
    }
   ],
   "source": [
    "import pickle\n",
    "import pandas as pd\n",
    "import plotly\n",
    "from plotly.offline import download_plotlyjs, init_notebook_mode, plot, iplot, init_notebook_mode\n",
    "plotly.offline.init_notebook_mode()\n",
    "from ipywidgets import interact, interactive, fixed\n",
    "from ipywidgets import *\n",
    "from IPython.display import display"
   ]
  },
  {
   "cell_type": "markdown",
   "metadata": {},
   "source": [
    "# Read Cleaned Data"
   ]
  },
  {
   "cell_type": "code",
   "execution_count": null,
   "metadata": {
    "collapsed": false
   },
   "outputs": [],
   "source": [
    "# Load cleaned NCD data from pickled files\n",
    "deaths_100k = pickle.load(open('data/clean/deaths_100k.p', 'rb'))\n",
    "risk_of_death = pickle.load(open('data/clean/risk.p', 'rb'))\n",
    "crops = pickle.load(open('data/clean/crops.p', 'rb'))\n",
    "meat = pickle.load(open('data/clean/meat.p', 'rb'))\n",
    "doctors = pickle.load(open('data/clean/doctors.p', 'rb'))\n",
    "beds = pickle.load(open('data/clean/beds.p', 'rb'))"
   ]
  },
  {
   "cell_type": "code",
   "execution_count": null,
   "metadata": {
    "collapsed": false
   },
   "outputs": [],
   "source": [
    "# TODO: Pretty-format the categories\n",
    "deaths_100k.keys()"
   ]
  },
  {
   "cell_type": "code",
   "execution_count": null,
   "metadata": {
    "collapsed": false
   },
   "outputs": [],
   "source": [
    "deaths_100k['all'].head()"
   ]
  },
  {
   "cell_type": "code",
   "execution_count": null,
   "metadata": {
    "collapsed": false
   },
   "outputs": [],
   "source": [
    "risk_of_death.head()"
   ]
  },
  {
   "cell_type": "code",
   "execution_count": null,
   "metadata": {
    "collapsed": false
   },
   "outputs": [],
   "source": [
    "meat.keys()\n"
   ]
  },
  {
   "cell_type": "code",
   "execution_count": null,
   "metadata": {
    "collapsed": false
   },
   "outputs": [],
   "source": [
    "meat['Eggs'].head()"
   ]
  },
  {
   "cell_type": "code",
   "execution_count": null,
   "metadata": {
    "collapsed": false
   },
   "outputs": [],
   "source": [
    "crops.keys()"
   ]
  },
  {
   "cell_type": "code",
   "execution_count": null,
   "metadata": {
    "collapsed": false
   },
   "outputs": [],
   "source": [
    "crops[\"Ricebran Oil\"].head()"
   ]
  },
  {
   "cell_type": "code",
   "execution_count": null,
   "metadata": {
    "collapsed": false
   },
   "outputs": [],
   "source": [
    "doctors.head()"
   ]
  },
  {
   "cell_type": "code",
   "execution_count": null,
   "metadata": {
    "collapsed": false
   },
   "outputs": [],
   "source": [
    "beds.head()"
   ]
  },
  {
   "cell_type": "markdown",
   "metadata": {},
   "source": [
    "# Interactive Choropleth Visualization"
   ]
  },
  {
   "cell_type": "code",
   "execution_count": null,
   "metadata": {
    "collapsed": false
   },
   "outputs": [],
   "source": [
    "# TODO: Account for the country names not recognized by plotly\n",
    "def plot_choropleth(country_names, year, data_dict, df, title, colorbar_title, colorscale=\"Hot\"):\n",
    "    '''\n",
    "        Generic function to plot interactive plotly choropleth for given data\n",
    "\n",
    "        Args:\n",
    "            country_names: list of country names\n",
    "            year: year of data corresponding to column in dataframe\n",
    "            data_dict: (optional) dictionary of dataframes to use for this visualization\n",
    "            df: dataframe within data_dict to plot\n",
    "            title: title of plot\n",
    "            colorbar_title: label for colorscale\n",
    "            colorscale: colorscale for coloring of choropleth\n",
    "    '''\n",
    "    data = [ dict(\n",
    "            type = 'choropleth',\n",
    "            locations = country_names,\n",
    "            locationmode = \"country names\",\n",
    "            z = data_dict[df][year].values if data_dict is not None else df[year].values,\n",
    "            text = country_names,\n",
    "            colorscale = colorscale,\n",
    "            autocolorscale = False,\n",
    "            reversescale = True,\n",
    "            marker = dict(\n",
    "                line = dict (\n",
    "                    color = 'rgb(180,180,180)',\n",
    "                    width = 0.5\n",
    "                ) ),\n",
    "            colorbar = dict(\n",
    "                autotick = False,\n",
    "                title = colorbar_title),\n",
    "          ) ]\n",
    "\n",
    "    layout = dict(\n",
    "        title = title + \" in \" + str(year),\n",
    "        geo = dict(\n",
    "            showframe = False,\n",
    "            showcoastlines = False,\n",
    "            projection = dict(\n",
    "                type = 'Mercator'\n",
    "            )\n",
    "        )\n",
    "    )\n",
    "\n",
    "    fig = dict( data=data, layout=layout )\n",
    "    iplot( fig, validate=False, filename='d3-world-map' )"
   ]
  },
  {
   "cell_type": "markdown",
   "metadata": {},
   "source": [
    "# Deaths from Non-Communicable Diseases (NCD) by Country"
   ]
  },
  {
   "cell_type": "code",
   "execution_count": null,
   "metadata": {
    "collapsed": false
   },
   "outputs": [],
   "source": [
    "interact(plot_choropleth, \n",
    "         country_names=fixed(deaths_100k['all'].index.values), \n",
    "         year=(2000, 2012, 12), \n",
    "         data_dict=fixed(deaths_100k),\n",
    "         df=['all', 'cardio', 'resp', 'cancer', 'diabetes'], \n",
    "         title=fixed(\"Deaths from NCD per 100k People\"), \n",
    "         colorbar_title=fixed(\"Deaths per 100k People\"),\n",
    "         colorscale=fixed(\"Hot\"))"
   ]
  },
  {
   "cell_type": "markdown",
   "metadata": {},
   "source": [
    "# Risk of Death from NCD by Country"
   ]
  },
  {
   "cell_type": "code",
   "execution_count": null,
   "metadata": {
    "collapsed": false
   },
   "outputs": [],
   "source": [
    "interact(plot_choropleth, \n",
    "         country_names=fixed(risk_of_death.index.values), \n",
    "         year=(2000,2012,12), \n",
    "         data_dict=fixed(None),\n",
    "         df=fixed(risk_of_death), \n",
    "         title=fixed(\"Percentage Risk of Death from NCD for 30-year-old\"), \n",
    "         colorbar_title=fixed(\"% Risk of Death\"),\n",
    "         colorscale=fixed(\"Hot\"))"
   ]
  },
  {
   "cell_type": "markdown",
   "metadata": {},
   "source": [
    "# Crop Supply by Country"
   ]
  },
  {
   "cell_type": "code",
   "execution_count": null,
   "metadata": {
    "collapsed": false,
    "scrolled": true
   },
   "outputs": [],
   "source": [
    "interact(plot_choropleth, \n",
    "         country_names=fixed(deaths_100k['all'].index.values), \n",
    "         year=(1961, 2013), \n",
    "         data_dict=fixed(crops),\n",
    "         df=tuple(crops.keys()), \n",
    "         title=fixed(\"Crop Supply by Country\"), \n",
    "         colorbar_title=fixed(\"Crop Supply (g/capita/day)\"),\n",
    "         colorscale=fixed(\"Hot\"))"
   ]
  },
  {
   "cell_type": "markdown",
   "metadata": {},
   "source": [
    "# Livestock Supply by Country"
   ]
  },
  {
   "cell_type": "code",
   "execution_count": null,
   "metadata": {
    "collapsed": false
   },
   "outputs": [],
   "source": [
    "interact(plot_choropleth, \n",
    "         country_names=fixed(deaths_100k['all'].index.values), \n",
    "         year=(1961, 2013), \n",
    "         data_dict=fixed(meat),\n",
    "         df=tuple(meat.keys()), \n",
    "         title=fixed(\"Livestock Supply by Country\"), \n",
    "         colorbar_title=fixed(\"Livestock Supply (g/capita/day)\"),\n",
    "         colorscale=fixed(\"Hot\"))"
   ]
  },
  {
   "cell_type": "markdown",
   "metadata": {},
   "source": [
    "# Additional Data:\n",
    "We found these additional datasets, however we may or may not use them later due to sparsity"
   ]
  },
  {
   "cell_type": "markdown",
   "metadata": {},
   "source": [
    "# Physicians per 1000 People"
   ]
  },
  {
   "cell_type": "code",
   "execution_count": null,
   "metadata": {
    "collapsed": false
   },
   "outputs": [],
   "source": [
    "interact(plot_choropleth, \n",
    "         country_names=fixed(doctors.index.values), \n",
    "         year=(1960, 2012, 1), \n",
    "         data_dict=fixed(None),\n",
    "         df=fixed(doctors), \n",
    "         title=fixed(\"Physicians per 1000 People\"), \n",
    "         colorbar_title=fixed(\"Physicians per 1000 People\"),\n",
    "         colorscale=fixed(\"Blues\"))"
   ]
  },
  {
   "cell_type": "markdown",
   "metadata": {},
   "source": [
    "# Hospital Beds per 1000 People"
   ]
  },
  {
   "cell_type": "code",
   "execution_count": null,
   "metadata": {
    "collapsed": false
   },
   "outputs": [],
   "source": [
    "interact(plot_choropleth, \n",
    "         country_names=fixed(beds.index.values), \n",
    "         year=(1960, 2016, 1), \n",
    "         data_dict=fixed(None),\n",
    "         df=fixed(beds), \n",
    "         title=fixed(\"Hospital Beds per 1000 People\"), \n",
    "         colorbar_title=fixed(\"Hospital Beds per 1000 People\"),\n",
    "         colorscale=fixed(\"Blues\"))"
   ]
  },
  {
   "cell_type": "code",
   "execution_count": null,
   "metadata": {
    "collapsed": true
   },
   "outputs": [],
   "source": []
  }
 ],
 "metadata": {
  "anaconda-cloud": {},
  "kernelspec": {
   "display_name": "Python [Root]",
   "language": "python",
   "name": "Python [Root]"
  },
  "language_info": {
   "codemirror_mode": {
    "name": "ipython",
    "version": 2
   },
   "file_extension": ".py",
   "mimetype": "text/x-python",
   "name": "python",
   "nbconvert_exporter": "python",
   "pygments_lexer": "ipython2",
   "version": "2.7.12"
  },
  "widgets": {
   "state": {
    "9a1323ab13c74298b71cf4b4fa00cc69": {
     "views": [
      {
       "cell_index": 14
      }
     ]
    },
    "b699edf71b334a6f829e4930827fb8bd": {
     "views": [
      {
       "cell_index": 22
      }
     ]
    },
    "c1580c9e421543d5a79d3b763167460f": {
     "views": [
      {
       "cell_index": 18
      }
     ]
    },
    "c9a7b3e44c624a5f93512ff760163c9c": {
     "views": [
      {
       "cell_index": 20
      }
     ]
    },
    "d6823166b7ff49a897a4d72557ed81e2": {
     "views": [
      {
       "cell_index": 23
      }
     ]
    },
    "dd7a14ecee324075b3356c6627125dff": {
     "views": [
      {
       "cell_index": 16
      }
     ]
    },
    "e598b5faa1be4508b6656e1b50910f47": {
     "views": [
      {
       "cell_index": 26
      }
     ]
    }
   },
   "version": "1.2.0"
  }
 },
 "nbformat": 4,
 "nbformat_minor": 0
}
