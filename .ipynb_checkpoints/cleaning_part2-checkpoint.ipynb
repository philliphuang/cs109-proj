{
 "cells": [
  {
   "cell_type": "markdown",
   "metadata": {},
   "source": [
    "# CS109 Project: Additional Data Cleaning\n",
    "By Phillip Huang & Chris Chen"
   ]
  },
  {
   "cell_type": "code",
   "execution_count": 69,
   "metadata": {
    "collapsed": true
   },
   "outputs": [],
   "source": [
    "%matplotlib inline\n",
    "import numpy as np\n",
    "import pandas as pd\n",
    "import scipy as sp\n",
    "import sklearn as sk\n",
    "import matplotlib as plt\n",
    "import pickle\n",
    "\n",
    "from collections import Counter\n",
    "\n",
    "from IPython.core.interactiveshell import InteractiveShell\n",
    "InteractiveShell.ast_node_interactivity = \"all\""
   ]
  },
  {
   "cell_type": "markdown",
   "metadata": {},
   "source": [
    "### Part 1: Clean exercise data\n",
    "The WHO provides two versions of the exercise data, with little description of the differences. Let's take a preliminary look."
   ]
  },
  {
   "cell_type": "code",
   "execution_count": 2,
   "metadata": {
    "collapsed": false,
    "scrolled": true
   },
   "outputs": [
    {
     "data": {
      "text/html": [
       "<div>\n",
       "<table border=\"1\" class=\"dataframe\">\n",
       "  <thead>\n",
       "    <tr style=\"text-align: right;\">\n",
       "      <th></th>\n",
       "      <th>Country</th>\n",
       "      <th>Year</th>\n",
       "      <th>Age Group</th>\n",
       "      <th>Both sexes</th>\n",
       "      <th>Female</th>\n",
       "      <th>Male</th>\n",
       "      <th>Both sexes.1</th>\n",
       "      <th>Female.1</th>\n",
       "      <th>Male.1</th>\n",
       "    </tr>\n",
       "  </thead>\n",
       "  <tbody>\n",
       "    <tr>\n",
       "      <th>0</th>\n",
       "      <td>Afghanistan</td>\n",
       "      <td>2010</td>\n",
       "      <td>18+  years</td>\n",
       "      <td>NaN</td>\n",
       "      <td>NaN</td>\n",
       "      <td>NaN</td>\n",
       "      <td>NaN</td>\n",
       "      <td>NaN</td>\n",
       "      <td>NaN</td>\n",
       "    </tr>\n",
       "    <tr>\n",
       "      <th>1</th>\n",
       "      <td>Albania</td>\n",
       "      <td>2010</td>\n",
       "      <td>18+  years</td>\n",
       "      <td>NaN</td>\n",
       "      <td>NaN</td>\n",
       "      <td>NaN</td>\n",
       "      <td>NaN</td>\n",
       "      <td>NaN</td>\n",
       "      <td>NaN</td>\n",
       "    </tr>\n",
       "    <tr>\n",
       "      <th>2</th>\n",
       "      <td>Algeria</td>\n",
       "      <td>2010</td>\n",
       "      <td>18+  years</td>\n",
       "      <td>34.4 [30.5-38.5]</td>\n",
       "      <td>41.2 [35.7-46.9]</td>\n",
       "      <td>27.7 [22.3-33.6]</td>\n",
       "      <td>32.5 [28.6-36.6]</td>\n",
       "      <td>39.4 [33.9-45.1]</td>\n",
       "      <td>25.8 [20.4-31.7]</td>\n",
       "    </tr>\n",
       "    <tr>\n",
       "      <th>3</th>\n",
       "      <td>Andorra</td>\n",
       "      <td>2010</td>\n",
       "      <td>18+  years</td>\n",
       "      <td>26.1 [11.6-66.5]</td>\n",
       "      <td>29.7 [8.3-66.1]</td>\n",
       "      <td>22.4 [6.9-60.3]</td>\n",
       "      <td>30.9 [15.6-72.6]</td>\n",
       "      <td>34.7 [10.2-69.8]</td>\n",
       "      <td>27.2 [8.9-65.3]</td>\n",
       "    </tr>\n",
       "    <tr>\n",
       "      <th>4</th>\n",
       "      <td>Angola</td>\n",
       "      <td>2010</td>\n",
       "      <td>18+  years</td>\n",
       "      <td>NaN</td>\n",
       "      <td>NaN</td>\n",
       "      <td>NaN</td>\n",
       "      <td>NaN</td>\n",
       "      <td>NaN</td>\n",
       "      <td>NaN</td>\n",
       "    </tr>\n",
       "  </tbody>\n",
       "</table>\n",
       "</div>"
      ],
      "text/plain": [
       "       Country  Year   Age Group        Both sexes            Female  \\\n",
       "0  Afghanistan  2010  18+  years               NaN               NaN   \n",
       "1      Albania  2010  18+  years               NaN               NaN   \n",
       "2      Algeria  2010  18+  years  34.4 [30.5-38.5]  41.2 [35.7-46.9]   \n",
       "3      Andorra  2010  18+  years  26.1 [11.6-66.5]   29.7 [8.3-66.1]   \n",
       "4       Angola  2010  18+  years               NaN               NaN   \n",
       "\n",
       "               Male      Both sexes.1          Female.1            Male.1  \n",
       "0               NaN               NaN               NaN               NaN  \n",
       "1               NaN               NaN               NaN               NaN  \n",
       "2  27.7 [22.3-33.6]  32.5 [28.6-36.6]  39.4 [33.9-45.1]  25.8 [20.4-31.7]  \n",
       "3   22.4 [6.9-60.3]  30.9 [15.6-72.6]  34.7 [10.2-69.8]   27.2 [8.9-65.3]  \n",
       "4               NaN               NaN               NaN               NaN  "
      ]
     },
     "execution_count": 2,
     "metadata": {},
     "output_type": "execute_result"
    },
    {
     "data": {
      "text/html": [
       "<div>\n",
       "<table border=\"1\" class=\"dataframe\">\n",
       "  <thead>\n",
       "    <tr style=\"text-align: right;\">\n",
       "      <th></th>\n",
       "      <th>Country</th>\n",
       "      <th>Year</th>\n",
       "      <th>Age Group</th>\n",
       "      <th>Both sexes</th>\n",
       "      <th>Female</th>\n",
       "      <th>Male</th>\n",
       "      <th>Both sexes.1</th>\n",
       "      <th>Female.1</th>\n",
       "      <th>Male.1</th>\n",
       "    </tr>\n",
       "  </thead>\n",
       "  <tbody>\n",
       "    <tr>\n",
       "      <th>0</th>\n",
       "      <td>Afghanistan</td>\n",
       "      <td>2010</td>\n",
       "      <td>18+  years</td>\n",
       "      <td>NaN</td>\n",
       "      <td>NaN</td>\n",
       "      <td>NaN</td>\n",
       "      <td>NaN</td>\n",
       "      <td>NaN</td>\n",
       "      <td>NaN</td>\n",
       "    </tr>\n",
       "    <tr>\n",
       "      <th>1</th>\n",
       "      <td>Albania</td>\n",
       "      <td>2010</td>\n",
       "      <td>18+  years</td>\n",
       "      <td>NaN</td>\n",
       "      <td>NaN</td>\n",
       "      <td>NaN</td>\n",
       "      <td>NaN</td>\n",
       "      <td>NaN</td>\n",
       "      <td>NaN</td>\n",
       "    </tr>\n",
       "    <tr>\n",
       "      <th>2</th>\n",
       "      <td>Algeria</td>\n",
       "      <td>2010</td>\n",
       "      <td>18+  years</td>\n",
       "      <td>34.4 [30.5-38.5]</td>\n",
       "      <td>41.2 [35.7-46.9]</td>\n",
       "      <td>27.7 [22.3-33.6]</td>\n",
       "      <td>32.5 [28.6-36.6]</td>\n",
       "      <td>39.4 [33.9-45.1]</td>\n",
       "      <td>25.8 [20.4-31.7]</td>\n",
       "    </tr>\n",
       "    <tr>\n",
       "      <th>3</th>\n",
       "      <td>Andorra</td>\n",
       "      <td>2010</td>\n",
       "      <td>18+  years</td>\n",
       "      <td>26.1 [11.6-66.5]</td>\n",
       "      <td>29.7 [8.3-66.1]</td>\n",
       "      <td>22.4 [6.9-60.3]</td>\n",
       "      <td>30.9 [15.6-72.6]</td>\n",
       "      <td>34.7 [10.2-69.8]</td>\n",
       "      <td>27.2 [8.9-65.3]</td>\n",
       "    </tr>\n",
       "    <tr>\n",
       "      <th>4</th>\n",
       "      <td>Angola</td>\n",
       "      <td>2010</td>\n",
       "      <td>18+  years</td>\n",
       "      <td>NaN</td>\n",
       "      <td>NaN</td>\n",
       "      <td>NaN</td>\n",
       "      <td>NaN</td>\n",
       "      <td>NaN</td>\n",
       "      <td>NaN</td>\n",
       "    </tr>\n",
       "  </tbody>\n",
       "</table>\n",
       "</div>"
      ],
      "text/plain": [
       "       Country  Year    Age Group        Both sexes            Female  \\\n",
       "0  Afghanistan  2010   18+  years               NaN               NaN   \n",
       "1      Albania  2010   18+  years               NaN               NaN   \n",
       "2      Algeria  2010   18+  years  34.4 [30.5-38.5]  41.2 [35.7-46.9]   \n",
       "3      Andorra  2010   18+  years  26.1 [11.6-66.5]   29.7 [8.3-66.1]   \n",
       "4       Angola  2010   18+  years               NaN               NaN   \n",
       "\n",
       "               Male      Both sexes.1          Female.1            Male.1  \n",
       "0               NaN               NaN               NaN               NaN  \n",
       "1               NaN               NaN               NaN               NaN  \n",
       "2  27.7 [22.3-33.6]  32.5 [28.6-36.6]  39.4 [33.9-45.1]  25.8 [20.4-31.7]  \n",
       "3   22.4 [6.9-60.3]  30.9 [15.6-72.6]  34.7 [10.2-69.8]   27.2 [8.9-65.3]  \n",
       "4               NaN               NaN               NaN               NaN  "
      ]
     },
     "execution_count": 2,
     "metadata": {},
     "output_type": "execute_result"
    },
    {
     "data": {
      "text/plain": [
       "array([['Afghanistan', 2010, '18+  years', ..., nan, nan, nan],\n",
       "       ['Albania', 2010, '18+  years', ..., nan, nan, nan],\n",
       "       ['Algeria', 2010, '18+  years', ..., '32.5 [28.6-36.6]',\n",
       "        '39.4 [33.9-45.1]', '25.8 [20.4-31.7]'],\n",
       "       ..., \n",
       "       ['Yemen', 2010, '18+  years', ..., nan, nan, nan],\n",
       "       ['Zambia', 2010, '18+  years', ..., '17.7 [4.3-48.7]',\n",
       "        '20.6 [5.1-52.9]', '14.7 [3.9-46.4]'],\n",
       "       ['Zimbabwe', 2010, '18+  years', ..., '19.7 [4.9-51]',\n",
       "        '23.8 [6.1-57.1]', '15.3 [4.1-45.5]']], dtype=object)"
      ]
     },
     "execution_count": 2,
     "metadata": {},
     "output_type": "execute_result"
    },
    {
     "data": {
      "text/plain": [
       "array([['Afghanistan', 2010, ' 18+  years', ..., nan, nan, nan],\n",
       "       ['Albania', 2010, ' 18+  years', ..., nan, nan, nan],\n",
       "       ['Algeria', 2010, ' 18+  years', ..., '32.5 [28.6-36.6]',\n",
       "        '39.4 [33.9-45.1]', '25.8 [20.4-31.7]'],\n",
       "       ..., \n",
       "       ['Yemen', 2010, ' 18+  years', ..., nan, nan, nan],\n",
       "       ['Zambia', 2010, ' 18+  years', ..., '17.7 [4.3-48.7]',\n",
       "        '20.6 [5.1-52.9]', '14.7 [3.9-46.4]'],\n",
       "       ['Zimbabwe', 2010, ' 18+  years', ..., '19.7 [4.9-51]',\n",
       "        '23.8 [6.1-57.1]', '15.3 [4.1-45.5]']], dtype=object)"
      ]
     },
     "execution_count": 2,
     "metadata": {},
     "output_type": "execute_result"
    }
   ],
   "source": [
    "exer = pd.read_csv('data/exercise/data.csv', skiprows = 1, na_values='No data')\n",
    "exer_alt = pd.read_csv('data/exercise/alt.csv', skiprows = 1, na_values='No data')\n",
    "exer.head()\n",
    "exer_alt.head()\n",
    "exer.values\n",
    "exer_alt.values"
   ]
  },
  {
   "cell_type": "markdown",
   "metadata": {},
   "source": [
    "Looks like no substantial difference, except the standard data seems a bit cleaner. We'll just use that one.\n",
    "\n",
    "Now, we will see if all the countries match up with the dependent variable Risk/Deaths per 100k."
   ]
  },
  {
   "cell_type": "code",
   "execution_count": 3,
   "metadata": {
    "collapsed": false
   },
   "outputs": [
    {
     "data": {
      "text/html": [
       "<div>\n",
       "<table border=\"1\" class=\"dataframe\">\n",
       "  <thead>\n",
       "    <tr style=\"text-align: right;\">\n",
       "      <th></th>\n",
       "      <th>2012</th>\n",
       "      <th>2000</th>\n",
       "    </tr>\n",
       "    <tr>\n",
       "      <th>Country</th>\n",
       "      <th></th>\n",
       "      <th></th>\n",
       "    </tr>\n",
       "  </thead>\n",
       "  <tbody>\n",
       "    <tr>\n",
       "      <th>Afghanistan</th>\n",
       "      <td>31</td>\n",
       "      <td>33</td>\n",
       "    </tr>\n",
       "    <tr>\n",
       "      <th>Albania</th>\n",
       "      <td>19</td>\n",
       "      <td>24</td>\n",
       "    </tr>\n",
       "    <tr>\n",
       "      <th>Algeria</th>\n",
       "      <td>22</td>\n",
       "      <td>23</td>\n",
       "    </tr>\n",
       "    <tr>\n",
       "      <th>Angola</th>\n",
       "      <td>24</td>\n",
       "      <td>24</td>\n",
       "    </tr>\n",
       "    <tr>\n",
       "      <th>Argentina</th>\n",
       "      <td>17</td>\n",
       "      <td>20</td>\n",
       "    </tr>\n",
       "  </tbody>\n",
       "</table>\n",
       "</div>"
      ],
      "text/plain": [
       "             2012  2000\n",
       "Country                \n",
       "Afghanistan    31    33\n",
       "Albania        19    24\n",
       "Algeria        22    23\n",
       "Angola         24    24\n",
       "Argentina      17    20"
      ]
     },
     "execution_count": 3,
     "metadata": {},
     "output_type": "execute_result"
    }
   ],
   "source": [
    "out = open('data/clean/risk.p', 'r')\n",
    "risk = pickle.load(out)\n",
    "risk.head()"
   ]
  },
  {
   "cell_type": "code",
   "execution_count": 4,
   "metadata": {
    "collapsed": false
   },
   "outputs": [],
   "source": [
    "# check if all risk countries in exercise data\n",
    "for country in risk.index:\n",
    "    if country not in exer['Country'].tolist():\n",
    "        print country"
   ]
  },
  {
   "cell_type": "code",
   "execution_count": 5,
   "metadata": {
    "collapsed": false,
    "scrolled": true
   },
   "outputs": [
    {
     "name": "stdout",
     "output_type": "stream",
     "text": [
      "Andorra\n",
      "Antigua and Barbuda\n",
      "Cook Islands\n",
      "Dominica\n",
      "Grenada\n",
      "Kiribati\n",
      "Marshall Islands\n",
      "Micronesia (Federated States of)\n",
      "Monaco\n",
      "Nauru\n",
      "Niue\n",
      "Palau\n",
      "Saint Kitts and Nevis\n",
      "Saint Lucia\n",
      "Saint Vincent and the Grenadines\n",
      "Samoa\n",
      "San Marino\n",
      "Sao Tome and Principe\n",
      "Seychelles\n",
      "Tonga\n",
      "Tuvalu\n",
      "Vanuatu\n"
     ]
    }
   ],
   "source": [
    "# check if all exercise countries in risk data\n",
    "for country in exer['Country']:\n",
    "    if country not in risk.index:\n",
    "        print country"
   ]
  },
  {
   "cell_type": "code",
   "execution_count": 6,
   "metadata": {
    "collapsed": false
   },
   "outputs": [
    {
     "data": {
      "text/plain": [
       "['Afghanistan',\n",
       " 'Albania',\n",
       " 'Algeria',\n",
       " 'Angola',\n",
       " 'Argentina',\n",
       " 'Armenia',\n",
       " 'Australia',\n",
       " 'Austria',\n",
       " 'Azerbaijan',\n",
       " 'Bahamas',\n",
       " 'Bahrain',\n",
       " 'Bangladesh',\n",
       " 'Barbados',\n",
       " 'Belarus',\n",
       " 'Belgium',\n",
       " 'Belize',\n",
       " 'Benin',\n",
       " 'Bhutan',\n",
       " 'Bolivia (Plurinational State of)',\n",
       " 'Bosnia and Herzegovina',\n",
       " 'Botswana',\n",
       " 'Brazil',\n",
       " 'Brunei Darussalam',\n",
       " 'Bulgaria',\n",
       " 'Burkina Faso',\n",
       " 'Burundi',\n",
       " \"Cote d'Ivoire\",\n",
       " 'Cabo Verde',\n",
       " 'Cambodia',\n",
       " 'Cameroon',\n",
       " 'Canada',\n",
       " 'Central African Republic',\n",
       " 'Chad',\n",
       " 'Chile',\n",
       " 'China',\n",
       " 'Colombia',\n",
       " 'Comoros',\n",
       " 'Congo',\n",
       " 'Costa Rica',\n",
       " 'Croatia',\n",
       " 'Cuba',\n",
       " 'Cyprus',\n",
       " 'Czech Republic',\n",
       " \"Democratic People's Republic of Korea\",\n",
       " 'Democratic Republic of the Congo',\n",
       " 'Denmark',\n",
       " 'Djibouti',\n",
       " 'Dominican Republic',\n",
       " 'Ecuador',\n",
       " 'Egypt',\n",
       " 'El Salvador',\n",
       " 'Equatorial Guinea',\n",
       " 'Eritrea',\n",
       " 'Estonia',\n",
       " 'Ethiopia',\n",
       " 'Fiji',\n",
       " 'Finland',\n",
       " 'France',\n",
       " 'Gabon',\n",
       " 'Gambia',\n",
       " 'Georgia',\n",
       " 'Germany',\n",
       " 'Ghana',\n",
       " 'Greece',\n",
       " 'Guatemala',\n",
       " 'Guinea',\n",
       " 'Guinea-Bissau',\n",
       " 'Guyana',\n",
       " 'Haiti',\n",
       " 'Honduras',\n",
       " 'Hungary',\n",
       " 'Iceland',\n",
       " 'India',\n",
       " 'Indonesia',\n",
       " 'Iran (Islamic Republic of)',\n",
       " 'Iraq',\n",
       " 'Ireland',\n",
       " 'Israel',\n",
       " 'Italy',\n",
       " 'Jamaica',\n",
       " 'Japan',\n",
       " 'Jordan',\n",
       " 'Kazakhstan',\n",
       " 'Kenya',\n",
       " 'Kuwait',\n",
       " 'Kyrgyzstan',\n",
       " \"Lao People's Democratic Republic\",\n",
       " 'Latvia',\n",
       " 'Lebanon',\n",
       " 'Lesotho',\n",
       " 'Liberia',\n",
       " 'Libya',\n",
       " 'Lithuania',\n",
       " 'Luxembourg',\n",
       " 'Madagascar',\n",
       " 'Malawi',\n",
       " 'Malaysia',\n",
       " 'Maldives',\n",
       " 'Mali',\n",
       " 'Malta',\n",
       " 'Mauritania',\n",
       " 'Mauritius',\n",
       " 'Mexico',\n",
       " 'Mongolia',\n",
       " 'Montenegro',\n",
       " 'Morocco',\n",
       " 'Mozambique',\n",
       " 'Myanmar',\n",
       " 'Namibia',\n",
       " 'Nepal',\n",
       " 'Netherlands',\n",
       " 'New Zealand',\n",
       " 'Nicaragua',\n",
       " 'Niger',\n",
       " 'Nigeria',\n",
       " 'Norway',\n",
       " 'Oman',\n",
       " 'Pakistan',\n",
       " 'Panama',\n",
       " 'Papua New Guinea',\n",
       " 'Paraguay',\n",
       " 'Peru',\n",
       " 'Philippines',\n",
       " 'Poland',\n",
       " 'Portugal',\n",
       " 'Qatar',\n",
       " 'Republic of Korea',\n",
       " 'Republic of Moldova',\n",
       " 'Romania',\n",
       " 'Russian Federation',\n",
       " 'Rwanda',\n",
       " 'Saudi Arabia',\n",
       " 'Senegal',\n",
       " 'Serbia',\n",
       " 'Sierra Leone',\n",
       " 'Singapore',\n",
       " 'Slovakia',\n",
       " 'Slovenia',\n",
       " 'Solomon Islands',\n",
       " 'Somalia',\n",
       " 'South Africa',\n",
       " 'South Sudan',\n",
       " 'Spain',\n",
       " 'Sri Lanka',\n",
       " 'Sudan',\n",
       " 'Suriname',\n",
       " 'Swaziland',\n",
       " 'Sweden',\n",
       " 'Switzerland',\n",
       " 'Syrian Arab Republic',\n",
       " 'Tajikistan',\n",
       " 'Thailand',\n",
       " 'The former Yugoslav republic of Macedonia',\n",
       " 'Timor-Leste',\n",
       " 'Togo',\n",
       " 'Trinidad and Tobago',\n",
       " 'Tunisia',\n",
       " 'Turkey',\n",
       " 'Turkmenistan',\n",
       " 'Uganda',\n",
       " 'Ukraine',\n",
       " 'United Arab Emirates',\n",
       " 'United Kingdom of Great Britain and Northern Ireland',\n",
       " 'United Republic of Tanzania',\n",
       " 'United States of America',\n",
       " 'Uruguay',\n",
       " 'Uzbekistan',\n",
       " 'Venezuela (Bolivarian Republic of)',\n",
       " 'Viet Nam',\n",
       " 'Yemen',\n",
       " 'Zambia',\n",
       " 'Zimbabwe']"
      ]
     },
     "execution_count": 6,
     "metadata": {},
     "output_type": "execute_result"
    }
   ],
   "source": [
    "risk.index.tolist()"
   ]
  },
  {
   "cell_type": "markdown",
   "metadata": {},
   "source": [
    "All countries appear to be spelled the same way as in the risk data. Several countries appear to be excluded from the risk data. We will now drop them."
   ]
  },
  {
   "cell_type": "code",
   "execution_count": 7,
   "metadata": {
    "collapsed": false
   },
   "outputs": [
    {
     "data": {
      "text/html": [
       "<div>\n",
       "<table border=\"1\" class=\"dataframe\">\n",
       "  <thead>\n",
       "    <tr style=\"text-align: right;\">\n",
       "      <th></th>\n",
       "      <th>Country</th>\n",
       "      <th>Year</th>\n",
       "      <th>Age Group</th>\n",
       "      <th>Both sexes</th>\n",
       "      <th>Female</th>\n",
       "      <th>Male</th>\n",
       "      <th>Both sexes.1</th>\n",
       "      <th>Female.1</th>\n",
       "      <th>Male.1</th>\n",
       "    </tr>\n",
       "  </thead>\n",
       "  <tbody>\n",
       "    <tr>\n",
       "      <th>0</th>\n",
       "      <td>Afghanistan</td>\n",
       "      <td>2010</td>\n",
       "      <td>18+  years</td>\n",
       "      <td>NaN</td>\n",
       "      <td>NaN</td>\n",
       "      <td>NaN</td>\n",
       "      <td>NaN</td>\n",
       "      <td>NaN</td>\n",
       "      <td>NaN</td>\n",
       "    </tr>\n",
       "    <tr>\n",
       "      <th>1</th>\n",
       "      <td>Albania</td>\n",
       "      <td>2010</td>\n",
       "      <td>18+  years</td>\n",
       "      <td>NaN</td>\n",
       "      <td>NaN</td>\n",
       "      <td>NaN</td>\n",
       "      <td>NaN</td>\n",
       "      <td>NaN</td>\n",
       "      <td>NaN</td>\n",
       "    </tr>\n",
       "    <tr>\n",
       "      <th>2</th>\n",
       "      <td>Algeria</td>\n",
       "      <td>2010</td>\n",
       "      <td>18+  years</td>\n",
       "      <td>34.4 [30.5-38.5]</td>\n",
       "      <td>41.2 [35.7-46.9]</td>\n",
       "      <td>27.7 [22.3-33.6]</td>\n",
       "      <td>32.5 [28.6-36.6]</td>\n",
       "      <td>39.4 [33.9-45.1]</td>\n",
       "      <td>25.8 [20.4-31.7]</td>\n",
       "    </tr>\n",
       "    <tr>\n",
       "      <th>4</th>\n",
       "      <td>Angola</td>\n",
       "      <td>2010</td>\n",
       "      <td>18+  years</td>\n",
       "      <td>NaN</td>\n",
       "      <td>NaN</td>\n",
       "      <td>NaN</td>\n",
       "      <td>NaN</td>\n",
       "      <td>NaN</td>\n",
       "      <td>NaN</td>\n",
       "    </tr>\n",
       "    <tr>\n",
       "      <th>6</th>\n",
       "      <td>Argentina</td>\n",
       "      <td>2010</td>\n",
       "      <td>18+  years</td>\n",
       "      <td>39.2 [13.5-76.6]</td>\n",
       "      <td>42.7 [14.7-78.5]</td>\n",
       "      <td>35.8 [13.2-76.1]</td>\n",
       "      <td>40.1 [13.9-77]</td>\n",
       "      <td>44.1 [15.6-79.3]</td>\n",
       "      <td>35.7 [13.2-76]</td>\n",
       "    </tr>\n",
       "  </tbody>\n",
       "</table>\n",
       "</div>"
      ],
      "text/plain": [
       "       Country  Year   Age Group        Both sexes            Female  \\\n",
       "0  Afghanistan  2010  18+  years               NaN               NaN   \n",
       "1      Albania  2010  18+  years               NaN               NaN   \n",
       "2      Algeria  2010  18+  years  34.4 [30.5-38.5]  41.2 [35.7-46.9]   \n",
       "4       Angola  2010  18+  years               NaN               NaN   \n",
       "6    Argentina  2010  18+  years  39.2 [13.5-76.6]  42.7 [14.7-78.5]   \n",
       "\n",
       "               Male      Both sexes.1          Female.1            Male.1  \n",
       "0               NaN               NaN               NaN               NaN  \n",
       "1               NaN               NaN               NaN               NaN  \n",
       "2  27.7 [22.3-33.6]  32.5 [28.6-36.6]  39.4 [33.9-45.1]  25.8 [20.4-31.7]  \n",
       "4               NaN               NaN               NaN               NaN  \n",
       "6  35.8 [13.2-76.1]    40.1 [13.9-77]  44.1 [15.6-79.3]    35.7 [13.2-76]  "
      ]
     },
     "execution_count": 7,
     "metadata": {},
     "output_type": "execute_result"
    }
   ],
   "source": [
    "dropme = []\n",
    "\n",
    "for country in exer['Country']:\n",
    "    if country not in risk.index:\n",
    "        dropme.append(country)\n",
    "        \n",
    "clean_exer = exer[~exer['Country'].isin(dropme)]\n",
    "\n",
    "# check\n",
    "for country in clean_exer['Country']:\n",
    "    if country not in risk.index:\n",
    "        print 'Fail'\n",
    "\n",
    "clean_exer.head()"
   ]
  },
  {
   "cell_type": "markdown",
   "metadata": {},
   "source": [
    "The first \"both sexes, female, male\" columns are the age-standarized estimates, while the second set are crude estimates. We should use the age-standarized because they are *INSERT REASONING HERE*. We should also drop the Age Group column and Year column if they are the same for every row. Finally, we should drop the male and female column because we only have data in the dependent variables for both sexes."
   ]
  },
  {
   "cell_type": "code",
   "execution_count": 8,
   "metadata": {
    "collapsed": false
   },
   "outputs": [
    {
     "data": {
      "text/plain": [
       "2010    172\n",
       "Name: Year, dtype: int64"
      ]
     },
     "execution_count": 8,
     "metadata": {},
     "output_type": "execute_result"
    },
    {
     "data": {
      "text/plain": [
       "18+  years    172\n",
       "Name: Age Group, dtype: int64"
      ]
     },
     "execution_count": 8,
     "metadata": {},
     "output_type": "execute_result"
    }
   ],
   "source": [
    "clean_exer['Year'].value_counts()\n",
    "clean_exer['Age Group'].value_counts()"
   ]
  },
  {
   "cell_type": "code",
   "execution_count": 9,
   "metadata": {
    "collapsed": false
   },
   "outputs": [
    {
     "data": {
      "text/html": [
       "<div>\n",
       "<table border=\"1\" class=\"dataframe\">\n",
       "  <thead>\n",
       "    <tr style=\"text-align: right;\">\n",
       "      <th></th>\n",
       "      <th>Country</th>\n",
       "      <th>Both sexes</th>\n",
       "    </tr>\n",
       "  </thead>\n",
       "  <tbody>\n",
       "    <tr>\n",
       "      <th>0</th>\n",
       "      <td>Afghanistan</td>\n",
       "      <td>NaN</td>\n",
       "    </tr>\n",
       "    <tr>\n",
       "      <th>1</th>\n",
       "      <td>Albania</td>\n",
       "      <td>NaN</td>\n",
       "    </tr>\n",
       "    <tr>\n",
       "      <th>2</th>\n",
       "      <td>Algeria</td>\n",
       "      <td>34.4 [30.5-38.5]</td>\n",
       "    </tr>\n",
       "    <tr>\n",
       "      <th>4</th>\n",
       "      <td>Angola</td>\n",
       "      <td>NaN</td>\n",
       "    </tr>\n",
       "    <tr>\n",
       "      <th>6</th>\n",
       "      <td>Argentina</td>\n",
       "      <td>39.2 [13.5-76.6]</td>\n",
       "    </tr>\n",
       "  </tbody>\n",
       "</table>\n",
       "</div>"
      ],
      "text/plain": [
       "       Country        Both sexes\n",
       "0  Afghanistan               NaN\n",
       "1      Albania               NaN\n",
       "2      Algeria  34.4 [30.5-38.5]\n",
       "4       Angola               NaN\n",
       "6    Argentina  39.2 [13.5-76.6]"
      ]
     },
     "execution_count": 9,
     "metadata": {},
     "output_type": "execute_result"
    }
   ],
   "source": [
    "exer = clean_exer[['Country', 'Both sexes']]\n",
    "exer.head()"
   ]
  },
  {
   "cell_type": "markdown",
   "metadata": {},
   "source": [
    "We can remove the confidence interval range from the values. If we need them in the future, we can grab them here independently."
   ]
  },
  {
   "cell_type": "code",
   "execution_count": 10,
   "metadata": {
    "collapsed": false
   },
   "outputs": [
    {
     "data": {
      "text/html": [
       "<div>\n",
       "<table border=\"1\" class=\"dataframe\">\n",
       "  <thead>\n",
       "    <tr style=\"text-align: right;\">\n",
       "      <th></th>\n",
       "      <th>Country</th>\n",
       "      <th>Percent</th>\n",
       "    </tr>\n",
       "  </thead>\n",
       "  <tbody>\n",
       "    <tr>\n",
       "      <th>0</th>\n",
       "      <td>Afghanistan</td>\n",
       "      <td>NaN</td>\n",
       "    </tr>\n",
       "    <tr>\n",
       "      <th>1</th>\n",
       "      <td>Albania</td>\n",
       "      <td>NaN</td>\n",
       "    </tr>\n",
       "    <tr>\n",
       "      <th>2</th>\n",
       "      <td>Algeria</td>\n",
       "      <td>34.4</td>\n",
       "    </tr>\n",
       "    <tr>\n",
       "      <th>4</th>\n",
       "      <td>Angola</td>\n",
       "      <td>NaN</td>\n",
       "    </tr>\n",
       "    <tr>\n",
       "      <th>6</th>\n",
       "      <td>Argentina</td>\n",
       "      <td>39.2</td>\n",
       "    </tr>\n",
       "  </tbody>\n",
       "</table>\n",
       "</div>"
      ],
      "text/plain": [
       "       Country  Percent\n",
       "0  Afghanistan      NaN\n",
       "1      Albania      NaN\n",
       "2      Algeria     34.4\n",
       "4       Angola      NaN\n",
       "6    Argentina     39.2"
      ]
     },
     "execution_count": 10,
     "metadata": {},
     "output_type": "execute_result"
    }
   ],
   "source": [
    "def grab_num(full):\n",
    "    if pd.isnull(full):\n",
    "        return np.nan\n",
    "    return float(full.split()[0])\n",
    "\n",
    "exer = pd.DataFrame({\n",
    "        'Country': exer['Country'], \n",
    "        'Percent': exer['Both sexes'].apply(grab_num)\n",
    "    })\n",
    "exer.head()"
   ]
  },
  {
   "cell_type": "markdown",
   "metadata": {},
   "source": [
    "Finally, let's make the country the index."
   ]
  },
  {
   "cell_type": "code",
   "execution_count": 11,
   "metadata": {
    "collapsed": false
   },
   "outputs": [
    {
     "data": {
      "text/html": [
       "<div>\n",
       "<table border=\"1\" class=\"dataframe\">\n",
       "  <thead>\n",
       "    <tr style=\"text-align: right;\">\n",
       "      <th></th>\n",
       "      <th>Percent</th>\n",
       "    </tr>\n",
       "    <tr>\n",
       "      <th>Country</th>\n",
       "      <th></th>\n",
       "    </tr>\n",
       "  </thead>\n",
       "  <tbody>\n",
       "    <tr>\n",
       "      <th>Afghanistan</th>\n",
       "      <td>NaN</td>\n",
       "    </tr>\n",
       "    <tr>\n",
       "      <th>Albania</th>\n",
       "      <td>NaN</td>\n",
       "    </tr>\n",
       "    <tr>\n",
       "      <th>Algeria</th>\n",
       "      <td>34.4</td>\n",
       "    </tr>\n",
       "    <tr>\n",
       "      <th>Angola</th>\n",
       "      <td>NaN</td>\n",
       "    </tr>\n",
       "    <tr>\n",
       "      <th>Argentina</th>\n",
       "      <td>39.2</td>\n",
       "    </tr>\n",
       "  </tbody>\n",
       "</table>\n",
       "</div>"
      ],
      "text/plain": [
       "             Percent\n",
       "Country             \n",
       "Afghanistan      NaN\n",
       "Albania          NaN\n",
       "Algeria         34.4\n",
       "Angola           NaN\n",
       "Argentina       39.2"
      ]
     },
     "execution_count": 11,
     "metadata": {},
     "output_type": "execute_result"
    }
   ],
   "source": [
    "exer = exer.set_index('Country')\n",
    "exer.head()"
   ]
  },
  {
   "cell_type": "markdown",
   "metadata": {},
   "source": [
    "Looks good! We're done with cleaning here."
   ]
  },
  {
   "cell_type": "code",
   "execution_count": 12,
   "metadata": {
    "collapsed": true
   },
   "outputs": [],
   "source": [
    "pickle.dump(exer, open('data/clean/exer.p', 'wb'))"
   ]
  },
  {
   "cell_type": "markdown",
   "metadata": {},
   "source": [
    "### Part 2: Deal with missing data"
   ]
  },
  {
   "cell_type": "markdown",
   "metadata": {},
   "source": [
    "Now we want to decide what to do with the NaNs. Let's first load in the rest of the data."
   ]
  },
  {
   "cell_type": "code",
   "execution_count": 13,
   "metadata": {
    "collapsed": true
   },
   "outputs": [],
   "source": [
    "out = open('data/clean/deaths_100k.p', 'r')\n",
    "deaths = pickle.load(out)\n",
    "out = open('data/clean/crops.p', 'r')\n",
    "crops = pickle.load(out)\n",
    "out = open('data/clean/meat.p', 'r')\n",
    "meat = pickle.load(out)\n",
    "out = open('data/clean/doctors.p', 'r')\n",
    "doctors = pickle.load(out)\n",
    "out = open('data/clean/beds.p', 'r')\n",
    "beds = pickle.load(out)"
   ]
  },
  {
   "cell_type": "code",
   "execution_count": 14,
   "metadata": {
    "collapsed": false
   },
   "outputs": [
    {
     "name": "stdout",
     "output_type": "stream",
     "text": [
      "DOCTORS CONTAINS NaNs\n"
     ]
    },
    {
     "data": {
      "text/html": [
       "<div>\n",
       "<table border=\"1\" class=\"dataframe\">\n",
       "  <thead>\n",
       "    <tr style=\"text-align: right;\">\n",
       "      <th></th>\n",
       "      <th>1960</th>\n",
       "      <th>1961</th>\n",
       "      <th>1962</th>\n",
       "      <th>1963</th>\n",
       "      <th>1964</th>\n",
       "      <th>1965</th>\n",
       "      <th>1966</th>\n",
       "      <th>1967</th>\n",
       "      <th>1968</th>\n",
       "      <th>1969</th>\n",
       "      <th>...</th>\n",
       "      <th>2007</th>\n",
       "      <th>2008</th>\n",
       "      <th>2009</th>\n",
       "      <th>2010</th>\n",
       "      <th>2011</th>\n",
       "      <th>2012</th>\n",
       "      <th>2013</th>\n",
       "      <th>2014</th>\n",
       "      <th>2015</th>\n",
       "      <th>2016</th>\n",
       "    </tr>\n",
       "    <tr>\n",
       "      <th>Country_corrected</th>\n",
       "      <th></th>\n",
       "      <th></th>\n",
       "      <th></th>\n",
       "      <th></th>\n",
       "      <th></th>\n",
       "      <th></th>\n",
       "      <th></th>\n",
       "      <th></th>\n",
       "      <th></th>\n",
       "      <th></th>\n",
       "      <th></th>\n",
       "      <th></th>\n",
       "      <th></th>\n",
       "      <th></th>\n",
       "      <th></th>\n",
       "      <th></th>\n",
       "      <th></th>\n",
       "      <th></th>\n",
       "      <th></th>\n",
       "      <th></th>\n",
       "      <th></th>\n",
       "    </tr>\n",
       "  </thead>\n",
       "  <tbody>\n",
       "    <tr>\n",
       "      <th>Afghanistan</th>\n",
       "      <td>0.034844</td>\n",
       "      <td>NaN</td>\n",
       "      <td>NaN</td>\n",
       "      <td>NaN</td>\n",
       "      <td>NaN</td>\n",
       "      <td>0.063428</td>\n",
       "      <td>NaN</td>\n",
       "      <td>NaN</td>\n",
       "      <td>NaN</td>\n",
       "      <td>NaN</td>\n",
       "      <td>...</td>\n",
       "      <td>0.146</td>\n",
       "      <td>0.145</td>\n",
       "      <td>0.175</td>\n",
       "      <td>0.194</td>\n",
       "      <td>0.234</td>\n",
       "      <td>0.225</td>\n",
       "      <td>0.266</td>\n",
       "      <td>NaN</td>\n",
       "      <td>NaN</td>\n",
       "      <td>NaN</td>\n",
       "    </tr>\n",
       "    <tr>\n",
       "      <th>Angola</th>\n",
       "      <td>0.067068</td>\n",
       "      <td>NaN</td>\n",
       "      <td>NaN</td>\n",
       "      <td>NaN</td>\n",
       "      <td>NaN</td>\n",
       "      <td>0.076062</td>\n",
       "      <td>NaN</td>\n",
       "      <td>NaN</td>\n",
       "      <td>NaN</td>\n",
       "      <td>NaN</td>\n",
       "      <td>...</td>\n",
       "      <td>NaN</td>\n",
       "      <td>NaN</td>\n",
       "      <td>0.166</td>\n",
       "      <td>NaN</td>\n",
       "      <td>NaN</td>\n",
       "      <td>NaN</td>\n",
       "      <td>NaN</td>\n",
       "      <td>NaN</td>\n",
       "      <td>NaN</td>\n",
       "      <td>NaN</td>\n",
       "    </tr>\n",
       "  </tbody>\n",
       "</table>\n",
       "<p>2 rows × 57 columns</p>\n",
       "</div>"
      ],
      "text/plain": [
       "                       1960  1961  1962  1963  1964      1965  1966  1967  \\\n",
       "Country_corrected                                                           \n",
       "Afghanistan        0.034844   NaN   NaN   NaN   NaN  0.063428   NaN   NaN   \n",
       "Angola             0.067068   NaN   NaN   NaN   NaN  0.076062   NaN   NaN   \n",
       "\n",
       "                   1968  1969  ...    2007   2008   2009   2010   2011   2012  \\\n",
       "Country_corrected              ...                                              \n",
       "Afghanistan         NaN   NaN  ...   0.146  0.145  0.175  0.194  0.234  0.225   \n",
       "Angola              NaN   NaN  ...     NaN    NaN  0.166    NaN    NaN    NaN   \n",
       "\n",
       "                    2013  2014  2015  2016  \n",
       "Country_corrected                           \n",
       "Afghanistan        0.266   NaN   NaN   NaN  \n",
       "Angola               NaN   NaN   NaN   NaN  \n",
       "\n",
       "[2 rows x 57 columns]"
      ]
     },
     "execution_count": 14,
     "metadata": {},
     "output_type": "execute_result"
    },
    {
     "name": "stdout",
     "output_type": "stream",
     "text": [
      "BEDS CONTAINS NaNs\n"
     ]
    },
    {
     "data": {
      "text/html": [
       "<div>\n",
       "<table border=\"1\" class=\"dataframe\">\n",
       "  <thead>\n",
       "    <tr style=\"text-align: right;\">\n",
       "      <th></th>\n",
       "      <th>1960</th>\n",
       "      <th>1961</th>\n",
       "      <th>1962</th>\n",
       "      <th>1963</th>\n",
       "      <th>1964</th>\n",
       "      <th>1965</th>\n",
       "      <th>1966</th>\n",
       "      <th>1967</th>\n",
       "      <th>1968</th>\n",
       "      <th>1969</th>\n",
       "      <th>...</th>\n",
       "      <th>2007</th>\n",
       "      <th>2008</th>\n",
       "      <th>2009</th>\n",
       "      <th>2010</th>\n",
       "      <th>2011</th>\n",
       "      <th>2012</th>\n",
       "      <th>2013</th>\n",
       "      <th>2014</th>\n",
       "      <th>2015</th>\n",
       "      <th>2016</th>\n",
       "    </tr>\n",
       "    <tr>\n",
       "      <th>Country_corrected</th>\n",
       "      <th></th>\n",
       "      <th></th>\n",
       "      <th></th>\n",
       "      <th></th>\n",
       "      <th></th>\n",
       "      <th></th>\n",
       "      <th></th>\n",
       "      <th></th>\n",
       "      <th></th>\n",
       "      <th></th>\n",
       "      <th></th>\n",
       "      <th></th>\n",
       "      <th></th>\n",
       "      <th></th>\n",
       "      <th></th>\n",
       "      <th></th>\n",
       "      <th></th>\n",
       "      <th></th>\n",
       "      <th></th>\n",
       "      <th></th>\n",
       "      <th></th>\n",
       "    </tr>\n",
       "  </thead>\n",
       "  <tbody>\n",
       "    <tr>\n",
       "      <th>Afghanistan</th>\n",
       "      <td>0.170627</td>\n",
       "      <td>NaN</td>\n",
       "      <td>NaN</td>\n",
       "      <td>NaN</td>\n",
       "      <td>NaN</td>\n",
       "      <td>NaN</td>\n",
       "      <td>NaN</td>\n",
       "      <td>NaN</td>\n",
       "      <td>NaN</td>\n",
       "      <td>NaN</td>\n",
       "      <td>...</td>\n",
       "      <td>0.42</td>\n",
       "      <td>0.42</td>\n",
       "      <td>0.4</td>\n",
       "      <td>0.4</td>\n",
       "      <td>NaN</td>\n",
       "      <td>0.5</td>\n",
       "      <td>NaN</td>\n",
       "      <td>NaN</td>\n",
       "      <td>NaN</td>\n",
       "      <td>NaN</td>\n",
       "    </tr>\n",
       "    <tr>\n",
       "      <th>Angola</th>\n",
       "      <td>2.061462</td>\n",
       "      <td>NaN</td>\n",
       "      <td>NaN</td>\n",
       "      <td>NaN</td>\n",
       "      <td>NaN</td>\n",
       "      <td>NaN</td>\n",
       "      <td>NaN</td>\n",
       "      <td>NaN</td>\n",
       "      <td>NaN</td>\n",
       "      <td>NaN</td>\n",
       "      <td>...</td>\n",
       "      <td>NaN</td>\n",
       "      <td>NaN</td>\n",
       "      <td>NaN</td>\n",
       "      <td>NaN</td>\n",
       "      <td>NaN</td>\n",
       "      <td>NaN</td>\n",
       "      <td>NaN</td>\n",
       "      <td>NaN</td>\n",
       "      <td>NaN</td>\n",
       "      <td>NaN</td>\n",
       "    </tr>\n",
       "  </tbody>\n",
       "</table>\n",
       "<p>2 rows × 57 columns</p>\n",
       "</div>"
      ],
      "text/plain": [
       "                       1960  1961  1962  1963  1964  1965  1966  1967  1968  \\\n",
       "Country_corrected                                                             \n",
       "Afghanistan        0.170627   NaN   NaN   NaN   NaN   NaN   NaN   NaN   NaN   \n",
       "Angola             2.061462   NaN   NaN   NaN   NaN   NaN   NaN   NaN   NaN   \n",
       "\n",
       "                   1969  ...   2007  2008  2009  2010  2011  2012  2013  2014  \\\n",
       "Country_corrected        ...                                                    \n",
       "Afghanistan         NaN  ...   0.42  0.42   0.4   0.4   NaN   0.5   NaN   NaN   \n",
       "Angola              NaN  ...    NaN   NaN   NaN   NaN   NaN   NaN   NaN   NaN   \n",
       "\n",
       "                   2015  2016  \n",
       "Country_corrected              \n",
       "Afghanistan         NaN   NaN  \n",
       "Angola              NaN   NaN  \n",
       "\n",
       "[2 rows x 57 columns]"
      ]
     },
     "execution_count": 14,
     "metadata": {},
     "output_type": "execute_result"
    },
    {
     "name": "stdout",
     "output_type": "stream",
     "text": [
      "EXER CONTAINS NaNs\n"
     ]
    },
    {
     "data": {
      "text/html": [
       "<div>\n",
       "<table border=\"1\" class=\"dataframe\">\n",
       "  <thead>\n",
       "    <tr style=\"text-align: right;\">\n",
       "      <th></th>\n",
       "      <th>Percent</th>\n",
       "    </tr>\n",
       "    <tr>\n",
       "      <th>Country</th>\n",
       "      <th></th>\n",
       "    </tr>\n",
       "  </thead>\n",
       "  <tbody>\n",
       "    <tr>\n",
       "      <th>Afghanistan</th>\n",
       "      <td>NaN</td>\n",
       "    </tr>\n",
       "    <tr>\n",
       "      <th>Albania</th>\n",
       "      <td>NaN</td>\n",
       "    </tr>\n",
       "  </tbody>\n",
       "</table>\n",
       "</div>"
      ],
      "text/plain": [
       "             Percent\n",
       "Country             \n",
       "Afghanistan      NaN\n",
       "Albania          NaN"
      ]
     },
     "execution_count": 14,
     "metadata": {},
     "output_type": "execute_result"
    }
   ],
   "source": [
    "# see if entire df contains NaNs\n",
    "for df in [('risk', risk), ('doctors', doctors), ('beds', beds), ('exer', exer)]:\n",
    "    if df[1].isnull().any().any():\n",
    "        print df[0].upper(), 'CONTAINS NaNs'\n",
    "        df[1].head(2)"
   ]
  },
  {
   "cell_type": "code",
   "execution_count": 15,
   "metadata": {
    "collapsed": false,
    "scrolled": false
   },
   "outputs": [
    {
     "name": "stdout",
     "output_type": "stream",
     "text": [
      "CROPS CONTAINS NaNs\n"
     ]
    },
    {
     "data": {
      "text/html": [
       "<div>\n",
       "<table border=\"1\" class=\"dataframe\">\n",
       "  <thead>\n",
       "    <tr style=\"text-align: right;\">\n",
       "      <th></th>\n",
       "      <th>1961</th>\n",
       "      <th>1962</th>\n",
       "      <th>1963</th>\n",
       "      <th>1964</th>\n",
       "      <th>1965</th>\n",
       "      <th>1966</th>\n",
       "      <th>1967</th>\n",
       "      <th>1968</th>\n",
       "      <th>1969</th>\n",
       "      <th>1970</th>\n",
       "      <th>...</th>\n",
       "      <th>2004</th>\n",
       "      <th>2005</th>\n",
       "      <th>2006</th>\n",
       "      <th>2007</th>\n",
       "      <th>2008</th>\n",
       "      <th>2009</th>\n",
       "      <th>2010</th>\n",
       "      <th>2011</th>\n",
       "      <th>2012</th>\n",
       "      <th>2013</th>\n",
       "    </tr>\n",
       "    <tr>\n",
       "      <th>Country</th>\n",
       "      <th></th>\n",
       "      <th></th>\n",
       "      <th></th>\n",
       "      <th></th>\n",
       "      <th></th>\n",
       "      <th></th>\n",
       "      <th></th>\n",
       "      <th></th>\n",
       "      <th></th>\n",
       "      <th></th>\n",
       "      <th></th>\n",
       "      <th></th>\n",
       "      <th></th>\n",
       "      <th></th>\n",
       "      <th></th>\n",
       "      <th></th>\n",
       "      <th></th>\n",
       "      <th></th>\n",
       "      <th></th>\n",
       "      <th></th>\n",
       "      <th></th>\n",
       "    </tr>\n",
       "  </thead>\n",
       "  <tbody>\n",
       "    <tr>\n",
       "      <th>Bangladesh</th>\n",
       "      <td>0.04</td>\n",
       "      <td>0.03</td>\n",
       "      <td>0.04</td>\n",
       "      <td>0.04</td>\n",
       "      <td>0.04</td>\n",
       "      <td>0.03</td>\n",
       "      <td>0.04</td>\n",
       "      <td>0.04</td>\n",
       "      <td>0.04</td>\n",
       "      <td>0.03</td>\n",
       "      <td>...</td>\n",
       "      <td>0.04</td>\n",
       "      <td>0.04</td>\n",
       "      <td>0.04</td>\n",
       "      <td>0.04</td>\n",
       "      <td>0.04</td>\n",
       "      <td>0.04</td>\n",
       "      <td>0.05</td>\n",
       "      <td>0.05</td>\n",
       "      <td>0.04</td>\n",
       "      <td>0.05</td>\n",
       "    </tr>\n",
       "    <tr>\n",
       "      <th>Brazil</th>\n",
       "      <td>0.00</td>\n",
       "      <td>0.00</td>\n",
       "      <td>0.00</td>\n",
       "      <td>0.00</td>\n",
       "      <td>0.00</td>\n",
       "      <td>0.01</td>\n",
       "      <td>0.01</td>\n",
       "      <td>0.09</td>\n",
       "      <td>0.06</td>\n",
       "      <td>0.10</td>\n",
       "      <td>...</td>\n",
       "      <td>0.22</td>\n",
       "      <td>0.22</td>\n",
       "      <td>0.22</td>\n",
       "      <td>0.22</td>\n",
       "      <td>0.22</td>\n",
       "      <td>0.21</td>\n",
       "      <td>0.21</td>\n",
       "      <td>0.21</td>\n",
       "      <td>0.21</td>\n",
       "      <td>0.21</td>\n",
       "    </tr>\n",
       "  </tbody>\n",
       "</table>\n",
       "<p>2 rows × 53 columns</p>\n",
       "</div>"
      ],
      "text/plain": [
       "            1961  1962  1963  1964  1965  1966  1967  1968  1969  1970  ...   \\\n",
       "Country                                                                 ...    \n",
       "Bangladesh  0.04  0.03  0.04  0.04  0.04  0.03  0.04  0.04  0.04  0.03  ...    \n",
       "Brazil      0.00  0.00  0.00  0.00  0.00  0.01  0.01  0.09  0.06  0.10  ...    \n",
       "\n",
       "            2004  2005  2006  2007  2008  2009  2010  2011  2012  2013  \n",
       "Country                                                                 \n",
       "Bangladesh  0.04  0.04  0.04  0.04  0.04  0.04  0.05  0.05  0.04  0.05  \n",
       "Brazil      0.22  0.22  0.22  0.22  0.22  0.21  0.21  0.21  0.21  0.21  \n",
       "\n",
       "[2 rows x 53 columns]"
      ]
     },
     "execution_count": 15,
     "metadata": {},
     "output_type": "execute_result"
    },
    {
     "name": "stdout",
     "output_type": "stream",
     "text": [
      "MEAT CONTAINS NaNs\n"
     ]
    },
    {
     "data": {
      "text/html": [
       "<div>\n",
       "<table border=\"1\" class=\"dataframe\">\n",
       "  <thead>\n",
       "    <tr style=\"text-align: right;\">\n",
       "      <th></th>\n",
       "      <th>1961</th>\n",
       "      <th>1962</th>\n",
       "      <th>1963</th>\n",
       "      <th>1964</th>\n",
       "      <th>1965</th>\n",
       "      <th>1966</th>\n",
       "      <th>1967</th>\n",
       "      <th>1968</th>\n",
       "      <th>1969</th>\n",
       "      <th>1970</th>\n",
       "      <th>...</th>\n",
       "      <th>2004</th>\n",
       "      <th>2005</th>\n",
       "      <th>2006</th>\n",
       "      <th>2007</th>\n",
       "      <th>2008</th>\n",
       "      <th>2009</th>\n",
       "      <th>2010</th>\n",
       "      <th>2011</th>\n",
       "      <th>2012</th>\n",
       "      <th>2013</th>\n",
       "    </tr>\n",
       "    <tr>\n",
       "      <th>Country</th>\n",
       "      <th></th>\n",
       "      <th></th>\n",
       "      <th></th>\n",
       "      <th></th>\n",
       "      <th></th>\n",
       "      <th></th>\n",
       "      <th></th>\n",
       "      <th></th>\n",
       "      <th></th>\n",
       "      <th></th>\n",
       "      <th></th>\n",
       "      <th></th>\n",
       "      <th></th>\n",
       "      <th></th>\n",
       "      <th></th>\n",
       "      <th></th>\n",
       "      <th></th>\n",
       "      <th></th>\n",
       "      <th></th>\n",
       "      <th></th>\n",
       "      <th></th>\n",
       "    </tr>\n",
       "  </thead>\n",
       "  <tbody>\n",
       "    <tr>\n",
       "      <th>Canada</th>\n",
       "      <td>0.0</td>\n",
       "      <td>0.0</td>\n",
       "      <td>0.0</td>\n",
       "      <td>0.0</td>\n",
       "      <td>0.0</td>\n",
       "      <td>0.0</td>\n",
       "      <td>0.0</td>\n",
       "      <td>0.0</td>\n",
       "      <td>0.0</td>\n",
       "      <td>0.0</td>\n",
       "      <td>...</td>\n",
       "      <td>0.0</td>\n",
       "      <td>0.0</td>\n",
       "      <td>0.0</td>\n",
       "      <td>0.0</td>\n",
       "      <td>0.0</td>\n",
       "      <td>0.0</td>\n",
       "      <td>0.0</td>\n",
       "      <td>0.0</td>\n",
       "      <td>NaN</td>\n",
       "      <td>NaN</td>\n",
       "    </tr>\n",
       "    <tr>\n",
       "      <th>Chile</th>\n",
       "      <td>0.0</td>\n",
       "      <td>0.0</td>\n",
       "      <td>0.0</td>\n",
       "      <td>0.0</td>\n",
       "      <td>0.0</td>\n",
       "      <td>0.0</td>\n",
       "      <td>0.0</td>\n",
       "      <td>0.0</td>\n",
       "      <td>0.0</td>\n",
       "      <td>0.0</td>\n",
       "      <td>...</td>\n",
       "      <td>0.0</td>\n",
       "      <td>0.0</td>\n",
       "      <td>0.0</td>\n",
       "      <td>0.0</td>\n",
       "      <td>0.0</td>\n",
       "      <td>0.0</td>\n",
       "      <td>0.0</td>\n",
       "      <td>0.0</td>\n",
       "      <td>NaN</td>\n",
       "      <td>NaN</td>\n",
       "    </tr>\n",
       "  </tbody>\n",
       "</table>\n",
       "<p>2 rows × 53 columns</p>\n",
       "</div>"
      ],
      "text/plain": [
       "         1961  1962  1963  1964  1965  1966  1967  1968  1969  1970  ...   \\\n",
       "Country                                                              ...    \n",
       "Canada    0.0   0.0   0.0   0.0   0.0   0.0   0.0   0.0   0.0   0.0  ...    \n",
       "Chile     0.0   0.0   0.0   0.0   0.0   0.0   0.0   0.0   0.0   0.0  ...    \n",
       "\n",
       "         2004  2005  2006  2007  2008  2009  2010  2011  2012  2013  \n",
       "Country                                                              \n",
       "Canada    0.0   0.0   0.0   0.0   0.0   0.0   0.0   0.0   NaN   NaN  \n",
       "Chile     0.0   0.0   0.0   0.0   0.0   0.0   0.0   0.0   NaN   NaN  \n",
       "\n",
       "[2 rows x 53 columns]"
      ]
     },
     "execution_count": 15,
     "metadata": {},
     "output_type": "execute_result"
    }
   ],
   "source": [
    "for group in [('deaths', deaths), ('crops', crops), ('meat', meat)]:\n",
    "    for df in group[1].values():\n",
    "        if df.isnull().any().any():\n",
    "            print group[0].upper(), 'CONTAINS NaNs'\n",
    "            df.head(2)\n",
    "            break"
   ]
  },
  {
   "cell_type": "markdown",
   "metadata": {},
   "source": [
    "The dataframes DOCTORS, BEDS, and EXER contain NaNs. The dataframe groups CROPS and MEAT contain NaNs. Let's see if we can select a subset of data from each of these objects that is complete and simply drop the rest. Exercise is unusable, as we cannot ignore countries. We can check if any specific year has complete data for doctors and beds. For crops and meat, we can check if any crop or livestock items are individually complete, and then check each item for a specific year that's complete."
   ]
  },
  {
   "cell_type": "code",
   "execution_count": 16,
   "metadata": {
    "collapsed": true
   },
   "outputs": [],
   "source": [
    "# check for complete years\n",
    "def comp_yrs(df):\n",
    "    answer = []\n",
    "    for col in df:\n",
    "        if df[col].isnull().any() == False:\n",
    "            answer.append(col)\n",
    "    return answer"
   ]
  },
  {
   "cell_type": "code",
   "execution_count": 17,
   "metadata": {
    "collapsed": false
   },
   "outputs": [
    {
     "name": "stdout",
     "output_type": "stream",
     "text": [
      "Complete Columns in Doctors, Beds, Exercise:  0 / 115\n"
     ]
    }
   ],
   "source": [
    "# complete years in doctors, beds, exer\n",
    "comp_count = 0\n",
    "total_count = 0\n",
    "for df in [('doctors', doctors), ('beds', beds), ('exer', exer)]:\n",
    "    \n",
    "    # increment total column count\n",
    "    total_count += len(df[1].columns)\n",
    "    result = comp_yrs(df[1])\n",
    "    \n",
    "    # print complete columns\n",
    "    if result != []:\n",
    "        for col in result:\n",
    "            comp_count += 1\n",
    "            print df[0], col\n",
    "\n",
    "print 'Complete Columns in Doctors, Beds, Exercise: ', comp_count, '/', total_count"
   ]
  },
  {
   "cell_type": "code",
   "execution_count": 18,
   "metadata": {
    "collapsed": false,
    "scrolled": true
   },
   "outputs": [
    {
     "name": "stdout",
     "output_type": "stream",
     "text": [
      "Ricebran Oil \n",
      "[1992, 1993, 1994, 1995, 1996, 1997, 1998, 1999, 2000, 2001, 2002, 2003, 2004, 2005, 2006, 2007, 2008, 2009, 2010, 2011] \n",
      "\n",
      "Millet and products \n",
      "[1993, 1994, 1995, 1996, 1997, 1998, 1999, 2000, 2001, 2002, 2003, 2004, 2005, 2006, 2007, 2008, 2009, 2010, 2011] \n",
      "\n",
      "Sesame seed \n",
      "[2006, 2007, 2008, 2009, 2010, 2011] \n",
      "\n",
      "Sugar non-centrifugal \n",
      "[1961, 1962, 1963, 1964, 1965, 1966, 1967, 1968, 1969, 1970, 1971, 1972, 1973, 1974, 1975, 1976, 1977, 1978, 1979, 1980, 1981, 1982, 1983, 1984, 1985, 1986, 1987, 1988, 1989, 1990, 1991, 1992, 1993, 1994, 1995, 1996, 1997, 1998, 1999, 2000, 2001, 2002, 2003, 2004, 2005, 2006, 2007, 2008, 2009, 2010, 2011] \n",
      "\n",
      "Molasses \n",
      "[1961, 1962, 1963, 1964, 1965, 1966, 1967, 1968, 1969, 1970, 1971, 1972, 1973, 1974, 1975, 1976, 1977, 1978, 1979, 1980, 1981, 1982, 1983, 1984, 1985, 1986, 1987, 1988, 1989, 1990, 1991, 1992, 1993, 1994, 1995, 1996, 1997, 1998, 1999, 2000, 2001, 2002, 2003, 2004, 2005, 2006, 2007, 2008, 2009, 2010, 2011, 2012, 2013] \n",
      "\n",
      "Sugar beet \n",
      "[1990, 1991, 1992, 1993, 1994, 1995, 1996, 1997, 1998, 1999, 2000, 2001, 2002, 2003, 2004, 2005, 2006, 2007, 2008, 2009, 2010, 2011] \n",
      "\n",
      "Roots, Other \n",
      "[2006, 2007, 2008, 2009, 2010, 2011] \n",
      "\n",
      "Sorghum and products \n",
      "[1993, 1994, 1995, 1996, 1997, 1998, 1999, 2000, 2001, 2002, 2003, 2004, 2005, 2006, 2007, 2008, 2009, 2010, 2011] \n",
      "\n",
      "Sunflower seed \n",
      "[2006, 2007, 2008, 2009, 2010, 2011] \n",
      "\n",
      "Sugar Crops \n",
      "[1990, 1991, 1992, 1993, 1994, 1995, 1996, 1997, 1998, 1999, 2000, 2001, 2002, 2003, 2004, 2005, 2006, 2007, 2008, 2009, 2010, 2011] \n",
      "\n",
      "Cassava and products \n",
      "[1992, 1993, 1994, 1995, 1996, 1997, 1998, 1999, 2000, 2001, 2002, 2003, 2004, 2005, 2006, 2007, 2008, 2009, 2010, 2011] \n",
      "\n",
      "Sugar cane \n",
      "[1961, 1962, 1963, 1964, 1965, 1966, 1967, 1968, 1969, 1970, 1971, 1972, 1973, 1974, 1975, 1976, 1977, 1978, 1979, 1980, 1981, 1982, 1983, 1984, 1985, 1986, 1987, 1988, 1989, 1990, 1991, 1992, 1993, 1994, 1995, 1996, 1997, 1998, 1999, 2000, 2001, 2002, 2003, 2004, 2005, 2006, 2007, 2008, 2009, 2010, 2011] \n",
      "\n",
      "Yams \n",
      "[1993, 1994, 1995, 1996, 1997, 1998, 1999, 2000, 2001, 2002, 2003, 2004, 2005, 2006, 2007, 2008, 2009, 2010, 2011] \n",
      "\n",
      "Sweet potatoes \n",
      "[2006, 2007, 2008, 2009, 2010, 2011] \n",
      "\n",
      "Meat, Aquatic Mammals \n",
      "[1961, 1962, 1963, 1964, 1965, 1966, 1967, 1968, 1969, 1970, 1971, 1972, 1973, 1974, 1975, 1976, 1977, 1978, 1979, 1980, 1981, 1982, 1983, 1984, 1985, 1986, 1987, 1988, 1989, 1990, 1991, 1992, 1993, 1994, 1995, 1996, 1997, 1998, 1999, 2000, 2001, 2002, 2003, 2004, 2005, 2006, 2007, 2008, 2009, 2010, 2011] \n",
      "\n",
      "Meat Meal \n",
      "[1961, 1962, 1963, 1964, 1965, 1966, 1967, 1968, 1969, 1970, 1971, 1972, 1973, 1974, 1975, 1976, 1977, 1978, 1979, 1980, 1981, 1982, 1983, 1984, 1985, 1986, 1987, 1988, 1989, 1990, 1991, 1992, 1993, 1994, 1995, 1996, 1997, 1998, 1999, 2000, 2001, 2002, 2003, 2004, 2005, 2006, 2007, 2008, 2009, 2010, 2011] \n",
      "\n",
      "Whey \n",
      "[2006, 2007, 2008, 2009, 2010, 2011] \n",
      "\n",
      "Complete Columns in Food Data:  428 / 6466\n"
     ]
    }
   ],
   "source": [
    "# complete dfs in crops, meat\n",
    "comp_count = 0\n",
    "total_count = 0\n",
    "for group in [('crops', crops), ('meat', meat)]:\n",
    "    for name, df in group[1].items():\n",
    "        total_count += len(df.columns) \n",
    "        result = comp_yrs(df)\n",
    "        if result != []:\n",
    "            comp_count += len(result)\n",
    "            print name, '\\n', result, '\\n'\n",
    "            \n",
    "print 'Complete Columns in Food Data: ', comp_count, '/', total_count"
   ]
  },
  {
   "cell_type": "markdown",
   "metadata": {},
   "source": [
    "The number of complete years is quite sparse throughout the datasets. Let's check how many complete rows there are. Perhaps dropping a few countries will make many more years complete."
   ]
  },
  {
   "cell_type": "code",
   "execution_count": 19,
   "metadata": {
    "collapsed": true
   },
   "outputs": [],
   "source": [
    "nans_by_country = Counter()"
   ]
  },
  {
   "cell_type": "code",
   "execution_count": 20,
   "metadata": {
    "collapsed": true
   },
   "outputs": [],
   "source": [
    "# organize data into lists\n",
    "dicts = [deaths, crops, meat]\n",
    "dfs = [doctors, beds]"
   ]
  },
  {
   "cell_type": "code",
   "execution_count": 21,
   "metadata": {
    "collapsed": true
   },
   "outputs": [],
   "source": [
    "# count up the number of NaNs for each country in the df\n",
    "def count_nans(df, counter):\n",
    "    for row in df.iterrows():\n",
    "        # sum the number of NaNs in the row and add to the \n",
    "        # corresponding country's NaN count\n",
    "        country = row[0]\n",
    "        nan_count = sum(row[1].isnull())\n",
    "        counter[country] += nan_count"
   ]
  },
  {
   "cell_type": "code",
   "execution_count": 22,
   "metadata": {
    "collapsed": false
   },
   "outputs": [
    {
     "data": {
      "text/plain": [
       "[('Serbia', 4806),\n",
       " ('Montenegro', 4613),\n",
       " ('Belgium', 4268),\n",
       " ('Slovakia', 3650),\n",
       " ('Ethiopia', 3601),\n",
       " ('Czech Republic', 3559),\n",
       " ('The former Yugoslav republic of Macedonia', 3546),\n",
       " ('Slovenia', 3523),\n",
       " ('Kazakhstan', 3481),\n",
       " ('Russian Federation', 3469),\n",
       " ('Latvia', 3459),\n",
       " ('Republic of Moldova', 3447),\n",
       " ('Croatia', 3447),\n",
       " ('Lithuania', 3431),\n",
       " ('Estonia', 3431),\n",
       " ('Ukraine', 3425),\n",
       " ('Bosnia and Herzegovina', 3404),\n",
       " ('Belarus', 3393),\n",
       " ('Armenia', 3355),\n",
       " ('Georgia', 3347)]"
      ]
     },
     "execution_count": 22,
     "metadata": {},
     "output_type": "execute_result"
    }
   ],
   "source": [
    "# get total NaN values across all dataframes\n",
    "for dictionary in dicts:\n",
    "    # get to the dataframe\n",
    "    for df in dictionary.values():\n",
    "        count_nans(df, nans_by_country)\n",
    "        \n",
    "for df in dfs:\n",
    "    count_nans(df, nans_by_country)\n",
    "\n",
    "nans_by_country.most_common()[:20]"
   ]
  },
  {
   "cell_type": "markdown",
   "metadata": {},
   "source": [
    "That's a lot of NaNs. Let's now look at NaNs per country for each dataset, so we can get some granularity on which NaNs are more important."
   ]
  },
  {
   "cell_type": "code",
   "execution_count": 23,
   "metadata": {
    "collapsed": false
   },
   "outputs": [
    {
     "data": {
      "text/plain": [
       "[('Serbia', 3290),\n",
       " ('Montenegro', 3243),\n",
       " ('Belgium', 2993),\n",
       " ('Ethiopia', 2592),\n",
       " ('Slovakia', 2516),\n",
       " ('Czech Republic', 2482),\n",
       " ('Slovenia', 2475),\n",
       " ('The former Yugoslav republic of Macedonia', 2442),\n",
       " ('Kazakhstan', 2442),\n",
       " ('Russian Federation', 2409),\n",
       " ('Croatia', 2409),\n",
       " ('Lithuania', 2376),\n",
       " ('Republic of Moldova', 2376),\n",
       " ('Estonia', 2376),\n",
       " ('Latvia', 2376),\n",
       " ('Bosnia and Herzegovina', 2343),\n",
       " ('Armenia', 2343),\n",
       " ('Ukraine', 2343),\n",
       " ('Belarus', 2343),\n",
       " ('Georgia', 2343)]"
      ]
     },
     "execution_count": 23,
     "metadata": {},
     "output_type": "execute_result"
    }
   ],
   "source": [
    "# get countries with most nans for crops\n",
    "nans_crops = Counter()\n",
    "for df in crops.values():\n",
    "    count_nans(df, nans_crops)\n",
    "\n",
    "nans_crops = nans_crops.most_common()[:20]\n",
    "nans_crops"
   ]
  },
  {
   "cell_type": "code",
   "execution_count": 24,
   "metadata": {
    "collapsed": false
   },
   "outputs": [
    {
     "data": {
      "text/plain": [
       "[('Serbia', 1410),\n",
       " ('Montenegro', 1269),\n",
       " ('Belgium', 1230),\n",
       " ('Ukraine', 1023),\n",
       " ('Latvia', 1023),\n",
       " ('Slovakia', 1020),\n",
       " ('Czech Republic', 1020),\n",
       " ('Lithuania', 990),\n",
       " ('Slovenia', 990),\n",
       " ('Bosnia and Herzegovina', 990),\n",
       " ('Russian Federation', 990),\n",
       " ('Belarus', 990),\n",
       " ('The former Yugoslav republic of Macedonia', 990),\n",
       " ('Croatia', 990),\n",
       " ('Estonia', 990),\n",
       " ('Kazakhstan', 990),\n",
       " ('Azerbaijan', 957),\n",
       " ('Armenia', 957),\n",
       " ('Republic of Moldova', 957),\n",
       " ('Georgia', 957)]"
      ]
     },
     "execution_count": 24,
     "metadata": {},
     "output_type": "execute_result"
    }
   ],
   "source": [
    "# get countries with most nans for meat\n",
    "nans_meat = Counter()\n",
    "for df in meat.values():\n",
    "    count_nans(df, nans_meat)\n",
    "\n",
    "nans_meat = nans_meat.most_common()[:20]\n",
    "nans_meat"
   ]
  },
  {
   "cell_type": "code",
   "execution_count": 25,
   "metadata": {
    "collapsed": false
   },
   "outputs": [
    {
     "data": {
      "text/plain": [
       "[('United States of America', 57),\n",
       " ('Yemen', 57),\n",
       " ('Iran (Islamic Republic of)', 57),\n",
       " ('Viet Nam', 57),\n",
       " ('Slovakia', 57),\n",
       " ('Bolivia (Plurinational State of)', 57),\n",
       " ('The former Yugoslav republic of Macedonia', 57),\n",
       " ('Republic of Moldova', 57),\n",
       " ('Bahamas', 57),\n",
       " (\"Lao People's Democratic Republic\", 57),\n",
       " ('Gambia', 57),\n",
       " ('United Republic of Tanzania', 57),\n",
       " ('Venezuela (Bolivarian Republic of)', 57),\n",
       " ('Republic of Korea', 57),\n",
       " ('Democratic Republic of the Congo', 57),\n",
       " ('United Kingdom of Great Britain and Northern Ireland', 57),\n",
       " ('Kyrgyzstan', 57),\n",
       " ('South Sudan', 57),\n",
       " ('Egypt', 57),\n",
       " (\"Democratic People's Republic of Korea\", 57)]"
      ]
     },
     "execution_count": 25,
     "metadata": {},
     "output_type": "execute_result"
    }
   ],
   "source": [
    "# get countries with most nans for doctors\n",
    "nans_doctors = Counter()\n",
    "count_nans(doctors, nans_doctors)\n",
    "nans_doctors = nans_doctors.most_common()[:20]\n",
    "nans_doctors"
   ]
  },
  {
   "cell_type": "code",
   "execution_count": 26,
   "metadata": {
    "collapsed": false,
    "scrolled": false
   },
   "outputs": [
    {
     "data": {
      "text/plain": [
       "[('United States of America', 57),\n",
       " ('Yemen', 57),\n",
       " ('Iran (Islamic Republic of)', 57),\n",
       " ('Viet Nam', 57),\n",
       " ('Slovakia', 57),\n",
       " ('Bolivia (Plurinational State of)', 57),\n",
       " ('The former Yugoslav republic of Macedonia', 57),\n",
       " ('Republic of Moldova', 57),\n",
       " ('Bahamas', 57),\n",
       " (\"Lao People's Democratic Republic\", 57),\n",
       " ('Gambia', 57),\n",
       " ('United Republic of Tanzania', 57),\n",
       " ('Venezuela (Bolivarian Republic of)', 57),\n",
       " ('Republic of Korea', 57),\n",
       " ('Democratic Republic of the Congo', 57),\n",
       " ('United Kingdom of Great Britain and Northern Ireland', 57),\n",
       " ('Kyrgyzstan', 57),\n",
       " ('South Sudan', 57),\n",
       " ('Egypt', 57),\n",
       " (\"Democratic People's Republic of Korea\", 57)]"
      ]
     },
     "execution_count": 26,
     "metadata": {},
     "output_type": "execute_result"
    }
   ],
   "source": [
    "# get countries with most nans for beds\n",
    "nans_beds = Counter()\n",
    "count_nans(beds, nans_beds)\n",
    "nans_beds = nans_beds.most_common()[:20]\n",
    "nans_beds"
   ]
  },
  {
   "cell_type": "code",
   "execution_count": 28,
   "metadata": {
    "collapsed": false
   },
   "outputs": [
    {
     "data": {
      "text/plain": [
       "[('Turkmenistan', 1),\n",
       " ('Oman', 1),\n",
       " ('Yemen', 1),\n",
       " ('Albania', 1),\n",
       " ('Azerbaijan', 1),\n",
       " ('Tajikistan', 1),\n",
       " ('Afghanistan', 1),\n",
       " ('Syrian Arab Republic', 1),\n",
       " ('Somalia', 1),\n",
       " ('Peru', 1),\n",
       " ('Cuba', 1),\n",
       " ('Montenegro', 1),\n",
       " ('Armenia', 1),\n",
       " ('Timor-Leste', 1),\n",
       " ('Bolivia (Plurinational State of)', 1),\n",
       " ('Bahrain', 1),\n",
       " ('Belarus', 1),\n",
       " ('Angola', 1),\n",
       " ('Brunei Darussalam', 1),\n",
       " ('Uganda', 1)]"
      ]
     },
     "execution_count": 28,
     "metadata": {},
     "output_type": "execute_result"
    }
   ],
   "source": [
    "# get countries with most nans for exercise\n",
    "nans_exer = Counter()\n",
    "count_nans(exer, nans_exer)\n",
    "nans_exer = nans_exer.most_common()[:20]\n",
    "nans_exer"
   ]
  },
  {
   "cell_type": "markdown",
   "metadata": {},
   "source": [
    "Since exercise, beds, and doctors are really only supplemental data to this project, we should prioritize eliminating the NaNs appearing in the food data. We can varying numbers of countries with the most NaNs in the food data, then check how those drops increase the number of complete columns. In essence, we exchange the number of data points for more predictors. By trying out different numbers of countries to drop, we can find the tradeoff interaction between these two quantities."
   ]
  },
  {
   "cell_type": "code",
   "execution_count": 59,
   "metadata": {
    "collapsed": true
   },
   "outputs": [],
   "source": [
    "cols_vs_dropped_crops = pd.DataFrame()\n",
    "cols_vs_dropped_crops['complete columns'] = pd.Series()\n",
    "# get countries with most nans for crops\n",
    "crops_clean = crops.copy()\n",
    "counter = 1\n",
    "# for each country with the most NaNs\n",
    "for country, count in nans_crops:\n",
    "    # track the number of complete columns\n",
    "    complete_columns = 0\n",
    "    # for each dataframe in the dictionary\n",
    "    for key, df in crops_clean.items():\n",
    "        if country in df.index:\n",
    "            df = df.drop(country)\n",
    "            crops_clean[key] = df\n",
    "        # count the number of complete columns\n",
    "        complete_columns += sum(pd.isnull(df).sum() == 0)\n",
    "    cols_vs_dropped_crops.loc[counter] = complete_columns\n",
    "    counter += 1"
   ]
  },
  {
   "cell_type": "code",
   "execution_count": 80,
   "metadata": {
    "collapsed": false
   },
   "outputs": [
    {
     "data": {
      "text/html": [
       "<div>\n",
       "<table border=\"1\" class=\"dataframe\">\n",
       "  <thead>\n",
       "    <tr style=\"text-align: right;\">\n",
       "      <th></th>\n",
       "      <th>complete columns</th>\n",
       "    </tr>\n",
       "  </thead>\n",
       "  <tbody>\n",
       "    <tr>\n",
       "      <th>1</th>\n",
       "      <td>320.0</td>\n",
       "    </tr>\n",
       "    <tr>\n",
       "      <th>2</th>\n",
       "      <td>379.0</td>\n",
       "    </tr>\n",
       "    <tr>\n",
       "      <th>3</th>\n",
       "      <td>890.0</td>\n",
       "    </tr>\n",
       "    <tr>\n",
       "      <th>4</th>\n",
       "      <td>899.0</td>\n",
       "    </tr>\n",
       "    <tr>\n",
       "      <th>5</th>\n",
       "      <td>901.0</td>\n",
       "    </tr>\n",
       "    <tr>\n",
       "      <th>6</th>\n",
       "      <td>973.0</td>\n",
       "    </tr>\n",
       "    <tr>\n",
       "      <th>7</th>\n",
       "      <td>973.0</td>\n",
       "    </tr>\n",
       "    <tr>\n",
       "      <th>8</th>\n",
       "      <td>1004.0</td>\n",
       "    </tr>\n",
       "    <tr>\n",
       "      <th>9</th>\n",
       "      <td>1006.0</td>\n",
       "    </tr>\n",
       "    <tr>\n",
       "      <th>10</th>\n",
       "      <td>1037.0</td>\n",
       "    </tr>\n",
       "    <tr>\n",
       "      <th>11</th>\n",
       "      <td>1037.0</td>\n",
       "    </tr>\n",
       "    <tr>\n",
       "      <th>12</th>\n",
       "      <td>1037.0</td>\n",
       "    </tr>\n",
       "    <tr>\n",
       "      <th>13</th>\n",
       "      <td>1037.0</td>\n",
       "    </tr>\n",
       "    <tr>\n",
       "      <th>14</th>\n",
       "      <td>1037.0</td>\n",
       "    </tr>\n",
       "    <tr>\n",
       "      <th>15</th>\n",
       "      <td>1037.0</td>\n",
       "    </tr>\n",
       "    <tr>\n",
       "      <th>16</th>\n",
       "      <td>1037.0</td>\n",
       "    </tr>\n",
       "    <tr>\n",
       "      <th>17</th>\n",
       "      <td>1068.0</td>\n",
       "    </tr>\n",
       "    <tr>\n",
       "      <th>18</th>\n",
       "      <td>1068.0</td>\n",
       "    </tr>\n",
       "    <tr>\n",
       "      <th>19</th>\n",
       "      <td>1101.0</td>\n",
       "    </tr>\n",
       "    <tr>\n",
       "      <th>20</th>\n",
       "      <td>1103.0</td>\n",
       "    </tr>\n",
       "  </tbody>\n",
       "</table>\n",
       "</div>"
      ],
      "text/plain": [
       "    complete columns\n",
       "1              320.0\n",
       "2              379.0\n",
       "3              890.0\n",
       "4              899.0\n",
       "5              901.0\n",
       "6              973.0\n",
       "7              973.0\n",
       "8             1004.0\n",
       "9             1006.0\n",
       "10            1037.0\n",
       "11            1037.0\n",
       "12            1037.0\n",
       "13            1037.0\n",
       "14            1037.0\n",
       "15            1037.0\n",
       "16            1037.0\n",
       "17            1068.0\n",
       "18            1068.0\n",
       "19            1101.0\n",
       "20            1103.0"
      ]
     },
     "execution_count": 80,
     "metadata": {},
     "output_type": "execute_result"
    }
   ],
   "source": [
    "cols_vs_dropped_crops"
   ]
  },
  {
   "cell_type": "code",
   "execution_count": 77,
   "metadata": {
    "collapsed": false
   },
   "outputs": [
    {
     "data": {
      "text/plain": [
       "<matplotlib.text.Text at 0x10b6cc950>"
      ]
     },
     "execution_count": 77,
     "metadata": {},
     "output_type": "execute_result"
    },
    {
     "data": {
      "text/plain": [
       "<matplotlib.text.Text at 0x10b9c3250>"
      ]
     },
     "execution_count": 77,
     "metadata": {},
     "output_type": "execute_result"
    },
    {
     "data": {
      "text/plain": [
       "<matplotlib.text.Text at 0x10b1c36d0>"
      ]
     },
     "execution_count": 77,
     "metadata": {},
     "output_type": "execute_result"
    },
    {
     "data": {
      "image/png": "[encoded data removed]",
      "text/plain": [
       "<matplotlib.figure.Figure at 0x10b95ad10>"
      ]
     },
     "metadata": {},
     "output_type": "display_data"
    }
   ],
   "source": [
    "ax = cols_vs_dropped_crops.plot(legend = False)\n",
    "ax.set_xlabel(\"Countries Dropped\")\n",
    "ax.set_ylabel(\"Complete Columns\")\n",
    "ax.set_title(\"Complete Columns vs. Countries Dropped, Crops\")"
   ]
  },
  {
   "cell_type": "code",
   "execution_count": 61,
   "metadata": {
    "collapsed": true
   },
   "outputs": [],
   "source": [
    "cols_vs_dropped_meat = pd.DataFrame()\n",
    "cols_vs_dropped_meat['complete columns'] = pd.Series()\n",
    "# get countries with most nans for crops\n",
    "meat_clean = meat.copy()\n",
    "counter = 1\n",
    "# for each country with the most NaNs\n",
    "for country, count in nans_meat:\n",
    "    # track the number of complete columns\n",
    "    complete_columns = 0\n",
    "    # for each dataframe in the dictionary\n",
    "    for key, df in meat_clean.items():\n",
    "        if country in df.index:\n",
    "            df = df.drop(country)\n",
    "            meat_clean[key] = df\n",
    "        # count the number of complete columns\n",
    "        complete_columns += sum(pd.isnull(df).sum() == 0)\n",
    "    cols_vs_dropped_meat.loc[counter] = complete_columns\n",
    "    counter += 1"
   ]
  },
  {
   "cell_type": "code",
   "execution_count": 79,
   "metadata": {
    "collapsed": false
   },
   "outputs": [
    {
     "data": {
      "text/html": [
       "<div>\n",
       "<table border=\"1\" class=\"dataframe\">\n",
       "  <thead>\n",
       "    <tr style=\"text-align: right;\">\n",
       "      <th></th>\n",
       "      <th>complete columns</th>\n",
       "    </tr>\n",
       "  </thead>\n",
       "  <tbody>\n",
       "    <tr>\n",
       "      <th>1</th>\n",
       "      <td>122.0</td>\n",
       "    </tr>\n",
       "    <tr>\n",
       "      <th>2</th>\n",
       "      <td>122.0</td>\n",
       "    </tr>\n",
       "    <tr>\n",
       "      <th>3</th>\n",
       "      <td>332.0</td>\n",
       "    </tr>\n",
       "    <tr>\n",
       "      <th>4</th>\n",
       "      <td>332.0</td>\n",
       "    </tr>\n",
       "    <tr>\n",
       "      <th>5</th>\n",
       "      <td>363.0</td>\n",
       "    </tr>\n",
       "    <tr>\n",
       "      <th>6</th>\n",
       "      <td>363.0</td>\n",
       "    </tr>\n",
       "    <tr>\n",
       "      <th>7</th>\n",
       "      <td>364.0</td>\n",
       "    </tr>\n",
       "    <tr>\n",
       "      <th>8</th>\n",
       "      <td>364.0</td>\n",
       "    </tr>\n",
       "    <tr>\n",
       "      <th>9</th>\n",
       "      <td>364.0</td>\n",
       "    </tr>\n",
       "    <tr>\n",
       "      <th>10</th>\n",
       "      <td>364.0</td>\n",
       "    </tr>\n",
       "    <tr>\n",
       "      <th>11</th>\n",
       "      <td>364.0</td>\n",
       "    </tr>\n",
       "    <tr>\n",
       "      <th>12</th>\n",
       "      <td>364.0</td>\n",
       "    </tr>\n",
       "    <tr>\n",
       "      <th>13</th>\n",
       "      <td>364.0</td>\n",
       "    </tr>\n",
       "    <tr>\n",
       "      <th>14</th>\n",
       "      <td>364.0</td>\n",
       "    </tr>\n",
       "    <tr>\n",
       "      <th>15</th>\n",
       "      <td>364.0</td>\n",
       "    </tr>\n",
       "    <tr>\n",
       "      <th>16</th>\n",
       "      <td>364.0</td>\n",
       "    </tr>\n",
       "    <tr>\n",
       "      <th>17</th>\n",
       "      <td>364.0</td>\n",
       "    </tr>\n",
       "    <tr>\n",
       "      <th>18</th>\n",
       "      <td>364.0</td>\n",
       "    </tr>\n",
       "    <tr>\n",
       "      <th>19</th>\n",
       "      <td>364.0</td>\n",
       "    </tr>\n",
       "    <tr>\n",
       "      <th>20</th>\n",
       "      <td>364.0</td>\n",
       "    </tr>\n",
       "  </tbody>\n",
       "</table>\n",
       "</div>"
      ],
      "text/plain": [
       "    complete columns\n",
       "1              122.0\n",
       "2              122.0\n",
       "3              332.0\n",
       "4              332.0\n",
       "5              363.0\n",
       "6              363.0\n",
       "7              364.0\n",
       "8              364.0\n",
       "9              364.0\n",
       "10             364.0\n",
       "11             364.0\n",
       "12             364.0\n",
       "13             364.0\n",
       "14             364.0\n",
       "15             364.0\n",
       "16             364.0\n",
       "17             364.0\n",
       "18             364.0\n",
       "19             364.0\n",
       "20             364.0"
      ]
     },
     "execution_count": 79,
     "metadata": {},
     "output_type": "execute_result"
    }
   ],
   "source": [
    "cols_vs_dropped_meat"
   ]
  },
  {
   "cell_type": "code",
   "execution_count": 78,
   "metadata": {
    "collapsed": false
   },
   "outputs": [
    {
     "data": {
      "text/plain": [
       "<matplotlib.text.Text at 0x10b141490>"
      ]
     },
     "execution_count": 78,
     "metadata": {},
     "output_type": "execute_result"
    },
    {
     "data": {
      "text/plain": [
       "<matplotlib.text.Text at 0x10b95ac10>"
      ]
     },
     "execution_count": 78,
     "metadata": {},
     "output_type": "execute_result"
    },
    {
     "data": {
      "text/plain": [
       "<matplotlib.text.Text at 0x10be60590>"
      ]
     },
     "execution_count": 78,
     "metadata": {},
     "output_type": "execute_result"
    },
    {
     "data": {
      "image/png": "[encoded data removed]",
      "text/plain": [
       "<matplotlib.figure.Figure at 0x10b16f650>"
      ]
     },
     "metadata": {},
     "output_type": "display_data"
    }
   ],
   "source": [
    "ax = cols_vs_dropped_meat.plot(legend = False)\n",
    "ax.set_xlabel(\"Countries Dropped\")\n",
    "ax.set_ylabel(\"Complete Columns\")\n",
    "ax.set_title(\"Complete Columns vs. Countries Dropped, Meat\")"
   ]
  }
 ],
 "metadata": {
  "anaconda-cloud": {},
  "kernelspec": {
   "display_name": "Python 2",
   "language": "python",
   "name": "python2"
  },
  "language_info": {
   "codemirror_mode": {
    "name": "ipython",
    "version": 2
   },
   "file_extension": ".py",
   "mimetype": "text/x-python",
   "name": "python",
   "nbconvert_exporter": "python",
   "pygments_lexer": "ipython2",
   "version": "2.7.11"
  }
 },
 "nbformat": 4,
 "nbformat_minor": 0
}
