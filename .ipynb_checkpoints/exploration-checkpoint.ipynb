{
 "cells": [
  {
   "cell_type": "markdown",
   "metadata": {},
   "source": [
    "# CS109 Project: Exploration\n",
    "Work by Phillip Huang"
   ]
  },
  {
   "cell_type": "code",
   "execution_count": 1,
   "metadata": {
    "collapsed": true
   },
   "outputs": [],
   "source": [
    "# import packages\n",
    "import numpy as np\n",
    "import pandas as pd\n",
    "import matplotlib\n",
    "import matplotlib.pyplot as plt"
   ]
  },
  {
   "cell_type": "code",
   "execution_count": 2,
   "metadata": {
    "collapsed": false
   },
   "outputs": [],
   "source": [
    "# read data\n",
    "crops = pd.read_csv('data/FoodSupply_Crops_E_All_Data.csv')\n",
    "crops_norm = pd.read_csv('data/FoodSupply_Crops_E_All_Data_(Norm).csv')\n",
    "meat = pd.read_csv('data/FoodSupply_LivestockFish_E_All_Data.csv')\n",
    "meat_norm = pd.read_csv('data/FoodSupply_LivestockFish_E_All_Data_(Norm).csv')"
   ]
  },
  {
   "cell_type": "raw",
   "metadata": {},
   "source": []
  },
  {
   "cell_type": "code",
   "execution_count": 3,
   "metadata": {
    "collapsed": false
   },
   "outputs": [
    {
     "data": {
      "text/plain": [
       "Food supply quantity (kg/capita/yr)       216\n",
       "Food supply quantity (tonnes)             216\n",
       "Food supply quantity (g/capita/day)       216\n",
       "Food supply (kcal/capita/day)             216\n",
       "Fat supply quantity (g/capita/day)        197\n",
       "Protein supply quantity (g/capita/day)    194\n",
       "Name: Element, dtype: int64"
      ]
     },
     "execution_count": 3,
     "metadata": {},
     "output_type": "execute_result"
    }
   ],
   "source": [
    "crops[crops['Item'] == 'Apples and products']['Element'].value_counts()"
   ]
  },
  {
   "cell_type": "code",
   "execution_count": 4,
   "metadata": {
    "collapsed": false
   },
   "outputs": [
    {
     "data": {
      "text/plain": [
       "World                                      532\n",
       "Asia                                       529\n",
       "Americas                                   523\n",
       "Net Food Importing Developing Countries    523\n",
       "Low Income Food Deficit Countries          521\n",
       "Land Locked Developing Countries           520\n",
       "Least Developed Countries                  517\n",
       "South-Eastern Asia                         516\n",
       "Southern Asia                              515\n",
       "Eastern Asia                               514\n",
       "South America                              513\n",
       "European Union                             509\n",
       "Europe                                     509\n",
       "Africa                                     507\n",
       "Eastern Africa                             505\n",
       "China                                      504\n",
       "Small Island Developing States             503\n",
       "Western Asia                               500\n",
       "Central America                            499\n",
       "Western Africa                             497\n",
       "Caribbean                                  494\n",
       "Southern Europe                            492\n",
       "Oceania                                    489\n",
       "Nepal                                      489\n",
       "Northern Africa                            488\n",
       "Eastern Europe                             488\n",
       "Middle Africa                              487\n",
       "Northern America                           486\n",
       "Western Europe                             485\n",
       "C�te d'Ivoire                              481\n",
       "                                          ... \n",
       "Luxembourg                                 390\n",
       "USSR                                       390\n",
       "Suriname                                   388\n",
       "Czechoslovakia                             388\n",
       "Viet Nam                                   387\n",
       "Saint Vincent and the Grenadines           386\n",
       "Iceland                                    386\n",
       "Montenegro                                 386\n",
       "Antigua and Barbuda                        385\n",
       "Dominica                                   383\n",
       "Liberia                                    382\n",
       "Uzbekistan                                 379\n",
       "Saint Kitts and Nevis                      362\n",
       "Lao People's Democratic Republic           361\n",
       "Guinea-Bissau                              356\n",
       "Solomon Islands                            353\n",
       "Chad                                       349\n",
       "Sao Tome and Principe                      348\n",
       "Vanuatu                                    343\n",
       "Afghanistan                                336\n",
       "Micronesia                                 327\n",
       "Kiribati                                   327\n",
       "Samoa                                      315\n",
       "Democratic People's Republic of Korea      306\n",
       "Timor-Leste                                303\n",
       "Netherlands Antilles (former)              303\n",
       "Tajikistan                                 299\n",
       "Bermuda                                    284\n",
       "Lesotho                                    263\n",
       "Turkmenistan                               237\n",
       "Name: Country, dtype: int64"
      ]
     },
     "execution_count": 4,
     "metadata": {},
     "output_type": "execute_result"
    }
   ],
   "source": [
    "crops['Country'].value_counts()"
   ]
  }
 ],
 "metadata": {
  "anaconda-cloud": {},
  "kernelspec": {
   "display_name": "Python [Root]",
   "language": "python",
   "name": "Python [Root]"
  },
  "language_info": {
   "codemirror_mode": {
    "name": "ipython",
    "version": 2
   },
   "file_extension": ".py",
   "mimetype": "text/x-python",
   "name": "python",
   "nbconvert_exporter": "python",
   "pygments_lexer": "ipython2",
   "version": "2.7.12"
  }
 },
 "nbformat": 4,
 "nbformat_minor": 0
}
