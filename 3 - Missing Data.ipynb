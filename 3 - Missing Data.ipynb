{
 "cells": [
  {
   "cell_type": "markdown",
   "metadata": {},
   "source": [
    "# Notebook 3: Missing Data\n",
    "This notebook contains the code used to impute missing data for the dataset. Only code that implemented the final imputation method is included here. For other methods of imputation that were rejected, please see the Preliminary Missing Data iPython Notebook."
   ]
  },
  {
   "cell_type": "code",
   "execution_count": 6,
   "metadata": {
    "collapsed": true
   },
   "outputs": [],
   "source": [
    "# Import packages\n",
    "import numpy as np\n",
    "import pandas as pd\n",
    "import matplotlib\n",
    "import matplotlib.pyplot as plt\n",
    "from statsmodels.compat import lzip\n",
    "import statsmodels.formula.api as sm\n",
    "import statsmodels.stats.api as sms\n",
    "import pickle\n",
    "from sklearn.preprocessing import Imputer\n",
    "%matplotlib inline"
   ]
  },
  {
   "cell_type": "markdown",
   "metadata": {},
   "source": [
    "## Load in cleaned data\n",
    "Let's load in the data that we've cleaned and preprocessed."
   ]
  },
  {
   "cell_type": "code",
   "execution_count": 7,
   "metadata": {
    "collapsed": true
   },
   "outputs": [],
   "source": [
    "# Load cleaned NCD data from pickled files\n",
    "out = open('data/clean/deaths_100k.p', 'r')\n",
    "deaths_100k = pickle.load(out)\n",
    "out.close()\n",
    "out = open('data/clean/risk.p', 'r')\n",
    "risk_of_death = pickle.load(out)\n",
    "out.close()\n",
    "out = open('data/clean/crops.p', 'r')\n",
    "crops = pickle.load(out)\n",
    "out.close()\n",
    "out = open('data/clean/meat.p', 'r')\n",
    "meat = pickle.load(out)\n",
    "out.close()"
   ]
  },
  {
   "cell_type": "markdown",
   "metadata": {},
   "source": [
    "### Get Response Variables\n",
    "First let's isolate some possible response variables we might want to look at:\n",
    "* Deaths for 100k people in 2000 from all causes\n",
    "* Risk of death for 30 year old in 2000\n",
    "\n",
    "Note that the following analysis could naturally be extended to 2012 as well, but for this milestone we'll focus on the year 2000."
   ]
  },
  {
   "cell_type": "code",
   "execution_count": 8,
   "metadata": {
    "collapsed": true
   },
   "outputs": [],
   "source": [
    "# Get response variables\n",
    "deaths_100k_all_2000 = deaths_100k['all'][2000]\n",
    "deaths_100k_cancer_2000 = deaths_100k['cancer'][2000]\n",
    "deaths_100k_cardio_2000 = deaths_100k['cardio'][2000]\n",
    "deaths_100k_diabetes_2000 = deaths_100k['diabetes'][2000]\n",
    "deaths_100k_resp_2000 = deaths_100k['resp'][2000]\n",
    "\n",
    "risk_of_death_2000 = risk_of_death[2000]"
   ]
  },
  {
   "cell_type": "markdown",
   "metadata": {},
   "source": [
    "### Get Food Predictor Variables\n",
    "Next let's get the food predictors (crop and meat data). Rather than looking at single years, let's calculate the mean for each crop/meat in the 30 years preceding the year of our response variable."
   ]
  },
  {
   "cell_type": "code",
   "execution_count": 9,
   "metadata": {
    "collapsed": false
   },
   "outputs": [
    {
     "data": {
      "text/html": [
       "<div>\n",
       "<table border=\"1\" class=\"dataframe\">\n",
       "  <thead>\n",
       "    <tr style=\"text-align: right;\">\n",
       "      <th></th>\n",
       "      <th>Ricebran Oil</th>\n",
       "      <th>Oilcrops</th>\n",
       "      <th>Plantains</th>\n",
       "      <th>Sugar, Raw Equivalent</th>\n",
       "      <th>Beverages, Alcoholic</th>\n",
       "      <th>Roots &amp; Tuber Dry Equiv</th>\n",
       "      <th>Vegetable Oils</th>\n",
       "      <th>Olives (including preserved)</th>\n",
       "      <th>Cloves</th>\n",
       "      <th>Millet and products</th>\n",
       "      <th>...</th>\n",
       "      <th>Offals</th>\n",
       "      <th>Bovine Meat</th>\n",
       "      <th>Molluscs, Other</th>\n",
       "      <th>Fish, Body Oil</th>\n",
       "      <th>Aquatic Animals, Others</th>\n",
       "      <th>Animal fats</th>\n",
       "      <th>Honey</th>\n",
       "      <th>Offals, Edible</th>\n",
       "      <th>Demersal Fish</th>\n",
       "      <th>Cream</th>\n",
       "    </tr>\n",
       "    <tr>\n",
       "      <th>Country</th>\n",
       "      <th></th>\n",
       "      <th></th>\n",
       "      <th></th>\n",
       "      <th></th>\n",
       "      <th></th>\n",
       "      <th></th>\n",
       "      <th></th>\n",
       "      <th></th>\n",
       "      <th></th>\n",
       "      <th></th>\n",
       "      <th></th>\n",
       "      <th></th>\n",
       "      <th></th>\n",
       "      <th></th>\n",
       "      <th></th>\n",
       "      <th></th>\n",
       "      <th></th>\n",
       "      <th></th>\n",
       "      <th></th>\n",
       "      <th></th>\n",
       "      <th></th>\n",
       "    </tr>\n",
       "  </thead>\n",
       "  <tbody>\n",
       "    <tr>\n",
       "      <th>Afghanistan</th>\n",
       "      <td>NaN</td>\n",
       "      <td>2.629000</td>\n",
       "      <td>NaN</td>\n",
       "      <td>14.402000</td>\n",
       "      <td>0.002333</td>\n",
       "      <td>8.539333</td>\n",
       "      <td>7.995000</td>\n",
       "      <td>0.065333</td>\n",
       "      <td>NaN</td>\n",
       "      <td>5.360333</td>\n",
       "      <td>...</td>\n",
       "      <td>9.166000</td>\n",
       "      <td>16.762667</td>\n",
       "      <td>NaN</td>\n",
       "      <td>NaN</td>\n",
       "      <td>NaN</td>\n",
       "      <td>6.513000</td>\n",
       "      <td>0.687667</td>\n",
       "      <td>9.166000</td>\n",
       "      <td>NaN</td>\n",
       "      <td>0.000000</td>\n",
       "    </tr>\n",
       "    <tr>\n",
       "      <th>Albania</th>\n",
       "      <td>NaN</td>\n",
       "      <td>7.044333</td>\n",
       "      <td>NaN</td>\n",
       "      <td>50.132333</td>\n",
       "      <td>3.201000</td>\n",
       "      <td>10.253333</td>\n",
       "      <td>20.501000</td>\n",
       "      <td>7.017667</td>\n",
       "      <td>NaN</td>\n",
       "      <td>NaN</td>\n",
       "      <td>...</td>\n",
       "      <td>6.729333</td>\n",
       "      <td>18.681000</td>\n",
       "      <td>0.416000</td>\n",
       "      <td>0.0</td>\n",
       "      <td>0.0</td>\n",
       "      <td>8.995000</td>\n",
       "      <td>0.488667</td>\n",
       "      <td>6.734667</td>\n",
       "      <td>0.604000</td>\n",
       "      <td>0.005333</td>\n",
       "    </tr>\n",
       "    <tr>\n",
       "      <th>Algeria</th>\n",
       "      <td>NaN</td>\n",
       "      <td>1.646000</td>\n",
       "      <td>0.0</td>\n",
       "      <td>69.079333</td>\n",
       "      <td>0.108667</td>\n",
       "      <td>15.592333</td>\n",
       "      <td>33.352667</td>\n",
       "      <td>1.432667</td>\n",
       "      <td>0.004667</td>\n",
       "      <td>NaN</td>\n",
       "      <td>...</td>\n",
       "      <td>3.079333</td>\n",
       "      <td>9.742333</td>\n",
       "      <td>0.001000</td>\n",
       "      <td>0.0</td>\n",
       "      <td>0.0</td>\n",
       "      <td>5.180333</td>\n",
       "      <td>0.247333</td>\n",
       "      <td>3.079333</td>\n",
       "      <td>0.950333</td>\n",
       "      <td>NaN</td>\n",
       "    </tr>\n",
       "    <tr>\n",
       "      <th>Angola</th>\n",
       "      <td>NaN</td>\n",
       "      <td>3.671667</td>\n",
       "      <td>NaN</td>\n",
       "      <td>26.933333</td>\n",
       "      <td>1.855000</td>\n",
       "      <td>157.302000</td>\n",
       "      <td>21.056000</td>\n",
       "      <td>NaN</td>\n",
       "      <td>0.000000</td>\n",
       "      <td>16.849333</td>\n",
       "      <td>...</td>\n",
       "      <td>3.521333</td>\n",
       "      <td>21.081000</td>\n",
       "      <td>0.000333</td>\n",
       "      <td>0.0</td>\n",
       "      <td>0.0</td>\n",
       "      <td>1.588000</td>\n",
       "      <td>5.557000</td>\n",
       "      <td>3.521333</td>\n",
       "      <td>3.859667</td>\n",
       "      <td>NaN</td>\n",
       "    </tr>\n",
       "    <tr>\n",
       "      <th>Argentina</th>\n",
       "      <td>NaN</td>\n",
       "      <td>1.813000</td>\n",
       "      <td>NaN</td>\n",
       "      <td>113.051667</td>\n",
       "      <td>10.766000</td>\n",
       "      <td>41.883333</td>\n",
       "      <td>35.942667</td>\n",
       "      <td>1.235333</td>\n",
       "      <td>0.000333</td>\n",
       "      <td>NaN</td>\n",
       "      <td>...</td>\n",
       "      <td>19.928000</td>\n",
       "      <td>192.834333</td>\n",
       "      <td>0.675000</td>\n",
       "      <td>0.0</td>\n",
       "      <td>0.0</td>\n",
       "      <td>10.627667</td>\n",
       "      <td>0.505000</td>\n",
       "      <td>19.933333</td>\n",
       "      <td>13.161333</td>\n",
       "      <td>0.157000</td>\n",
       "    </tr>\n",
       "  </tbody>\n",
       "</table>\n",
       "<p>5 rows × 122 columns</p>\n",
       "</div>"
      ],
      "text/plain": [
       "             Ricebran Oil  Oilcrops  Plantains  Sugar, Raw Equivalent  \\\n",
       "Country                                                                 \n",
       "Afghanistan           NaN  2.629000        NaN              14.402000   \n",
       "Albania               NaN  7.044333        NaN              50.132333   \n",
       "Algeria               NaN  1.646000        0.0              69.079333   \n",
       "Angola                NaN  3.671667        NaN              26.933333   \n",
       "Argentina             NaN  1.813000        NaN             113.051667   \n",
       "\n",
       "             Beverages, Alcoholic  Roots & Tuber Dry Equiv  Vegetable Oils  \\\n",
       "Country                                                                      \n",
       "Afghanistan              0.002333                 8.539333        7.995000   \n",
       "Albania                  3.201000                10.253333       20.501000   \n",
       "Algeria                  0.108667                15.592333       33.352667   \n",
       "Angola                   1.855000               157.302000       21.056000   \n",
       "Argentina               10.766000                41.883333       35.942667   \n",
       "\n",
       "             Olives (including preserved)    Cloves  Millet and products  \\\n",
       "Country                                                                    \n",
       "Afghanistan                      0.065333       NaN             5.360333   \n",
       "Albania                          7.017667       NaN                  NaN   \n",
       "Algeria                          1.432667  0.004667                  NaN   \n",
       "Angola                                NaN  0.000000            16.849333   \n",
       "Argentina                        1.235333  0.000333                  NaN   \n",
       "\n",
       "               ...        Offals  Bovine Meat  Molluscs, Other  \\\n",
       "Country        ...                                               \n",
       "Afghanistan    ...      9.166000    16.762667              NaN   \n",
       "Albania        ...      6.729333    18.681000         0.416000   \n",
       "Algeria        ...      3.079333     9.742333         0.001000   \n",
       "Angola         ...      3.521333    21.081000         0.000333   \n",
       "Argentina      ...     19.928000   192.834333         0.675000   \n",
       "\n",
       "             Fish, Body Oil  Aquatic Animals, Others  Animal fats     Honey  \\\n",
       "Country                                                                       \n",
       "Afghanistan             NaN                      NaN     6.513000  0.687667   \n",
       "Albania                 0.0                      0.0     8.995000  0.488667   \n",
       "Algeria                 0.0                      0.0     5.180333  0.247333   \n",
       "Angola                  0.0                      0.0     1.588000  5.557000   \n",
       "Argentina               0.0                      0.0    10.627667  0.505000   \n",
       "\n",
       "             Offals, Edible  Demersal Fish     Cream  \n",
       "Country                                               \n",
       "Afghanistan        9.166000            NaN  0.000000  \n",
       "Albania            6.734667       0.604000  0.005333  \n",
       "Algeria            3.079333       0.950333       NaN  \n",
       "Angola             3.521333       3.859667       NaN  \n",
       "Argentina         19.933333      13.161333  0.157000  \n",
       "\n",
       "[5 rows x 122 columns]"
      ]
     },
     "execution_count": 9,
     "metadata": {},
     "output_type": "execute_result"
    }
   ],
   "source": [
    "# TODO: Turn this process into a function later?\n",
    "time_period = range(1970, 2000)\n",
    "\n",
    "# Calculate the mean for each crop/meat over the period 1970-2000\n",
    "food_1970_2000 = pd.DataFrame(index=risk_of_death.index)\n",
    "\n",
    "for crop in crops.iterkeys():\n",
    "    food_1970_2000[crop] = crops[crop][time_period].mean(axis=1)\n",
    "    \n",
    "for m in meat.iterkeys():\n",
    "    food_1970_2000[m] = meat[m][time_period].mean(axis=1)\n",
    "\n",
    "food_1970_2000.head()"
   ]
  },
  {
   "cell_type": "markdown",
   "metadata": {},
   "source": [
    "### Dropping sparse columns and rows"
   ]
  },
  {
   "cell_type": "markdown",
   "metadata": {},
   "source": [
    "Unfortunately it looks like even after averaging over thirty years, we still have quite a bit of NaN's. Let's try dropping the countries that are almost half NaN's:"
   ]
  },
  {
   "cell_type": "code",
   "execution_count": 10,
   "metadata": {
    "collapsed": false
   },
   "outputs": [
    {
     "name": "stdout",
     "output_type": "stream",
     "text": [
      "['Bahrain', 'Belgium', 'Bhutan', 'Burundi', 'Comoros', 'Democratic Republic of the Congo', 'Equatorial Guinea', 'Eritrea', 'Libya', 'Montenegro', 'Papua New Guinea', 'Qatar', 'Serbia', 'Singapore', 'Somalia', 'South Sudan', 'Sudan', 'Syrian Arab Republic']\n",
      "Number of countries to drop: 18\n"
     ]
    }
   ],
   "source": [
    "# list of countries to drop due to being less than 50% full\n",
    "countries_to_drop = []\n",
    "\n",
    "for index, row in food_1970_2000.iterrows():\n",
    "    if row.isnull().sum() > len(row) / 2:\n",
    "        countries_to_drop.append(index)\n",
    "\n",
    "print countries_to_drop\n",
    "print \"Number of countries to drop:\", len(countries_to_drop)"
   ]
  },
  {
   "cell_type": "code",
   "execution_count": 11,
   "metadata": {
    "collapsed": true
   },
   "outputs": [],
   "source": [
    "# Drop the identified countries with very sparse data\n",
    "food_1970_2000_cleaned = food_1970_2000.drop(countries_to_drop)"
   ]
  },
  {
   "cell_type": "markdown",
   "metadata": {},
   "source": [
    "Let's also see how many columns are very sparse (< 50% full) and consider dropping them as well if there are not too many."
   ]
  },
  {
   "cell_type": "code",
   "execution_count": 12,
   "metadata": {
    "collapsed": false
   },
   "outputs": [
    {
     "name": "stdout",
     "output_type": "stream",
     "text": [
      "['Ricebran Oil', 'Millet and products', 'Sugar non-centrifugal', 'Molasses', 'Sugar beet', 'Sorghum and products', 'Sunflower seed', 'Sugar Crops', 'Sugar cane', 'Yams', 'Meat, Aquatic Mammals', 'Meat Meal', 'Whey']\n",
      "Number of columns to drop: 13\n"
     ]
    }
   ],
   "source": [
    "cols_to_drop = []\n",
    "\n",
    "# Identify sparse columns to drop\n",
    "for col in food_1970_2000_cleaned.columns:\n",
    "    if food_1970_2000_cleaned[col].isnull().sum() > len(food_1970_2000_cleaned[col]) / 2:\n",
    "        cols_to_drop.append(col)\n",
    "        \n",
    "print cols_to_drop\n",
    "print \"Number of columns to drop:\", len(cols_to_drop)"
   ]
  },
  {
   "cell_type": "markdown",
   "metadata": {},
   "source": [
    "Overall, there aren't too many columns to drop. However, unfortunately data on sugar-related products seems to be disproportionately sparse (which makes sense since very few countries have the correct conditions to grow sugar domestically). We'll drop these columns for now. \n",
    "\n",
    "The good news is though that we still have many columns that still contain sugar-related products even after dropping, so we should still be able to use sugar as a predictor in some form."
   ]
  },
  {
   "cell_type": "code",
   "execution_count": 13,
   "metadata": {
    "collapsed": true
   },
   "outputs": [],
   "source": [
    "# Drop identified crops with very sparse data\n",
    "food_1970_2000_cleaned = food_1970_2000_cleaned.drop(cols_to_drop, axis=1)"
   ]
  },
  {
   "cell_type": "code",
   "execution_count": 14,
   "metadata": {
    "collapsed": false
   },
   "outputs": [
    {
     "name": "stdout",
     "output_type": "stream",
     "text": [
      "Percentage NaN cells after dropping: 0.0638031693078\n"
     ]
    }
   ],
   "source": [
    "# Sanity check to see what percentage of cells are missing\n",
    "print \"Percentage NaN cells after dropping:\", food_1970_2000_cleaned.isnull().sum().sum() / float(food_1970_2000_cleaned.shape[0] * food_1970_2000_cleaned.shape[1])"
   ]
  },
  {
   "cell_type": "markdown",
   "metadata": {},
   "source": [
    "### Imputation of Missing Values\n",
    "Since the number of NaN cells has drastically been reduced, now let's use simple mean imputation (global average per crop) to fill them in. It may be worth investigating other methods for imputation in the future, but given the small number of NaN's now, this method should not have a huge impact on our results. Imputing via the global average introduces the least bias, as the overall results will only gravitate toward the mean with this imputation."
   ]
  },
  {
   "cell_type": "code",
   "execution_count": 18,
   "metadata": {
    "collapsed": true
   },
   "outputs": [],
   "source": [
    "# Impute by mean for each column (i.e. global average per crop)\n",
    "imp = Imputer(axis=1)\n",
    "food_1970_2000_cleaned = pd.DataFrame(imp.fit_transform(food_1970_2000_cleaned), index=food_1970_2000_cleaned.index, columns=food_1970_2000_cleaned.columns)"
   ]
  },
  {
   "cell_type": "code",
   "execution_count": 19,
   "metadata": {
    "collapsed": false
   },
   "outputs": [
    {
     "data": {
      "text/html": [
       "<div>\n",
       "<table border=\"1\" class=\"dataframe\">\n",
       "  <thead>\n",
       "    <tr style=\"text-align: right;\">\n",
       "      <th></th>\n",
       "      <th>Oilcrops</th>\n",
       "      <th>Plantains</th>\n",
       "      <th>Sugar, Raw Equivalent</th>\n",
       "      <th>Beverages, Alcoholic</th>\n",
       "      <th>Roots &amp; Tuber Dry Equiv</th>\n",
       "      <th>Vegetable Oils</th>\n",
       "      <th>Olives (including preserved)</th>\n",
       "      <th>Cloves</th>\n",
       "      <th>Coconuts - Incl Copra</th>\n",
       "      <th>Treenuts</th>\n",
       "      <th>...</th>\n",
       "      <th>Offals</th>\n",
       "      <th>Bovine Meat</th>\n",
       "      <th>Molluscs, Other</th>\n",
       "      <th>Fish, Body Oil</th>\n",
       "      <th>Aquatic Animals, Others</th>\n",
       "      <th>Animal fats</th>\n",
       "      <th>Honey</th>\n",
       "      <th>Offals, Edible</th>\n",
       "      <th>Demersal Fish</th>\n",
       "      <th>Cream</th>\n",
       "    </tr>\n",
       "    <tr>\n",
       "      <th>Country</th>\n",
       "      <th></th>\n",
       "      <th></th>\n",
       "      <th></th>\n",
       "      <th></th>\n",
       "      <th></th>\n",
       "      <th></th>\n",
       "      <th></th>\n",
       "      <th></th>\n",
       "      <th></th>\n",
       "      <th></th>\n",
       "      <th></th>\n",
       "      <th></th>\n",
       "      <th></th>\n",
       "      <th></th>\n",
       "      <th></th>\n",
       "      <th></th>\n",
       "      <th></th>\n",
       "      <th></th>\n",
       "      <th></th>\n",
       "      <th></th>\n",
       "      <th></th>\n",
       "    </tr>\n",
       "  </thead>\n",
       "  <tbody>\n",
       "    <tr>\n",
       "      <th>Afghanistan</th>\n",
       "      <td>2.629000</td>\n",
       "      <td>29.068781</td>\n",
       "      <td>14.402000</td>\n",
       "      <td>0.002333</td>\n",
       "      <td>8.539333</td>\n",
       "      <td>7.995000</td>\n",
       "      <td>0.065333</td>\n",
       "      <td>29.068781</td>\n",
       "      <td>0.015000</td>\n",
       "      <td>2.327333</td>\n",
       "      <td>...</td>\n",
       "      <td>9.166000</td>\n",
       "      <td>16.762667</td>\n",
       "      <td>29.068781</td>\n",
       "      <td>29.068781</td>\n",
       "      <td>29.068781</td>\n",
       "      <td>6.513000</td>\n",
       "      <td>0.687667</td>\n",
       "      <td>9.166000</td>\n",
       "      <td>29.068781</td>\n",
       "      <td>0.000000</td>\n",
       "    </tr>\n",
       "    <tr>\n",
       "      <th>Albania</th>\n",
       "      <td>7.044333</td>\n",
       "      <td>32.502693</td>\n",
       "      <td>50.132333</td>\n",
       "      <td>3.201000</td>\n",
       "      <td>10.253333</td>\n",
       "      <td>20.501000</td>\n",
       "      <td>7.017667</td>\n",
       "      <td>32.502693</td>\n",
       "      <td>0.006333</td>\n",
       "      <td>4.350000</td>\n",
       "      <td>...</td>\n",
       "      <td>6.729333</td>\n",
       "      <td>18.681000</td>\n",
       "      <td>0.416000</td>\n",
       "      <td>0.000000</td>\n",
       "      <td>0.000000</td>\n",
       "      <td>8.995000</td>\n",
       "      <td>0.488667</td>\n",
       "      <td>6.734667</td>\n",
       "      <td>0.604000</td>\n",
       "      <td>0.005333</td>\n",
       "    </tr>\n",
       "    <tr>\n",
       "      <th>Algeria</th>\n",
       "      <td>1.646000</td>\n",
       "      <td>0.000000</td>\n",
       "      <td>69.079333</td>\n",
       "      <td>0.108667</td>\n",
       "      <td>15.592333</td>\n",
       "      <td>33.352667</td>\n",
       "      <td>1.432667</td>\n",
       "      <td>0.004667</td>\n",
       "      <td>0.012000</td>\n",
       "      <td>1.453667</td>\n",
       "      <td>...</td>\n",
       "      <td>3.079333</td>\n",
       "      <td>9.742333</td>\n",
       "      <td>0.001000</td>\n",
       "      <td>0.000000</td>\n",
       "      <td>0.000000</td>\n",
       "      <td>5.180333</td>\n",
       "      <td>0.247333</td>\n",
       "      <td>3.079333</td>\n",
       "      <td>0.950333</td>\n",
       "      <td>25.450712</td>\n",
       "    </tr>\n",
       "    <tr>\n",
       "      <th>Angola</th>\n",
       "      <td>3.671667</td>\n",
       "      <td>26.325172</td>\n",
       "      <td>26.933333</td>\n",
       "      <td>1.855000</td>\n",
       "      <td>157.302000</td>\n",
       "      <td>21.056000</td>\n",
       "      <td>26.325172</td>\n",
       "      <td>0.000000</td>\n",
       "      <td>0.000000</td>\n",
       "      <td>0.401000</td>\n",
       "      <td>...</td>\n",
       "      <td>3.521333</td>\n",
       "      <td>21.081000</td>\n",
       "      <td>0.000333</td>\n",
       "      <td>0.000000</td>\n",
       "      <td>0.000000</td>\n",
       "      <td>1.588000</td>\n",
       "      <td>5.557000</td>\n",
       "      <td>3.521333</td>\n",
       "      <td>3.859667</td>\n",
       "      <td>26.325172</td>\n",
       "    </tr>\n",
       "    <tr>\n",
       "      <th>Argentina</th>\n",
       "      <td>1.813000</td>\n",
       "      <td>44.950187</td>\n",
       "      <td>113.051667</td>\n",
       "      <td>10.766000</td>\n",
       "      <td>41.883333</td>\n",
       "      <td>35.942667</td>\n",
       "      <td>1.235333</td>\n",
       "      <td>0.000333</td>\n",
       "      <td>0.584000</td>\n",
       "      <td>1.133000</td>\n",
       "      <td>...</td>\n",
       "      <td>19.928000</td>\n",
       "      <td>192.834333</td>\n",
       "      <td>0.675000</td>\n",
       "      <td>0.000000</td>\n",
       "      <td>0.000000</td>\n",
       "      <td>10.627667</td>\n",
       "      <td>0.505000</td>\n",
       "      <td>19.933333</td>\n",
       "      <td>13.161333</td>\n",
       "      <td>0.157000</td>\n",
       "    </tr>\n",
       "  </tbody>\n",
       "</table>\n",
       "<p>5 rows × 109 columns</p>\n",
       "</div>"
      ],
      "text/plain": [
       "             Oilcrops  Plantains  Sugar, Raw Equivalent  Beverages, Alcoholic  \\\n",
       "Country                                                                         \n",
       "Afghanistan  2.629000  29.068781              14.402000              0.002333   \n",
       "Albania      7.044333  32.502693              50.132333              3.201000   \n",
       "Algeria      1.646000   0.000000              69.079333              0.108667   \n",
       "Angola       3.671667  26.325172              26.933333              1.855000   \n",
       "Argentina    1.813000  44.950187             113.051667             10.766000   \n",
       "\n",
       "             Roots & Tuber Dry Equiv  Vegetable Oils  \\\n",
       "Country                                                \n",
       "Afghanistan                 8.539333        7.995000   \n",
       "Albania                    10.253333       20.501000   \n",
       "Algeria                    15.592333       33.352667   \n",
       "Angola                    157.302000       21.056000   \n",
       "Argentina                  41.883333       35.942667   \n",
       "\n",
       "             Olives (including preserved)     Cloves  Coconuts - Incl Copra  \\\n",
       "Country                                                                       \n",
       "Afghanistan                      0.065333  29.068781               0.015000   \n",
       "Albania                          7.017667  32.502693               0.006333   \n",
       "Algeria                          1.432667   0.004667               0.012000   \n",
       "Angola                          26.325172   0.000000               0.000000   \n",
       "Argentina                        1.235333   0.000333               0.584000   \n",
       "\n",
       "             Treenuts    ...         Offals  Bovine Meat  Molluscs, Other  \\\n",
       "Country                  ...                                                \n",
       "Afghanistan  2.327333    ...       9.166000    16.762667        29.068781   \n",
       "Albania      4.350000    ...       6.729333    18.681000         0.416000   \n",
       "Algeria      1.453667    ...       3.079333     9.742333         0.001000   \n",
       "Angola       0.401000    ...       3.521333    21.081000         0.000333   \n",
       "Argentina    1.133000    ...      19.928000   192.834333         0.675000   \n",
       "\n",
       "             Fish, Body Oil  Aquatic Animals, Others  Animal fats     Honey  \\\n",
       "Country                                                                       \n",
       "Afghanistan       29.068781                29.068781     6.513000  0.687667   \n",
       "Albania            0.000000                 0.000000     8.995000  0.488667   \n",
       "Algeria            0.000000                 0.000000     5.180333  0.247333   \n",
       "Angola             0.000000                 0.000000     1.588000  5.557000   \n",
       "Argentina          0.000000                 0.000000    10.627667  0.505000   \n",
       "\n",
       "             Offals, Edible  Demersal Fish      Cream  \n",
       "Country                                                \n",
       "Afghanistan        9.166000      29.068781   0.000000  \n",
       "Albania            6.734667       0.604000   0.005333  \n",
       "Algeria            3.079333       0.950333  25.450712  \n",
       "Angola             3.521333       3.859667  26.325172  \n",
       "Argentina         19.933333      13.161333   0.157000  \n",
       "\n",
       "[5 rows x 109 columns]"
      ]
     },
     "execution_count": 19,
     "metadata": {},
     "output_type": "execute_result"
    }
   ],
   "source": [
    "food_1970_2000_cleaned.head()"
   ]
  },
  {
   "cell_type": "code",
   "execution_count": 22,
   "metadata": {
    "collapsed": false
   },
   "outputs": [],
   "source": [
    "# Write the cleaned food dataset to pickle for use later\n",
    "pickle.dump(food_1970_2000_cleaned, open('data/imputed/food_1970_2000_cleaned.p', 'wb'))"
   ]
  }
 ],
 "metadata": {
  "anaconda-cloud": {},
  "kernelspec": {
   "display_name": "Python [Root]",
   "language": "python",
   "name": "Python [Root]"
  },
  "language_info": {
   "codemirror_mode": {
    "name": "ipython",
    "version": 2
   },
   "file_extension": ".py",
   "mimetype": "text/x-python",
   "name": "python",
   "nbconvert_exporter": "python",
   "pygments_lexer": "ipython2",
   "version": "2.7.12"
  }
 },
 "nbformat": 4,
 "nbformat_minor": 0
}
