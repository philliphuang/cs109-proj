{
 "cells": [
  {
   "cell_type": "markdown",
   "metadata": {},
   "source": [
    "# Notebook 7: Manual Variable Selection\n",
    "During the course of this project, the FAO revised their website to include variable descriptions for each of the food items in the crop and livestock data. Inspecting these descriptions revealed to us that many of the food items overlapped and several were incorrectly defined. Clearly, using these food items will completely confound our results for our statistical models. Here, we manually check and eliminate all the variables that are redundant, incorrectly defined, or completely ambiguous in content. "
   ]
  },
  {
   "cell_type": "code",
   "execution_count": 12,
   "metadata": {
    "collapsed": true
   },
   "outputs": [],
   "source": [
    "# Import packages\n",
    "import numpy as np\n",
    "import pandas as pd\n",
    "import matplotlib\n",
    "import matplotlib.pyplot as plt\n",
    "import statsmodels.formula.api as sm\n",
    "import pickle\n",
    "from collections import Counter\n",
    "from sklearn.preprocessing import Imputer\n",
    "%matplotlib inline"
   ]
  },
  {
   "cell_type": "markdown",
   "metadata": {},
   "source": [
    "### Removing Redundant Variables\n",
    "We found Metadata on the dataset through the FAO website. We will analyze what subcategories each variable contains, and drop some of the variables whose subcategories overlap with those of other variables. This should help to reduce the multicollinearity of the final model."
   ]
  },
  {
   "cell_type": "code",
   "execution_count": 13,
   "metadata": {
    "collapsed": false
   },
   "outputs": [],
   "source": [
    "# import variable descriptions\n",
    "livestock_desc = pd.read_csv(\"data/metadata/var_desc_livestock.csv\")\n",
    "crops_desc = pd.read_csv(\"data/metadata/var_desc_crops.csv\")"
   ]
  },
  {
   "cell_type": "code",
   "execution_count": 14,
   "metadata": {
    "collapsed": true
   },
   "outputs": [],
   "source": [
    "# Load cleaned NCD data from pickled files\n",
    "out = open('data/clean/var_desc_livestock.p', 'rb')\n",
    "livestock_desc = pickle.load(out)\n",
    "out.close()\n",
    "out = open('data/clean/var_desc_crops.p', 'rb')\n",
    "crops_desc = pickle.load(out)\n",
    "out.close\n",
    "\n",
    "# load cleaned food data\n",
    "out = open('data/imputed/food_1970_2000_cleaned.p', 'r')\n",
    "food_1970_2000_cleaned = pickle.load(out)"
   ]
  },
  {
   "cell_type": "code",
   "execution_count": 15,
   "metadata": {
    "collapsed": false
   },
   "outputs": [],
   "source": [
    "livestock_desc['Description'] = livestock_desc['Description'].astype('string')\n",
    "crops_desc['Description'] = crops_desc['Description'].astype('string')"
   ]
  },
  {
   "cell_type": "code",
   "execution_count": 16,
   "metadata": {
    "collapsed": false
   },
   "outputs": [
    {
     "data": {
      "text/html": [
       "<div>\n",
       "<table border=\"1\" class=\"dataframe\">\n",
       "  <thead>\n",
       "    <tr style=\"text-align: right;\">\n",
       "      <th></th>\n",
       "      <th>Item Code</th>\n",
       "      <th>Item</th>\n",
       "      <th>Description</th>\n",
       "      <th>HS Code</th>\n",
       "      <th>HS07 Code</th>\n",
       "      <th>HS12 Code</th>\n",
       "      <th>CPC Code</th>\n",
       "    </tr>\n",
       "  </thead>\n",
       "  <tbody>\n",
       "    <tr>\n",
       "      <th>0</th>\n",
       "      <td>2946</td>\n",
       "      <td>Animal fats</td>\n",
       "      <td>nan</td>\n",
       "      <td>NaN</td>\n",
       "      <td>NaN</td>\n",
       "      <td>NaN</td>\n",
       "      <td>NaN</td>\n",
       "    </tr>\n",
       "    <tr>\n",
       "      <th>1</th>\n",
       "      <td>2941</td>\n",
       "      <td>Animal Products</td>\n",
       "      <td>nan</td>\n",
       "      <td>NaN</td>\n",
       "      <td>NaN</td>\n",
       "      <td>NaN</td>\n",
       "      <td>NaN</td>\n",
       "    </tr>\n",
       "    <tr>\n",
       "      <th>2</th>\n",
       "      <td>2769</td>\n",
       "      <td>Aquatic Animals, Others</td>\n",
       "      <td>Default composition: 1587 Aqutc Anim F, 1588 A...</td>\n",
       "      <td>NaN</td>\n",
       "      <td>NaN</td>\n",
       "      <td>NaN</td>\n",
       "      <td>NaN</td>\n",
       "    </tr>\n",
       "    <tr>\n",
       "      <th>3</th>\n",
       "      <td>2775</td>\n",
       "      <td>Aquatic Plants</td>\n",
       "      <td>Default composition: 1594 Aquatic plants, fres...</td>\n",
       "      <td>NaN</td>\n",
       "      <td>NaN</td>\n",
       "      <td>NaN</td>\n",
       "      <td>NaN</td>\n",
       "    </tr>\n",
       "    <tr>\n",
       "      <th>4</th>\n",
       "      <td>2961</td>\n",
       "      <td>Aquatic Products, Other</td>\n",
       "      <td>nan</td>\n",
       "      <td>NaN</td>\n",
       "      <td>NaN</td>\n",
       "      <td>NaN</td>\n",
       "      <td>NaN</td>\n",
       "    </tr>\n",
       "  </tbody>\n",
       "</table>\n",
       "</div>"
      ],
      "text/plain": [
       "   Item Code                     Item  \\\n",
       "0       2946              Animal fats   \n",
       "1       2941          Animal Products   \n",
       "2       2769  Aquatic Animals, Others   \n",
       "3       2775           Aquatic Plants   \n",
       "4       2961  Aquatic Products, Other   \n",
       "\n",
       "                                         Description  HS Code  HS07 Code  \\\n",
       "0                                                nan      NaN        NaN   \n",
       "1                                                nan      NaN        NaN   \n",
       "2  Default composition: 1587 Aqutc Anim F, 1588 A...      NaN        NaN   \n",
       "3  Default composition: 1594 Aquatic plants, fres...      NaN        NaN   \n",
       "4                                                nan      NaN        NaN   \n",
       "\n",
       "   HS12 Code  CPC Code  \n",
       "0        NaN       NaN  \n",
       "1        NaN       NaN  \n",
       "2        NaN       NaN  \n",
       "3        NaN       NaN  \n",
       "4        NaN       NaN  "
      ]
     },
     "execution_count": 16,
     "metadata": {},
     "output_type": "execute_result"
    }
   ],
   "source": [
    "livestock_desc.head()"
   ]
  },
  {
   "cell_type": "code",
   "execution_count": 17,
   "metadata": {
    "collapsed": false
   },
   "outputs": [
    {
     "data": {
      "text/html": [
       "<div>\n",
       "<table border=\"1\" class=\"dataframe\">\n",
       "  <thead>\n",
       "    <tr style=\"text-align: right;\">\n",
       "      <th></th>\n",
       "      <th>Item Code</th>\n",
       "      <th>Item</th>\n",
       "      <th>Description</th>\n",
       "      <th>HS Code</th>\n",
       "      <th>HS07 Code</th>\n",
       "      <th>HS12 Code</th>\n",
       "      <th>CPC Code</th>\n",
       "    </tr>\n",
       "  </thead>\n",
       "  <tbody>\n",
       "    <tr>\n",
       "      <th>0</th>\n",
       "      <td>2924</td>\n",
       "      <td>Alcoholic Beverages</td>\n",
       "      <td>nan</td>\n",
       "      <td>NaN</td>\n",
       "      <td>NaN</td>\n",
       "      <td>NaN</td>\n",
       "      <td>NaN</td>\n",
       "    </tr>\n",
       "    <tr>\n",
       "      <th>1</th>\n",
       "      <td>2617</td>\n",
       "      <td>Apples and products</td>\n",
       "      <td>Default composition: 515 Apples, 518 Juice, ap...</td>\n",
       "      <td>NaN</td>\n",
       "      <td>NaN</td>\n",
       "      <td>NaN</td>\n",
       "      <td>NaN</td>\n",
       "    </tr>\n",
       "    <tr>\n",
       "      <th>2</th>\n",
       "      <td>2615</td>\n",
       "      <td>Bananas</td>\n",
       "      <td>Default composition: 486 Bananas</td>\n",
       "      <td>NaN</td>\n",
       "      <td>NaN</td>\n",
       "      <td>NaN</td>\n",
       "      <td>NaN</td>\n",
       "    </tr>\n",
       "    <tr>\n",
       "      <th>3</th>\n",
       "      <td>2513</td>\n",
       "      <td>Barley and products</td>\n",
       "      <td>Default composition: 44 Barley, 45 Barley, pot...</td>\n",
       "      <td>NaN</td>\n",
       "      <td>NaN</td>\n",
       "      <td>NaN</td>\n",
       "      <td>NaN</td>\n",
       "    </tr>\n",
       "    <tr>\n",
       "      <th>4</th>\n",
       "      <td>2546</td>\n",
       "      <td>Beans</td>\n",
       "      <td>Default composition: 176 Beans, dry</td>\n",
       "      <td>NaN</td>\n",
       "      <td>NaN</td>\n",
       "      <td>NaN</td>\n",
       "      <td>NaN</td>\n",
       "    </tr>\n",
       "  </tbody>\n",
       "</table>\n",
       "</div>"
      ],
      "text/plain": [
       "   Item Code                 Item  \\\n",
       "0       2924  Alcoholic Beverages   \n",
       "1       2617  Apples and products   \n",
       "2       2615              Bananas   \n",
       "3       2513  Barley and products   \n",
       "4       2546                Beans   \n",
       "\n",
       "                                         Description  HS Code  HS07 Code  \\\n",
       "0                                                nan      NaN        NaN   \n",
       "1  Default composition: 515 Apples, 518 Juice, ap...      NaN        NaN   \n",
       "2                   Default composition: 486 Bananas      NaN        NaN   \n",
       "3  Default composition: 44 Barley, 45 Barley, pot...      NaN        NaN   \n",
       "4                Default composition: 176 Beans, dry      NaN        NaN   \n",
       "\n",
       "   HS12 Code  CPC Code  \n",
       "0        NaN       NaN  \n",
       "1        NaN       NaN  \n",
       "2        NaN       NaN  \n",
       "3        NaN       NaN  \n",
       "4        NaN       NaN  "
      ]
     },
     "execution_count": 17,
     "metadata": {},
     "output_type": "execute_result"
    }
   ],
   "source": [
    "crops_desc.head()"
   ]
  },
  {
   "cell_type": "markdown",
   "metadata": {},
   "source": [
    "We would like to assess whether multiple items contain a given code in their descriptions, which would result in double counting that code."
   ]
  },
  {
   "cell_type": "code",
   "execution_count": 18,
   "metadata": {
    "collapsed": false
   },
   "outputs": [
    {
     "name": "stdout",
     "output_type": "stream",
     "text": [
      "Redundant Livestock codes:\n",
      "Redundant Crop codes:\n",
      "27\n",
      "33\n",
      "35\n",
      "154\n",
      "155\n",
      "160\n",
      "161\n",
      "162\n",
      "163\n",
      "165\n",
      "166\n",
      "167\n",
      "172\n",
      "173\n",
      "242\n",
      "567\n",
      "568\n"
     ]
    }
   ],
   "source": [
    "# create counters for each code in the description\n",
    "livestock_counter = Counter()\n",
    "crops_counter = Counter()\n",
    "\n",
    "# map each item to the codes it contains\n",
    "livestock_dict = {}\n",
    "crops_dict = {}\n",
    "\n",
    "# go through all descriptions in livestock\n",
    "for index, val in enumerate(livestock_desc['Description']):\n",
    "    ingredients = [int(num) for num in val.split() if num.isdigit()]\n",
    "    # check that the list is not empty\n",
    "    if ingredients:\n",
    "        item = livestock_desc.iloc[index, :]['Item']\n",
    "        for ingredient in ingredients:\n",
    "            livestock_counter[ingredient] += 1\n",
    "        livestock_dict[item] = ingredients\n",
    "    \n",
    "# go through all description in crops\n",
    "for index, val in enumerate(crops_desc['Description']):\n",
    "    ingredients = [int(num) for num in val.split() if num.isdigit()]\n",
    "    # check that the list is not empty\n",
    "    if ingredients:\n",
    "        item = crops_desc.iloc[index, :]['Item']\n",
    "        for ingredient in ingredients:\n",
    "            crops_counter[ingredient] += 1\n",
    "        crops_dict[item] = ingredients\n",
    "\n",
    "# store redudant livestock codes\n",
    "redundant_livestock_codes = []\n",
    "# store redundant crop codes\n",
    "redundant_crop_codes = []\n",
    "\n",
    "# get redundant item codes for livestock and crops\n",
    "print \"Redundant Livestock codes:\"\n",
    "for key, value in livestock_counter.items():\n",
    "    if value > 1:\n",
    "        print key\n",
    "        redundant_livestock_codes.append(key)\n",
    "\n",
    "print \"Redundant Crop codes:\"\n",
    "for key, value in crops_counter.items():\n",
    "    if value > 1:\n",
    "        print key\n",
    "        redundant_crop_codes.append(key)"
   ]
  },
  {
   "cell_type": "code",
   "execution_count": 19,
   "metadata": {
    "collapsed": false
   },
   "outputs": [
    {
     "name": "stdout",
     "output_type": "stream",
     "text": [
      "Vegetables, Other: 567\n",
      "Vegetables, Other: 568\n",
      "Fruits, Other: 567\n",
      "Fruits, Other: 568\n",
      "Sugar, Refined Equiv: 162\n",
      "Sugar (Raw Equivalent): 162\n",
      "Groundnuts (in Shell Eq): 242\n",
      "Sugar, Raw Equivalent: 154\n",
      "Sugar, Raw Equivalent: 155\n",
      "Sugar, Raw Equivalent: 160\n",
      "Sugar, Raw Equivalent: 161\n",
      "Sugar, Raw Equivalent: 162\n",
      "Sugar, Raw Equivalent: 163\n",
      "Sugar, Raw Equivalent: 166\n",
      "Sugar, Raw Equivalent: 167\n",
      "Sugar, Raw Equivalent: 172\n",
      "Sugar, Raw Equivalent: 173\n",
      "Molasses: 165\n",
      "Sugar non-centrifugal: 163\n",
      "Sweeteners, Other: 154\n",
      "Sweeteners, Other: 155\n",
      "Sweeteners, Other: 160\n",
      "Sweeteners, Other: 161\n",
      "Sweeteners, Other: 165\n",
      "Sweeteners, Other: 166\n",
      "Sweeteners, Other: 167\n",
      "Sweeteners, Other: 172\n",
      "Sweeteners, Other: 173\n",
      "Rice (Paddy Equivalent): 27\n",
      "Rice (Paddy Equivalent): 33\n",
      "Rice (Paddy Equivalent): 35\n",
      "Groundnuts (Shelled Eq): 242\n",
      "Rice (Milled Equivalent): 27\n",
      "Rice (Milled Equivalent): 33\n",
      "Rice (Milled Equivalent): 35\n"
     ]
    }
   ],
   "source": [
    "for key, value in crops_dict.items():\n",
    "    for code in value:\n",
    "        if code in redundant_crop_codes:\n",
    "            print key + \": \" + str(code)"
   ]
  },
  {
   "cell_type": "markdown",
   "metadata": {},
   "source": [
    "There were no redundancies for livestock.\n",
    "For crops, redundancies were:\n",
    "\n",
    "* 567: Watermelon\n",
    "    * Vegetables, Other\n",
    "    * Fruits, Other\n",
    "* 568: Melon\n",
    "    * Vegetables, Other\n",
    "    * Fruits, Other\n",
    "* 242: Groundnuts\n",
    "    * Groundnuts (in Shell Eq)\t\n",
    "    * Groundnuts (Shelled Eq)\t\n",
    "    * Oilcrops Oil, Other\n",
    "* 154: Fructose chemically pure\n",
    "    * Sugar, Raw Equivalent\t\n",
    "    * Sweeteners, Other\t\n",
    "* 155: Maltose chemically pure\n",
    "    * Sugar, Raw Equivalent\n",
    "    * Sweeteners, Other\n",
    "* 160: Maple sugar and syrups\n",
    "    * Sugar, Raw Equivalent\t\n",
    "    * Sweeteners, Other\t\n",
    "* 161: Sugar crops, nes\n",
    "    * Sugar, Raw Equivalent\n",
    "    * Sweeteners, Other\n",
    "* 162: Sugar Raw Centrifugal\n",
    "    * Sugar (Raw Equivalent)\n",
    "    * Sugar, Raw Equivalent\t\n",
    "    * Sugar, Refined Equiv\t\n",
    "* 163: Sugar non-centrifugal\n",
    "    * Sugar non-centrifugal\n",
    "    * Sugar, Raw Equivalent\t\n",
    "* 165: Molasses\n",
    "    * Molasses\n",
    "    * Sweeteners, Other\n",
    "* 166: Fructose and syrup, other\n",
    "    * Sugar, Raw Equivalent\n",
    "    * Sweeteners, Other\n",
    "* 167: Sugar, nes\n",
    "    * Sugar, Raw Equivalent\t\n",
    "    * Sweeteners, Other\t\n",
    "* 172: Glucose and dextrose\n",
    "    * Sugar, Raw Equivalent\t\n",
    "    * Sweeteners, Other\t\n",
    "* 173: Lactose\n",
    "    * Sugar, Raw Equivalent\n",
    "    * Sweeteners, Other\t\n",
    "* 27: Rice\n",
    "    * Rice (Milled Equivalent)\n",
    "    * Rice (Paddy Equivalent)\n",
    "* 33: Gluten\n",
    "    * Rice (Milled Equivalent)\t\n",
    "    * Rice (Paddy Equivalent)\t\n",
    "* 35: Bran, rice\n",
    "    * Rice (Milled Equivalent)\t\n",
    "    * Rice (Paddy Equivalent)\n",
    "* 242: Groundnuts\n",
    "    * Groundnuts (in Shell Eq)\t\n",
    "    * Groundnuts (Shelled Eq)\n",
    "    * Oilcrops Oil, Other\t\n",
    "\n"
   ]
  },
  {
   "cell_type": "markdown",
   "metadata": {},
   "source": [
    "We will go through these redundancies using the FAO data inspection tool and build up a list of variables to drop."
   ]
  },
  {
   "cell_type": "code",
   "execution_count": 20,
   "metadata": {
    "collapsed": false
   },
   "outputs": [],
   "source": [
    "# get the cleaned columns so we can check whether the columns containing redunant\n",
    "# subcategories are currently in our dataset\n",
    "column_set = set(food_1970_2000_cleaned.columns)"
   ]
  },
  {
   "cell_type": "code",
   "execution_count": 21,
   "metadata": {
    "collapsed": false
   },
   "outputs": [
    {
     "data": {
      "text/plain": [
       "True"
      ]
     },
     "execution_count": 21,
     "metadata": {},
     "output_type": "execute_result"
    }
   ],
   "source": [
    "'Vegetables, Other' in column_set"
   ]
  },
  {
   "cell_type": "code",
   "execution_count": 22,
   "metadata": {
    "collapsed": false
   },
   "outputs": [
    {
     "data": {
      "text/plain": [
       "True"
      ]
     },
     "execution_count": 22,
     "metadata": {},
     "output_type": "execute_result"
    }
   ],
   "source": [
    "'Fruits, Other' in column_set"
   ]
  },
  {
   "cell_type": "markdown",
   "metadata": {},
   "source": [
    "We will keep both `Vegetables, Other` and `Fruits, Other` because both have numerous other constituent crops besides watermelon and melon"
   ]
  },
  {
   "cell_type": "code",
   "execution_count": 23,
   "metadata": {
    "collapsed": false
   },
   "outputs": [
    {
     "data": {
      "text/plain": [
       "True"
      ]
     },
     "execution_count": 23,
     "metadata": {},
     "output_type": "execute_result"
    }
   ],
   "source": [
    "'Groundnuts (in Shell Eq)' in column_set"
   ]
  },
  {
   "cell_type": "code",
   "execution_count": 24,
   "metadata": {
    "collapsed": false
   },
   "outputs": [
    {
     "data": {
      "text/plain": [
       "True"
      ]
     },
     "execution_count": 24,
     "metadata": {},
     "output_type": "execute_result"
    }
   ],
   "source": [
    "'Groundnuts (Shelled Eq)' in column_set"
   ]
  },
  {
   "cell_type": "code",
   "execution_count": 25,
   "metadata": {
    "collapsed": false
   },
   "outputs": [
    {
     "data": {
      "text/plain": [
       "True"
      ]
     },
     "execution_count": 25,
     "metadata": {},
     "output_type": "execute_result"
    }
   ],
   "source": [
    "'Oilcrops Oil, Other' in column_set"
   ]
  },
  {
   "cell_type": "markdown",
   "metadata": {},
   "source": [
    "We will drop Groundnuts (in Shell Eq) since Groundnuts (Shelled Eq) contains all crops in Groundnuts (in Shell Eq). We will keep `Oilcrops Oil, Other` because it only has one subcategory in common with `Groundnuts (Shelled Eq)` and contains many unique subcategories"
   ]
  },
  {
   "cell_type": "code",
   "execution_count": 26,
   "metadata": {
    "collapsed": false
   },
   "outputs": [
    {
     "data": {
      "text/plain": [
       "True"
      ]
     },
     "execution_count": 26,
     "metadata": {},
     "output_type": "execute_result"
    }
   ],
   "source": [
    "'Sugar, Raw Equivalent' in column_set"
   ]
  },
  {
   "cell_type": "code",
   "execution_count": 27,
   "metadata": {
    "collapsed": false
   },
   "outputs": [
    {
     "data": {
      "text/plain": [
       "True"
      ]
     },
     "execution_count": 27,
     "metadata": {},
     "output_type": "execute_result"
    }
   ],
   "source": [
    "'Sweeteners, Other' in column_set"
   ]
  },
  {
   "cell_type": "code",
   "execution_count": 28,
   "metadata": {
    "collapsed": false
   },
   "outputs": [
    {
     "data": {
      "text/plain": [
       "False"
      ]
     },
     "execution_count": 28,
     "metadata": {},
     "output_type": "execute_result"
    }
   ],
   "source": [
    "'Sugar non-centrifugal' in column_set"
   ]
  },
  {
   "cell_type": "code",
   "execution_count": 29,
   "metadata": {
    "collapsed": false
   },
   "outputs": [
    {
     "data": {
      "text/plain": [
       "True"
      ]
     },
     "execution_count": 29,
     "metadata": {},
     "output_type": "execute_result"
    }
   ],
   "source": [
    "'Sugar (Raw Equivalent)' in column_set"
   ]
  },
  {
   "cell_type": "markdown",
   "metadata": {},
   "source": [
    "We will drop `Sweeteners, Other` (the \"others\" in that category were already dropped because of many Nans) and keep `Sugar, Raw Equivalent` because it seems to contain more relevant subcategories. `Sugar non-centrifugal` appears to have already been dropped. We will keep `Sugar (Raw Equivalent)` because it only has one subcategory in common with `Sugar, Raw Equivalent` and has many additional subcategories that may be relevant. We will drop `Sugar, Refined Equiv` because it only contains one subcategory that is already contained in `Sugar, Raw Equivalent`"
   ]
  },
  {
   "cell_type": "code",
   "execution_count": 30,
   "metadata": {
    "collapsed": false
   },
   "outputs": [
    {
     "data": {
      "text/plain": [
       "True"
      ]
     },
     "execution_count": 30,
     "metadata": {},
     "output_type": "execute_result"
    }
   ],
   "source": [
    "'Rice (Paddy Equivalent)' in column_set"
   ]
  },
  {
   "cell_type": "code",
   "execution_count": 31,
   "metadata": {
    "collapsed": false
   },
   "outputs": [
    {
     "data": {
      "text/plain": [
       "True"
      ]
     },
     "execution_count": 31,
     "metadata": {},
     "output_type": "execute_result"
    }
   ],
   "source": [
    "'Rice (Milled Equivalent)' in column_set"
   ]
  },
  {
   "cell_type": "markdown",
   "metadata": {},
   "source": [
    "`Rice (Milled Equivalent)` contains all the subcategories in `Rice (Paddy Equivalent)` and some additional, so we will drop `Rice (Paddy Equivalent)`"
   ]
  },
  {
   "cell_type": "code",
   "execution_count": 32,
   "metadata": {
    "collapsed": true
   },
   "outputs": [],
   "source": [
    "# columns to drop because of overlapping subcategories\n",
    "more_columns_to_drop = ['Groundnuts (in Shell Eq)',\n",
    "                        'Sweeteners, Other',\n",
    "                        'Sugar, Refined Equiv',\n",
    "                        'Rice (Paddy Equivalent)',\n",
    "                       ]"
   ]
  },
  {
   "cell_type": "code",
   "execution_count": 33,
   "metadata": {
    "collapsed": true
   },
   "outputs": [],
   "source": [
    "# drop the columns\n",
    "food_1970_2000_cleaned = food_1970_2000_cleaned.drop(more_columns_to_drop, axis = 1)"
   ]
  },
  {
   "cell_type": "markdown",
   "metadata": {},
   "source": [
    "### Columns with No Descriptions\n",
    "We also will drop columns that have no descriptions because including them would make our results less interpretable. "
   ]
  },
  {
   "cell_type": "markdown",
   "metadata": {},
   "source": [
    "First, we evaluate which columns have no descriptions."
   ]
  },
  {
   "cell_type": "code",
   "execution_count": 34,
   "metadata": {
    "collapsed": false
   },
   "outputs": [
    {
     "data": {
      "text/html": [
       "<div>\n",
       "<table border=\"1\" class=\"dataframe\">\n",
       "  <thead>\n",
       "    <tr style=\"text-align: right;\">\n",
       "      <th></th>\n",
       "      <th>Item Code</th>\n",
       "      <th>Item</th>\n",
       "      <th>Description</th>\n",
       "      <th>HS Code</th>\n",
       "      <th>HS07 Code</th>\n",
       "      <th>HS12 Code</th>\n",
       "      <th>CPC Code</th>\n",
       "    </tr>\n",
       "  </thead>\n",
       "  <tbody>\n",
       "    <tr>\n",
       "      <th>0</th>\n",
       "      <td>2924</td>\n",
       "      <td>Alcoholic Beverages</td>\n",
       "      <td>nan</td>\n",
       "      <td>NaN</td>\n",
       "      <td>NaN</td>\n",
       "      <td>NaN</td>\n",
       "      <td>NaN</td>\n",
       "    </tr>\n",
       "    <tr>\n",
       "      <th>9</th>\n",
       "      <td>2905</td>\n",
       "      <td>Cereals - Excluding Beer</td>\n",
       "      <td>nan</td>\n",
       "      <td>NaN</td>\n",
       "      <td>NaN</td>\n",
       "      <td>NaN</td>\n",
       "      <td>NaN</td>\n",
       "    </tr>\n",
       "    <tr>\n",
       "      <th>19</th>\n",
       "      <td>2919</td>\n",
       "      <td>Fruits - Excluding Wine</td>\n",
       "      <td>nan</td>\n",
       "      <td>NaN</td>\n",
       "      <td>NaN</td>\n",
       "      <td>NaN</td>\n",
       "      <td>NaN</td>\n",
       "    </tr>\n",
       "    <tr>\n",
       "      <th>21</th>\n",
       "      <td>2901</td>\n",
       "      <td>Grand Total</td>\n",
       "      <td>nan</td>\n",
       "      <td>NaN</td>\n",
       "      <td>NaN</td>\n",
       "      <td>NaN</td>\n",
       "      <td>NaN</td>\n",
       "    </tr>\n",
       "    <tr>\n",
       "      <th>32</th>\n",
       "      <td>2899</td>\n",
       "      <td>Miscellaneous</td>\n",
       "      <td>nan</td>\n",
       "      <td>NaN</td>\n",
       "      <td>NaN</td>\n",
       "      <td>NaN</td>\n",
       "      <td>NaN</td>\n",
       "    </tr>\n",
       "    <tr>\n",
       "      <th>33</th>\n",
       "      <td>2928</td>\n",
       "      <td>Miscellaneous</td>\n",
       "      <td>nan</td>\n",
       "      <td>NaN</td>\n",
       "      <td>NaN</td>\n",
       "      <td>NaN</td>\n",
       "      <td>NaN</td>\n",
       "    </tr>\n",
       "    <tr>\n",
       "      <th>37</th>\n",
       "      <td>2913</td>\n",
       "      <td>Oilcrops</td>\n",
       "      <td>nan</td>\n",
       "      <td>NaN</td>\n",
       "      <td>NaN</td>\n",
       "      <td>NaN</td>\n",
       "      <td>NaN</td>\n",
       "    </tr>\n",
       "    <tr>\n",
       "      <th>52</th>\n",
       "      <td>2911</td>\n",
       "      <td>Pulses</td>\n",
       "      <td>nan</td>\n",
       "      <td>NaN</td>\n",
       "      <td>NaN</td>\n",
       "      <td>NaN</td>\n",
       "      <td>NaN</td>\n",
       "    </tr>\n",
       "    <tr>\n",
       "      <th>58</th>\n",
       "      <td>2815</td>\n",
       "      <td>Roots &amp; Tuber Dry Equiv</td>\n",
       "      <td>nan</td>\n",
       "      <td>NaN</td>\n",
       "      <td>NaN</td>\n",
       "      <td>NaN</td>\n",
       "      <td>NaN</td>\n",
       "    </tr>\n",
       "    <tr>\n",
       "      <th>66</th>\n",
       "      <td>2923</td>\n",
       "      <td>Spices</td>\n",
       "      <td>nan</td>\n",
       "      <td>NaN</td>\n",
       "      <td>NaN</td>\n",
       "      <td>NaN</td>\n",
       "      <td>NaN</td>\n",
       "    </tr>\n",
       "    <tr>\n",
       "      <th>68</th>\n",
       "      <td>2907</td>\n",
       "      <td>Starchy Roots</td>\n",
       "      <td>nan</td>\n",
       "      <td>NaN</td>\n",
       "      <td>NaN</td>\n",
       "      <td>NaN</td>\n",
       "      <td>NaN</td>\n",
       "    </tr>\n",
       "    <tr>\n",
       "      <th>69</th>\n",
       "      <td>2922</td>\n",
       "      <td>Stimulants</td>\n",
       "      <td>nan</td>\n",
       "      <td>NaN</td>\n",
       "      <td>NaN</td>\n",
       "      <td>NaN</td>\n",
       "      <td>NaN</td>\n",
       "    </tr>\n",
       "    <tr>\n",
       "      <th>70</th>\n",
       "      <td>2909</td>\n",
       "      <td>Sugar &amp; Sweeteners</td>\n",
       "      <td>nan</td>\n",
       "      <td>NaN</td>\n",
       "      <td>NaN</td>\n",
       "      <td>NaN</td>\n",
       "      <td>NaN</td>\n",
       "    </tr>\n",
       "    <tr>\n",
       "      <th>74</th>\n",
       "      <td>2908</td>\n",
       "      <td>Sugar Crops</td>\n",
       "      <td>nan</td>\n",
       "      <td>NaN</td>\n",
       "      <td>NaN</td>\n",
       "      <td>NaN</td>\n",
       "      <td>NaN</td>\n",
       "    </tr>\n",
       "    <tr>\n",
       "      <th>84</th>\n",
       "      <td>2912</td>\n",
       "      <td>Treenuts</td>\n",
       "      <td>nan</td>\n",
       "      <td>NaN</td>\n",
       "      <td>NaN</td>\n",
       "      <td>NaN</td>\n",
       "      <td>NaN</td>\n",
       "    </tr>\n",
       "    <tr>\n",
       "      <th>85</th>\n",
       "      <td>2914</td>\n",
       "      <td>Vegetable Oils</td>\n",
       "      <td>nan</td>\n",
       "      <td>NaN</td>\n",
       "      <td>NaN</td>\n",
       "      <td>NaN</td>\n",
       "      <td>NaN</td>\n",
       "    </tr>\n",
       "    <tr>\n",
       "      <th>86</th>\n",
       "      <td>2918</td>\n",
       "      <td>Vegetables</td>\n",
       "      <td>nan</td>\n",
       "      <td>NaN</td>\n",
       "      <td>NaN</td>\n",
       "      <td>NaN</td>\n",
       "      <td>NaN</td>\n",
       "    </tr>\n",
       "    <tr>\n",
       "      <th>88</th>\n",
       "      <td>2903</td>\n",
       "      <td>Vegetal Products</td>\n",
       "      <td>nan</td>\n",
       "      <td>NaN</td>\n",
       "      <td>NaN</td>\n",
       "      <td>NaN</td>\n",
       "      <td>NaN</td>\n",
       "    </tr>\n",
       "  </tbody>\n",
       "</table>\n",
       "</div>"
      ],
      "text/plain": [
       "    Item Code                      Item Description  HS Code  HS07 Code  \\\n",
       "0        2924       Alcoholic Beverages         nan      NaN        NaN   \n",
       "9        2905  Cereals - Excluding Beer         nan      NaN        NaN   \n",
       "19       2919   Fruits - Excluding Wine         nan      NaN        NaN   \n",
       "21       2901               Grand Total         nan      NaN        NaN   \n",
       "32       2899             Miscellaneous         nan      NaN        NaN   \n",
       "33       2928             Miscellaneous         nan      NaN        NaN   \n",
       "37       2913                  Oilcrops         nan      NaN        NaN   \n",
       "52       2911                    Pulses         nan      NaN        NaN   \n",
       "58       2815   Roots & Tuber Dry Equiv         nan      NaN        NaN   \n",
       "66       2923                    Spices         nan      NaN        NaN   \n",
       "68       2907             Starchy Roots         nan      NaN        NaN   \n",
       "69       2922                Stimulants         nan      NaN        NaN   \n",
       "70       2909        Sugar & Sweeteners         nan      NaN        NaN   \n",
       "74       2908               Sugar Crops         nan      NaN        NaN   \n",
       "84       2912                  Treenuts         nan      NaN        NaN   \n",
       "85       2914            Vegetable Oils         nan      NaN        NaN   \n",
       "86       2918                Vegetables         nan      NaN        NaN   \n",
       "88       2903          Vegetal Products         nan      NaN        NaN   \n",
       "\n",
       "    HS12 Code  CPC Code  \n",
       "0         NaN       NaN  \n",
       "9         NaN       NaN  \n",
       "19        NaN       NaN  \n",
       "21        NaN       NaN  \n",
       "32        NaN       NaN  \n",
       "33        NaN       NaN  \n",
       "37        NaN       NaN  \n",
       "52        NaN       NaN  \n",
       "58        NaN       NaN  \n",
       "66        NaN       NaN  \n",
       "68        NaN       NaN  \n",
       "69        NaN       NaN  \n",
       "70        NaN       NaN  \n",
       "74        NaN       NaN  \n",
       "84        NaN       NaN  \n",
       "85        NaN       NaN  \n",
       "86        NaN       NaN  \n",
       "88        NaN       NaN  "
      ]
     },
     "execution_count": 34,
     "metadata": {},
     "output_type": "execute_result"
    }
   ],
   "source": [
    "crops_desc[crops_desc[\"Description\"] == 'nan']"
   ]
  },
  {
   "cell_type": "code",
   "execution_count": 35,
   "metadata": {
    "collapsed": false
   },
   "outputs": [
    {
     "data": {
      "text/html": [
       "<div>\n",
       "<table border=\"1\" class=\"dataframe\">\n",
       "  <thead>\n",
       "    <tr style=\"text-align: right;\">\n",
       "      <th></th>\n",
       "      <th>Item Code</th>\n",
       "      <th>Item</th>\n",
       "      <th>Description</th>\n",
       "      <th>HS Code</th>\n",
       "      <th>HS07 Code</th>\n",
       "      <th>HS12 Code</th>\n",
       "      <th>CPC Code</th>\n",
       "    </tr>\n",
       "  </thead>\n",
       "  <tbody>\n",
       "    <tr>\n",
       "      <th>0</th>\n",
       "      <td>2946</td>\n",
       "      <td>Animal fats</td>\n",
       "      <td>nan</td>\n",
       "      <td>NaN</td>\n",
       "      <td>NaN</td>\n",
       "      <td>NaN</td>\n",
       "      <td>NaN</td>\n",
       "    </tr>\n",
       "    <tr>\n",
       "      <th>1</th>\n",
       "      <td>2941</td>\n",
       "      <td>Animal Products</td>\n",
       "      <td>nan</td>\n",
       "      <td>NaN</td>\n",
       "      <td>NaN</td>\n",
       "      <td>NaN</td>\n",
       "      <td>NaN</td>\n",
       "    </tr>\n",
       "    <tr>\n",
       "      <th>4</th>\n",
       "      <td>2961</td>\n",
       "      <td>Aquatic Products, Other</td>\n",
       "      <td>nan</td>\n",
       "      <td>NaN</td>\n",
       "      <td>NaN</td>\n",
       "      <td>NaN</td>\n",
       "      <td>NaN</td>\n",
       "    </tr>\n",
       "    <tr>\n",
       "      <th>8</th>\n",
       "      <td>2741</td>\n",
       "      <td>Cheese</td>\n",
       "      <td>nan</td>\n",
       "      <td>NaN</td>\n",
       "      <td>NaN</td>\n",
       "      <td>NaN</td>\n",
       "      <td>NaN</td>\n",
       "    </tr>\n",
       "    <tr>\n",
       "      <th>13</th>\n",
       "      <td>2949</td>\n",
       "      <td>Eggs</td>\n",
       "      <td>nan</td>\n",
       "      <td>NaN</td>\n",
       "      <td>NaN</td>\n",
       "      <td>NaN</td>\n",
       "      <td>NaN</td>\n",
       "    </tr>\n",
       "    <tr>\n",
       "      <th>18</th>\n",
       "      <td>2960</td>\n",
       "      <td>Fish, Seafood</td>\n",
       "      <td>nan</td>\n",
       "      <td>NaN</td>\n",
       "      <td>NaN</td>\n",
       "      <td>NaN</td>\n",
       "      <td>NaN</td>\n",
       "    </tr>\n",
       "    <tr>\n",
       "      <th>20</th>\n",
       "      <td>2901</td>\n",
       "      <td>Grand Total</td>\n",
       "      <td>nan</td>\n",
       "      <td>NaN</td>\n",
       "      <td>NaN</td>\n",
       "      <td>NaN</td>\n",
       "      <td>NaN</td>\n",
       "    </tr>\n",
       "    <tr>\n",
       "      <th>24</th>\n",
       "      <td>2943</td>\n",
       "      <td>Meat</td>\n",
       "      <td>nan</td>\n",
       "      <td>NaN</td>\n",
       "      <td>NaN</td>\n",
       "      <td>NaN</td>\n",
       "      <td>NaN</td>\n",
       "    </tr>\n",
       "    <tr>\n",
       "      <th>28</th>\n",
       "      <td>2948</td>\n",
       "      <td>Milk - Excluding Butter</td>\n",
       "      <td>nan</td>\n",
       "      <td>NaN</td>\n",
       "      <td>NaN</td>\n",
       "      <td>NaN</td>\n",
       "      <td>NaN</td>\n",
       "    </tr>\n",
       "    <tr>\n",
       "      <th>30</th>\n",
       "      <td>2738</td>\n",
       "      <td>Milk, Whole</td>\n",
       "      <td>nan</td>\n",
       "      <td>NaN</td>\n",
       "      <td>NaN</td>\n",
       "      <td>NaN</td>\n",
       "      <td>NaN</td>\n",
       "    </tr>\n",
       "    <tr>\n",
       "      <th>33</th>\n",
       "      <td>2945</td>\n",
       "      <td>Offals</td>\n",
       "      <td>nan</td>\n",
       "      <td>NaN</td>\n",
       "      <td>NaN</td>\n",
       "      <td>NaN</td>\n",
       "      <td>NaN</td>\n",
       "    </tr>\n",
       "    <tr>\n",
       "      <th>38</th>\n",
       "      <td>2742</td>\n",
       "      <td>Whey</td>\n",
       "      <td>nan</td>\n",
       "      <td>NaN</td>\n",
       "      <td>NaN</td>\n",
       "      <td>NaN</td>\n",
       "      <td>NaN</td>\n",
       "    </tr>\n",
       "  </tbody>\n",
       "</table>\n",
       "</div>"
      ],
      "text/plain": [
       "    Item Code                     Item Description  HS Code  HS07 Code  \\\n",
       "0        2946              Animal fats         nan      NaN        NaN   \n",
       "1        2941          Animal Products         nan      NaN        NaN   \n",
       "4        2961  Aquatic Products, Other         nan      NaN        NaN   \n",
       "8        2741                   Cheese         nan      NaN        NaN   \n",
       "13       2949                     Eggs         nan      NaN        NaN   \n",
       "18       2960            Fish, Seafood         nan      NaN        NaN   \n",
       "20       2901              Grand Total         nan      NaN        NaN   \n",
       "24       2943                     Meat         nan      NaN        NaN   \n",
       "28       2948  Milk - Excluding Butter         nan      NaN        NaN   \n",
       "30       2738              Milk, Whole         nan      NaN        NaN   \n",
       "33       2945                   Offals         nan      NaN        NaN   \n",
       "38       2742                     Whey         nan      NaN        NaN   \n",
       "\n",
       "    HS12 Code  CPC Code  \n",
       "0         NaN       NaN  \n",
       "1         NaN       NaN  \n",
       "4         NaN       NaN  \n",
       "8         NaN       NaN  \n",
       "13        NaN       NaN  \n",
       "18        NaN       NaN  \n",
       "20        NaN       NaN  \n",
       "24        NaN       NaN  \n",
       "28        NaN       NaN  \n",
       "30        NaN       NaN  \n",
       "33        NaN       NaN  \n",
       "38        NaN       NaN  "
      ]
     },
     "execution_count": 35,
     "metadata": {},
     "output_type": "execute_result"
    }
   ],
   "source": [
    "livestock_desc[livestock_desc[\"Description\"] == 'nan']"
   ]
  },
  {
   "cell_type": "code",
   "execution_count": 36,
   "metadata": {
    "collapsed": true
   },
   "outputs": [],
   "source": [
    "empty_descs = list(livestock_desc[livestock_desc[\"Description\"] == 'nan']['Item'])\n",
    "empty_descs += list(crops_desc[crops_desc[\"Description\"] == 'nan']['Item'])"
   ]
  },
  {
   "cell_type": "code",
   "execution_count": 37,
   "metadata": {
    "collapsed": true
   },
   "outputs": [],
   "source": [
    "# drop the columns\n",
    "for col in empty_descs:\n",
    "    if col in food_1970_2000_cleaned.columns:\n",
    "        food_1970_2000_cleaned = food_1970_2000_cleaned.drop(col, axis = 1)"
   ]
  },
  {
   "cell_type": "markdown",
   "metadata": {},
   "source": [
    "That looks good! Let's save it now."
   ]
  },
  {
   "cell_type": "code",
   "execution_count": 38,
   "metadata": {
    "collapsed": true
   },
   "outputs": [],
   "source": [
    "# Save this dataframe for later\n",
    "pickle.dump(food_1970_2000_cleaned, open('data/final/food_1970_2000_cleaned.p', 'wb'))"
   ]
  }
 ],
 "metadata": {
  "anaconda-cloud": {},
  "kernelspec": {
   "display_name": "Python [Root]",
   "language": "python",
   "name": "Python [Root]"
  },
  "language_info": {
   "codemirror_mode": {
    "name": "ipython",
    "version": 2
   },
   "file_extension": ".py",
   "mimetype": "text/x-python",
   "name": "python",
   "nbconvert_exporter": "python",
   "pygments_lexer": "ipython2",
   "version": "2.7.12"
  }
 },
 "nbformat": 4,
 "nbformat_minor": 1
}
