{
 "cells": [
  {
   "cell_type": "markdown",
   "metadata": {},
   "source": [
    "# Notebook 9: Advanced Models Part 1\n",
    "We can now begin explore more sophisticated statistical models.\n",
    "This notebook contains the first part: lasso regression."
   ]
  },
  {
   "cell_type": "code",
   "execution_count": 15,
   "metadata": {
    "collapsed": false
   },
   "outputs": [],
   "source": [
    "# Import packages\n",
    "import numpy as np\n",
    "import pandas as pd\n",
    "import matplotlib\n",
    "import matplotlib.pyplot as plt\n",
    "%matplotlib inline\n",
    "import statsmodels.formula.api as sm\n",
    "import pickle\n",
    "from collections import Counter\n",
    "import sklearn as sk\n",
    "from sklearn.preprocessing import Imputer\n",
    "from sklearn import linear_model\n",
    "from sklearn.grid_search import GridSearchCV"
   ]
  },
  {
   "cell_type": "code",
   "execution_count": 16,
   "metadata": {
    "collapsed": true
   },
   "outputs": [],
   "source": [
    "# Load cleaned NCD data from pickled files\n",
    "out = open('data/clean/deaths_100k.p', 'r')\n",
    "deaths_100k = pickle.load(out)\n",
    "out.close()\n",
    "out = open('data/clean/risk.p', 'r')\n",
    "risk_of_death = pickle.load(out)\n",
    "out.close()\n",
    "out = open('data/clean/crops.p', 'r')\n",
    "crops = pickle.load(out)\n",
    "out.close()\n",
    "out = open('data/clean/meat.p', 'r')\n",
    "meat = pickle.load(out)\n",
    "out.close()\n",
    "out = open('data/clean/var_desc_livestock.p', 'r')\n",
    "livestock_desc = pickle.load(out)\n",
    "out.close()\n",
    "out = open('data/clean/var_desc_crops.p', 'r')\n",
    "crops_desc = pickle.load(out)\n",
    "out.close()\n",
    "\n",
    "# load cleaned food data with redundant variables removed\n",
    "out = open('data/final/food_1970_2000_cleaned.p', 'r')\n",
    "food_1970_2000_cleaned = pickle.load(out)\n",
    "\n",
    "# Get response variables\n",
    "deaths_100k_all_2000 = deaths_100k['all'][2000]\n",
    "deaths_100k_cancer_2000 = deaths_100k['cancer'][2000]\n",
    "deaths_100k_cardio_2000 = deaths_100k['cardio'][2000]\n",
    "deaths_100k_diabetes_2000 = deaths_100k['diabetes'][2000]\n",
    "deaths_100k_resp_2000 = deaths_100k['resp'][2000]\n",
    "\n",
    "risk_of_death_2000 = risk_of_death[2000]\n",
    "\n",
    "time_period = range(1970, 2000)\n",
    "\n",
    "# Calculate the mean for each crop/meat over the period 1970-2000\n",
    "food_1970_2000 = pd.DataFrame(index=risk_of_death.index)\n",
    "\n",
    "for crop in crops.iterkeys():\n",
    "    food_1970_2000[crop] = crops[crop][time_period].mean(axis=1)\n",
    "    \n",
    "for m in meat.iterkeys():\n",
    "    food_1970_2000[m] = meat[m][time_period].mean(axis=1)\n",
    "\n",
    "# list of countries to drop due to being less than 50% full\n",
    "countries_to_drop = []\n",
    "\n",
    "for index, row in food_1970_2000.iterrows():\n",
    "    if row.isnull().sum() > len(row) / 2:\n",
    "        countries_to_drop.append(index)"
   ]
  },
  {
   "cell_type": "code",
   "execution_count": 20,
   "metadata": {
    "collapsed": true
   },
   "outputs": [],
   "source": [
    "# Plots bar graph of coefficient estimates for regression model and given significance level \n",
    "def plot_sig_coeffs(fit, sig_level):\n",
    "    # Filter for predictors with p-values less than provided cutoff\n",
    "    significant = fit.pvalues[fit.pvalues <= sig_level]\n",
    "    # Plot coefficient estimates for predictors with p < 0.1 \n",
    "    fit.params[significant.index].sort_values().plot(kind=\"bar\", \n",
    "        title=\"Coefficient Estimates for Predictors with p < 0.1\", \n",
    "        )"
   ]
  },
  {
   "cell_type": "markdown",
   "metadata": {},
   "source": [
    "# I. Lasso Regression\n",
    "To do variable selection efficiently, as explained in Baseline Models and Revised Baseline Models."
   ]
  },
  {
   "cell_type": "markdown",
   "metadata": {},
   "source": [
    "## Risk of Death in 2000 as Response Variable"
   ]
  },
  {
   "cell_type": "markdown",
   "metadata": {},
   "source": [
    "We use `sklearn`'s `GridSearchCV` function to find the best hyperparameter ($\\alpha$) value."
   ]
  },
  {
   "cell_type": "code",
   "execution_count": 17,
   "metadata": {
    "collapsed": false
   },
   "outputs": [
    {
     "data": {
      "text/plain": [
       "{'alpha': 5.6, 'fit_intercept': True, 'normalize': False}"
      ]
     },
     "execution_count": 17,
     "metadata": {},
     "output_type": "execute_result"
    }
   ],
   "source": [
    "lasso = linear_model.Lasso(alpha = 1.0)\n",
    "X = food_1970_2000_cleaned.values\n",
    "y_death_lasso = risk_of_death_2000.drop(countries_to_drop).values\n",
    "lasso.fit(X, y_death_lasso)\n",
    "lasso.score(X, y_death_lasso)\n",
    "lasso.coef_\n",
    "params = {\n",
    "    'alpha': [0.3,0.6,1.0,1.3,1.6,2.0,2.3,2.6,3.0,4.0,5.0, 6.0, 7.0, 8.0] + \n",
    "             [4.3, 4.6, 5.3, 5.6, 6.0, 6.3, 6.6, 7.0],\n",
    "    'fit_intercept': [True, False],\n",
    "    'normalize': [True, False],\n",
    "}\n",
    "\n",
    "CV_model = GridSearchCV(lasso, param_grid=params, cv=5)\n",
    "CV_model.fit(X, y_death_lasso)\n",
    "CV_model.best_params_"
   ]
  },
  {
   "cell_type": "markdown",
   "metadata": {},
   "source": [
    "We then fit the model using the optimum alpha provided to fit the model using `statsmodels`."
   ]
  },
  {
   "cell_type": "code",
   "execution_count": 18,
   "metadata": {
    "collapsed": false
   },
   "outputs": [
    {
     "name": "stdout",
     "output_type": "stream",
     "text": [
      "                            OLS Regression Results                            \n",
      "==============================================================================\n",
      "Dep. Variable:                   2000   R-squared:                       0.964\n",
      "Model:                            OLS   Adj. R-squared:                  0.923\n",
      "Method:                 Least Squares   F-statistic:                     23.64\n",
      "Date:                Wed, 14 Dec 2016   Prob (F-statistic):           1.32e-31\n",
      "Time:                        16:12:42   Log-Likelihood:                -445.06\n",
      "No. Observations:                 154   AIC:                             1054.\n",
      "Df Residuals:                      72   BIC:                             1303.\n",
      "Df Model:                          82                                         \n",
      "Covariance Type:            nonrobust                                         \n",
      "===================================================================================================\n",
      "                                      coef    std err          t      P>|t|      [95.0% Conf. Int.]\n",
      "---------------------------------------------------------------------------------------------------\n",
      "Plantains                                0          0        nan        nan             0         0\n",
      "Sugar, Raw Equivalent               0.0033      0.056      0.060      0.953        -0.108     0.114\n",
      "Beverages, Alcoholic                     0          0        nan        nan             0         0\n",
      "Olives (including preserved)             0          0        nan        nan             0         0\n",
      "Cloves                                   0          0        nan        nan             0         0\n",
      "Coconuts - Incl Copra               0.0085      0.023      0.367      0.714        -0.037     0.054\n",
      "Vegetables, Other                  -0.0074      0.010     -0.768      0.445        -0.027     0.012\n",
      "Sesame seed                        -0.0160      0.040     -0.402      0.689        -0.095     0.063\n",
      "Wine                               -0.0087      0.020     -0.444      0.659        -0.048     0.030\n",
      "Apples and products                -0.0098      0.040     -0.246      0.806        -0.089     0.069\n",
      "Rape and Mustard Oil               -0.0064      0.040     -0.158      0.875        -0.087     0.074\n",
      "Maize and products                  0.0303      0.007      4.461      0.000         0.017     0.044\n",
      "Groundnuts (Shelled Eq)                  0          0        nan        nan             0         0\n",
      "Barley and products                      0          0        nan        nan             0         0\n",
      "Maize Germ Oil                           0          0        nan        nan             0         0\n",
      "Beer                               -0.0024      0.011     -0.214      0.831        -0.024     0.020\n",
      "Groundnut Oil                            0          0        nan        nan             0         0\n",
      "Pineapples and products                  0          0        nan        nan             0         0\n",
      "Pulses, Other and products          0.0874      0.059      1.487      0.141        -0.030     0.205\n",
      "Sugar (Raw Equivalent)              0.0256      0.060      0.424      0.673        -0.095     0.146\n",
      "Palm Oil                            0.0159      0.043      0.367      0.715        -0.070     0.102\n",
      "Oilcrops, Other                          0          0        nan        nan             0         0\n",
      "Dates                               0.0274      0.030      0.926      0.358        -0.032     0.087\n",
      "Oats                                     0          0        nan        nan             0         0\n",
      "Soyabeans                                0          0        nan        nan             0         0\n",
      "Beans                               0.1014      0.048      2.116      0.038         0.006     0.197\n",
      "Sesameseed Oil                      0.0703      0.042      1.665      0.100        -0.014     0.154\n",
      "Grapes and products (excl wine)          0          0        nan        nan             0         0\n",
      "Beverages, Fermented                0.0205      0.010      2.149      0.035         0.001     0.040\n",
      "Potatoes and products               0.0207      0.010      2.010      0.048         0.000     0.041\n",
      "Cottonseed Oil                           0          0        nan        nan             0         0\n",
      "Onions                                   0          0        nan        nan             0         0\n",
      "Coffee and products                      0          0        nan        nan             0         0\n",
      "Roots, Other                        0.0250      0.014      1.781      0.079        -0.003     0.053\n",
      "Infant food                              0          0        nan        nan             0         0\n",
      "Cereals, Other                      0.0326      0.033      0.985      0.328        -0.033     0.099\n",
      "Pepper                                   0          0        nan        nan             0         0\n",
      "Peas                                     0          0        nan        nan             0         0\n",
      "Nuts and products                        0          0        nan        nan             0         0\n",
      "Cocoa Beans and products                 0          0        nan        nan             0         0\n",
      "Wheat and products                  0.0446      0.006      7.103      0.000         0.032     0.057\n",
      "Cassava and products                0.0158      0.004      3.894      0.000         0.008     0.024\n",
      "Sunflowerseed Oil                        0          0        nan        nan             0         0\n",
      "Palmkernel Oil                           0          0        nan        nan             0         0\n",
      "Pimento                                  0          0        nan        nan             0         0\n",
      "Fruits, Other                       0.0229      0.021      1.065      0.290        -0.020     0.066\n",
      "Citrus, Other                            0          0        nan        nan             0         0\n",
      "Lemons, Limes and products               0          0        nan        nan             0         0\n",
      "Tea (including mate)                     0          0        nan        nan             0         0\n",
      "Soyabean Oil                             0          0        nan        nan             0         0\n",
      "Grapefruit and products             0.0006      0.035      0.016      0.987        -0.070     0.071\n",
      "Rye and products                    0.0088      0.028      0.307      0.760        -0.048     0.066\n",
      "Olive Oil                                0          0        nan        nan             0         0\n",
      "Coconut Oil                         0.0147      0.043      0.338      0.736        -0.072     0.101\n",
      "Tomatoes and products              -0.0252      0.020     -1.267      0.209        -0.065     0.014\n",
      "Oilcrops Oil, Other                      0          0        nan        nan             0         0\n",
      "Bananas                                  0          0        nan        nan             0         0\n",
      "Spices, Other                            0          0        nan        nan             0         0\n",
      "Sweet potatoes                           0          0        nan        nan             0         0\n",
      "Oranges, Mandarines                -0.0529      0.028     -1.871      0.065        -0.109     0.003\n",
      "Rice (Milled Equivalent)            0.0529      0.006      9.006      0.000         0.041     0.065\n",
      "Butter, Ghee                             0          0        nan        nan             0         0\n",
      "Fats, Animals, Raw                       0          0        nan        nan             0         0\n",
      "Crustaceans                              0          0        nan        nan             0         0\n",
      "Marine Fish, Other                  0.0123      0.045      0.272      0.786        -0.078     0.102\n",
      "Aquatic Plants                           0          0        nan        nan             0         0\n",
      "Pigmeat                                  0          0        nan        nan             0         0\n",
      "Freshwater Fish                          0          0        nan        nan             0         0\n",
      "Poultry Meat                             0          0        nan        nan             0         0\n",
      "Fish, Liver Oil                          0          0        nan        nan             0         0\n",
      "Meat, Other                         0.0037      0.056      0.067      0.947        -0.107     0.115\n",
      "Cephalopods                              0          0        nan        nan             0         0\n",
      "Mutton & Goat Meat                  0.0490      0.036      1.342      0.184        -0.024     0.122\n",
      "Pelagic Fish                             0          0        nan        nan             0         0\n",
      "Bovine Meat                         0.0208      0.026      0.812      0.419        -0.030     0.072\n",
      "Molluscs, Other                          0          0        nan        nan             0         0\n",
      "Fish, Body Oil                           0          0        nan        nan             0         0\n",
      "Aquatic Animals, Others             0.0435      0.047      0.931      0.355        -0.050     0.137\n",
      "Honey                                    0          0        nan        nan             0         0\n",
      "Offals, Edible                           0          0        nan        nan             0         0\n",
      "Demersal Fish                      -0.0415      0.047     -0.892      0.375        -0.134     0.051\n",
      "Cream                                    0          0        nan        nan             0         0\n",
      "==============================================================================\n",
      "Omnibus:                       14.905   Durbin-Watson:                   2.008\n",
      "Prob(Omnibus):                  0.001   Jarque-Bera (JB):               18.824\n",
      "Skew:                           0.607   Prob(JB):                     8.17e-05\n",
      "Kurtosis:                       4.207   Cond. No.                         552.\n",
      "==============================================================================\n",
      "\n",
      "Warnings:\n",
      "[1] Standard Errors assume that the covariance matrix of the errors is correctly specified.\n"
     ]
    }
   ],
   "source": [
    "# Fit linear model with risk of death in 2000 as response variable\n",
    "risk_2000_model_lasso = sm.OLS(risk_of_death_2000.drop(countries_to_drop), food_1970_2000_cleaned)\n",
    "risk_2000_results_lasso = risk_2000_model_lasso.fit_regularized(alpha = 5.6)\n",
    "print(risk_2000_results_lasso.summary())"
   ]
  },
  {
   "cell_type": "markdown",
   "metadata": {},
   "source": [
    "Checking the same diagnostics as before, while the Condition Number is much smaller (indicating a reduced likelihood of multicollinearity affecting the model), for the model considering overall percentage risk of death in 2000 the residuals do not appear to be normally distributed (according to the Omnibus and Jarque-Bera Tests), so we should address that issue in follow-up models."
   ]
  },
  {
   "cell_type": "code",
   "execution_count": 21,
   "metadata": {
    "collapsed": false
   },
   "outputs": [
    {
     "data": {
      "image/png": "[encoded data removed]",
      "text/plain": [
       "<matplotlib.figure.Figure at 0x11da267d0>"
      ]
     },
     "metadata": {},
     "output_type": "display_data"
    }
   ],
   "source": [
    "plot_sig_coeffs(risk_2000_results_lasso, 0.1)"
   ]
  },
  {
   "cell_type": "markdown",
   "metadata": {},
   "source": [
    "## Deaths per 100k from All Causes as Response Variable"
   ]
  },
  {
   "cell_type": "code",
   "execution_count": 22,
   "metadata": {
    "collapsed": false
   },
   "outputs": [
    {
     "data": {
      "text/plain": [
       "{'alpha': 1.3, 'fit_intercept': True, 'normalize': True}"
      ]
     },
     "execution_count": 22,
     "metadata": {},
     "output_type": "execute_result"
    }
   ],
   "source": [
    "lasso = linear_model.Lasso(alpha = 1.0)\n",
    "X = food_1970_2000_cleaned\n",
    "y_death_100k_cancer_lasso = deaths_100k_all_2000.drop(countries_to_drop).sort_index().loc[food_1970_2000_cleaned.index].values\n",
    "lasso.fit(X, y_death_100k_cancer_lasso)\n",
    "lasso.score(X, y_death_100k_cancer_lasso)\n",
    "lasso.coef_\n",
    "params = {\n",
    "    'alpha': [0.3,0.6,1.0,1.3,1.6,2.0,2.3,2.6,3.0,4.0,5.0],\n",
    "    'fit_intercept': [True, False],\n",
    "    'normalize': [True, False],\n",
    "}\n",
    "\n",
    "CV_model = GridSearchCV(lasso, param_grid=params, cv=5)\n",
    "CV_model.fit(X, y_death_100k_cancer_lasso)\n",
    "CV_model.best_params_"
   ]
  },
  {
   "cell_type": "code",
   "execution_count": 23,
   "metadata": {
    "collapsed": false
   },
   "outputs": [
    {
     "name": "stdout",
     "output_type": "stream",
     "text": [
      "                            OLS Regression Results                            \n",
      "==============================================================================\n",
      "Dep. Variable:                   2000   R-squared:                       0.977\n",
      "Model:                            OLS   Adj. R-squared:                  0.952\n",
      "Method:                 Least Squares   F-statistic:                     37.89\n",
      "Date:                Wed, 14 Dec 2016   Prob (F-statistic):           1.54e-38\n",
      "Time:                        16:14:09   Log-Likelihood:                -925.62\n",
      "No. Observations:                 154   AIC:                             2015.\n",
      "Df Residuals:                      72   BIC:                             2264.\n",
      "Df Model:                          82                                         \n",
      "Covariance Type:            nonrobust                                         \n",
      "===================================================================================================\n",
      "                                      coef    std err          t      P>|t|      [95.0% Conf. Int.]\n",
      "---------------------------------------------------------------------------------------------------\n",
      "Plantains                           0.1825      0.310      0.589      0.558        -0.436     0.801\n",
      "Sugar, Raw Equivalent               0.9726      1.691      0.575      0.567        -2.398     4.343\n",
      "Beverages, Alcoholic                1.3024      2.367      0.550      0.584        -3.415     6.020\n",
      "Olives (including preserved)       -2.4888      3.424     -0.727      0.470        -9.315     4.338\n",
      "Cloves                             -2.6565      2.301     -1.155      0.252        -7.243     1.930\n",
      "Coconuts - Incl Copra               0.1449      0.723      0.200      0.842        -1.296     1.586\n",
      "Vegetables, Other                  -0.3520      0.330     -1.066      0.290        -1.010     0.306\n",
      "Sesame seed                        -1.2844      1.248     -1.029      0.307        -3.773     1.204\n",
      "Wine                               -0.2164      0.577     -0.375      0.709        -1.367     0.934\n",
      "Apples and products                -2.4070      1.256     -1.916      0.059        -4.911     0.097\n",
      "Rape and Mustard Oil               -2.1249      1.432     -1.484      0.142        -4.980     0.730\n",
      "Maize and products                  1.0057      0.219      4.600      0.000         0.570     1.442\n",
      "Groundnuts (Shelled Eq)             2.8831      2.569      1.122      0.266        -2.239     8.005\n",
      "Barley and products                 0.5304      0.806      0.658      0.513        -1.076     2.137\n",
      "Maize Germ Oil                     -1.6295      3.984     -0.409      0.684        -9.572     6.313\n",
      "Beer                                0.2085      0.418      0.499      0.619        -0.624     1.041\n",
      "Groundnut Oil                       1.8852      2.897      0.651      0.517        -3.890     7.660\n",
      "Pineapples and products             0.1890      1.718      0.110      0.913        -3.236     3.614\n",
      "Pulses, Other and products          4.7686      1.867      2.554      0.013         1.046     8.491\n",
      "Sugar (Raw Equivalent)             -0.7391      1.801     -0.410      0.683        -4.330     2.852\n",
      "Palm Oil                            0.9011      1.314      0.686      0.495        -1.718     3.521\n",
      "Oilcrops, Other                     1.8016      1.383      1.303      0.197        -0.955     4.558\n",
      "Dates                               1.7392      0.917      1.897      0.062        -0.089     3.567\n",
      "Oats                               -0.4487      2.757     -0.163      0.871        -5.944     5.047\n",
      "Soyabeans                           1.2404      2.904      0.427      0.671        -4.548     7.029\n",
      "Beans                               3.6321      1.639      2.216      0.030         0.365     6.899\n",
      "Sesameseed Oil                      3.1293      1.298      2.411      0.018         0.542     5.717\n",
      "Grapes and products (excl wine)     0.7440      0.804      0.925      0.358        -0.859     2.347\n",
      "Beverages, Fermented                0.5831      0.281      2.077      0.041         0.024     1.143\n",
      "Potatoes and products               1.0180      0.312      3.261      0.002         0.396     1.640\n",
      "Cottonseed Oil                     -0.6378      1.209     -0.528      0.599        -3.048     1.772\n",
      "Onions                              0.1725      1.865      0.092      0.927        -3.545     3.890\n",
      "Coffee and products                 0.5005      5.362      0.093      0.926       -10.189    11.190\n",
      "Roots, Other                        0.6170      0.382      1.615      0.111        -0.144     1.378\n",
      "Infant food                        -2.2210      2.022     -1.098      0.276        -6.252     1.810\n",
      "Cereals, Other                      1.9357      1.026      1.887      0.063        -0.109     3.981\n",
      "Pepper                             -7.1526      4.792     -1.492      0.140       -16.706     2.401\n",
      "Peas                               -1.8032      2.090     -0.863      0.391        -5.969     2.362\n",
      "Nuts and products                   4.5609      4.289      1.063      0.291        -3.989    13.111\n",
      "Cocoa Beans and products            1.8929     17.979      0.105      0.916       -33.947    37.733\n",
      "Wheat and products                  1.0493      0.206      5.085      0.000         0.638     1.461\n",
      "Cassava and products                0.3823      0.134      2.850      0.006         0.115     0.650\n",
      "Sunflowerseed Oil                   5.4836      2.712      2.022      0.047         0.078    10.889\n",
      "Palmkernel Oil                     -1.2749      1.235     -1.033      0.305        -3.736     1.186\n",
      "Pimento                             0.1820      2.490      0.073      0.942        -4.781     5.145\n",
      "Fruits, Other                       0.9261      0.689      1.345      0.183        -0.447     2.299\n",
      "Citrus, Other                      -0.4815      1.851     -0.260      0.796        -4.171     3.208\n",
      "Lemons, Limes and products         -1.1749      2.554     -0.460      0.647        -6.266     3.916\n",
      "Tea (including mate)                2.4589      5.062      0.486      0.629        -7.631    12.549\n",
      "Soyabean Oil                        0.7952      2.633      0.302      0.764        -4.454     6.044\n",
      "Grapefruit and products             1.0061      1.188      0.847      0.400        -1.361     3.374\n",
      "Rye and products                    0.0589      1.069      0.055      0.956        -2.073     2.190\n",
      "Olive Oil                          -2.0309      4.064     -0.500      0.619       -10.133     6.071\n",
      "Coconut Oil                        -0.2445      1.483     -0.165      0.869        -3.200     2.711\n",
      "Tomatoes and products              -0.3864      0.772     -0.501      0.618        -1.925     1.152\n",
      "Oilcrops Oil, Other                 2.0123      2.112      0.953      0.344        -2.198     6.223\n",
      "Bananas                            -0.0052      0.479     -0.011      0.991        -0.961     0.950\n",
      "Spices, Other                       0.9274      7.405      0.125      0.901       -13.834    15.689\n",
      "Sweet potatoes                     -0.4380      0.468     -0.935      0.353        -1.371     0.495\n",
      "Oranges, Mandarines                -1.5214      1.068     -1.425      0.159        -3.650     0.607\n",
      "Rice (Milled Equivalent)            1.5294      0.210      7.279      0.000         1.111     1.948\n",
      "Butter, Ghee                       -0.2116      4.812     -0.044      0.965        -9.803     9.380\n",
      "Fats, Animals, Raw                 -1.5532      3.390     -0.458      0.648        -8.311     5.205\n",
      "Crustaceans                        -3.2264      5.137     -0.628      0.532       -13.466     7.014\n",
      "Marine Fish, Other                  2.4996      1.893      1.321      0.191        -1.274     6.273\n",
      "Aquatic Plants                      4.8384      2.777      1.742      0.086        -0.698    10.375\n",
      "Pigmeat                             1.1491      1.191      0.965      0.338        -1.224     3.523\n",
      "Freshwater Fish                    -0.0563      3.081     -0.018      0.985        -6.198     6.086\n",
      "Poultry Meat                       -0.2065      1.441     -0.143      0.886        -3.079     2.666\n",
      "Fish, Liver Oil                     2.5341      2.060      1.230      0.223        -1.573     6.641\n",
      "Meat, Other                         1.1589      1.949      0.595      0.554        -2.727     5.044\n",
      "Cephalopods                        -8.4655      4.394     -1.927      0.058       -17.224     0.293\n",
      "Mutton & Goat Meat                  3.8971      1.183      3.295      0.002         1.539     6.255\n",
      "Pelagic Fish                       -1.1561      1.167     -0.991      0.325        -3.482     1.169\n",
      "Bovine Meat                         0.1628      0.805      0.202      0.840        -1.442     1.768\n",
      "Molluscs, Other                    -0.5501      6.311     -0.087      0.931       -13.132    12.031\n",
      "Fish, Body Oil                      3.3466      2.821      1.186      0.239        -2.276     8.969\n",
      "Aquatic Animals, Others             1.8669      1.444      1.293      0.200        -1.011     4.745\n",
      "Honey                               1.2692      6.092      0.208      0.836       -10.874    13.413\n",
      "Offals, Edible                     -6.6575      4.074     -1.634      0.107       -14.780     1.465\n",
      "Demersal Fish                      -0.3084      1.794     -0.172      0.864        -3.884     3.267\n",
      "Cream                              -1.1817      2.535     -0.466      0.643        -6.235     3.871\n",
      "==============================================================================\n",
      "Omnibus:                        7.005   Durbin-Watson:                   1.897\n",
      "Prob(Omnibus):                  0.030   Jarque-Bera (JB):                7.493\n",
      "Skew:                           0.363   Prob(JB):                       0.0236\n",
      "Kurtosis:                       3.801   Cond. No.                         552.\n",
      "==============================================================================\n",
      "\n",
      "Warnings:\n",
      "[1] Standard Errors assume that the covariance matrix of the errors is correctly specified.\n"
     ]
    }
   ],
   "source": [
    "# Fit linear model with risk of death in 2000 as response variable\n",
    "deaths100k_model_lasso = sm.OLS(deaths_100k_all_2000.drop(countries_to_drop).sort_index().loc[food_1970_2000_cleaned.index], \n",
    "                                food_1970_2000_cleaned)\n",
    "deaths100k_results_lasso = deaths100k_model_lasso.fit_regularized(alpha = 1.3)\n",
    "print(deaths100k_results_lasso.summary())"
   ]
  },
  {
   "cell_type": "markdown",
   "metadata": {},
   "source": [
    "Similarly, when considering age-standardized mortality rate as the response variable, according to the Omnibus and Jarque-Bera Tests the residuals do not appear normally distributed, which we should address in follow-up models."
   ]
  },
  {
   "cell_type": "code",
   "execution_count": 24,
   "metadata": {
    "collapsed": false
   },
   "outputs": [
    {
     "data": {
      "image/png": "[encoded data removed]",
      "text/plain": [
       "<matplotlib.figure.Figure at 0x11b594950>"
      ]
     },
     "metadata": {},
     "output_type": "display_data"
    }
   ],
   "source": [
    "plot_sig_coeffs(deaths100k_results_lasso, 0.1)"
   ]
  },
  {
   "cell_type": "markdown",
   "metadata": {},
   "source": [
    "## Deaths per 100k from Cancer as Response Variable"
   ]
  },
  {
   "cell_type": "code",
   "execution_count": 26,
   "metadata": {
    "collapsed": false
   },
   "outputs": [
    {
     "data": {
      "text/plain": [
       "{'alpha': 0.6, 'fit_intercept': True, 'normalize': True}"
      ]
     },
     "execution_count": 26,
     "metadata": {},
     "output_type": "execute_result"
    }
   ],
   "source": [
    "lasso = linear_model.Lasso(alpha = 1.0)\n",
    "y_death_100k_cancer_lasso = deaths_100k_cancer_2000.drop(countries_to_drop).sort_index().loc[food_1970_2000_cleaned.index]\n",
    "lasso.fit(X.values, y_death_100k_cancer_lasso.values)\n",
    "lasso.score(X.values, y_death_100k_cancer_lasso.values)\n",
    "lasso.coef_\n",
    "params = {\n",
    "    'alpha': [0.3,0.6,1.0,1.3,1.6,2.0,2.3,2.6,3.0,4.0,5.0],\n",
    "    'fit_intercept': [True, False],\n",
    "    'normalize': [True, False],\n",
    "}\n",
    "\n",
    "CV_model = GridSearchCV(lasso, param_grid=params, cv=5)\n",
    "CV_model.fit(X, y_death_100k_cancer_lasso)\n",
    "CV_model.best_params_"
   ]
  },
  {
   "cell_type": "code",
   "execution_count": 27,
   "metadata": {
    "collapsed": false
   },
   "outputs": [
    {
     "name": "stdout",
     "output_type": "stream",
     "text": [
      "                            OLS Regression Results                            \n",
      "==============================================================================\n",
      "Dep. Variable:                   2000   R-squared:                       0.966\n",
      "Model:                            OLS   Adj. R-squared:                  0.927\n",
      "Method:                 Least Squares   F-statistic:                     24.78\n",
      "Date:                Wed, 14 Dec 2016   Prob (F-statistic):           2.74e-32\n",
      "Time:                        16:14:43   Log-Likelihood:                -704.16\n",
      "No. Observations:                 154   AIC:                             1572.\n",
      "Df Residuals:                      72   BIC:                             1821.\n",
      "Df Model:                          82                                         \n",
      "Covariance Type:            nonrobust                                         \n",
      "===================================================================================================\n",
      "                                      coef    std err          t      P>|t|      [95.0% Conf. Int.]\n",
      "---------------------------------------------------------------------------------------------------\n",
      "Plantains                          -0.0763      0.072     -1.057      0.294        -0.220     0.068\n",
      "Sugar, Raw Equivalent               0.0165      0.372      0.044      0.965        -0.725     0.758\n",
      "Beverages, Alcoholic                0.6376      0.553      1.153      0.253        -0.465     1.740\n",
      "Olives (including preserved)       -0.1910      0.789     -0.242      0.809        -1.765     1.382\n",
      "Cloves                             -0.7862      0.528     -1.490      0.140        -1.838     0.265\n",
      "Coconuts - Incl Copra              -0.0501      0.168     -0.299      0.766        -0.384     0.284\n",
      "Vegetables, Other                  -0.0455      0.077     -0.592      0.556        -0.198     0.108\n",
      "Sesame seed                        -0.3458      0.267     -1.293      0.200        -0.879     0.187\n",
      "Wine                                0.0147      0.134      0.110      0.913        -0.253     0.283\n",
      "Apples and products                 0.0702      0.297      0.236      0.814        -0.522     0.663\n",
      "Rape and Mustard Oil               -0.2335      0.319     -0.731      0.467        -0.870     0.403\n",
      "Maize and products                  0.2345      0.052      4.525      0.000         0.131     0.338\n",
      "Groundnuts (Shelled Eq)             0.7880      0.607      1.298      0.199        -0.423     1.998\n",
      "Barley and products                -0.0483      0.190     -0.254      0.800        -0.428     0.331\n",
      "Maize Germ Oil                      0.1711      0.945      0.181      0.857        -1.713     2.056\n",
      "Beer                               -0.0028      0.098     -0.029      0.977        -0.199     0.193\n",
      "Groundnut Oil                       0.3637      0.669      0.544      0.588        -0.970     1.697\n",
      "Pineapples and products            -0.1442      0.403     -0.358      0.721        -0.947     0.658\n",
      "Pulses, Other and products         -0.1540      0.440     -0.350      0.727        -1.031     0.723\n",
      "Sugar (Raw Equivalent)             -0.0195      0.403     -0.048      0.962        -0.823     0.784\n",
      "Palm Oil                            0.1914      0.309      0.620      0.537        -0.424     0.807\n",
      "Oilcrops, Other                     0.1507      0.325      0.463      0.644        -0.497     0.799\n",
      "Dates                              -0.3847      0.213     -1.803      0.076        -0.810     0.041\n",
      "Oats                               -0.5799      0.632     -0.918      0.362        -1.839     0.679\n",
      "Soyabeans                           0.0471      0.649      0.073      0.942        -1.246     1.340\n",
      "Beans                               0.5473      0.388      1.410      0.163        -0.226     1.321\n",
      "Sesameseed Oil                      0.1052      0.294      0.358      0.721        -0.480     0.691\n",
      "Grapes and products (excl wine)     0.2493      0.190      1.311      0.194        -0.130     0.628\n",
      "Beverages, Fermented                0.2040      0.065      3.138      0.002         0.074     0.334\n",
      "Potatoes and products               0.1568      0.071      2.212      0.030         0.015     0.298\n",
      "Cottonseed Oil                      0.2889      0.284      1.018      0.312        -0.277     0.855\n",
      "Onions                             -0.2452      0.424     -0.578      0.565        -1.091     0.600\n",
      "Coffee and products                 1.0196      1.258      0.810      0.420        -1.489     3.528\n",
      "Roots, Other                        0.0351      0.090      0.389      0.698        -0.145     0.215\n",
      "Infant food                              0          0        nan        nan             0         0\n",
      "Cereals, Other                      0.3065      0.243      1.259      0.212        -0.179     0.792\n",
      "Pepper                             -0.1244      1.125     -0.111      0.912        -2.367     2.118\n",
      "Peas                                0.6518      0.487      1.339      0.185        -0.319     1.622\n",
      "Nuts and products                  -0.6436      1.007     -0.639      0.525        -2.650     1.363\n",
      "Cocoa Beans and products            6.5855      4.077      1.615      0.111        -1.542    14.713\n",
      "Wheat and products                  0.1952      0.048      4.076      0.000         0.100     0.291\n",
      "Cassava and products                0.0280      0.031      0.893      0.375        -0.035     0.091\n",
      "Sunflowerseed Oil                  -0.6474      0.642     -1.009      0.316        -1.927     0.632\n",
      "Palmkernel Oil                     -0.4579      0.283     -1.615      0.111        -1.023     0.107\n",
      "Pimento                             0.8365      0.588      1.423      0.159        -0.335     2.008\n",
      "Fruits, Other                       0.0775      0.160      0.483      0.630        -0.242     0.397\n",
      "Citrus, Other                       0.2468      0.424      0.582      0.562        -0.599     1.092\n",
      "Lemons, Limes and products         -0.1625      0.590     -0.276      0.784        -1.338     1.013\n",
      "Tea (including mate)               -0.3834      1.181     -0.325      0.746        -2.737     1.970\n",
      "Soyabean Oil                       -0.3848      0.615     -0.626      0.534        -1.611     0.841\n",
      "Grapefruit and products            -0.2943      0.282     -1.044      0.300        -0.856     0.268\n",
      "Rye and products                   -0.0184      0.246     -0.075      0.940        -0.508     0.471\n",
      "Olive Oil                          -0.3615      0.899     -0.402      0.689        -2.153     1.430\n",
      "Coconut Oil                         0.0572      0.336      0.170      0.865        -0.612     0.727\n",
      "Tomatoes and products              -0.1565      0.175     -0.892      0.375        -0.506     0.193\n",
      "Oilcrops Oil, Other                -0.0712      0.496     -0.144      0.886        -1.059     0.917\n",
      "Bananas                             0.0838      0.113      0.743      0.460        -0.141     0.309\n",
      "Spices, Other                      -0.3672      1.733     -0.212      0.833        -3.822     3.087\n",
      "Sweet potatoes                      0.1328      0.110      1.203      0.233        -0.087     0.353\n",
      "Oranges, Mandarines                 0.2869      0.250      1.145      0.256        -0.212     0.786\n",
      "Rice (Milled Equivalent)            0.2720      0.050      5.459      0.000         0.173     0.371\n",
      "Butter, Ghee                       -0.0751      1.126     -0.067      0.947        -2.319     2.169\n",
      "Fats, Animals, Raw                  0.8762      0.798      1.098      0.276        -0.715     2.467\n",
      "Crustaceans                        -2.4277      1.034     -2.348      0.022        -4.489    -0.367\n",
      "Marine Fish, Other                  0.2818      0.425      0.664      0.509        -0.565     1.128\n",
      "Aquatic Plants                      0.5391      0.636      0.848      0.399        -0.728     1.806\n",
      "Pigmeat                            -0.0574      0.282     -0.204      0.839        -0.619     0.504\n",
      "Freshwater Fish                    -0.2480      0.731     -0.339      0.735        -1.705     1.209\n",
      "Poultry Meat                        0.2075      0.338      0.613      0.542        -0.467     0.882\n",
      "Fish, Liver Oil                    -0.3233      0.485     -0.666      0.507        -1.291     0.644\n",
      "Meat, Other                         1.1966      0.447      2.679      0.009         0.306     2.087\n",
      "Cephalopods                         0.3938      0.959      0.411      0.682        -1.518     2.305\n",
      "Mutton & Goat Meat                  0.8916      0.277      3.223      0.002         0.340     1.443\n",
      "Pelagic Fish                       -0.0677      0.274     -0.247      0.806        -0.614     0.479\n",
      "Bovine Meat                         0.0264      0.191      0.138      0.890        -0.354     0.407\n",
      "Molluscs, Other                          0          0        nan        nan             0         0\n",
      "Fish, Body Oil                      0.3974      0.669      0.594      0.554        -0.935     1.730\n",
      "Aquatic Animals, Others             0.1718      0.336      0.511      0.611        -0.499     0.843\n",
      "Honey                               0.9885      1.432      0.691      0.492        -1.865     3.842\n",
      "Offals, Edible                     -0.9393      0.961     -0.977      0.332        -2.856     0.977\n",
      "Demersal Fish                      -0.0376      0.418     -0.090      0.929        -0.872     0.797\n",
      "Cream                              -0.3320      0.587     -0.565      0.574        -1.503     0.839\n",
      "==============================================================================\n",
      "Omnibus:                       71.852   Durbin-Watson:                   1.955\n",
      "Prob(Omnibus):                  0.000   Jarque-Bera (JB):              426.041\n",
      "Skew:                           1.565   Prob(JB):                     3.07e-93\n",
      "Kurtosis:                      10.523   Cond. No.                         552.\n",
      "==============================================================================\n",
      "\n",
      "Warnings:\n",
      "[1] Standard Errors assume that the covariance matrix of the errors is correctly specified.\n"
     ]
    }
   ],
   "source": [
    "# Fit linear model with risk of death in 2000 as response variable\n",
    "deaths100k_cancer_model_lasso = sm.OLS(y_death_100k_cancer_lasso, X)\n",
    "deaths100k_cancer_results_lasso = deaths100k_cancer_model_lasso.fit_regularized(alpha = 0.6)\n",
    "print(deaths100k_cancer_results_lasso.summary())"
   ]
  },
  {
   "cell_type": "markdown",
   "metadata": {},
   "source": [
    "When considering the age-standardized mortality rate from cancer, once again the Omnibus and Jarque-Bera Tests indicate that the residuals are not normally distributed."
   ]
  },
  {
   "cell_type": "code",
   "execution_count": 28,
   "metadata": {
    "collapsed": false
   },
   "outputs": [
    {
     "data": {
      "image/png": "[encoded data removed]",
      "text/plain": [
       "<matplotlib.figure.Figure at 0x11dace610>"
      ]
     },
     "metadata": {},
     "output_type": "display_data"
    }
   ],
   "source": [
    "plot_sig_coeffs(deaths100k_cancer_results_lasso, 0.1)"
   ]
  },
  {
   "cell_type": "markdown",
   "metadata": {},
   "source": [
    "## Deaths per 100k from Cardiovascular Disease as Response Variable"
   ]
  },
  {
   "cell_type": "code",
   "execution_count": 29,
   "metadata": {
    "collapsed": false
   },
   "outputs": [
    {
     "data": {
      "text/plain": [
       "{'alpha': 1.0, 'fit_intercept': True, 'normalize': True}"
      ]
     },
     "execution_count": 29,
     "metadata": {},
     "output_type": "execute_result"
    }
   ],
   "source": [
    "lasso = linear_model.Lasso(alpha = 1.0)\n",
    "y_death_100k_cardio_lasso = deaths_100k_cardio_2000.drop(countries_to_drop).sort_index().loc[food_1970_2000_cleaned.index]\n",
    "lasso.fit(X.values, y_death_100k_cardio_lasso.values)\n",
    "lasso.score(X.values, y_death_100k_cardio_lasso.values)\n",
    "lasso.coef_\n",
    "params = {\n",
    "    'alpha': [0.3,0.6,1.0,1.3,1.6,2.0,2.3,2.6,3.0,4.0,5.0],\n",
    "    'fit_intercept': [True, False],\n",
    "    'normalize': [True, False],\n",
    "}\n",
    "\n",
    "CV_model = GridSearchCV(lasso, param_grid=params, cv=5)\n",
    "CV_model.fit(X, y_death_100k_cardio_lasso)\n",
    "CV_model.best_params_"
   ]
  },
  {
   "cell_type": "code",
   "execution_count": 30,
   "metadata": {
    "collapsed": false
   },
   "outputs": [
    {
     "name": "stdout",
     "output_type": "stream",
     "text": [
      "                            OLS Regression Results                            \n",
      "==============================================================================\n",
      "Dep. Variable:                   2000   R-squared:                       0.973\n",
      "Model:                            OLS   Adj. R-squared:                  0.941\n",
      "Method:                 Least Squares   F-statistic:                     31.17\n",
      "Date:                Wed, 14 Dec 2016   Prob (F-statistic):           1.21e-35\n",
      "Time:                        16:15:54   Log-Likelihood:                -842.23\n",
      "No. Observations:                 154   AIC:                             1848.\n",
      "Df Residuals:                      72   BIC:                             2097.\n",
      "Df Model:                          82                                         \n",
      "Covariance Type:            nonrobust                                         \n",
      "===================================================================================================\n",
      "                                      coef    std err          t      P>|t|      [95.0% Conf. Int.]\n",
      "---------------------------------------------------------------------------------------------------\n",
      "Plantains                           0.1186      0.174      0.683      0.497        -0.228     0.465\n",
      "Sugar, Raw Equivalent               0.7843      0.954      0.822      0.414        -1.117     2.686\n",
      "Beverages, Alcoholic                0.7806      1.350      0.578      0.565        -1.911     3.472\n",
      "Olives (including preserved)       -2.4231      1.979     -1.224      0.225        -6.368     1.522\n",
      "Cloves                             -0.9395      1.324     -0.709      0.480        -3.579     1.700\n",
      "Coconuts - Incl Copra               0.4226      0.415      1.017      0.312        -0.405     1.251\n",
      "Vegetables, Other                  -0.1610      0.187     -0.860      0.392        -0.534     0.212\n",
      "Sesame seed                        -0.2165      0.721     -0.300      0.765        -1.654     1.221\n",
      "Wine                               -0.4965      0.332     -1.494      0.140        -1.159     0.166\n",
      "Apples and products                -1.0598      0.714     -1.484      0.142        -2.484     0.364\n",
      "Rape and Mustard Oil               -1.2215      0.807     -1.514      0.134        -2.830     0.387\n",
      "Maize and products                  0.3518      0.126      2.799      0.007         0.101     0.602\n",
      "Groundnuts (Shelled Eq)             1.1862      1.420      0.836      0.406        -1.644     4.016\n",
      "Barley and products                -0.0298      0.456     -0.065      0.948        -0.939     0.879\n",
      "Maize Germ Oil                     -0.0479      2.202     -0.022      0.983        -4.437     4.341\n",
      "Beer                               -0.1520      0.236     -0.643      0.522        -0.623     0.319\n",
      "Groundnut Oil                       0.6647      1.674      0.397      0.692        -2.672     4.001\n",
      "Pineapples and products             0.8250      0.934      0.883      0.380        -1.038     2.688\n",
      "Pulses, Other and products          1.6843      1.063      1.584      0.117        -0.435     3.803\n",
      "Sugar (Raw Equivalent)             -0.5785      1.034     -0.560      0.578        -2.639     1.482\n",
      "Palm Oil                            0.2935      0.748      0.393      0.696        -1.197     1.784\n",
      "Oilcrops, Other                     1.0738      0.687      1.563      0.122        -0.296     2.443\n",
      "Dates                               1.3540      0.530      2.553      0.013         0.297     2.411\n",
      "Oats                                     0          0        nan        nan             0         0\n",
      "Soyabeans                           0.4583      1.659      0.276      0.783        -2.849     3.765\n",
      "Beans                               1.8769      0.931      2.015      0.048         0.020     3.733\n",
      "Sesameseed Oil                      2.2719      0.738      3.078      0.003         0.801     3.743\n",
      "Grapes and products (excl wine)     0.2565      0.462      0.555      0.581        -0.665     1.178\n",
      "Beverages, Fermented                0.0782      0.159      0.493      0.623        -0.238     0.395\n",
      "Potatoes and products               0.5545      0.181      3.066      0.003         0.194     0.915\n",
      "Cottonseed Oil                     -0.6863      0.680     -1.009      0.316        -2.042     0.669\n",
      "Onions                              0.6786      1.066      0.637      0.526        -1.446     2.803\n",
      "Coffee and products                      0          0        nan        nan             0         0\n",
      "Roots, Other                        0.4359      0.214      2.033      0.046         0.008     0.863\n",
      "Infant food                        -0.9925      1.134     -0.876      0.384        -3.252     1.267\n",
      "Cereals, Other                      0.6221      0.596      1.044      0.300        -0.566     1.810\n",
      "Pepper                             -1.9599      2.728     -0.718      0.475        -7.399     3.479\n",
      "Peas                               -1.4158      1.192     -1.188      0.239        -3.792     0.960\n",
      "Nuts and products                   2.8759      2.457      1.170      0.246        -2.023     7.775\n",
      "Cocoa Beans and products            0.3523     10.211      0.035      0.973       -20.003    20.708\n",
      "Wheat and products                  0.6712      0.115      5.846      0.000         0.442     0.900\n",
      "Cassava and products                0.2146      0.076      2.822      0.006         0.063     0.366\n",
      "Sunflowerseed Oil                   3.3944      1.484      2.288      0.025         0.437     6.352\n",
      "Palmkernel Oil                      0.3081      0.700      0.440      0.661        -1.087     1.704\n",
      "Pimento                            -1.8531      1.305     -1.420      0.160        -4.455     0.749\n",
      "Fruits, Other                       0.5468      0.391      1.399      0.166        -0.232     1.326\n",
      "Citrus, Other                      -0.5971      1.040     -0.574      0.567        -2.669     1.475\n",
      "Lemons, Limes and products         -0.9103      1.437     -0.633      0.529        -3.775     1.955\n",
      "Tea (including mate)                3.3990      2.689      1.264      0.210        -1.961     8.759\n",
      "Soyabean Oil                       -0.3429      1.499     -0.229      0.820        -3.331     2.646\n",
      "Grapefruit and products             0.8111      0.655      1.237      0.220        -0.496     2.118\n",
      "Rye and products                    0.0729      0.554      0.132      0.896        -1.032     1.177\n",
      "Olive Oil                          -1.4516      2.081     -0.697      0.488        -5.601     2.698\n",
      "Coconut Oil                         0.3455      0.805      0.429      0.669        -1.259     1.950\n",
      "Tomatoes and products               0.0008      0.399      0.002      0.998        -0.795     0.796\n",
      "Oilcrops Oil, Other                 1.1740      1.198      0.980      0.330        -1.214     3.562\n",
      "Bananas                             0.1038      0.276      0.376      0.708        -0.447     0.655\n",
      "Spices, Other                            0          0        nan        nan             0         0\n",
      "Sweet potatoes                     -0.3180      0.254     -1.253      0.214        -0.824     0.188\n",
      "Oranges, Mandarines                -1.5368      0.547     -2.810      0.006        -2.627    -0.447\n",
      "Rice (Milled Equivalent)            0.5745      0.120      4.780      0.000         0.335     0.814\n",
      "Butter, Ghee                       -0.2758      2.611     -0.106      0.916        -5.481     4.930\n",
      "Fats, Animals, Raw                 -0.5233      1.951     -0.268      0.789        -4.412     3.365\n",
      "Crustaceans                        -1.7604      2.834     -0.621      0.537        -7.411     3.890\n",
      "Marine Fish, Other                  1.3664      1.081      1.264      0.210        -0.788     3.520\n",
      "Aquatic Plants                      1.3560      1.582      0.857      0.394        -1.798     4.510\n",
      "Pigmeat                             0.8547      0.680      1.258      0.213        -0.500     2.209\n",
      "Freshwater Fish                     0.4971      1.727      0.288      0.774        -2.946     3.940\n",
      "Poultry Meat                       -0.1746      0.789     -0.221      0.826        -1.748     1.399\n",
      "Fish, Liver Oil                     2.7878      1.189      2.345      0.022         0.418     5.157\n",
      "Meat, Other                         0.2000      1.118      0.179      0.859        -2.029     2.429\n",
      "Cephalopods                        -3.1911      2.527     -1.263      0.211        -8.229     1.847\n",
      "Mutton & Goat Meat                  1.9729      0.684      2.883      0.005         0.609     3.337\n",
      "Pelagic Fish                       -0.8113      0.664     -1.221      0.226        -2.136     0.513\n",
      "Bovine Meat                        -0.1873      0.448     -0.418      0.677        -1.081     0.707\n",
      "Molluscs, Other                    -0.4303      3.528     -0.122      0.903        -7.463     6.602\n",
      "Fish, Body Oil                      1.0045      1.634      0.615      0.541        -2.254     4.263\n",
      "Aquatic Animals, Others             0.6297      0.806      0.782      0.437        -0.976     2.236\n",
      "Honey                              -0.6062      3.418     -0.177      0.860        -7.419     6.206\n",
      "Offals, Edible                     -3.6276      2.310     -1.570      0.121        -8.233     0.978\n",
      "Demersal Fish                      -0.0088      1.041     -0.008      0.993        -2.084     2.066\n",
      "Cream                              -0.6133      1.406     -0.436      0.664        -3.416     2.190\n",
      "==============================================================================\n",
      "Omnibus:                        0.544   Durbin-Watson:                   2.063\n",
      "Prob(Omnibus):                  0.762   Jarque-Bera (JB):                0.683\n",
      "Skew:                           0.076   Prob(JB):                        0.711\n",
      "Kurtosis:                       2.711   Cond. No.                         552.\n",
      "==============================================================================\n",
      "\n",
      "Warnings:\n",
      "[1] Standard Errors assume that the covariance matrix of the errors is correctly specified.\n"
     ]
    }
   ],
   "source": [
    "# Fit linear model with risk of death in 2000 as response variable\n",
    "deaths100k_cardio_model_lasso = sm.OLS(y_death_100k_cardio_lasso, X)\n",
    "deaths100k_cardio_results_lasso = deaths100k_cardio_model_lasso.fit_regularized(alpha = 1.0)\n",
    "print(deaths100k_cardio_results_lasso.summary())"
   ]
  },
  {
   "cell_type": "markdown",
   "metadata": {},
   "source": [
    "According to both the Omnibus and Jarque-Bera Tests, we fail to reject the null hypothesis that the residuals are normally distributed in this model, with the age-standardized mortality rate from cardiovascular disease as the response variable."
   ]
  },
  {
   "cell_type": "code",
   "execution_count": 31,
   "metadata": {
    "collapsed": false
   },
   "outputs": [
    {
     "data": {
      "image/png": "[encoded data removed]",
      "text/plain": [
       "<matplotlib.figure.Figure at 0x11de44410>"
      ]
     },
     "metadata": {},
     "output_type": "display_data"
    }
   ],
   "source": [
    "plot_sig_coeffs(deaths100k_cardio_results_lasso, 0.1)"
   ]
  },
  {
   "cell_type": "markdown",
   "metadata": {},
   "source": [
    "## Deaths per 100k from Diabetes as Response Variable"
   ]
  },
  {
   "cell_type": "code",
   "execution_count": 32,
   "metadata": {
    "collapsed": false
   },
   "outputs": [
    {
     "data": {
      "text/plain": [
       "{'alpha': 0.3, 'fit_intercept': True, 'normalize': True}"
      ]
     },
     "execution_count": 32,
     "metadata": {},
     "output_type": "execute_result"
    }
   ],
   "source": [
    "lasso = linear_model.Lasso(alpha = 1.0)\n",
    "y_death_100k_diabetes_lasso = deaths_100k_diabetes_2000.drop(countries_to_drop).sort_index().loc[food_1970_2000_cleaned.index]\n",
    "lasso.fit(X.values, y_death_100k_diabetes_lasso.values)\n",
    "lasso.score(X.values, y_death_100k_diabetes_lasso.values)\n",
    "lasso.coef_\n",
    "params = {\n",
    "    'alpha': [0.3,0.6,1.0,1.3,1.6,2.0,2.3,2.6,3.0,4.0,5.0],\n",
    "    'fit_intercept': [True, False],\n",
    "    'normalize': [True, False],\n",
    "}\n",
    "\n",
    "CV_model = GridSearchCV(lasso, param_grid=params, cv=5)\n",
    "CV_model.fit(X, y_death_100k_diabetes_lasso)\n",
    "CV_model.best_params_"
   ]
  },
  {
   "cell_type": "code",
   "execution_count": 33,
   "metadata": {
    "collapsed": false
   },
   "outputs": [
    {
     "name": "stdout",
     "output_type": "stream",
     "text": [
      "                            OLS Regression Results                            \n",
      "==============================================================================\n",
      "Dep. Variable:                   2000   R-squared:                       0.889\n",
      "Model:                            OLS   Adj. R-squared:                  0.763\n",
      "Method:                 Least Squares   F-statistic:                     7.048\n",
      "Date:                Wed, 14 Dec 2016   Prob (F-statistic):           2.61e-15\n",
      "Time:                        16:16:34   Log-Likelihood:                -620.47\n",
      "No. Observations:                 154   AIC:                             1405.\n",
      "Df Residuals:                      72   BIC:                             1654.\n",
      "Df Model:                          82                                         \n",
      "Covariance Type:            nonrobust                                         \n",
      "===================================================================================================\n",
      "                                      coef    std err          t      P>|t|      [95.0% Conf. Int.]\n",
      "---------------------------------------------------------------------------------------------------\n",
      "Plantains                           0.0119      0.042      0.280      0.780        -0.073     0.096\n",
      "Sugar, Raw Equivalent              -0.1071      0.232     -0.461      0.646        -0.570     0.356\n",
      "Beverages, Alcoholic                0.3556      0.326      1.090      0.279        -0.295     1.006\n",
      "Olives (including preserved)       -0.4433      0.472     -0.940      0.351        -1.384     0.497\n",
      "Cloves                                   0          0        nan        nan             0         0\n",
      "Coconuts - Incl Copra               0.0511      0.099      0.515      0.608        -0.147     0.249\n",
      "Vegetables, Other                  -0.0219      0.044     -0.492      0.624        -0.110     0.067\n",
      "Sesame seed                        -0.2655      0.171     -1.552      0.125        -0.606     0.075\n",
      "Wine                                0.1355      0.079      1.708      0.092        -0.023     0.294\n",
      "Apples and products                -0.4848      0.173     -2.809      0.006        -0.829    -0.141\n",
      "Rape and Mustard Oil               -0.0051      0.191     -0.027      0.979        -0.386     0.376\n",
      "Maize and products                  0.0526      0.029      1.814      0.074        -0.005     0.110\n",
      "Groundnuts (Shelled Eq)             0.0578      0.354      0.163      0.871        -0.648     0.764\n",
      "Barley and products                 0.3097      0.111      2.791      0.007         0.089     0.531\n",
      "Maize Germ Oil                     -0.0481      0.547     -0.088      0.930        -1.138     1.042\n",
      "Beer                                0.1222      0.057      2.129      0.037         0.008     0.237\n",
      "Groundnut Oil                       0.1771      0.361      0.491      0.625        -0.542     0.897\n",
      "Pineapples and products            -0.1822      0.237     -0.770      0.444        -0.654     0.290\n",
      "Pulses, Other and products          0.2244      0.241      0.932      0.354        -0.256     0.704\n",
      "Sugar (Raw Equivalent)              0.3492      0.248      1.406      0.164        -0.146     0.844\n",
      "Palm Oil                            0.0624      0.180      0.346      0.730        -0.297     0.422\n",
      "Oilcrops, Other                     0.0210      0.188      0.112      0.911        -0.355     0.397\n",
      "Dates                               0.2625      0.126      2.077      0.041         0.011     0.514\n",
      "Oats                                0.2464      0.377      0.654      0.515        -0.504     0.997\n",
      "Soyabeans                          -0.4013      0.400     -1.002      0.319        -1.199     0.397\n",
      "Beans                               0.0452      0.226      0.200      0.842        -0.404     0.495\n",
      "Sesameseed Oil                      0.0442      0.177      0.250      0.803        -0.308     0.397\n",
      "Grapes and products (excl wine)     0.1567      0.109      1.433      0.156        -0.061     0.375\n",
      "Beverages, Fermented                0.0482      0.037      1.291      0.201        -0.026     0.123\n",
      "Potatoes and products              -0.0276      0.043     -0.642      0.523        -0.113     0.058\n",
      "Cottonseed Oil                     -0.2433      0.166     -1.470      0.146        -0.573     0.087\n",
      "Onions                              0.2144      0.253      0.848      0.399        -0.290     0.719\n",
      "Coffee and products                -0.1829      0.739     -0.247      0.805        -1.657     1.291\n",
      "Roots, Other                        0.0339      0.052      0.646      0.520        -0.071     0.139\n",
      "Infant food                        -0.2893      0.279     -1.038      0.303        -0.845     0.266\n",
      "Cereals, Other                      0.1294      0.138      0.941      0.350        -0.145     0.404\n",
      "Pepper                             -0.4996      0.659     -0.758      0.451        -1.813     0.814\n",
      "Peas                               -0.4430      0.286     -1.550      0.126        -1.013     0.127\n",
      "Nuts and products                   0.2448      0.588      0.416      0.678        -0.928     1.417\n",
      "Cocoa Beans and products           -0.1663      2.479     -0.067      0.947        -5.107     4.775\n",
      "Wheat and products                  0.0279      0.028      1.004      0.319        -0.028     0.083\n",
      "Cassava and products                0.0359      0.018      1.942      0.056        -0.001     0.073\n",
      "Sunflowerseed Oil                   0.7409      0.372      1.992      0.050        -0.001     1.482\n",
      "Palmkernel Oil                     -0.2968      0.164     -1.814      0.074        -0.623     0.029\n",
      "Pimento                            -0.0858      0.337     -0.255      0.799        -0.757     0.585\n",
      "Fruits, Other                       0.1643      0.094      1.745      0.085        -0.023     0.352\n",
      "Citrus, Other                      -0.1557      0.255     -0.611      0.543        -0.664     0.353\n",
      "Lemons, Limes and products         -0.1156      0.345     -0.335      0.739        -0.804     0.572\n",
      "Tea (including mate)                0.2591      0.696      0.372      0.711        -1.128     1.646\n",
      "Soyabean Oil                        1.1478      0.362      3.167      0.002         0.425     1.870\n",
      "Grapefruit and products             0.1056      0.162      0.650      0.518        -0.218     0.429\n",
      "Rye and products                    0.2985      0.146      2.047      0.044         0.008     0.589\n",
      "Olive Oil                           0.4956      0.557      0.889      0.377        -0.615     1.606\n",
      "Coconut Oil                        -0.0535      0.203     -0.264      0.793        -0.458     0.351\n",
      "Tomatoes and products              -0.1705      0.106     -1.603      0.113        -0.383     0.042\n",
      "Oilcrops Oil, Other                 0.4407      0.290      1.519      0.133        -0.138     1.019\n",
      "Bananas                            -0.0707      0.066     -1.073      0.287        -0.202     0.061\n",
      "Spices, Other                       0.4059      1.018      0.399      0.691        -1.624     2.436\n",
      "Sweet potatoes                     -0.0334      0.064     -0.518      0.606        -0.162     0.095\n",
      "Oranges, Mandarines                -0.1394      0.147     -0.949      0.346        -0.432     0.154\n",
      "Rice (Milled Equivalent)            0.0860      0.028      3.127      0.003         0.031     0.141\n",
      "Butter, Ghee                       -0.3535      0.655     -0.540      0.591        -1.659     0.952\n",
      "Fats, Animals, Raw                 -0.0051      0.467     -0.011      0.991        -0.936     0.926\n",
      "Crustaceans                         0.2153      0.698      0.309      0.759        -1.176     1.607\n",
      "Marine Fish, Other                  0.1552      0.260      0.597      0.553        -0.363     0.674\n",
      "Aquatic Plants                      0.2382      0.365      0.654      0.515        -0.488     0.965\n",
      "Pigmeat                            -0.2206      0.164     -1.346      0.182        -0.547     0.106\n",
      "Freshwater Fish                    -0.2497      0.414     -0.603      0.549        -1.076     0.576\n",
      "Poultry Meat                       -0.1033      0.198     -0.521      0.604        -0.498     0.292\n",
      "Fish, Liver Oil                     0.2645      0.266      0.994      0.324        -0.266     0.795\n",
      "Meat, Other                        -0.2934      0.252     -1.163      0.249        -0.796     0.209\n",
      "Cephalopods                        -0.4057      0.604     -0.671      0.504        -1.611     0.799\n",
      "Mutton & Goat Meat                  0.0483      0.161      0.299      0.765        -0.273     0.370\n",
      "Pelagic Fish                       -0.1375      0.160     -0.859      0.393        -0.457     0.182\n",
      "Bovine Meat                        -0.0387      0.111     -0.351      0.727        -0.259     0.182\n",
      "Molluscs, Other                     0.1697      0.841      0.202      0.841        -1.506     1.845\n",
      "Fish, Body Oil                     -0.3258      0.388     -0.840      0.404        -1.099     0.447\n",
      "Aquatic Animals, Others             0.2953      0.196      1.508      0.136        -0.095     0.686\n",
      "Honey                               0.1904      0.818      0.233      0.817        -1.440     1.821\n",
      "Offals, Edible                      0.1083      0.560      0.193      0.847        -1.008     1.225\n",
      "Demersal Fish                      -0.1629      0.245     -0.664      0.509        -0.652     0.326\n",
      "Cream                              -0.0409      0.338     -0.121      0.904        -0.715     0.633\n",
      "==============================================================================\n",
      "Omnibus:                       22.727   Durbin-Watson:                   1.864\n",
      "Prob(Omnibus):                  0.000   Jarque-Bera (JB):               40.291\n",
      "Skew:                           0.710   Prob(JB):                     1.78e-09\n",
      "Kurtosis:                       5.065   Cond. No.                         552.\n",
      "==============================================================================\n",
      "\n",
      "Warnings:\n",
      "[1] Standard Errors assume that the covariance matrix of the errors is correctly specified.\n"
     ]
    }
   ],
   "source": [
    "# Fit linear model with risk of death in 2000 as response variable\n",
    "deaths100k_diabetes_model_lasso = sm.OLS(y_death_100k_diabetes_lasso, X)\n",
    "deaths100k_diabetes_results_lasso = deaths100k_diabetes_model_lasso.fit_regularized(alpha = 0.3)\n",
    "print(deaths100k_diabetes_results_lasso.summary())"
   ]
  },
  {
   "cell_type": "markdown",
   "metadata": {},
   "source": [
    "When considering the age-standardized mortality rate from diabetes as the response variable, both the Omnibus and Jarque-Bera Tests reject the null hypothesis, claiming that there is significant evidence that the residuals are not normally distributed."
   ]
  },
  {
   "cell_type": "code",
   "execution_count": 34,
   "metadata": {
    "collapsed": false
   },
   "outputs": [
    {
     "data": {
      "image/png": "[encoded data removed]",
      "text/plain": [
       "<matplotlib.figure.Figure at 0x11b290bd0>"
      ]
     },
     "metadata": {},
     "output_type": "display_data"
    }
   ],
   "source": [
    "plot_sig_coeffs(deaths100k_diabetes_results_lasso, 0.1)"
   ]
  },
  {
   "cell_type": "markdown",
   "metadata": {},
   "source": [
    "## Deaths per 100k from Respiratory Disease as Response Variable"
   ]
  },
  {
   "cell_type": "code",
   "execution_count": 35,
   "metadata": {
    "collapsed": false
   },
   "outputs": [
    {
     "data": {
      "text/plain": [
       "{'alpha': 0.6, 'fit_intercept': True, 'normalize': True}"
      ]
     },
     "execution_count": 35,
     "metadata": {},
     "output_type": "execute_result"
    }
   ],
   "source": [
    "lasso = linear_model.Lasso(alpha = 1.0)\n",
    "y_death_100k_resp_lasso = deaths_100k_resp_2000.drop(countries_to_drop).sort_index().loc[food_1970_2000_cleaned.index]\n",
    "lasso.fit(X.values, y_death_100k_resp_lasso.values)\n",
    "lasso.score(X.values, y_death_100k_resp_lasso.values)\n",
    "lasso.coef_\n",
    "params = {\n",
    "    'alpha': [0.3,0.6,1.0,1.3,1.6,2.0,2.3,2.6,3.0,4.0,5.0],\n",
    "    'fit_intercept': [True, False],\n",
    "    'normalize': [True, False],\n",
    "}\n",
    "\n",
    "CV_model = GridSearchCV(lasso, param_grid=params, cv=5)\n",
    "CV_model.fit(X, y_death_100k_resp_lasso)\n",
    "CV_model.best_params_"
   ]
  },
  {
   "cell_type": "code",
   "execution_count": 36,
   "metadata": {
    "collapsed": false
   },
   "outputs": [
    {
     "name": "stdout",
     "output_type": "stream",
     "text": [
      "                            OLS Regression Results                            \n",
      "==============================================================================\n",
      "Dep. Variable:                   2000   R-squared:                       0.903\n",
      "Model:                            OLS   Adj. R-squared:                  0.792\n",
      "Method:                 Least Squares   F-statistic:                     8.144\n",
      "Date:                Wed, 14 Dec 2016   Prob (F-statistic):           4.41e-17\n",
      "Time:                        16:17:17   Log-Likelihood:                -666.48\n",
      "No. Observations:                 154   AIC:                             1497.\n",
      "Df Residuals:                      72   BIC:                             1746.\n",
      "Df Model:                          82                                         \n",
      "Covariance Type:            nonrobust                                         \n",
      "===================================================================================================\n",
      "                                      coef    std err          t      P>|t|      [95.0% Conf. Int.]\n",
      "---------------------------------------------------------------------------------------------------\n",
      "Plantains                           0.0255      0.054      0.470      0.640        -0.083     0.134\n",
      "Sugar, Raw Equivalent               0.4336      0.304      1.428      0.158        -0.172     1.039\n",
      "Beverages, Alcoholic                0.3060      0.436      0.702      0.485        -0.562     1.174\n",
      "Olives (including preserved)        0.6336      0.558      1.135      0.260        -0.479     1.747\n",
      "Cloves                             -0.0782      0.417     -0.187      0.852        -0.910     0.753\n",
      "Coconuts - Incl Copra              -0.0224      0.132     -0.170      0.866        -0.286     0.241\n",
      "Vegetables, Other                   0.0274      0.058      0.472      0.639        -0.088     0.143\n",
      "Sesame seed                        -0.0969      0.225     -0.431      0.667        -0.545     0.351\n",
      "Wine                                0.0370      0.106      0.351      0.727        -0.173     0.247\n",
      "Apples and products                -0.1347      0.230     -0.587      0.559        -0.593     0.323\n",
      "Rape and Mustard Oil               -0.3463      0.258     -1.345      0.183        -0.860     0.167\n",
      "Maize and products                  0.1172      0.039      3.019      0.004         0.040     0.195\n",
      "Groundnuts (Shelled Eq)             0.3932      0.462      0.851      0.397        -0.528     1.314\n",
      "Barley and products                -0.0335      0.146     -0.229      0.819        -0.325     0.258\n",
      "Maize Germ Oil                           0          0        nan        nan             0         0\n",
      "Beer                                0.1119      0.075      1.493      0.140        -0.038     0.261\n",
      "Groundnut Oil                       0.2584      0.514      0.503      0.617        -0.766     1.283\n",
      "Pineapples and products            -0.0578      0.302     -0.191      0.849        -0.660     0.545\n",
      "Pulses, Other and products          1.0916      0.338      3.231      0.002         0.418     1.765\n",
      "Sugar (Raw Equivalent)             -0.5929      0.323     -1.834      0.071        -1.237     0.052\n",
      "Palm Oil                            0.0511      0.244      0.210      0.834        -0.435     0.537\n",
      "Oilcrops, Other                     0.1215      0.243      0.500      0.619        -0.363     0.606\n",
      "Dates                              -0.0340      0.165     -0.206      0.837        -0.364     0.295\n",
      "Oats                               -0.4540      0.472     -0.962      0.339        -1.395     0.487\n",
      "Soyabeans                                0          0        nan        nan             0         0\n",
      "Beans                               0.2445      0.299      0.819      0.416        -0.351     0.840\n",
      "Sesameseed Oil                     -0.0368      0.239     -0.154      0.878        -0.513     0.440\n",
      "Grapes and products (excl wine)    -0.0051      0.148     -0.035      0.972        -0.300     0.289\n",
      "Beverages, Fermented                0.0041      0.050      0.083      0.934        -0.095     0.103\n",
      "Potatoes and products               0.0976      0.056      1.753      0.084        -0.013     0.208\n",
      "Cottonseed Oil                     -0.1158      0.212     -0.547      0.586        -0.538     0.306\n",
      "Onions                             -0.1608      0.334     -0.481      0.632        -0.827     0.506\n",
      "Coffee and products                -0.6198      0.889     -0.697      0.488        -2.392     1.152\n",
      "Roots, Other                        0.1117      0.070      1.596      0.115        -0.028     0.251\n",
      "Infant food                        -0.3359      0.367     -0.916      0.363        -1.067     0.395\n",
      "Cereals, Other                      0.3807      0.185      2.059      0.043         0.012     0.749\n",
      "Pepper                             -2.3166      0.782     -2.963      0.004        -3.875    -0.758\n",
      "Peas                               -0.2484      0.364     -0.682      0.497        -0.974     0.477\n",
      "Nuts and products                  -0.5859      0.751     -0.780      0.438        -2.083     0.911\n",
      "Cocoa Beans and products           -3.7417      3.296     -1.135      0.260       -10.312     2.828\n",
      "Wheat and products                  0.0587      0.038      1.553      0.125        -0.017     0.134\n",
      "Cassava and products                0.0235      0.024      0.977      0.332        -0.024     0.072\n",
      "Sunflowerseed Oil                   0.7349      0.500      1.471      0.146        -0.261     1.731\n",
      "Palmkernel Oil                     -0.0606      0.223     -0.272      0.787        -0.505     0.384\n",
      "Pimento                                  0          0        nan        nan             0         0\n",
      "Fruits, Other                      -0.0159      0.122     -0.131      0.896        -0.258     0.226\n",
      "Citrus, Other                      -0.4028      0.328     -1.228      0.223        -1.057     0.251\n",
      "Lemons, Limes and products          0.0849      0.444      0.191      0.849        -0.801     0.971\n",
      "Tea (including mate)                0.0484      0.828      0.058      0.954        -1.602     1.699\n",
      "Soyabean Oil                        0.3437      0.483      0.712      0.479        -0.619     1.306\n",
      "Grapefruit and products             0.1541      0.179      0.859      0.393        -0.204     0.512\n",
      "Rye and products                   -0.0902      0.183     -0.493      0.623        -0.455     0.274\n",
      "Olive Oil                           0.1626      0.734      0.221      0.825        -1.301     1.627\n",
      "Coconut Oil                        -0.1250      0.272     -0.460      0.647        -0.667     0.417\n",
      "Tomatoes and products              -0.0119      0.135     -0.088      0.930        -0.281     0.257\n",
      "Oilcrops Oil, Other                 0.4229      0.387      1.094      0.278        -0.348     1.194\n",
      "Bananas                            -0.0073      0.087     -0.084      0.934        -0.180     0.166\n",
      "Spices, Other                       0.8422      1.187      0.710      0.480        -1.524     3.208\n",
      "Sweet potatoes                      0.0386      0.086      0.451      0.653        -0.132     0.209\n",
      "Oranges, Mandarines                      0          0        nan        nan             0         0\n",
      "Rice (Milled Equivalent)            0.2584      0.037      7.029      0.000         0.185     0.332\n",
      "Butter, Ghee                        0.5590      0.867      0.645      0.521        -1.170     2.288\n",
      "Fats, Animals, Raw                 -1.1710      0.621     -1.885      0.063        -2.409     0.067\n",
      "Crustaceans                         1.2177      0.944      1.289      0.201        -0.665     3.100\n",
      "Marine Fish, Other                       0          0        nan        nan             0         0\n",
      "Aquatic Plants                      0.3700      0.497      0.745      0.459        -0.621     1.360\n",
      "Pigmeat                             0.1570      0.219      0.717      0.476        -0.280     0.594\n",
      "Freshwater Fish                    -0.7288      0.545     -1.337      0.185        -1.815     0.358\n",
      "Poultry Meat                       -0.1825      0.246     -0.743      0.460        -0.672     0.307\n",
      "Fish, Liver Oil                    -0.1054      0.349     -0.302      0.763        -0.800     0.590\n",
      "Meat, Other                         0.1143      0.345      0.332      0.741        -0.573     0.801\n",
      "Cephalopods                        -1.7334      0.792     -2.189      0.032        -3.312    -0.155\n",
      "Mutton & Goat Meat                  0.2342      0.218      1.076      0.286        -0.200     0.668\n",
      "Pelagic Fish                       -0.1988      0.199     -0.999      0.321        -0.595     0.198\n",
      "Bovine Meat                         0.0425      0.146      0.291      0.772        -0.249     0.334\n",
      "Molluscs, Other                    -0.1711      1.063     -0.161      0.873        -2.290     1.948\n",
      "Fish, Body Oil                      1.0490      0.487      2.154      0.035         0.078     2.020\n",
      "Aquatic Animals, Others             0.3425      0.254      1.347      0.182        -0.164     0.849\n",
      "Honey                              -0.2120      1.043     -0.203      0.840        -2.291     1.867\n",
      "Offals, Edible                     -0.7642      0.742     -1.030      0.307        -2.244     0.716\n",
      "Demersal Fish                      -0.1034      0.319     -0.324      0.747        -0.739     0.532\n",
      "Cream                               0.6892      0.455      1.515      0.134        -0.218     1.596\n",
      "==============================================================================\n",
      "Omnibus:                       43.719   Durbin-Watson:                   2.122\n",
      "Prob(Omnibus):                  0.000   Jarque-Bera (JB):              108.835\n",
      "Skew:                           1.166   Prob(JB):                     2.33e-24\n",
      "Kurtosis:                       6.394   Cond. No.                         552.\n",
      "==============================================================================\n",
      "\n",
      "Warnings:\n",
      "[1] Standard Errors assume that the covariance matrix of the errors is correctly specified.\n"
     ]
    }
   ],
   "source": [
    "# Fit linear model with risk of death in 2000 as response variable\n",
    "deaths100k_resp_model_lasso = sm.OLS(y_death_100k_resp_lasso, X)\n",
    "deaths100k_resp_results_lasso = deaths100k_resp_model_lasso.fit_regularized(alpha = 0.6)\n",
    "print(deaths100k_resp_results_lasso.summary())"
   ]
  },
  {
   "cell_type": "markdown",
   "metadata": {},
   "source": [
    "When considering the age-standardized mortality rate from respiratory disease as the response variable, both the Omnibus and Jarque-Bera Tests reject the null hypothesis of normality in the residuals."
   ]
  },
  {
   "cell_type": "code",
   "execution_count": 37,
   "metadata": {
    "collapsed": false
   },
   "outputs": [
    {
     "data": {
      "image/png": "[encoded data removed]",
      "text/plain": [
       "<matplotlib.figure.Figure at 0x11def0d50>"
      ]
     },
     "metadata": {},
     "output_type": "display_data"
    }
   ],
   "source": [
    "plot_sig_coeffs(deaths100k_resp_results_lasso, 0.1)"
   ]
  },
  {
   "cell_type": "code",
   "execution_count": null,
   "metadata": {
    "collapsed": true
   },
   "outputs": [],
   "source": []
  }
 ],
 "metadata": {
  "anaconda-cloud": {},
  "kernelspec": {
   "display_name": "Python [Root]",
   "language": "python",
   "name": "Python [Root]"
  },
  "language_info": {
   "codemirror_mode": {
    "name": "ipython",
    "version": 2
   },
   "file_extension": ".py",
   "mimetype": "text/x-python",
   "name": "python",
   "nbconvert_exporter": "python",
   "pygments_lexer": "ipython2",
   "version": "2.7.12"
  }
 },
 "nbformat": 4,
 "nbformat_minor": 0
}
