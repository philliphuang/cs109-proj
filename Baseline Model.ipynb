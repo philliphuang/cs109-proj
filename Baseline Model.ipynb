{
 "cells": [
  {
   "cell_type": "markdown",
   "metadata": {},
   "source": [
    "# CS109 Project: Baseline Model\n",
    "Work by Harry Xue"
   ]
  },
  {
   "cell_type": "code",
   "execution_count": 140,
   "metadata": {
    "collapsed": false
   },
   "outputs": [],
   "source": [
    "# Import packages\n",
    "import numpy as np\n",
    "import pandas as pd\n",
    "import matplotlib\n",
    "import matplotlib.pyplot as plt\n",
    "import statsmodels.formula.api as sm\n",
    "import pickle\n",
    "from sklearn.preprocessing import Imputer\n",
    "%matplotlib inline"
   ]
  },
  {
   "cell_type": "markdown",
   "metadata": {},
   "source": [
    "## Load in cleaned data\n",
    "Let's load in the data that we've cleaned and preprocessed."
   ]
  },
  {
   "cell_type": "code",
   "execution_count": 199,
   "metadata": {
    "collapsed": true
   },
   "outputs": [],
   "source": [
    "# Load cleaned NCD data from pickled files\n",
    "out = open('data/clean/deaths_100k.p', 'rb')\n",
    "deaths_100k = pickle.load(out)\n",
    "out.close()\n",
    "out = open('data/clean/risk.p', 'rb')\n",
    "risk_of_death = pickle.load(out)\n",
    "out.close()\n",
    "out = open('data/clean/crops.p', 'rb')\n",
    "crops = pickle.load(out)\n",
    "out.close()\n",
    "out = open('data/clean/meat.p', 'rb')\n",
    "meat = pickle.load(out)\n",
    "out.close()"
   ]
  },
  {
   "cell_type": "markdown",
   "metadata": {},
   "source": [
    "### Get Response Variables\n",
    "First let's isolate some possible response variables we might want to look at:\n",
    "* Deaths for 100k people in 2000 from all causes\n",
    "* Risk of death for 30 year old in 2000\n",
    "\n",
    "Note that the following analysis could naturally be extended to 2012 as well, but for this milestone we'll focus on the year 2000."
   ]
  },
  {
   "cell_type": "code",
   "execution_count": 198,
   "metadata": {
    "collapsed": false
   },
   "outputs": [],
   "source": [
    "# Get response variables\n",
    "deaths_100k_all_2000 = deaths_100k['all'][2000]\n",
    "deaths_100k_cancer_2000 = deaths_100k['cancer'][2000]\n",
    "deaths_100k_cardio_2000 = deaths_100k['cardio'][2000]\n",
    "deaths_100k_diabetes_2000 = deaths_100k['diabetes'][2000]\n",
    "deaths_100k_resp_2000 = deaths_100k['resp'][2000]\n",
    "\n",
    "risk_of_death_2000 = risk_of_death[2000]"
   ]
  },
  {
   "cell_type": "markdown",
   "metadata": {},
   "source": [
    "### Get Food Predictor Variables\n",
    "Next let's get the food predictors (crop and meat data). Rather than looking at single years, let's calculate the mean for each crop/meat in the 30 years preceding the year of our response variable."
   ]
  },
  {
   "cell_type": "code",
   "execution_count": 107,
   "metadata": {
    "collapsed": false
   },
   "outputs": [
    {
     "data": {
      "text/html": [
       "<div>\n",
       "<table border=\"1\" class=\"dataframe\">\n",
       "  <thead>\n",
       "    <tr style=\"text-align: right;\">\n",
       "      <th></th>\n",
       "      <th>Ricebran Oil</th>\n",
       "      <th>Oilcrops</th>\n",
       "      <th>Plantains</th>\n",
       "      <th>Sugar, Raw Equivalent</th>\n",
       "      <th>Beverages, Alcoholic</th>\n",
       "      <th>Roots &amp; Tuber Dry Equiv</th>\n",
       "      <th>Vegetable Oils</th>\n",
       "      <th>Olives (including preserved)</th>\n",
       "      <th>Cloves</th>\n",
       "      <th>Millet and products</th>\n",
       "      <th>...</th>\n",
       "      <th>Offals</th>\n",
       "      <th>Bovine Meat</th>\n",
       "      <th>Molluscs, Other</th>\n",
       "      <th>Fish, Body Oil</th>\n",
       "      <th>Aquatic Animals, Others</th>\n",
       "      <th>Animal fats</th>\n",
       "      <th>Honey</th>\n",
       "      <th>Offals, Edible</th>\n",
       "      <th>Demersal Fish</th>\n",
       "      <th>Cream</th>\n",
       "    </tr>\n",
       "    <tr>\n",
       "      <th>Country</th>\n",
       "      <th></th>\n",
       "      <th></th>\n",
       "      <th></th>\n",
       "      <th></th>\n",
       "      <th></th>\n",
       "      <th></th>\n",
       "      <th></th>\n",
       "      <th></th>\n",
       "      <th></th>\n",
       "      <th></th>\n",
       "      <th></th>\n",
       "      <th></th>\n",
       "      <th></th>\n",
       "      <th></th>\n",
       "      <th></th>\n",
       "      <th></th>\n",
       "      <th></th>\n",
       "      <th></th>\n",
       "      <th></th>\n",
       "      <th></th>\n",
       "      <th></th>\n",
       "    </tr>\n",
       "  </thead>\n",
       "  <tbody>\n",
       "    <tr>\n",
       "      <th>Afghanistan</th>\n",
       "      <td>NaN</td>\n",
       "      <td>2.629000</td>\n",
       "      <td>NaN</td>\n",
       "      <td>14.402000</td>\n",
       "      <td>0.002333</td>\n",
       "      <td>8.539333</td>\n",
       "      <td>7.995000</td>\n",
       "      <td>0.065333</td>\n",
       "      <td>NaN</td>\n",
       "      <td>5.360333</td>\n",
       "      <td>...</td>\n",
       "      <td>9.166000</td>\n",
       "      <td>16.762667</td>\n",
       "      <td>NaN</td>\n",
       "      <td>NaN</td>\n",
       "      <td>NaN</td>\n",
       "      <td>6.513000</td>\n",
       "      <td>0.687667</td>\n",
       "      <td>9.166000</td>\n",
       "      <td>NaN</td>\n",
       "      <td>0.000000</td>\n",
       "    </tr>\n",
       "    <tr>\n",
       "      <th>Albania</th>\n",
       "      <td>NaN</td>\n",
       "      <td>7.044333</td>\n",
       "      <td>NaN</td>\n",
       "      <td>50.132333</td>\n",
       "      <td>3.201000</td>\n",
       "      <td>10.253333</td>\n",
       "      <td>20.501000</td>\n",
       "      <td>7.017667</td>\n",
       "      <td>NaN</td>\n",
       "      <td>NaN</td>\n",
       "      <td>...</td>\n",
       "      <td>6.729333</td>\n",
       "      <td>18.681000</td>\n",
       "      <td>0.416000</td>\n",
       "      <td>0.0</td>\n",
       "      <td>0.0</td>\n",
       "      <td>8.995000</td>\n",
       "      <td>0.488667</td>\n",
       "      <td>6.734667</td>\n",
       "      <td>0.604000</td>\n",
       "      <td>0.005333</td>\n",
       "    </tr>\n",
       "    <tr>\n",
       "      <th>Algeria</th>\n",
       "      <td>NaN</td>\n",
       "      <td>1.646000</td>\n",
       "      <td>0.0</td>\n",
       "      <td>69.079333</td>\n",
       "      <td>0.108667</td>\n",
       "      <td>15.592333</td>\n",
       "      <td>33.352667</td>\n",
       "      <td>1.432667</td>\n",
       "      <td>0.004667</td>\n",
       "      <td>NaN</td>\n",
       "      <td>...</td>\n",
       "      <td>3.079333</td>\n",
       "      <td>9.742333</td>\n",
       "      <td>0.001000</td>\n",
       "      <td>0.0</td>\n",
       "      <td>0.0</td>\n",
       "      <td>5.180333</td>\n",
       "      <td>0.247333</td>\n",
       "      <td>3.079333</td>\n",
       "      <td>0.950333</td>\n",
       "      <td>NaN</td>\n",
       "    </tr>\n",
       "    <tr>\n",
       "      <th>Angola</th>\n",
       "      <td>NaN</td>\n",
       "      <td>3.671667</td>\n",
       "      <td>NaN</td>\n",
       "      <td>26.933333</td>\n",
       "      <td>1.855000</td>\n",
       "      <td>157.302000</td>\n",
       "      <td>21.056000</td>\n",
       "      <td>NaN</td>\n",
       "      <td>0.000000</td>\n",
       "      <td>16.849333</td>\n",
       "      <td>...</td>\n",
       "      <td>3.521333</td>\n",
       "      <td>21.081000</td>\n",
       "      <td>0.000333</td>\n",
       "      <td>0.0</td>\n",
       "      <td>0.0</td>\n",
       "      <td>1.588000</td>\n",
       "      <td>5.557000</td>\n",
       "      <td>3.521333</td>\n",
       "      <td>3.859667</td>\n",
       "      <td>NaN</td>\n",
       "    </tr>\n",
       "    <tr>\n",
       "      <th>Argentina</th>\n",
       "      <td>NaN</td>\n",
       "      <td>1.813000</td>\n",
       "      <td>NaN</td>\n",
       "      <td>113.051667</td>\n",
       "      <td>10.766000</td>\n",
       "      <td>41.883333</td>\n",
       "      <td>35.942667</td>\n",
       "      <td>1.235333</td>\n",
       "      <td>0.000333</td>\n",
       "      <td>NaN</td>\n",
       "      <td>...</td>\n",
       "      <td>19.928000</td>\n",
       "      <td>192.834333</td>\n",
       "      <td>0.675000</td>\n",
       "      <td>0.0</td>\n",
       "      <td>0.0</td>\n",
       "      <td>10.627667</td>\n",
       "      <td>0.505000</td>\n",
       "      <td>19.933333</td>\n",
       "      <td>13.161333</td>\n",
       "      <td>0.157000</td>\n",
       "    </tr>\n",
       "  </tbody>\n",
       "</table>\n",
       "<p>5 rows × 122 columns</p>\n",
       "</div>"
      ],
      "text/plain": [
       "             Ricebran Oil  Oilcrops  Plantains  Sugar, Raw Equivalent  \\\n",
       "Country                                                                 \n",
       "Afghanistan           NaN  2.629000        NaN              14.402000   \n",
       "Albania               NaN  7.044333        NaN              50.132333   \n",
       "Algeria               NaN  1.646000        0.0              69.079333   \n",
       "Angola                NaN  3.671667        NaN              26.933333   \n",
       "Argentina             NaN  1.813000        NaN             113.051667   \n",
       "\n",
       "             Beverages, Alcoholic  Roots & Tuber Dry Equiv  Vegetable Oils  \\\n",
       "Country                                                                      \n",
       "Afghanistan              0.002333                 8.539333        7.995000   \n",
       "Albania                  3.201000                10.253333       20.501000   \n",
       "Algeria                  0.108667                15.592333       33.352667   \n",
       "Angola                   1.855000               157.302000       21.056000   \n",
       "Argentina               10.766000                41.883333       35.942667   \n",
       "\n",
       "             Olives (including preserved)    Cloves  Millet and products  \\\n",
       "Country                                                                    \n",
       "Afghanistan                      0.065333       NaN             5.360333   \n",
       "Albania                          7.017667       NaN                  NaN   \n",
       "Algeria                          1.432667  0.004667                  NaN   \n",
       "Angola                                NaN  0.000000            16.849333   \n",
       "Argentina                        1.235333  0.000333                  NaN   \n",
       "\n",
       "               ...        Offals  Bovine Meat  Molluscs, Other  \\\n",
       "Country        ...                                               \n",
       "Afghanistan    ...      9.166000    16.762667              NaN   \n",
       "Albania        ...      6.729333    18.681000         0.416000   \n",
       "Algeria        ...      3.079333     9.742333         0.001000   \n",
       "Angola         ...      3.521333    21.081000         0.000333   \n",
       "Argentina      ...     19.928000   192.834333         0.675000   \n",
       "\n",
       "             Fish, Body Oil  Aquatic Animals, Others  Animal fats     Honey  \\\n",
       "Country                                                                       \n",
       "Afghanistan             NaN                      NaN     6.513000  0.687667   \n",
       "Albania                 0.0                      0.0     8.995000  0.488667   \n",
       "Algeria                 0.0                      0.0     5.180333  0.247333   \n",
       "Angola                  0.0                      0.0     1.588000  5.557000   \n",
       "Argentina               0.0                      0.0    10.627667  0.505000   \n",
       "\n",
       "             Offals, Edible  Demersal Fish     Cream  \n",
       "Country                                               \n",
       "Afghanistan        9.166000            NaN  0.000000  \n",
       "Albania            6.734667       0.604000  0.005333  \n",
       "Algeria            3.079333       0.950333       NaN  \n",
       "Angola             3.521333       3.859667       NaN  \n",
       "Argentina         19.933333      13.161333  0.157000  \n",
       "\n",
       "[5 rows x 122 columns]"
      ]
     },
     "execution_count": 107,
     "metadata": {},
     "output_type": "execute_result"
    }
   ],
   "source": [
    "# TODO: Turn this process into a function later?\n",
    "time_period = range(1970, 2000)\n",
    "\n",
    "# Calculate the mean for each crop/meat over the period 1970-2000\n",
    "food_1970_2000 = pd.DataFrame(index=risk_of_death.index)\n",
    "\n",
    "for crop in crops.iterkeys():\n",
    "    food_1970_2000[crop] = crops[crop][time_period].mean(axis=1)\n",
    "    \n",
    "for m in meat.iterkeys():\n",
    "    food_1970_2000[m] = meat[m][time_period].mean(axis=1)\n",
    "\n",
    "\n",
    "food_1970_2000.head()"
   ]
  },
  {
   "cell_type": "markdown",
   "metadata": {},
   "source": [
    "### Dropping sparse columns and rows"
   ]
  },
  {
   "cell_type": "markdown",
   "metadata": {},
   "source": [
    "Unfortunately it looks like even after averaging over ten years, we still have quite a bit of NaN's. Let's try dropping the countries that are almost half NaN's:"
   ]
  },
  {
   "cell_type": "code",
   "execution_count": 108,
   "metadata": {
    "collapsed": false
   },
   "outputs": [
    {
     "name": "stdout",
     "output_type": "stream",
     "text": [
      "['Bahrain', 'Belgium', 'Bhutan', 'Burundi', 'Comoros', 'Democratic Republic of the Congo', 'Equatorial Guinea', 'Eritrea', 'Libya', 'Montenegro', 'Papua New Guinea', 'Qatar', 'Serbia', 'Singapore', 'Somalia', 'South Sudan', 'Sudan', 'Syrian Arab Republic']\n",
      "Number of countries to drop: 18\n"
     ]
    }
   ],
   "source": [
    "# list of countries to drop due to being less than 50% full\n",
    "countries_to_drop = []\n",
    "\n",
    "for index, row in food_1970_2000.iterrows():\n",
    "    if row.isnull().sum() > len(row) / 2:\n",
    "        countries_to_drop.append(index)\n",
    "\n",
    "print countries_to_drop\n",
    "print \"Number of countries to drop:\", len(countries_to_drop)"
   ]
  },
  {
   "cell_type": "code",
   "execution_count": 109,
   "metadata": {
    "collapsed": false
   },
   "outputs": [],
   "source": [
    "# Drop the identified countries with very sparse data\n",
    "food_1970_2000_cleaned = food_1970_2000.drop(countries_to_drop)"
   ]
  },
  {
   "cell_type": "markdown",
   "metadata": {},
   "source": [
    "Let's also see how many columns are very sparse (< 50% full) and consider dropping them as well if there are not too many."
   ]
  },
  {
   "cell_type": "code",
   "execution_count": 110,
   "metadata": {
    "collapsed": false
   },
   "outputs": [
    {
     "name": "stdout",
     "output_type": "stream",
     "text": [
      "['Ricebran Oil', 'Millet and products', 'Sugar non-centrifugal', 'Molasses', 'Sugar beet', 'Sorghum and products', 'Sunflower seed', 'Sugar Crops', 'Sugar cane', 'Yams', 'Meat, Aquatic Mammals', 'Meat Meal', 'Whey']\n",
      "Number of columns to drop: 13\n"
     ]
    }
   ],
   "source": [
    "cols_to_drop = []\n",
    "\n",
    "# Identify sparse columns to drop\n",
    "for col in food_1970_2000_cleaned.columns:\n",
    "    if food_1970_2000_cleaned[col].isnull().sum() > len(food_1970_2000_cleaned[col]) / 2:\n",
    "        cols_to_drop.append(col)\n",
    "        \n",
    "print cols_to_drop\n",
    "print \"Number of columns to drop:\", len(cols_to_drop)"
   ]
  },
  {
   "cell_type": "markdown",
   "metadata": {},
   "source": [
    "Overall, there aren't too many columns to drop. However, unfortunately data on sugar-related products seems to be disproportionately sparse (which makes sense since very few countries have the correct conditions to grow sugar domestically). We'll drop these columns for now. \n",
    "\n",
    "The good news is though that we still have many columns that still contain sugar-related products even after dropping, so we should still be able to use sugar as a predictor in some form."
   ]
  },
  {
   "cell_type": "code",
   "execution_count": 111,
   "metadata": {
    "collapsed": true
   },
   "outputs": [],
   "source": [
    "# Drop identified crops with very sparse data\n",
    "food_1970_2000_cleaned = food_1970_2000_cleaned.drop(cols_to_drop, axis=1)"
   ]
  },
  {
   "cell_type": "code",
   "execution_count": 112,
   "metadata": {
    "collapsed": false
   },
   "outputs": [
    {
     "name": "stdout",
     "output_type": "stream",
     "text": [
      "Percentage NaN cells after dropping: 0.0638031693078\n"
     ]
    }
   ],
   "source": [
    "# Sanity check to see what percentage of cells are missing\n",
    "print \"Percentage NaN cells after dropping:\", food_1970_2000_cleaned.isnull().sum().sum() / float(food_1970_2000_cleaned.shape[0] * food_1970_2000_cleaned.shape[1])"
   ]
  },
  {
   "cell_type": "markdown",
   "metadata": {},
   "source": [
    "### Imputation of Missing Values\n",
    "Since the number of NaN cells has drastically been reduced, now let's use simple mean imputation (global average per crop) to fill them in. It may be worth investigating other methods for imputation in the future, but given the small number of NaN's now, this method should not have a huge impact on our results."
   ]
  },
  {
   "cell_type": "code",
   "execution_count": 113,
   "metadata": {
    "collapsed": true
   },
   "outputs": [],
   "source": [
    "# Impute by mean for each column (i.e. global average per crop)\n",
    "imp = Imputer(axis=1)\n",
    "food_1970_2000_cleaned = pd.DataFrame(imp.fit_transform(food_1970_2000_cleaned), index=food_1970_2000_cleaned.index, columns=food_1970_2000_cleaned.columns)"
   ]
  },
  {
   "cell_type": "code",
   "execution_count": 114,
   "metadata": {
    "collapsed": false
   },
   "outputs": [
    {
     "data": {
      "text/html": [
       "<div>\n",
       "<table border=\"1\" class=\"dataframe\">\n",
       "  <thead>\n",
       "    <tr style=\"text-align: right;\">\n",
       "      <th></th>\n",
       "      <th>Oilcrops</th>\n",
       "      <th>Plantains</th>\n",
       "      <th>Sugar, Raw Equivalent</th>\n",
       "      <th>Beverages, Alcoholic</th>\n",
       "      <th>Roots &amp; Tuber Dry Equiv</th>\n",
       "      <th>Vegetable Oils</th>\n",
       "      <th>Olives (including preserved)</th>\n",
       "      <th>Cloves</th>\n",
       "      <th>Coconuts - Incl Copra</th>\n",
       "      <th>Treenuts</th>\n",
       "      <th>...</th>\n",
       "      <th>Offals</th>\n",
       "      <th>Bovine Meat</th>\n",
       "      <th>Molluscs, Other</th>\n",
       "      <th>Fish, Body Oil</th>\n",
       "      <th>Aquatic Animals, Others</th>\n",
       "      <th>Animal fats</th>\n",
       "      <th>Honey</th>\n",
       "      <th>Offals, Edible</th>\n",
       "      <th>Demersal Fish</th>\n",
       "      <th>Cream</th>\n",
       "    </tr>\n",
       "    <tr>\n",
       "      <th>Country</th>\n",
       "      <th></th>\n",
       "      <th></th>\n",
       "      <th></th>\n",
       "      <th></th>\n",
       "      <th></th>\n",
       "      <th></th>\n",
       "      <th></th>\n",
       "      <th></th>\n",
       "      <th></th>\n",
       "      <th></th>\n",
       "      <th></th>\n",
       "      <th></th>\n",
       "      <th></th>\n",
       "      <th></th>\n",
       "      <th></th>\n",
       "      <th></th>\n",
       "      <th></th>\n",
       "      <th></th>\n",
       "      <th></th>\n",
       "      <th></th>\n",
       "      <th></th>\n",
       "    </tr>\n",
       "  </thead>\n",
       "  <tbody>\n",
       "    <tr>\n",
       "      <th>Afghanistan</th>\n",
       "      <td>2.629000</td>\n",
       "      <td>29.068781</td>\n",
       "      <td>14.402000</td>\n",
       "      <td>0.002333</td>\n",
       "      <td>8.539333</td>\n",
       "      <td>7.995000</td>\n",
       "      <td>0.065333</td>\n",
       "      <td>29.068781</td>\n",
       "      <td>0.015000</td>\n",
       "      <td>2.327333</td>\n",
       "      <td>...</td>\n",
       "      <td>9.166000</td>\n",
       "      <td>16.762667</td>\n",
       "      <td>29.068781</td>\n",
       "      <td>29.068781</td>\n",
       "      <td>29.068781</td>\n",
       "      <td>6.513000</td>\n",
       "      <td>0.687667</td>\n",
       "      <td>9.166000</td>\n",
       "      <td>29.068781</td>\n",
       "      <td>0.000000</td>\n",
       "    </tr>\n",
       "    <tr>\n",
       "      <th>Albania</th>\n",
       "      <td>7.044333</td>\n",
       "      <td>32.502693</td>\n",
       "      <td>50.132333</td>\n",
       "      <td>3.201000</td>\n",
       "      <td>10.253333</td>\n",
       "      <td>20.501000</td>\n",
       "      <td>7.017667</td>\n",
       "      <td>32.502693</td>\n",
       "      <td>0.006333</td>\n",
       "      <td>4.350000</td>\n",
       "      <td>...</td>\n",
       "      <td>6.729333</td>\n",
       "      <td>18.681000</td>\n",
       "      <td>0.416000</td>\n",
       "      <td>0.000000</td>\n",
       "      <td>0.000000</td>\n",
       "      <td>8.995000</td>\n",
       "      <td>0.488667</td>\n",
       "      <td>6.734667</td>\n",
       "      <td>0.604000</td>\n",
       "      <td>0.005333</td>\n",
       "    </tr>\n",
       "    <tr>\n",
       "      <th>Algeria</th>\n",
       "      <td>1.646000</td>\n",
       "      <td>0.000000</td>\n",
       "      <td>69.079333</td>\n",
       "      <td>0.108667</td>\n",
       "      <td>15.592333</td>\n",
       "      <td>33.352667</td>\n",
       "      <td>1.432667</td>\n",
       "      <td>0.004667</td>\n",
       "      <td>0.012000</td>\n",
       "      <td>1.453667</td>\n",
       "      <td>...</td>\n",
       "      <td>3.079333</td>\n",
       "      <td>9.742333</td>\n",
       "      <td>0.001000</td>\n",
       "      <td>0.000000</td>\n",
       "      <td>0.000000</td>\n",
       "      <td>5.180333</td>\n",
       "      <td>0.247333</td>\n",
       "      <td>3.079333</td>\n",
       "      <td>0.950333</td>\n",
       "      <td>25.450712</td>\n",
       "    </tr>\n",
       "    <tr>\n",
       "      <th>Angola</th>\n",
       "      <td>3.671667</td>\n",
       "      <td>26.325172</td>\n",
       "      <td>26.933333</td>\n",
       "      <td>1.855000</td>\n",
       "      <td>157.302000</td>\n",
       "      <td>21.056000</td>\n",
       "      <td>26.325172</td>\n",
       "      <td>0.000000</td>\n",
       "      <td>0.000000</td>\n",
       "      <td>0.401000</td>\n",
       "      <td>...</td>\n",
       "      <td>3.521333</td>\n",
       "      <td>21.081000</td>\n",
       "      <td>0.000333</td>\n",
       "      <td>0.000000</td>\n",
       "      <td>0.000000</td>\n",
       "      <td>1.588000</td>\n",
       "      <td>5.557000</td>\n",
       "      <td>3.521333</td>\n",
       "      <td>3.859667</td>\n",
       "      <td>26.325172</td>\n",
       "    </tr>\n",
       "    <tr>\n",
       "      <th>Argentina</th>\n",
       "      <td>1.813000</td>\n",
       "      <td>44.950187</td>\n",
       "      <td>113.051667</td>\n",
       "      <td>10.766000</td>\n",
       "      <td>41.883333</td>\n",
       "      <td>35.942667</td>\n",
       "      <td>1.235333</td>\n",
       "      <td>0.000333</td>\n",
       "      <td>0.584000</td>\n",
       "      <td>1.133000</td>\n",
       "      <td>...</td>\n",
       "      <td>19.928000</td>\n",
       "      <td>192.834333</td>\n",
       "      <td>0.675000</td>\n",
       "      <td>0.000000</td>\n",
       "      <td>0.000000</td>\n",
       "      <td>10.627667</td>\n",
       "      <td>0.505000</td>\n",
       "      <td>19.933333</td>\n",
       "      <td>13.161333</td>\n",
       "      <td>0.157000</td>\n",
       "    </tr>\n",
       "  </tbody>\n",
       "</table>\n",
       "<p>5 rows × 109 columns</p>\n",
       "</div>"
      ],
      "text/plain": [
       "             Oilcrops  Plantains  Sugar, Raw Equivalent  Beverages, Alcoholic  \\\n",
       "Country                                                                         \n",
       "Afghanistan  2.629000  29.068781              14.402000              0.002333   \n",
       "Albania      7.044333  32.502693              50.132333              3.201000   \n",
       "Algeria      1.646000   0.000000              69.079333              0.108667   \n",
       "Angola       3.671667  26.325172              26.933333              1.855000   \n",
       "Argentina    1.813000  44.950187             113.051667             10.766000   \n",
       "\n",
       "             Roots & Tuber Dry Equiv  Vegetable Oils  \\\n",
       "Country                                                \n",
       "Afghanistan                 8.539333        7.995000   \n",
       "Albania                    10.253333       20.501000   \n",
       "Algeria                    15.592333       33.352667   \n",
       "Angola                    157.302000       21.056000   \n",
       "Argentina                  41.883333       35.942667   \n",
       "\n",
       "             Olives (including preserved)     Cloves  Coconuts - Incl Copra  \\\n",
       "Country                                                                       \n",
       "Afghanistan                      0.065333  29.068781               0.015000   \n",
       "Albania                          7.017667  32.502693               0.006333   \n",
       "Algeria                          1.432667   0.004667               0.012000   \n",
       "Angola                          26.325172   0.000000               0.000000   \n",
       "Argentina                        1.235333   0.000333               0.584000   \n",
       "\n",
       "             Treenuts    ...         Offals  Bovine Meat  Molluscs, Other  \\\n",
       "Country                  ...                                                \n",
       "Afghanistan  2.327333    ...       9.166000    16.762667        29.068781   \n",
       "Albania      4.350000    ...       6.729333    18.681000         0.416000   \n",
       "Algeria      1.453667    ...       3.079333     9.742333         0.001000   \n",
       "Angola       0.401000    ...       3.521333    21.081000         0.000333   \n",
       "Argentina    1.133000    ...      19.928000   192.834333         0.675000   \n",
       "\n",
       "             Fish, Body Oil  Aquatic Animals, Others  Animal fats     Honey  \\\n",
       "Country                                                                       \n",
       "Afghanistan       29.068781                29.068781     6.513000  0.687667   \n",
       "Albania            0.000000                 0.000000     8.995000  0.488667   \n",
       "Algeria            0.000000                 0.000000     5.180333  0.247333   \n",
       "Angola             0.000000                 0.000000     1.588000  5.557000   \n",
       "Argentina          0.000000                 0.000000    10.627667  0.505000   \n",
       "\n",
       "             Offals, Edible  Demersal Fish      Cream  \n",
       "Country                                                \n",
       "Afghanistan        9.166000      29.068781   0.000000  \n",
       "Albania            6.734667       0.604000   0.005333  \n",
       "Algeria            3.079333       0.950333  25.450712  \n",
       "Angola             3.521333       3.859667  26.325172  \n",
       "Argentina         19.933333      13.161333   0.157000  \n",
       "\n",
       "[5 rows x 109 columns]"
      ]
     },
     "execution_count": 114,
     "metadata": {},
     "output_type": "execute_result"
    }
   ],
   "source": [
    "food_1970_2000_cleaned.head()"
   ]
  },
  {
   "cell_type": "markdown",
   "metadata": {},
   "source": [
    "# I. Null Model\n",
    "First we fit a null model where the disease incidence in a country is the same as the global average."
   ]
  },
  {
   "cell_type": "markdown",
   "metadata": {},
   "source": [
    "# II. Linear Regression\n",
    "Now let's try to predict health outcomes using the data that we've cleaned and preprocessed and simple linear regression."
   ]
  },
  {
   "cell_type": "markdown",
   "metadata": {},
   "source": [
    "## Risk of Death in 2000 as Response Variable"
   ]
  },
  {
   "cell_type": "code",
   "execution_count": 190,
   "metadata": {
    "collapsed": true
   },
   "outputs": [],
   "source": [
    "# Plots bar graph of coefficient estimates for regression model and given significance level \n",
    "def plot_sig_coeffs(fit, sig_level):\n",
    "    # Filter for predictors with p-values less than provided cutoff\n",
    "    significant = fit.pvalues[fit.pvalues <= sig_level]\n",
    "    # Plot coefficient estimates for predictors with p < 0.1 \n",
    "    fit.params[significant.index].sort_values().plot(kind=\"bar\", \n",
    "        title=\"Coefficient Estimates for Predictors with p < 0.1\", \n",
    "        )"
   ]
  },
  {
   "cell_type": "code",
   "execution_count": 191,
   "metadata": {
    "collapsed": false
   },
   "outputs": [
    {
     "name": "stdout",
     "output_type": "stream",
     "text": [
      "                            OLS Regression Results                            \n",
      "==============================================================================\n",
      "Dep. Variable:                   2000   R-squared:                       0.991\n",
      "Model:                            OLS   Adj. R-squared:                  0.969\n",
      "Method:                 Least Squares   F-statistic:                     44.72\n",
      "Date:                Mon, 28 Nov 2016   Prob (F-statistic):           9.43e-28\n",
      "Time:                        22:47:09   Log-Likelihood:                -339.98\n",
      "No. Observations:                 154   AIC:                             898.0\n",
      "Df Residuals:                      45   BIC:                             1229.\n",
      "Df Model:                         109                                         \n",
      "Covariance Type:            nonrobust                                         \n",
      "===================================================================================================\n",
      "                                      coef    std err          t      P>|t|      [95.0% Conf. Int.]\n",
      "---------------------------------------------------------------------------------------------------\n",
      "Oilcrops                           -0.0068      0.151     -0.045      0.964        -0.310     0.297\n",
      "Plantains                           0.0336      0.031      1.078      0.287        -0.029     0.096\n",
      "Sugar, Raw Equivalent              -0.1882      0.863     -0.218      0.828        -1.926     1.550\n",
      "Beverages, Alcoholic                0.1497      0.110      1.365      0.179        -0.071     0.371\n",
      "Roots & Tuber Dry Equiv             0.0372      0.659      0.056      0.955        -1.290     1.364\n",
      "Vegetable Oils                      0.1666      0.096      1.730      0.091        -0.027     0.361\n",
      "Olives (including preserved)       -0.0779      0.172     -0.454      0.652        -0.424     0.268\n",
      "Cloves                             -0.0545      0.086     -0.634      0.529        -0.228     0.119\n",
      "Coconuts - Incl Copra               0.0248      0.151      0.164      0.870        -0.280     0.329\n",
      "Treenuts                            0.8000      3.347      0.239      0.812        -5.941     7.541\n",
      "Vegetables, Other                  -0.3316      0.128     -2.587      0.013        -0.590    -0.073\n",
      "Sesame seed                        -0.0358      0.041     -0.874      0.387        -0.118     0.047\n",
      "Wine                               -0.0210      0.072     -0.290      0.773        -0.167     0.125\n",
      "Apples and products                 0.0233      0.060      0.390      0.698        -0.097     0.144\n",
      "Rape and Mustard Oil               -0.0248      0.062     -0.402      0.690        -0.149     0.100\n",
      "Sugar & Sweeteners                  0.2039      0.865      0.236      0.815        -1.538     1.946\n",
      "Maize and products                 -0.0013      0.010     -0.133      0.895        -0.021     0.019\n",
      "Sweeteners, Other                   0.1292      0.133      0.971      0.337        -0.139     0.397\n",
      "Groundnuts (Shelled Eq)            -0.1820      0.643     -0.283      0.778        -1.477     1.113\n",
      "Vegetables                          0.3132      0.128      2.454      0.018         0.056     0.570\n",
      "Barley and products                -0.0555      0.028     -1.972      0.055        -0.112     0.001\n",
      "Maize Germ Oil                      0.2186      0.191      1.144      0.259        -0.166     0.604\n",
      "Beer                               -0.0285      0.076     -0.373      0.711        -0.183     0.126\n",
      "Groundnut Oil                       0.2157      0.120      1.797      0.079        -0.026     0.457\n",
      "Pineapples and products             0.0008      0.062      0.014      0.989        -0.123     0.125\n",
      "Pulses, Other and products         -0.1027      0.116     -0.882      0.382        -0.337     0.132\n",
      "Miscellaneous                      -2.2574      3.145     -0.718      0.477        -8.593     4.078\n",
      "Sugar (Raw Equivalent)            -80.1606    751.630     -0.107      0.916     -1594.020  1433.699\n",
      "Alcoholic Beverages                 0.0346      0.075      0.462      0.646        -0.116     0.185\n",
      "Palm Oil                            0.0604      0.048      1.268      0.211        -0.036     0.156\n",
      "Oilcrops, Other                     0.1147      0.048      2.388      0.021         0.018     0.211\n",
      "Dates                               0.1042      0.051      2.046      0.047         0.002     0.207\n",
      "Oats                                0.0382      0.110      0.347      0.730        -0.184     0.260\n",
      "Soyabeans                          -0.2755      0.134     -2.052      0.046        -0.546    -0.005\n",
      "Beans                              -0.0541      0.098     -0.551      0.584        -0.252     0.144\n",
      "Cereals - Excluding Beer            0.0324      0.009      3.584      0.001         0.014     0.051\n",
      "Sesameseed Oil                      0.0561      0.054      1.047      0.301        -0.052     0.164\n",
      "Grapes and products (excl wine)     0.0733      0.042      1.732      0.090        -0.012     0.159\n",
      "Rice (Paddy Equivalent)           -53.2473    501.986     -0.106      0.916     -1064.298   957.804\n",
      "Beverages, Fermented               -0.0213      0.075     -0.282      0.779        -0.173     0.131\n",
      "Potatoes and products               0.0035      0.029      0.121      0.904        -0.055     0.062\n",
      "Cottonseed Oil                     -0.0775      0.043     -1.814      0.076        -0.164     0.009\n",
      "Onions                             -0.2665      0.111     -2.405      0.020        -0.490    -0.043\n",
      "Coffee and products                 0.8254      0.663      1.245      0.220        -0.510     2.161\n",
      "Roots, Other                        0.0207      0.015      1.374      0.176        -0.010     0.051\n",
      "Sugar, Refined Equiv               87.1361    816.971      0.107      0.916     -1558.328  1732.600\n",
      "Infant food                         2.3179      3.147      0.737      0.465        -4.021     8.656\n",
      "Groundnuts (in Shell Eq)            0.1308      0.584      0.224      0.824        -1.046     1.308\n",
      "Cereals, Other                      0.0293      0.036      0.820      0.416        -0.043     0.101\n",
      "Pepper                             -0.3168      0.216     -1.469      0.149        -0.751     0.118\n",
      "Peas                                0.0367      0.085      0.434      0.666        -0.134     0.207\n",
      "Nuts and products                  -1.0617      3.412     -0.311      0.757        -7.934     5.811\n",
      "Cocoa Beans and products            1.5150      1.001      1.513      0.137        -0.501     3.531\n",
      "Wheat and products                  0.0030      0.011      0.268      0.790        -0.020     0.026\n",
      "Cassava and products               -0.0024      0.042     -0.056      0.955        -0.087     0.082\n",
      "Fruits - Excluding Wine            -0.0488      0.031     -1.594      0.118        -0.111     0.013\n",
      "Spices                              0.0637      0.207      0.307      0.760        -0.354     0.482\n",
      "Sunflowerseed Oil                   0.0983      0.098      1.000      0.323        -0.100     0.296\n",
      "Pulses                              0.0968      0.108      0.894      0.376        -0.121     0.315\n",
      "Palmkernel Oil                     -0.0116      0.048     -0.243      0.809        -0.107     0.084\n",
      "Pimento                            -0.0544      0.094     -0.579      0.565        -0.244     0.135\n",
      "Fruits, Other                       0.0971      0.040      2.448      0.018         0.017     0.177\n",
      "Citrus, Other                      -0.0543      0.074     -0.735      0.466        -0.203     0.095\n",
      "Lemons, Limes and products         -0.0318      0.107     -0.296      0.768        -0.248     0.184\n",
      "Tea (including mate)                0.6583      0.617      1.066      0.292        -0.585     1.902\n",
      "Soyabean Oil                        0.0287      0.088      0.326      0.746        -0.149     0.206\n",
      "Grapefruit and products             0.0763      0.042      1.812      0.077        -0.009     0.161\n",
      "Rye and products                    0.0408      0.038      1.063      0.294        -0.036     0.118\n",
      "Olive Oil                           0.0148      0.159      0.093      0.926        -0.305     0.334\n",
      "Coconut Oil                         0.1199      0.062      1.946      0.058        -0.004     0.244\n",
      "Starchy Roots                       0.0014      0.156      0.009      0.993        -0.313     0.316\n",
      "Tomatoes and products              -0.3134      0.135     -2.313      0.025        -0.586    -0.041\n",
      "Oilcrops Oil, Other                 0.1903      0.080      2.378      0.022         0.029     0.352\n",
      "Bananas                             0.0666      0.036      1.860      0.069        -0.006     0.139\n",
      "Spices, Other                      -0.1185      0.325     -0.364      0.717        -0.773     0.536\n",
      "Sweet potatoes                      0.0197      0.024      0.816      0.419        -0.029     0.068\n",
      "Oranges, Mandarines                -0.0120      0.049     -0.244      0.809        -0.111     0.087\n",
      "Rice (Milled Equivalent)           79.8507    752.603      0.106      0.916     -1435.970  1595.672\n",
      "Stimulants                         -0.7998      0.625     -1.279      0.207        -2.059     0.460\n",
      "Aquatic Products, Other             0.0281      0.207      0.136      0.893        -0.389     0.445\n",
      "Butter, Ghee                       -0.1990      0.280     -0.711      0.481        -0.762     0.365\n",
      "Fats, Animals, Raw                 -0.5402      0.237     -2.276      0.028        -1.018    -0.062\n",
      "Crustaceans                        -0.2870      0.288     -0.997      0.324        -0.867     0.293\n",
      "Eggs                                0.2456      0.130      1.885      0.066        -0.017     0.508\n",
      "Milk, Whole                         0.0055      0.014      0.386      0.701        -0.023     0.034\n",
      "Marine Fish, Other                  0.1560      0.109      1.437      0.158        -0.063     0.375\n",
      "Aquatic Plants                     -0.0439      0.121     -0.362      0.719        -0.288     0.200\n",
      "Pigmeat                            -0.0998      0.163     -0.613      0.543        -0.428     0.228\n",
      "Meat                                0.0432      0.163      0.266      0.792        -0.284     0.371\n",
      "Freshwater Fish                     0.1172      0.133      0.882      0.382        -0.150     0.385\n",
      "Poultry Meat                       -0.1328      0.164     -0.809      0.423        -0.464     0.198\n",
      "Milk - Excluding Butter            -0.0198      0.013     -1.485      0.144        -0.047     0.007\n",
      "Fish, Liver Oil                     0.1994      0.070      2.861      0.006         0.059     0.340\n",
      "Fish, Seafood                      -0.1939      0.102     -1.893      0.065        -0.400     0.012\n",
      "Meat, Other                         0.0154      0.160      0.097      0.924        -0.307     0.337\n",
      "Cephalopods                        -0.1298      0.172     -0.753      0.455        -0.477     0.217\n",
      "Mutton & Goat Meat                  0.0895      0.175      0.511      0.612        -0.264     0.443\n",
      "Cheese                             -0.1583      0.174     -0.912      0.367        -0.508     0.191\n",
      "Pelagic Fish                        0.1164      0.104      1.117      0.270        -0.093     0.326\n",
      "Offals                             -0.4228      2.314     -0.183      0.856        -5.084     4.239\n",
      "Bovine Meat                        -0.0301      0.159     -0.188      0.851        -0.351     0.291\n",
      "Molluscs, Other                     0.2979      0.270      1.104      0.275        -0.245     0.841\n",
      "Fish, Body Oil                     -0.0306      0.111     -0.277      0.783        -0.253     0.192\n",
      "Aquatic Animals, Others             0.0813      0.050      1.614      0.114        -0.020     0.183\n",
      "Animal fats                         0.4045      0.195      2.069      0.044         0.011     0.798\n",
      "Honey                              -0.4656      0.271     -1.717      0.093        -1.012     0.080\n",
      "Offals, Edible                      0.2778      2.307      0.120      0.905        -4.369     4.925\n",
      "Demersal Fish                       0.2022      0.135      1.499      0.141        -0.069     0.474\n",
      "Cream                               0.0368      0.094      0.393      0.696        -0.152     0.225\n",
      "==============================================================================\n",
      "Omnibus:                        0.467   Durbin-Watson:                   1.949\n",
      "Prob(Omnibus):                  0.792   Jarque-Bera (JB):                0.177\n",
      "Skew:                           0.002   Prob(JB):                        0.915\n",
      "Kurtosis:                       3.166   Cond. No.                     2.60e+06\n",
      "==============================================================================\n",
      "\n",
      "Warnings:\n",
      "[1] Standard Errors assume that the covariance matrix of the errors is correctly specified.\n",
      "[2] The condition number is large, 2.6e+06. This might indicate that there are\n",
      "strong multicollinearity or other numerical problems.\n"
     ]
    }
   ],
   "source": [
    "# Fit linear model with risk of death in 2000 as response variable\n",
    "risk_2000_model = sm.OLS(risk_of_death_2000.drop(countries_to_drop), food_1970_2000_cleaned)\n",
    "risk_2000_results = risk_2000_model.fit()\n",
    "print(risk_2000_results.summary())"
   ]
  },
  {
   "cell_type": "code",
   "execution_count": 194,
   "metadata": {
    "collapsed": false
   },
   "outputs": [
    {
     "data": {
      "image/png": "[encoded data removed]",
      "text/plain": [
       "<matplotlib.figure.Figure at 0x126058450>"
      ]
     },
     "metadata": {},
     "output_type": "display_data"
    }
   ],
   "source": [
    "# Set p <= 0.1 to display borderline significant results as well\n",
    "plot_sig_coeffs(risk_2000_results, 0.1)"
   ]
  },
  {
   "cell_type": "markdown",
   "metadata": {},
   "source": [
    "### Interpretation\n",
    "### Statistical Issues\n",
    "From the summary of the fit, we see that multicollinearity is an issue as expected, so moving forward we will have to address that with variable selection- lasso regression will probably be a good way of dealing with that. Other standard regression diagnostics, such as checking for normality of residuals, homoskedasticity and nonlinearity should be performed as well when fine-tuning our eventual models.\n",
    "\n",
    "### Categorization Issues\n",
    "From the graph, it's apparent that an issue we have is the categorization of food items from the FAO database. For example, FAO has separate categories for raw animal fats and animal fats (which have opposite signs for coefficient estimates), which does not make a lot of sense since we are dealing with food for human consumption. Several other categories- vegetables as opposed to vegetables, other are problematic as well."
   ]
  },
  {
   "cell_type": "markdown",
   "metadata": {},
   "source": [
    "Let's fit linear models for the other response variables in the year 2000.\n",
    "\n",
    "## Deaths per 100k from All Causes"
   ]
  },
  {
   "cell_type": "code",
   "execution_count": 210,
   "metadata": {
    "collapsed": false
   },
   "outputs": [
    {
     "name": "stdout",
     "output_type": "stream",
     "text": [
      "Country\n",
      "Brunei Darussalam           484.1\n",
      "Bulgaria                    764.0\n",
      "Burkina Faso                685.3\n",
      "Burundi                     681.9\n",
      "Cabo Verde                  607.6\n",
      "Cambodia                    472.3\n",
      "Cameroon                    660.9\n",
      "Canada                      404.5\n",
      "Central African Republic    554.0\n",
      "Chad                        709.6\n",
      "Chile                       431.9\n",
      "China                       660.9\n",
      "Name: 2000, dtype: float64\n"
     ]
    },
    {
     "name": "stderr",
     "output_type": "stream",
     "text": [
      "/Users/harryxue/anaconda/lib/python2.7/site-packages/pandas/core/internals.py:227: VisibleDeprecationWarning: boolean index did not match indexed array along dimension 0; dimension is 172 but corresponding boolean dimension is 154\n",
      "  return self.values[slicer]\n",
      "/Users/harryxue/anaconda/lib/python2.7/site-packages/pandas/indexes/base.py:1275: VisibleDeprecationWarning: boolean index did not match indexed array along dimension 0; dimension is 172 but corresponding boolean dimension is 154\n",
      "  result = getitem(key)\n"
     ]
    }
   ],
   "source": [
    "# deaths_100k_all_2000_model = sm.OLS(deaths_100k_all_2000.drop(countries_to_drop), food_1970_2000_cleaned)\n",
    "print deaths_100k_all_2000[deaths_100k_all_2000.drop(countries_to_drop).index != food_1970_2000_cleaned.index]\n",
    "# deaths_100k_all_2000_results = deaths_100k_all_2000_model.fit()\n",
    "# print(deaths_100k_all_2000.summary())\n",
    "# plot_sig_coeffs(deaths_100k_all_2000_results, 0.1)"
   ]
  },
  {
   "cell_type": "code",
   "execution_count": null,
   "metadata": {
    "collapsed": true
   },
   "outputs": [],
   "source": [
    "\n",
    "deaths_100k_all_2000 = deaths_100k['all'][2000]\n",
    "deaths_100k_cancer_2000 = deaths_100k['cancer'][2000]\n",
    "deaths_100k_cardio_2000 = deaths_100k['cardio'][2000]\n",
    "deaths_100k_diabetes_2000 = deaths_100k['diabetes'][2000]\n",
    "deaths_100k_resp_2000 = deaths_100k['resp'][2000]"
   ]
  }
 ],
 "metadata": {
  "anaconda-cloud": {},
  "kernelspec": {
   "display_name": "Python [Root]",
   "language": "python",
   "name": "Python [Root]"
  },
  "language_info": {
   "codemirror_mode": {
    "name": "ipython",
    "version": 2
   },
   "file_extension": ".py",
   "mimetype": "text/x-python",
   "name": "python",
   "nbconvert_exporter": "python",
   "pygments_lexer": "ipython2",
   "version": "2.7.12"
  }
 },
 "nbformat": 4,
 "nbformat_minor": 0
}
