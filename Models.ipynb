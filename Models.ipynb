{
 "cells": [
  {
   "cell_type": "markdown",
   "metadata": {},
   "source": [
    "# CS109 Project: Models"
   ]
  },
  {
   "cell_type": "code",
   "execution_count": 2,
   "metadata": {
    "collapsed": false
   },
   "outputs": [],
   "source": [
    "# Import packages\n",
    "import numpy as np\n",
    "import pandas as pd\n",
    "import matplotlib\n",
    "import matplotlib.pyplot as plt\n",
    "import statsmodels.formula.api as sm\n",
    "import pickle\n",
    "from collections import Counter\n",
    "import sklearn as sk\n",
    "from sklearn.preprocessing import Imputer\n",
    "from sklearn import linear_model\n",
    "%matplotlib inline"
   ]
  },
  {
   "cell_type": "markdown",
   "metadata": {},
   "source": [
    "## Load in cleaned data\n",
    "Let's load in the data that we've cleaned and preprocessed."
   ]
  },
  {
   "cell_type": "code",
   "execution_count": 3,
   "metadata": {
    "collapsed": false
   },
   "outputs": [],
   "source": [
    "# Load cleaned NCD data from pickled files\n",
    "out = open('data/clean/deaths_100k.p', 'r')\n",
    "deaths_100k = pickle.load(out)\n",
    "out.close()\n",
    "out = open('data/clean/risk.p', 'r')\n",
    "risk_of_death = pickle.load(out)\n",
    "out.close()\n",
    "out = open('data/clean/crops.p', 'r')\n",
    "crops = pickle.load(out)\n",
    "out.close()\n",
    "out = open('data/clean/meat.p', 'r')\n",
    "meat = pickle.load(out)\n",
    "out.close()\n",
    "out = open('data/clean/var_desc_livestock.p', 'r')\n",
    "livestock_desc = pickle.load(out)\n",
    "out.close()\n",
    "out = open('data/clean/var_desc_crops.p', 'r')\n",
    "crops_desc = pickle.load(out)\n",
    "out.close()"
   ]
  },
  {
   "cell_type": "markdown",
   "metadata": {},
   "source": [
    "### Get Response Variables\n",
    "First let's isolate some possible response variables we might want to look at:\n",
    "* Deaths for 100k people in 2000 from all causes\n",
    "* Risk of death for 30 year old in 2000\n",
    "\n",
    "Note that the following analysis could naturally be extended to 2012 as well, but for this milestone we'll focus on the year 2000."
   ]
  },
  {
   "cell_type": "code",
   "execution_count": 4,
   "metadata": {
    "collapsed": false
   },
   "outputs": [],
   "source": [
    "# Get response variables\n",
    "deaths_100k_all_2000 = deaths_100k['all'][2000]\n",
    "deaths_100k_cancer_2000 = deaths_100k['cancer'][2000]\n",
    "deaths_100k_cardio_2000 = deaths_100k['cardio'][2000]\n",
    "deaths_100k_diabetes_2000 = deaths_100k['diabetes'][2000]\n",
    "deaths_100k_resp_2000 = deaths_100k['resp'][2000]\n",
    "\n",
    "risk_of_death_2000 = risk_of_death[2000]"
   ]
  },
  {
   "cell_type": "markdown",
   "metadata": {},
   "source": [
    "### Get Food Predictor Variables\n",
    "Next let's get the food predictors (crop and meat data). Rather than looking at single years, let's calculate the mean for each crop/meat in the 30 years preceding the year of our response variable."
   ]
  },
  {
   "cell_type": "code",
   "execution_count": 5,
   "metadata": {
    "collapsed": false
   },
   "outputs": [
    {
     "data": {
      "text/html": [
       "<div>\n",
       "<table border=\"1\" class=\"dataframe\">\n",
       "  <thead>\n",
       "    <tr style=\"text-align: right;\">\n",
       "      <th></th>\n",
       "      <th>Ricebran Oil</th>\n",
       "      <th>Oilcrops</th>\n",
       "      <th>Plantains</th>\n",
       "      <th>Sugar, Raw Equivalent</th>\n",
       "      <th>Beverages, Alcoholic</th>\n",
       "      <th>Roots &amp; Tuber Dry Equiv</th>\n",
       "      <th>Vegetable Oils</th>\n",
       "      <th>Olives (including preserved)</th>\n",
       "      <th>Cloves</th>\n",
       "      <th>Millet and products</th>\n",
       "      <th>...</th>\n",
       "      <th>Offals</th>\n",
       "      <th>Bovine Meat</th>\n",
       "      <th>Molluscs, Other</th>\n",
       "      <th>Fish, Body Oil</th>\n",
       "      <th>Aquatic Animals, Others</th>\n",
       "      <th>Animal fats</th>\n",
       "      <th>Honey</th>\n",
       "      <th>Offals, Edible</th>\n",
       "      <th>Demersal Fish</th>\n",
       "      <th>Cream</th>\n",
       "    </tr>\n",
       "    <tr>\n",
       "      <th>Country</th>\n",
       "      <th></th>\n",
       "      <th></th>\n",
       "      <th></th>\n",
       "      <th></th>\n",
       "      <th></th>\n",
       "      <th></th>\n",
       "      <th></th>\n",
       "      <th></th>\n",
       "      <th></th>\n",
       "      <th></th>\n",
       "      <th></th>\n",
       "      <th></th>\n",
       "      <th></th>\n",
       "      <th></th>\n",
       "      <th></th>\n",
       "      <th></th>\n",
       "      <th></th>\n",
       "      <th></th>\n",
       "      <th></th>\n",
       "      <th></th>\n",
       "      <th></th>\n",
       "    </tr>\n",
       "  </thead>\n",
       "  <tbody>\n",
       "    <tr>\n",
       "      <th>Afghanistan</th>\n",
       "      <td>NaN</td>\n",
       "      <td>2.629000</td>\n",
       "      <td>NaN</td>\n",
       "      <td>14.402000</td>\n",
       "      <td>0.002333</td>\n",
       "      <td>8.539333</td>\n",
       "      <td>7.995000</td>\n",
       "      <td>0.065333</td>\n",
       "      <td>NaN</td>\n",
       "      <td>5.360333</td>\n",
       "      <td>...</td>\n",
       "      <td>9.166000</td>\n",
       "      <td>16.762667</td>\n",
       "      <td>NaN</td>\n",
       "      <td>NaN</td>\n",
       "      <td>NaN</td>\n",
       "      <td>6.513000</td>\n",
       "      <td>0.687667</td>\n",
       "      <td>9.166000</td>\n",
       "      <td>NaN</td>\n",
       "      <td>0.000000</td>\n",
       "    </tr>\n",
       "    <tr>\n",
       "      <th>Albania</th>\n",
       "      <td>NaN</td>\n",
       "      <td>7.044333</td>\n",
       "      <td>NaN</td>\n",
       "      <td>50.132333</td>\n",
       "      <td>3.201000</td>\n",
       "      <td>10.253333</td>\n",
       "      <td>20.501000</td>\n",
       "      <td>7.017667</td>\n",
       "      <td>NaN</td>\n",
       "      <td>NaN</td>\n",
       "      <td>...</td>\n",
       "      <td>6.729333</td>\n",
       "      <td>18.681000</td>\n",
       "      <td>0.416000</td>\n",
       "      <td>0.0</td>\n",
       "      <td>0.0</td>\n",
       "      <td>8.995000</td>\n",
       "      <td>0.488667</td>\n",
       "      <td>6.734667</td>\n",
       "      <td>0.604000</td>\n",
       "      <td>0.005333</td>\n",
       "    </tr>\n",
       "    <tr>\n",
       "      <th>Algeria</th>\n",
       "      <td>NaN</td>\n",
       "      <td>1.646000</td>\n",
       "      <td>0.0</td>\n",
       "      <td>69.079333</td>\n",
       "      <td>0.108667</td>\n",
       "      <td>15.592333</td>\n",
       "      <td>33.352667</td>\n",
       "      <td>1.432667</td>\n",
       "      <td>0.004667</td>\n",
       "      <td>NaN</td>\n",
       "      <td>...</td>\n",
       "      <td>3.079333</td>\n",
       "      <td>9.742333</td>\n",
       "      <td>0.001000</td>\n",
       "      <td>0.0</td>\n",
       "      <td>0.0</td>\n",
       "      <td>5.180333</td>\n",
       "      <td>0.247333</td>\n",
       "      <td>3.079333</td>\n",
       "      <td>0.950333</td>\n",
       "      <td>NaN</td>\n",
       "    </tr>\n",
       "    <tr>\n",
       "      <th>Angola</th>\n",
       "      <td>NaN</td>\n",
       "      <td>3.671667</td>\n",
       "      <td>NaN</td>\n",
       "      <td>26.933333</td>\n",
       "      <td>1.855000</td>\n",
       "      <td>157.302000</td>\n",
       "      <td>21.056000</td>\n",
       "      <td>NaN</td>\n",
       "      <td>0.000000</td>\n",
       "      <td>16.849333</td>\n",
       "      <td>...</td>\n",
       "      <td>3.521333</td>\n",
       "      <td>21.081000</td>\n",
       "      <td>0.000333</td>\n",
       "      <td>0.0</td>\n",
       "      <td>0.0</td>\n",
       "      <td>1.588000</td>\n",
       "      <td>5.557000</td>\n",
       "      <td>3.521333</td>\n",
       "      <td>3.859667</td>\n",
       "      <td>NaN</td>\n",
       "    </tr>\n",
       "    <tr>\n",
       "      <th>Argentina</th>\n",
       "      <td>NaN</td>\n",
       "      <td>1.813000</td>\n",
       "      <td>NaN</td>\n",
       "      <td>113.051667</td>\n",
       "      <td>10.766000</td>\n",
       "      <td>41.883333</td>\n",
       "      <td>35.942667</td>\n",
       "      <td>1.235333</td>\n",
       "      <td>0.000333</td>\n",
       "      <td>NaN</td>\n",
       "      <td>...</td>\n",
       "      <td>19.928000</td>\n",
       "      <td>192.834333</td>\n",
       "      <td>0.675000</td>\n",
       "      <td>0.0</td>\n",
       "      <td>0.0</td>\n",
       "      <td>10.627667</td>\n",
       "      <td>0.505000</td>\n",
       "      <td>19.933333</td>\n",
       "      <td>13.161333</td>\n",
       "      <td>0.157000</td>\n",
       "    </tr>\n",
       "  </tbody>\n",
       "</table>\n",
       "<p>5 rows × 122 columns</p>\n",
       "</div>"
      ],
      "text/plain": [
       "             Ricebran Oil  Oilcrops  Plantains  Sugar, Raw Equivalent  \\\n",
       "Country                                                                 \n",
       "Afghanistan           NaN  2.629000        NaN              14.402000   \n",
       "Albania               NaN  7.044333        NaN              50.132333   \n",
       "Algeria               NaN  1.646000        0.0              69.079333   \n",
       "Angola                NaN  3.671667        NaN              26.933333   \n",
       "Argentina             NaN  1.813000        NaN             113.051667   \n",
       "\n",
       "             Beverages, Alcoholic  Roots & Tuber Dry Equiv  Vegetable Oils  \\\n",
       "Country                                                                      \n",
       "Afghanistan              0.002333                 8.539333        7.995000   \n",
       "Albania                  3.201000                10.253333       20.501000   \n",
       "Algeria                  0.108667                15.592333       33.352667   \n",
       "Angola                   1.855000               157.302000       21.056000   \n",
       "Argentina               10.766000                41.883333       35.942667   \n",
       "\n",
       "             Olives (including preserved)    Cloves  Millet and products  \\\n",
       "Country                                                                    \n",
       "Afghanistan                      0.065333       NaN             5.360333   \n",
       "Albania                          7.017667       NaN                  NaN   \n",
       "Algeria                          1.432667  0.004667                  NaN   \n",
       "Angola                                NaN  0.000000            16.849333   \n",
       "Argentina                        1.235333  0.000333                  NaN   \n",
       "\n",
       "               ...        Offals  Bovine Meat  Molluscs, Other  \\\n",
       "Country        ...                                               \n",
       "Afghanistan    ...      9.166000    16.762667              NaN   \n",
       "Albania        ...      6.729333    18.681000         0.416000   \n",
       "Algeria        ...      3.079333     9.742333         0.001000   \n",
       "Angola         ...      3.521333    21.081000         0.000333   \n",
       "Argentina      ...     19.928000   192.834333         0.675000   \n",
       "\n",
       "             Fish, Body Oil  Aquatic Animals, Others  Animal fats     Honey  \\\n",
       "Country                                                                       \n",
       "Afghanistan             NaN                      NaN     6.513000  0.687667   \n",
       "Albania                 0.0                      0.0     8.995000  0.488667   \n",
       "Algeria                 0.0                      0.0     5.180333  0.247333   \n",
       "Angola                  0.0                      0.0     1.588000  5.557000   \n",
       "Argentina               0.0                      0.0    10.627667  0.505000   \n",
       "\n",
       "             Offals, Edible  Demersal Fish     Cream  \n",
       "Country                                               \n",
       "Afghanistan        9.166000            NaN  0.000000  \n",
       "Albania            6.734667       0.604000  0.005333  \n",
       "Algeria            3.079333       0.950333       NaN  \n",
       "Angola             3.521333       3.859667       NaN  \n",
       "Argentina         19.933333      13.161333  0.157000  \n",
       "\n",
       "[5 rows x 122 columns]"
      ]
     },
     "execution_count": 5,
     "metadata": {},
     "output_type": "execute_result"
    }
   ],
   "source": [
    "# TODO: Turn this process into a function later?\n",
    "time_period = range(1970, 2000)\n",
    "\n",
    "# Calculate the mean for each crop/meat over the period 1970-2000\n",
    "food_1970_2000 = pd.DataFrame(index=risk_of_death.index)\n",
    "\n",
    "for crop in crops.iterkeys():\n",
    "    food_1970_2000[crop] = crops[crop][time_period].mean(axis=1)\n",
    "    \n",
    "for m in meat.iterkeys():\n",
    "    food_1970_2000[m] = meat[m][time_period].mean(axis=1)\n",
    "\n",
    "food_1970_2000.head()"
   ]
  },
  {
   "cell_type": "markdown",
   "metadata": {},
   "source": [
    "### Dropping sparse columns and rows"
   ]
  },
  {
   "cell_type": "markdown",
   "metadata": {},
   "source": [
    "Unfortunately it looks like even after averaging over ten years, we still have quite a bit of NaN's. Let's try dropping the countries that are almost half NaN's:"
   ]
  },
  {
   "cell_type": "code",
   "execution_count": 6,
   "metadata": {
    "collapsed": false
   },
   "outputs": [
    {
     "name": "stdout",
     "output_type": "stream",
     "text": [
      "['Bahrain', 'Belgium', 'Bhutan', 'Burundi', 'Comoros', 'Democratic Republic of the Congo', 'Equatorial Guinea', 'Eritrea', 'Libya', 'Montenegro', 'Papua New Guinea', 'Qatar', 'Serbia', 'Singapore', 'Somalia', 'South Sudan', 'Sudan', 'Syrian Arab Republic']\n",
      "Number of countries to drop: 18\n"
     ]
    }
   ],
   "source": [
    "# list of countries to drop due to being less than 50% full\n",
    "countries_to_drop = []\n",
    "\n",
    "for index, row in food_1970_2000.iterrows():\n",
    "    if row.isnull().sum() > len(row) / 2:\n",
    "        countries_to_drop.append(index)\n",
    "\n",
    "print countries_to_drop\n",
    "print \"Number of countries to drop:\", len(countries_to_drop)"
   ]
  },
  {
   "cell_type": "code",
   "execution_count": 7,
   "metadata": {
    "collapsed": false
   },
   "outputs": [],
   "source": [
    "# Drop the identified countries with very sparse data\n",
    "food_1970_2000_cleaned = food_1970_2000.drop(countries_to_drop)"
   ]
  },
  {
   "cell_type": "markdown",
   "metadata": {},
   "source": [
    "Let's also see how many columns are very sparse (< 50% full) and consider dropping them as well if there are not too many."
   ]
  },
  {
   "cell_type": "code",
   "execution_count": 8,
   "metadata": {
    "collapsed": false
   },
   "outputs": [
    {
     "name": "stdout",
     "output_type": "stream",
     "text": [
      "['Ricebran Oil', 'Millet and products', 'Sugar non-centrifugal', 'Molasses', 'Sugar beet', 'Sorghum and products', 'Sunflower seed', 'Sugar Crops', 'Sugar cane', 'Yams', 'Meat, Aquatic Mammals', 'Meat Meal', 'Whey']\n",
      "Number of columns to drop: 13\n"
     ]
    }
   ],
   "source": [
    "cols_to_drop = []\n",
    "\n",
    "# Identify sparse columns to drop\n",
    "for col in food_1970_2000_cleaned.columns:\n",
    "    if food_1970_2000_cleaned[col].isnull().sum() > len(food_1970_2000_cleaned[col]) / 2:\n",
    "        cols_to_drop.append(col)\n",
    "        \n",
    "print cols_to_drop\n",
    "print \"Number of columns to drop:\", len(cols_to_drop)"
   ]
  },
  {
   "cell_type": "markdown",
   "metadata": {},
   "source": [
    "Overall, there aren't too many columns to drop. However, unfortunately data on sugar-related products seems to be disproportionately sparse (which makes sense since very few countries have the correct conditions to grow sugar domestically). We'll drop these columns for now. \n",
    "\n",
    "The good news is though that we still have many columns that still contain sugar-related products even after dropping, so we should still be able to use sugar as a predictor in some form."
   ]
  },
  {
   "cell_type": "code",
   "execution_count": 9,
   "metadata": {
    "collapsed": true
   },
   "outputs": [],
   "source": [
    "# Drop identified crops with very sparse data\n",
    "food_1970_2000_cleaned = food_1970_2000_cleaned.drop(cols_to_drop, axis=1)"
   ]
  },
  {
   "cell_type": "code",
   "execution_count": 10,
   "metadata": {
    "collapsed": false
   },
   "outputs": [
    {
     "name": "stdout",
     "output_type": "stream",
     "text": [
      "Percentage NaN cells after dropping: 0.0638031693078\n"
     ]
    }
   ],
   "source": [
    "# Sanity check to see what percentage of cells are missing\n",
    "print \"Percentage NaN cells after dropping:\", food_1970_2000_cleaned.isnull().sum().sum() / float(food_1970_2000_cleaned.shape[0] * food_1970_2000_cleaned.shape[1])"
   ]
  },
  {
   "cell_type": "markdown",
   "metadata": {},
   "source": [
    "### Imputation of Missing Values\n",
    "Since the number of NaN cells has drastically been reduced, now let's use simple mean imputation (global average per crop) to fill them in. It may be worth investigating other methods for imputation in the future, but given the small number of NaN's now, this method should not have a huge impact on our results."
   ]
  },
  {
   "cell_type": "code",
   "execution_count": 11,
   "metadata": {
    "collapsed": true
   },
   "outputs": [],
   "source": [
    "# Impute by mean for each column (i.e. global average per crop)\n",
    "imp = Imputer(axis=1)\n",
    "food_1970_2000_cleaned = pd.DataFrame(imp.fit_transform(food_1970_2000_cleaned), index=food_1970_2000_cleaned.index, columns=food_1970_2000_cleaned.columns)"
   ]
  },
  {
   "cell_type": "code",
   "execution_count": 12,
   "metadata": {
    "collapsed": false
   },
   "outputs": [
    {
     "data": {
      "text/html": [
       "<div>\n",
       "<table border=\"1\" class=\"dataframe\">\n",
       "  <thead>\n",
       "    <tr style=\"text-align: right;\">\n",
       "      <th></th>\n",
       "      <th>Oilcrops</th>\n",
       "      <th>Plantains</th>\n",
       "      <th>Sugar, Raw Equivalent</th>\n",
       "      <th>Beverages, Alcoholic</th>\n",
       "      <th>Roots &amp; Tuber Dry Equiv</th>\n",
       "      <th>Vegetable Oils</th>\n",
       "      <th>Olives (including preserved)</th>\n",
       "      <th>Cloves</th>\n",
       "      <th>Coconuts - Incl Copra</th>\n",
       "      <th>Treenuts</th>\n",
       "      <th>...</th>\n",
       "      <th>Offals</th>\n",
       "      <th>Bovine Meat</th>\n",
       "      <th>Molluscs, Other</th>\n",
       "      <th>Fish, Body Oil</th>\n",
       "      <th>Aquatic Animals, Others</th>\n",
       "      <th>Animal fats</th>\n",
       "      <th>Honey</th>\n",
       "      <th>Offals, Edible</th>\n",
       "      <th>Demersal Fish</th>\n",
       "      <th>Cream</th>\n",
       "    </tr>\n",
       "    <tr>\n",
       "      <th>Country</th>\n",
       "      <th></th>\n",
       "      <th></th>\n",
       "      <th></th>\n",
       "      <th></th>\n",
       "      <th></th>\n",
       "      <th></th>\n",
       "      <th></th>\n",
       "      <th></th>\n",
       "      <th></th>\n",
       "      <th></th>\n",
       "      <th></th>\n",
       "      <th></th>\n",
       "      <th></th>\n",
       "      <th></th>\n",
       "      <th></th>\n",
       "      <th></th>\n",
       "      <th></th>\n",
       "      <th></th>\n",
       "      <th></th>\n",
       "      <th></th>\n",
       "      <th></th>\n",
       "    </tr>\n",
       "  </thead>\n",
       "  <tbody>\n",
       "    <tr>\n",
       "      <th>Afghanistan</th>\n",
       "      <td>2.629000</td>\n",
       "      <td>29.068781</td>\n",
       "      <td>14.402000</td>\n",
       "      <td>0.002333</td>\n",
       "      <td>8.539333</td>\n",
       "      <td>7.995000</td>\n",
       "      <td>0.065333</td>\n",
       "      <td>29.068781</td>\n",
       "      <td>0.015000</td>\n",
       "      <td>2.327333</td>\n",
       "      <td>...</td>\n",
       "      <td>9.166000</td>\n",
       "      <td>16.762667</td>\n",
       "      <td>29.068781</td>\n",
       "      <td>29.068781</td>\n",
       "      <td>29.068781</td>\n",
       "      <td>6.513000</td>\n",
       "      <td>0.687667</td>\n",
       "      <td>9.166000</td>\n",
       "      <td>29.068781</td>\n",
       "      <td>0.000000</td>\n",
       "    </tr>\n",
       "    <tr>\n",
       "      <th>Albania</th>\n",
       "      <td>7.044333</td>\n",
       "      <td>32.502693</td>\n",
       "      <td>50.132333</td>\n",
       "      <td>3.201000</td>\n",
       "      <td>10.253333</td>\n",
       "      <td>20.501000</td>\n",
       "      <td>7.017667</td>\n",
       "      <td>32.502693</td>\n",
       "      <td>0.006333</td>\n",
       "      <td>4.350000</td>\n",
       "      <td>...</td>\n",
       "      <td>6.729333</td>\n",
       "      <td>18.681000</td>\n",
       "      <td>0.416000</td>\n",
       "      <td>0.000000</td>\n",
       "      <td>0.000000</td>\n",
       "      <td>8.995000</td>\n",
       "      <td>0.488667</td>\n",
       "      <td>6.734667</td>\n",
       "      <td>0.604000</td>\n",
       "      <td>0.005333</td>\n",
       "    </tr>\n",
       "    <tr>\n",
       "      <th>Algeria</th>\n",
       "      <td>1.646000</td>\n",
       "      <td>0.000000</td>\n",
       "      <td>69.079333</td>\n",
       "      <td>0.108667</td>\n",
       "      <td>15.592333</td>\n",
       "      <td>33.352667</td>\n",
       "      <td>1.432667</td>\n",
       "      <td>0.004667</td>\n",
       "      <td>0.012000</td>\n",
       "      <td>1.453667</td>\n",
       "      <td>...</td>\n",
       "      <td>3.079333</td>\n",
       "      <td>9.742333</td>\n",
       "      <td>0.001000</td>\n",
       "      <td>0.000000</td>\n",
       "      <td>0.000000</td>\n",
       "      <td>5.180333</td>\n",
       "      <td>0.247333</td>\n",
       "      <td>3.079333</td>\n",
       "      <td>0.950333</td>\n",
       "      <td>25.450712</td>\n",
       "    </tr>\n",
       "    <tr>\n",
       "      <th>Angola</th>\n",
       "      <td>3.671667</td>\n",
       "      <td>26.325172</td>\n",
       "      <td>26.933333</td>\n",
       "      <td>1.855000</td>\n",
       "      <td>157.302000</td>\n",
       "      <td>21.056000</td>\n",
       "      <td>26.325172</td>\n",
       "      <td>0.000000</td>\n",
       "      <td>0.000000</td>\n",
       "      <td>0.401000</td>\n",
       "      <td>...</td>\n",
       "      <td>3.521333</td>\n",
       "      <td>21.081000</td>\n",
       "      <td>0.000333</td>\n",
       "      <td>0.000000</td>\n",
       "      <td>0.000000</td>\n",
       "      <td>1.588000</td>\n",
       "      <td>5.557000</td>\n",
       "      <td>3.521333</td>\n",
       "      <td>3.859667</td>\n",
       "      <td>26.325172</td>\n",
       "    </tr>\n",
       "    <tr>\n",
       "      <th>Argentina</th>\n",
       "      <td>1.813000</td>\n",
       "      <td>44.950187</td>\n",
       "      <td>113.051667</td>\n",
       "      <td>10.766000</td>\n",
       "      <td>41.883333</td>\n",
       "      <td>35.942667</td>\n",
       "      <td>1.235333</td>\n",
       "      <td>0.000333</td>\n",
       "      <td>0.584000</td>\n",
       "      <td>1.133000</td>\n",
       "      <td>...</td>\n",
       "      <td>19.928000</td>\n",
       "      <td>192.834333</td>\n",
       "      <td>0.675000</td>\n",
       "      <td>0.000000</td>\n",
       "      <td>0.000000</td>\n",
       "      <td>10.627667</td>\n",
       "      <td>0.505000</td>\n",
       "      <td>19.933333</td>\n",
       "      <td>13.161333</td>\n",
       "      <td>0.157000</td>\n",
       "    </tr>\n",
       "  </tbody>\n",
       "</table>\n",
       "<p>5 rows × 109 columns</p>\n",
       "</div>"
      ],
      "text/plain": [
       "             Oilcrops  Plantains  Sugar, Raw Equivalent  Beverages, Alcoholic  \\\n",
       "Country                                                                         \n",
       "Afghanistan  2.629000  29.068781              14.402000              0.002333   \n",
       "Albania      7.044333  32.502693              50.132333              3.201000   \n",
       "Algeria      1.646000   0.000000              69.079333              0.108667   \n",
       "Angola       3.671667  26.325172              26.933333              1.855000   \n",
       "Argentina    1.813000  44.950187             113.051667             10.766000   \n",
       "\n",
       "             Roots & Tuber Dry Equiv  Vegetable Oils  \\\n",
       "Country                                                \n",
       "Afghanistan                 8.539333        7.995000   \n",
       "Albania                    10.253333       20.501000   \n",
       "Algeria                    15.592333       33.352667   \n",
       "Angola                    157.302000       21.056000   \n",
       "Argentina                  41.883333       35.942667   \n",
       "\n",
       "             Olives (including preserved)     Cloves  Coconuts - Incl Copra  \\\n",
       "Country                                                                       \n",
       "Afghanistan                      0.065333  29.068781               0.015000   \n",
       "Albania                          7.017667  32.502693               0.006333   \n",
       "Algeria                          1.432667   0.004667               0.012000   \n",
       "Angola                          26.325172   0.000000               0.000000   \n",
       "Argentina                        1.235333   0.000333               0.584000   \n",
       "\n",
       "             Treenuts    ...         Offals  Bovine Meat  Molluscs, Other  \\\n",
       "Country                  ...                                                \n",
       "Afghanistan  2.327333    ...       9.166000    16.762667        29.068781   \n",
       "Albania      4.350000    ...       6.729333    18.681000         0.416000   \n",
       "Algeria      1.453667    ...       3.079333     9.742333         0.001000   \n",
       "Angola       0.401000    ...       3.521333    21.081000         0.000333   \n",
       "Argentina    1.133000    ...      19.928000   192.834333         0.675000   \n",
       "\n",
       "             Fish, Body Oil  Aquatic Animals, Others  Animal fats     Honey  \\\n",
       "Country                                                                       \n",
       "Afghanistan       29.068781                29.068781     6.513000  0.687667   \n",
       "Albania            0.000000                 0.000000     8.995000  0.488667   \n",
       "Algeria            0.000000                 0.000000     5.180333  0.247333   \n",
       "Angola             0.000000                 0.000000     1.588000  5.557000   \n",
       "Argentina          0.000000                 0.000000    10.627667  0.505000   \n",
       "\n",
       "             Offals, Edible  Demersal Fish      Cream  \n",
       "Country                                                \n",
       "Afghanistan        9.166000      29.068781   0.000000  \n",
       "Albania            6.734667       0.604000   0.005333  \n",
       "Algeria            3.079333       0.950333  25.450712  \n",
       "Angola             3.521333       3.859667  26.325172  \n",
       "Argentina         19.933333      13.161333   0.157000  \n",
       "\n",
       "[5 rows x 109 columns]"
      ]
     },
     "execution_count": 12,
     "metadata": {},
     "output_type": "execute_result"
    }
   ],
   "source": [
    "food_1970_2000_cleaned.head()"
   ]
  },
  {
   "cell_type": "markdown",
   "metadata": {},
   "source": [
    "### Removing Redundant Variables\n",
    "We found Metadata on the dataset through the FAO website. We will analyze what subcategories each variable contains, and drop some of the variables whose subcategories overlap with those of other variables. This should help to reduce the multicollinearity of the final model."
   ]
  },
  {
   "cell_type": "code",
   "execution_count": 13,
   "metadata": {
    "collapsed": false
   },
   "outputs": [
    {
     "data": {
      "text/html": [
       "<div>\n",
       "<table border=\"1\" class=\"dataframe\">\n",
       "  <thead>\n",
       "    <tr style=\"text-align: right;\">\n",
       "      <th></th>\n",
       "      <th>Item Code</th>\n",
       "      <th>Item</th>\n",
       "      <th>Description</th>\n",
       "      <th>HS Code</th>\n",
       "      <th>HS07 Code</th>\n",
       "      <th>HS12 Code</th>\n",
       "      <th>CPC Code</th>\n",
       "    </tr>\n",
       "  </thead>\n",
       "  <tbody>\n",
       "    <tr>\n",
       "      <th>0</th>\n",
       "      <td>2946</td>\n",
       "      <td>Animal fats</td>\n",
       "      <td>NaN</td>\n",
       "      <td>NaN</td>\n",
       "      <td>NaN</td>\n",
       "      <td>NaN</td>\n",
       "      <td>NaN</td>\n",
       "    </tr>\n",
       "    <tr>\n",
       "      <th>1</th>\n",
       "      <td>2941</td>\n",
       "      <td>Animal Products</td>\n",
       "      <td>NaN</td>\n",
       "      <td>NaN</td>\n",
       "      <td>NaN</td>\n",
       "      <td>NaN</td>\n",
       "      <td>NaN</td>\n",
       "    </tr>\n",
       "    <tr>\n",
       "      <th>2</th>\n",
       "      <td>2769</td>\n",
       "      <td>Aquatic Animals, Others</td>\n",
       "      <td>Default composition: 1587 Aqutc Anim F, 1588 A...</td>\n",
       "      <td>NaN</td>\n",
       "      <td>NaN</td>\n",
       "      <td>NaN</td>\n",
       "      <td>NaN</td>\n",
       "    </tr>\n",
       "    <tr>\n",
       "      <th>3</th>\n",
       "      <td>2775</td>\n",
       "      <td>Aquatic Plants</td>\n",
       "      <td>Default composition: 1594 Aquatic plants, fres...</td>\n",
       "      <td>NaN</td>\n",
       "      <td>NaN</td>\n",
       "      <td>NaN</td>\n",
       "      <td>NaN</td>\n",
       "    </tr>\n",
       "    <tr>\n",
       "      <th>4</th>\n",
       "      <td>2961</td>\n",
       "      <td>Aquatic Products, Other</td>\n",
       "      <td>NaN</td>\n",
       "      <td>NaN</td>\n",
       "      <td>NaN</td>\n",
       "      <td>NaN</td>\n",
       "      <td>NaN</td>\n",
       "    </tr>\n",
       "  </tbody>\n",
       "</table>\n",
       "</div>"
      ],
      "text/plain": [
       "   Item Code                     Item  \\\n",
       "0       2946              Animal fats   \n",
       "1       2941          Animal Products   \n",
       "2       2769  Aquatic Animals, Others   \n",
       "3       2775           Aquatic Plants   \n",
       "4       2961  Aquatic Products, Other   \n",
       "\n",
       "                                         Description  HS Code  HS07 Code  \\\n",
       "0                                                NaN      NaN        NaN   \n",
       "1                                                NaN      NaN        NaN   \n",
       "2  Default composition: 1587 Aqutc Anim F, 1588 A...      NaN        NaN   \n",
       "3  Default composition: 1594 Aquatic plants, fres...      NaN        NaN   \n",
       "4                                                NaN      NaN        NaN   \n",
       "\n",
       "   HS12 Code  CPC Code  \n",
       "0        NaN       NaN  \n",
       "1        NaN       NaN  \n",
       "2        NaN       NaN  \n",
       "3        NaN       NaN  \n",
       "4        NaN       NaN  "
      ]
     },
     "execution_count": 13,
     "metadata": {},
     "output_type": "execute_result"
    }
   ],
   "source": [
    "livestock_desc.head()"
   ]
  },
  {
   "cell_type": "code",
   "execution_count": 14,
   "metadata": {
    "collapsed": false
   },
   "outputs": [
    {
     "data": {
      "text/html": [
       "<div>\n",
       "<table border=\"1\" class=\"dataframe\">\n",
       "  <thead>\n",
       "    <tr style=\"text-align: right;\">\n",
       "      <th></th>\n",
       "      <th>Item Code</th>\n",
       "      <th>Item</th>\n",
       "      <th>Description</th>\n",
       "      <th>HS Code</th>\n",
       "      <th>HS07 Code</th>\n",
       "      <th>HS12 Code</th>\n",
       "      <th>CPC Code</th>\n",
       "    </tr>\n",
       "  </thead>\n",
       "  <tbody>\n",
       "    <tr>\n",
       "      <th>0</th>\n",
       "      <td>2924</td>\n",
       "      <td>Alcoholic Beverages</td>\n",
       "      <td>NaN</td>\n",
       "      <td>NaN</td>\n",
       "      <td>NaN</td>\n",
       "      <td>NaN</td>\n",
       "      <td>NaN</td>\n",
       "    </tr>\n",
       "    <tr>\n",
       "      <th>1</th>\n",
       "      <td>2617</td>\n",
       "      <td>Apples and products</td>\n",
       "      <td>Default composition: 515 Apples, 518 Juice, ap...</td>\n",
       "      <td>NaN</td>\n",
       "      <td>NaN</td>\n",
       "      <td>NaN</td>\n",
       "      <td>NaN</td>\n",
       "    </tr>\n",
       "    <tr>\n",
       "      <th>2</th>\n",
       "      <td>2615</td>\n",
       "      <td>Bananas</td>\n",
       "      <td>Default composition: 486 Bananas</td>\n",
       "      <td>NaN</td>\n",
       "      <td>NaN</td>\n",
       "      <td>NaN</td>\n",
       "      <td>NaN</td>\n",
       "    </tr>\n",
       "    <tr>\n",
       "      <th>3</th>\n",
       "      <td>2513</td>\n",
       "      <td>Barley and products</td>\n",
       "      <td>Default composition: 44 Barley, 45 Barley, pot...</td>\n",
       "      <td>NaN</td>\n",
       "      <td>NaN</td>\n",
       "      <td>NaN</td>\n",
       "      <td>NaN</td>\n",
       "    </tr>\n",
       "    <tr>\n",
       "      <th>4</th>\n",
       "      <td>2546</td>\n",
       "      <td>Beans</td>\n",
       "      <td>Default composition: 176 Beans, dry</td>\n",
       "      <td>NaN</td>\n",
       "      <td>NaN</td>\n",
       "      <td>NaN</td>\n",
       "      <td>NaN</td>\n",
       "    </tr>\n",
       "  </tbody>\n",
       "</table>\n",
       "</div>"
      ],
      "text/plain": [
       "   Item Code                 Item  \\\n",
       "0       2924  Alcoholic Beverages   \n",
       "1       2617  Apples and products   \n",
       "2       2615              Bananas   \n",
       "3       2513  Barley and products   \n",
       "4       2546                Beans   \n",
       "\n",
       "                                         Description  HS Code  HS07 Code  \\\n",
       "0                                                NaN      NaN        NaN   \n",
       "1  Default composition: 515 Apples, 518 Juice, ap...      NaN        NaN   \n",
       "2                   Default composition: 486 Bananas      NaN        NaN   \n",
       "3  Default composition: 44 Barley, 45 Barley, pot...      NaN        NaN   \n",
       "4                Default composition: 176 Beans, dry      NaN        NaN   \n",
       "\n",
       "   HS12 Code  CPC Code  \n",
       "0        NaN       NaN  \n",
       "1        NaN       NaN  \n",
       "2        NaN       NaN  \n",
       "3        NaN       NaN  \n",
       "4        NaN       NaN  "
      ]
     },
     "execution_count": 14,
     "metadata": {},
     "output_type": "execute_result"
    }
   ],
   "source": [
    "crops_desc.head()"
   ]
  },
  {
   "cell_type": "markdown",
   "metadata": {},
   "source": [
    "We convert the `Description` column to string value so we can split out the numbers which are unique identifiers for the subcategories"
   ]
  },
  {
   "cell_type": "code",
   "execution_count": 15,
   "metadata": {
    "collapsed": true
   },
   "outputs": [],
   "source": [
    "livestock_desc['Description'] = livestock_desc['Description'].astype('string')\n",
    "crops_desc['Description'] = crops_desc['Description'].astype('string')"
   ]
  },
  {
   "cell_type": "markdown",
   "metadata": {},
   "source": [
    "Next, we assess whether multiple columns contain common subcategories."
   ]
  },
  {
   "cell_type": "code",
   "execution_count": 16,
   "metadata": {
    "collapsed": false
   },
   "outputs": [
    {
     "name": "stdout",
     "output_type": "stream",
     "text": [
      "Redundant Livestock codes:\n",
      "Redundant Crop codes:\n",
      "27\n",
      "33\n",
      "35\n",
      "154\n",
      "155\n",
      "160\n",
      "161\n",
      "162\n",
      "163\n",
      "165\n",
      "166\n",
      "167\n",
      "172\n",
      "173\n",
      "242\n",
      "567\n",
      "568\n"
     ]
    }
   ],
   "source": [
    "# create counters for each code in the description\n",
    "livestock_counter = Counter()\n",
    "crops_counter = Counter()\n",
    "\n",
    "# map each item to the codes it contains\n",
    "livestock_dict = {}\n",
    "crops_dict = {}\n",
    "\n",
    "# go through all descriptions in livestock\n",
    "for index, val in enumerate(livestock_desc['Description']):\n",
    "    ingredients = [int(num) for num in val.split() if num.isdigit()]\n",
    "    # check that the list is not empty\n",
    "    if ingredients:\n",
    "        item = livestock_desc.iloc[index, :]['Item']\n",
    "        for ingredient in ingredients:\n",
    "            livestock_counter[ingredient] += 1\n",
    "        livestock_dict[item] = ingredients\n",
    "    \n",
    "# go through all description in crops\n",
    "for index, val in enumerate(crops_desc['Description']):\n",
    "    ingredients = [int(num) for num in val.split() if num.isdigit()]\n",
    "    # check that the list is not empty\n",
    "    if ingredients:\n",
    "        item = crops_desc.iloc[index, :]['Item']\n",
    "        for ingredient in ingredients:\n",
    "            crops_counter[ingredient] += 1\n",
    "        crops_dict[item] = ingredients\n",
    "\n",
    "# store redudant livestock codes\n",
    "redundant_livestock_codes = []\n",
    "# store redundant crop codes\n",
    "redundant_crop_codes = []\n",
    "\n",
    "# get redundant item codes for livestock and crops\n",
    "print \"Redundant Livestock codes:\"\n",
    "for key, value in livestock_counter.items():\n",
    "    if value > 1:\n",
    "        print key\n",
    "        redundant_livestock_codes.append(key)\n",
    "\n",
    "print \"Redundant Crop codes:\"\n",
    "for key, value in crops_counter.items():\n",
    "    if value > 1:\n",
    "        print key\n",
    "        redundant_crop_codes.append(key)"
   ]
  },
  {
   "cell_type": "markdown",
   "metadata": {},
   "source": [
    "We observe that no subcategories in the Livestock data are contained in more than one column, while the Crop data contains several such subcategories"
   ]
  },
  {
   "cell_type": "code",
   "execution_count": 17,
   "metadata": {
    "collapsed": false
   },
   "outputs": [
    {
     "name": "stdout",
     "output_type": "stream",
     "text": [
      "Vegetables, Other: 567\n",
      "Vegetables, Other: 568\n",
      "Fruits, Other: 567\n",
      "Fruits, Other: 568\n",
      "Sugar, Refined Equiv: 162\n",
      "Sugar (Raw Equivalent): 162\n",
      "Groundnuts (in Shell Eq): 242\n",
      "Sugar, Raw Equivalent: 154\n",
      "Sugar, Raw Equivalent: 155\n",
      "Sugar, Raw Equivalent: 160\n",
      "Sugar, Raw Equivalent: 161\n",
      "Sugar, Raw Equivalent: 162\n",
      "Sugar, Raw Equivalent: 163\n",
      "Sugar, Raw Equivalent: 166\n",
      "Sugar, Raw Equivalent: 167\n",
      "Sugar, Raw Equivalent: 172\n",
      "Sugar, Raw Equivalent: 173\n",
      "Molasses: 165\n",
      "Sugar non-centrifugal: 163\n",
      "Sweeteners, Other: 154\n",
      "Sweeteners, Other: 155\n",
      "Sweeteners, Other: 160\n",
      "Sweeteners, Other: 161\n",
      "Sweeteners, Other: 165\n",
      "Sweeteners, Other: 166\n",
      "Sweeteners, Other: 167\n",
      "Sweeteners, Other: 172\n",
      "Sweeteners, Other: 173\n",
      "Rice (Paddy Equivalent): 27\n",
      "Rice (Paddy Equivalent): 33\n",
      "Rice (Paddy Equivalent): 35\n",
      "Groundnuts (Shelled Eq): 242\n",
      "Rice (Milled Equivalent): 27\n",
      "Rice (Milled Equivalent): 33\n",
      "Rice (Milled Equivalent): 35\n"
     ]
    }
   ],
   "source": [
    "# print the columns containing the redundant subcategories\n",
    "for key, value in crops_dict.items():\n",
    "    for code in value:\n",
    "        if code in redundant_crop_codes:\n",
    "            print key + \": \" + str(code)"
   ]
  },
  {
   "cell_type": "markdown",
   "metadata": {},
   "source": [
    "Grouping these by subcategory, these redundancies are:\n",
    "* 567: Watermelon\n",
    "    * Vegetables, Other\n",
    "    * Fruits, Other\n",
    "* 568: Melon\n",
    "    * Vegetables, Other\n",
    "    * Fruits, Other\n",
    "* 242: Groundnuts\n",
    "    * Groundnuts (in Shell Eq)\t\n",
    "    * Groundnuts (Shelled Eq)\t\n",
    "    * Oilcrops Oil, Other\n",
    "* 154: Fructose chemically pure\n",
    "    * Sugar, Raw Equivalent\t\n",
    "    * Sweeteners, Other\t\n",
    "* 155: Maltose chemically pure\n",
    "    * Sugar, Raw Equivalent\n",
    "    * Sweeteners, Other\n",
    "* 160: Maple sugar and syrups\n",
    "    * Sugar, Raw Equivalent\t\n",
    "    * Sweeteners, Other\t\n",
    "* 161: Sugar crops, nes\n",
    "    * Sugar, Raw Equivalent\n",
    "    * Sweeteners, Other\n",
    "* 162: Sugar Raw Centrifugal\n",
    "    * Sugar (Raw Equivalent)\n",
    "    * Sugar, Raw Equivalent\t\n",
    "    * Sugar, Refined Equiv\t\n",
    "* 163: Sugar non-centrifugal\n",
    "    * Sugar non-centrifugal\n",
    "    * Sugar, Raw Equivalent\t\n",
    "* 165: Molasses\n",
    "    * Molasses\n",
    "    * Sweeteners, Other\n",
    "* 166: Fructose and syrup, other\n",
    "    * Sugar, Raw Equivalent\n",
    "    * Sweeteners, Other\n",
    "* 167: Sugar, nes\n",
    "    * Sugar, Raw Equivalent\t\n",
    "    * Sweeteners, Other\t\n",
    "* 172: Glucose and dextrose\n",
    "    * Sugar, Raw Equivalent\t\n",
    "    * Sweeteners, Other\t\n",
    "* 173: Lactose\n",
    "    * Sugar, Raw Equivalent\n",
    "    * Sweeteners, Other\t\n",
    "* 27: Rice\n",
    "    * Rice (Milled Equivalent)\n",
    "    * Rice (Paddy Equivalent)\n",
    "* 33: Gluten\n",
    "    * Rice (Milled Equivalent)\t\n",
    "    * Rice (Paddy Equivalent)\t\n",
    "* 35: Bran, rice\n",
    "    * Rice (Milled Equivalent)\t\n",
    "    * Rice (Paddy Equivalent)\n",
    "* 242: Groundnuts\n",
    "    * Groundnuts (in Shell Eq)\t\n",
    "    * Groundnuts (Shelled Eq)\n",
    "    * Oilcrops Oil, Other\t"
   ]
  },
  {
   "cell_type": "markdown",
   "metadata": {},
   "source": [
    "We will go through these redundancies using the FAO data inspection tool and build up a list of variables to drop."
   ]
  },
  {
   "cell_type": "code",
   "execution_count": 18,
   "metadata": {
    "collapsed": true
   },
   "outputs": [],
   "source": [
    "# get the cleaned columns so we can check whether the columns containing redunant\n",
    "# subcategories are currently in our dataset\n",
    "column_set = set(food_1970_2000_cleaned.columns)"
   ]
  },
  {
   "cell_type": "code",
   "execution_count": 19,
   "metadata": {
    "collapsed": false
   },
   "outputs": [
    {
     "data": {
      "text/plain": [
       "True"
      ]
     },
     "execution_count": 19,
     "metadata": {},
     "output_type": "execute_result"
    }
   ],
   "source": [
    "'Vegetables, Other' in column_set"
   ]
  },
  {
   "cell_type": "code",
   "execution_count": 20,
   "metadata": {
    "collapsed": false
   },
   "outputs": [
    {
     "data": {
      "text/plain": [
       "True"
      ]
     },
     "execution_count": 20,
     "metadata": {},
     "output_type": "execute_result"
    }
   ],
   "source": [
    "'Fruits, Other' in column_set"
   ]
  },
  {
   "cell_type": "markdown",
   "metadata": {},
   "source": [
    "We will keep both `Vegetables, Other` and `Fruits, Other` because both have numerous other constituent crops besides watermelon and melon"
   ]
  },
  {
   "cell_type": "code",
   "execution_count": 21,
   "metadata": {
    "collapsed": false
   },
   "outputs": [
    {
     "data": {
      "text/plain": [
       "True"
      ]
     },
     "execution_count": 21,
     "metadata": {},
     "output_type": "execute_result"
    }
   ],
   "source": [
    "'Groundnuts (in Shell Eq)' in column_set"
   ]
  },
  {
   "cell_type": "code",
   "execution_count": 22,
   "metadata": {
    "collapsed": false
   },
   "outputs": [
    {
     "data": {
      "text/plain": [
       "True"
      ]
     },
     "execution_count": 22,
     "metadata": {},
     "output_type": "execute_result"
    }
   ],
   "source": [
    "'Groundnuts (Shelled Eq)' in column_set"
   ]
  },
  {
   "cell_type": "code",
   "execution_count": 23,
   "metadata": {
    "collapsed": false
   },
   "outputs": [
    {
     "data": {
      "text/plain": [
       "True"
      ]
     },
     "execution_count": 23,
     "metadata": {},
     "output_type": "execute_result"
    }
   ],
   "source": [
    "'Oilcrops Oil, Other' in column_set"
   ]
  },
  {
   "cell_type": "markdown",
   "metadata": {},
   "source": [
    "We will drop Groundnuts (in Shell Eq) since Groundnuts (Shelled Eq) contains all crops in Groundnuts (in Shell Eq). We will keep `Oilcrops Oil, Other` because it only has one subcategory in common with `Groundnuts (Shelled Eq)` and contains many unique subcategories"
   ]
  },
  {
   "cell_type": "code",
   "execution_count": 24,
   "metadata": {
    "collapsed": false
   },
   "outputs": [
    {
     "data": {
      "text/plain": [
       "True"
      ]
     },
     "execution_count": 24,
     "metadata": {},
     "output_type": "execute_result"
    }
   ],
   "source": [
    "'Sugar, Raw Equivalent' in column_set"
   ]
  },
  {
   "cell_type": "code",
   "execution_count": 25,
   "metadata": {
    "collapsed": false
   },
   "outputs": [
    {
     "data": {
      "text/plain": [
       "True"
      ]
     },
     "execution_count": 25,
     "metadata": {},
     "output_type": "execute_result"
    }
   ],
   "source": [
    "'Sweeteners, Other' in column_set"
   ]
  },
  {
   "cell_type": "code",
   "execution_count": 26,
   "metadata": {
    "collapsed": false
   },
   "outputs": [
    {
     "data": {
      "text/plain": [
       "False"
      ]
     },
     "execution_count": 26,
     "metadata": {},
     "output_type": "execute_result"
    }
   ],
   "source": [
    "'Sugar non-centrifugal' in column_set"
   ]
  },
  {
   "cell_type": "code",
   "execution_count": 27,
   "metadata": {
    "collapsed": false
   },
   "outputs": [
    {
     "data": {
      "text/plain": [
       "True"
      ]
     },
     "execution_count": 27,
     "metadata": {},
     "output_type": "execute_result"
    }
   ],
   "source": [
    "'Sugar (Raw Equivalent)' in column_set"
   ]
  },
  {
   "cell_type": "markdown",
   "metadata": {},
   "source": [
    "We will drop `Sweeteners, Other` (the \"others\" in that category were already dropped because of many Nans) and keep `Sugar, Raw Equivalent` because it seems to contain more relevant subcategories. `Sugar non-centrifugal` appears to have already been dropped. We will keep `Sugar (Raw Equivalent)` because it only has one subcategory in common with `Sugar, Raw Equivalent` and has many additional subcategories that may be relevant. We will drop `Sugar, Refined Equiv` because it only contains one subcategory that is already contained in `Sugar, Raw Equivalent`"
   ]
  },
  {
   "cell_type": "code",
   "execution_count": 28,
   "metadata": {
    "collapsed": false
   },
   "outputs": [
    {
     "data": {
      "text/plain": [
       "True"
      ]
     },
     "execution_count": 28,
     "metadata": {},
     "output_type": "execute_result"
    }
   ],
   "source": [
    "'Rice (Paddy Equivalent)' in column_set"
   ]
  },
  {
   "cell_type": "code",
   "execution_count": 29,
   "metadata": {
    "collapsed": false
   },
   "outputs": [
    {
     "data": {
      "text/plain": [
       "True"
      ]
     },
     "execution_count": 29,
     "metadata": {},
     "output_type": "execute_result"
    }
   ],
   "source": [
    "'Rice (Milled Equivalent)' in column_set"
   ]
  },
  {
   "cell_type": "markdown",
   "metadata": {},
   "source": [
    "`Rice (Milled Equivalent)` contains all the subcategories in `Rice (Paddy Equivalent)` and some additional, so we will drop `Rice (Paddy Equivalent)`"
   ]
  },
  {
   "cell_type": "code",
   "execution_count": 30,
   "metadata": {
    "collapsed": true
   },
   "outputs": [],
   "source": [
    "# columns to drop because of overlapping subcategories\n",
    "more_columns_to_drop = ['Groundnuts (in Shell Eq)',\n",
    "                        'Sweeteners, Other',\n",
    "                        'Sugar, Refined Equiv',\n",
    "                        'Rice (Paddy Equivalent)',\n",
    "                       ]"
   ]
  },
  {
   "cell_type": "code",
   "execution_count": 31,
   "metadata": {
    "collapsed": false
   },
   "outputs": [],
   "source": [
    "# drop the columns\n",
    "food_1970_2000_cleaned = food_1970_2000_cleaned.drop(more_columns_to_drop, axis = 1)"
   ]
  },
  {
   "cell_type": "markdown",
   "metadata": {},
   "source": [
    "### Columns with No Descriptions\n",
    "We also will drop columns that have no descriptions because including them would make our results less interpretable. "
   ]
  },
  {
   "cell_type": "markdown",
   "metadata": {},
   "source": [
    "First, we evaluate which columns have no descriptions."
   ]
  },
  {
   "cell_type": "code",
   "execution_count": 32,
   "metadata": {
    "collapsed": false
   },
   "outputs": [
    {
     "data": {
      "text/html": [
       "<div>\n",
       "<table border=\"1\" class=\"dataframe\">\n",
       "  <thead>\n",
       "    <tr style=\"text-align: right;\">\n",
       "      <th></th>\n",
       "      <th>Item Code</th>\n",
       "      <th>Item</th>\n",
       "      <th>Description</th>\n",
       "      <th>HS Code</th>\n",
       "      <th>HS07 Code</th>\n",
       "      <th>HS12 Code</th>\n",
       "      <th>CPC Code</th>\n",
       "    </tr>\n",
       "  </thead>\n",
       "  <tbody>\n",
       "    <tr>\n",
       "      <th>0</th>\n",
       "      <td>2924</td>\n",
       "      <td>Alcoholic Beverages</td>\n",
       "      <td>nan</td>\n",
       "      <td>NaN</td>\n",
       "      <td>NaN</td>\n",
       "      <td>NaN</td>\n",
       "      <td>NaN</td>\n",
       "    </tr>\n",
       "    <tr>\n",
       "      <th>9</th>\n",
       "      <td>2905</td>\n",
       "      <td>Cereals - Excluding Beer</td>\n",
       "      <td>nan</td>\n",
       "      <td>NaN</td>\n",
       "      <td>NaN</td>\n",
       "      <td>NaN</td>\n",
       "      <td>NaN</td>\n",
       "    </tr>\n",
       "    <tr>\n",
       "      <th>19</th>\n",
       "      <td>2919</td>\n",
       "      <td>Fruits - Excluding Wine</td>\n",
       "      <td>nan</td>\n",
       "      <td>NaN</td>\n",
       "      <td>NaN</td>\n",
       "      <td>NaN</td>\n",
       "      <td>NaN</td>\n",
       "    </tr>\n",
       "    <tr>\n",
       "      <th>21</th>\n",
       "      <td>2901</td>\n",
       "      <td>Grand Total</td>\n",
       "      <td>nan</td>\n",
       "      <td>NaN</td>\n",
       "      <td>NaN</td>\n",
       "      <td>NaN</td>\n",
       "      <td>NaN</td>\n",
       "    </tr>\n",
       "    <tr>\n",
       "      <th>32</th>\n",
       "      <td>2899</td>\n",
       "      <td>Miscellaneous</td>\n",
       "      <td>nan</td>\n",
       "      <td>NaN</td>\n",
       "      <td>NaN</td>\n",
       "      <td>NaN</td>\n",
       "      <td>NaN</td>\n",
       "    </tr>\n",
       "    <tr>\n",
       "      <th>33</th>\n",
       "      <td>2928</td>\n",
       "      <td>Miscellaneous</td>\n",
       "      <td>nan</td>\n",
       "      <td>NaN</td>\n",
       "      <td>NaN</td>\n",
       "      <td>NaN</td>\n",
       "      <td>NaN</td>\n",
       "    </tr>\n",
       "    <tr>\n",
       "      <th>37</th>\n",
       "      <td>2913</td>\n",
       "      <td>Oilcrops</td>\n",
       "      <td>nan</td>\n",
       "      <td>NaN</td>\n",
       "      <td>NaN</td>\n",
       "      <td>NaN</td>\n",
       "      <td>NaN</td>\n",
       "    </tr>\n",
       "    <tr>\n",
       "      <th>52</th>\n",
       "      <td>2911</td>\n",
       "      <td>Pulses</td>\n",
       "      <td>nan</td>\n",
       "      <td>NaN</td>\n",
       "      <td>NaN</td>\n",
       "      <td>NaN</td>\n",
       "      <td>NaN</td>\n",
       "    </tr>\n",
       "    <tr>\n",
       "      <th>58</th>\n",
       "      <td>2815</td>\n",
       "      <td>Roots &amp; Tuber Dry Equiv</td>\n",
       "      <td>nan</td>\n",
       "      <td>NaN</td>\n",
       "      <td>NaN</td>\n",
       "      <td>NaN</td>\n",
       "      <td>NaN</td>\n",
       "    </tr>\n",
       "    <tr>\n",
       "      <th>66</th>\n",
       "      <td>2923</td>\n",
       "      <td>Spices</td>\n",
       "      <td>nan</td>\n",
       "      <td>NaN</td>\n",
       "      <td>NaN</td>\n",
       "      <td>NaN</td>\n",
       "      <td>NaN</td>\n",
       "    </tr>\n",
       "    <tr>\n",
       "      <th>68</th>\n",
       "      <td>2907</td>\n",
       "      <td>Starchy Roots</td>\n",
       "      <td>nan</td>\n",
       "      <td>NaN</td>\n",
       "      <td>NaN</td>\n",
       "      <td>NaN</td>\n",
       "      <td>NaN</td>\n",
       "    </tr>\n",
       "    <tr>\n",
       "      <th>69</th>\n",
       "      <td>2922</td>\n",
       "      <td>Stimulants</td>\n",
       "      <td>nan</td>\n",
       "      <td>NaN</td>\n",
       "      <td>NaN</td>\n",
       "      <td>NaN</td>\n",
       "      <td>NaN</td>\n",
       "    </tr>\n",
       "    <tr>\n",
       "      <th>70</th>\n",
       "      <td>2909</td>\n",
       "      <td>Sugar &amp; Sweeteners</td>\n",
       "      <td>nan</td>\n",
       "      <td>NaN</td>\n",
       "      <td>NaN</td>\n",
       "      <td>NaN</td>\n",
       "      <td>NaN</td>\n",
       "    </tr>\n",
       "    <tr>\n",
       "      <th>74</th>\n",
       "      <td>2908</td>\n",
       "      <td>Sugar Crops</td>\n",
       "      <td>nan</td>\n",
       "      <td>NaN</td>\n",
       "      <td>NaN</td>\n",
       "      <td>NaN</td>\n",
       "      <td>NaN</td>\n",
       "    </tr>\n",
       "    <tr>\n",
       "      <th>84</th>\n",
       "      <td>2912</td>\n",
       "      <td>Treenuts</td>\n",
       "      <td>nan</td>\n",
       "      <td>NaN</td>\n",
       "      <td>NaN</td>\n",
       "      <td>NaN</td>\n",
       "      <td>NaN</td>\n",
       "    </tr>\n",
       "    <tr>\n",
       "      <th>85</th>\n",
       "      <td>2914</td>\n",
       "      <td>Vegetable Oils</td>\n",
       "      <td>nan</td>\n",
       "      <td>NaN</td>\n",
       "      <td>NaN</td>\n",
       "      <td>NaN</td>\n",
       "      <td>NaN</td>\n",
       "    </tr>\n",
       "    <tr>\n",
       "      <th>86</th>\n",
       "      <td>2918</td>\n",
       "      <td>Vegetables</td>\n",
       "      <td>nan</td>\n",
       "      <td>NaN</td>\n",
       "      <td>NaN</td>\n",
       "      <td>NaN</td>\n",
       "      <td>NaN</td>\n",
       "    </tr>\n",
       "    <tr>\n",
       "      <th>88</th>\n",
       "      <td>2903</td>\n",
       "      <td>Vegetal Products</td>\n",
       "      <td>nan</td>\n",
       "      <td>NaN</td>\n",
       "      <td>NaN</td>\n",
       "      <td>NaN</td>\n",
       "      <td>NaN</td>\n",
       "    </tr>\n",
       "  </tbody>\n",
       "</table>\n",
       "</div>"
      ],
      "text/plain": [
       "    Item Code                      Item Description  HS Code  HS07 Code  \\\n",
       "0        2924       Alcoholic Beverages         nan      NaN        NaN   \n",
       "9        2905  Cereals - Excluding Beer         nan      NaN        NaN   \n",
       "19       2919   Fruits - Excluding Wine         nan      NaN        NaN   \n",
       "21       2901               Grand Total         nan      NaN        NaN   \n",
       "32       2899             Miscellaneous         nan      NaN        NaN   \n",
       "33       2928             Miscellaneous         nan      NaN        NaN   \n",
       "37       2913                  Oilcrops         nan      NaN        NaN   \n",
       "52       2911                    Pulses         nan      NaN        NaN   \n",
       "58       2815   Roots & Tuber Dry Equiv         nan      NaN        NaN   \n",
       "66       2923                    Spices         nan      NaN        NaN   \n",
       "68       2907             Starchy Roots         nan      NaN        NaN   \n",
       "69       2922                Stimulants         nan      NaN        NaN   \n",
       "70       2909        Sugar & Sweeteners         nan      NaN        NaN   \n",
       "74       2908               Sugar Crops         nan      NaN        NaN   \n",
       "84       2912                  Treenuts         nan      NaN        NaN   \n",
       "85       2914            Vegetable Oils         nan      NaN        NaN   \n",
       "86       2918                Vegetables         nan      NaN        NaN   \n",
       "88       2903          Vegetal Products         nan      NaN        NaN   \n",
       "\n",
       "    HS12 Code  CPC Code  \n",
       "0         NaN       NaN  \n",
       "9         NaN       NaN  \n",
       "19        NaN       NaN  \n",
       "21        NaN       NaN  \n",
       "32        NaN       NaN  \n",
       "33        NaN       NaN  \n",
       "37        NaN       NaN  \n",
       "52        NaN       NaN  \n",
       "58        NaN       NaN  \n",
       "66        NaN       NaN  \n",
       "68        NaN       NaN  \n",
       "69        NaN       NaN  \n",
       "70        NaN       NaN  \n",
       "74        NaN       NaN  \n",
       "84        NaN       NaN  \n",
       "85        NaN       NaN  \n",
       "86        NaN       NaN  \n",
       "88        NaN       NaN  "
      ]
     },
     "execution_count": 32,
     "metadata": {},
     "output_type": "execute_result"
    }
   ],
   "source": [
    "crops_desc[crops_desc[\"Description\"] == 'nan']"
   ]
  },
  {
   "cell_type": "code",
   "execution_count": 33,
   "metadata": {
    "collapsed": false
   },
   "outputs": [
    {
     "data": {
      "text/html": [
       "<div>\n",
       "<table border=\"1\" class=\"dataframe\">\n",
       "  <thead>\n",
       "    <tr style=\"text-align: right;\">\n",
       "      <th></th>\n",
       "      <th>Item Code</th>\n",
       "      <th>Item</th>\n",
       "      <th>Description</th>\n",
       "      <th>HS Code</th>\n",
       "      <th>HS07 Code</th>\n",
       "      <th>HS12 Code</th>\n",
       "      <th>CPC Code</th>\n",
       "    </tr>\n",
       "  </thead>\n",
       "  <tbody>\n",
       "    <tr>\n",
       "      <th>0</th>\n",
       "      <td>2946</td>\n",
       "      <td>Animal fats</td>\n",
       "      <td>nan</td>\n",
       "      <td>NaN</td>\n",
       "      <td>NaN</td>\n",
       "      <td>NaN</td>\n",
       "      <td>NaN</td>\n",
       "    </tr>\n",
       "    <tr>\n",
       "      <th>1</th>\n",
       "      <td>2941</td>\n",
       "      <td>Animal Products</td>\n",
       "      <td>nan</td>\n",
       "      <td>NaN</td>\n",
       "      <td>NaN</td>\n",
       "      <td>NaN</td>\n",
       "      <td>NaN</td>\n",
       "    </tr>\n",
       "    <tr>\n",
       "      <th>4</th>\n",
       "      <td>2961</td>\n",
       "      <td>Aquatic Products, Other</td>\n",
       "      <td>nan</td>\n",
       "      <td>NaN</td>\n",
       "      <td>NaN</td>\n",
       "      <td>NaN</td>\n",
       "      <td>NaN</td>\n",
       "    </tr>\n",
       "    <tr>\n",
       "      <th>8</th>\n",
       "      <td>2741</td>\n",
       "      <td>Cheese</td>\n",
       "      <td>nan</td>\n",
       "      <td>NaN</td>\n",
       "      <td>NaN</td>\n",
       "      <td>NaN</td>\n",
       "      <td>NaN</td>\n",
       "    </tr>\n",
       "    <tr>\n",
       "      <th>13</th>\n",
       "      <td>2949</td>\n",
       "      <td>Eggs</td>\n",
       "      <td>nan</td>\n",
       "      <td>NaN</td>\n",
       "      <td>NaN</td>\n",
       "      <td>NaN</td>\n",
       "      <td>NaN</td>\n",
       "    </tr>\n",
       "    <tr>\n",
       "      <th>18</th>\n",
       "      <td>2960</td>\n",
       "      <td>Fish, Seafood</td>\n",
       "      <td>nan</td>\n",
       "      <td>NaN</td>\n",
       "      <td>NaN</td>\n",
       "      <td>NaN</td>\n",
       "      <td>NaN</td>\n",
       "    </tr>\n",
       "    <tr>\n",
       "      <th>20</th>\n",
       "      <td>2901</td>\n",
       "      <td>Grand Total</td>\n",
       "      <td>nan</td>\n",
       "      <td>NaN</td>\n",
       "      <td>NaN</td>\n",
       "      <td>NaN</td>\n",
       "      <td>NaN</td>\n",
       "    </tr>\n",
       "    <tr>\n",
       "      <th>24</th>\n",
       "      <td>2943</td>\n",
       "      <td>Meat</td>\n",
       "      <td>nan</td>\n",
       "      <td>NaN</td>\n",
       "      <td>NaN</td>\n",
       "      <td>NaN</td>\n",
       "      <td>NaN</td>\n",
       "    </tr>\n",
       "    <tr>\n",
       "      <th>28</th>\n",
       "      <td>2948</td>\n",
       "      <td>Milk - Excluding Butter</td>\n",
       "      <td>nan</td>\n",
       "      <td>NaN</td>\n",
       "      <td>NaN</td>\n",
       "      <td>NaN</td>\n",
       "      <td>NaN</td>\n",
       "    </tr>\n",
       "    <tr>\n",
       "      <th>30</th>\n",
       "      <td>2738</td>\n",
       "      <td>Milk, Whole</td>\n",
       "      <td>nan</td>\n",
       "      <td>NaN</td>\n",
       "      <td>NaN</td>\n",
       "      <td>NaN</td>\n",
       "      <td>NaN</td>\n",
       "    </tr>\n",
       "    <tr>\n",
       "      <th>33</th>\n",
       "      <td>2945</td>\n",
       "      <td>Offals</td>\n",
       "      <td>nan</td>\n",
       "      <td>NaN</td>\n",
       "      <td>NaN</td>\n",
       "      <td>NaN</td>\n",
       "      <td>NaN</td>\n",
       "    </tr>\n",
       "    <tr>\n",
       "      <th>38</th>\n",
       "      <td>2742</td>\n",
       "      <td>Whey</td>\n",
       "      <td>nan</td>\n",
       "      <td>NaN</td>\n",
       "      <td>NaN</td>\n",
       "      <td>NaN</td>\n",
       "      <td>NaN</td>\n",
       "    </tr>\n",
       "  </tbody>\n",
       "</table>\n",
       "</div>"
      ],
      "text/plain": [
       "    Item Code                     Item Description  HS Code  HS07 Code  \\\n",
       "0        2946              Animal fats         nan      NaN        NaN   \n",
       "1        2941          Animal Products         nan      NaN        NaN   \n",
       "4        2961  Aquatic Products, Other         nan      NaN        NaN   \n",
       "8        2741                   Cheese         nan      NaN        NaN   \n",
       "13       2949                     Eggs         nan      NaN        NaN   \n",
       "18       2960            Fish, Seafood         nan      NaN        NaN   \n",
       "20       2901              Grand Total         nan      NaN        NaN   \n",
       "24       2943                     Meat         nan      NaN        NaN   \n",
       "28       2948  Milk - Excluding Butter         nan      NaN        NaN   \n",
       "30       2738              Milk, Whole         nan      NaN        NaN   \n",
       "33       2945                   Offals         nan      NaN        NaN   \n",
       "38       2742                     Whey         nan      NaN        NaN   \n",
       "\n",
       "    HS12 Code  CPC Code  \n",
       "0         NaN       NaN  \n",
       "1         NaN       NaN  \n",
       "4         NaN       NaN  \n",
       "8         NaN       NaN  \n",
       "13        NaN       NaN  \n",
       "18        NaN       NaN  \n",
       "20        NaN       NaN  \n",
       "24        NaN       NaN  \n",
       "28        NaN       NaN  \n",
       "30        NaN       NaN  \n",
       "33        NaN       NaN  \n",
       "38        NaN       NaN  "
      ]
     },
     "execution_count": 33,
     "metadata": {},
     "output_type": "execute_result"
    }
   ],
   "source": [
    "livestock_desc[livestock_desc[\"Description\"] == 'nan']"
   ]
  },
  {
   "cell_type": "code",
   "execution_count": 34,
   "metadata": {
    "collapsed": true
   },
   "outputs": [],
   "source": [
    "empty_descs = list(livestock_desc[livestock_desc[\"Description\"] == 'nan']['Item'])\n",
    "empty_descs += list(crops_desc[crops_desc[\"Description\"] == 'nan']['Item'])"
   ]
  },
  {
   "cell_type": "code",
   "execution_count": 35,
   "metadata": {
    "collapsed": false
   },
   "outputs": [],
   "source": [
    "# drop the columns\n",
    "for col in empty_descs:\n",
    "    if col in food_1970_2000_cleaned.columns:\n",
    "        food_1970_2000_cleaned = food_1970_2000_cleaned.drop(col, axis = 1)"
   ]
  },
  {
   "cell_type": "code",
   "execution_count": 36,
   "metadata": {
    "collapsed": true
   },
   "outputs": [],
   "source": [
    "# Save this dataframe for later\n",
    "pickle.dump(food_1970_2000_cleaned, open('data/final/food_1970_2000_cleaned.p', 'wb'))"
   ]
  },
  {
   "cell_type": "markdown",
   "metadata": {},
   "source": [
    "# I. Null Model\n",
    "First we fit a null model where the disease incidence in a country is the same as the global average."
   ]
  },
  {
   "cell_type": "code",
   "execution_count": 89,
   "metadata": {
    "collapsed": true
   },
   "outputs": [],
   "source": [
    "# Null model that predicts a response that is the same as the global average\n",
    "def null_model(x, train_y):\n",
    "    # Get global average\n",
    "    global_avg = np.mean(train_y)\n",
    "    n = x.shape[0]\n",
    "    \n",
    "    return np.repeat([global_avg], n)"
   ]
  },
  {
   "cell_type": "code",
   "execution_count": 90,
   "metadata": {
    "collapsed": false
   },
   "outputs": [
    {
     "data": {
      "text/plain": [
       "array([ 48.46753247,  48.46753247,  48.46753247,  48.46753247,\n",
       "        48.46753247,  48.46753247,  48.46753247,  48.46753247,\n",
       "        48.46753247,  48.46753247,  48.46753247,  48.46753247,\n",
       "        48.46753247,  48.46753247,  48.46753247,  48.46753247,\n",
       "        48.46753247,  48.46753247,  48.46753247,  48.46753247,\n",
       "        48.46753247,  48.46753247,  48.46753247,  48.46753247,\n",
       "        48.46753247,  48.46753247,  48.46753247,  48.46753247,\n",
       "        48.46753247,  48.46753247,  48.46753247,  48.46753247,\n",
       "        48.46753247,  48.46753247,  48.46753247,  48.46753247,\n",
       "        48.46753247,  48.46753247,  48.46753247,  48.46753247,\n",
       "        48.46753247,  48.46753247,  48.46753247,  48.46753247,\n",
       "        48.46753247,  48.46753247,  48.46753247,  48.46753247,\n",
       "        48.46753247,  48.46753247,  48.46753247,  48.46753247,\n",
       "        48.46753247,  48.46753247,  48.46753247,  48.46753247,\n",
       "        48.46753247,  48.46753247,  48.46753247,  48.46753247,\n",
       "        48.46753247,  48.46753247,  48.46753247,  48.46753247,\n",
       "        48.46753247,  48.46753247,  48.46753247,  48.46753247,\n",
       "        48.46753247,  48.46753247,  48.46753247,  48.46753247,\n",
       "        48.46753247,  48.46753247,  48.46753247,  48.46753247,\n",
       "        48.46753247,  48.46753247,  48.46753247,  48.46753247,\n",
       "        48.46753247,  48.46753247,  48.46753247,  48.46753247,\n",
       "        48.46753247,  48.46753247,  48.46753247,  48.46753247,\n",
       "        48.46753247,  48.46753247,  48.46753247,  48.46753247,\n",
       "        48.46753247,  48.46753247,  48.46753247,  48.46753247,\n",
       "        48.46753247,  48.46753247,  48.46753247,  48.46753247,\n",
       "        48.46753247,  48.46753247,  48.46753247,  48.46753247,\n",
       "        48.46753247,  48.46753247,  48.46753247,  48.46753247,\n",
       "        48.46753247,  48.46753247,  48.46753247,  48.46753247,\n",
       "        48.46753247,  48.46753247,  48.46753247,  48.46753247,\n",
       "        48.46753247,  48.46753247,  48.46753247,  48.46753247,\n",
       "        48.46753247,  48.46753247,  48.46753247,  48.46753247,\n",
       "        48.46753247,  48.46753247,  48.46753247,  48.46753247,\n",
       "        48.46753247,  48.46753247,  48.46753247,  48.46753247,\n",
       "        48.46753247,  48.46753247,  48.46753247,  48.46753247,\n",
       "        48.46753247,  48.46753247,  48.46753247,  48.46753247,\n",
       "        48.46753247,  48.46753247,  48.46753247,  48.46753247,\n",
       "        48.46753247,  48.46753247,  48.46753247,  48.46753247,\n",
       "        48.46753247,  48.46753247,  48.46753247,  48.46753247,\n",
       "        48.46753247,  48.46753247])"
      ]
     },
     "execution_count": 90,
     "metadata": {},
     "output_type": "execute_result"
    }
   ],
   "source": [
    "# Run null model\n",
    "null_model(food_1970_2000_cleaned.sort_index(), deaths_100k_resp_2000.drop(countries_to_drop).sort_index())"
   ]
  },
  {
   "cell_type": "markdown",
   "metadata": {},
   "source": [
    "# II. Linear Regression\n",
    "Now let's try to predict health outcomes using the data that we've cleaned and preprocessed and simple linear regression."
   ]
  },
  {
   "cell_type": "markdown",
   "metadata": {},
   "source": [
    "## Risk of Death in 2000 as Response Variable"
   ]
  },
  {
   "cell_type": "code",
   "execution_count": 91,
   "metadata": {
    "collapsed": true
   },
   "outputs": [],
   "source": [
    "# Plots bar graph of coefficient estimates for regression model and given significance level \n",
    "def plot_sig_coeffs(fit, sig_level):\n",
    "    # Filter for predictors with p-values less than provided cutoff\n",
    "    significant = fit.pvalues[fit.pvalues <= sig_level]\n",
    "    # Plot coefficient estimates for predictors with p < 0.1 \n",
    "    fit.params[significant.index].sort_values().plot(kind=\"bar\", \n",
    "        title=\"Coefficient Estimates for Predictors with p < 0.1\", \n",
    "        )"
   ]
  },
  {
   "cell_type": "code",
   "execution_count": 92,
   "metadata": {
    "collapsed": false
   },
   "outputs": [
    {
     "name": "stdout",
     "output_type": "stream",
     "text": [
      "                            OLS Regression Results                            \n",
      "==============================================================================\n",
      "Dep. Variable:                   2000   R-squared:                       0.980\n",
      "Model:                            OLS   Adj. R-squared:                  0.957\n",
      "Method:                 Least Squares   F-statistic:                     42.65\n",
      "Date:                Mon, 12 Dec 2016   Prob (F-statistic):           2.63e-40\n",
      "Time:                        11:46:57   Log-Likelihood:                -400.88\n",
      "No. Observations:                 154   AIC:                             965.8\n",
      "Df Residuals:                      72   BIC:                             1215.\n",
      "Df Model:                          82                                         \n",
      "Covariance Type:            nonrobust                                         \n",
      "===================================================================================================\n",
      "                                      coef    std err          t      P>|t|      [95.0% Conf. Int.]\n",
      "---------------------------------------------------------------------------------------------------\n",
      "Plantains                          -0.0018      0.010     -0.177      0.860        -0.022     0.019\n",
      "Sugar, Raw Equivalent               0.0259      0.056      0.462      0.645        -0.086     0.138\n",
      "Beverages, Alcoholic                0.1159      0.078      1.478      0.144        -0.040     0.272\n",
      "Olives (including preserved)       -0.1015      0.113     -0.895      0.374        -0.328     0.125\n",
      "Cloves                             -0.1264      0.076     -1.659      0.101        -0.278     0.026\n",
      "Coconuts - Incl Copra               0.0095      0.024      0.397      0.692        -0.038     0.057\n",
      "Vegetables, Other                  -0.0117      0.011     -1.067      0.289        -0.033     0.010\n",
      "Sesame seed                        -0.0549      0.041     -1.327      0.189        -0.137     0.028\n",
      "Wine                               -0.0073      0.019     -0.383      0.703        -0.045     0.031\n",
      "Apples and products                -0.0850      0.042     -2.042      0.045        -0.168    -0.002\n",
      "Rape and Mustard Oil               -0.0841      0.047     -1.772      0.081        -0.179     0.010\n",
      "Maize and products                  0.0304      0.007      4.193      0.000         0.016     0.045\n",
      "Groundnuts (Shelled Eq)             0.0887      0.085      1.043      0.301        -0.081     0.258\n",
      "Barley and products                 0.0063      0.027      0.234      0.815        -0.047     0.059\n",
      "Maize Germ Oil                     -0.0107      0.132     -0.081      0.936        -0.274     0.252\n",
      "Beer                                0.0096      0.014      0.693      0.490        -0.018     0.037\n",
      "Groundnut Oil                       0.1066      0.096      1.111      0.270        -0.085     0.298\n",
      "Pineapples and products             0.0086      0.057      0.151      0.881        -0.105     0.122\n",
      "Pulses, Other and products          0.1221      0.062      1.973      0.052        -0.001     0.245\n",
      "Sugar (Raw Equivalent)             -0.0076      0.060     -0.127      0.899        -0.127     0.111\n",
      "Palm Oil                            0.0167      0.044      0.383      0.703        -0.070     0.103\n",
      "Oilcrops, Other                     0.0612      0.046      1.337      0.185        -0.030     0.153\n",
      "Dates                               0.0533      0.030      1.756      0.083        -0.007     0.114\n",
      "Oats                               -0.0564      0.091     -0.618      0.539        -0.238     0.126\n",
      "Soyabeans                           0.0164      0.096      0.170      0.865        -0.175     0.208\n",
      "Beans                               0.1660      0.054      3.058      0.003         0.058     0.274\n",
      "Sesameseed Oil                      0.0771      0.043      1.793      0.077        -0.009     0.163\n",
      "Grapes and products (excl wine)     0.0197      0.027      0.740      0.462        -0.033     0.073\n",
      "Beverages, Fermented                0.0164      0.009      1.761      0.083        -0.002     0.035\n",
      "Potatoes and products               0.0291      0.010      2.814      0.006         0.008     0.050\n",
      "Cottonseed Oil                     -0.0161      0.040     -0.402      0.689        -0.096     0.064\n",
      "Onions                              0.0398      0.062      0.644      0.522        -0.083     0.163\n",
      "Coffee and products                -0.0350      0.178     -0.197      0.844        -0.389     0.319\n",
      "Roots, Other                        0.0308      0.013      2.436      0.017         0.006     0.056\n",
      "Infant food                        -0.0515      0.067     -0.769      0.444        -0.185     0.082\n",
      "Cereals, Other                      0.0612      0.034      1.800      0.076        -0.007     0.129\n",
      "Pepper                             -0.2326      0.159     -1.465      0.147        -0.549     0.084\n",
      "Peas                               -0.0183      0.069     -0.264      0.792        -0.156     0.120\n",
      "Nuts and products                   0.0302      0.142      0.213      0.832        -0.253     0.313\n",
      "Cocoa Beans and products            0.6232      0.596      1.046      0.299        -0.564     1.811\n",
      "Wheat and products                  0.0377      0.007      5.515      0.000         0.024     0.051\n",
      "Cassava and products                0.0122      0.004      2.744      0.008         0.003     0.021\n",
      "Sunflowerseed Oil                   0.1836      0.090      2.044      0.045         0.004     0.363\n",
      "Palmkernel Oil                     -0.0401      0.041     -0.980      0.330        -0.122     0.041\n",
      "Pimento                            -0.0074      0.082     -0.090      0.929        -0.172     0.157\n",
      "Fruits, Other                       0.0338      0.023      1.481      0.143        -0.012     0.079\n",
      "Citrus, Other                      -0.0364      0.061     -0.593      0.555        -0.159     0.086\n",
      "Lemons, Limes and products         -0.0498      0.085     -0.589      0.558        -0.218     0.119\n",
      "Tea (including mate)                0.0773      0.168      0.461      0.646        -0.257     0.412\n",
      "Soyabean Oil                        0.0661      0.087      0.758      0.451        -0.108     0.240\n",
      "Grapefruit and products             0.0235      0.039      0.598      0.552        -0.055     0.102\n",
      "Rye and products                    0.0206      0.035      0.583      0.562        -0.050     0.091\n",
      "Olive Oil                          -0.0525      0.135     -0.390      0.697        -0.321     0.216\n",
      "Coconut Oil                         0.0271      0.049      0.553      0.582        -0.071     0.125\n",
      "Tomatoes and products              -0.0136      0.026     -0.533      0.596        -0.065     0.037\n",
      "Oilcrops Oil, Other                 0.1112      0.070      1.590      0.116        -0.028     0.251\n",
      "Bananas                             0.0032      0.016      0.203      0.839        -0.028     0.035\n",
      "Spices, Other                       0.1376      0.245      0.561      0.576        -0.351     0.627\n",
      "Sweet potatoes                     -0.0125      0.016     -0.808      0.422        -0.043     0.018\n",
      "Oranges, Mandarines                -0.0630      0.035     -1.781      0.079        -0.134     0.008\n",
      "Rice (Milled Equivalent)            0.0549      0.007      7.883      0.000         0.041     0.069\n",
      "Butter, Ghee                        0.0152      0.159      0.096      0.924        -0.303     0.333\n",
      "Fats, Animals, Raw                 -0.0914      0.112     -0.814      0.418        -0.315     0.132\n",
      "Crustaceans                        -0.1459      0.170     -0.858      0.394        -0.485     0.193\n",
      "Marine Fish, Other                  0.0742      0.063      1.183      0.241        -0.051     0.199\n",
      "Aquatic Plants                      0.0971      0.092      1.056      0.295        -0.086     0.281\n",
      "Pigmeat                             0.0241      0.039      0.611      0.543        -0.055     0.103\n",
      "Freshwater Fish                    -0.0164      0.102     -0.160      0.873        -0.220     0.187\n",
      "Poultry Meat                       -0.0406      0.048     -0.851      0.397        -0.136     0.055\n",
      "Fish, Liver Oil                     0.1287      0.068      1.885      0.063        -0.007     0.265\n",
      "Meat, Other                         0.0478      0.065      0.740      0.462        -0.081     0.176\n",
      "Cephalopods                        -0.1996      0.146     -1.371      0.175        -0.490     0.091\n",
      "Mutton & Goat Meat                  0.1126      0.039      2.873      0.005         0.034     0.191\n",
      "Pelagic Fish                       -0.0463      0.039     -1.198      0.235        -0.123     0.031\n",
      "Bovine Meat                         0.0206      0.027      0.772      0.443        -0.033     0.074\n",
      "Molluscs, Other                    -0.0019      0.209     -0.009      0.993        -0.419     0.415\n",
      "Fish, Body Oil                      0.1156      0.093      1.237      0.220        -0.071     0.302\n",
      "Aquatic Animals, Others             0.0887      0.048      1.855      0.068        -0.007     0.184\n",
      "Honey                               0.0132      0.202      0.065      0.948        -0.389     0.415\n",
      "Offals, Edible                     -0.2435      0.135     -1.804      0.075        -0.513     0.026\n",
      "Demersal Fish                      -0.0200      0.059     -0.336      0.738        -0.138     0.098\n",
      "Cream                              -0.0442      0.084     -0.527      0.600        -0.212     0.123\n",
      "==============================================================================\n",
      "Omnibus:                        6.805   Durbin-Watson:                   2.080\n",
      "Prob(Omnibus):                  0.033   Jarque-Bera (JB):                7.451\n",
      "Skew:                           0.340   Prob(JB):                       0.0241\n",
      "Kurtosis:                       3.836   Cond. No.                         552.\n",
      "==============================================================================\n",
      "\n",
      "Warnings:\n",
      "[1] Standard Errors assume that the covariance matrix of the errors is correctly specified.\n"
     ]
    }
   ],
   "source": [
    "# Fit linear model with risk of death in 2000 as response variable\n",
    "risk_2000_model = sm.OLS(risk_of_death_2000.drop(countries_to_drop), food_1970_2000_cleaned)\n",
    "risk_2000_results = risk_2000_model.fit()\n",
    "print(risk_2000_results.summary())"
   ]
  },
  {
   "cell_type": "code",
   "execution_count": 93,
   "metadata": {
    "collapsed": false
   },
   "outputs": [
    {
     "data": {
      "image/png": "[encoded data removed]",
      "text/plain": [
       "<matplotlib.figure.Figure at 0xbfa3f60>"
      ]
     },
     "metadata": {},
     "output_type": "display_data"
    }
   ],
   "source": [
    "# Set p <= 0.1 to display borderline significant results as well\n",
    "plot_sig_coeffs(risk_2000_results, 0.1)"
   ]
  },
  {
   "cell_type": "markdown",
   "metadata": {},
   "source": [
    "### Interpretation\n",
    "### Statistical Issues\n",
    "From the summary of the fit, we see that multicollinearity is an issue as expected, so moving forward we will have to address that with variable selection- lasso regression will probably be a good way of dealing with that. Other standard regression diagnostics, such as checking for normality of residuals, homoskedasticity and nonlinearity should be performed as well when fine-tuning our eventual models.\n",
    "\n",
    "### Categorization Issues\n",
    "From the graph, it's apparent that an issue we have is the categorization of food items from the FAO database. For example, FAO has separate categories for raw animal fats and animal fats (which have opposite signs for coefficient estimates), which does not make a lot of sense since we are dealing with food for human consumption. Several other categories- vegetables as opposed to vegetables, other are problematic as well."
   ]
  },
  {
   "cell_type": "markdown",
   "metadata": {},
   "source": [
    "Let's fit linear models for the other response variables in the year 2000.\n",
    "\n",
    "## Deaths per 100k from All Causes as Response Variable"
   ]
  },
  {
   "cell_type": "code",
   "execution_count": 94,
   "metadata": {
    "collapsed": false
   },
   "outputs": [
    {
     "name": "stdout",
     "output_type": "stream",
     "text": [
      "                            OLS Regression Results                            \n",
      "==============================================================================\n",
      "Dep. Variable:                   2000   R-squared:                       0.977\n",
      "Model:                            OLS   Adj. R-squared:                  0.952\n",
      "Method:                 Least Squares   F-statistic:                     37.94\n",
      "Date:                Mon, 12 Dec 2016   Prob (F-statistic):           1.47e-38\n",
      "Time:                        11:46:57   Log-Likelihood:                -925.53\n",
      "No. Observations:                 154   AIC:                             2015.\n",
      "Df Residuals:                      72   BIC:                             2264.\n",
      "Df Model:                          82                                         \n",
      "Covariance Type:            nonrobust                                         \n",
      "===================================================================================================\n",
      "                                      coef    std err          t      P>|t|      [95.0% Conf. Int.]\n",
      "---------------------------------------------------------------------------------------------------\n",
      "Plantains                           0.1743      0.310      0.563      0.575        -0.443     0.792\n",
      "Sugar, Raw Equivalent               0.8744      1.690      0.517      0.606        -2.494     4.243\n",
      "Beverages, Alcoholic                1.3768      2.365      0.582      0.562        -3.338     6.092\n",
      "Olives (including preserved)       -2.6487      3.423     -0.774      0.442        -9.471     4.174\n",
      "Cloves                             -2.9039      2.300     -1.263      0.211        -7.488     1.680\n",
      "Coconuts - Incl Copra               0.1268      0.722      0.176      0.861        -1.313     1.567\n",
      "Vegetables, Other                  -0.3652      0.330     -1.107      0.272        -1.023     0.293\n",
      "Sesame seed                        -1.3210      1.248     -1.059      0.293        -3.808     1.166\n",
      "Wine                               -0.2335      0.577     -0.405      0.687        -1.383     0.916\n",
      "Apples and products                -2.5040      1.255     -1.995      0.050        -5.007    -0.001\n",
      "Rape and Mustard Oil               -2.2413      1.431     -1.566      0.122        -5.094     0.612\n",
      "Maize and products                  1.0132      0.219      4.637      0.000         0.578     1.449\n",
      "Groundnuts (Shelled Eq)             2.9821      2.568      1.161      0.249        -2.137     8.101\n",
      "Barley and products                 0.5843      0.805      0.726      0.470        -1.021     2.190\n",
      "Maize Germ Oil                     -1.5596      3.982     -0.392      0.696        -9.497     6.378\n",
      "Beer                                0.2117      0.417      0.507      0.614        -0.621     1.044\n",
      "Groundnut Oil                       1.9934      2.895      0.689      0.493        -3.778     7.765\n",
      "Pineapples and products             0.2864      1.717      0.167      0.868        -3.137     3.709\n",
      "Pulses, Other and products          4.7675      1.866      2.554      0.013         1.047     8.488\n",
      "Sugar (Raw Equivalent)             -0.6750      1.800     -0.375      0.709        -4.264     2.914\n",
      "Palm Oil                            0.9105      1.313      0.693      0.490        -1.708     3.529\n",
      "Oilcrops, Other                     1.8473      1.382      1.337      0.186        -0.908     4.602\n",
      "Dates                               1.7357      0.916      1.894      0.062        -0.091     3.563\n",
      "Oats                               -0.7043      2.755     -0.256      0.799        -6.197     4.788\n",
      "Soyabeans                           1.3657      2.902      0.471      0.639        -4.419     7.151\n",
      "Beans                               3.6919      1.638      2.254      0.027         0.427     6.957\n",
      "Sesameseed Oil                      3.1270      1.297      2.410      0.018         0.541     5.713\n",
      "Grapes and products (excl wine)     0.7713      0.804      0.960      0.340        -0.831     2.374\n",
      "Beverages, Fermented                0.5912      0.281      2.107      0.039         0.032     1.150\n",
      "Potatoes and products               1.0153      0.312      3.255      0.002         0.393     1.637\n",
      "Cottonseed Oil                     -0.5993      1.208     -0.496      0.621        -3.008     1.809\n",
      "Onions                              0.2496      1.864      0.134      0.894        -3.466     3.965\n",
      "Coffee and products                 0.7769      5.359      0.145      0.885        -9.907    11.460\n",
      "Roots, Other                        0.6224      0.382      1.630      0.107        -0.139     1.383\n",
      "Infant food                        -2.1106      2.021     -1.044      0.300        -6.139     1.918\n",
      "Cereals, Other                      1.9317      1.025      1.884      0.064        -0.112     3.975\n",
      "Pepper                             -7.1515      4.790     -1.493      0.140       -16.700     2.397\n",
      "Peas                               -1.8128      2.088     -0.868      0.388        -5.976     2.350\n",
      "Nuts and products                   4.6058      4.287      1.074      0.286        -3.939    13.151\n",
      "Cocoa Beans and products            5.1312     17.969      0.286      0.776       -30.689    40.951\n",
      "Wheat and products                  1.0563      0.206      5.122      0.000         0.645     1.467\n",
      "Cassava and products                0.3808      0.134      2.841      0.006         0.114     0.648\n",
      "Sunflowerseed Oil                   5.6739      2.710      2.094      0.040         0.272    11.076\n",
      "Palmkernel Oil                     -1.4190      1.234     -1.150      0.254        -3.879     1.041\n",
      "Pimento                             0.2363      2.488      0.095      0.925        -4.724     5.197\n",
      "Fruits, Other                       0.9517      0.688      1.382      0.171        -0.421     2.324\n",
      "Citrus, Other                      -0.6031      1.850     -0.326      0.745        -4.291     3.084\n",
      "Lemons, Limes and products         -1.1839      2.552     -0.464      0.644        -6.272     3.904\n",
      "Tea (including mate)                2.5400      5.059      0.502      0.617        -7.545    12.625\n",
      "Soyabean Oil                        0.7411      2.631      0.282      0.779        -4.505     5.987\n",
      "Grapefruit and products             1.0275      1.187      0.866      0.390        -1.339     3.394\n",
      "Rye and products                    0.1329      1.069      0.124      0.901        -1.997     2.263\n",
      "Olive Oil                          -2.1200      4.062     -0.522      0.603       -10.217     5.977\n",
      "Coconut Oil                        -0.2288      1.482     -0.154      0.878        -3.183     2.725\n",
      "Tomatoes and products              -0.3690      0.771     -0.478      0.634        -1.906     1.168\n",
      "Oilcrops Oil, Other                 2.1695      2.111      1.028      0.308        -2.039     6.378\n",
      "Bananas                            -0.0029      0.479     -0.006      0.995        -0.958     0.952\n",
      "Spices, Other                       1.2067      7.401      0.163      0.871       -13.546    15.960\n",
      "Sweet potatoes                     -0.4455      0.468     -0.952      0.344        -1.378     0.487\n",
      "Oranges, Mandarines                -1.5393      1.067     -1.442      0.154        -3.667     0.588\n",
      "Rice (Milled Equivalent)            1.5429      0.210      7.347      0.000         1.124     1.962\n",
      "Butter, Ghee                       -0.2204      4.809     -0.046      0.964        -9.807     9.366\n",
      "Fats, Animals, Raw                 -1.6861      3.388     -0.498      0.620        -8.440     5.068\n",
      "Crustaceans                        -3.4189      5.134     -0.666      0.508       -13.653     6.815\n",
      "Marine Fish, Other                  2.5661      1.892      1.357      0.179        -1.205     6.337\n",
      "Aquatic Plants                      5.0223      2.776      1.809      0.075        -0.511    10.555\n",
      "Pigmeat                             1.1296      1.190      0.949      0.346        -1.242     3.502\n",
      "Freshwater Fish                    -0.2712      3.079     -0.088      0.930        -6.410     5.867\n",
      "Poultry Meat                       -0.2676      1.440     -0.186      0.853        -3.138     2.603\n",
      "Fish, Liver Oil                     2.6692      2.059      1.296      0.199        -1.436     6.774\n",
      "Meat, Other                         1.2481      1.948      0.641      0.524        -2.635     5.131\n",
      "Cephalopods                        -8.5655      4.391     -1.951      0.055       -17.319     0.188\n",
      "Mutton & Goat Meat                  3.9126      1.182      3.310      0.001         1.556     6.269\n",
      "Pelagic Fish                       -1.1959      1.166     -1.026      0.308        -3.520     1.128\n",
      "Bovine Meat                         0.1855      0.805      0.231      0.818        -1.418     1.789\n",
      "Molluscs, Other                    -0.9371      6.308     -0.149      0.882       -13.511    11.637\n",
      "Fish, Body Oil                      3.4852      2.819      1.236      0.220        -2.134     9.105\n",
      "Aquatic Animals, Others             1.8769      1.443      1.301      0.197        -0.999     4.753\n",
      "Honey                               1.5577      6.088      0.256      0.799       -10.579    13.694\n",
      "Offals, Edible                     -6.8685      4.072     -1.687      0.096       -14.986     1.249\n",
      "Demersal Fish                      -0.2798      1.793     -0.156      0.876        -3.854     3.294\n",
      "Cream                              -1.4464      2.533     -0.571      0.570        -6.497     3.604\n",
      "==============================================================================\n",
      "Omnibus:                        6.610   Durbin-Watson:                   1.881\n",
      "Prob(Omnibus):                  0.037   Jarque-Bera (JB):                6.965\n",
      "Skew:                           0.350   Prob(JB):                       0.0307\n",
      "Kurtosis:                       3.772   Cond. No.                         552.\n",
      "==============================================================================\n",
      "\n",
      "Warnings:\n",
      "[1] Standard Errors assume that the covariance matrix of the errors is correctly specified.\n"
     ]
    }
   ],
   "source": [
    "deaths_100k_all_2000_model = sm.OLS(deaths_100k_all_2000.drop(countries_to_drop).sort_index(), food_1970_2000_cleaned.sort_index())\n",
    "deaths_100k_all_2000_results = deaths_100k_all_2000_model.fit()\n",
    "print(deaths_100k_all_2000_results.summary())"
   ]
  },
  {
   "cell_type": "code",
   "execution_count": 95,
   "metadata": {
    "collapsed": false
   },
   "outputs": [
    {
     "data": {
      "image/png": "[encoded data removed]",
      "text/plain": [
       "<matplotlib.figure.Figure at 0xcbdf048>"
      ]
     },
     "metadata": {},
     "output_type": "display_data"
    }
   ],
   "source": [
    "plot_sig_coeffs(deaths_100k_all_2000_results, 0.1)"
   ]
  },
  {
   "cell_type": "markdown",
   "metadata": {},
   "source": [
    "## Deaths per 100k from Cancer as Response Variable"
   ]
  },
  {
   "cell_type": "code",
   "execution_count": 96,
   "metadata": {
    "collapsed": false
   },
   "outputs": [
    {
     "name": "stdout",
     "output_type": "stream",
     "text": [
      "                            OLS Regression Results                            \n",
      "==============================================================================\n",
      "Dep. Variable:                   2000   R-squared:                       0.966\n",
      "Model:                            OLS   Adj. R-squared:                  0.927\n",
      "Method:                 Least Squares   F-statistic:                     24.92\n",
      "Date:                Mon, 12 Dec 2016   Prob (F-statistic):           2.27e-32\n",
      "Time:                        11:46:58   Log-Likelihood:                -703.75\n",
      "No. Observations:                 154   AIC:                             1571.\n",
      "Df Residuals:                      72   BIC:                             1821.\n",
      "Df Model:                          82                                         \n",
      "Covariance Type:            nonrobust                                         \n",
      "===================================================================================================\n",
      "                                      coef    std err          t      P>|t|      [95.0% Conf. Int.]\n",
      "---------------------------------------------------------------------------------------------------\n",
      "Plantains                          -0.0829      0.073     -1.129      0.263        -0.229     0.063\n",
      "Sugar, Raw Equivalent              -0.0169      0.400     -0.042      0.966        -0.815     0.781\n",
      "Beverages, Alcoholic                0.6239      0.560      1.113      0.269        -0.493     1.741\n",
      "Olives (including preserved)       -0.2751      0.811     -0.339      0.735        -1.891     1.341\n",
      "Cloves                             -0.8832      0.545     -1.621      0.109        -1.969     0.203\n",
      "Coconuts - Incl Copra              -0.0549      0.171     -0.321      0.749        -0.396     0.286\n",
      "Vegetables, Other                  -0.0510      0.078     -0.652      0.516        -0.207     0.105\n",
      "Sesame seed                        -0.3620      0.296     -1.225      0.225        -0.951     0.227\n",
      "Wine                                0.0080      0.137      0.058      0.954        -0.264     0.280\n",
      "Apples and products                 0.0877      0.297      0.295      0.769        -0.505     0.681\n",
      "Rape and Mustard Oil               -0.2483      0.339     -0.732      0.466        -0.924     0.428\n",
      "Maize and products                  0.2373      0.052      4.584      0.000         0.134     0.341\n",
      "Groundnuts (Shelled Eq)             0.8979      0.608      1.476      0.144        -0.315     2.111\n",
      "Barley and products                -0.0505      0.191     -0.265      0.792        -0.431     0.330\n",
      "Maize Germ Oil                      0.3006      0.943      0.319      0.751        -1.580     2.181\n",
      "Beer                               -0.0137      0.099     -0.139      0.890        -0.211     0.183\n",
      "Groundnut Oil                       0.4503      0.686      0.657      0.514        -0.917     1.818\n",
      "Pineapples and products            -0.1403      0.407     -0.345      0.731        -0.951     0.671\n",
      "Pulses, Other and products         -0.1624      0.442     -0.367      0.714        -1.044     0.719\n",
      "Sugar (Raw Equivalent)             -0.0026      0.426     -0.006      0.995        -0.853     0.848\n",
      "Palm Oil                            0.2117      0.311      0.681      0.498        -0.408     0.832\n",
      "Oilcrops, Other                     0.1333      0.327      0.407      0.685        -0.519     0.786\n",
      "Dates                              -0.4048      0.217     -1.865      0.066        -0.838     0.028\n",
      "Oats                               -0.6626      0.653     -1.015      0.313        -1.964     0.639\n",
      "Soyabeans                           0.1132      0.687      0.165      0.870        -1.257     1.484\n",
      "Beans                               0.5887      0.388      1.517      0.134        -0.185     1.362\n",
      "Sesameseed Oil                      0.1160      0.307      0.377      0.707        -0.497     0.729\n",
      "Grapes and products (excl wine)     0.2622      0.190      1.377      0.173        -0.117     0.642\n",
      "Beverages, Fermented                0.2133      0.066      3.210      0.002         0.081     0.346\n",
      "Potatoes and products               0.1514      0.074      2.049      0.044         0.004     0.299\n",
      "Cottonseed Oil                      0.3621      0.286      1.265      0.210        -0.209     0.933\n",
      "Onions                             -0.2265      0.442     -0.513      0.609        -1.107     0.654\n",
      "Coffee and products                 1.2219      1.270      0.962      0.339        -1.309     3.753\n",
      "Roots, Other                        0.0364      0.090      0.402      0.689        -0.144     0.217\n",
      "Infant food                         0.0431      0.479      0.090      0.928        -0.911     0.998\n",
      "Cereals, Other                      0.3242      0.243      1.335      0.186        -0.160     0.808\n",
      "Pepper                             -0.1580      1.135     -0.139      0.890        -2.420     2.104\n",
      "Peas                                0.7279      0.495      1.471      0.146        -0.258     1.714\n",
      "Nuts and products                  -0.8055      1.015     -0.793      0.430        -2.830     1.219\n",
      "Cocoa Beans and products            8.2601      4.257      1.940      0.056        -0.226    16.746\n",
      "Wheat and products                  0.2042      0.049      4.179      0.000         0.107     0.302\n",
      "Cassava and products                0.0271      0.032      0.853      0.396        -0.036     0.090\n",
      "Sunflowerseed Oil                  -0.7540      0.642     -1.174      0.244        -2.034     0.526\n",
      "Palmkernel Oil                     -0.5221      0.292     -1.786      0.078        -1.105     0.061\n",
      "Pimento                             0.8481      0.589      1.439      0.155        -0.327     2.023\n",
      "Fruits, Other                       0.0912      0.163      0.559      0.578        -0.234     0.416\n",
      "Citrus, Other                       0.2570      0.438      0.586      0.559        -0.617     1.131\n",
      "Lemons, Limes and products         -0.1909      0.605     -0.316      0.753        -1.396     1.014\n",
      "Tea (including mate)               -0.4950      1.198     -0.413      0.681        -2.884     1.894\n",
      "Soyabean Oil                       -0.4997      0.623     -0.802      0.425        -1.742     0.743\n",
      "Grapefruit and products            -0.3210      0.281     -1.141      0.257        -0.882     0.240\n",
      "Rye and products                   -0.0058      0.253     -0.023      0.982        -0.510     0.499\n",
      "Olive Oil                          -0.2939      0.962     -0.305      0.761        -2.212     1.624\n",
      "Coconut Oil                         0.0711      0.351      0.202      0.840        -0.629     0.771\n",
      "Tomatoes and products              -0.1744      0.183     -0.954      0.343        -0.539     0.190\n",
      "Oilcrops Oil, Other                -0.0619      0.500     -0.124      0.902        -1.059     0.935\n",
      "Bananas                             0.0886      0.114      0.780      0.438        -0.138     0.315\n",
      "Spices, Other                      -0.5864      1.753     -0.334      0.739        -4.081     2.909\n",
      "Sweet potatoes                      0.1292      0.111      1.165      0.248        -0.092     0.350\n",
      "Oranges, Mandarines                 0.3104      0.253      1.228      0.224        -0.194     0.814\n",
      "Rice (Milled Equivalent)            0.2796      0.050      5.620      0.000         0.180     0.379\n",
      "Butter, Ghee                       -0.0452      1.139     -0.040      0.968        -2.316     2.226\n",
      "Fats, Animals, Raw                  0.8700      0.803      1.084      0.282        -0.730     2.470\n",
      "Crustaceans                        -2.6719      1.216     -2.197      0.031        -5.096    -0.247\n",
      "Marine Fish, Other                  0.2739      0.448      0.611      0.543        -0.619     1.167\n",
      "Aquatic Plants                      0.5678      0.658      0.864      0.391        -0.743     1.879\n",
      "Pigmeat                            -0.1012      0.282     -0.359      0.721        -0.663     0.461\n",
      "Freshwater Fish                    -0.3688      0.729     -0.506      0.615        -1.823     1.085\n",
      "Poultry Meat                        0.2290      0.341      0.671      0.504        -0.451     0.909\n",
      "Fish, Liver Oil                    -0.3438      0.488     -0.705      0.483        -1.316     0.629\n",
      "Meat, Other                         1.2874      0.461      2.790      0.007         0.368     2.207\n",
      "Cephalopods                         0.5447      1.040      0.524      0.602        -1.529     2.618\n",
      "Mutton & Goat Meat                  0.8800      0.280      3.142      0.002         0.322     1.438\n",
      "Pelagic Fish                       -0.0889      0.276     -0.322      0.749        -0.640     0.462\n",
      "Bovine Meat                         0.0326      0.191      0.171      0.865        -0.347     0.413\n",
      "Molluscs, Other                    -0.1318      1.494     -0.088      0.930        -3.111     2.847\n",
      "Fish, Body Oil                      0.4551      0.668      0.681      0.498        -0.876     1.786\n",
      "Aquatic Animals, Others             0.1401      0.342      0.410      0.683        -0.541     0.822\n",
      "Honey                               1.3375      1.442      0.927      0.357        -1.538     4.213\n",
      "Offals, Edible                     -0.9886      0.965     -1.025      0.309        -2.912     0.934\n",
      "Demersal Fish                      -0.0377      0.425     -0.089      0.930        -0.884     0.809\n",
      "Cream                              -0.4470      0.600     -0.745      0.459        -1.643     0.749\n",
      "==============================================================================\n",
      "Omnibus:                       67.773   Durbin-Watson:                   1.985\n",
      "Prob(Omnibus):                  0.000   Jarque-Bera (JB):              376.921\n",
      "Skew:                           1.480   Prob(JB):                     1.42e-82\n",
      "Kurtosis:                      10.069   Cond. No.                         552.\n",
      "==============================================================================\n",
      "\n",
      "Warnings:\n",
      "[1] Standard Errors assume that the covariance matrix of the errors is correctly specified.\n"
     ]
    }
   ],
   "source": [
    "deaths_100k_cancer_2000_model = sm.OLS(deaths_100k_cancer_2000.drop(countries_to_drop).sort_index(), food_1970_2000_cleaned.sort_index())\n",
    "deaths_100k_cancer_2000_results = deaths_100k_cancer_2000_model.fit()\n",
    "print(deaths_100k_cancer_2000_results.summary())"
   ]
  },
  {
   "cell_type": "code",
   "execution_count": 97,
   "metadata": {
    "collapsed": false
   },
   "outputs": [
    {
     "data": {
      "image/png": "[encoded data removed]",
      "text/plain": [
       "<matplotlib.figure.Figure at 0x112fa208>"
      ]
     },
     "metadata": {},
     "output_type": "display_data"
    }
   ],
   "source": [
    "plot_sig_coeffs(deaths_100k_cancer_2000_results, 0.1)"
   ]
  },
  {
   "cell_type": "markdown",
   "metadata": {},
   "source": [
    "What is Paddy Equivalent rice? This is another categorization issue we may have to address."
   ]
  },
  {
   "cell_type": "markdown",
   "metadata": {},
   "source": [
    "## Deaths per 100k from Cardiovascular Disease as Response Variable"
   ]
  },
  {
   "cell_type": "code",
   "execution_count": 98,
   "metadata": {
    "collapsed": false
   },
   "outputs": [
    {
     "name": "stdout",
     "output_type": "stream",
     "text": [
      "                            OLS Regression Results                            \n",
      "==============================================================================\n",
      "Dep. Variable:                   2000   R-squared:                       0.973\n",
      "Model:                            OLS   Adj. R-squared:                  0.942\n",
      "Method:                 Least Squares   F-statistic:                     31.23\n",
      "Date:                Mon, 12 Dec 2016   Prob (F-statistic):           1.13e-35\n",
      "Time:                        11:46:58   Log-Likelihood:                -842.08\n",
      "No. Observations:                 154   AIC:                             1848.\n",
      "Df Residuals:                      72   BIC:                             2097.\n",
      "Df Model:                          82                                         \n",
      "Covariance Type:            nonrobust                                         \n",
      "===================================================================================================\n",
      "                                      coef    std err          t      P>|t|      [95.0% Conf. Int.]\n",
      "---------------------------------------------------------------------------------------------------\n",
      "Plantains                           0.1137      0.180      0.631      0.530        -0.246     0.473\n",
      "Sugar, Raw Equivalent               0.7705      0.983      0.784      0.436        -1.189     2.730\n",
      "Beverages, Alcoholic                0.8578      1.376      0.624      0.535        -1.885     3.601\n",
      "Olives (including preserved)       -2.4378      1.991     -1.225      0.225        -6.406     1.531\n",
      "Cloves                             -1.0266      1.338     -0.768      0.445        -3.693     1.640\n",
      "Coconuts - Incl Copra               0.4279      0.420      1.018      0.312        -0.410     1.266\n",
      "Vegetables, Other                  -0.1648      0.192     -0.859      0.393        -0.547     0.218\n",
      "Sesame seed                        -0.2047      0.726     -0.282      0.779        -1.651     1.242\n",
      "Wine                               -0.5067      0.335     -1.510      0.135        -1.175     0.162\n",
      "Apples and products                -1.0740      0.730     -1.471      0.146        -2.530     0.382\n",
      "Rape and Mustard Oil               -1.3177      0.832     -1.583      0.118        -2.977     0.342\n",
      "Maize and products                  0.3517      0.127      2.767      0.007         0.098     0.605\n",
      "Groundnuts (Shelled Eq)             1.2518      1.494      0.838      0.405        -1.726     4.229\n",
      "Barley and products                 0.0007      0.468      0.002      0.999        -0.933     0.935\n",
      "Maize Germ Oil                     -0.1303      2.316     -0.056      0.955        -4.747     4.487\n",
      "Beer                               -0.1527      0.243     -0.629      0.531        -0.637     0.331\n",
      "Groundnut Oil                       0.6487      1.684      0.385      0.701        -2.708     4.006\n",
      "Pineapples and products             0.9243      0.999      0.925      0.358        -1.067     2.915\n",
      "Pulses, Other and products          1.7361      1.086      1.599      0.114        -0.428     3.900\n",
      "Sugar (Raw Equivalent)             -0.5654      1.047     -0.540      0.591        -2.653     1.522\n",
      "Palm Oil                            0.2645      0.764      0.346      0.730        -1.258     1.787\n",
      "Oilcrops, Other                     1.1282      0.804      1.403      0.165        -0.474     2.731\n",
      "Dates                               1.3595      0.533      2.550      0.013         0.297     2.422\n",
      "Oats                               -0.1663      1.603     -0.104      0.918        -3.361     3.028\n",
      "Soyabeans                           0.5803      1.688      0.344      0.732        -2.785     3.945\n",
      "Beans                               1.9450      0.953      2.042      0.045         0.046     3.844\n",
      "Sesameseed Oil                      2.2700      0.755      3.008      0.004         0.766     3.774\n",
      "Grapes and products (excl wine)     0.2647      0.468      0.566      0.573        -0.667     1.197\n",
      "Beverages, Fermented                0.0750      0.163      0.460      0.647        -0.250     0.400\n",
      "Potatoes and products               0.5482      0.181      3.021      0.003         0.186     0.910\n",
      "Cottonseed Oil                     -0.6657      0.703     -0.947      0.347        -2.067     0.735\n",
      "Onions                              0.7190      1.084      0.663      0.509        -1.442     2.880\n",
      "Coffee and products                -0.1069      3.117     -0.034      0.973        -6.321     6.107\n",
      "Roots, Other                        0.4466      0.222      2.011      0.048         0.004     0.889\n",
      "Infant food                        -0.9105      1.176     -0.775      0.441        -3.254     1.433\n",
      "Cereals, Other                      0.6028      0.596      1.011      0.315        -0.586     1.792\n",
      "Pepper                             -1.8461      2.786     -0.663      0.510        -7.400     3.708\n",
      "Peas                               -1.3927      1.215     -1.147      0.255        -3.814     1.029\n",
      "Nuts and products                   2.9380      2.493      1.178      0.243        -2.032     7.908\n",
      "Cocoa Beans and products            3.0139     10.452      0.288      0.774       -17.821    23.849\n",
      "Wheat and products                  0.6699      0.120      5.585      0.000         0.431     0.909\n",
      "Cassava and products                0.2099      0.078      2.692      0.009         0.054     0.365\n",
      "Sunflowerseed Oil                   3.4897      1.576      2.214      0.030         0.347     6.632\n",
      "Palmkernel Oil                      0.2636      0.718      0.367      0.714        -1.167     1.694\n",
      "Pimento                            -1.8746      1.447     -1.295      0.199        -4.760     1.011\n",
      "Fruits, Other                       0.5438      0.400      1.358      0.179        -0.254     1.342\n",
      "Citrus, Other                      -0.6844      1.076     -0.636      0.527        -2.829     1.460\n",
      "Lemons, Limes and products         -0.8281      1.485     -0.558      0.579        -3.787     2.131\n",
      "Tea (including mate)                3.6435      2.943      1.238      0.220        -2.222     9.509\n",
      "Soyabean Oil                       -0.4631      1.531     -0.303      0.763        -3.514     2.588\n",
      "Grapefruit and products             0.8358      0.690      1.211      0.230        -0.541     2.212\n",
      "Rye and products                    0.0768      0.622      0.124      0.902        -1.162     1.316\n",
      "Olive Oil                          -1.4876      2.363     -0.630      0.531        -6.197     3.222\n",
      "Coconut Oil                         0.3704      0.862      0.430      0.669        -1.348     2.089\n",
      "Tomatoes and products               0.0128      0.449      0.029      0.977        -0.881     0.907\n",
      "Oilcrops Oil, Other                 1.3198      1.228      1.075      0.286        -1.128     3.768\n",
      "Bananas                             0.1151      0.279      0.413      0.681        -0.441     0.671\n",
      "Spices, Other                      -0.2313      4.305     -0.054      0.957        -8.813     8.350\n",
      "Sweet potatoes                     -0.3141      0.272     -1.154      0.252        -0.857     0.229\n",
      "Oranges, Mandarines                -1.5546      0.621     -2.504      0.015        -2.792    -0.317\n",
      "Rice (Milled Equivalent)            0.5765      0.122      4.720      0.000         0.333     0.820\n",
      "Butter, Ghee                       -0.2122      2.797     -0.076      0.940        -5.788     5.364\n",
      "Fats, Animals, Raw                 -0.6754      1.971     -0.343      0.733        -4.604     3.253\n",
      "Crustaceans                        -1.8724      2.986     -0.627      0.533        -7.825     4.080\n",
      "Marine Fish, Other                  1.4827      1.100      1.348      0.182        -0.711     3.676\n",
      "Aquatic Plants                      1.4625      1.614      0.906      0.368        -1.756     4.681\n",
      "Pigmeat                             0.8609      0.692      1.244      0.218        -0.519     2.241\n",
      "Freshwater Fish                     0.5365      1.791      0.300      0.765        -3.034     4.107\n",
      "Poultry Meat                       -0.2312      0.838     -0.276      0.783        -1.901     1.439\n",
      "Fish, Liver Oil                     2.8455      1.198      2.376      0.020         0.458     5.233\n",
      "Meat, Other                         0.2105      1.133      0.186      0.853        -2.048     2.469\n",
      "Cephalopods                        -3.4360      2.554     -1.345      0.183        -8.528     1.656\n",
      "Mutton & Goat Meat                  1.9926      0.688      2.898      0.005         0.622     3.363\n",
      "Pelagic Fish                       -0.8537      0.678     -1.259      0.212        -2.206     0.498\n",
      "Bovine Meat                        -0.2003      0.468     -0.428      0.670        -1.133     0.733\n",
      "Molluscs, Other                    -0.6725      3.669     -0.183      0.855        -7.987     6.642\n",
      "Fish, Body Oil                      1.1609      1.640      0.708      0.481        -2.108     4.430\n",
      "Aquatic Animals, Others             0.6394      0.839      0.762      0.449        -1.034     2.313\n",
      "Honey                              -0.9101      3.541     -0.257      0.798        -7.969     6.149\n",
      "Offals, Edible                     -3.9004      2.369     -1.647      0.104        -8.622     0.821\n",
      "Demersal Fish                       0.0425      1.043      0.041      0.968        -2.036     2.121\n",
      "Cream                              -0.7085      1.474     -0.481      0.632        -3.646     2.229\n",
      "==============================================================================\n",
      "Omnibus:                        0.509   Durbin-Watson:                   2.054\n",
      "Prob(Omnibus):                  0.775   Jarque-Bera (JB):                0.646\n",
      "Skew:                           0.051   Prob(JB):                        0.724\n",
      "Kurtosis:                       2.699   Cond. No.                         552.\n",
      "==============================================================================\n",
      "\n",
      "Warnings:\n",
      "[1] Standard Errors assume that the covariance matrix of the errors is correctly specified.\n"
     ]
    }
   ],
   "source": [
    "deaths_100k_cardio_2000_model = sm.OLS(deaths_100k_cardio_2000.drop(countries_to_drop).sort_index(), food_1970_2000_cleaned.sort_index())\n",
    "deaths_100k_cardio_2000_results = deaths_100k_cardio_2000_model.fit()\n",
    "print(deaths_100k_cardio_2000_results.summary())"
   ]
  },
  {
   "cell_type": "code",
   "execution_count": 99,
   "metadata": {
    "collapsed": false
   },
   "outputs": [
    {
     "data": {
      "image/png": "[encoded data removed]",
      "text/plain": [
       "<matplotlib.figure.Figure at 0xd8ed358>"
      ]
     },
     "metadata": {},
     "output_type": "display_data"
    }
   ],
   "source": [
    "plot_sig_coeffs(deaths_100k_cardio_2000_results, 0.1)"
   ]
  },
  {
   "cell_type": "markdown",
   "metadata": {},
   "source": [
    "## Deaths per 100k from Diabetes as Response Variable"
   ]
  },
  {
   "cell_type": "code",
   "execution_count": 100,
   "metadata": {
    "collapsed": false
   },
   "outputs": [
    {
     "name": "stdout",
     "output_type": "stream",
     "text": [
      "                            OLS Regression Results                            \n",
      "==============================================================================\n",
      "Dep. Variable:                   2000   R-squared:                       0.890\n",
      "Model:                            OLS   Adj. R-squared:                  0.764\n",
      "Method:                 Least Squares   F-statistic:                     7.079\n",
      "Date:                Mon, 12 Dec 2016   Prob (F-statistic):           2.31e-15\n",
      "Time:                        11:46:59   Log-Likelihood:                -620.18\n",
      "No. Observations:                 154   AIC:                             1404.\n",
      "Df Residuals:                      72   BIC:                             1653.\n",
      "Df Model:                          82                                         \n",
      "Covariance Type:            nonrobust                                         \n",
      "===================================================================================================\n",
      "                                      coef    std err          t      P>|t|      [95.0% Conf. Int.]\n",
      "---------------------------------------------------------------------------------------------------\n",
      "Plantains                           0.0139      0.043      0.325      0.746        -0.071     0.099\n",
      "Sugar, Raw Equivalent              -0.0969      0.233     -0.417      0.678        -0.561     0.367\n",
      "Beverages, Alcoholic                0.3814      0.326      1.171      0.245        -0.268     1.031\n",
      "Olives (including preserved)       -0.4707      0.471     -0.999      0.321        -1.410     0.469\n",
      "Cloves                             -0.0108      0.317     -0.034      0.973        -0.642     0.620\n",
      "Coconuts - Incl Copra               0.0509      0.099      0.512      0.610        -0.147     0.249\n",
      "Vegetables, Other                  -0.0210      0.045     -0.463      0.645        -0.112     0.070\n",
      "Sesame seed                        -0.2825      0.172     -1.645      0.104        -0.625     0.060\n",
      "Wine                                0.1409      0.079      1.774      0.080        -0.017     0.299\n",
      "Apples and products                -0.5070      0.173     -2.933      0.004        -0.852    -0.162\n",
      "Rape and Mustard Oil               -0.0044      0.197     -0.023      0.982        -0.397     0.388\n",
      "Maize and products                  0.0533      0.030      1.772      0.081        -0.007     0.113\n",
      "Groundnuts (Shelled Eq)             0.0311      0.354      0.088      0.930        -0.674     0.736\n",
      "Barley and products                 0.3091      0.111      2.788      0.007         0.088     0.530\n",
      "Maize Germ Oil                     -0.0390      0.548     -0.071      0.944        -1.132     1.054\n",
      "Beer                                0.1316      0.057      2.289      0.025         0.017     0.246\n",
      "Groundnut Oil                       0.2086      0.399      0.523      0.602        -0.586     1.003\n",
      "Pineapples and products            -0.2064      0.236     -0.873      0.386        -0.678     0.265\n",
      "Pulses, Other and products          0.2053      0.257      0.799      0.427        -0.307     0.718\n",
      "Sugar (Raw Equivalent)              0.3442      0.248      1.389      0.169        -0.150     0.838\n",
      "Palm Oil                            0.0606      0.181      0.335      0.738        -0.300     0.421\n",
      "Oilcrops, Other                     0.0349      0.190      0.183      0.855        -0.344     0.414\n",
      "Dates                               0.2745      0.126      2.176      0.033         0.023     0.526\n",
      "Oats                                0.2915      0.379      0.769      0.445        -0.465     1.048\n",
      "Soyabeans                          -0.4617      0.400     -1.156      0.252        -1.258     0.335\n",
      "Beans                               0.0244      0.226      0.108      0.914        -0.425     0.474\n",
      "Sesameseed Oil                      0.0545      0.179      0.305      0.761        -0.302     0.411\n",
      "Grapes and products (excl wine)     0.1662      0.111      1.501      0.138        -0.054     0.387\n",
      "Beverages, Fermented                0.0464      0.039      1.201      0.234        -0.031     0.123\n",
      "Potatoes and products              -0.0222      0.043     -0.517      0.607        -0.108     0.063\n",
      "Cottonseed Oil                     -0.2628      0.166     -1.580      0.119        -0.594     0.069\n",
      "Onions                              0.2228      0.257      0.868      0.388        -0.289     0.734\n",
      "Coffee and products                -0.2451      0.738     -0.332      0.741        -1.716     1.226\n",
      "Roots, Other                        0.0332      0.053      0.631      0.530        -0.072     0.138\n",
      "Infant food                        -0.3458      0.278     -1.243      0.218        -0.900     0.209\n",
      "Cereals, Other                      0.1342      0.141      0.951      0.345        -0.147     0.416\n",
      "Pepper                             -0.5874      0.659     -0.891      0.376        -1.902     0.727\n",
      "Peas                               -0.4914      0.288     -1.709      0.092        -1.065     0.082\n",
      "Nuts and products                   0.3279      0.590      0.556      0.580        -0.849     1.504\n",
      "Cocoa Beans and products           -1.0026      2.474     -0.405      0.686        -5.934     3.929\n",
      "Wheat and products                  0.0247      0.028      0.871      0.387        -0.032     0.081\n",
      "Cassava and products                0.0372      0.018      2.017      0.047         0.000     0.074\n",
      "Sunflowerseed Oil                   0.7955      0.373      2.132      0.036         0.052     1.539\n",
      "Palmkernel Oil                     -0.2911      0.170     -1.713      0.091        -0.630     0.048\n",
      "Pimento                            -0.0951      0.343     -0.278      0.782        -0.778     0.588\n",
      "Fruits, Other                       0.1647      0.095      1.737      0.087        -0.024     0.354\n",
      "Citrus, Other                      -0.1438      0.255     -0.564      0.574        -0.651     0.364\n",
      "Lemons, Limes and products         -0.1669      0.351     -0.475      0.636        -0.867     0.534\n",
      "Tea (including mate)                0.2680      0.697      0.385      0.702        -1.120     1.656\n",
      "Soyabean Oil                        1.2274      0.362      3.388      0.001         0.505     1.950\n",
      "Grapefruit and products             0.1090      0.163      0.667      0.507        -0.217     0.435\n",
      "Rye and products                    0.3071      0.147      2.087      0.040         0.014     0.600\n",
      "Olive Oil                           0.5378      0.559      0.962      0.339        -0.577     1.653\n",
      "Coconut Oil                        -0.0680      0.204     -0.333      0.740        -0.475     0.339\n",
      "Tomatoes and products              -0.1714      0.106     -1.615      0.111        -0.383     0.040\n",
      "Oilcrops Oil, Other                 0.4263      0.291      1.467      0.147        -0.153     1.006\n",
      "Bananas                            -0.0745      0.066     -1.129      0.263        -0.206     0.057\n",
      "Spices, Other                       0.5352      1.019      0.525      0.601        -1.496     2.566\n",
      "Sweet potatoes                     -0.0334      0.064     -0.519      0.606        -0.162     0.095\n",
      "Oranges, Mandarines                -0.1458      0.147     -0.992      0.325        -0.439     0.147\n",
      "Rice (Milled Equivalent)            0.0858      0.029      2.969      0.004         0.028     0.143\n",
      "Butter, Ghee                       -0.4246      0.662     -0.641      0.523        -1.744     0.895\n",
      "Fats, Animals, Raw                  0.0156      0.466      0.033      0.973        -0.914     0.946\n",
      "Crustaceans                         0.3606      0.707      0.510      0.611        -1.048     1.770\n",
      "Marine Fish, Other                  0.1185      0.260      0.455      0.651        -0.401     0.638\n",
      "Aquatic Plants                      0.2721      0.382      0.712      0.479        -0.490     1.034\n",
      "Pigmeat                            -0.2179      0.164     -1.330      0.188        -0.544     0.109\n",
      "Freshwater Fish                    -0.2645      0.424     -0.624      0.535        -1.110     0.581\n",
      "Poultry Meat                       -0.1078      0.198     -0.544      0.588        -0.503     0.287\n",
      "Fish, Liver Oil                     0.2980      0.284      1.051      0.297        -0.267     0.863\n",
      "Meat, Other                        -0.3060      0.268     -1.141      0.258        -0.841     0.229\n",
      "Cephalopods                        -0.4626      0.605     -0.765      0.447        -1.668     0.743\n",
      "Mutton & Goat Meat                  0.0499      0.163      0.306      0.760        -0.275     0.374\n",
      "Pelagic Fish                       -0.1356      0.161     -0.845      0.401        -0.456     0.184\n",
      "Bovine Meat                        -0.0358      0.111     -0.323      0.748        -0.257     0.185\n",
      "Molluscs, Other                     0.2669      0.868      0.307      0.760        -1.464     1.998\n",
      "Fish, Body Oil                     -0.3700      0.388     -0.953      0.344        -1.144     0.404\n",
      "Aquatic Animals, Others             0.3160      0.199      1.591      0.116        -0.080     0.712\n",
      "Honey                               0.2618      0.838      0.312      0.756        -1.409     1.933\n",
      "Offals, Edible                      0.1569      0.561      0.280      0.780        -0.961     1.275\n",
      "Demersal Fish                      -0.1857      0.247     -0.752      0.454        -0.678     0.306\n",
      "Cream                              -0.0017      0.349     -0.005      0.996        -0.697     0.694\n",
      "==============================================================================\n",
      "Omnibus:                       18.686   Durbin-Watson:                   1.840\n",
      "Prob(Omnibus):                  0.000   Jarque-Bera (JB):               29.667\n",
      "Skew:                           0.630   Prob(JB):                     3.61e-07\n",
      "Kurtosis:                       4.742   Cond. No.                         552.\n",
      "==============================================================================\n",
      "\n",
      "Warnings:\n",
      "[1] Standard Errors assume that the covariance matrix of the errors is correctly specified.\n"
     ]
    }
   ],
   "source": [
    "deaths_100k_diabetes_2000_model = sm.OLS(deaths_100k_diabetes_2000.drop(countries_to_drop).sort_index(), food_1970_2000_cleaned.sort_index())\n",
    "deaths_100k_diabetes_2000_results = deaths_100k_diabetes_2000_model.fit()\n",
    "print(deaths_100k_diabetes_2000_results.summary())"
   ]
  },
  {
   "cell_type": "code",
   "execution_count": 101,
   "metadata": {
    "collapsed": false
   },
   "outputs": [
    {
     "data": {
      "image/png": "[encoded data removed]",
      "text/plain": [
       "<matplotlib.figure.Figure at 0x1166aef0>"
      ]
     },
     "metadata": {},
     "output_type": "display_data"
    }
   ],
   "source": [
    "plot_sig_coeffs(deaths_100k_diabetes_2000_results, 0.1)"
   ]
  },
  {
   "cell_type": "markdown",
   "metadata": {},
   "source": [
    "## Deaths per 100k from Respiratory Disease as Response Variable"
   ]
  },
  {
   "cell_type": "code",
   "execution_count": 102,
   "metadata": {
    "collapsed": false
   },
   "outputs": [
    {
     "name": "stdout",
     "output_type": "stream",
     "text": [
      "                            OLS Regression Results                            \n",
      "==============================================================================\n",
      "Dep. Variable:                   2000   R-squared:                       0.904\n",
      "Model:                            OLS   Adj. R-squared:                  0.794\n",
      "Method:                 Least Squares   F-statistic:                     8.246\n",
      "Date:                Mon, 12 Dec 2016   Prob (F-statistic):           3.08e-17\n",
      "Time:                        11:46:59   Log-Likelihood:                -665.61\n",
      "No. Observations:                 154   AIC:                             1495.\n",
      "Df Residuals:                      72   BIC:                             1744.\n",
      "Df Model:                          82                                         \n",
      "Covariance Type:            nonrobust                                         \n",
      "===================================================================================================\n",
      "                                      coef    std err          t      P>|t|      [95.0% Conf. Int.]\n",
      "---------------------------------------------------------------------------------------------------\n",
      "Plantains                           0.0220      0.057      0.385      0.702        -0.092     0.136\n",
      "Sugar, Raw Equivalent               0.5098      0.312      1.631      0.107        -0.113     1.133\n",
      "Beverages, Alcoholic                0.4036      0.437      0.923      0.359        -0.468     1.276\n",
      "Olives (including preserved)        0.7184      0.633      1.135      0.260        -0.543     1.980\n",
      "Cloves                             -0.1498      0.425     -0.352      0.726        -0.998     0.698\n",
      "Coconuts - Incl Copra              -0.0185      0.134     -0.139      0.890        -0.285     0.248\n",
      "Vegetables, Other                   0.0271      0.061      0.445      0.658        -0.094     0.149\n",
      "Sesame seed                        -0.1351      0.231     -0.586      0.560        -0.595     0.325\n",
      "Wine                                0.0602      0.107      0.564      0.574        -0.152     0.273\n",
      "Apples and products                -0.1333      0.232     -0.574      0.568        -0.596     0.330\n",
      "Rape and Mustard Oil               -0.3880      0.265     -1.466      0.147        -0.916     0.140\n",
      "Maize and products                  0.1218      0.040      3.013      0.004         0.041     0.202\n",
      "Groundnuts (Shelled Eq)             0.3357      0.475      0.707      0.482        -0.611     1.282\n",
      "Barley and products                -0.0294      0.149     -0.197      0.844        -0.326     0.268\n",
      "Maize Germ Oil                     -0.0250      0.736     -0.034      0.973        -1.493     1.443\n",
      "Beer                                0.1415      0.077      1.833      0.071        -0.012     0.295\n",
      "Groundnut Oil                       0.3681      0.535      0.687      0.494        -0.699     1.435\n",
      "Pineapples and products            -0.0937      0.318     -0.295      0.769        -0.727     0.539\n",
      "Pulses, Other and products          1.0914      0.345      3.162      0.002         0.403     1.779\n",
      "Sugar (Raw Equivalent)             -0.6782      0.333     -2.037      0.045        -1.342    -0.015\n",
      "Palm Oil                            0.0805      0.243      0.331      0.741        -0.404     0.565\n",
      "Oilcrops, Other                     0.2184      0.256      0.855      0.396        -0.291     0.728\n",
      "Dates                              -0.0486      0.169     -0.287      0.775        -0.386     0.289\n",
      "Oats                               -0.5588      0.510     -1.097      0.276        -1.575     0.457\n",
      "Soyabeans                          -0.0089      0.537     -0.017      0.987        -1.079     1.061\n",
      "Beans                               0.1968      0.303      0.650      0.518        -0.407     0.801\n",
      "Sesameseed Oil                     -0.0619      0.240     -0.258      0.797        -0.540     0.416\n",
      "Grapes and products (excl wine)    -0.0027      0.149     -0.018      0.986        -0.299     0.294\n",
      "Beverages, Fermented                0.0120      0.052      0.231      0.818        -0.091     0.115\n",
      "Potatoes and products               0.1098      0.058      1.903      0.061        -0.005     0.225\n",
      "Cottonseed Oil                     -0.1616      0.223     -0.723      0.472        -0.607     0.284\n",
      "Onions                             -0.2223      0.345     -0.645      0.521        -0.909     0.465\n",
      "Coffee and products                -0.9698      0.991     -0.978      0.331        -2.945     1.006\n",
      "Roots, Other                        0.1193      0.071      1.690      0.095        -0.021     0.260\n",
      "Infant food                        -0.4182      0.374     -1.119      0.267        -1.163     0.327\n",
      "Cereals, Other                      0.4064      0.190      2.143      0.035         0.028     0.784\n",
      "Pepper                             -2.5299      0.886     -2.856      0.006        -4.296    -0.764\n",
      "Peas                               -0.3089      0.386     -0.800      0.426        -1.079     0.461\n",
      "Nuts and products                  -0.7372      0.793     -0.930      0.356        -2.317     0.843\n",
      "Cocoa Beans and products           -5.5154      3.323     -1.660      0.101       -12.140     1.109\n",
      "Wheat and products                  0.0490      0.038      1.286      0.203        -0.027     0.125\n",
      "Cassava and products                0.0247      0.025      0.996      0.323        -0.025     0.074\n",
      "Sunflowerseed Oil                   0.8303      0.501      1.657      0.102        -0.169     1.829\n",
      "Palmkernel Oil                     -0.0448      0.228     -0.196      0.845        -0.500     0.410\n",
      "Pimento                             0.0619      0.460      0.134      0.893        -0.855     0.979\n",
      "Fruits, Other                      -0.0168      0.127     -0.132      0.895        -0.271     0.237\n",
      "Citrus, Other                      -0.4385      0.342     -1.282      0.204        -1.120     0.243\n",
      "Lemons, Limes and products          0.1056      0.472      0.224      0.824        -0.835     1.046\n",
      "Tea (including mate)                0.0587      0.936      0.063      0.950        -1.806     1.924\n",
      "Soyabean Oil                        0.4721      0.487      0.970      0.335        -0.498     1.442\n",
      "Grapefruit and products             0.1125      0.220      0.513      0.610        -0.325     0.550\n",
      "Rye and products                   -0.0927      0.198     -0.469      0.641        -0.487     0.301\n",
      "Olive Oil                           0.1111      0.751      0.148      0.883        -1.386     1.608\n",
      "Coconut Oil                        -0.1037      0.274     -0.379      0.706        -0.650     0.443\n",
      "Tomatoes and products               0.0253      0.143      0.178      0.860        -0.259     0.310\n",
      "Oilcrops Oil, Other                 0.4228      0.390      1.083      0.282        -0.355     1.201\n",
      "Bananas                            -0.0086      0.089     -0.097      0.923        -0.185     0.168\n",
      "Spices, Other                       1.2539      1.369      0.916      0.363        -1.474     3.982\n",
      "Sweet potatoes                      0.0561      0.087      0.648      0.519        -0.116     0.229\n",
      "Oranges, Mandarines                 0.0367      0.197      0.186      0.853        -0.357     0.430\n",
      "Rice (Milled Equivalent)            0.2657      0.039      6.843      0.000         0.188     0.343\n",
      "Butter, Ghee                        0.7593      0.889      0.854      0.396        -1.013     2.532\n",
      "Fats, Animals, Raw                 -1.2667      0.627     -2.022      0.047        -2.516    -0.018\n",
      "Crustaceans                         1.6695      0.949      1.759      0.083        -0.223     3.562\n",
      "Marine Fish, Other                 -0.0495      0.350     -0.142      0.888        -0.747     0.648\n",
      "Aquatic Plants                      0.4813      0.513      0.938      0.352        -0.542     1.505\n",
      "Pigmeat                             0.1821      0.220      0.827      0.411        -0.257     0.621\n",
      "Freshwater Fish                    -0.8434      0.569     -1.481      0.143        -1.979     0.292\n",
      "Poultry Meat                       -0.1788      0.266     -0.671      0.504        -0.710     0.352\n",
      "Fish, Liver Oil                    -0.0964      0.381     -0.253      0.801        -0.856     0.663\n",
      "Meat, Other                         0.1377      0.360      0.382      0.703        -0.580     0.856\n",
      "Cephalopods                        -1.8319      0.812     -2.256      0.027        -3.451    -0.213\n",
      "Mutton & Goat Meat                  0.2470      0.219      1.130      0.262        -0.189     0.683\n",
      "Pelagic Fish                       -0.2158      0.216     -1.001      0.320        -0.646     0.214\n",
      "Bovine Meat                         0.0159      0.149      0.107      0.915        -0.281     0.313\n",
      "Molluscs, Other                    -0.3687      1.167     -0.316      0.753        -2.694     1.957\n",
      "Fish, Body Oil                      1.1491      0.521      2.204      0.031         0.110     2.188\n",
      "Aquatic Animals, Others             0.4117      0.267      1.543      0.127        -0.120     0.944\n",
      "Honey                              -0.5306      1.126     -0.471      0.639        -2.775     1.714\n",
      "Offals, Edible                     -0.9295      0.753     -1.234      0.221        -2.431     0.572\n",
      "Demersal Fish                      -0.1146      0.332     -0.346      0.731        -0.776     0.546\n",
      "Cream                               0.7754      0.469      1.655      0.102        -0.159     1.709\n",
      "==============================================================================\n",
      "Omnibus:                       34.949   Durbin-Watson:                   2.129\n",
      "Prob(Omnibus):                  0.000   Jarque-Bera (JB):               72.872\n",
      "Skew:                           0.998   Prob(JB):                     1.50e-16\n",
      "Kurtosis:                       5.715   Cond. No.                         552.\n",
      "==============================================================================\n",
      "\n",
      "Warnings:\n",
      "[1] Standard Errors assume that the covariance matrix of the errors is correctly specified.\n"
     ]
    }
   ],
   "source": [
    "deaths_100k_resp_2000_model = sm.OLS(deaths_100k_resp_2000.drop(countries_to_drop).sort_index(), food_1970_2000_cleaned.sort_index())\n",
    "deaths_100k_resp_2000_results = deaths_100k_resp_2000_model.fit()\n",
    "print(deaths_100k_resp_2000_results.summary())"
   ]
  },
  {
   "cell_type": "code",
   "execution_count": 103,
   "metadata": {
    "collapsed": false
   },
   "outputs": [
    {
     "data": {
      "image/png": "[encoded data removed]",
      "text/plain": [
       "<matplotlib.figure.Figure at 0xcd72978>"
      ]
     },
     "metadata": {},
     "output_type": "display_data"
    }
   ],
   "source": [
    "plot_sig_coeffs(deaths_100k_resp_2000_results, 0.1)"
   ]
  },
  {
   "cell_type": "markdown",
   "metadata": {},
   "source": [
    "# III. Lasso Regression"
   ]
  },
  {
   "cell_type": "markdown",
   "metadata": {},
   "source": [
    "## Risk of Death in 2000 as Response Variable"
   ]
  },
  {
   "cell_type": "markdown",
   "metadata": {},
   "source": [
    "We use `sklearn`'s `GridSearchCV` function to find the best hyperparameter ($\\alpha$) value."
   ]
  },
  {
   "cell_type": "code",
   "execution_count": 104,
   "metadata": {
    "collapsed": false
   },
   "outputs": [
    {
     "data": {
      "text/plain": [
       "{'alpha': 5.6, 'fit_intercept': True, 'normalize': False}"
      ]
     },
     "execution_count": 104,
     "metadata": {},
     "output_type": "execute_result"
    }
   ],
   "source": [
    "lasso = linear_model.Lasso(alpha = 1.0)\n",
    "X = food_1970_2000_cleaned.values\n",
    "y_death_lasso = risk_of_death_2000.drop(countries_to_drop).values\n",
    "lasso.fit(X, y_death_lasso)\n",
    "lasso.score(X, y_death_lasso)\n",
    "lasso.coef_\n",
    "params = {\n",
    "    'alpha': [0,0.3,0.6,1.0,1.3,1.6,2.0,2.3,2.6,3.0,4.0,5.0, 6.0, 7.0, 8.0] + \n",
    "             [4.3, 4.6, 5.3, 5.6, 6.0, 6.3, 6.6, 7.0],\n",
    "    'fit_intercept': [True, False],\n",
    "    'normalize': [True, False],\n",
    "}\n",
    "\n",
    "CV_model = sk.grid_search.GridSearchCV(lasso, param_grid=params, cv=5)\n",
    "CV_model.fit(X, y_death_lasso)\n",
    "CV_model.best_params_"
   ]
  },
  {
   "cell_type": "markdown",
   "metadata": {},
   "source": [
    "We then fit the model using the optimum alpha provided to fit the model using `statsmodels`."
   ]
  },
  {
   "cell_type": "code",
   "execution_count": 105,
   "metadata": {
    "collapsed": false
   },
   "outputs": [
    {
     "name": "stdout",
     "output_type": "stream",
     "text": [
      "                            OLS Regression Results                            \n",
      "==============================================================================\n",
      "Dep. Variable:                   2000   R-squared:                       0.964\n",
      "Model:                            OLS   Adj. R-squared:                  0.923\n",
      "Method:                 Least Squares   F-statistic:                     23.64\n",
      "Date:                Mon, 12 Dec 2016   Prob (F-statistic):           1.32e-31\n",
      "Time:                        11:47:09   Log-Likelihood:                -445.06\n",
      "No. Observations:                 154   AIC:                             1054.\n",
      "Df Residuals:                      72   BIC:                             1303.\n",
      "Df Model:                          82                                         \n",
      "Covariance Type:            nonrobust                                         \n",
      "===================================================================================================\n",
      "                                      coef    std err          t      P>|t|      [95.0% Conf. Int.]\n",
      "---------------------------------------------------------------------------------------------------\n",
      "Plantains                                0          0        nan        nan             0         0\n",
      "Sugar, Raw Equivalent               0.0033      0.056      0.060      0.953        -0.108     0.114\n",
      "Beverages, Alcoholic                     0          0        nan        nan             0         0\n",
      "Olives (including preserved)             0          0        nan        nan             0         0\n",
      "Cloves                                   0          0        nan        nan             0         0\n",
      "Coconuts - Incl Copra               0.0085      0.023      0.367      0.714        -0.037     0.054\n",
      "Vegetables, Other                  -0.0074      0.010     -0.768      0.445        -0.027     0.012\n",
      "Sesame seed                        -0.0160      0.040     -0.402      0.689        -0.095     0.063\n",
      "Wine                               -0.0087      0.020     -0.444      0.659        -0.048     0.030\n",
      "Apples and products                -0.0098      0.040     -0.246      0.806        -0.089     0.069\n",
      "Rape and Mustard Oil               -0.0064      0.040     -0.158      0.875        -0.087     0.074\n",
      "Maize and products                  0.0303      0.007      4.461      0.000         0.017     0.044\n",
      "Groundnuts (Shelled Eq)                  0          0        nan        nan             0         0\n",
      "Barley and products                      0          0        nan        nan             0         0\n",
      "Maize Germ Oil                           0          0        nan        nan             0         0\n",
      "Beer                               -0.0024      0.011     -0.214      0.831        -0.024     0.020\n",
      "Groundnut Oil                            0          0        nan        nan             0         0\n",
      "Pineapples and products                  0          0        nan        nan             0         0\n",
      "Pulses, Other and products          0.0874      0.059      1.487      0.141        -0.030     0.205\n",
      "Sugar (Raw Equivalent)              0.0256      0.060      0.424      0.673        -0.095     0.146\n",
      "Palm Oil                            0.0159      0.043      0.367      0.715        -0.070     0.102\n",
      "Oilcrops, Other                          0          0        nan        nan             0         0\n",
      "Dates                               0.0274      0.030      0.926      0.358        -0.032     0.087\n",
      "Oats                                     0          0        nan        nan             0         0\n",
      "Soyabeans                                0          0        nan        nan             0         0\n",
      "Beans                               0.1014      0.048      2.116      0.038         0.006     0.197\n",
      "Sesameseed Oil                      0.0703      0.042      1.665      0.100        -0.014     0.154\n",
      "Grapes and products (excl wine)          0          0        nan        nan             0         0\n",
      "Beverages, Fermented                0.0205      0.010      2.149      0.035         0.001     0.040\n",
      "Potatoes and products               0.0207      0.010      2.010      0.048         0.000     0.041\n",
      "Cottonseed Oil                           0          0        nan        nan             0         0\n",
      "Onions                                   0          0        nan        nan             0         0\n",
      "Coffee and products                      0          0        nan        nan             0         0\n",
      "Roots, Other                        0.0250      0.014      1.781      0.079        -0.003     0.053\n",
      "Infant food                              0          0        nan        nan             0         0\n",
      "Cereals, Other                      0.0326      0.033      0.985      0.328        -0.033     0.099\n",
      "Pepper                                   0          0        nan        nan             0         0\n",
      "Peas                                     0          0        nan        nan             0         0\n",
      "Nuts and products                        0          0        nan        nan             0         0\n",
      "Cocoa Beans and products                 0          0        nan        nan             0         0\n",
      "Wheat and products                  0.0446      0.006      7.103      0.000         0.032     0.057\n",
      "Cassava and products                0.0158      0.004      3.894      0.000         0.008     0.024\n",
      "Sunflowerseed Oil                        0          0        nan        nan             0         0\n",
      "Palmkernel Oil                           0          0        nan        nan             0         0\n",
      "Pimento                                  0          0        nan        nan             0         0\n",
      "Fruits, Other                       0.0229      0.021      1.065      0.290        -0.020     0.066\n",
      "Citrus, Other                            0          0        nan        nan             0         0\n",
      "Lemons, Limes and products               0          0        nan        nan             0         0\n",
      "Tea (including mate)                     0          0        nan        nan             0         0\n",
      "Soyabean Oil                             0          0        nan        nan             0         0\n",
      "Grapefruit and products             0.0006      0.035      0.016      0.987        -0.070     0.071\n",
      "Rye and products                    0.0088      0.028      0.307      0.760        -0.048     0.066\n",
      "Olive Oil                                0          0        nan        nan             0         0\n",
      "Coconut Oil                         0.0147      0.043      0.338      0.736        -0.072     0.101\n",
      "Tomatoes and products              -0.0252      0.020     -1.267      0.209        -0.065     0.014\n",
      "Oilcrops Oil, Other                      0          0        nan        nan             0         0\n",
      "Bananas                                  0          0        nan        nan             0         0\n",
      "Spices, Other                            0          0        nan        nan             0         0\n",
      "Sweet potatoes                           0          0        nan        nan             0         0\n",
      "Oranges, Mandarines                -0.0529      0.028     -1.871      0.065        -0.109     0.003\n",
      "Rice (Milled Equivalent)            0.0529      0.006      9.006      0.000         0.041     0.065\n",
      "Butter, Ghee                             0          0        nan        nan             0         0\n",
      "Fats, Animals, Raw                       0          0        nan        nan             0         0\n",
      "Crustaceans                              0          0        nan        nan             0         0\n",
      "Marine Fish, Other                  0.0123      0.045      0.272      0.786        -0.078     0.102\n",
      "Aquatic Plants                           0          0        nan        nan             0         0\n",
      "Pigmeat                                  0          0        nan        nan             0         0\n",
      "Freshwater Fish                          0          0        nan        nan             0         0\n",
      "Poultry Meat                             0          0        nan        nan             0         0\n",
      "Fish, Liver Oil                          0          0        nan        nan             0         0\n",
      "Meat, Other                         0.0037      0.056      0.067      0.947        -0.107     0.115\n",
      "Cephalopods                              0          0        nan        nan             0         0\n",
      "Mutton & Goat Meat                  0.0490      0.036      1.342      0.184        -0.024     0.122\n",
      "Pelagic Fish                             0          0        nan        nan             0         0\n",
      "Bovine Meat                         0.0208      0.026      0.812      0.419        -0.030     0.072\n",
      "Molluscs, Other                          0          0        nan        nan             0         0\n",
      "Fish, Body Oil                           0          0        nan        nan             0         0\n",
      "Aquatic Animals, Others             0.0435      0.047      0.931      0.355        -0.050     0.137\n",
      "Honey                                    0          0        nan        nan             0         0\n",
      "Offals, Edible                           0          0        nan        nan             0         0\n",
      "Demersal Fish                      -0.0415      0.047     -0.892      0.375        -0.134     0.051\n",
      "Cream                                    0          0        nan        nan             0         0\n",
      "==============================================================================\n",
      "Omnibus:                       14.905   Durbin-Watson:                   2.008\n",
      "Prob(Omnibus):                  0.001   Jarque-Bera (JB):               18.824\n",
      "Skew:                           0.607   Prob(JB):                     8.17e-05\n",
      "Kurtosis:                       4.207   Cond. No.                         552.\n",
      "==============================================================================\n",
      "\n",
      "Warnings:\n",
      "[1] Standard Errors assume that the covariance matrix of the errors is correctly specified.\n"
     ]
    }
   ],
   "source": [
    "# Fit linear model with risk of death in 2000 as response variable\n",
    "risk_2000_model_lasso = sm.OLS(risk_of_death_2000.drop(countries_to_drop), food_1970_2000_cleaned)\n",
    "risk_2000_results_lasso = risk_2000_model_lasso.fit_regularized(alpha = 5.6)\n",
    "print(risk_2000_results_lasso.summary())\n"
   ]
  },
  {
   "cell_type": "markdown",
   "metadata": {},
   "source": [
    "Checking the same diagnostics as before, while the Condition Number is much smaller (indicating a reduced likelihood of multicollinearity affecting the model), for the model considering overall percentage risk of death in 2000 the residuals do not appear to be normally distributed (according to the Omnibus and Jarque-Bera Tests), so we should address that issue in follow-up models."
   ]
  },
  {
   "cell_type": "code",
   "execution_count": 106,
   "metadata": {
    "collapsed": false
   },
   "outputs": [
    {
     "data": {
      "image/png": "[encoded data removed]",
      "text/plain": [
       "<matplotlib.figure.Figure at 0xd7261d0>"
      ]
     },
     "metadata": {},
     "output_type": "display_data"
    }
   ],
   "source": [
    "plot_sig_coeffs(risk_2000_results_lasso, 0.1)"
   ]
  },
  {
   "cell_type": "markdown",
   "metadata": {},
   "source": [
    "## Deaths per 100k from All Causes as Response Variable"
   ]
  },
  {
   "cell_type": "code",
   "execution_count": 107,
   "metadata": {
    "collapsed": false
   },
   "outputs": [
    {
     "data": {
      "text/plain": [
       "{'alpha': 1.3, 'fit_intercept': True, 'normalize': True}"
      ]
     },
     "execution_count": 107,
     "metadata": {},
     "output_type": "execute_result"
    }
   ],
   "source": [
    "lasso = linear_model.Lasso(alpha = 1.0)\n",
    "X = food_1970_2000_cleaned\n",
    "y_death_100k_cancer_lasso = deaths_100k_all_2000.drop(countries_to_drop).sort_index().loc[food_1970_2000_cleaned.index].values\n",
    "lasso.fit(X, y_death_100k_cancer_lasso)\n",
    "lasso.score(X, y_death_100k_cancer_lasso)\n",
    "lasso.coef_\n",
    "params = {\n",
    "    'alpha': [0,0.3,0.6,1.0,1.3,1.6,2.0,2.3,2.6,3.0,4.0,5.0],\n",
    "    'fit_intercept': [True, False],\n",
    "    'normalize': [True, False],\n",
    "}\n",
    "\n",
    "CV_model = sk.grid_search.GridSearchCV(lasso, param_grid=params, cv=5)\n",
    "CV_model.fit(X, y_death_100k_cancer_lasso)\n",
    "CV_model.best_params_"
   ]
  },
  {
   "cell_type": "code",
   "execution_count": 108,
   "metadata": {
    "collapsed": false
   },
   "outputs": [
    {
     "name": "stdout",
     "output_type": "stream",
     "text": [
      "                            OLS Regression Results                            \n",
      "==============================================================================\n",
      "Dep. Variable:                   2000   R-squared:                       0.977\n",
      "Model:                            OLS   Adj. R-squared:                  0.952\n",
      "Method:                 Least Squares   F-statistic:                     37.89\n",
      "Date:                Mon, 12 Dec 2016   Prob (F-statistic):           1.54e-38\n",
      "Time:                        11:47:19   Log-Likelihood:                -925.62\n",
      "No. Observations:                 154   AIC:                             2015.\n",
      "Df Residuals:                      72   BIC:                             2264.\n",
      "Df Model:                          82                                         \n",
      "Covariance Type:            nonrobust                                         \n",
      "===================================================================================================\n",
      "                                      coef    std err          t      P>|t|      [95.0% Conf. Int.]\n",
      "---------------------------------------------------------------------------------------------------\n",
      "Plantains                           0.1825      0.310      0.589      0.558        -0.436     0.801\n",
      "Sugar, Raw Equivalent               0.9726      1.691      0.575      0.567        -2.398     4.343\n",
      "Beverages, Alcoholic                1.3024      2.367      0.550      0.584        -3.415     6.020\n",
      "Olives (including preserved)       -2.4888      3.424     -0.727      0.470        -9.315     4.338\n",
      "Cloves                             -2.6565      2.301     -1.155      0.252        -7.243     1.930\n",
      "Coconuts - Incl Copra               0.1449      0.723      0.200      0.842        -1.296     1.586\n",
      "Vegetables, Other                  -0.3520      0.330     -1.066      0.290        -1.010     0.306\n",
      "Sesame seed                        -1.2844      1.248     -1.029      0.307        -3.773     1.204\n",
      "Wine                               -0.2164      0.577     -0.375      0.709        -1.367     0.934\n",
      "Apples and products                -2.4070      1.256     -1.916      0.059        -4.911     0.097\n",
      "Rape and Mustard Oil               -2.1249      1.432     -1.484      0.142        -4.980     0.730\n",
      "Maize and products                  1.0057      0.219      4.600      0.000         0.570     1.442\n",
      "Groundnuts (Shelled Eq)             2.8831      2.569      1.122      0.266        -2.239     8.005\n",
      "Barley and products                 0.5304      0.806      0.658      0.513        -1.076     2.137\n",
      "Maize Germ Oil                     -1.6295      3.984     -0.409      0.684        -9.572     6.313\n",
      "Beer                                0.2085      0.418      0.499      0.619        -0.624     1.041\n",
      "Groundnut Oil                       1.8852      2.897      0.651      0.517        -3.890     7.660\n",
      "Pineapples and products             0.1890      1.718      0.110      0.913        -3.236     3.614\n",
      "Pulses, Other and products          4.7686      1.867      2.554      0.013         1.046     8.491\n",
      "Sugar (Raw Equivalent)             -0.7391      1.801     -0.410      0.683        -4.330     2.852\n",
      "Palm Oil                            0.9011      1.314      0.686      0.495        -1.718     3.521\n",
      "Oilcrops, Other                     1.8016      1.383      1.303      0.197        -0.955     4.558\n",
      "Dates                               1.7392      0.917      1.897      0.062        -0.089     3.567\n",
      "Oats                               -0.4487      2.757     -0.163      0.871        -5.944     5.047\n",
      "Soyabeans                           1.2404      2.904      0.427      0.671        -4.548     7.029\n",
      "Beans                               3.6321      1.639      2.216      0.030         0.365     6.899\n",
      "Sesameseed Oil                      3.1293      1.298      2.411      0.018         0.542     5.717\n",
      "Grapes and products (excl wine)     0.7440      0.804      0.925      0.358        -0.859     2.347\n",
      "Beverages, Fermented                0.5831      0.281      2.077      0.041         0.024     1.143\n",
      "Potatoes and products               1.0180      0.312      3.261      0.002         0.396     1.640\n",
      "Cottonseed Oil                     -0.6378      1.209     -0.528      0.599        -3.048     1.772\n",
      "Onions                              0.1725      1.865      0.092      0.927        -3.545     3.890\n",
      "Coffee and products                 0.5005      5.362      0.093      0.926       -10.189    11.190\n",
      "Roots, Other                        0.6170      0.382      1.615      0.111        -0.144     1.378\n",
      "Infant food                        -2.2210      2.022     -1.098      0.276        -6.252     1.810\n",
      "Cereals, Other                      1.9357      1.026      1.887      0.063        -0.109     3.981\n",
      "Pepper                             -7.1526      4.792     -1.492      0.140       -16.706     2.401\n",
      "Peas                               -1.8032      2.090     -0.863      0.391        -5.969     2.362\n",
      "Nuts and products                   4.5609      4.289      1.063      0.291        -3.989    13.111\n",
      "Cocoa Beans and products            1.8929     17.979      0.105      0.916       -33.947    37.733\n",
      "Wheat and products                  1.0493      0.206      5.085      0.000         0.638     1.461\n",
      "Cassava and products                0.3823      0.134      2.850      0.006         0.115     0.650\n",
      "Sunflowerseed Oil                   5.4836      2.712      2.022      0.047         0.078    10.889\n",
      "Palmkernel Oil                     -1.2749      1.235     -1.033      0.305        -3.736     1.186\n",
      "Pimento                             0.1820      2.490      0.073      0.942        -4.781     5.145\n",
      "Fruits, Other                       0.9261      0.689      1.345      0.183        -0.447     2.299\n",
      "Citrus, Other                      -0.4815      1.851     -0.260      0.796        -4.171     3.208\n",
      "Lemons, Limes and products         -1.1749      2.554     -0.460      0.647        -6.266     3.916\n",
      "Tea (including mate)                2.4589      5.062      0.486      0.629        -7.631    12.549\n",
      "Soyabean Oil                        0.7952      2.633      0.302      0.764        -4.454     6.044\n",
      "Grapefruit and products             1.0061      1.188      0.847      0.400        -1.361     3.374\n",
      "Rye and products                    0.0589      1.069      0.055      0.956        -2.073     2.190\n",
      "Olive Oil                          -2.0309      4.064     -0.500      0.619       -10.133     6.071\n",
      "Coconut Oil                        -0.2445      1.483     -0.165      0.869        -3.200     2.711\n",
      "Tomatoes and products              -0.3864      0.772     -0.501      0.618        -1.925     1.152\n",
      "Oilcrops Oil, Other                 2.0123      2.112      0.953      0.344        -2.198     6.223\n",
      "Bananas                            -0.0052      0.479     -0.011      0.991        -0.961     0.950\n",
      "Spices, Other                       0.9274      7.405      0.125      0.901       -13.834    15.689\n",
      "Sweet potatoes                     -0.4380      0.468     -0.935      0.353        -1.371     0.495\n",
      "Oranges, Mandarines                -1.5214      1.068     -1.425      0.159        -3.650     0.607\n",
      "Rice (Milled Equivalent)            1.5294      0.210      7.279      0.000         1.111     1.948\n",
      "Butter, Ghee                       -0.2116      4.812     -0.044      0.965        -9.803     9.380\n",
      "Fats, Animals, Raw                 -1.5532      3.390     -0.458      0.648        -8.311     5.205\n",
      "Crustaceans                        -3.2264      5.137     -0.628      0.532       -13.466     7.014\n",
      "Marine Fish, Other                  2.4996      1.893      1.321      0.191        -1.274     6.273\n",
      "Aquatic Plants                      4.8384      2.777      1.742      0.086        -0.698    10.375\n",
      "Pigmeat                             1.1491      1.191      0.965      0.338        -1.224     3.523\n",
      "Freshwater Fish                    -0.0563      3.081     -0.018      0.985        -6.198     6.086\n",
      "Poultry Meat                       -0.2065      1.441     -0.143      0.886        -3.079     2.666\n",
      "Fish, Liver Oil                     2.5341      2.060      1.230      0.223        -1.573     6.641\n",
      "Meat, Other                         1.1589      1.949      0.595      0.554        -2.727     5.044\n",
      "Cephalopods                        -8.4655      4.394     -1.927      0.058       -17.224     0.293\n",
      "Mutton & Goat Meat                  3.8971      1.183      3.295      0.002         1.539     6.255\n",
      "Pelagic Fish                       -1.1561      1.167     -0.991      0.325        -3.482     1.169\n",
      "Bovine Meat                         0.1628      0.805      0.202      0.840        -1.442     1.768\n",
      "Molluscs, Other                    -0.5501      6.311     -0.087      0.931       -13.132    12.031\n",
      "Fish, Body Oil                      3.3466      2.821      1.186      0.239        -2.276     8.969\n",
      "Aquatic Animals, Others             1.8669      1.444      1.293      0.200        -1.011     4.745\n",
      "Honey                               1.2692      6.092      0.208      0.836       -10.874    13.413\n",
      "Offals, Edible                     -6.6575      4.074     -1.634      0.107       -14.780     1.465\n",
      "Demersal Fish                      -0.3084      1.794     -0.172      0.864        -3.884     3.267\n",
      "Cream                              -1.1817      2.535     -0.466      0.643        -6.235     3.871\n",
      "==============================================================================\n",
      "Omnibus:                        7.005   Durbin-Watson:                   1.897\n",
      "Prob(Omnibus):                  0.030   Jarque-Bera (JB):                7.493\n",
      "Skew:                           0.363   Prob(JB):                       0.0236\n",
      "Kurtosis:                       3.801   Cond. No.                         552.\n",
      "==============================================================================\n",
      "\n",
      "Warnings:\n",
      "[1] Standard Errors assume that the covariance matrix of the errors is correctly specified.\n"
     ]
    }
   ],
   "source": [
    "# Fit linear model with risk of death in 2000 as response variable\n",
    "deaths100k_model_lasso = sm.OLS(deaths_100k_all_2000.drop(countries_to_drop).sort_index().loc[food_1970_2000_cleaned.index], \n",
    "                                food_1970_2000_cleaned)\n",
    "deaths100k_results_lasso = deaths100k_model_lasso.fit_regularized(alpha = 1.3)\n",
    "print(deaths100k_results_lasso.summary())"
   ]
  },
  {
   "cell_type": "markdown",
   "metadata": {},
   "source": [
    "Similarly, when considering age-standardized mortality rate as the response variable, according to the Omnibus and Jarque-Bera Tests the residuals do not appear normally distributed, which we should address in follow-up models."
   ]
  },
  {
   "cell_type": "code",
   "execution_count": 109,
   "metadata": {
    "collapsed": false
   },
   "outputs": [
    {
     "data": {
      "image/png": "[encoded data removed]",
      "text/plain": [
       "<matplotlib.figure.Figure at 0xc4d90f0>"
      ]
     },
     "metadata": {},
     "output_type": "display_data"
    }
   ],
   "source": [
    "plot_sig_coeffs(deaths100k_results_lasso, 0.1)"
   ]
  },
  {
   "cell_type": "markdown",
   "metadata": {},
   "source": [
    "## Deaths per 100k from Cancer as Response Variable"
   ]
  },
  {
   "cell_type": "code",
   "execution_count": 110,
   "metadata": {
    "collapsed": false
   },
   "outputs": [
    {
     "data": {
      "text/plain": [
       "{'alpha': 0.6, 'fit_intercept': True, 'normalize': True}"
      ]
     },
     "execution_count": 110,
     "metadata": {},
     "output_type": "execute_result"
    }
   ],
   "source": [
    "lasso = linear_model.Lasso(alpha = 1.0)\n",
    "y_death_100k_cancer_lasso = deaths_100k_cancer_2000.drop(countries_to_drop).sort_index().loc[food_1970_2000_cleaned.index]\n",
    "lasso.fit(X.values, y_death_100k_cancer_lasso.values)\n",
    "lasso.score(X.values, y_death_100k_cancer_lasso.values)\n",
    "lasso.coef_\n",
    "params = {\n",
    "    'alpha': [0,0.3,0.6,1.0,1.3,1.6,2.0,2.3,2.6,3.0,4.0,5.0],\n",
    "    'fit_intercept': [True, False],\n",
    "    'normalize': [True, False],\n",
    "}\n",
    "\n",
    "CV_model = sk.grid_search.GridSearchCV(lasso, param_grid=params, cv=5)\n",
    "CV_model.fit(X, y_death_100k_cancer_lasso)\n",
    "CV_model.best_params_"
   ]
  },
  {
   "cell_type": "code",
   "execution_count": 111,
   "metadata": {
    "collapsed": false
   },
   "outputs": [
    {
     "name": "stdout",
     "output_type": "stream",
     "text": [
      "                            OLS Regression Results                            \n",
      "==============================================================================\n",
      "Dep. Variable:                   2000   R-squared:                       0.966\n",
      "Model:                            OLS   Adj. R-squared:                  0.927\n",
      "Method:                 Least Squares   F-statistic:                     24.78\n",
      "Date:                Mon, 12 Dec 2016   Prob (F-statistic):           2.74e-32\n",
      "Time:                        11:47:27   Log-Likelihood:                -704.16\n",
      "No. Observations:                 154   AIC:                             1572.\n",
      "Df Residuals:                      72   BIC:                             1821.\n",
      "Df Model:                          82                                         \n",
      "Covariance Type:            nonrobust                                         \n",
      "===================================================================================================\n",
      "                                      coef    std err          t      P>|t|      [95.0% Conf. Int.]\n",
      "---------------------------------------------------------------------------------------------------\n",
      "Plantains                          -0.0763      0.072     -1.057      0.294        -0.220     0.068\n",
      "Sugar, Raw Equivalent               0.0165      0.372      0.044      0.965        -0.725     0.758\n",
      "Beverages, Alcoholic                0.6376      0.553      1.153      0.253        -0.465     1.740\n",
      "Olives (including preserved)       -0.1910      0.789     -0.242      0.809        -1.765     1.382\n",
      "Cloves                             -0.7862      0.528     -1.490      0.140        -1.838     0.265\n",
      "Coconuts - Incl Copra              -0.0501      0.168     -0.299      0.766        -0.384     0.284\n",
      "Vegetables, Other                  -0.0455      0.077     -0.592      0.556        -0.198     0.108\n",
      "Sesame seed                        -0.3458      0.267     -1.293      0.200        -0.879     0.187\n",
      "Wine                                0.0147      0.134      0.110      0.913        -0.253     0.283\n",
      "Apples and products                 0.0702      0.297      0.236      0.814        -0.522     0.663\n",
      "Rape and Mustard Oil               -0.2335      0.319     -0.731      0.467        -0.870     0.403\n",
      "Maize and products                  0.2345      0.052      4.525      0.000         0.131     0.338\n",
      "Groundnuts (Shelled Eq)             0.7880      0.607      1.298      0.199        -0.423     1.998\n",
      "Barley and products                -0.0483      0.190     -0.254      0.800        -0.428     0.331\n",
      "Maize Germ Oil                      0.1711      0.945      0.181      0.857        -1.713     2.056\n",
      "Beer                               -0.0028      0.098     -0.029      0.977        -0.199     0.193\n",
      "Groundnut Oil                       0.3637      0.669      0.544      0.588        -0.970     1.697\n",
      "Pineapples and products            -0.1442      0.403     -0.358      0.721        -0.947     0.658\n",
      "Pulses, Other and products         -0.1540      0.440     -0.350      0.727        -1.031     0.723\n",
      "Sugar (Raw Equivalent)             -0.0195      0.403     -0.048      0.962        -0.823     0.784\n",
      "Palm Oil                            0.1914      0.309      0.620      0.537        -0.424     0.807\n",
      "Oilcrops, Other                     0.1507      0.325      0.463      0.644        -0.497     0.799\n",
      "Dates                              -0.3847      0.213     -1.803      0.076        -0.810     0.041\n",
      "Oats                               -0.5799      0.632     -0.918      0.362        -1.839     0.679\n",
      "Soyabeans                           0.0471      0.649      0.073      0.942        -1.246     1.340\n",
      "Beans                               0.5473      0.388      1.410      0.163        -0.226     1.321\n",
      "Sesameseed Oil                      0.1052      0.294      0.358      0.721        -0.480     0.691\n",
      "Grapes and products (excl wine)     0.2493      0.190      1.311      0.194        -0.130     0.628\n",
      "Beverages, Fermented                0.2040      0.065      3.138      0.002         0.074     0.334\n",
      "Potatoes and products               0.1568      0.071      2.212      0.030         0.015     0.298\n",
      "Cottonseed Oil                      0.2889      0.284      1.018      0.312        -0.277     0.855\n",
      "Onions                             -0.2452      0.424     -0.578      0.565        -1.091     0.600\n",
      "Coffee and products                 1.0196      1.258      0.810      0.420        -1.489     3.528\n",
      "Roots, Other                        0.0351      0.090      0.389      0.698        -0.145     0.215\n",
      "Infant food                              0          0        nan        nan             0         0\n",
      "Cereals, Other                      0.3065      0.243      1.259      0.212        -0.179     0.792\n",
      "Pepper                             -0.1244      1.125     -0.111      0.912        -2.367     2.118\n",
      "Peas                                0.6518      0.487      1.339      0.185        -0.319     1.622\n",
      "Nuts and products                  -0.6436      1.007     -0.639      0.525        -2.650     1.363\n",
      "Cocoa Beans and products            6.5855      4.077      1.615      0.111        -1.542    14.713\n",
      "Wheat and products                  0.1952      0.048      4.076      0.000         0.100     0.291\n",
      "Cassava and products                0.0280      0.031      0.893      0.375        -0.035     0.091\n",
      "Sunflowerseed Oil                  -0.6474      0.642     -1.009      0.316        -1.927     0.632\n",
      "Palmkernel Oil                     -0.4579      0.283     -1.615      0.111        -1.023     0.107\n",
      "Pimento                             0.8365      0.588      1.423      0.159        -0.335     2.008\n",
      "Fruits, Other                       0.0775      0.160      0.483      0.630        -0.242     0.397\n",
      "Citrus, Other                       0.2468      0.424      0.582      0.562        -0.599     1.092\n",
      "Lemons, Limes and products         -0.1625      0.590     -0.276      0.784        -1.338     1.013\n",
      "Tea (including mate)               -0.3834      1.181     -0.325      0.746        -2.737     1.970\n",
      "Soyabean Oil                       -0.3848      0.615     -0.626      0.534        -1.611     0.841\n",
      "Grapefruit and products            -0.2943      0.282     -1.044      0.300        -0.856     0.268\n",
      "Rye and products                   -0.0184      0.246     -0.075      0.940        -0.508     0.471\n",
      "Olive Oil                          -0.3615      0.899     -0.402      0.689        -2.153     1.430\n",
      "Coconut Oil                         0.0572      0.336      0.170      0.865        -0.612     0.727\n",
      "Tomatoes and products              -0.1565      0.175     -0.892      0.375        -0.506     0.193\n",
      "Oilcrops Oil, Other                -0.0712      0.496     -0.144      0.886        -1.059     0.917\n",
      "Bananas                             0.0838      0.113      0.743      0.460        -0.141     0.309\n",
      "Spices, Other                      -0.3672      1.733     -0.212      0.833        -3.822     3.087\n",
      "Sweet potatoes                      0.1328      0.110      1.203      0.233        -0.087     0.353\n",
      "Oranges, Mandarines                 0.2869      0.250      1.145      0.256        -0.212     0.786\n",
      "Rice (Milled Equivalent)            0.2720      0.050      5.459      0.000         0.173     0.371\n",
      "Butter, Ghee                       -0.0751      1.126     -0.067      0.947        -2.319     2.169\n",
      "Fats, Animals, Raw                  0.8762      0.798      1.098      0.276        -0.715     2.467\n",
      "Crustaceans                        -2.4277      1.034     -2.348      0.022        -4.489    -0.367\n",
      "Marine Fish, Other                  0.2818      0.425      0.664      0.509        -0.565     1.128\n",
      "Aquatic Plants                      0.5391      0.636      0.848      0.399        -0.728     1.806\n",
      "Pigmeat                            -0.0574      0.282     -0.204      0.839        -0.619     0.504\n",
      "Freshwater Fish                    -0.2480      0.731     -0.339      0.735        -1.705     1.209\n",
      "Poultry Meat                        0.2075      0.338      0.613      0.542        -0.467     0.882\n",
      "Fish, Liver Oil                    -0.3233      0.485     -0.666      0.507        -1.291     0.644\n",
      "Meat, Other                         1.1966      0.447      2.679      0.009         0.306     2.087\n",
      "Cephalopods                         0.3938      0.959      0.411      0.682        -1.518     2.305\n",
      "Mutton & Goat Meat                  0.8916      0.277      3.223      0.002         0.340     1.443\n",
      "Pelagic Fish                       -0.0677      0.274     -0.247      0.806        -0.614     0.479\n",
      "Bovine Meat                         0.0264      0.191      0.138      0.890        -0.354     0.407\n",
      "Molluscs, Other                          0          0        nan        nan             0         0\n",
      "Fish, Body Oil                      0.3974      0.669      0.594      0.554        -0.935     1.730\n",
      "Aquatic Animals, Others             0.1718      0.336      0.511      0.611        -0.499     0.843\n",
      "Honey                               0.9885      1.432      0.691      0.492        -1.865     3.842\n",
      "Offals, Edible                     -0.9393      0.961     -0.977      0.332        -2.856     0.977\n",
      "Demersal Fish                      -0.0376      0.418     -0.090      0.929        -0.872     0.797\n",
      "Cream                              -0.3320      0.587     -0.565      0.574        -1.503     0.839\n",
      "==============================================================================\n",
      "Omnibus:                       71.852   Durbin-Watson:                   1.955\n",
      "Prob(Omnibus):                  0.000   Jarque-Bera (JB):              426.041\n",
      "Skew:                           1.565   Prob(JB):                     3.07e-93\n",
      "Kurtosis:                      10.523   Cond. No.                         552.\n",
      "==============================================================================\n",
      "\n",
      "Warnings:\n",
      "[1] Standard Errors assume that the covariance matrix of the errors is correctly specified.\n"
     ]
    }
   ],
   "source": [
    "# Fit linear model with risk of death in 2000 as response variable\n",
    "deaths100k_cancer_model_lasso = sm.OLS(y_death_100k_cancer_lasso, X)\n",
    "deaths100k_cancer_results_lasso = deaths100k_cancer_model_lasso.fit_regularized(alpha = 0.6)\n",
    "print(deaths100k_cancer_results_lasso.summary())"
   ]
  },
  {
   "cell_type": "markdown",
   "metadata": {},
   "source": [
    "When considering the age-standardized mortality rate from cancer, once again the Omnibus and Jarque-Bera Tests indicate that the residuals are not normally distributed."
   ]
  },
  {
   "cell_type": "code",
   "execution_count": 112,
   "metadata": {
    "collapsed": false
   },
   "outputs": [
    {
     "data": {
      "image/png": "[encoded data removed]",
      "text/plain": [
       "<matplotlib.figure.Figure at 0xc6b3c88>"
      ]
     },
     "metadata": {},
     "output_type": "display_data"
    }
   ],
   "source": [
    "plot_sig_coeffs(deaths100k_cancer_results_lasso, 0.1)"
   ]
  },
  {
   "cell_type": "markdown",
   "metadata": {},
   "source": [
    "## Deaths per 100k from Cardiovascular Disease as Response Variable\n"
   ]
  },
  {
   "cell_type": "code",
   "execution_count": 113,
   "metadata": {
    "collapsed": false
   },
   "outputs": [
    {
     "data": {
      "text/plain": [
       "{'alpha': 1.0, 'fit_intercept': True, 'normalize': True}"
      ]
     },
     "execution_count": 113,
     "metadata": {},
     "output_type": "execute_result"
    }
   ],
   "source": [
    "lasso = linear_model.Lasso(alpha = 1.0)\n",
    "y_death_100k_cardio_lasso = deaths_100k_cardio_2000.drop(countries_to_drop).sort_index().loc[food_1970_2000_cleaned.index]\n",
    "lasso.fit(X.values, y_death_100k_cardio_lasso.values)\n",
    "lasso.score(X.values, y_death_100k_cardio_lasso.values)\n",
    "lasso.coef_\n",
    "params = {\n",
    "    'alpha': [0,0.3,0.6,1.0,1.3,1.6,2.0,2.3,2.6,3.0,4.0,5.0],\n",
    "    'fit_intercept': [True, False],\n",
    "    'normalize': [True, False],\n",
    "}\n",
    "\n",
    "CV_model = sk.grid_search.GridSearchCV(lasso, param_grid=params, cv=5)\n",
    "CV_model.fit(X, y_death_100k_cardio_lasso)\n",
    "CV_model.best_params_"
   ]
  },
  {
   "cell_type": "code",
   "execution_count": 114,
   "metadata": {
    "collapsed": false
   },
   "outputs": [
    {
     "name": "stdout",
     "output_type": "stream",
     "text": [
      "                            OLS Regression Results                            \n",
      "==============================================================================\n",
      "Dep. Variable:                   2000   R-squared:                       0.973\n",
      "Model:                            OLS   Adj. R-squared:                  0.941\n",
      "Method:                 Least Squares   F-statistic:                     31.17\n",
      "Date:                Mon, 12 Dec 2016   Prob (F-statistic):           1.21e-35\n",
      "Time:                        11:47:47   Log-Likelihood:                -842.23\n",
      "No. Observations:                 154   AIC:                             1848.\n",
      "Df Residuals:                      72   BIC:                             2097.\n",
      "Df Model:                          82                                         \n",
      "Covariance Type:            nonrobust                                         \n",
      "===================================================================================================\n",
      "                                      coef    std err          t      P>|t|      [95.0% Conf. Int.]\n",
      "---------------------------------------------------------------------------------------------------\n",
      "Plantains                           0.1186      0.174      0.683      0.497        -0.228     0.465\n",
      "Sugar, Raw Equivalent               0.7843      0.954      0.822      0.414        -1.117     2.686\n",
      "Beverages, Alcoholic                0.7806      1.350      0.578      0.565        -1.911     3.472\n",
      "Olives (including preserved)       -2.4231      1.979     -1.224      0.225        -6.368     1.522\n",
      "Cloves                             -0.9395      1.324     -0.709      0.480        -3.579     1.700\n",
      "Coconuts - Incl Copra               0.4226      0.415      1.017      0.312        -0.405     1.251\n",
      "Vegetables, Other                  -0.1610      0.187     -0.860      0.392        -0.534     0.212\n",
      "Sesame seed                        -0.2165      0.721     -0.300      0.765        -1.654     1.221\n",
      "Wine                               -0.4965      0.332     -1.494      0.140        -1.159     0.166\n",
      "Apples and products                -1.0598      0.714     -1.484      0.142        -2.484     0.364\n",
      "Rape and Mustard Oil               -1.2215      0.807     -1.514      0.134        -2.830     0.387\n",
      "Maize and products                  0.3518      0.126      2.799      0.007         0.101     0.602\n",
      "Groundnuts (Shelled Eq)             1.1862      1.420      0.836      0.406        -1.644     4.016\n",
      "Barley and products                -0.0298      0.456     -0.065      0.948        -0.939     0.879\n",
      "Maize Germ Oil                     -0.0479      2.202     -0.022      0.983        -4.437     4.341\n",
      "Beer                               -0.1520      0.236     -0.643      0.522        -0.623     0.319\n",
      "Groundnut Oil                       0.6647      1.674      0.397      0.692        -2.672     4.001\n",
      "Pineapples and products             0.8250      0.934      0.883      0.380        -1.038     2.688\n",
      "Pulses, Other and products          1.6843      1.063      1.584      0.117        -0.435     3.803\n",
      "Sugar (Raw Equivalent)             -0.5785      1.034     -0.560      0.578        -2.639     1.482\n",
      "Palm Oil                            0.2935      0.748      0.393      0.696        -1.197     1.784\n",
      "Oilcrops, Other                     1.0738      0.687      1.563      0.122        -0.296     2.443\n",
      "Dates                               1.3540      0.530      2.553      0.013         0.297     2.411\n",
      "Oats                                     0          0        nan        nan             0         0\n",
      "Soyabeans                           0.4583      1.659      0.276      0.783        -2.849     3.765\n",
      "Beans                               1.8769      0.931      2.015      0.048         0.020     3.733\n",
      "Sesameseed Oil                      2.2719      0.738      3.078      0.003         0.801     3.743\n",
      "Grapes and products (excl wine)     0.2565      0.462      0.555      0.581        -0.665     1.178\n",
      "Beverages, Fermented                0.0782      0.159      0.493      0.623        -0.238     0.395\n",
      "Potatoes and products               0.5545      0.181      3.066      0.003         0.194     0.915\n",
      "Cottonseed Oil                     -0.6863      0.680     -1.009      0.316        -2.042     0.669\n",
      "Onions                              0.6786      1.066      0.637      0.526        -1.446     2.803\n",
      "Coffee and products                      0          0        nan        nan             0         0\n",
      "Roots, Other                        0.4359      0.214      2.033      0.046         0.008     0.863\n",
      "Infant food                        -0.9925      1.134     -0.876      0.384        -3.252     1.267\n",
      "Cereals, Other                      0.6221      0.596      1.044      0.300        -0.566     1.810\n",
      "Pepper                             -1.9599      2.728     -0.718      0.475        -7.399     3.479\n",
      "Peas                               -1.4158      1.192     -1.188      0.239        -3.792     0.960\n",
      "Nuts and products                   2.8759      2.457      1.170      0.246        -2.023     7.775\n",
      "Cocoa Beans and products            0.3523     10.211      0.035      0.973       -20.003    20.708\n",
      "Wheat and products                  0.6712      0.115      5.846      0.000         0.442     0.900\n",
      "Cassava and products                0.2146      0.076      2.822      0.006         0.063     0.366\n",
      "Sunflowerseed Oil                   3.3944      1.484      2.288      0.025         0.437     6.352\n",
      "Palmkernel Oil                      0.3081      0.700      0.440      0.661        -1.087     1.704\n",
      "Pimento                            -1.8531      1.305     -1.420      0.160        -4.455     0.749\n",
      "Fruits, Other                       0.5468      0.391      1.399      0.166        -0.232     1.326\n",
      "Citrus, Other                      -0.5971      1.040     -0.574      0.567        -2.669     1.475\n",
      "Lemons, Limes and products         -0.9103      1.437     -0.633      0.529        -3.775     1.955\n",
      "Tea (including mate)                3.3990      2.689      1.264      0.210        -1.961     8.759\n",
      "Soyabean Oil                       -0.3429      1.499     -0.229      0.820        -3.331     2.646\n",
      "Grapefruit and products             0.8111      0.655      1.237      0.220        -0.496     2.118\n",
      "Rye and products                    0.0729      0.554      0.132      0.896        -1.032     1.177\n",
      "Olive Oil                          -1.4516      2.081     -0.697      0.488        -5.601     2.698\n",
      "Coconut Oil                         0.3455      0.805      0.429      0.669        -1.259     1.950\n",
      "Tomatoes and products               0.0008      0.399      0.002      0.998        -0.795     0.796\n",
      "Oilcrops Oil, Other                 1.1740      1.198      0.980      0.330        -1.214     3.562\n",
      "Bananas                             0.1038      0.276      0.376      0.708        -0.447     0.655\n",
      "Spices, Other                            0          0        nan        nan             0         0\n",
      "Sweet potatoes                     -0.3180      0.254     -1.253      0.214        -0.824     0.188\n",
      "Oranges, Mandarines                -1.5368      0.547     -2.810      0.006        -2.627    -0.447\n",
      "Rice (Milled Equivalent)            0.5745      0.120      4.780      0.000         0.335     0.814\n",
      "Butter, Ghee                       -0.2758      2.611     -0.106      0.916        -5.481     4.930\n",
      "Fats, Animals, Raw                 -0.5233      1.951     -0.268      0.789        -4.412     3.365\n",
      "Crustaceans                        -1.7604      2.834     -0.621      0.537        -7.411     3.890\n",
      "Marine Fish, Other                  1.3664      1.081      1.264      0.210        -0.788     3.520\n",
      "Aquatic Plants                      1.3560      1.582      0.857      0.394        -1.798     4.510\n",
      "Pigmeat                             0.8547      0.680      1.258      0.213        -0.500     2.209\n",
      "Freshwater Fish                     0.4971      1.727      0.288      0.774        -2.946     3.940\n",
      "Poultry Meat                       -0.1746      0.789     -0.221      0.826        -1.748     1.399\n",
      "Fish, Liver Oil                     2.7878      1.189      2.345      0.022         0.418     5.157\n",
      "Meat, Other                         0.2000      1.118      0.179      0.859        -2.029     2.429\n",
      "Cephalopods                        -3.1911      2.527     -1.263      0.211        -8.229     1.847\n",
      "Mutton & Goat Meat                  1.9729      0.684      2.883      0.005         0.609     3.337\n",
      "Pelagic Fish                       -0.8113      0.664     -1.221      0.226        -2.136     0.513\n",
      "Bovine Meat                        -0.1873      0.448     -0.418      0.677        -1.081     0.707\n",
      "Molluscs, Other                    -0.4303      3.528     -0.122      0.903        -7.463     6.602\n",
      "Fish, Body Oil                      1.0045      1.634      0.615      0.541        -2.254     4.263\n",
      "Aquatic Animals, Others             0.6297      0.806      0.782      0.437        -0.976     2.236\n",
      "Honey                              -0.6062      3.418     -0.177      0.860        -7.419     6.206\n",
      "Offals, Edible                     -3.6276      2.310     -1.570      0.121        -8.233     0.978\n",
      "Demersal Fish                      -0.0088      1.041     -0.008      0.993        -2.084     2.066\n",
      "Cream                              -0.6133      1.406     -0.436      0.664        -3.416     2.190\n",
      "==============================================================================\n",
      "Omnibus:                        0.544   Durbin-Watson:                   2.063\n",
      "Prob(Omnibus):                  0.762   Jarque-Bera (JB):                0.683\n",
      "Skew:                           0.076   Prob(JB):                        0.711\n",
      "Kurtosis:                       2.711   Cond. No.                         552.\n",
      "==============================================================================\n",
      "\n",
      "Warnings:\n",
      "[1] Standard Errors assume that the covariance matrix of the errors is correctly specified.\n"
     ]
    }
   ],
   "source": [
    "# Fit linear model with risk of death in 2000 as response variable\n",
    "deaths100k_cardio_model_lasso = sm.OLS(y_death_100k_cardio_lasso, X)\n",
    "deaths100k_cardio_results_lasso = deaths100k_cardio_model_lasso.fit_regularized(alpha = 1.0)\n",
    "print(deaths100k_cardio_results_lasso.summary())"
   ]
  },
  {
   "cell_type": "markdown",
   "metadata": {},
   "source": [
    "According to both the Omnibus and Jarque-Bera Tests, we fail to reject the null hypothesis that the residuals are normally distributed in this model, with the age-standardized mortality rate from cardiovascular disease as the response variable."
   ]
  },
  {
   "cell_type": "code",
   "execution_count": 115,
   "metadata": {
    "collapsed": false
   },
   "outputs": [
    {
     "data": {
      "image/png": "[encoded data removed]",
      "text/plain": [
       "<matplotlib.figure.Figure at 0xd8f99b0>"
      ]
     },
     "metadata": {},
     "output_type": "display_data"
    }
   ],
   "source": [
    "plot_sig_coeffs(deaths100k_cardio_results_lasso, 0.1)"
   ]
  },
  {
   "cell_type": "markdown",
   "metadata": {},
   "source": [
    "## Deaths per 100k from Diabetes as Response Variable"
   ]
  },
  {
   "cell_type": "code",
   "execution_count": 119,
   "metadata": {
    "collapsed": false
   },
   "outputs": [
    {
     "data": {
      "text/plain": [
       "{'alpha': 0.3, 'fit_intercept': True, 'normalize': True}"
      ]
     },
     "execution_count": 119,
     "metadata": {},
     "output_type": "execute_result"
    }
   ],
   "source": [
    "lasso = linear_model.Lasso(alpha = 1.0)\n",
    "y_death_100k_diabetes_lasso = deaths_100k_diabetes_2000.drop(countries_to_drop).sort_index().loc[food_1970_2000_cleaned.index]\n",
    "lasso.fit(X.values, y_death_100k_diabetes_lasso.values)\n",
    "lasso.score(X.values, y_death_100k_diabetes_lasso.values)\n",
    "lasso.coef_\n",
    "params = {\n",
    "    'alpha': [0,0.3,0.6,1.0,1.3,1.6,2.0,2.3,2.6,3.0,4.0,5.0],\n",
    "    'fit_intercept': [True, False],\n",
    "    'normalize': [True, False],\n",
    "}\n",
    "\n",
    "CV_model = sk.grid_search.GridSearchCV(lasso, param_grid=params, cv=5)\n",
    "CV_model.fit(X, y_death_100k_diabetes_lasso)\n",
    "CV_model.best_params_"
   ]
  },
  {
   "cell_type": "code",
   "execution_count": 117,
   "metadata": {
    "collapsed": false
   },
   "outputs": [
    {
     "name": "stdout",
     "output_type": "stream",
     "text": [
      "                            OLS Regression Results                            \n",
      "==============================================================================\n",
      "Dep. Variable:                   2000   R-squared:                       0.889\n",
      "Model:                            OLS   Adj. R-squared:                  0.763\n",
      "Method:                 Least Squares   F-statistic:                     7.048\n",
      "Date:                Mon, 12 Dec 2016   Prob (F-statistic):           2.61e-15\n",
      "Time:                        11:49:34   Log-Likelihood:                -620.47\n",
      "No. Observations:                 154   AIC:                             1405.\n",
      "Df Residuals:                      72   BIC:                             1654.\n",
      "Df Model:                          82                                         \n",
      "Covariance Type:            nonrobust                                         \n",
      "===================================================================================================\n",
      "                                      coef    std err          t      P>|t|      [95.0% Conf. Int.]\n",
      "---------------------------------------------------------------------------------------------------\n",
      "Plantains                           0.0119      0.042      0.280      0.780        -0.073     0.096\n",
      "Sugar, Raw Equivalent              -0.1071      0.232     -0.461      0.646        -0.570     0.356\n",
      "Beverages, Alcoholic                0.3556      0.326      1.090      0.279        -0.295     1.006\n",
      "Olives (including preserved)       -0.4433      0.472     -0.940      0.351        -1.384     0.497\n",
      "Cloves                                   0          0        nan        nan             0         0\n",
      "Coconuts - Incl Copra               0.0511      0.099      0.515      0.608        -0.147     0.249\n",
      "Vegetables, Other                  -0.0219      0.044     -0.492      0.624        -0.110     0.067\n",
      "Sesame seed                        -0.2655      0.171     -1.552      0.125        -0.606     0.075\n",
      "Wine                                0.1355      0.079      1.708      0.092        -0.023     0.294\n",
      "Apples and products                -0.4848      0.173     -2.809      0.006        -0.829    -0.141\n",
      "Rape and Mustard Oil               -0.0051      0.191     -0.027      0.979        -0.386     0.376\n",
      "Maize and products                  0.0526      0.029      1.814      0.074        -0.005     0.110\n",
      "Groundnuts (Shelled Eq)             0.0578      0.354      0.163      0.871        -0.648     0.764\n",
      "Barley and products                 0.3097      0.111      2.791      0.007         0.089     0.531\n",
      "Maize Germ Oil                     -0.0481      0.547     -0.088      0.930        -1.138     1.042\n",
      "Beer                                0.1222      0.057      2.129      0.037         0.008     0.237\n",
      "Groundnut Oil                       0.1771      0.361      0.491      0.625        -0.542     0.897\n",
      "Pineapples and products            -0.1822      0.237     -0.770      0.444        -0.654     0.290\n",
      "Pulses, Other and products          0.2244      0.241      0.932      0.354        -0.256     0.704\n",
      "Sugar (Raw Equivalent)              0.3492      0.248      1.406      0.164        -0.146     0.844\n",
      "Palm Oil                            0.0624      0.180      0.346      0.730        -0.297     0.422\n",
      "Oilcrops, Other                     0.0210      0.188      0.112      0.911        -0.355     0.397\n",
      "Dates                               0.2625      0.126      2.077      0.041         0.011     0.514\n",
      "Oats                                0.2464      0.377      0.654      0.515        -0.504     0.997\n",
      "Soyabeans                          -0.4013      0.400     -1.002      0.319        -1.199     0.397\n",
      "Beans                               0.0452      0.226      0.200      0.842        -0.404     0.495\n",
      "Sesameseed Oil                      0.0442      0.177      0.250      0.803        -0.308     0.397\n",
      "Grapes and products (excl wine)     0.1567      0.109      1.433      0.156        -0.061     0.375\n",
      "Beverages, Fermented                0.0482      0.037      1.291      0.201        -0.026     0.123\n",
      "Potatoes and products              -0.0276      0.043     -0.642      0.523        -0.113     0.058\n",
      "Cottonseed Oil                     -0.2433      0.166     -1.470      0.146        -0.573     0.087\n",
      "Onions                              0.2144      0.253      0.848      0.399        -0.290     0.719\n",
      "Coffee and products                -0.1829      0.739     -0.247      0.805        -1.657     1.291\n",
      "Roots, Other                        0.0339      0.052      0.646      0.520        -0.071     0.139\n",
      "Infant food                        -0.2893      0.279     -1.038      0.303        -0.845     0.266\n",
      "Cereals, Other                      0.1294      0.138      0.941      0.350        -0.145     0.404\n",
      "Pepper                             -0.4996      0.659     -0.758      0.451        -1.813     0.814\n",
      "Peas                               -0.4430      0.286     -1.550      0.126        -1.013     0.127\n",
      "Nuts and products                   0.2448      0.588      0.416      0.678        -0.928     1.417\n",
      "Cocoa Beans and products           -0.1663      2.479     -0.067      0.947        -5.107     4.775\n",
      "Wheat and products                  0.0279      0.028      1.004      0.319        -0.028     0.083\n",
      "Cassava and products                0.0359      0.018      1.942      0.056        -0.001     0.073\n",
      "Sunflowerseed Oil                   0.7409      0.372      1.992      0.050        -0.001     1.482\n",
      "Palmkernel Oil                     -0.2968      0.164     -1.814      0.074        -0.623     0.029\n",
      "Pimento                            -0.0858      0.337     -0.255      0.799        -0.757     0.585\n",
      "Fruits, Other                       0.1643      0.094      1.745      0.085        -0.023     0.352\n",
      "Citrus, Other                      -0.1557      0.255     -0.611      0.543        -0.664     0.353\n",
      "Lemons, Limes and products         -0.1156      0.345     -0.335      0.739        -0.804     0.572\n",
      "Tea (including mate)                0.2591      0.696      0.372      0.711        -1.128     1.646\n",
      "Soyabean Oil                        1.1478      0.362      3.167      0.002         0.425     1.870\n",
      "Grapefruit and products             0.1056      0.162      0.650      0.518        -0.218     0.429\n",
      "Rye and products                    0.2985      0.146      2.047      0.044         0.008     0.589\n",
      "Olive Oil                           0.4956      0.557      0.889      0.377        -0.615     1.606\n",
      "Coconut Oil                        -0.0535      0.203     -0.264      0.793        -0.458     0.351\n",
      "Tomatoes and products              -0.1705      0.106     -1.603      0.113        -0.383     0.042\n",
      "Oilcrops Oil, Other                 0.4407      0.290      1.519      0.133        -0.138     1.019\n",
      "Bananas                            -0.0707      0.066     -1.073      0.287        -0.202     0.061\n",
      "Spices, Other                       0.4059      1.018      0.399      0.691        -1.624     2.436\n",
      "Sweet potatoes                     -0.0334      0.064     -0.518      0.606        -0.162     0.095\n",
      "Oranges, Mandarines                -0.1394      0.147     -0.949      0.346        -0.432     0.154\n",
      "Rice (Milled Equivalent)            0.0860      0.028      3.127      0.003         0.031     0.141\n",
      "Butter, Ghee                       -0.3535      0.655     -0.540      0.591        -1.659     0.952\n",
      "Fats, Animals, Raw                 -0.0051      0.467     -0.011      0.991        -0.936     0.926\n",
      "Crustaceans                         0.2153      0.698      0.309      0.759        -1.176     1.607\n",
      "Marine Fish, Other                  0.1552      0.260      0.597      0.553        -0.363     0.674\n",
      "Aquatic Plants                      0.2382      0.365      0.654      0.515        -0.488     0.965\n",
      "Pigmeat                            -0.2206      0.164     -1.346      0.182        -0.547     0.106\n",
      "Freshwater Fish                    -0.2497      0.414     -0.603      0.549        -1.076     0.576\n",
      "Poultry Meat                       -0.1033      0.198     -0.521      0.604        -0.498     0.292\n",
      "Fish, Liver Oil                     0.2645      0.266      0.994      0.324        -0.266     0.795\n",
      "Meat, Other                        -0.2934      0.252     -1.163      0.249        -0.796     0.209\n",
      "Cephalopods                        -0.4057      0.604     -0.671      0.504        -1.611     0.799\n",
      "Mutton & Goat Meat                  0.0483      0.161      0.299      0.765        -0.273     0.370\n",
      "Pelagic Fish                       -0.1375      0.160     -0.859      0.393        -0.457     0.182\n",
      "Bovine Meat                        -0.0387      0.111     -0.351      0.727        -0.259     0.182\n",
      "Molluscs, Other                     0.1697      0.841      0.202      0.841        -1.506     1.845\n",
      "Fish, Body Oil                     -0.3258      0.388     -0.840      0.404        -1.099     0.447\n",
      "Aquatic Animals, Others             0.2953      0.196      1.508      0.136        -0.095     0.686\n",
      "Honey                               0.1904      0.818      0.233      0.817        -1.440     1.821\n",
      "Offals, Edible                      0.1083      0.560      0.193      0.847        -1.008     1.225\n",
      "Demersal Fish                      -0.1629      0.245     -0.664      0.509        -0.652     0.326\n",
      "Cream                              -0.0409      0.338     -0.121      0.904        -0.715     0.633\n",
      "==============================================================================\n",
      "Omnibus:                       22.727   Durbin-Watson:                   1.864\n",
      "Prob(Omnibus):                  0.000   Jarque-Bera (JB):               40.291\n",
      "Skew:                           0.710   Prob(JB):                     1.78e-09\n",
      "Kurtosis:                       5.065   Cond. No.                         552.\n",
      "==============================================================================\n",
      "\n",
      "Warnings:\n",
      "[1] Standard Errors assume that the covariance matrix of the errors is correctly specified.\n"
     ]
    }
   ],
   "source": [
    "# Fit linear model with risk of death in 2000 as response variable\n",
    "deaths100k_diabetes_model_lasso = sm.OLS(y_death_100k_diabetes_lasso, X)\n",
    "deaths100k_diabetes_results_lasso = deaths100k_diabetes_model_lasso.fit_regularized(alpha = 0.3)\n",
    "print(deaths100k_diabetes_results_lasso.summary())"
   ]
  },
  {
   "cell_type": "markdown",
   "metadata": {},
   "source": [
    "When considering the age-standardized mortality rate from diabetes as the response variable, both the Omnibus and Jarque-Bera Tests reject the null hypothesis, claiming that there is significant evidence that the residuals are not normally distributed."
   ]
  },
  {
   "cell_type": "code",
   "execution_count": 118,
   "metadata": {
    "collapsed": false
   },
   "outputs": [
    {
     "data": {
      "image/png": "[encoded data removed]",
      "text/plain": [
       "<matplotlib.figure.Figure at 0x11a05fd0>"
      ]
     },
     "metadata": {},
     "output_type": "display_data"
    }
   ],
   "source": [
    "plot_sig_coeffs(deaths100k_diabetes_results_lasso, 0.1)"
   ]
  },
  {
   "cell_type": "markdown",
   "metadata": {},
   "source": [
    "## Deaths per 100k from Respiratory Disease as Response Variable"
   ]
  },
  {
   "cell_type": "code",
   "execution_count": 120,
   "metadata": {
    "collapsed": false
   },
   "outputs": [
    {
     "data": {
      "text/plain": [
       "{'alpha': 0.6, 'fit_intercept': True, 'normalize': True}"
      ]
     },
     "execution_count": 120,
     "metadata": {},
     "output_type": "execute_result"
    }
   ],
   "source": [
    "lasso = linear_model.Lasso(alpha = 1.0)\n",
    "y_death_100k_resp_lasso = deaths_100k_resp_2000.drop(countries_to_drop).sort_index().loc[food_1970_2000_cleaned.index]\n",
    "lasso.fit(X.values, y_death_100k_resp_lasso.values)\n",
    "lasso.score(X.values, y_death_100k_resp_lasso.values)\n",
    "lasso.coef_\n",
    "params = {\n",
    "    'alpha': [0,0.3,0.6,1.0,1.3,1.6,2.0,2.3,2.6,3.0,4.0,5.0],\n",
    "    'fit_intercept': [True, False],\n",
    "    'normalize': [True, False],\n",
    "}\n",
    "\n",
    "CV_model = sk.grid_search.GridSearchCV(lasso, param_grid=params, cv=5)\n",
    "CV_model.fit(X, y_death_100k_resp_lasso)\n",
    "CV_model.best_params_"
   ]
  },
  {
   "cell_type": "code",
   "execution_count": 121,
   "metadata": {
    "collapsed": false
   },
   "outputs": [
    {
     "name": "stdout",
     "output_type": "stream",
     "text": [
      "                            OLS Regression Results                            \n",
      "==============================================================================\n",
      "Dep. Variable:                   2000   R-squared:                       0.903\n",
      "Model:                            OLS   Adj. R-squared:                  0.792\n",
      "Method:                 Least Squares   F-statistic:                     8.144\n",
      "Date:                Mon, 12 Dec 2016   Prob (F-statistic):           4.41e-17\n",
      "Time:                        11:51:16   Log-Likelihood:                -666.48\n",
      "No. Observations:                 154   AIC:                             1497.\n",
      "Df Residuals:                      72   BIC:                             1746.\n",
      "Df Model:                          82                                         \n",
      "Covariance Type:            nonrobust                                         \n",
      "===================================================================================================\n",
      "                                      coef    std err          t      P>|t|      [95.0% Conf. Int.]\n",
      "---------------------------------------------------------------------------------------------------\n",
      "Plantains                           0.0255      0.054      0.470      0.640        -0.083     0.134\n",
      "Sugar, Raw Equivalent               0.4336      0.304      1.428      0.158        -0.172     1.039\n",
      "Beverages, Alcoholic                0.3060      0.436      0.702      0.485        -0.562     1.174\n",
      "Olives (including preserved)        0.6336      0.558      1.135      0.260        -0.479     1.747\n",
      "Cloves                             -0.0782      0.417     -0.187      0.852        -0.910     0.753\n",
      "Coconuts - Incl Copra              -0.0224      0.132     -0.170      0.866        -0.286     0.241\n",
      "Vegetables, Other                   0.0274      0.058      0.472      0.639        -0.088     0.143\n",
      "Sesame seed                        -0.0969      0.225     -0.431      0.667        -0.545     0.351\n",
      "Wine                                0.0370      0.106      0.351      0.727        -0.173     0.247\n",
      "Apples and products                -0.1347      0.230     -0.587      0.559        -0.593     0.323\n",
      "Rape and Mustard Oil               -0.3463      0.258     -1.345      0.183        -0.860     0.167\n",
      "Maize and products                  0.1172      0.039      3.019      0.004         0.040     0.195\n",
      "Groundnuts (Shelled Eq)             0.3932      0.462      0.851      0.397        -0.528     1.314\n",
      "Barley and products                -0.0335      0.146     -0.229      0.819        -0.325     0.258\n",
      "Maize Germ Oil                           0          0        nan        nan             0         0\n",
      "Beer                                0.1119      0.075      1.493      0.140        -0.038     0.261\n",
      "Groundnut Oil                       0.2584      0.514      0.503      0.617        -0.766     1.283\n",
      "Pineapples and products            -0.0578      0.302     -0.191      0.849        -0.660     0.545\n",
      "Pulses, Other and products          1.0916      0.338      3.231      0.002         0.418     1.765\n",
      "Sugar (Raw Equivalent)             -0.5929      0.323     -1.834      0.071        -1.237     0.052\n",
      "Palm Oil                            0.0511      0.244      0.210      0.834        -0.435     0.537\n",
      "Oilcrops, Other                     0.1215      0.243      0.500      0.619        -0.363     0.606\n",
      "Dates                              -0.0340      0.165     -0.206      0.837        -0.364     0.295\n",
      "Oats                               -0.4540      0.472     -0.962      0.339        -1.395     0.487\n",
      "Soyabeans                                0          0        nan        nan             0         0\n",
      "Beans                               0.2445      0.299      0.819      0.416        -0.351     0.840\n",
      "Sesameseed Oil                     -0.0368      0.239     -0.154      0.878        -0.513     0.440\n",
      "Grapes and products (excl wine)    -0.0051      0.148     -0.035      0.972        -0.300     0.289\n",
      "Beverages, Fermented                0.0041      0.050      0.083      0.934        -0.095     0.103\n",
      "Potatoes and products               0.0976      0.056      1.753      0.084        -0.013     0.208\n",
      "Cottonseed Oil                     -0.1158      0.212     -0.547      0.586        -0.538     0.306\n",
      "Onions                             -0.1608      0.334     -0.481      0.632        -0.827     0.506\n",
      "Coffee and products                -0.6198      0.889     -0.697      0.488        -2.392     1.152\n",
      "Roots, Other                        0.1117      0.070      1.596      0.115        -0.028     0.251\n",
      "Infant food                        -0.3359      0.367     -0.916      0.363        -1.067     0.395\n",
      "Cereals, Other                      0.3807      0.185      2.059      0.043         0.012     0.749\n",
      "Pepper                             -2.3166      0.782     -2.963      0.004        -3.875    -0.758\n",
      "Peas                               -0.2484      0.364     -0.682      0.497        -0.974     0.477\n",
      "Nuts and products                  -0.5859      0.751     -0.780      0.438        -2.083     0.911\n",
      "Cocoa Beans and products           -3.7417      3.296     -1.135      0.260       -10.312     2.828\n",
      "Wheat and products                  0.0587      0.038      1.553      0.125        -0.017     0.134\n",
      "Cassava and products                0.0235      0.024      0.977      0.332        -0.024     0.072\n",
      "Sunflowerseed Oil                   0.7349      0.500      1.471      0.146        -0.261     1.731\n",
      "Palmkernel Oil                     -0.0606      0.223     -0.272      0.787        -0.505     0.384\n",
      "Pimento                                  0          0        nan        nan             0         0\n",
      "Fruits, Other                      -0.0159      0.122     -0.131      0.896        -0.258     0.226\n",
      "Citrus, Other                      -0.4028      0.328     -1.228      0.223        -1.057     0.251\n",
      "Lemons, Limes and products          0.0849      0.444      0.191      0.849        -0.801     0.971\n",
      "Tea (including mate)                0.0484      0.828      0.058      0.954        -1.602     1.699\n",
      "Soyabean Oil                        0.3437      0.483      0.712      0.479        -0.619     1.306\n",
      "Grapefruit and products             0.1541      0.179      0.859      0.393        -0.204     0.512\n",
      "Rye and products                   -0.0902      0.183     -0.493      0.623        -0.455     0.274\n",
      "Olive Oil                           0.1626      0.734      0.221      0.825        -1.301     1.627\n",
      "Coconut Oil                        -0.1250      0.272     -0.460      0.647        -0.667     0.417\n",
      "Tomatoes and products              -0.0119      0.135     -0.088      0.930        -0.281     0.257\n",
      "Oilcrops Oil, Other                 0.4229      0.387      1.094      0.278        -0.348     1.194\n",
      "Bananas                            -0.0073      0.087     -0.084      0.934        -0.180     0.166\n",
      "Spices, Other                       0.8422      1.187      0.710      0.480        -1.524     3.208\n",
      "Sweet potatoes                      0.0386      0.086      0.451      0.653        -0.132     0.209\n",
      "Oranges, Mandarines                      0          0        nan        nan             0         0\n",
      "Rice (Milled Equivalent)            0.2584      0.037      7.029      0.000         0.185     0.332\n",
      "Butter, Ghee                        0.5590      0.867      0.645      0.521        -1.170     2.288\n",
      "Fats, Animals, Raw                 -1.1710      0.621     -1.885      0.063        -2.409     0.067\n",
      "Crustaceans                         1.2177      0.944      1.289      0.201        -0.665     3.100\n",
      "Marine Fish, Other                       0          0        nan        nan             0         0\n",
      "Aquatic Plants                      0.3700      0.497      0.745      0.459        -0.621     1.360\n",
      "Pigmeat                             0.1570      0.219      0.717      0.476        -0.280     0.594\n",
      "Freshwater Fish                    -0.7288      0.545     -1.337      0.185        -1.815     0.358\n",
      "Poultry Meat                       -0.1825      0.246     -0.743      0.460        -0.672     0.307\n",
      "Fish, Liver Oil                    -0.1054      0.349     -0.302      0.763        -0.800     0.590\n",
      "Meat, Other                         0.1143      0.345      0.332      0.741        -0.573     0.801\n",
      "Cephalopods                        -1.7334      0.792     -2.189      0.032        -3.312    -0.155\n",
      "Mutton & Goat Meat                  0.2342      0.218      1.076      0.286        -0.200     0.668\n",
      "Pelagic Fish                       -0.1988      0.199     -0.999      0.321        -0.595     0.198\n",
      "Bovine Meat                         0.0425      0.146      0.291      0.772        -0.249     0.334\n",
      "Molluscs, Other                    -0.1711      1.063     -0.161      0.873        -2.290     1.948\n",
      "Fish, Body Oil                      1.0490      0.487      2.154      0.035         0.078     2.020\n",
      "Aquatic Animals, Others             0.3425      0.254      1.347      0.182        -0.164     0.849\n",
      "Honey                              -0.2120      1.043     -0.203      0.840        -2.291     1.867\n",
      "Offals, Edible                     -0.7642      0.742     -1.030      0.307        -2.244     0.716\n",
      "Demersal Fish                      -0.1034      0.319     -0.324      0.747        -0.739     0.532\n",
      "Cream                               0.6892      0.455      1.515      0.134        -0.218     1.596\n",
      "==============================================================================\n",
      "Omnibus:                       43.719   Durbin-Watson:                   2.122\n",
      "Prob(Omnibus):                  0.000   Jarque-Bera (JB):              108.835\n",
      "Skew:                           1.166   Prob(JB):                     2.33e-24\n",
      "Kurtosis:                       6.394   Cond. No.                         552.\n",
      "==============================================================================\n",
      "\n",
      "Warnings:\n",
      "[1] Standard Errors assume that the covariance matrix of the errors is correctly specified.\n"
     ]
    }
   ],
   "source": [
    "# Fit linear model with risk of death in 2000 as response variable\n",
    "deaths100k_resp_model_lasso = sm.OLS(y_death_100k_resp_lasso, X)\n",
    "deaths100k_resp_results_lasso = deaths100k_resp_model_lasso.fit_regularized(alpha = 0.6)\n",
    "print(deaths100k_resp_results_lasso.summary())"
   ]
  },
  {
   "cell_type": "markdown",
   "metadata": {},
   "source": [
    "When considering the age-standardized mortality rate from respiratory disease as the response variable, both the Omnibus and Jarque-Bera Tests reject the null hypothesis of normality in the residuals."
   ]
  },
  {
   "cell_type": "code",
   "execution_count": 122,
   "metadata": {
    "collapsed": false
   },
   "outputs": [
    {
     "data": {
      "image/png": "[encoded data removed]",
      "text/plain": [
       "<matplotlib.figure.Figure at 0x1192d048>"
      ]
     },
     "metadata": {},
     "output_type": "display_data"
    }
   ],
   "source": [
    "plot_sig_coeffs(deaths100k_resp_results_lasso, 0.1)"
   ]
  }
 ],
 "metadata": {
  "anaconda-cloud": {},
  "kernelspec": {
   "display_name": "Python [Root]",
   "language": "python",
   "name": "Python [Root]"
  },
  "language_info": {
   "codemirror_mode": {
    "name": "ipython",
    "version": 2
   },
   "file_extension": ".py",
   "mimetype": "text/x-python",
   "name": "python",
   "nbconvert_exporter": "python",
   "pygments_lexer": "ipython2",
   "version": "2.7.12"
  }
 },
 "nbformat": 4,
 "nbformat_minor": 0
}
