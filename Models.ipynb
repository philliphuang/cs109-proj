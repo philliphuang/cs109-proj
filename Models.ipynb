{
 "cells": [
  {
   "cell_type": "markdown",
   "metadata": {},
   "source": [
    "# CS109 Project: Models"
   ]
  },
  {
   "cell_type": "code",
   "execution_count": 1,
   "metadata": {
    "collapsed": false
   },
   "outputs": [],
   "source": [
    "# Import packages\n",
    "import numpy as np\n",
    "import pandas as pd\n",
    "import matplotlib\n",
    "import matplotlib.pyplot as plt\n",
    "import statsmodels.formula.api as sm\n",
    "import pickle\n",
    "from sklearn.preprocessing import Imputer\n",
    "%matplotlib inline"
   ]
  },
  {
   "cell_type": "markdown",
   "metadata": {},
   "source": [
    "## Load in cleaned data\n",
    "Let's load in the data that we've cleaned and preprocessed."
   ]
  },
  {
   "cell_type": "code",
   "execution_count": 2,
   "metadata": {
    "collapsed": true
   },
   "outputs": [],
   "source": [
    "# Load cleaned NCD data from pickled files\n",
    "out = open('data/clean/deaths_100k.p', 'rb')\n",
    "deaths_100k = pickle.load(out)\n",
    "out.close()\n",
    "out = open('data/clean/risk.p', 'rb')\n",
    "risk_of_death = pickle.load(out)\n",
    "out.close()\n",
    "out = open('data/clean/crops.p', 'rb')\n",
    "crops = pickle.load(out)\n",
    "out.close()\n",
    "out = open('data/clean/meat.p', 'rb')\n",
    "meat = pickle.load(out)\n",
    "out.close()"
   ]
  },
  {
   "cell_type": "markdown",
   "metadata": {},
   "source": [
    "### Get Response Variables\n",
    "First let's isolate some possible response variables we might want to look at:\n",
    "* Deaths for 100k people in 2000 from all causes\n",
    "* Risk of death for 30 year old in 2000\n",
    "\n",
    "Note that the following analysis could naturally be extended to 2012 as well, but for this milestone we'll focus on the year 2000."
   ]
  },
  {
   "cell_type": "code",
   "execution_count": 3,
   "metadata": {
    "collapsed": false
   },
   "outputs": [],
   "source": [
    "# Get response variables\n",
    "deaths_100k_all_2000 = deaths_100k['all'][2000]\n",
    "deaths_100k_cancer_2000 = deaths_100k['cancer'][2000]\n",
    "deaths_100k_cardio_2000 = deaths_100k['cardio'][2000]\n",
    "deaths_100k_diabetes_2000 = deaths_100k['diabetes'][2000]\n",
    "deaths_100k_resp_2000 = deaths_100k['resp'][2000]\n",
    "\n",
    "risk_of_death_2000 = risk_of_death[2000]"
   ]
  },
  {
   "cell_type": "markdown",
   "metadata": {},
   "source": [
    "### Get Food Predictor Variables\n",
    "Next let's get the food predictors (crop and meat data). Rather than looking at single years, let's calculate the mean for each crop/meat in the 30 years preceding the year of our response variable."
   ]
  },
  {
   "cell_type": "code",
   "execution_count": 4,
   "metadata": {
    "collapsed": false
   },
   "outputs": [
    {
     "data": {
      "text/html": [
       "<div>\n",
       "<table border=\"1\" class=\"dataframe\">\n",
       "  <thead>\n",
       "    <tr style=\"text-align: right;\">\n",
       "      <th></th>\n",
       "      <th>Ricebran Oil</th>\n",
       "      <th>Oilcrops</th>\n",
       "      <th>Plantains</th>\n",
       "      <th>Sugar, Raw Equivalent</th>\n",
       "      <th>Beverages, Alcoholic</th>\n",
       "      <th>Roots &amp; Tuber Dry Equiv</th>\n",
       "      <th>Vegetable Oils</th>\n",
       "      <th>Olives (including preserved)</th>\n",
       "      <th>Cloves</th>\n",
       "      <th>Millet and products</th>\n",
       "      <th>...</th>\n",
       "      <th>Offals</th>\n",
       "      <th>Bovine Meat</th>\n",
       "      <th>Molluscs, Other</th>\n",
       "      <th>Fish, Body Oil</th>\n",
       "      <th>Aquatic Animals, Others</th>\n",
       "      <th>Animal fats</th>\n",
       "      <th>Honey</th>\n",
       "      <th>Offals, Edible</th>\n",
       "      <th>Demersal Fish</th>\n",
       "      <th>Cream</th>\n",
       "    </tr>\n",
       "    <tr>\n",
       "      <th>Country</th>\n",
       "      <th></th>\n",
       "      <th></th>\n",
       "      <th></th>\n",
       "      <th></th>\n",
       "      <th></th>\n",
       "      <th></th>\n",
       "      <th></th>\n",
       "      <th></th>\n",
       "      <th></th>\n",
       "      <th></th>\n",
       "      <th></th>\n",
       "      <th></th>\n",
       "      <th></th>\n",
       "      <th></th>\n",
       "      <th></th>\n",
       "      <th></th>\n",
       "      <th></th>\n",
       "      <th></th>\n",
       "      <th></th>\n",
       "      <th></th>\n",
       "      <th></th>\n",
       "    </tr>\n",
       "  </thead>\n",
       "  <tbody>\n",
       "    <tr>\n",
       "      <th>Afghanistan</th>\n",
       "      <td>NaN</td>\n",
       "      <td>2.629000</td>\n",
       "      <td>NaN</td>\n",
       "      <td>14.402000</td>\n",
       "      <td>0.002333</td>\n",
       "      <td>8.539333</td>\n",
       "      <td>7.995000</td>\n",
       "      <td>0.065333</td>\n",
       "      <td>NaN</td>\n",
       "      <td>5.360333</td>\n",
       "      <td>...</td>\n",
       "      <td>9.166000</td>\n",
       "      <td>16.762667</td>\n",
       "      <td>NaN</td>\n",
       "      <td>NaN</td>\n",
       "      <td>NaN</td>\n",
       "      <td>6.513000</td>\n",
       "      <td>0.687667</td>\n",
       "      <td>9.166000</td>\n",
       "      <td>NaN</td>\n",
       "      <td>0.000000</td>\n",
       "    </tr>\n",
       "    <tr>\n",
       "      <th>Albania</th>\n",
       "      <td>NaN</td>\n",
       "      <td>7.044333</td>\n",
       "      <td>NaN</td>\n",
       "      <td>50.132333</td>\n",
       "      <td>3.201000</td>\n",
       "      <td>10.253333</td>\n",
       "      <td>20.501000</td>\n",
       "      <td>7.017667</td>\n",
       "      <td>NaN</td>\n",
       "      <td>NaN</td>\n",
       "      <td>...</td>\n",
       "      <td>6.729333</td>\n",
       "      <td>18.681000</td>\n",
       "      <td>0.416000</td>\n",
       "      <td>0.0</td>\n",
       "      <td>0.0</td>\n",
       "      <td>8.995000</td>\n",
       "      <td>0.488667</td>\n",
       "      <td>6.734667</td>\n",
       "      <td>0.604000</td>\n",
       "      <td>0.005333</td>\n",
       "    </tr>\n",
       "    <tr>\n",
       "      <th>Algeria</th>\n",
       "      <td>NaN</td>\n",
       "      <td>1.646000</td>\n",
       "      <td>0.0</td>\n",
       "      <td>69.079333</td>\n",
       "      <td>0.108667</td>\n",
       "      <td>15.592333</td>\n",
       "      <td>33.352667</td>\n",
       "      <td>1.432667</td>\n",
       "      <td>0.004667</td>\n",
       "      <td>NaN</td>\n",
       "      <td>...</td>\n",
       "      <td>3.079333</td>\n",
       "      <td>9.742333</td>\n",
       "      <td>0.001000</td>\n",
       "      <td>0.0</td>\n",
       "      <td>0.0</td>\n",
       "      <td>5.180333</td>\n",
       "      <td>0.247333</td>\n",
       "      <td>3.079333</td>\n",
       "      <td>0.950333</td>\n",
       "      <td>NaN</td>\n",
       "    </tr>\n",
       "    <tr>\n",
       "      <th>Angola</th>\n",
       "      <td>NaN</td>\n",
       "      <td>3.671667</td>\n",
       "      <td>NaN</td>\n",
       "      <td>26.933333</td>\n",
       "      <td>1.855000</td>\n",
       "      <td>157.302000</td>\n",
       "      <td>21.056000</td>\n",
       "      <td>NaN</td>\n",
       "      <td>0.000000</td>\n",
       "      <td>16.849333</td>\n",
       "      <td>...</td>\n",
       "      <td>3.521333</td>\n",
       "      <td>21.081000</td>\n",
       "      <td>0.000333</td>\n",
       "      <td>0.0</td>\n",
       "      <td>0.0</td>\n",
       "      <td>1.588000</td>\n",
       "      <td>5.557000</td>\n",
       "      <td>3.521333</td>\n",
       "      <td>3.859667</td>\n",
       "      <td>NaN</td>\n",
       "    </tr>\n",
       "    <tr>\n",
       "      <th>Argentina</th>\n",
       "      <td>NaN</td>\n",
       "      <td>1.813000</td>\n",
       "      <td>NaN</td>\n",
       "      <td>113.051667</td>\n",
       "      <td>10.766000</td>\n",
       "      <td>41.883333</td>\n",
       "      <td>35.942667</td>\n",
       "      <td>1.235333</td>\n",
       "      <td>0.000333</td>\n",
       "      <td>NaN</td>\n",
       "      <td>...</td>\n",
       "      <td>19.928000</td>\n",
       "      <td>192.834333</td>\n",
       "      <td>0.675000</td>\n",
       "      <td>0.0</td>\n",
       "      <td>0.0</td>\n",
       "      <td>10.627667</td>\n",
       "      <td>0.505000</td>\n",
       "      <td>19.933333</td>\n",
       "      <td>13.161333</td>\n",
       "      <td>0.157000</td>\n",
       "    </tr>\n",
       "  </tbody>\n",
       "</table>\n",
       "<p>5 rows × 122 columns</p>\n",
       "</div>"
      ],
      "text/plain": [
       "             Ricebran Oil  Oilcrops  Plantains  Sugar, Raw Equivalent  \\\n",
       "Country                                                                 \n",
       "Afghanistan           NaN  2.629000        NaN              14.402000   \n",
       "Albania               NaN  7.044333        NaN              50.132333   \n",
       "Algeria               NaN  1.646000        0.0              69.079333   \n",
       "Angola                NaN  3.671667        NaN              26.933333   \n",
       "Argentina             NaN  1.813000        NaN             113.051667   \n",
       "\n",
       "             Beverages, Alcoholic  Roots & Tuber Dry Equiv  Vegetable Oils  \\\n",
       "Country                                                                      \n",
       "Afghanistan              0.002333                 8.539333        7.995000   \n",
       "Albania                  3.201000                10.253333       20.501000   \n",
       "Algeria                  0.108667                15.592333       33.352667   \n",
       "Angola                   1.855000               157.302000       21.056000   \n",
       "Argentina               10.766000                41.883333       35.942667   \n",
       "\n",
       "             Olives (including preserved)    Cloves  Millet and products  \\\n",
       "Country                                                                    \n",
       "Afghanistan                      0.065333       NaN             5.360333   \n",
       "Albania                          7.017667       NaN                  NaN   \n",
       "Algeria                          1.432667  0.004667                  NaN   \n",
       "Angola                                NaN  0.000000            16.849333   \n",
       "Argentina                        1.235333  0.000333                  NaN   \n",
       "\n",
       "               ...        Offals  Bovine Meat  Molluscs, Other  \\\n",
       "Country        ...                                               \n",
       "Afghanistan    ...      9.166000    16.762667              NaN   \n",
       "Albania        ...      6.729333    18.681000         0.416000   \n",
       "Algeria        ...      3.079333     9.742333         0.001000   \n",
       "Angola         ...      3.521333    21.081000         0.000333   \n",
       "Argentina      ...     19.928000   192.834333         0.675000   \n",
       "\n",
       "             Fish, Body Oil  Aquatic Animals, Others  Animal fats     Honey  \\\n",
       "Country                                                                       \n",
       "Afghanistan             NaN                      NaN     6.513000  0.687667   \n",
       "Albania                 0.0                      0.0     8.995000  0.488667   \n",
       "Algeria                 0.0                      0.0     5.180333  0.247333   \n",
       "Angola                  0.0                      0.0     1.588000  5.557000   \n",
       "Argentina               0.0                      0.0    10.627667  0.505000   \n",
       "\n",
       "             Offals, Edible  Demersal Fish     Cream  \n",
       "Country                                               \n",
       "Afghanistan        9.166000            NaN  0.000000  \n",
       "Albania            6.734667       0.604000  0.005333  \n",
       "Algeria            3.079333       0.950333       NaN  \n",
       "Angola             3.521333       3.859667       NaN  \n",
       "Argentina         19.933333      13.161333  0.157000  \n",
       "\n",
       "[5 rows x 122 columns]"
      ]
     },
     "execution_count": 4,
     "metadata": {},
     "output_type": "execute_result"
    }
   ],
   "source": [
    "# TODO: Turn this process into a function later?\n",
    "time_period = range(1970, 2000)\n",
    "\n",
    "# Calculate the mean for each crop/meat over the period 1970-2000\n",
    "food_1970_2000 = pd.DataFrame(index=risk_of_death.index)\n",
    "\n",
    "for crop in crops.iterkeys():\n",
    "    food_1970_2000[crop] = crops[crop][time_period].mean(axis=1)\n",
    "    \n",
    "for m in meat.iterkeys():\n",
    "    food_1970_2000[m] = meat[m][time_period].mean(axis=1)\n",
    "\n",
    "food_1970_2000.head()"
   ]
  },
  {
   "cell_type": "markdown",
   "metadata": {},
   "source": [
    "### Dropping sparse columns and rows"
   ]
  },
  {
   "cell_type": "markdown",
   "metadata": {},
   "source": [
    "Unfortunately it looks like even after averaging over ten years, we still have quite a bit of NaN's. Let's try dropping the countries that are almost half NaN's:"
   ]
  },
  {
   "cell_type": "code",
   "execution_count": 5,
   "metadata": {
    "collapsed": false
   },
   "outputs": [
    {
     "name": "stdout",
     "output_type": "stream",
     "text": [
      "['Bahrain', 'Belgium', 'Bhutan', 'Burundi', 'Comoros', 'Democratic Republic of the Congo', 'Equatorial Guinea', 'Eritrea', 'Libya', 'Montenegro', 'Papua New Guinea', 'Qatar', 'Serbia', 'Singapore', 'Somalia', 'South Sudan', 'Sudan', 'Syrian Arab Republic']\n",
      "Number of countries to drop: 18\n"
     ]
    }
   ],
   "source": [
    "# list of countries to drop due to being less than 50% full\n",
    "countries_to_drop = []\n",
    "\n",
    "for index, row in food_1970_2000.iterrows():\n",
    "    if row.isnull().sum() > len(row) / 2:\n",
    "        countries_to_drop.append(index)\n",
    "\n",
    "print countries_to_drop\n",
    "print \"Number of countries to drop:\", len(countries_to_drop)"
   ]
  },
  {
   "cell_type": "code",
   "execution_count": 6,
   "metadata": {
    "collapsed": false
   },
   "outputs": [],
   "source": [
    "# Drop the identified countries with very sparse data\n",
    "food_1970_2000_cleaned = food_1970_2000.drop(countries_to_drop)"
   ]
  },
  {
   "cell_type": "markdown",
   "metadata": {},
   "source": [
    "Let's also see how many columns are very sparse (< 50% full) and consider dropping them as well if there are not too many."
   ]
  },
  {
   "cell_type": "code",
   "execution_count": 7,
   "metadata": {
    "collapsed": false
   },
   "outputs": [
    {
     "name": "stdout",
     "output_type": "stream",
     "text": [
      "['Ricebran Oil', 'Millet and products', 'Sugar non-centrifugal', 'Molasses', 'Sugar beet', 'Sorghum and products', 'Sunflower seed', 'Sugar Crops', 'Sugar cane', 'Yams', 'Meat, Aquatic Mammals', 'Meat Meal', 'Whey']\n",
      "Number of columns to drop: 13\n"
     ]
    }
   ],
   "source": [
    "cols_to_drop = []\n",
    "\n",
    "# Identify sparse columns to drop\n",
    "for col in food_1970_2000_cleaned.columns:\n",
    "    if food_1970_2000_cleaned[col].isnull().sum() > len(food_1970_2000_cleaned[col]) / 2:\n",
    "        cols_to_drop.append(col)\n",
    "        \n",
    "print cols_to_drop\n",
    "print \"Number of columns to drop:\", len(cols_to_drop)"
   ]
  },
  {
   "cell_type": "markdown",
   "metadata": {},
   "source": [
    "Overall, there aren't too many columns to drop. However, unfortunately data on sugar-related products seems to be disproportionately sparse (which makes sense since very few countries have the correct conditions to grow sugar domestically). We'll drop these columns for now. \n",
    "\n",
    "The good news is though that we still have many columns that still contain sugar-related products even after dropping, so we should still be able to use sugar as a predictor in some form."
   ]
  },
  {
   "cell_type": "code",
   "execution_count": 8,
   "metadata": {
    "collapsed": true
   },
   "outputs": [],
   "source": [
    "# Drop identified crops with very sparse data\n",
    "food_1970_2000_cleaned = food_1970_2000_cleaned.drop(cols_to_drop, axis=1)"
   ]
  },
  {
   "cell_type": "code",
   "execution_count": 9,
   "metadata": {
    "collapsed": false
   },
   "outputs": [
    {
     "name": "stdout",
     "output_type": "stream",
     "text": [
      "Percentage NaN cells after dropping: 0.0638031693078\n"
     ]
    }
   ],
   "source": [
    "# Sanity check to see what percentage of cells are missing\n",
    "print \"Percentage NaN cells after dropping:\", food_1970_2000_cleaned.isnull().sum().sum() / float(food_1970_2000_cleaned.shape[0] * food_1970_2000_cleaned.shape[1])"
   ]
  },
  {
   "cell_type": "markdown",
   "metadata": {},
   "source": [
    "### Imputation of Missing Values\n",
    "Since the number of NaN cells has drastically been reduced, now let's use simple mean imputation (global average per crop) to fill them in. It may be worth investigating other methods for imputation in the future, but given the small number of NaN's now, this method should not have a huge impact on our results."
   ]
  },
  {
   "cell_type": "code",
   "execution_count": 10,
   "metadata": {
    "collapsed": true
   },
   "outputs": [],
   "source": [
    "# Impute by mean for each column (i.e. global average per crop)\n",
    "imp = Imputer(axis=1)\n",
    "food_1970_2000_cleaned = pd.DataFrame(imp.fit_transform(food_1970_2000_cleaned), index=food_1970_2000_cleaned.index, columns=food_1970_2000_cleaned.columns)"
   ]
  },
  {
   "cell_type": "code",
   "execution_count": 11,
   "metadata": {
    "collapsed": false
   },
   "outputs": [
    {
     "data": {
      "text/html": [
       "<div>\n",
       "<table border=\"1\" class=\"dataframe\">\n",
       "  <thead>\n",
       "    <tr style=\"text-align: right;\">\n",
       "      <th></th>\n",
       "      <th>Oilcrops</th>\n",
       "      <th>Plantains</th>\n",
       "      <th>Sugar, Raw Equivalent</th>\n",
       "      <th>Beverages, Alcoholic</th>\n",
       "      <th>Roots &amp; Tuber Dry Equiv</th>\n",
       "      <th>Vegetable Oils</th>\n",
       "      <th>Olives (including preserved)</th>\n",
       "      <th>Cloves</th>\n",
       "      <th>Coconuts - Incl Copra</th>\n",
       "      <th>Treenuts</th>\n",
       "      <th>...</th>\n",
       "      <th>Offals</th>\n",
       "      <th>Bovine Meat</th>\n",
       "      <th>Molluscs, Other</th>\n",
       "      <th>Fish, Body Oil</th>\n",
       "      <th>Aquatic Animals, Others</th>\n",
       "      <th>Animal fats</th>\n",
       "      <th>Honey</th>\n",
       "      <th>Offals, Edible</th>\n",
       "      <th>Demersal Fish</th>\n",
       "      <th>Cream</th>\n",
       "    </tr>\n",
       "    <tr>\n",
       "      <th>Country</th>\n",
       "      <th></th>\n",
       "      <th></th>\n",
       "      <th></th>\n",
       "      <th></th>\n",
       "      <th></th>\n",
       "      <th></th>\n",
       "      <th></th>\n",
       "      <th></th>\n",
       "      <th></th>\n",
       "      <th></th>\n",
       "      <th></th>\n",
       "      <th></th>\n",
       "      <th></th>\n",
       "      <th></th>\n",
       "      <th></th>\n",
       "      <th></th>\n",
       "      <th></th>\n",
       "      <th></th>\n",
       "      <th></th>\n",
       "      <th></th>\n",
       "      <th></th>\n",
       "    </tr>\n",
       "  </thead>\n",
       "  <tbody>\n",
       "    <tr>\n",
       "      <th>Afghanistan</th>\n",
       "      <td>2.629000</td>\n",
       "      <td>29.068781</td>\n",
       "      <td>14.402000</td>\n",
       "      <td>0.002333</td>\n",
       "      <td>8.539333</td>\n",
       "      <td>7.995000</td>\n",
       "      <td>0.065333</td>\n",
       "      <td>29.068781</td>\n",
       "      <td>0.015000</td>\n",
       "      <td>2.327333</td>\n",
       "      <td>...</td>\n",
       "      <td>9.166000</td>\n",
       "      <td>16.762667</td>\n",
       "      <td>29.068781</td>\n",
       "      <td>29.068781</td>\n",
       "      <td>29.068781</td>\n",
       "      <td>6.513000</td>\n",
       "      <td>0.687667</td>\n",
       "      <td>9.166000</td>\n",
       "      <td>29.068781</td>\n",
       "      <td>0.000000</td>\n",
       "    </tr>\n",
       "    <tr>\n",
       "      <th>Albania</th>\n",
       "      <td>7.044333</td>\n",
       "      <td>32.502693</td>\n",
       "      <td>50.132333</td>\n",
       "      <td>3.201000</td>\n",
       "      <td>10.253333</td>\n",
       "      <td>20.501000</td>\n",
       "      <td>7.017667</td>\n",
       "      <td>32.502693</td>\n",
       "      <td>0.006333</td>\n",
       "      <td>4.350000</td>\n",
       "      <td>...</td>\n",
       "      <td>6.729333</td>\n",
       "      <td>18.681000</td>\n",
       "      <td>0.416000</td>\n",
       "      <td>0.000000</td>\n",
       "      <td>0.000000</td>\n",
       "      <td>8.995000</td>\n",
       "      <td>0.488667</td>\n",
       "      <td>6.734667</td>\n",
       "      <td>0.604000</td>\n",
       "      <td>0.005333</td>\n",
       "    </tr>\n",
       "    <tr>\n",
       "      <th>Algeria</th>\n",
       "      <td>1.646000</td>\n",
       "      <td>0.000000</td>\n",
       "      <td>69.079333</td>\n",
       "      <td>0.108667</td>\n",
       "      <td>15.592333</td>\n",
       "      <td>33.352667</td>\n",
       "      <td>1.432667</td>\n",
       "      <td>0.004667</td>\n",
       "      <td>0.012000</td>\n",
       "      <td>1.453667</td>\n",
       "      <td>...</td>\n",
       "      <td>3.079333</td>\n",
       "      <td>9.742333</td>\n",
       "      <td>0.001000</td>\n",
       "      <td>0.000000</td>\n",
       "      <td>0.000000</td>\n",
       "      <td>5.180333</td>\n",
       "      <td>0.247333</td>\n",
       "      <td>3.079333</td>\n",
       "      <td>0.950333</td>\n",
       "      <td>25.450712</td>\n",
       "    </tr>\n",
       "    <tr>\n",
       "      <th>Angola</th>\n",
       "      <td>3.671667</td>\n",
       "      <td>26.325172</td>\n",
       "      <td>26.933333</td>\n",
       "      <td>1.855000</td>\n",
       "      <td>157.302000</td>\n",
       "      <td>21.056000</td>\n",
       "      <td>26.325172</td>\n",
       "      <td>0.000000</td>\n",
       "      <td>0.000000</td>\n",
       "      <td>0.401000</td>\n",
       "      <td>...</td>\n",
       "      <td>3.521333</td>\n",
       "      <td>21.081000</td>\n",
       "      <td>0.000333</td>\n",
       "      <td>0.000000</td>\n",
       "      <td>0.000000</td>\n",
       "      <td>1.588000</td>\n",
       "      <td>5.557000</td>\n",
       "      <td>3.521333</td>\n",
       "      <td>3.859667</td>\n",
       "      <td>26.325172</td>\n",
       "    </tr>\n",
       "    <tr>\n",
       "      <th>Argentina</th>\n",
       "      <td>1.813000</td>\n",
       "      <td>44.950187</td>\n",
       "      <td>113.051667</td>\n",
       "      <td>10.766000</td>\n",
       "      <td>41.883333</td>\n",
       "      <td>35.942667</td>\n",
       "      <td>1.235333</td>\n",
       "      <td>0.000333</td>\n",
       "      <td>0.584000</td>\n",
       "      <td>1.133000</td>\n",
       "      <td>...</td>\n",
       "      <td>19.928000</td>\n",
       "      <td>192.834333</td>\n",
       "      <td>0.675000</td>\n",
       "      <td>0.000000</td>\n",
       "      <td>0.000000</td>\n",
       "      <td>10.627667</td>\n",
       "      <td>0.505000</td>\n",
       "      <td>19.933333</td>\n",
       "      <td>13.161333</td>\n",
       "      <td>0.157000</td>\n",
       "    </tr>\n",
       "  </tbody>\n",
       "</table>\n",
       "<p>5 rows × 109 columns</p>\n",
       "</div>"
      ],
      "text/plain": [
       "             Oilcrops  Plantains  Sugar, Raw Equivalent  Beverages, Alcoholic  \\\n",
       "Country                                                                         \n",
       "Afghanistan  2.629000  29.068781              14.402000              0.002333   \n",
       "Albania      7.044333  32.502693              50.132333              3.201000   \n",
       "Algeria      1.646000   0.000000              69.079333              0.108667   \n",
       "Angola       3.671667  26.325172              26.933333              1.855000   \n",
       "Argentina    1.813000  44.950187             113.051667             10.766000   \n",
       "\n",
       "             Roots & Tuber Dry Equiv  Vegetable Oils  \\\n",
       "Country                                                \n",
       "Afghanistan                 8.539333        7.995000   \n",
       "Albania                    10.253333       20.501000   \n",
       "Algeria                    15.592333       33.352667   \n",
       "Angola                    157.302000       21.056000   \n",
       "Argentina                  41.883333       35.942667   \n",
       "\n",
       "             Olives (including preserved)     Cloves  Coconuts - Incl Copra  \\\n",
       "Country                                                                       \n",
       "Afghanistan                      0.065333  29.068781               0.015000   \n",
       "Albania                          7.017667  32.502693               0.006333   \n",
       "Algeria                          1.432667   0.004667               0.012000   \n",
       "Angola                          26.325172   0.000000               0.000000   \n",
       "Argentina                        1.235333   0.000333               0.584000   \n",
       "\n",
       "             Treenuts    ...         Offals  Bovine Meat  Molluscs, Other  \\\n",
       "Country                  ...                                                \n",
       "Afghanistan  2.327333    ...       9.166000    16.762667        29.068781   \n",
       "Albania      4.350000    ...       6.729333    18.681000         0.416000   \n",
       "Algeria      1.453667    ...       3.079333     9.742333         0.001000   \n",
       "Angola       0.401000    ...       3.521333    21.081000         0.000333   \n",
       "Argentina    1.133000    ...      19.928000   192.834333         0.675000   \n",
       "\n",
       "             Fish, Body Oil  Aquatic Animals, Others  Animal fats     Honey  \\\n",
       "Country                                                                       \n",
       "Afghanistan       29.068781                29.068781     6.513000  0.687667   \n",
       "Albania            0.000000                 0.000000     8.995000  0.488667   \n",
       "Algeria            0.000000                 0.000000     5.180333  0.247333   \n",
       "Angola             0.000000                 0.000000     1.588000  5.557000   \n",
       "Argentina          0.000000                 0.000000    10.627667  0.505000   \n",
       "\n",
       "             Offals, Edible  Demersal Fish      Cream  \n",
       "Country                                                \n",
       "Afghanistan        9.166000      29.068781   0.000000  \n",
       "Albania            6.734667       0.604000   0.005333  \n",
       "Algeria            3.079333       0.950333  25.450712  \n",
       "Angola             3.521333       3.859667  26.325172  \n",
       "Argentina         19.933333      13.161333   0.157000  \n",
       "\n",
       "[5 rows x 109 columns]"
      ]
     },
     "execution_count": 11,
     "metadata": {},
     "output_type": "execute_result"
    }
   ],
   "source": [
    "food_1970_2000_cleaned.head()"
   ]
  },
  {
   "cell_type": "code",
   "execution_count": 29,
   "metadata": {
    "collapsed": false
   },
   "outputs": [],
   "source": [
    "column_set = set(food_1970_2000_cleaned.columns)"
   ]
  },
  {
   "cell_type": "code",
   "execution_count": 43,
   "metadata": {
    "collapsed": false
   },
   "outputs": [
    {
     "data": {
      "text/plain": [
       "True"
      ]
     },
     "execution_count": 43,
     "metadata": {},
     "output_type": "execute_result"
    }
   ],
   "source": [
    "'Rice (Paddy Equivalent)' in column_set"
   ]
  },
  {
   "cell_type": "code",
   "execution_count": 39,
   "metadata": {
    "collapsed": false
   },
   "outputs": [
    {
     "data": {
      "text/plain": [
       "10642.679130952385"
      ]
     },
     "execution_count": 39,
     "metadata": {},
     "output_type": "execute_result"
    }
   ],
   "source": [
    "sum(food_1970_2000_cleaned['Sugar (Raw Equivalent)'])"
   ]
  },
  {
   "cell_type": "code",
   "execution_count": 40,
   "metadata": {
    "collapsed": false
   },
   "outputs": [
    {
     "data": {
      "text/plain": [
       "11461.280595238091"
      ]
     },
     "execution_count": 40,
     "metadata": {},
     "output_type": "execute_result"
    }
   ],
   "source": [
    "sum(food_1970_2000_cleaned['Sugar, Raw Equivalent'])"
   ]
  },
  {
   "cell_type": "markdown",
   "metadata": {},
   "source": [
    "# I. Null Model\n",
    "First we fit a null model where the disease incidence in a country is the same as the global average."
   ]
  },
  {
   "cell_type": "code",
   "execution_count": 12,
   "metadata": {
    "collapsed": true
   },
   "outputs": [],
   "source": [
    "# Null model that predicts a response that is the same as the global average\n",
    "def null_model(x, train_y):\n",
    "    # Get global average\n",
    "    global_avg = np.mean(train_y)\n",
    "    n = x.shape[0]\n",
    "    \n",
    "    return np.repeat([global_avg], n)"
   ]
  },
  {
   "cell_type": "code",
   "execution_count": 13,
   "metadata": {
    "collapsed": false
   },
   "outputs": [
    {
     "data": {
      "text/plain": [
       "array([ 48.46753247,  48.46753247,  48.46753247,  48.46753247,\n",
       "        48.46753247,  48.46753247,  48.46753247,  48.46753247,\n",
       "        48.46753247,  48.46753247,  48.46753247,  48.46753247,\n",
       "        48.46753247,  48.46753247,  48.46753247,  48.46753247,\n",
       "        48.46753247,  48.46753247,  48.46753247,  48.46753247,\n",
       "        48.46753247,  48.46753247,  48.46753247,  48.46753247,\n",
       "        48.46753247,  48.46753247,  48.46753247,  48.46753247,\n",
       "        48.46753247,  48.46753247,  48.46753247,  48.46753247,\n",
       "        48.46753247,  48.46753247,  48.46753247,  48.46753247,\n",
       "        48.46753247,  48.46753247,  48.46753247,  48.46753247,\n",
       "        48.46753247,  48.46753247,  48.46753247,  48.46753247,\n",
       "        48.46753247,  48.46753247,  48.46753247,  48.46753247,\n",
       "        48.46753247,  48.46753247,  48.46753247,  48.46753247,\n",
       "        48.46753247,  48.46753247,  48.46753247,  48.46753247,\n",
       "        48.46753247,  48.46753247,  48.46753247,  48.46753247,\n",
       "        48.46753247,  48.46753247,  48.46753247,  48.46753247,\n",
       "        48.46753247,  48.46753247,  48.46753247,  48.46753247,\n",
       "        48.46753247,  48.46753247,  48.46753247,  48.46753247,\n",
       "        48.46753247,  48.46753247,  48.46753247,  48.46753247,\n",
       "        48.46753247,  48.46753247,  48.46753247,  48.46753247,\n",
       "        48.46753247,  48.46753247,  48.46753247,  48.46753247,\n",
       "        48.46753247,  48.46753247,  48.46753247,  48.46753247,\n",
       "        48.46753247,  48.46753247,  48.46753247,  48.46753247,\n",
       "        48.46753247,  48.46753247,  48.46753247,  48.46753247,\n",
       "        48.46753247,  48.46753247,  48.46753247,  48.46753247,\n",
       "        48.46753247,  48.46753247,  48.46753247,  48.46753247,\n",
       "        48.46753247,  48.46753247,  48.46753247,  48.46753247,\n",
       "        48.46753247,  48.46753247,  48.46753247,  48.46753247,\n",
       "        48.46753247,  48.46753247,  48.46753247,  48.46753247,\n",
       "        48.46753247,  48.46753247,  48.46753247,  48.46753247,\n",
       "        48.46753247,  48.46753247,  48.46753247,  48.46753247,\n",
       "        48.46753247,  48.46753247,  48.46753247,  48.46753247,\n",
       "        48.46753247,  48.46753247,  48.46753247,  48.46753247,\n",
       "        48.46753247,  48.46753247,  48.46753247,  48.46753247,\n",
       "        48.46753247,  48.46753247,  48.46753247,  48.46753247,\n",
       "        48.46753247,  48.46753247,  48.46753247,  48.46753247,\n",
       "        48.46753247,  48.46753247,  48.46753247,  48.46753247,\n",
       "        48.46753247,  48.46753247,  48.46753247,  48.46753247,\n",
       "        48.46753247,  48.46753247])"
      ]
     },
     "execution_count": 13,
     "metadata": {},
     "output_type": "execute_result"
    }
   ],
   "source": [
    "# Run nu\n",
    "null_model(food_1970_2000_cleaned.sort_index(), deaths_100k_resp_2000.drop(countries_to_drop).sort_index())"
   ]
  },
  {
   "cell_type": "markdown",
   "metadata": {},
   "source": [
    "# II. Linear Regression\n",
    "Now let's try to predict health outcomes using the data that we've cleaned and preprocessed and simple linear regression."
   ]
  },
  {
   "cell_type": "markdown",
   "metadata": {},
   "source": [
    "## Risk of Death in 2000 as Response Variable"
   ]
  },
  {
   "cell_type": "code",
   "execution_count": 14,
   "metadata": {
    "collapsed": true
   },
   "outputs": [],
   "source": [
    "# Plots bar graph of coefficient estimates for regression model and given significance level \n",
    "def plot_sig_coeffs(fit, sig_level):\n",
    "    # Filter for predictors with p-values less than provided cutoff\n",
    "    significant = fit.pvalues[fit.pvalues <= sig_level]\n",
    "    # Plot coefficient estimates for predictors with p < 0.1 \n",
    "    fit.params[significant.index].sort_values().plot(kind=\"bar\", \n",
    "        title=\"Coefficient Estimates for Predictors with p < 0.1\", \n",
    "        )"
   ]
  },
  {
   "cell_type": "code",
   "execution_count": 15,
   "metadata": {
    "collapsed": false
   },
   "outputs": [
    {
     "name": "stdout",
     "output_type": "stream",
     "text": [
      "                            OLS Regression Results                            \n",
      "==============================================================================\n",
      "Dep. Variable:                   2000   R-squared:                       0.991\n",
      "Model:                            OLS   Adj. R-squared:                  0.969\n",
      "Method:                 Least Squares   F-statistic:                     44.72\n",
      "Date:                Thu, 08 Dec 2016   Prob (F-statistic):           9.43e-28\n",
      "Time:                        19:39:49   Log-Likelihood:                -339.98\n",
      "No. Observations:                 154   AIC:                             898.0\n",
      "Df Residuals:                      45   BIC:                             1229.\n",
      "Df Model:                         109                                         \n",
      "Covariance Type:            nonrobust                                         \n",
      "===================================================================================================\n",
      "                                      coef    std err          t      P>|t|      [95.0% Conf. Int.]\n",
      "---------------------------------------------------------------------------------------------------\n",
      "Oilcrops                           -0.0068      0.151     -0.045      0.964        -0.310     0.297\n",
      "Plantains                           0.0336      0.031      1.078      0.287        -0.029     0.096\n",
      "Sugar, Raw Equivalent              -0.1882      0.863     -0.218      0.828        -1.926     1.550\n",
      "Beverages, Alcoholic                0.1497      0.110      1.365      0.179        -0.071     0.371\n",
      "Roots & Tuber Dry Equiv             0.0372      0.659      0.056      0.955        -1.290     1.364\n",
      "Vegetable Oils                      0.1666      0.096      1.730      0.091        -0.027     0.361\n",
      "Olives (including preserved)       -0.0779      0.172     -0.454      0.652        -0.424     0.268\n",
      "Cloves                             -0.0545      0.086     -0.634      0.529        -0.228     0.119\n",
      "Coconuts - Incl Copra               0.0248      0.151      0.164      0.870        -0.280     0.329\n",
      "Treenuts                            0.8000      3.347      0.239      0.812        -5.941     7.541\n",
      "Vegetables, Other                  -0.3316      0.128     -2.587      0.013        -0.590    -0.073\n",
      "Sesame seed                        -0.0358      0.041     -0.874      0.387        -0.118     0.047\n",
      "Wine                               -0.0210      0.072     -0.290      0.773        -0.167     0.125\n",
      "Apples and products                 0.0233      0.060      0.390      0.698        -0.097     0.144\n",
      "Rape and Mustard Oil               -0.0248      0.062     -0.402      0.690        -0.149     0.100\n",
      "Sugar & Sweeteners                  0.2039      0.865      0.236      0.815        -1.538     1.946\n",
      "Maize and products                 -0.0013      0.010     -0.133      0.895        -0.021     0.019\n",
      "Sweeteners, Other                   0.1292      0.133      0.971      0.337        -0.139     0.397\n",
      "Groundnuts (Shelled Eq)            -0.1820      0.643     -0.283      0.778        -1.477     1.113\n",
      "Vegetables                          0.3132      0.128      2.454      0.018         0.056     0.570\n",
      "Barley and products                -0.0555      0.028     -1.972      0.055        -0.112     0.001\n",
      "Maize Germ Oil                      0.2186      0.191      1.144      0.259        -0.166     0.604\n",
      "Beer                               -0.0285      0.076     -0.373      0.711        -0.183     0.126\n",
      "Groundnut Oil                       0.2157      0.120      1.797      0.079        -0.026     0.457\n",
      "Pineapples and products             0.0008      0.062      0.014      0.989        -0.123     0.125\n",
      "Pulses, Other and products         -0.1027      0.116     -0.882      0.382        -0.337     0.132\n",
      "Miscellaneous                      -2.2574      3.145     -0.718      0.477        -8.593     4.078\n",
      "Sugar (Raw Equivalent)            -80.1606    751.630     -0.107      0.916     -1594.020  1433.699\n",
      "Alcoholic Beverages                 0.0346      0.075      0.462      0.646        -0.116     0.185\n",
      "Palm Oil                            0.0604      0.048      1.268      0.211        -0.036     0.156\n",
      "Oilcrops, Other                     0.1147      0.048      2.388      0.021         0.018     0.211\n",
      "Dates                               0.1042      0.051      2.046      0.047         0.002     0.207\n",
      "Oats                                0.0382      0.110      0.347      0.730        -0.184     0.260\n",
      "Soyabeans                          -0.2755      0.134     -2.052      0.046        -0.546    -0.005\n",
      "Beans                              -0.0541      0.098     -0.551      0.584        -0.252     0.144\n",
      "Cereals - Excluding Beer            0.0324      0.009      3.584      0.001         0.014     0.051\n",
      "Sesameseed Oil                      0.0561      0.054      1.047      0.301        -0.052     0.164\n",
      "Grapes and products (excl wine)     0.0733      0.042      1.732      0.090        -0.012     0.159\n",
      "Rice (Paddy Equivalent)           -53.2473    501.986     -0.106      0.916     -1064.298   957.804\n",
      "Beverages, Fermented               -0.0213      0.075     -0.282      0.779        -0.173     0.131\n",
      "Potatoes and products               0.0035      0.029      0.121      0.904        -0.055     0.062\n",
      "Cottonseed Oil                     -0.0775      0.043     -1.814      0.076        -0.164     0.009\n",
      "Onions                             -0.2665      0.111     -2.405      0.020        -0.490    -0.043\n",
      "Coffee and products                 0.8254      0.663      1.245      0.220        -0.510     2.161\n",
      "Roots, Other                        0.0207      0.015      1.374      0.176        -0.010     0.051\n",
      "Sugar, Refined Equiv               87.1361    816.971      0.107      0.916     -1558.328  1732.600\n",
      "Infant food                         2.3179      3.147      0.737      0.465        -4.021     8.656\n",
      "Groundnuts (in Shell Eq)            0.1308      0.584      0.224      0.824        -1.046     1.308\n",
      "Cereals, Other                      0.0293      0.036      0.820      0.416        -0.043     0.101\n",
      "Pepper                             -0.3168      0.216     -1.469      0.149        -0.751     0.118\n",
      "Peas                                0.0367      0.085      0.434      0.666        -0.134     0.207\n",
      "Nuts and products                  -1.0617      3.412     -0.311      0.757        -7.934     5.811\n",
      "Cocoa Beans and products            1.5150      1.001      1.513      0.137        -0.501     3.531\n",
      "Wheat and products                  0.0030      0.011      0.268      0.790        -0.020     0.026\n",
      "Cassava and products               -0.0024      0.042     -0.056      0.955        -0.087     0.082\n",
      "Fruits - Excluding Wine            -0.0488      0.031     -1.594      0.118        -0.111     0.013\n",
      "Spices                              0.0637      0.207      0.307      0.760        -0.354     0.482\n",
      "Sunflowerseed Oil                   0.0983      0.098      1.000      0.323        -0.100     0.296\n",
      "Pulses                              0.0968      0.108      0.894      0.376        -0.121     0.315\n",
      "Palmkernel Oil                     -0.0116      0.048     -0.243      0.809        -0.107     0.084\n",
      "Pimento                            -0.0544      0.094     -0.579      0.565        -0.244     0.135\n",
      "Fruits, Other                       0.0971      0.040      2.448      0.018         0.017     0.177\n",
      "Citrus, Other                      -0.0543      0.074     -0.735      0.466        -0.203     0.095\n",
      "Lemons, Limes and products         -0.0318      0.107     -0.296      0.768        -0.248     0.184\n",
      "Tea (including mate)                0.6583      0.617      1.066      0.292        -0.585     1.902\n",
      "Soyabean Oil                        0.0287      0.088      0.326      0.746        -0.149     0.206\n",
      "Grapefruit and products             0.0763      0.042      1.812      0.077        -0.009     0.161\n",
      "Rye and products                    0.0408      0.038      1.063      0.294        -0.036     0.118\n",
      "Olive Oil                           0.0148      0.159      0.093      0.926        -0.305     0.334\n",
      "Coconut Oil                         0.1199      0.062      1.946      0.058        -0.004     0.244\n",
      "Starchy Roots                       0.0014      0.156      0.009      0.993        -0.313     0.316\n",
      "Tomatoes and products              -0.3134      0.135     -2.313      0.025        -0.586    -0.041\n",
      "Oilcrops Oil, Other                 0.1903      0.080      2.378      0.022         0.029     0.352\n",
      "Bananas                             0.0666      0.036      1.860      0.069        -0.006     0.139\n",
      "Spices, Other                      -0.1185      0.325     -0.364      0.717        -0.773     0.536\n",
      "Sweet potatoes                      0.0197      0.024      0.816      0.419        -0.029     0.068\n",
      "Oranges, Mandarines                -0.0120      0.049     -0.244      0.809        -0.111     0.087\n",
      "Rice (Milled Equivalent)           79.8507    752.603      0.106      0.916     -1435.970  1595.672\n",
      "Stimulants                         -0.7998      0.625     -1.279      0.207        -2.059     0.460\n",
      "Aquatic Products, Other             0.0281      0.207      0.136      0.893        -0.389     0.445\n",
      "Butter, Ghee                       -0.1990      0.280     -0.711      0.481        -0.762     0.365\n",
      "Fats, Animals, Raw                 -0.5402      0.237     -2.276      0.028        -1.018    -0.062\n",
      "Crustaceans                        -0.2870      0.288     -0.997      0.324        -0.867     0.293\n",
      "Eggs                                0.2456      0.130      1.885      0.066        -0.017     0.508\n",
      "Milk, Whole                         0.0055      0.014      0.386      0.701        -0.023     0.034\n",
      "Marine Fish, Other                  0.1560      0.109      1.437      0.158        -0.063     0.375\n",
      "Aquatic Plants                     -0.0439      0.121     -0.362      0.719        -0.288     0.200\n",
      "Pigmeat                            -0.0998      0.163     -0.613      0.543        -0.428     0.228\n",
      "Meat                                0.0432      0.163      0.266      0.792        -0.284     0.371\n",
      "Freshwater Fish                     0.1172      0.133      0.882      0.382        -0.150     0.385\n",
      "Poultry Meat                       -0.1328      0.164     -0.809      0.423        -0.464     0.198\n",
      "Milk - Excluding Butter            -0.0198      0.013     -1.485      0.144        -0.047     0.007\n",
      "Fish, Liver Oil                     0.1994      0.070      2.861      0.006         0.059     0.340\n",
      "Fish, Seafood                      -0.1939      0.102     -1.893      0.065        -0.400     0.012\n",
      "Meat, Other                         0.0154      0.160      0.097      0.924        -0.307     0.337\n",
      "Cephalopods                        -0.1298      0.172     -0.753      0.455        -0.477     0.217\n",
      "Mutton & Goat Meat                  0.0895      0.175      0.511      0.612        -0.264     0.443\n",
      "Cheese                             -0.1583      0.174     -0.912      0.367        -0.508     0.191\n",
      "Pelagic Fish                        0.1164      0.104      1.117      0.270        -0.093     0.326\n",
      "Offals                             -0.4228      2.314     -0.183      0.856        -5.084     4.239\n",
      "Bovine Meat                        -0.0301      0.159     -0.188      0.851        -0.351     0.291\n",
      "Molluscs, Other                     0.2979      0.270      1.104      0.275        -0.245     0.841\n",
      "Fish, Body Oil                     -0.0306      0.111     -0.277      0.783        -0.253     0.192\n",
      "Aquatic Animals, Others             0.0813      0.050      1.614      0.114        -0.020     0.183\n",
      "Animal fats                         0.4045      0.195      2.069      0.044         0.011     0.798\n",
      "Honey                              -0.4656      0.271     -1.717      0.093        -1.012     0.080\n",
      "Offals, Edible                      0.2778      2.307      0.120      0.905        -4.369     4.925\n",
      "Demersal Fish                       0.2022      0.135      1.499      0.141        -0.069     0.474\n",
      "Cream                               0.0368      0.094      0.393      0.696        -0.152     0.225\n",
      "==============================================================================\n",
      "Omnibus:                        0.467   Durbin-Watson:                   1.949\n",
      "Prob(Omnibus):                  0.792   Jarque-Bera (JB):                0.177\n",
      "Skew:                           0.002   Prob(JB):                        0.915\n",
      "Kurtosis:                       3.166   Cond. No.                     2.60e+06\n",
      "==============================================================================\n",
      "\n",
      "Warnings:\n",
      "[1] Standard Errors assume that the covariance matrix of the errors is correctly specified.\n",
      "[2] The condition number is large, 2.6e+06. This might indicate that there are\n",
      "strong multicollinearity or other numerical problems.\n"
     ]
    }
   ],
   "source": [
    "# Fit linear model with risk of death in 2000 as response variable\n",
    "risk_2000_model = sm.OLS(risk_of_death_2000.drop(countries_to_drop), food_1970_2000_cleaned)\n",
    "risk_2000_results = risk_2000_model.fit()\n",
    "print(risk_2000_results.summary())"
   ]
  },
  {
   "cell_type": "code",
   "execution_count": 16,
   "metadata": {
    "collapsed": false
   },
   "outputs": [
    {
     "data": {
      "image/png": "[encoded data removed]",
      "text/plain": [
       "<matplotlib.figure.Figure at 0x10909f550>"
      ]
     },
     "metadata": {},
     "output_type": "display_data"
    }
   ],
   "source": [
    "# Set p <= 0.1 to display borderline significant results as well\n",
    "plot_sig_coeffs(risk_2000_results, 0.1)"
   ]
  },
  {
   "cell_type": "markdown",
   "metadata": {},
   "source": [
    "### Interpretation\n",
    "### Statistical Issues\n",
    "From the summary of the fit, we see that multicollinearity is an issue as expected, so moving forward we will have to address that with variable selection- lasso regression will probably be a good way of dealing with that. Other standard regression diagnostics, such as checking for normality of residuals, homoskedasticity and nonlinearity should be performed as well when fine-tuning our eventual models.\n",
    "\n",
    "### Categorization Issues\n",
    "From the graph, it's apparent that an issue we have is the categorization of food items from the FAO database. For example, FAO has separate categories for raw animal fats and animal fats (which have opposite signs for coefficient estimates), which does not make a lot of sense since we are dealing with food for human consumption. Several other categories- vegetables as opposed to vegetables, other are problematic as well."
   ]
  },
  {
   "cell_type": "markdown",
   "metadata": {},
   "source": [
    "Let's fit linear models for the other response variables in the year 2000.\n",
    "\n",
    "## Deaths per 100k from All Causes as Response Variable"
   ]
  },
  {
   "cell_type": "code",
   "execution_count": 17,
   "metadata": {
    "collapsed": false
   },
   "outputs": [
    {
     "name": "stdout",
     "output_type": "stream",
     "text": [
      "                            OLS Regression Results                            \n",
      "==============================================================================\n",
      "Dep. Variable:                   2000   R-squared:                       0.991\n",
      "Model:                            OLS   Adj. R-squared:                  0.969\n",
      "Method:                 Least Squares   F-statistic:                     45.13\n",
      "Date:                Thu, 08 Dec 2016   Prob (F-statistic):           7.72e-28\n",
      "Time:                        19:39:50   Log-Likelihood:                -855.11\n",
      "No. Observations:                 154   AIC:                             1928.\n",
      "Df Residuals:                      45   BIC:                             2259.\n",
      "Df Model:                         109                                         \n",
      "Covariance Type:            nonrobust                                         \n",
      "===================================================================================================\n",
      "                                      coef    std err          t      P>|t|      [95.0% Conf. Int.]\n",
      "---------------------------------------------------------------------------------------------------\n",
      "Oilcrops                            1.3358      4.272      0.313      0.756        -7.269     9.941\n",
      "Plantains                           0.6595      0.884      0.746      0.460        -1.121     2.440\n",
      "Sugar, Raw Equivalent              -5.1785     24.471     -0.212      0.833       -54.465    44.108\n",
      "Beverages, Alcoholic                1.5983      3.111      0.514      0.610        -4.668     7.864\n",
      "Roots & Tuber Dry Equiv             2.6050     18.686      0.139      0.890       -35.031    40.241\n",
      "Vegetable Oils                      5.5315      2.732      2.025      0.049         0.029    11.034\n",
      "Olives (including preserved)       -1.1222      4.867     -0.231      0.819       -10.926     8.681\n",
      "Cloves                             -0.6092      2.438     -0.250      0.804        -5.519     4.300\n",
      "Coconuts - Incl Copra              -0.9991      4.286     -0.233      0.817        -9.631     7.633\n",
      "Treenuts                          -49.5615     94.916     -0.522      0.604      -240.732   141.609\n",
      "Vegetables, Other                  -8.7421      3.636     -2.404      0.020       -16.065    -1.419\n",
      "Sesame seed                        -0.4498      1.163     -0.387      0.701        -2.792     1.892\n",
      "Wine                               -2.0348      2.055     -0.990      0.327        -6.174     2.104\n",
      "Apples and products                 0.3021      1.696      0.178      0.859        -3.113     3.717\n",
      "Rape and Mustard Oil               -1.5993      1.751     -0.913      0.366        -5.127     1.928\n",
      "Sugar & Sweeteners                  5.2843     24.529      0.215      0.830       -44.120    54.688\n",
      "Maize and products                  0.0392      0.283      0.139      0.890        -0.531     0.609\n",
      "Sweeteners, Other                   4.4600      3.775      1.181      0.244        -3.144    12.064\n",
      "Groundnuts (Shelled Eq)            -2.0247     18.229     -0.111      0.912       -38.740    34.691\n",
      "Vegetables                          8.1408      3.619      2.250      0.029         0.852    15.430\n",
      "Barley and products                -1.4352      0.798     -1.798      0.079        -3.042     0.172\n",
      "Maize Germ Oil                      2.1256      5.422      0.392      0.697        -8.794    13.045\n",
      "Beer                               -2.2674      2.169     -1.045      0.301        -6.636     2.102\n",
      "Groundnut Oil                       4.2576      3.403      1.251      0.217        -2.597    11.112\n",
      "Pineapples and products             0.3071      1.748      0.176      0.861        -3.214     3.828\n",
      "Pulses, Other and products         -4.2753      3.303     -1.294      0.202       -10.927     2.377\n",
      "Miscellaneous                    -126.4707     89.205     -1.418      0.163      -306.138    53.196\n",
      "Sugar (Raw Equivalent)          -6371.3473   2.13e+04     -0.299      0.766     -4.93e+04  3.66e+04\n",
      "Alcoholic Beverages                 2.3225      2.122      1.095      0.279        -1.951     6.595\n",
      "Palm Oil                            1.6536      1.350      1.225      0.227        -1.065     4.372\n",
      "Oilcrops, Other                     3.3022      1.362      2.425      0.019         0.560     6.045\n",
      "Dates                               3.0854      1.444      2.137      0.038         0.178     5.993\n",
      "Oats                                3.1609      3.123      1.012      0.317        -3.129     9.450\n",
      "Soyabeans                          -5.1736      3.807     -1.359      0.181       -12.842     2.495\n",
      "Beans                              -3.5319      2.787     -1.267      0.212        -9.146     2.082\n",
      "Cereals - Excluding Beer            1.0852      0.257      4.227      0.000         0.568     1.602\n",
      "Sesameseed Oil                      2.7630      1.520      1.818      0.076        -0.298     5.824\n",
      "Grapes and products (excl wine)     1.7148      1.201      1.428      0.160        -0.704     4.133\n",
      "Rice (Paddy Equivalent)            16.3667   1.42e+04      0.001      0.999     -2.87e+04  2.87e+04\n",
      "Beverages, Fermented               -1.9373      2.141     -0.905      0.370        -6.249     2.375\n",
      "Potatoes and products               0.3802      0.826      0.460      0.647        -1.283     2.044\n",
      "Cottonseed Oil                     -2.2177      1.212     -1.830      0.074        -4.658     0.223\n",
      "Onions                             -7.6020      3.143     -2.419      0.020       -13.931    -1.273\n",
      "Coffee and products                10.4592     18.807      0.556      0.581       -27.419    48.337\n",
      "Roots, Other                        0.4642      0.427      1.087      0.283        -0.396     1.324\n",
      "Sugar, Refined Equiv             6925.1318   2.32e+04      0.299      0.766     -3.97e+04  5.36e+04\n",
      "Infant food                       127.8931     89.251      1.433      0.159       -51.868   307.654\n",
      "Groundnuts (in Shell Eq)            0.2902     16.573      0.018      0.986       -33.089    33.669\n",
      "Cereals, Other                      0.8382      1.012      0.829      0.412        -1.199     2.876\n",
      "Pepper                            -11.6909      6.117     -1.911      0.062       -24.011     0.629\n",
      "Peas                                1.4491      2.398      0.604      0.549        -3.382     6.280\n",
      "Nuts and products                  47.5891     96.772      0.492      0.625      -147.320   242.498\n",
      "Cocoa Beans and products           22.3473     28.390      0.787      0.435       -34.832    79.527\n",
      "Wheat and products                  0.0259      0.320      0.081      0.936        -0.618     0.670\n",
      "Cassava and products               -0.2164      1.194     -0.181      0.857        -2.621     2.188\n",
      "Fruits - Excluding Wine            -0.7603      0.869     -0.875      0.386        -2.510     0.990\n",
      "Spices                             -3.0288      5.883     -0.515      0.609       -14.877     8.820\n",
      "Sunflowerseed Oil                   4.2389      2.789      1.520      0.136        -1.379     9.857\n",
      "Pulses                              4.4617      3.069      1.454      0.153        -1.719    10.642\n",
      "Palmkernel Oil                     -0.5063      1.350     -0.375      0.709        -3.226     2.213\n",
      "Pimento                            -0.2952      2.664     -0.111      0.912        -5.661     5.071\n",
      "Fruits, Other                       1.7853      1.125      1.587      0.120        -0.481     4.052\n",
      "Citrus, Other                      -2.2393      2.096     -1.069      0.291        -6.460     1.982\n",
      "Lemons, Limes and products          0.7404      3.046      0.243      0.809        -5.394     6.875\n",
      "Tea (including mate)                7.1619     17.507      0.409      0.684       -28.099    42.423\n",
      "Soyabean Oil                       -0.5950      2.496     -0.238      0.813        -5.621     4.431\n",
      "Grapefruit and products             2.4161      1.194      2.023      0.049         0.011     4.822\n",
      "Rye and products                    0.4530      1.088      0.417      0.679        -1.738     2.644\n",
      "Olive Oil                           0.4513      4.497      0.100      0.921        -8.606     9.509\n",
      "Coconut Oil                         2.7443      1.747      1.571      0.123        -0.774     6.263\n",
      "Starchy Roots                      -0.2988      4.430     -0.067      0.947        -9.220     8.623\n",
      "Tomatoes and products              -8.3376      3.843     -2.170      0.035       -16.077    -0.598\n",
      "Oilcrops Oil, Other                 5.1782      2.270      2.282      0.027         0.607     9.750\n",
      "Bananas                             1.2683      1.015      1.250      0.218        -0.776     3.312\n",
      "Spices, Other                       0.7870      9.223      0.085      0.932       -17.789    19.363\n",
      "Sweet potatoes                      0.0539      0.686      0.079      0.938        -1.328     1.436\n",
      "Oranges, Mandarines                -1.0136      1.397     -0.726      0.472        -3.827     1.799\n",
      "Rice (Milled Equivalent)          -24.0973   2.13e+04     -0.001      0.999      -4.3e+04   4.3e+04\n",
      "Stimulants                         -8.1590     17.732     -0.460      0.648       -43.873    27.555\n",
      "Aquatic Products, Other             1.3490      5.876      0.230      0.819       -10.487    13.185\n",
      "Butter, Ghee                       -2.8649      7.935     -0.361      0.720       -18.846    13.117\n",
      "Fats, Animals, Raw                -11.6915      6.733     -1.736      0.089       -25.252     1.869\n",
      "Crustaceans                        -7.0139      8.162     -0.859      0.395       -23.453     9.425\n",
      "Eggs                                6.1225      3.695      1.657      0.105        -1.321    13.565\n",
      "Milk, Whole                        -0.0665      0.403     -0.165      0.870        -0.878     0.745\n",
      "Marine Fish, Other                  3.9796      3.079      1.293      0.203        -2.222    10.181\n",
      "Aquatic Plants                     -1.0328      3.439     -0.300      0.765        -7.959     5.893\n",
      "Pigmeat                             1.7288      4.617      0.374      0.710        -7.570    11.028\n",
      "Meat                               -3.1414      4.612     -0.681      0.499       -12.430     6.148\n",
      "Freshwater Fish                     3.9238      3.765      1.042      0.303        -3.660    11.508\n",
      "Poultry Meat                        0.9361      4.657      0.201      0.842        -8.443    10.315\n",
      "Milk - Excluding Butter            -0.4763      0.378     -1.260      0.214        -1.237     0.285\n",
      "Fish, Liver Oil                     4.3033      1.977      2.177      0.035         0.322     8.285\n",
      "Fish, Seafood                      -4.4209      2.905     -1.522      0.135       -10.271     1.429\n",
      "Meat, Other                         4.5202      4.533      0.997      0.324        -4.611    13.651\n",
      "Cephalopods                        -6.5145      4.886     -1.333      0.189       -16.354     3.325\n",
      "Mutton & Goat Meat                  7.3138      4.974      1.471      0.148        -2.703    17.331\n",
      "Cheese                             -5.7699      4.924     -1.172      0.247       -15.688     4.148\n",
      "Pelagic Fish                        2.1973      2.954      0.744      0.461        -3.753     8.148\n",
      "Offals                             42.1173     65.640      0.642      0.524       -90.088   174.322\n",
      "Bovine Meat                         3.1638      4.522      0.700      0.488        -5.944    12.272\n",
      "Molluscs, Other                     4.2403      7.650      0.554      0.582       -11.168    19.648\n",
      "Fish, Body Oil                      0.4015      3.134      0.128      0.899        -5.911     6.714\n",
      "Aquatic Animals, Others             1.6220      1.429      1.135      0.262        -1.256     4.500\n",
      "Animal fats                         9.9560      5.544      1.796      0.079        -1.211    21.123\n",
      "Honey                              -9.2129      7.689     -1.198      0.237       -24.699     6.273\n",
      "Offals, Edible                    -45.6181     65.437     -0.697      0.489      -177.415    86.178\n",
      "Demersal Fish                       5.0423      3.825      1.318      0.194        -2.662    12.746\n",
      "Cream                               1.4952      2.654      0.563      0.576        -3.850     6.840\n",
      "==============================================================================\n",
      "Omnibus:                        0.873   Durbin-Watson:                   1.713\n",
      "Prob(Omnibus):                  0.646   Jarque-Bera (JB):                0.499\n",
      "Skew:                          -0.041   Prob(JB):                        0.779\n",
      "Kurtosis:                       3.266   Cond. No.                     2.60e+06\n",
      "==============================================================================\n",
      "\n",
      "Warnings:\n",
      "[1] Standard Errors assume that the covariance matrix of the errors is correctly specified.\n",
      "[2] The condition number is large, 2.6e+06. This might indicate that there are\n",
      "strong multicollinearity or other numerical problems.\n"
     ]
    }
   ],
   "source": [
    "deaths_100k_all_2000_model = sm.OLS(deaths_100k_all_2000.drop(countries_to_drop).sort_index(), food_1970_2000_cleaned.sort_index())\n",
    "deaths_100k_all_2000_results = deaths_100k_all_2000_model.fit()\n",
    "print(deaths_100k_all_2000_results.summary())"
   ]
  },
  {
   "cell_type": "code",
   "execution_count": 18,
   "metadata": {
    "collapsed": false
   },
   "outputs": [
    {
     "data": {
      "image/png": "[encoded data removed]",
      "text/plain": [
       "<matplotlib.figure.Figure at 0x109490650>"
      ]
     },
     "metadata": {},
     "output_type": "display_data"
    }
   ],
   "source": [
    "plot_sig_coeffs(deaths_100k_all_2000_results, 0.1)"
   ]
  },
  {
   "cell_type": "markdown",
   "metadata": {},
   "source": [
    "## Deaths per 100k from Cancer as Response Variable"
   ]
  },
  {
   "cell_type": "code",
   "execution_count": 19,
   "metadata": {
    "collapsed": false
   },
   "outputs": [
    {
     "name": "stdout",
     "output_type": "stream",
     "text": [
      "                            OLS Regression Results                            \n",
      "==============================================================================\n",
      "Dep. Variable:                   2000   R-squared:                       0.982\n",
      "Model:                            OLS   Adj. R-squared:                  0.940\n",
      "Method:                 Least Squares   F-statistic:                     23.12\n",
      "Date:                Thu, 08 Dec 2016   Prob (F-statistic):           1.41e-21\n",
      "Time:                        19:39:50   Log-Likelihood:                -652.73\n",
      "No. Observations:                 154   AIC:                             1523.\n",
      "Df Residuals:                      45   BIC:                             1854.\n",
      "Df Model:                         109                                         \n",
      "Covariance Type:            nonrobust                                         \n",
      "===================================================================================================\n",
      "                                      coef    std err          t      P>|t|      [95.0% Conf. Int.]\n",
      "---------------------------------------------------------------------------------------------------\n",
      "Oilcrops                            0.7678      1.148      0.669      0.507        -1.544     3.080\n",
      "Plantains                           0.2951      0.238      1.242      0.221        -0.183     0.773\n",
      "Sugar, Raw Equivalent              -3.1439      6.576     -0.478      0.635       -16.388    10.100\n",
      "Beverages, Alcoholic                1.3965      0.836      1.671      0.102        -0.287     3.080\n",
      "Roots & Tuber Dry Equiv             3.8137      5.021      0.760      0.452        -6.300    13.927\n",
      "Vegetable Oils                      0.3371      0.734      0.459      0.648        -1.141     1.816\n",
      "Olives (including preserved)       -1.1536      1.308     -0.882      0.382        -3.788     1.481\n",
      "Cloves                             -0.2338      0.655     -0.357      0.723        -1.553     1.085\n",
      "Coconuts - Incl Copra              -0.6960      1.152     -0.604      0.549        -3.015     1.623\n",
      "Treenuts                           23.2556     25.505      0.912      0.367       -28.114    74.625\n",
      "Vegetables, Other                  -1.6055      0.977     -1.643      0.107        -3.573     0.362\n",
      "Sesame seed                        -0.2278      0.312     -0.729      0.470        -0.857     0.401\n",
      "Wine                               -0.0314      0.552     -0.057      0.955        -1.144     1.081\n",
      "Apples and products                 0.4365      0.456      0.958      0.343        -0.481     1.354\n",
      "Rape and Mustard Oil               -0.1659      0.471     -0.353      0.726        -1.114     0.782\n",
      "Sugar & Sweeteners                  3.1850      6.591      0.483      0.631       -10.090    16.460\n",
      "Maize and products                  0.0654      0.076      0.861      0.394        -0.088     0.219\n",
      "Sweeteners, Other                   0.7778      1.014      0.767      0.447        -1.265     2.821\n",
      "Groundnuts (Shelled Eq)             0.1107      4.898      0.023      0.982        -9.755     9.977\n",
      "Vegetables                          1.5702      0.972      1.615      0.113        -0.388     3.529\n",
      "Barley and products                -0.2259      0.214     -1.053      0.298        -0.658     0.206\n",
      "Maize Germ Oil                      2.0564      1.457      1.412      0.165        -0.878     4.991\n",
      "Beer                               -0.2545      0.583     -0.437      0.664        -1.429     0.920\n",
      "Groundnut Oil                      -0.0379      0.915     -0.041      0.967        -1.880     1.804\n",
      "Pineapples and products             0.2578      0.470      0.549      0.586        -0.688     1.204\n",
      "Pulses, Other and products         -0.7709      0.887     -0.869      0.390        -2.558     1.017\n",
      "Miscellaneous                     -42.6400     23.970     -1.779      0.082       -90.919     5.639\n",
      "Sugar (Raw Equivalent)            236.5536   5728.060      0.041      0.967     -1.13e+04  1.18e+04\n",
      "Alcoholic Beverages                 0.3155      0.570      0.553      0.583        -0.833     1.464\n",
      "Palm Oil                            0.1894      0.363      0.522      0.604        -0.541     0.920\n",
      "Oilcrops, Other                     0.3178      0.366      0.868      0.390        -0.419     1.055\n",
      "Dates                              -0.2374      0.388     -0.612      0.544        -1.019     0.544\n",
      "Oats                               -0.1589      0.839     -0.189      0.851        -1.849     1.531\n",
      "Soyabeans                          -0.0792      1.023     -0.077      0.939        -2.140     1.981\n",
      "Beans                               0.0594      0.749      0.079      0.937        -1.449     1.568\n",
      "Cereals - Excluding Beer            0.1449      0.069      2.101      0.041         0.006     0.284\n",
      "Sesameseed Oil                     -0.1132      0.408     -0.277      0.783        -0.936     0.709\n",
      "Grapes and products (excl wine)     0.6162      0.323      1.910      0.063        -0.034     1.266\n",
      "Rice (Paddy Equivalent)         -9618.6001   3825.561     -2.514      0.016     -1.73e+04 -1913.526\n",
      "Beverages, Fermented               -0.1019      0.575     -0.177      0.860        -1.261     1.057\n",
      "Potatoes and products               0.1696      0.222      0.764      0.449        -0.277     0.617\n",
      "Cottonseed Oil                      0.2116      0.326      0.650      0.519        -0.444     0.867\n",
      "Onions                             -1.6216      0.844     -1.920      0.061        -3.322     0.079\n",
      "Coffee and products                -2.1307      5.054     -0.422      0.675       -12.309     8.048\n",
      "Roots, Other                       -0.0738      0.115     -0.643      0.523        -0.305     0.157\n",
      "Sugar, Refined Equiv             -257.1536   6226.019     -0.041      0.967     -1.28e+04  1.23e+04\n",
      "Infant food                        43.0108     23.983      1.793      0.080        -5.293    91.315\n",
      "Groundnuts (in Shell Eq)            0.2664      4.453      0.060      0.953        -8.703     9.236\n",
      "Cereals, Other                      0.0054      0.272      0.020      0.984        -0.542     0.553\n",
      "Pepper                             -0.8475      1.644     -0.516      0.609        -4.158     2.463\n",
      "Peas                                0.8664      0.644      1.344      0.186        -0.432     2.164\n",
      "Nuts and products                 -25.4400     26.004     -0.978      0.333       -77.814    26.934\n",
      "Cocoa Beans and products            4.8948      7.629      0.642      0.524       -10.470    20.260\n",
      "Wheat and products                  0.0489      0.086      0.569      0.572        -0.124     0.222\n",
      "Cassava and products               -0.3458      0.321     -1.078      0.287        -0.992     0.300\n",
      "Fruits - Excluding Wine            -0.4331      0.233     -1.855      0.070        -0.903     0.037\n",
      "Spices                             -2.8271      1.581     -1.788      0.080        -6.011     0.357\n",
      "Sunflowerseed Oil                  -0.9509      0.749     -1.269      0.211        -2.460     0.559\n",
      "Pulses                              0.0583      0.825      0.071      0.944        -1.603     1.719\n",
      "Palmkernel Oil                     -0.1978      0.363     -0.545      0.588        -0.929     0.533\n",
      "Pimento                             0.8882      0.716      1.241      0.221        -0.554     2.330\n",
      "Fruits, Other                       0.4403      0.302      1.456      0.152        -0.169     1.049\n",
      "Citrus, Other                      -0.0194      0.563     -0.034      0.973        -1.154     1.115\n",
      "Lemons, Limes and products          0.6589      0.818      0.805      0.425        -0.989     2.307\n",
      "Tea (including mate)               -2.2689      4.704     -0.482      0.632       -11.744     7.206\n",
      "Soyabean Oil                       -0.2503      0.671     -0.373      0.711        -1.601     1.100\n",
      "Grapefruit and products             0.0652      0.321      0.203      0.840        -0.581     0.712\n",
      "Rye and products                   -0.1980      0.292     -0.677      0.502        -0.787     0.391\n",
      "Olive Oil                           0.2313      1.208      0.191      0.849        -2.202     2.665\n",
      "Coconut Oil                         0.0899      0.469      0.192      0.849        -0.856     1.035\n",
      "Starchy Roots                      -0.7628      1.190     -0.641      0.525        -3.160     1.634\n",
      "Tomatoes and products              -1.6762      1.033     -1.623      0.111        -3.756     0.403\n",
      "Oilcrops Oil, Other                 0.4288      0.610      0.703      0.486        -0.800     1.657\n",
      "Bananas                             0.6394      0.273      2.345      0.024         0.090     1.189\n",
      "Spices, Other                      -1.2554      2.478     -0.507      0.615        -6.247     3.736\n",
      "Sweet potatoes                      0.0236      0.184      0.128      0.899        -0.348     0.395\n",
      "Oranges, Mandarines                 0.6424      0.375      1.712      0.094        -0.113     1.398\n",
      "Rice (Milled Equivalent)         1.442e+04   5735.482      2.514      0.016      2868.987   2.6e+04\n",
      "Stimulants                          3.2059      4.765      0.673      0.505        -6.391    12.803\n",
      "Aquatic Products, Other            -0.1155      1.579     -0.073      0.942        -3.296     3.065\n",
      "Butter, Ghee                       -1.9812      2.132     -0.929      0.358        -6.276     2.313\n",
      "Fats, Animals, Raw                 -1.0081      1.809     -0.557      0.580        -4.652     2.636\n",
      "Crustaceans                        -2.3511      2.193     -1.072      0.289        -6.768     2.066\n",
      "Eggs                                0.4147      0.993      0.418      0.678        -1.585     2.415\n",
      "Milk, Whole                        -0.0321      0.108     -0.296      0.768        -0.250     0.186\n",
      "Marine Fish, Other                  0.1650      0.827      0.199      0.843        -1.501     1.831\n",
      "Aquatic Plants                     -0.3882      0.924     -0.420      0.676        -2.249     1.473\n",
      "Pigmeat                            -0.6939      1.241     -0.559      0.579        -3.193     1.805\n",
      "Meat                                0.1615      1.239      0.130      0.897        -2.335     2.658\n",
      "Freshwater Fish                    -0.5752      1.012     -0.568      0.573        -2.613     1.463\n",
      "Poultry Meat                       -0.0926      1.251     -0.074      0.941        -2.613     2.428\n",
      "Milk - Excluding Butter             0.0292      0.102      0.287      0.775        -0.175     0.234\n",
      "Fish, Liver Oil                    -0.3110      0.531     -0.586      0.561        -1.381     0.759\n",
      "Fish, Seafood                      -0.2632      0.780     -0.337      0.738        -1.835     1.309\n",
      "Meat, Other                         0.8004      1.218      0.657      0.514        -1.653     3.254\n",
      "Cephalopods                         1.4721      1.313      1.121      0.268        -1.172     4.116\n",
      "Mutton & Goat Meat                  0.9448      1.336      0.707      0.483        -1.747     3.637\n",
      "Cheese                             -0.0796      1.323     -0.060      0.952        -2.745     2.585\n",
      "Pelagic Fish                       -0.0285      0.794     -0.036      0.972        -1.627     1.571\n",
      "Offals                              6.9976     17.638      0.397      0.693       -28.527    42.523\n",
      "Bovine Meat                        -0.7617      1.215     -0.627      0.534        -3.209     1.686\n",
      "Molluscs, Other                    -1.0051      2.056     -0.489      0.627        -5.145     3.135\n",
      "Fish, Body Oil                      0.0079      0.842      0.009      0.993        -1.688     1.704\n",
      "Aquatic Animals, Others             0.2111      0.384      0.550      0.585        -0.562     0.984\n",
      "Animal fats                         2.2107      1.490      1.484      0.145        -0.790     5.211\n",
      "Honey                               1.4671      2.066      0.710      0.481        -2.694     5.628\n",
      "Offals, Edible                     -8.1146     17.584     -0.461      0.647       -43.530    27.301\n",
      "Demersal Fish                      -0.2111      1.028     -0.205      0.838        -2.281     1.859\n",
      "Cream                              -0.6704      0.713     -0.940      0.352        -2.107     0.766\n",
      "==============================================================================\n",
      "Omnibus:                       84.839   Durbin-Watson:                   1.958\n",
      "Prob(Omnibus):                  0.000   Jarque-Bera (JB):              605.352\n",
      "Skew:                           1.852   Prob(JB):                    3.54e-132\n",
      "Kurtosis:                      11.979   Cond. No.                     2.60e+06\n",
      "==============================================================================\n",
      "\n",
      "Warnings:\n",
      "[1] Standard Errors assume that the covariance matrix of the errors is correctly specified.\n",
      "[2] The condition number is large, 2.6e+06. This might indicate that there are\n",
      "strong multicollinearity or other numerical problems.\n"
     ]
    }
   ],
   "source": [
    "deaths_100k_cancer_2000_model = sm.OLS(deaths_100k_cancer_2000.drop(countries_to_drop).sort_index(), food_1970_2000_cleaned.sort_index())\n",
    "deaths_100k_cancer_2000_results = deaths_100k_cancer_2000_model.fit()\n",
    "print(deaths_100k_cancer_2000_results.summary())"
   ]
  },
  {
   "cell_type": "code",
   "execution_count": 20,
   "metadata": {
    "collapsed": false
   },
   "outputs": [
    {
     "data": {
      "image/png": "[encoded data removed]",
      "text/plain": [
       "<matplotlib.figure.Figure at 0x10aa12110>"
      ]
     },
     "metadata": {},
     "output_type": "display_data"
    }
   ],
   "source": [
    "plot_sig_coeffs(deaths_100k_cancer_2000_results, 0.1)"
   ]
  },
  {
   "cell_type": "markdown",
   "metadata": {},
   "source": [
    "What is Paddy Equivalent rice? This is another categorization issue we may have to address."
   ]
  },
  {
   "cell_type": "markdown",
   "metadata": {},
   "source": [
    "## Deaths per 100k from Cardiovascular Disease as Response Variable"
   ]
  },
  {
   "cell_type": "code",
   "execution_count": 21,
   "metadata": {
    "collapsed": false
   },
   "outputs": [
    {
     "name": "stdout",
     "output_type": "stream",
     "text": [
      "                            OLS Regression Results                            \n",
      "==============================================================================\n",
      "Dep. Variable:                   2000   R-squared:                       0.986\n",
      "Model:                            OLS   Adj. R-squared:                  0.952\n",
      "Method:                 Least Squares   F-statistic:                     28.88\n",
      "Date:                Thu, 08 Dec 2016   Prob (F-statistic):           1.23e-23\n",
      "Time:                        19:39:51   Log-Likelihood:                -791.05\n",
      "No. Observations:                 154   AIC:                             1800.\n",
      "Df Residuals:                      45   BIC:                             2131.\n",
      "Df Model:                         109                                         \n",
      "Covariance Type:            nonrobust                                         \n",
      "===================================================================================================\n",
      "                                      coef    std err          t      P>|t|      [95.0% Conf. Int.]\n",
      "---------------------------------------------------------------------------------------------------\n",
      "Oilcrops                            0.8717      2.818      0.309      0.759        -4.805     6.548\n",
      "Plantains                           0.7320      0.583      1.255      0.216        -0.442     1.907\n",
      "Sugar, Raw Equivalent             -13.5269     16.144     -0.838      0.407       -46.042    18.988\n",
      "Beverages, Alcoholic                1.6683      2.052      0.813      0.421        -2.466     5.802\n",
      "Roots & Tuber Dry Equiv            -8.0852     12.328     -0.656      0.515       -32.914    16.744\n",
      "Vegetable Oils                      3.0217      1.802      1.677      0.101        -0.608     6.652\n",
      "Olives (including preserved)       -2.6855      3.211     -0.836      0.407        -9.153     3.782\n",
      "Cloves                              0.1279      1.608      0.080      0.937        -3.111     3.367\n",
      "Coconuts - Incl Copra              -0.2729      2.827     -0.097      0.924        -5.967     5.422\n",
      "Treenuts                           39.0069     62.617      0.623      0.536       -87.111   165.124\n",
      "Vegetables, Other                  -4.7053      2.399     -1.962      0.056        -9.536     0.126\n",
      "Sesame seed                         0.0596      0.767      0.078      0.938        -1.485     1.605\n",
      "Wine                               -1.5798      1.356     -1.165      0.250        -4.310     1.151\n",
      "Apples and products                 0.2429      1.119      0.217      0.829        -2.010     2.496\n",
      "Rape and Mustard Oil               -0.7024      1.155     -0.608      0.546        -3.030     1.625\n",
      "Sugar & Sweeteners                 13.5929     16.182      0.840      0.405       -19.000    46.185\n",
      "Maize and products                  0.0074      0.187      0.039      0.969        -0.369     0.383\n",
      "Sweeteners, Other                   4.1656      2.491      1.673      0.101        -0.851     9.182\n",
      "Groundnuts (Shelled Eq)            -4.7521     12.026     -0.395      0.695       -28.974    19.470\n",
      "Vegetables                          4.4759      2.387      1.875      0.067        -0.333     9.284\n",
      "Barley and products                -0.8890      0.526     -1.689      0.098        -1.949     0.171\n",
      "Maize Germ Oil                      1.0308      3.577      0.288      0.775        -6.173     8.235\n",
      "Beer                               -1.8059      1.431     -1.262      0.213        -4.688     1.076\n",
      "Groundnut Oil                       2.1310      2.245      0.949      0.348        -2.391     6.653\n",
      "Pineapples and products             0.7993      1.153      0.693      0.492        -1.524     3.122\n",
      "Pulses, Other and products         -1.2627      2.179     -0.580      0.565        -5.651     3.126\n",
      "Miscellaneous                     -52.6992     58.849     -0.895      0.375      -171.228    65.830\n",
      "Sugar (Raw Equivalent)          -2197.3997   1.41e+04     -0.156      0.877     -3.05e+04  2.61e+04\n",
      "Alcoholic Beverages                 1.3821      1.400      0.988      0.329        -1.437     4.201\n",
      "Palm Oil                            0.7312      0.891      0.821      0.416        -1.062     2.525\n",
      "Oilcrops, Other                     1.9607      0.898      2.183      0.034         0.152     3.770\n",
      "Dates                               2.2431      0.952      2.355      0.023         0.325     4.161\n",
      "Oats                                1.8644      2.060      0.905      0.370        -2.285     6.014\n",
      "Soyabeans                          -3.7282      2.512     -1.484      0.145        -8.787     1.331\n",
      "Beans                              -1.1531      1.839     -0.627      0.534        -4.857     2.550\n",
      "Cereals - Excluding Beer            0.4166      0.169      2.460      0.018         0.075     0.758\n",
      "Sesameseed Oil                      1.8502      1.003      1.845      0.072        -0.169     3.870\n",
      "Grapes and products (excl wine)     0.9207      0.792      1.162      0.251        -0.675     2.516\n",
      "Rice (Paddy Equivalent)          5266.4526   9392.097      0.561      0.578     -1.37e+04  2.42e+04\n",
      "Beverages, Fermented               -1.3619      1.412     -0.964      0.340        -4.207     1.483\n",
      "Potatoes and products              -0.1237      0.545     -0.227      0.821        -1.221     0.974\n",
      "Cottonseed Oil                     -1.2847      0.799     -1.607      0.115        -2.895     0.325\n",
      "Onions                             -3.0582      2.073     -1.475      0.147        -7.234     1.117\n",
      "Coffee and products                10.4941     12.407      0.846      0.402       -14.495    35.483\n",
      "Roots, Other                        0.4642      0.282      1.648      0.106        -0.103     1.032\n",
      "Sugar, Refined Equiv             2388.7348   1.53e+04      0.156      0.877     -2.84e+04  3.32e+04\n",
      "Infant food                        53.2258     58.880      0.904      0.371       -65.365   171.817\n",
      "Groundnuts (in Shell Eq)            2.6378     10.933      0.241      0.810       -19.383    24.658\n",
      "Cereals, Other                      0.2740      0.667      0.411      0.683        -1.070     1.618\n",
      "Pepper                             -1.9846      4.035     -0.492      0.625       -10.112     6.143\n",
      "Peas                               -0.4268      1.582     -0.270      0.789        -3.614     2.760\n",
      "Nuts and products                 -39.9392     63.842     -0.626      0.535      -168.523    88.645\n",
      "Cocoa Beans and products           17.0360     18.729      0.910      0.368       -20.686    54.758\n",
      "Wheat and products                  0.1993      0.211      0.944      0.350        -0.226     0.624\n",
      "Cassava and products                0.5753      0.787      0.731      0.469        -1.011     2.161\n",
      "Fruits - Excluding Wine            -0.7008      0.573     -1.223      0.228        -1.855     0.454\n",
      "Spices                             -2.1376      3.881     -0.551      0.585        -9.954     5.679\n",
      "Sunflowerseed Oil                   2.0355      1.840      1.106      0.275        -1.671     5.742\n",
      "Pulses                              0.8424      2.024      0.416      0.679        -3.235     4.920\n",
      "Palmkernel Oil                      0.7929      0.891      0.890      0.378        -1.001     2.587\n",
      "Pimento                            -2.0998      1.758     -1.195      0.238        -5.640     1.440\n",
      "Fruits, Other                       1.3957      0.742      1.880      0.067        -0.099     2.891\n",
      "Citrus, Other                      -0.7385      1.383     -0.534      0.596        -3.523     2.046\n",
      "Lemons, Limes and products         -0.6760      2.009     -0.336      0.738        -4.723     3.371\n",
      "Tea (including mate)               11.4275     11.550      0.989      0.328       -11.835    34.690\n",
      "Soyabean Oil                       -0.6612      1.646     -0.402      0.690        -3.977     2.655\n",
      "Grapefruit and products             1.5469      0.788      1.963      0.056        -0.040     3.134\n",
      "Rye and products                    0.3129      0.718      0.436      0.665        -1.132     1.758\n",
      "Olive Oil                           0.1409      2.967      0.047      0.962        -5.834     6.116\n",
      "Coconut Oil                         1.5871      1.152      1.377      0.175        -0.734     3.908\n",
      "Starchy Roots                       1.9779      2.922      0.677      0.502        -3.908     7.864\n",
      "Tomatoes and products              -4.4903      2.535     -1.771      0.083        -9.596     0.615\n",
      "Oilcrops Oil, Other                 2.8903      1.497      1.930      0.060        -0.125     5.906\n",
      "Bananas                             0.9605      0.669      1.435      0.158        -0.388     2.309\n",
      "Spices, Other                      -3.4232      6.084     -0.563      0.576       -15.678     8.831\n",
      "Sweet potatoes                      0.3773      0.453      0.834      0.409        -0.534     1.289\n",
      "Oranges, Mandarines                -0.7116      0.921     -0.772      0.444        -2.567     1.144\n",
      "Rice (Milled Equivalent)        -7895.6244   1.41e+04     -0.561      0.578     -3.63e+04  2.05e+04\n",
      "Stimulants                         -9.5750     11.698     -0.819      0.417       -33.136    13.986\n",
      "Aquatic Products, Other            -0.3813      3.877     -0.098      0.922        -8.189     7.427\n",
      "Butter, Ghee                       -1.2002      5.235     -0.229      0.820       -11.743     9.343\n",
      "Fats, Animals, Raw                 -4.3117      4.442     -0.971      0.337       -13.258     4.634\n",
      "Crustaceans                        -3.1033      5.384     -0.576      0.567       -13.948     7.742\n",
      "Eggs                                2.6529      2.438      1.088      0.282        -2.257     7.563\n",
      "Milk, Whole                        -0.1063      0.266     -0.400      0.691        -0.642     0.429\n",
      "Marine Fish, Other                  3.3105      2.031      1.630      0.110        -0.781     7.401\n",
      "Aquatic Plants                     -0.2585      2.269     -0.114      0.910        -4.828     4.311\n",
      "Pigmeat                            -0.2102      3.046     -0.069      0.945        -6.345     5.924\n",
      "Meat                               -0.1093      3.043     -0.036      0.972        -6.237     6.019\n",
      "Freshwater Fish                     3.7996      2.484      1.530      0.133        -1.204     8.803\n",
      "Poultry Meat                       -0.9446      3.072     -0.308      0.760        -7.132     5.243\n",
      "Milk - Excluding Butter            -0.2346      0.249     -0.941      0.352        -0.737     0.267\n",
      "Fish, Liver Oil                     3.7762      1.304      2.896      0.006         1.149     6.403\n",
      "Fish, Seafood                      -3.3317      1.916     -1.739      0.089        -7.191     0.528\n",
      "Meat, Other                         0.3730      2.991      0.125      0.901        -5.651     6.397\n",
      "Cephalopods                        -1.7537      3.223     -0.544      0.589        -8.245     4.738\n",
      "Mutton & Goat Meat                  2.6620      3.281      0.811      0.421        -3.947     9.271\n",
      "Cheese                             -3.1764      3.249     -0.978      0.333        -9.719     3.367\n",
      "Pelagic Fish                        2.0446      1.949      1.049      0.300        -1.881     5.970\n",
      "Offals                              4.0855     43.303      0.094      0.925       -83.132    91.303\n",
      "Bovine Meat                        -0.2588      2.983     -0.087      0.931        -6.267     5.750\n",
      "Molluscs, Other                     2.4787      5.047      0.491      0.626        -7.686    12.644\n",
      "Fish, Body Oil                     -0.7261      2.068     -0.351      0.727        -4.891     3.439\n",
      "Aquatic Animals, Others            -0.0002      0.943     -0.000      1.000        -1.899     1.898\n",
      "Animal fats                         4.6074      3.658      1.260      0.214        -2.760    11.974\n",
      "Honey                              -6.4797      5.072     -1.277      0.208       -16.696     3.736\n",
      "Offals, Edible                     -5.1836     43.169     -0.120      0.905       -92.131    81.764\n",
      "Demersal Fish                       3.3232      2.523      1.317      0.195        -1.759     8.405\n",
      "Cream                               0.5604      1.751      0.320      0.750        -2.966     4.087\n",
      "==============================================================================\n",
      "Omnibus:                        2.653   Durbin-Watson:                   1.816\n",
      "Prob(Omnibus):                  0.265   Jarque-Bera (JB):                2.235\n",
      "Skew:                          -0.196   Prob(JB):                        0.327\n",
      "Kurtosis:                       3.441   Cond. No.                     2.60e+06\n",
      "==============================================================================\n",
      "\n",
      "Warnings:\n",
      "[1] Standard Errors assume that the covariance matrix of the errors is correctly specified.\n",
      "[2] The condition number is large, 2.6e+06. This might indicate that there are\n",
      "strong multicollinearity or other numerical problems.\n"
     ]
    }
   ],
   "source": [
    "deaths_100k_cardio_2000_model = sm.OLS(deaths_100k_cardio_2000.drop(countries_to_drop).sort_index(), food_1970_2000_cleaned.sort_index())\n",
    "deaths_100k_cardio_2000_results = deaths_100k_cardio_2000_model.fit()\n",
    "print(deaths_100k_cardio_2000_results.summary())"
   ]
  },
  {
   "cell_type": "code",
   "execution_count": 22,
   "metadata": {
    "collapsed": false
   },
   "outputs": [
    {
     "data": {
      "image/png": "[encoded data removed]",
      "text/plain": [
       "<matplotlib.figure.Figure at 0x1097768d0>"
      ]
     },
     "metadata": {},
     "output_type": "display_data"
    }
   ],
   "source": [
    "plot_sig_coeffs(deaths_100k_cardio_2000_results, 0.1)"
   ]
  },
  {
   "cell_type": "markdown",
   "metadata": {},
   "source": [
    "## Deaths per 100k from Diabetes as Response Variable"
   ]
  },
  {
   "cell_type": "code",
   "execution_count": 23,
   "metadata": {
    "collapsed": false
   },
   "outputs": [
    {
     "name": "stdout",
     "output_type": "stream",
     "text": [
      "                            OLS Regression Results                            \n",
      "==============================================================================\n",
      "Dep. Variable:                   2000   R-squared:                       0.918\n",
      "Model:                            OLS   Adj. R-squared:                  0.720\n",
      "Method:                 Least Squares   F-statistic:                     4.642\n",
      "Date:                Thu, 08 Dec 2016   Prob (F-statistic):           4.89e-08\n",
      "Time:                        19:39:52   Log-Likelihood:                -597.01\n",
      "No. Observations:                 154   AIC:                             1412.\n",
      "Df Residuals:                      45   BIC:                             1743.\n",
      "Df Model:                         109                                         \n",
      "Covariance Type:            nonrobust                                         \n",
      "===================================================================================================\n",
      "                                      coef    std err          t      P>|t|      [95.0% Conf. Int.]\n",
      "---------------------------------------------------------------------------------------------------\n",
      "Oilcrops                           -0.1006      0.799     -0.126      0.900        -1.711     1.510\n",
      "Plantains                          -0.0330      0.165     -0.199      0.843        -0.366     0.300\n",
      "Sugar, Raw Equivalent              -3.8377      4.579     -0.838      0.406       -13.061     5.385\n",
      "Beverages, Alcoholic               -0.0641      0.582     -0.110      0.913        -1.237     1.108\n",
      "Roots & Tuber Dry Equiv            -1.1960      3.497     -0.342      0.734        -8.239     5.847\n",
      "Vegetable Oils                      0.8163      0.511      1.597      0.117        -0.213     1.846\n",
      "Olives (including preserved)       -0.9426      0.911     -1.035      0.306        -2.777     0.892\n",
      "Cloves                              0.3978      0.456      0.872      0.388        -0.521     1.317\n",
      "Coconuts - Incl Copra               0.0777      0.802      0.097      0.923        -1.538     1.693\n",
      "Treenuts                          -20.1221     17.761     -1.133      0.263       -55.895    15.651\n",
      "Vegetables, Other                  -0.5347      0.680     -0.786      0.436        -1.905     0.836\n",
      "Sesame seed                        -0.2634      0.218     -1.211      0.232        -0.702     0.175\n",
      "Wine                               -0.0749      0.385     -0.195      0.846        -0.849     0.700\n",
      "Apples and products                -0.5287      0.317     -1.666      0.103        -1.168     0.110\n",
      "Rape and Mustard Oil                0.1081      0.328      0.330      0.743        -0.552     0.768\n",
      "Sugar & Sweeteners                  3.6289      4.590      0.791      0.433        -5.616    12.874\n",
      "Maize and products                  0.0116      0.053      0.219      0.828        -0.095     0.118\n",
      "Sweeteners, Other                   0.8069      0.706      1.142      0.259        -0.616     2.230\n",
      "Groundnuts (Shelled Eq)            -0.4255      3.411     -0.125      0.901        -7.296     6.445\n",
      "Vegetables                          0.4395      0.677      0.649      0.520        -0.924     1.803\n",
      "Barley and products                 0.1708      0.149      1.144      0.259        -0.130     0.472\n",
      "Maize Germ Oil                      0.5082      1.015      0.501      0.619        -1.535     2.552\n",
      "Beer                               -0.0841      0.406     -0.207      0.837        -0.902     0.733\n",
      "Groundnut Oil                       0.0138      0.637      0.022      0.983        -1.269     1.296\n",
      "Pineapples and products            -0.2370      0.327     -0.724      0.473        -0.896     0.422\n",
      "Pulses, Other and products         -0.2100      0.618     -0.340      0.736        -1.455     1.035\n",
      "Miscellaneous                     -13.5678     16.693     -0.813      0.421       -47.188    20.053\n",
      "Sugar (Raw Equivalent)          -1438.0743   3988.943     -0.361      0.720     -9472.219  6596.070\n",
      "Alcoholic Beverages                 0.1558      0.397      0.392      0.697        -0.644     0.955\n",
      "Palm Oil                            0.0985      0.253      0.390      0.698        -0.410     0.607\n",
      "Oilcrops, Other                     0.0522      0.255      0.205      0.839        -0.461     0.565\n",
      "Dates                               0.3279      0.270      1.214      0.231        -0.216     0.872\n",
      "Oats                                1.0022      0.584      1.715      0.093        -0.175     2.179\n",
      "Soyabeans                          -0.9311      0.712     -1.307      0.198        -2.366     0.504\n",
      "Beans                              -0.2057      0.522     -0.394      0.695        -1.256     0.845\n",
      "Cereals - Excluding Beer            0.0407      0.048      0.848      0.401        -0.056     0.137\n",
      "Sesameseed Oil                     -0.0897      0.284     -0.315      0.754        -0.662     0.483\n",
      "Grapes and products (excl wine)     0.1526      0.225      0.679      0.500        -0.300     0.605\n",
      "Rice (Paddy Equivalent)          1831.0836   2664.068      0.687      0.495     -3534.626  7196.793\n",
      "Beverages, Fermented               -0.1661      0.401     -0.415      0.680        -0.973     0.641\n",
      "Potatoes and products              -0.1252      0.155     -0.810      0.422        -0.436     0.186\n",
      "Cottonseed Oil                     -0.3411      0.227     -1.504      0.139        -0.798     0.116\n",
      "Onions                              0.0407      0.588      0.069      0.945        -1.144     1.225\n",
      "Coffee and products                 1.2943      3.519      0.368      0.715        -5.794     8.382\n",
      "Roots, Other                       -0.0015      0.080     -0.019      0.985        -0.162     0.159\n",
      "Sugar, Refined Equiv             1563.6689   4335.715      0.361      0.720     -7168.909  1.03e+04\n",
      "Infant food                        13.3299     16.701      0.798      0.429       -20.308    46.968\n",
      "Groundnuts (in Shell Eq)            0.2010      3.101      0.065      0.949        -6.045     6.447\n",
      "Cereals, Other                      0.0766      0.189      0.405      0.688        -0.305     0.458\n",
      "Pepper                             -0.4894      1.145     -0.428      0.671        -2.795     1.816\n",
      "Peas                               -0.2311      0.449     -0.515      0.609        -1.135     0.673\n",
      "Nuts and products                  20.4835     18.109      1.131      0.264       -15.989    56.956\n",
      "Cocoa Beans and products           -0.3732      5.312     -0.070      0.944       -11.073    10.327\n",
      "Wheat and products                 -0.0085      0.060     -0.142      0.888        -0.129     0.112\n",
      "Cassava and products                0.0698      0.223      0.313      0.756        -0.380     0.520\n",
      "Fruits - Excluding Wine             0.0650      0.163      0.400      0.691        -0.262     0.392\n",
      "Spices                              1.9807      1.101      1.799      0.079        -0.236     4.198\n",
      "Sunflowerseed Oil                   0.7536      0.522      1.444      0.156        -0.298     1.805\n",
      "Pulses                              0.0656      0.574      0.114      0.910        -1.091     1.222\n",
      "Palmkernel Oil                     -0.1476      0.253     -0.584      0.562        -0.657     0.361\n",
      "Pimento                            -0.2029      0.499     -0.407      0.686        -1.207     0.801\n",
      "Fruits, Other                       0.1438      0.211      0.683      0.498        -0.280     0.568\n",
      "Citrus, Other                      -0.3896      0.392     -0.994      0.326        -1.180     0.400\n",
      "Lemons, Limes and products          0.0935      0.570      0.164      0.870        -1.054     1.241\n",
      "Tea (including mate)                2.1768      3.276      0.664      0.510        -4.421     8.775\n",
      "Soyabean Oil                        0.9128      0.467      1.955      0.057        -0.028     1.853\n",
      "Grapefruit and products             0.2043      0.223      0.914      0.365        -0.246     0.654\n",
      "Rye and products                    0.4177      0.204      2.052      0.046         0.008     0.828\n",
      "Olive Oil                           0.6000      0.842      0.713      0.480        -1.095     2.295\n",
      "Coconut Oil                        -0.0158      0.327     -0.048      0.962        -0.674     0.643\n",
      "Starchy Roots                       0.3075      0.829      0.371      0.712        -1.362     1.977\n",
      "Tomatoes and products              -0.7329      0.719     -1.019      0.313        -2.181     0.715\n",
      "Oilcrops Oil, Other                 0.7470      0.425      1.759      0.085        -0.108     1.602\n",
      "Bananas                            -0.1002      0.190     -0.527      0.600        -0.483     0.282\n",
      "Spices, Other                      -0.0891      1.726     -0.052      0.959        -3.565     3.387\n",
      "Sweet potatoes                      0.0049      0.128      0.038      0.969        -0.254     0.264\n",
      "Oranges, Mandarines                -0.3250      0.261     -1.243      0.220        -0.851     0.201\n",
      "Rice (Milled Equivalent)        -2745.2379   3994.112     -0.687      0.495     -1.08e+04  5299.316\n",
      "Stimulants                         -1.2068      3.318     -0.364      0.718        -7.890     5.476\n",
      "Aquatic Products, Other            -0.0583      1.100     -0.053      0.958        -2.273     2.156\n",
      "Butter, Ghee                       -0.9206      1.485     -0.620      0.538        -3.911     2.070\n",
      "Fats, Animals, Raw                 -0.6671      1.260     -0.529      0.599        -3.205     1.870\n",
      "Crustaceans                        -1.8703      1.527     -1.225      0.227        -4.946     1.206\n",
      "Eggs                                0.1167      0.692      0.169      0.867        -1.276     1.510\n",
      "Milk, Whole                         0.0280      0.075      0.371      0.712        -0.124     0.180\n",
      "Marine Fish, Other                 -0.4462      0.576     -0.775      0.443        -1.607     0.714\n",
      "Aquatic Plants                     -0.1579      0.643     -0.245      0.807        -1.454     1.138\n",
      "Pigmeat                             0.0612      0.864      0.071      0.944        -1.679     1.801\n",
      "Meat                               -0.3664      0.863     -0.424      0.673        -2.105     1.372\n",
      "Freshwater Fish                    -0.1511      0.705     -0.214      0.831        -1.570     1.268\n",
      "Poultry Meat                        0.0002      0.871      0.000      1.000        -1.755     1.755\n",
      "Milk - Excluding Butter            -0.0879      0.071     -1.243      0.220        -0.230     0.055\n",
      "Fish, Liver Oil                     0.4026      0.370      1.088      0.282        -0.342     1.148\n",
      "Fish, Seafood                       0.2492      0.544      0.459      0.649        -0.846     1.344\n",
      "Meat, Other                        -0.1210      0.848     -0.143      0.887        -1.830     1.588\n",
      "Cephalopods                         0.0641      0.914      0.070      0.944        -1.777     1.905\n",
      "Mutton & Goat Meat                  0.5495      0.931      0.590      0.558        -1.325     2.424\n",
      "Cheese                              0.6304      0.921      0.684      0.497        -1.225     2.486\n",
      "Pelagic Fish                       -0.5660      0.553     -1.024      0.311        -1.680     0.548\n",
      "Offals                             -1.0692     12.283     -0.087      0.931       -25.808    23.670\n",
      "Bovine Meat                         0.3089      0.846      0.365      0.717        -1.395     2.013\n",
      "Molluscs, Other                     1.5099      1.432      1.055      0.297        -1.373     4.393\n",
      "Fish, Body Oil                     -0.4005      0.587     -0.683      0.498        -1.582     0.781\n",
      "Aquatic Animals, Others             0.3037      0.267      1.136      0.262        -0.235     0.842\n",
      "Animal fats                         0.6730      1.038      0.649      0.520        -1.417     2.763\n",
      "Honey                              -0.5140      1.439     -0.357      0.723        -3.412     2.384\n",
      "Offals, Edible                      2.0006     12.245      0.163      0.871       -22.662    26.663\n",
      "Demersal Fish                      -0.0598      0.716     -0.084      0.934        -1.501     1.382\n",
      "Cream                               0.2319      0.497      0.467      0.643        -0.768     1.232\n",
      "==============================================================================\n",
      "Omnibus:                       11.246   Durbin-Watson:                   1.858\n",
      "Prob(Omnibus):                  0.004   Jarque-Bera (JB):               17.224\n",
      "Skew:                           0.385   Prob(JB):                     0.000182\n",
      "Kurtosis:                       4.446   Cond. No.                     2.60e+06\n",
      "==============================================================================\n",
      "\n",
      "Warnings:\n",
      "[1] Standard Errors assume that the covariance matrix of the errors is correctly specified.\n",
      "[2] The condition number is large, 2.6e+06. This might indicate that there are\n",
      "strong multicollinearity or other numerical problems.\n"
     ]
    }
   ],
   "source": [
    "deaths_100k_diabetes_2000_model = sm.OLS(deaths_100k_diabetes_2000.drop(countries_to_drop).sort_index(), food_1970_2000_cleaned.sort_index())\n",
    "deaths_100k_diabetes_2000_results = deaths_100k_diabetes_2000_model.fit()\n",
    "print(deaths_100k_diabetes_2000_results.summary())"
   ]
  },
  {
   "cell_type": "code",
   "execution_count": 24,
   "metadata": {
    "collapsed": false
   },
   "outputs": [
    {
     "data": {
      "image/png": "[encoded data removed]",
      "text/plain": [
       "<matplotlib.figure.Figure at 0x10aa1ae50>"
      ]
     },
     "metadata": {},
     "output_type": "display_data"
    }
   ],
   "source": [
    "plot_sig_coeffs(deaths_100k_diabetes_2000_results, 0.1)"
   ]
  },
  {
   "cell_type": "markdown",
   "metadata": {},
   "source": [
    "## Deaths per 100k from Respiratory Disease as Response Variable"
   ]
  },
  {
   "cell_type": "code",
   "execution_count": 25,
   "metadata": {
    "collapsed": false
   },
   "outputs": [
    {
     "name": "stdout",
     "output_type": "stream",
     "text": [
      "                            OLS Regression Results                            \n",
      "==============================================================================\n",
      "Dep. Variable:                   2000   R-squared:                       0.949\n",
      "Model:                            OLS   Adj. R-squared:                  0.827\n",
      "Method:                 Least Squares   F-statistic:                     7.748\n",
      "Date:                Thu, 08 Dec 2016   Prob (F-statistic):           5.51e-12\n",
      "Time:                        19:39:52   Log-Likelihood:                -616.10\n",
      "No. Observations:                 154   AIC:                             1450.\n",
      "Df Residuals:                      45   BIC:                             1781.\n",
      "Df Model:                         109                                         \n",
      "Covariance Type:            nonrobust                                         \n",
      "===================================================================================================\n",
      "                                      coef    std err          t      P>|t|      [95.0% Conf. Int.]\n",
      "---------------------------------------------------------------------------------------------------\n",
      "Oilcrops                           -0.3250      0.905     -0.359      0.721        -2.148     1.498\n",
      "Plantains                          -0.1060      0.187     -0.566      0.574        -0.483     0.271\n",
      "Sugar, Raw Equivalent               9.8721      5.183      1.905      0.063        -0.568    20.312\n",
      "Beverages, Alcoholic                0.7603      0.659      1.154      0.255        -0.567     2.088\n",
      "Roots & Tuber Dry Equiv             7.0194      3.958      1.773      0.083        -0.953    14.992\n",
      "Vegetable Oils                      0.6480      0.579      1.120      0.269        -0.517     1.814\n",
      "Olives (including preserved)        2.6825      1.031      2.602      0.013         0.606     4.759\n",
      "Cloves                             -0.5491      0.516     -1.063      0.293        -1.589     0.491\n",
      "Coconuts - Incl Copra               0.4266      0.908      0.470      0.641        -1.402     2.255\n",
      "Treenuts                          -11.2833     20.105     -0.561      0.577       -51.777    29.211\n",
      "Vegetables, Other                  -0.2266      0.770     -0.294      0.770        -1.778     1.325\n",
      "Sesame seed                        -0.0760      0.246     -0.308      0.759        -0.572     0.420\n",
      "Wine                                0.3349      0.435      0.769      0.446        -0.542     1.212\n",
      "Apples and products                 0.4909      0.359      1.367      0.178        -0.232     1.214\n",
      "Rape and Mustard Oil               -0.1885      0.371     -0.508      0.614        -0.936     0.559\n",
      "Sugar & Sweeteners                 -9.1820      5.196     -1.767      0.084       -19.647     1.283\n",
      "Maize and products                  0.0243      0.060      0.405      0.687        -0.096     0.145\n",
      "Sweeteners, Other                  -1.7296      0.800     -2.163      0.036        -3.340    -0.119\n",
      "Groundnuts (Shelled Eq)             4.3561      3.861      1.128      0.265        -3.421    12.133\n",
      "Vegetables                          0.3060      0.767      0.399      0.692        -1.238     1.850\n",
      "Barley and products                -0.2460      0.169     -1.455      0.153        -0.586     0.094\n",
      "Maize Germ Oil                     -0.4447      1.148     -0.387      0.700        -2.758     1.868\n",
      "Beer                                0.4994      0.459      1.087      0.283        -0.426     1.425\n",
      "Groundnut Oil                       1.8018      0.721      2.499      0.016         0.350     3.254\n",
      "Pineapples and products            -0.3226      0.370     -0.871      0.388        -1.068     0.423\n",
      "Pulses, Other and products         -0.3632      0.700     -0.519      0.606        -1.772     1.046\n",
      "Miscellaneous                      25.1561     18.895      1.331      0.190       -12.901    63.213\n",
      "Sugar (Raw Equivalent)            927.7427   4515.326      0.205      0.838     -8166.590     1e+04\n",
      "Alcoholic Beverages                -0.2939      0.449     -0.654      0.516        -1.199     0.611\n",
      "Palm Oil                            0.3993      0.286      1.396      0.169        -0.177     0.975\n",
      "Oilcrops, Other                     0.4999      0.288      1.733      0.090        -0.081     1.081\n",
      "Dates                              -0.1880      0.306     -0.615      0.542        -0.804     0.428\n",
      "Oats                               -1.2275      0.661     -1.856      0.070        -2.560     0.105\n",
      "Soyabeans                          -0.6731      0.806     -0.835      0.408        -2.297     0.951\n",
      "Beans                              -0.8903      0.590     -1.508      0.139        -2.079     0.299\n",
      "Cereals - Excluding Beer            0.1305      0.054      2.399      0.021         0.021     0.240\n",
      "Sesameseed Oil                      0.1559      0.322      0.484      0.630        -0.492     0.804\n",
      "Grapes and products (excl wine)     0.0598      0.254      0.235      0.815        -0.452     0.572\n",
      "Rice (Paddy Equivalent)          2244.8002   3015.620      0.744      0.461     -3828.970  8318.570\n",
      "Beverages, Fermented                0.3572      0.453      0.788      0.435        -0.556     1.271\n",
      "Potatoes and products               0.4050      0.175      2.315      0.025         0.053     0.757\n",
      "Cottonseed Oil                     -0.2953      0.257     -1.151      0.256        -0.812     0.222\n",
      "Onions                             -1.2953      0.666     -1.946      0.058        -2.636     0.045\n",
      "Coffee and products                -0.1457      3.984     -0.037      0.971        -8.169     7.878\n",
      "Roots, Other                        0.0902      0.090      0.997      0.324        -0.092     0.272\n",
      "Sugar, Refined Equiv            -1009.6954   4907.858     -0.206      0.838     -1.09e+04  8875.237\n",
      "Infant food                       -24.7236     18.905     -1.308      0.198       -62.801    13.354\n",
      "Groundnuts (in Shell Eq)           -3.6459      3.510     -1.039      0.305       -10.716     3.424\n",
      "Cereals, Other                      0.4298      0.214      2.006      0.051        -0.002     0.861\n",
      "Pepper                             -3.8725      1.296     -2.989      0.005        -6.482    -1.263\n",
      "Peas                                0.3001      0.508      0.591      0.558        -0.723     1.323\n",
      "Nuts and products                   9.3568     20.498      0.456      0.650       -31.929    50.642\n",
      "Cocoa Beans and products           -2.5638      6.014     -0.426      0.672       -14.676     9.548\n",
      "Wheat and products                 -0.0734      0.068     -1.084      0.284        -0.210     0.063\n",
      "Cassava and products               -0.4032      0.253     -1.595      0.118        -0.912     0.106\n",
      "Fruits - Excluding Wine             0.0641      0.184      0.348      0.729        -0.307     0.435\n",
      "Spices                             -0.5960      1.246     -0.478      0.635        -3.106     1.914\n",
      "Sunflowerseed Oil                   0.4796      0.591      0.812      0.421        -0.710     1.670\n",
      "Pulses                              1.3181      0.650      2.028      0.049         0.009     2.627\n",
      "Palmkernel Oil                     -0.2171      0.286     -0.759      0.452        -0.793     0.359\n",
      "Pimento                            -0.2103      0.564     -0.373      0.711        -1.347     0.926\n",
      "Fruits, Other                       0.0203      0.238      0.085      0.932        -0.460     0.500\n",
      "Citrus, Other                      -0.8457      0.444     -1.905      0.063        -1.740     0.048\n",
      "Lemons, Limes and products         -0.1799      0.645     -0.279      0.782        -1.479     1.120\n",
      "Tea (including mate)               -2.1091      3.708     -0.569      0.572        -9.578     5.360\n",
      "Soyabean Oil                        0.2389      0.529      0.452      0.653        -0.826     1.304\n",
      "Grapefruit and products             0.0288      0.253      0.114      0.910        -0.481     0.538\n",
      "Rye and products                   -0.1315      0.230     -0.571      0.571        -0.596     0.332\n",
      "Olive Oil                          -0.0390      0.953     -0.041      0.968        -1.958     1.880\n",
      "Coconut Oil                         0.5145      0.370      1.391      0.171        -0.231     1.260\n",
      "Starchy Roots                      -1.6884      0.938     -1.799      0.079        -3.578     0.201\n",
      "Tomatoes and products              -0.1384      0.814     -0.170      0.866        -1.778     1.501\n",
      "Oilcrops Oil, Other                 0.1811      0.481      0.377      0.708        -0.787     1.149\n",
      "Bananas                            -0.1440      0.215     -0.670      0.506        -0.577     0.289\n",
      "Spices, Other                       1.9998      1.954      1.024      0.311        -1.935     5.934\n",
      "Sweet potatoes                     -0.0246      0.145     -0.169      0.866        -0.317     0.268\n",
      "Oranges, Mandarines                -0.0518      0.296     -0.175      0.862        -0.648     0.544\n",
      "Rice (Milled Equivalent)        -3365.3686   4521.176     -0.744      0.461     -1.25e+04  5740.747\n",
      "Stimulants                         -0.3920      3.756     -0.104      0.917        -7.957     7.173\n",
      "Aquatic Products, Other             0.3597      1.245      0.289      0.774        -2.147     2.867\n",
      "Butter, Ghee                        2.0799      1.681      1.237      0.222        -1.305     5.465\n",
      "Fats, Animals, Raw                 -2.1973      1.426     -1.541      0.130        -5.070     0.675\n",
      "Crustaceans                         4.2569      1.729      2.462      0.018         0.775     7.739\n",
      "Eggs                                1.1108      0.783      1.419      0.163        -0.466     2.687\n",
      "Milk, Whole                         0.0028      0.085      0.033      0.974        -0.169     0.175\n",
      "Marine Fish, Other                  0.9028      0.652      1.384      0.173        -0.411     2.216\n",
      "Aquatic Plants                      0.5269      0.728      0.723      0.473        -0.940     1.994\n",
      "Pigmeat                             0.2874      0.978      0.294      0.770        -1.682     2.257\n",
      "Meat                               -0.3371      0.977     -0.345      0.732        -2.305     1.631\n",
      "Freshwater Fish                    -0.3528      0.798     -0.442      0.660        -1.959     1.254\n",
      "Poultry Meat                        0.3250      0.986      0.329      0.743        -1.662     2.312\n",
      "Milk - Excluding Butter            -0.0646      0.080     -0.807      0.424        -0.226     0.097\n",
      "Fish, Liver Oil                    -0.0070      0.419     -0.017      0.987        -0.850     0.836\n",
      "Fish, Seafood                      -0.8602      0.615     -1.398      0.169        -2.099     0.379\n",
      "Meat, Other                         1.1913      0.960      1.241      0.221        -0.743     3.125\n",
      "Cephalopods                        -2.9204      1.035     -2.822      0.007        -5.005    -0.836\n",
      "Mutton & Goat Meat                  0.1687      1.054      0.160      0.873        -1.953     2.291\n",
      "Cheese                             -1.7262      1.043     -1.655      0.105        -3.827     0.375\n",
      "Pelagic Fish                        0.7253      0.626      1.159      0.253        -0.535     1.986\n",
      "Offals                             10.9836     13.904      0.790      0.434       -17.020    38.987\n",
      "Bovine Meat                         0.8453      0.958      0.882      0.382        -1.084     2.775\n",
      "Molluscs, Other                    -0.8332      1.620     -0.514      0.610        -4.097     2.431\n",
      "Fish, Body Oil                      1.0703      0.664      1.612      0.114        -0.267     2.407\n",
      "Aquatic Animals, Others             0.5717      0.303      1.889      0.065        -0.038     1.181\n",
      "Animal fats                         0.1865      1.174      0.159      0.875        -2.179     2.552\n",
      "Honey                              -2.0930      1.629     -1.285      0.205        -5.373     1.187\n",
      "Offals, Edible                    -12.5524     13.861     -0.906      0.370       -40.470    15.365\n",
      "Demersal Fish                       0.6796      0.810      0.839      0.406        -0.952     2.311\n",
      "Cream                               1.3259      0.562      2.359      0.023         0.194     2.458\n",
      "==============================================================================\n",
      "Omnibus:                        7.905   Durbin-Watson:                   2.353\n",
      "Prob(Omnibus):                  0.019   Jarque-Bera (JB):                9.861\n",
      "Skew:                           0.332   Prob(JB):                      0.00722\n",
      "Kurtosis:                       4.047   Cond. No.                     2.60e+06\n",
      "==============================================================================\n",
      "\n",
      "Warnings:\n",
      "[1] Standard Errors assume that the covariance matrix of the errors is correctly specified.\n",
      "[2] The condition number is large, 2.6e+06. This might indicate that there are\n",
      "strong multicollinearity or other numerical problems.\n"
     ]
    }
   ],
   "source": [
    "deaths_100k_resp_2000_model = sm.OLS(deaths_100k_resp_2000.drop(countries_to_drop).sort_index(), food_1970_2000_cleaned.sort_index())\n",
    "deaths_100k_resp_2000_results = deaths_100k_resp_2000_model.fit()\n",
    "print(deaths_100k_resp_2000_results.summary())"
   ]
  },
  {
   "cell_type": "code",
   "execution_count": 26,
   "metadata": {
    "collapsed": false
   },
   "outputs": [
    {
     "data": {
      "image/png": "[encoded data removed]",
      "text/plain": [
       "<matplotlib.figure.Figure at 0x10abf7610>"
      ]
     },
     "metadata": {},
     "output_type": "display_data"
    }
   ],
   "source": [
    "plot_sig_coeffs(deaths_100k_resp_2000_results, 0.1)"
   ]
  },
  {
   "cell_type": "markdown",
   "metadata": {},
   "source": [
    "# Conclusion\n",
    "Overall, many of the results from the preliminary naive models we have fitted do not make much intuitive sense. We will keep these anomalies in mind when creating our subsequent models."
   ]
  }
 ],
 "metadata": {
  "anaconda-cloud": {},
  "kernelspec": {
   "display_name": "Python 2",
   "language": "python",
   "name": "python2"
  },
  "language_info": {
   "codemirror_mode": {
    "name": "ipython",
    "version": 2
   },
   "file_extension": ".py",
   "mimetype": "text/x-python",
   "name": "python",
   "nbconvert_exporter": "python",
   "pygments_lexer": "ipython2",
   "version": "2.7.11"
  }
 },
 "nbformat": 4,
 "nbformat_minor": 0
}
