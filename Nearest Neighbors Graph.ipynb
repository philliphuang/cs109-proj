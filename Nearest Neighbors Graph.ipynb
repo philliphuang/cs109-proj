{
 "cells": [
  {
   "cell_type": "markdown",
   "metadata": {},
   "source": [
    "# Nearest Neighbors Graph\n",
    "\n",
    "Work by Harry Xue\n",
    "\n",
    "Visualization of world countries using a network graph. First we calculate the k nearest neighbors for each of the countries with respect to food consumption and then visualize the relationships with countries represented as nodes and edges between countries that have the most similar consumption habits."
   ]
  },
  {
   "cell_type": "code",
   "execution_count": 82,
   "metadata": {
    "collapsed": false
   },
   "outputs": [],
   "source": [
    "import pickle\n",
    "import pandas as pd\n",
    "import numpy as np\n",
    "import networkx as nx\n",
    "import matplotlib.pyplot as plt\n",
    "from NetworkxD3.NetworkxD3 import simpleNetworkx\n",
    "from IPython.display import IFrame \n",
    "%matplotlib inline  "
   ]
  },
  {
   "cell_type": "code",
   "execution_count": 83,
   "metadata": {
    "collapsed": false
   },
   "outputs": [],
   "source": [
    "# Load cleaned food dataframe\n",
    "out = open('data/imputed/food_1970_2000_cleaned.p', 'r')\n",
    "food_1970_2000 = pickle.load(out)\n",
    "out.close()"
   ]
  },
  {
   "cell_type": "code",
   "execution_count": 84,
   "metadata": {
    "collapsed": false
   },
   "outputs": [
    {
     "name": "stdout",
     "output_type": "stream",
     "text": [
      "(154, 109)\n"
     ]
    },
    {
     "data": {
      "text/html": [
       "<div>\n",
       "<table border=\"1\" class=\"dataframe\">\n",
       "  <thead>\n",
       "    <tr style=\"text-align: right;\">\n",
       "      <th></th>\n",
       "      <th>Oilcrops</th>\n",
       "      <th>Plantains</th>\n",
       "      <th>Sugar, Raw Equivalent</th>\n",
       "      <th>Beverages, Alcoholic</th>\n",
       "      <th>Roots &amp; Tuber Dry Equiv</th>\n",
       "      <th>Vegetable Oils</th>\n",
       "      <th>Olives (including preserved)</th>\n",
       "      <th>Cloves</th>\n",
       "      <th>Coconuts - Incl Copra</th>\n",
       "      <th>Treenuts</th>\n",
       "      <th>...</th>\n",
       "      <th>Offals</th>\n",
       "      <th>Bovine Meat</th>\n",
       "      <th>Molluscs, Other</th>\n",
       "      <th>Fish, Body Oil</th>\n",
       "      <th>Aquatic Animals, Others</th>\n",
       "      <th>Animal fats</th>\n",
       "      <th>Honey</th>\n",
       "      <th>Offals, Edible</th>\n",
       "      <th>Demersal Fish</th>\n",
       "      <th>Cream</th>\n",
       "    </tr>\n",
       "    <tr>\n",
       "      <th>Country</th>\n",
       "      <th></th>\n",
       "      <th></th>\n",
       "      <th></th>\n",
       "      <th></th>\n",
       "      <th></th>\n",
       "      <th></th>\n",
       "      <th></th>\n",
       "      <th></th>\n",
       "      <th></th>\n",
       "      <th></th>\n",
       "      <th></th>\n",
       "      <th></th>\n",
       "      <th></th>\n",
       "      <th></th>\n",
       "      <th></th>\n",
       "      <th></th>\n",
       "      <th></th>\n",
       "      <th></th>\n",
       "      <th></th>\n",
       "      <th></th>\n",
       "      <th></th>\n",
       "    </tr>\n",
       "  </thead>\n",
       "  <tbody>\n",
       "    <tr>\n",
       "      <th>Afghanistan</th>\n",
       "      <td>2.629000</td>\n",
       "      <td>29.068781</td>\n",
       "      <td>14.402000</td>\n",
       "      <td>0.002333</td>\n",
       "      <td>8.539333</td>\n",
       "      <td>7.995000</td>\n",
       "      <td>0.065333</td>\n",
       "      <td>29.068781</td>\n",
       "      <td>0.015000</td>\n",
       "      <td>2.327333</td>\n",
       "      <td>...</td>\n",
       "      <td>9.166000</td>\n",
       "      <td>16.762667</td>\n",
       "      <td>29.068781</td>\n",
       "      <td>29.068781</td>\n",
       "      <td>29.068781</td>\n",
       "      <td>6.513000</td>\n",
       "      <td>0.687667</td>\n",
       "      <td>9.166000</td>\n",
       "      <td>29.068781</td>\n",
       "      <td>0.000000</td>\n",
       "    </tr>\n",
       "    <tr>\n",
       "      <th>Albania</th>\n",
       "      <td>7.044333</td>\n",
       "      <td>32.502693</td>\n",
       "      <td>50.132333</td>\n",
       "      <td>3.201000</td>\n",
       "      <td>10.253333</td>\n",
       "      <td>20.501000</td>\n",
       "      <td>7.017667</td>\n",
       "      <td>32.502693</td>\n",
       "      <td>0.006333</td>\n",
       "      <td>4.350000</td>\n",
       "      <td>...</td>\n",
       "      <td>6.729333</td>\n",
       "      <td>18.681000</td>\n",
       "      <td>0.416000</td>\n",
       "      <td>0.000000</td>\n",
       "      <td>0.000000</td>\n",
       "      <td>8.995000</td>\n",
       "      <td>0.488667</td>\n",
       "      <td>6.734667</td>\n",
       "      <td>0.604000</td>\n",
       "      <td>0.005333</td>\n",
       "    </tr>\n",
       "    <tr>\n",
       "      <th>Algeria</th>\n",
       "      <td>1.646000</td>\n",
       "      <td>0.000000</td>\n",
       "      <td>69.079333</td>\n",
       "      <td>0.108667</td>\n",
       "      <td>15.592333</td>\n",
       "      <td>33.352667</td>\n",
       "      <td>1.432667</td>\n",
       "      <td>0.004667</td>\n",
       "      <td>0.012000</td>\n",
       "      <td>1.453667</td>\n",
       "      <td>...</td>\n",
       "      <td>3.079333</td>\n",
       "      <td>9.742333</td>\n",
       "      <td>0.001000</td>\n",
       "      <td>0.000000</td>\n",
       "      <td>0.000000</td>\n",
       "      <td>5.180333</td>\n",
       "      <td>0.247333</td>\n",
       "      <td>3.079333</td>\n",
       "      <td>0.950333</td>\n",
       "      <td>25.450712</td>\n",
       "    </tr>\n",
       "    <tr>\n",
       "      <th>Angola</th>\n",
       "      <td>3.671667</td>\n",
       "      <td>26.325172</td>\n",
       "      <td>26.933333</td>\n",
       "      <td>1.855000</td>\n",
       "      <td>157.302000</td>\n",
       "      <td>21.056000</td>\n",
       "      <td>26.325172</td>\n",
       "      <td>0.000000</td>\n",
       "      <td>0.000000</td>\n",
       "      <td>0.401000</td>\n",
       "      <td>...</td>\n",
       "      <td>3.521333</td>\n",
       "      <td>21.081000</td>\n",
       "      <td>0.000333</td>\n",
       "      <td>0.000000</td>\n",
       "      <td>0.000000</td>\n",
       "      <td>1.588000</td>\n",
       "      <td>5.557000</td>\n",
       "      <td>3.521333</td>\n",
       "      <td>3.859667</td>\n",
       "      <td>26.325172</td>\n",
       "    </tr>\n",
       "    <tr>\n",
       "      <th>Argentina</th>\n",
       "      <td>1.813000</td>\n",
       "      <td>44.950187</td>\n",
       "      <td>113.051667</td>\n",
       "      <td>10.766000</td>\n",
       "      <td>41.883333</td>\n",
       "      <td>35.942667</td>\n",
       "      <td>1.235333</td>\n",
       "      <td>0.000333</td>\n",
       "      <td>0.584000</td>\n",
       "      <td>1.133000</td>\n",
       "      <td>...</td>\n",
       "      <td>19.928000</td>\n",
       "      <td>192.834333</td>\n",
       "      <td>0.675000</td>\n",
       "      <td>0.000000</td>\n",
       "      <td>0.000000</td>\n",
       "      <td>10.627667</td>\n",
       "      <td>0.505000</td>\n",
       "      <td>19.933333</td>\n",
       "      <td>13.161333</td>\n",
       "      <td>0.157000</td>\n",
       "    </tr>\n",
       "  </tbody>\n",
       "</table>\n",
       "<p>5 rows × 109 columns</p>\n",
       "</div>"
      ],
      "text/plain": [
       "             Oilcrops  Plantains  Sugar, Raw Equivalent  Beverages, Alcoholic  \\\n",
       "Country                                                                         \n",
       "Afghanistan  2.629000  29.068781              14.402000              0.002333   \n",
       "Albania      7.044333  32.502693              50.132333              3.201000   \n",
       "Algeria      1.646000   0.000000              69.079333              0.108667   \n",
       "Angola       3.671667  26.325172              26.933333              1.855000   \n",
       "Argentina    1.813000  44.950187             113.051667             10.766000   \n",
       "\n",
       "             Roots & Tuber Dry Equiv  Vegetable Oils  \\\n",
       "Country                                                \n",
       "Afghanistan                 8.539333        7.995000   \n",
       "Albania                    10.253333       20.501000   \n",
       "Algeria                    15.592333       33.352667   \n",
       "Angola                    157.302000       21.056000   \n",
       "Argentina                  41.883333       35.942667   \n",
       "\n",
       "             Olives (including preserved)     Cloves  Coconuts - Incl Copra  \\\n",
       "Country                                                                       \n",
       "Afghanistan                      0.065333  29.068781               0.015000   \n",
       "Albania                          7.017667  32.502693               0.006333   \n",
       "Algeria                          1.432667   0.004667               0.012000   \n",
       "Angola                          26.325172   0.000000               0.000000   \n",
       "Argentina                        1.235333   0.000333               0.584000   \n",
       "\n",
       "             Treenuts    ...         Offals  Bovine Meat  Molluscs, Other  \\\n",
       "Country                  ...                                                \n",
       "Afghanistan  2.327333    ...       9.166000    16.762667        29.068781   \n",
       "Albania      4.350000    ...       6.729333    18.681000         0.416000   \n",
       "Algeria      1.453667    ...       3.079333     9.742333         0.001000   \n",
       "Angola       0.401000    ...       3.521333    21.081000         0.000333   \n",
       "Argentina    1.133000    ...      19.928000   192.834333         0.675000   \n",
       "\n",
       "             Fish, Body Oil  Aquatic Animals, Others  Animal fats     Honey  \\\n",
       "Country                                                                       \n",
       "Afghanistan       29.068781                29.068781     6.513000  0.687667   \n",
       "Albania            0.000000                 0.000000     8.995000  0.488667   \n",
       "Algeria            0.000000                 0.000000     5.180333  0.247333   \n",
       "Angola             0.000000                 0.000000     1.588000  5.557000   \n",
       "Argentina          0.000000                 0.000000    10.627667  0.505000   \n",
       "\n",
       "             Offals, Edible  Demersal Fish      Cream  \n",
       "Country                                                \n",
       "Afghanistan        9.166000      29.068781   0.000000  \n",
       "Albania            6.734667       0.604000   0.005333  \n",
       "Algeria            3.079333       0.950333  25.450712  \n",
       "Angola             3.521333       3.859667  26.325172  \n",
       "Argentina         19.933333      13.161333   0.157000  \n",
       "\n",
       "[5 rows x 109 columns]"
      ]
     },
     "execution_count": 84,
     "metadata": {},
     "output_type": "execute_result"
    }
   ],
   "source": [
    "print food_1970_2000.shape\n",
    "food_1970_2000.head()"
   ]
  },
  {
   "cell_type": "code",
   "execution_count": 85,
   "metadata": {
    "collapsed": true
   },
   "outputs": [],
   "source": [
    "# For a given country, find its k nearest neighbors based on Euclidean distance of food consumption\n",
    "def find_k_nearest_neighbors(country, k, df):\n",
    "    # Initialize array to store distances to every other country\n",
    "    distances = pd.Series(index=df.index)\n",
    "    \n",
    "    for other_country in distances.index:\n",
    "        # Calculate distance between the country and every other country besides itself\n",
    "        if other_country != country:\n",
    "            distances[other_country] = np.linalg.norm(df.ix[country] - df.ix[other_country])\n",
    "        # Set country's distance to itself None so it's never chosen\n",
    "        else:\n",
    "            distances[other_country] = None\n",
    "    \n",
    "    return distances.nsmallest(k)"
   ]
  },
  {
   "cell_type": "code",
   "execution_count": 86,
   "metadata": {
    "collapsed": true
   },
   "outputs": [],
   "source": [
    "# Set k to be 3 for readability, since we have a lot of countries\n",
    "k = 3"
   ]
  },
  {
   "cell_type": "code",
   "execution_count": 87,
   "metadata": {
    "collapsed": false
   },
   "outputs": [
    {
     "data": {
      "text/plain": [
       "Country\n",
       "Canada         250.479628\n",
       "New Zealand    258.573159\n",
       "Australia      269.327328\n",
       "dtype: float64"
      ]
     },
     "execution_count": 87,
     "metadata": {},
     "output_type": "execute_result"
    }
   ],
   "source": [
    "find_k_nearest_neighbors(\"United States of America\", k, food_1970_2000)"
   ]
  },
  {
   "cell_type": "code",
   "execution_count": 88,
   "metadata": {
    "collapsed": false
   },
   "outputs": [
    {
     "data": {
      "text/plain": [
       "Country\n",
       "India           349.263218\n",
       "Nepal           372.342003\n",
       "Sierra Leone    403.871077\n",
       "dtype: float64"
      ]
     },
     "execution_count": 88,
     "metadata": {},
     "output_type": "execute_result"
    }
   ],
   "source": [
    "find_k_nearest_neighbors(\"China\", k, food_1970_2000)"
   ]
  },
  {
   "cell_type": "markdown",
   "metadata": {},
   "source": [
    "These results look interesting, but also plausible so we're off to a good start."
   ]
  },
  {
   "cell_type": "code",
   "execution_count": 89,
   "metadata": {
    "collapsed": true
   },
   "outputs": [],
   "source": [
    "# Calculate k closest neighbors for each country\n",
    "neighbors_dict = {}\n",
    "countries = food_1970_2000.index\n",
    "\n",
    "for country in countries:\n",
    "    neighbors_dict[country] = find_k_nearest_neighbors(country, k, food_1970_2000)"
   ]
  },
  {
   "cell_type": "markdown",
   "metadata": {},
   "source": [
    "## Create graph using nearest neighbor data"
   ]
  },
  {
   "cell_type": "code",
   "execution_count": 90,
   "metadata": {
    "collapsed": false
   },
   "outputs": [],
   "source": [
    "G = nx.Graph()\n",
    "# Add a node for each country\n",
    "G.add_nodes_from(food_1970_2000.index)\n",
    "# Add an edge between countries that are neighbors to one another in food consumption\n",
    "for country in neighbors_dict:\n",
    "    for other_country, distance in neighbors_dict[country].iteritems():\n",
    "        G.add_edge(country, other_country, weight=distance)"
   ]
  },
  {
   "cell_type": "code",
   "execution_count": 91,
   "metadata": {
    "collapsed": false
   },
   "outputs": [
    {
     "name": "stdout",
     "output_type": "stream",
     "text": [
      "154 339\n"
     ]
    }
   ],
   "source": [
    "print G.number_of_nodes(), G.number_of_edges()"
   ]
  },
  {
   "cell_type": "code",
   "execution_count": 92,
   "metadata": {
    "collapsed": false
   },
   "outputs": [
    {
     "data": {
      "image/png": "[encoded data removed]",
      "text/plain": [
       "<matplotlib.figure.Figure at 0x11d8e6290>"
      ]
     },
     "metadata": {},
     "output_type": "display_data"
    }
   ],
   "source": [
    "# Visualize static plot\n",
    "nx.draw(G)"
   ]
  },
  {
   "cell_type": "markdown",
   "metadata": {},
   "source": [
    "Hmm...this is a start but it would be much more informative (and cooler!) if we could make this an interactive network graph, so we'll do that next."
   ]
  },
  {
   "cell_type": "markdown",
   "metadata": {},
   "source": [
    "## Interactive network graph using NetworkxD3\n",
    "We'll use [NetworkxD3](https://github.com/Jverma/NetworkxD3) in order to spice our boring static viz up and turn it into an interactive one (spicy!)."
   ]
  },
  {
   "cell_type": "code",
   "execution_count": 93,
   "metadata": {
    "collapsed": false
   },
   "outputs": [],
   "source": [
    "# Writes visualization to a file called Net.html\n",
    "simpleNetworkx(G)"
   ]
  },
  {
   "cell_type": "code",
   "execution_count": 94,
   "metadata": {
    "collapsed": false
   },
   "outputs": [
    {
     "data": {
      "text/html": [
       "\n",
       "        <iframe\n",
       "            width=\"1000\"\n",
       "            height=\"1000\"\n",
       "            src=\"Net.html\"\n",
       "            frameborder=\"0\"\n",
       "            allowfullscreen\n",
       "        ></iframe>\n",
       "        "
      ],
      "text/plain": [
       "<IPython.lib.display.IFrame at 0x11917c250>"
      ]
     },
     "execution_count": 94,
     "metadata": {},
     "output_type": "execute_result"
    }
   ],
   "source": [
    "IFrame('Net.html', width=1000, height=1000)"
   ]
  },
  {
   "cell_type": "markdown",
   "metadata": {},
   "source": [
    "Much better! The length of an edge corresponds to the distance between the countries in food consumption habits. We see that for the most part there are some geographical correlations in that countries with similar diets tend to be near one another in graph proximity but there are some interesting outliers as well."
   ]
  }
 ],
 "metadata": {
  "anaconda-cloud": {},
  "kernelspec": {
   "display_name": "Python [Root]",
   "language": "python",
   "name": "Python [Root]"
  },
  "language_info": {
   "codemirror_mode": {
    "name": "ipython",
    "version": 2
   },
   "file_extension": ".py",
   "mimetype": "text/x-python",
   "name": "python",
   "nbconvert_exporter": "python",
   "pygments_lexer": "ipython2",
   "version": "2.7.12"
  }
 },
 "nbformat": 4,
 "nbformat_minor": 0
}
