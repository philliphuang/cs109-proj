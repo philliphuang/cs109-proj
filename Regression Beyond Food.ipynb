{
 "cells": [
  {
   "cell_type": "markdown",
   "metadata": {},
   "source": [
    "# Regression Beyond Food"
   ]
  },
  {
   "cell_type": "markdown",
   "metadata": {},
   "source": [
    "While we were able to fit models relating various measures of risk of death from non-communicable diseases, we would expect other variables to also play some role in the variation not captured by those relationships we found. One approach we could use to determine whether other features i.e. exercise, access to doctors could also be important would be to use the residuals of the models we fitted as the responses for new linear regression models with the non-food variables as features."
   ]
  },
  {
   "cell_type": "code",
   "execution_count": 1,
   "metadata": {
    "collapsed": true
   },
   "outputs": [],
   "source": [
    "# importing modules\n",
    "import pickle\n",
    "import pandas as pd\n",
    "import numpy as np\n",
    "import statsmodels.formula.api as sm\n",
    "import sklearn as sk\n",
    "from sklearn import linear_model\n",
    "%matplotlib inline"
   ]
  },
  {
   "cell_type": "markdown",
   "metadata": {},
   "source": [
    "First we need to load in both the new data and the models we calculated earlier."
   ]
  },
  {
   "cell_type": "code",
   "execution_count": 12,
   "metadata": {
    "collapsed": true
   },
   "outputs": [],
   "source": [
    "# loading in the data\n",
    "out = open('data/clean/exer.p', 'r')\n",
    "exercise = pickle.load(out)\n",
    "out.close()"
   ]
  },
  {
   "cell_type": "code",
   "execution_count": 3,
   "metadata": {
    "collapsed": true
   },
   "outputs": [],
   "source": [
    "# loading in the lasso models we selected from the scoring notebook\n",
    "out = open('data/models/risk_results_lasso.p', 'r')\n",
    "risk_results_lasso = pickle.load(out)\n",
    "out.close()\n",
    "out = open('data/models/deaths_all_results_lasso.p', 'r')\n",
    "deaths_all_results_lasso = pickle.load(out)\n",
    "out.close()\n",
    "out = open('data/models/deaths_cancer_results_lasso.p', 'r')\n",
    "deaths_cancer_results_lasso = pickle.load(out)\n",
    "out.close()\n",
    "out = open('data/models/deaths_cardio_results_lasso.p', 'r')\n",
    "deaths_cardio_results_lasso = pickle.load(out)\n",
    "out.close()\n",
    "out = open('data/models/deaths_diabetes_results_lasso.p', 'r')\n",
    "deaths_diabetes_results_lasso = pickle.load(out)\n",
    "out.close()\n",
    "out = open('data/models/deaths_resp_results_lasso.p', 'r')\n",
    "deaths_resp_results_lasso = pickle.load(out)\n",
    "out.close()"
   ]
  },
  {
   "cell_type": "markdown",
   "metadata": {},
   "source": [
    "Now we need to collect the residuals of each model so we can use them as responses."
   ]
  },
  {
   "cell_type": "code",
   "execution_count": 11,
   "metadata": {
    "collapsed": false
   },
   "outputs": [],
   "source": [
    "# collecting the residuals from each model\n",
    "risk_lasso_resid = risk_results_lasso.resid\n",
    "deaths_all_lasso_resid = deaths_all_results_lasso.resid\n",
    "deaths_cancer_lasso_resid = deaths_cancer_results_lasso.resid\n",
    "deaths_cardio_lasso_resid = deaths_cardio_results_lasso.resid\n",
    "deaths_diabetes_lasso_resid = deaths_diabetes_results_lasso.resid\n",
    "deaths_resp_lasso_resid = deaths_resp_results_lasso.resid"
   ]
  },
  {
   "cell_type": "markdown",
   "metadata": {},
   "source": [
    "And now we can fit models with each of these residual datasets as the responses and the doctors data from 1970 to 2000 as the feature."
   ]
  },
  {
   "cell_type": "code",
   "execution_count": null,
   "metadata": {
    "collapsed": true
   },
   "outputs": [],
   "source": [
    "risk_exercise"
   ]
  }
 ],
 "metadata": {
  "kernelspec": {
   "display_name": "Python [Root]",
   "language": "python",
   "name": "Python [Root]"
  },
  "language_info": {
   "codemirror_mode": {
    "name": "ipython",
    "version": 2
   },
   "file_extension": ".py",
   "mimetype": "text/x-python",
   "name": "python",
   "nbconvert_exporter": "python",
   "pygments_lexer": "ipython2",
   "version": "2.7.12"
  }
 },
 "nbformat": 4,
 "nbformat_minor": 0
}
