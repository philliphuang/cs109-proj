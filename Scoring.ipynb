{
 "cells": [
  {
   "cell_type": "markdown",
   "metadata": {},
   "source": [
    "# Scoring\n",
    "Let's create a merged dataframe for food consumption data from 2000-2012 with the same columns as our merged dataframe from 1970-2000 for use in scoring the models that we created."
   ]
  },
  {
   "cell_type": "code",
   "execution_count": 1,
   "metadata": {
    "collapsed": true
   },
   "outputs": [],
   "source": [
    "import pickle\n",
    "import pandas as pd\n",
    "import numpy as np\n",
    "from sklearn.preprocessing import Imputer\n",
    "import statsmodels.formula.api as sm\n",
    "import sklearn as sk\n",
    "from sklearn import linear_model\n",
    "from sklearn.ensemble import RandomForestRegressor as rf\n",
    "%matplotlib inline"
   ]
  },
  {
   "cell_type": "markdown",
   "metadata": {},
   "source": [
    "## Get predictors from 1970-2000 food consumption dataframe"
   ]
  },
  {
   "cell_type": "code",
   "execution_count": 2,
   "metadata": {
    "collapsed": false
   },
   "outputs": [],
   "source": [
    "# Load merged dataframe from 1970-2000\n",
    "out = open('data/final/food_1970_2000_cleaned.p', 'r')\n",
    "food_1970_2000_cleaned = pickle.load(out)\n",
    "out.close()"
   ]
  },
  {
   "cell_type": "code",
   "execution_count": 32,
   "metadata": {
    "collapsed": false
   },
   "outputs": [
    {
     "data": {
      "text/html": [
       "<div>\n",
       "<table border=\"1\" class=\"dataframe\">\n",
       "  <thead>\n",
       "    <tr style=\"text-align: right;\">\n",
       "      <th></th>\n",
       "      <th>Plantains</th>\n",
       "      <th>Sugar, Raw Equivalent</th>\n",
       "      <th>Beverages, Alcoholic</th>\n",
       "      <th>Olives (including preserved)</th>\n",
       "      <th>Cloves</th>\n",
       "      <th>Coconuts - Incl Copra</th>\n",
       "      <th>Vegetables, Other</th>\n",
       "      <th>Sesame seed</th>\n",
       "      <th>Wine</th>\n",
       "      <th>Apples and products</th>\n",
       "      <th>...</th>\n",
       "      <th>Mutton &amp; Goat Meat</th>\n",
       "      <th>Pelagic Fish</th>\n",
       "      <th>Bovine Meat</th>\n",
       "      <th>Molluscs, Other</th>\n",
       "      <th>Fish, Body Oil</th>\n",
       "      <th>Aquatic Animals, Others</th>\n",
       "      <th>Honey</th>\n",
       "      <th>Offals, Edible</th>\n",
       "      <th>Demersal Fish</th>\n",
       "      <th>Cream</th>\n",
       "    </tr>\n",
       "    <tr>\n",
       "      <th>Country</th>\n",
       "      <th></th>\n",
       "      <th></th>\n",
       "      <th></th>\n",
       "      <th></th>\n",
       "      <th></th>\n",
       "      <th></th>\n",
       "      <th></th>\n",
       "      <th></th>\n",
       "      <th></th>\n",
       "      <th></th>\n",
       "      <th></th>\n",
       "      <th></th>\n",
       "      <th></th>\n",
       "      <th></th>\n",
       "      <th></th>\n",
       "      <th></th>\n",
       "      <th></th>\n",
       "      <th></th>\n",
       "      <th></th>\n",
       "      <th></th>\n",
       "      <th></th>\n",
       "    </tr>\n",
       "  </thead>\n",
       "  <tbody>\n",
       "    <tr>\n",
       "      <th>Afghanistan</th>\n",
       "      <td>29.068781</td>\n",
       "      <td>14.402000</td>\n",
       "      <td>0.002333</td>\n",
       "      <td>0.065333</td>\n",
       "      <td>29.068781</td>\n",
       "      <td>0.015000</td>\n",
       "      <td>92.210667</td>\n",
       "      <td>2.550000</td>\n",
       "      <td>0.000000</td>\n",
       "      <td>3.435667</td>\n",
       "      <td>...</td>\n",
       "      <td>27.100667</td>\n",
       "      <td>29.068781</td>\n",
       "      <td>16.762667</td>\n",
       "      <td>29.068781</td>\n",
       "      <td>29.068781</td>\n",
       "      <td>29.068781</td>\n",
       "      <td>0.687667</td>\n",
       "      <td>9.166000</td>\n",
       "      <td>29.068781</td>\n",
       "      <td>0.000000</td>\n",
       "    </tr>\n",
       "    <tr>\n",
       "      <th>Albania</th>\n",
       "      <td>32.502693</td>\n",
       "      <td>50.132333</td>\n",
       "      <td>3.201000</td>\n",
       "      <td>7.017667</td>\n",
       "      <td>32.502693</td>\n",
       "      <td>0.006333</td>\n",
       "      <td>206.557667</td>\n",
       "      <td>32.502693</td>\n",
       "      <td>6.353667</td>\n",
       "      <td>15.048000</td>\n",
       "      <td>...</td>\n",
       "      <td>12.073000</td>\n",
       "      <td>1.050333</td>\n",
       "      <td>18.681000</td>\n",
       "      <td>0.416000</td>\n",
       "      <td>0.000000</td>\n",
       "      <td>0.000000</td>\n",
       "      <td>0.488667</td>\n",
       "      <td>6.734667</td>\n",
       "      <td>0.604000</td>\n",
       "      <td>0.005333</td>\n",
       "    </tr>\n",
       "    <tr>\n",
       "      <th>Algeria</th>\n",
       "      <td>0.000000</td>\n",
       "      <td>69.079333</td>\n",
       "      <td>0.108667</td>\n",
       "      <td>1.432667</td>\n",
       "      <td>0.004667</td>\n",
       "      <td>0.012000</td>\n",
       "      <td>88.779667</td>\n",
       "      <td>0.124000</td>\n",
       "      <td>0.033333</td>\n",
       "      <td>3.993667</td>\n",
       "      <td>...</td>\n",
       "      <td>12.729333</td>\n",
       "      <td>6.693333</td>\n",
       "      <td>9.742333</td>\n",
       "      <td>0.001000</td>\n",
       "      <td>0.000000</td>\n",
       "      <td>0.000000</td>\n",
       "      <td>0.247333</td>\n",
       "      <td>3.079333</td>\n",
       "      <td>0.950333</td>\n",
       "      <td>25.450712</td>\n",
       "    </tr>\n",
       "    <tr>\n",
       "      <th>Angola</th>\n",
       "      <td>26.325172</td>\n",
       "      <td>26.933333</td>\n",
       "      <td>1.855000</td>\n",
       "      <td>26.325172</td>\n",
       "      <td>0.000000</td>\n",
       "      <td>0.000000</td>\n",
       "      <td>63.024333</td>\n",
       "      <td>0.512000</td>\n",
       "      <td>8.947333</td>\n",
       "      <td>0.423333</td>\n",
       "      <td>...</td>\n",
       "      <td>1.418000</td>\n",
       "      <td>25.743000</td>\n",
       "      <td>21.081000</td>\n",
       "      <td>0.000333</td>\n",
       "      <td>0.000000</td>\n",
       "      <td>0.000000</td>\n",
       "      <td>5.557000</td>\n",
       "      <td>3.521333</td>\n",
       "      <td>3.859667</td>\n",
       "      <td>26.325172</td>\n",
       "    </tr>\n",
       "    <tr>\n",
       "      <th>Argentina</th>\n",
       "      <td>44.950187</td>\n",
       "      <td>113.051667</td>\n",
       "      <td>10.766000</td>\n",
       "      <td>1.235333</td>\n",
       "      <td>0.000333</td>\n",
       "      <td>0.584000</td>\n",
       "      <td>127.668333</td>\n",
       "      <td>0.006667</td>\n",
       "      <td>175.032667</td>\n",
       "      <td>39.242667</td>\n",
       "      <td>...</td>\n",
       "      <td>9.304333</td>\n",
       "      <td>2.740667</td>\n",
       "      <td>192.834333</td>\n",
       "      <td>0.675000</td>\n",
       "      <td>0.000000</td>\n",
       "      <td>0.000000</td>\n",
       "      <td>0.505000</td>\n",
       "      <td>19.933333</td>\n",
       "      <td>13.161333</td>\n",
       "      <td>0.157000</td>\n",
       "    </tr>\n",
       "  </tbody>\n",
       "</table>\n",
       "<p>5 rows × 82 columns</p>\n",
       "</div>"
      ],
      "text/plain": [
       "             Plantains  Sugar, Raw Equivalent  Beverages, Alcoholic  \\\n",
       "Country                                                               \n",
       "Afghanistan  29.068781              14.402000              0.002333   \n",
       "Albania      32.502693              50.132333              3.201000   \n",
       "Algeria       0.000000              69.079333              0.108667   \n",
       "Angola       26.325172              26.933333              1.855000   \n",
       "Argentina    44.950187             113.051667             10.766000   \n",
       "\n",
       "             Olives (including preserved)     Cloves  Coconuts - Incl Copra  \\\n",
       "Country                                                                       \n",
       "Afghanistan                      0.065333  29.068781               0.015000   \n",
       "Albania                          7.017667  32.502693               0.006333   \n",
       "Algeria                          1.432667   0.004667               0.012000   \n",
       "Angola                          26.325172   0.000000               0.000000   \n",
       "Argentina                        1.235333   0.000333               0.584000   \n",
       "\n",
       "             Vegetables, Other  Sesame seed        Wine  Apples and products  \\\n",
       "Country                                                                        \n",
       "Afghanistan          92.210667     2.550000    0.000000             3.435667   \n",
       "Albania             206.557667    32.502693    6.353667            15.048000   \n",
       "Algeria              88.779667     0.124000    0.033333             3.993667   \n",
       "Angola               63.024333     0.512000    8.947333             0.423333   \n",
       "Argentina           127.668333     0.006667  175.032667            39.242667   \n",
       "\n",
       "               ...      Mutton & Goat Meat  Pelagic Fish  Bovine Meat  \\\n",
       "Country        ...                                                      \n",
       "Afghanistan    ...               27.100667     29.068781    16.762667   \n",
       "Albania        ...               12.073000      1.050333    18.681000   \n",
       "Algeria        ...               12.729333      6.693333     9.742333   \n",
       "Angola         ...                1.418000     25.743000    21.081000   \n",
       "Argentina      ...                9.304333      2.740667   192.834333   \n",
       "\n",
       "             Molluscs, Other  Fish, Body Oil  Aquatic Animals, Others  \\\n",
       "Country                                                                 \n",
       "Afghanistan        29.068781       29.068781                29.068781   \n",
       "Albania             0.416000        0.000000                 0.000000   \n",
       "Algeria             0.001000        0.000000                 0.000000   \n",
       "Angola              0.000333        0.000000                 0.000000   \n",
       "Argentina           0.675000        0.000000                 0.000000   \n",
       "\n",
       "                Honey  Offals, Edible  Demersal Fish      Cream  \n",
       "Country                                                          \n",
       "Afghanistan  0.687667        9.166000      29.068781   0.000000  \n",
       "Albania      0.488667        6.734667       0.604000   0.005333  \n",
       "Algeria      0.247333        3.079333       0.950333  25.450712  \n",
       "Angola       5.557000        3.521333       3.859667  26.325172  \n",
       "Argentina    0.505000       19.933333      13.161333   0.157000  \n",
       "\n",
       "[5 rows x 82 columns]"
      ]
     },
     "execution_count": 32,
     "metadata": {},
     "output_type": "execute_result"
    }
   ],
   "source": [
    "food_1970_2000.head()"
   ]
  },
  {
   "cell_type": "code",
   "execution_count": 33,
   "metadata": {
    "collapsed": true
   },
   "outputs": [],
   "source": [
    "# Get list of columns in 1970-2000 dataframe\n",
    "predictors_1970_2000 = food_1970_2000.columns"
   ]
  },
  {
   "cell_type": "code",
   "execution_count": 34,
   "metadata": {
    "collapsed": false
   },
   "outputs": [
    {
     "name": "stdout",
     "output_type": "stream",
     "text": [
      "82\n",
      "Index([u'Plantains', u'Sugar, Raw Equivalent', u'Beverages, Alcoholic',\n",
      "       u'Olives (including preserved)', u'Cloves', u'Coconuts - Incl Copra',\n",
      "       u'Vegetables, Other', u'Sesame seed', u'Wine', u'Apples and products',\n",
      "       u'Rape and Mustard Oil', u'Maize and products',\n",
      "       u'Groundnuts (Shelled Eq)', u'Barley and products', u'Maize Germ Oil',\n",
      "       u'Beer', u'Groundnut Oil', u'Pineapples and products',\n",
      "       u'Pulses, Other and products', u'Sugar (Raw Equivalent)', u'Palm Oil',\n",
      "       u'Oilcrops, Other', u'Dates', u'Oats', u'Soyabeans', u'Beans',\n",
      "       u'Sesameseed Oil', u'Grapes and products (excl wine)',\n",
      "       u'Beverages, Fermented', u'Potatoes and products', u'Cottonseed Oil',\n",
      "       u'Onions', u'Coffee and products', u'Roots, Other', u'Infant food',\n",
      "       u'Cereals, Other', u'Pepper', u'Peas', u'Nuts and products',\n",
      "       u'Cocoa Beans and products', u'Wheat and products',\n",
      "       u'Cassava and products', u'Sunflowerseed Oil', u'Palmkernel Oil',\n",
      "       u'Pimento', u'Fruits, Other', u'Citrus, Other',\n",
      "       u'Lemons, Limes and products', u'Tea (including mate)', u'Soyabean Oil',\n",
      "       u'Grapefruit and products', u'Rye and products', u'Olive Oil',\n",
      "       u'Coconut Oil', u'Tomatoes and products', u'Oilcrops Oil, Other',\n",
      "       u'Bananas', u'Spices, Other', u'Sweet potatoes', u'Oranges, Mandarines',\n",
      "       u'Rice (Milled Equivalent)', u'Butter, Ghee', u'Fats, Animals, Raw',\n",
      "       u'Crustaceans', u'Marine Fish, Other', u'Aquatic Plants', u'Pigmeat',\n",
      "       u'Freshwater Fish', u'Poultry Meat', u'Fish, Liver Oil', u'Meat, Other',\n",
      "       u'Cephalopods', u'Mutton & Goat Meat', u'Pelagic Fish', u'Bovine Meat',\n",
      "       u'Molluscs, Other', u'Fish, Body Oil', u'Aquatic Animals, Others',\n",
      "       u'Honey', u'Offals, Edible', u'Demersal Fish', u'Cream'],\n",
      "      dtype='object')\n"
     ]
    }
   ],
   "source": [
    "print len(predictors_1970_2000)\n",
    "print predictors_1970_2000"
   ]
  },
  {
   "cell_type": "markdown",
   "metadata": {},
   "source": [
    "## Create merged dataframe for food consumption data from 2000-2012"
   ]
  },
  {
   "cell_type": "code",
   "execution_count": 35,
   "metadata": {
    "collapsed": false
   },
   "outputs": [],
   "source": [
    "out = open('data/clean/crops.p', 'r')\n",
    "crops = pickle.load(out)\n",
    "out.close()\n",
    "out = open('data/clean/meat.p', 'r')\n",
    "meat = pickle.load(out)\n",
    "out.close()"
   ]
  },
  {
   "cell_type": "code",
   "execution_count": 36,
   "metadata": {
    "collapsed": false
   },
   "outputs": [
    {
     "data": {
      "text/html": [
       "<div>\n",
       "<table border=\"1\" class=\"dataframe\">\n",
       "  <thead>\n",
       "    <tr style=\"text-align: right;\">\n",
       "      <th></th>\n",
       "      <th>Ricebran Oil</th>\n",
       "      <th>Oilcrops</th>\n",
       "      <th>Plantains</th>\n",
       "      <th>Sugar, Raw Equivalent</th>\n",
       "      <th>Beverages, Alcoholic</th>\n",
       "      <th>Roots &amp; Tuber Dry Equiv</th>\n",
       "      <th>Vegetable Oils</th>\n",
       "      <th>Olives (including preserved)</th>\n",
       "      <th>Cloves</th>\n",
       "      <th>Millet and products</th>\n",
       "      <th>...</th>\n",
       "      <th>Offals</th>\n",
       "      <th>Bovine Meat</th>\n",
       "      <th>Molluscs, Other</th>\n",
       "      <th>Fish, Body Oil</th>\n",
       "      <th>Aquatic Animals, Others</th>\n",
       "      <th>Animal fats</th>\n",
       "      <th>Honey</th>\n",
       "      <th>Offals, Edible</th>\n",
       "      <th>Demersal Fish</th>\n",
       "      <th>Cream</th>\n",
       "    </tr>\n",
       "    <tr>\n",
       "      <th>Country</th>\n",
       "      <th></th>\n",
       "      <th></th>\n",
       "      <th></th>\n",
       "      <th></th>\n",
       "      <th></th>\n",
       "      <th></th>\n",
       "      <th></th>\n",
       "      <th></th>\n",
       "      <th></th>\n",
       "      <th></th>\n",
       "      <th></th>\n",
       "      <th></th>\n",
       "      <th></th>\n",
       "      <th></th>\n",
       "      <th></th>\n",
       "      <th></th>\n",
       "      <th></th>\n",
       "      <th></th>\n",
       "      <th></th>\n",
       "      <th></th>\n",
       "      <th></th>\n",
       "    </tr>\n",
       "  </thead>\n",
       "  <tbody>\n",
       "    <tr>\n",
       "      <th>Afghanistan</th>\n",
       "      <td>NaN</td>\n",
       "      <td>1.730000</td>\n",
       "      <td>NaN</td>\n",
       "      <td>17.044167</td>\n",
       "      <td>0.014167</td>\n",
       "      <td>5.510833</td>\n",
       "      <td>7.859167</td>\n",
       "      <td>0.110833</td>\n",
       "      <td>NaN</td>\n",
       "      <td>1.921667</td>\n",
       "      <td>...</td>\n",
       "      <td>5.305833</td>\n",
       "      <td>14.946667</td>\n",
       "      <td>NaN</td>\n",
       "      <td>NaN</td>\n",
       "      <td>NaN</td>\n",
       "      <td>5.070833</td>\n",
       "      <td>0.385000</td>\n",
       "      <td>5.305833</td>\n",
       "      <td>NaN</td>\n",
       "      <td>0.035833</td>\n",
       "    </tr>\n",
       "    <tr>\n",
       "      <th>Albania</th>\n",
       "      <td>NaN</td>\n",
       "      <td>33.371667</td>\n",
       "      <td>NaN</td>\n",
       "      <td>79.652500</td>\n",
       "      <td>2.841667</td>\n",
       "      <td>18.851667</td>\n",
       "      <td>17.659167</td>\n",
       "      <td>32.464167</td>\n",
       "      <td>NaN</td>\n",
       "      <td>NaN</td>\n",
       "      <td>...</td>\n",
       "      <td>11.912500</td>\n",
       "      <td>39.284167</td>\n",
       "      <td>0.798333</td>\n",
       "      <td>0.0</td>\n",
       "      <td>0.005833</td>\n",
       "      <td>8.506667</td>\n",
       "      <td>1.718333</td>\n",
       "      <td>11.964167</td>\n",
       "      <td>1.660833</td>\n",
       "      <td>0.335000</td>\n",
       "    </tr>\n",
       "    <tr>\n",
       "      <th>Algeria</th>\n",
       "      <td>NaN</td>\n",
       "      <td>4.374167</td>\n",
       "      <td>0.0</td>\n",
       "      <td>80.422500</td>\n",
       "      <td>0.120000</td>\n",
       "      <td>27.877500</td>\n",
       "      <td>37.601667</td>\n",
       "      <td>3.374167</td>\n",
       "      <td>0.008333</td>\n",
       "      <td>NaN</td>\n",
       "      <td>...</td>\n",
       "      <td>3.270000</td>\n",
       "      <td>14.145000</td>\n",
       "      <td>0.007500</td>\n",
       "      <td>0.0</td>\n",
       "      <td>0.000000</td>\n",
       "      <td>1.942500</td>\n",
       "      <td>0.252500</td>\n",
       "      <td>3.270000</td>\n",
       "      <td>1.147500</td>\n",
       "      <td>NaN</td>\n",
       "    </tr>\n",
       "    <tr>\n",
       "      <th>Angola</th>\n",
       "      <td>NaN</td>\n",
       "      <td>5.051667</td>\n",
       "      <td>NaN</td>\n",
       "      <td>33.684167</td>\n",
       "      <td>3.452500</td>\n",
       "      <td>190.768333</td>\n",
       "      <td>23.630000</td>\n",
       "      <td>NaN</td>\n",
       "      <td>0.000000</td>\n",
       "      <td>12.783333</td>\n",
       "      <td>...</td>\n",
       "      <td>2.957500</td>\n",
       "      <td>23.000833</td>\n",
       "      <td>0.018333</td>\n",
       "      <td>0.0</td>\n",
       "      <td>0.000000</td>\n",
       "      <td>1.321667</td>\n",
       "      <td>3.910833</td>\n",
       "      <td>2.957500</td>\n",
       "      <td>15.949167</td>\n",
       "      <td>NaN</td>\n",
       "    </tr>\n",
       "    <tr>\n",
       "      <th>Argentina</th>\n",
       "      <td>NaN</td>\n",
       "      <td>1.890833</td>\n",
       "      <td>NaN</td>\n",
       "      <td>130.554167</td>\n",
       "      <td>4.538333</td>\n",
       "      <td>28.936667</td>\n",
       "      <td>38.730000</td>\n",
       "      <td>0.973333</td>\n",
       "      <td>0.000000</td>\n",
       "      <td>NaN</td>\n",
       "      <td>...</td>\n",
       "      <td>15.671667</td>\n",
       "      <td>152.111667</td>\n",
       "      <td>2.696667</td>\n",
       "      <td>0.0</td>\n",
       "      <td>0.000000</td>\n",
       "      <td>9.235833</td>\n",
       "      <td>0.310833</td>\n",
       "      <td>15.673333</td>\n",
       "      <td>8.484167</td>\n",
       "      <td>0.224167</td>\n",
       "    </tr>\n",
       "  </tbody>\n",
       "</table>\n",
       "<p>5 rows × 122 columns</p>\n",
       "</div>"
      ],
      "text/plain": [
       "             Ricebran Oil   Oilcrops  Plantains  Sugar, Raw Equivalent  \\\n",
       "Country                                                                  \n",
       "Afghanistan           NaN   1.730000        NaN              17.044167   \n",
       "Albania               NaN  33.371667        NaN              79.652500   \n",
       "Algeria               NaN   4.374167        0.0              80.422500   \n",
       "Angola                NaN   5.051667        NaN              33.684167   \n",
       "Argentina             NaN   1.890833        NaN             130.554167   \n",
       "\n",
       "             Beverages, Alcoholic  Roots & Tuber Dry Equiv  Vegetable Oils  \\\n",
       "Country                                                                      \n",
       "Afghanistan              0.014167                 5.510833        7.859167   \n",
       "Albania                  2.841667                18.851667       17.659167   \n",
       "Algeria                  0.120000                27.877500       37.601667   \n",
       "Angola                   3.452500               190.768333       23.630000   \n",
       "Argentina                4.538333                28.936667       38.730000   \n",
       "\n",
       "             Olives (including preserved)    Cloves  Millet and products  \\\n",
       "Country                                                                    \n",
       "Afghanistan                      0.110833       NaN             1.921667   \n",
       "Albania                         32.464167       NaN                  NaN   \n",
       "Algeria                          3.374167  0.008333                  NaN   \n",
       "Angola                                NaN  0.000000            12.783333   \n",
       "Argentina                        0.973333  0.000000                  NaN   \n",
       "\n",
       "               ...        Offals  Bovine Meat  Molluscs, Other  \\\n",
       "Country        ...                                               \n",
       "Afghanistan    ...      5.305833    14.946667              NaN   \n",
       "Albania        ...     11.912500    39.284167         0.798333   \n",
       "Algeria        ...      3.270000    14.145000         0.007500   \n",
       "Angola         ...      2.957500    23.000833         0.018333   \n",
       "Argentina      ...     15.671667   152.111667         2.696667   \n",
       "\n",
       "             Fish, Body Oil  Aquatic Animals, Others  Animal fats     Honey  \\\n",
       "Country                                                                       \n",
       "Afghanistan             NaN                      NaN     5.070833  0.385000   \n",
       "Albania                 0.0                 0.005833     8.506667  1.718333   \n",
       "Algeria                 0.0                 0.000000     1.942500  0.252500   \n",
       "Angola                  0.0                 0.000000     1.321667  3.910833   \n",
       "Argentina               0.0                 0.000000     9.235833  0.310833   \n",
       "\n",
       "             Offals, Edible  Demersal Fish     Cream  \n",
       "Country                                               \n",
       "Afghanistan        5.305833            NaN  0.035833  \n",
       "Albania           11.964167       1.660833  0.335000  \n",
       "Algeria            3.270000       1.147500       NaN  \n",
       "Angola             2.957500      15.949167       NaN  \n",
       "Argentina         15.673333       8.484167  0.224167  \n",
       "\n",
       "[5 rows x 122 columns]"
      ]
     },
     "execution_count": 36,
     "metadata": {},
     "output_type": "execute_result"
    }
   ],
   "source": [
    "time_period = range(2000, 2012)\n",
    "\n",
    "# Calculate the mean for each crop/meat over the period 2000-2012\n",
    "food_2000_2012 = pd.DataFrame(index=food_1970_2000.index)\n",
    "\n",
    "for crop in crops.iterkeys():\n",
    "    food_2000_2012[crop] = crops[crop][time_period].mean(axis=1)\n",
    "    \n",
    "for m in meat.iterkeys():\n",
    "    food_2000_2012[m] = meat[m][time_period].mean(axis=1)\n",
    "\n",
    "food_2000_2012.head()"
   ]
  },
  {
   "cell_type": "code",
   "execution_count": 37,
   "metadata": {
    "collapsed": false
   },
   "outputs": [
    {
     "name": "stdout",
     "output_type": "stream",
     "text": [
      "Percentage NaN cells before dropping: 0.146263572493\n"
     ]
    }
   ],
   "source": [
    "print \"Percentage NaN cells before dropping:\", food_2000_2012.isnull().sum().sum() / float(food_2000_2012.shape[0] * food_2000_2012.shape[1])"
   ]
  },
  {
   "cell_type": "markdown",
   "metadata": {},
   "source": [
    "As expected there are some sparse columns even after averaging over 12 years. Let's see if this sparsity is alleviated by dropping columns not found in the merged 1970-2000 dataframe."
   ]
  },
  {
   "cell_type": "code",
   "execution_count": 38,
   "metadata": {
    "collapsed": false
   },
   "outputs": [
    {
     "data": {
      "text/html": [
       "<div>\n",
       "<table border=\"1\" class=\"dataframe\">\n",
       "  <thead>\n",
       "    <tr style=\"text-align: right;\">\n",
       "      <th></th>\n",
       "      <th>Plantains</th>\n",
       "      <th>Sugar, Raw Equivalent</th>\n",
       "      <th>Beverages, Alcoholic</th>\n",
       "      <th>Olives (including preserved)</th>\n",
       "      <th>Cloves</th>\n",
       "      <th>Coconuts - Incl Copra</th>\n",
       "      <th>Vegetables, Other</th>\n",
       "      <th>Sesame seed</th>\n",
       "      <th>Wine</th>\n",
       "      <th>Apples and products</th>\n",
       "      <th>...</th>\n",
       "      <th>Mutton &amp; Goat Meat</th>\n",
       "      <th>Pelagic Fish</th>\n",
       "      <th>Bovine Meat</th>\n",
       "      <th>Molluscs, Other</th>\n",
       "      <th>Fish, Body Oil</th>\n",
       "      <th>Aquatic Animals, Others</th>\n",
       "      <th>Honey</th>\n",
       "      <th>Offals, Edible</th>\n",
       "      <th>Demersal Fish</th>\n",
       "      <th>Cream</th>\n",
       "    </tr>\n",
       "    <tr>\n",
       "      <th>Country</th>\n",
       "      <th></th>\n",
       "      <th></th>\n",
       "      <th></th>\n",
       "      <th></th>\n",
       "      <th></th>\n",
       "      <th></th>\n",
       "      <th></th>\n",
       "      <th></th>\n",
       "      <th></th>\n",
       "      <th></th>\n",
       "      <th></th>\n",
       "      <th></th>\n",
       "      <th></th>\n",
       "      <th></th>\n",
       "      <th></th>\n",
       "      <th></th>\n",
       "      <th></th>\n",
       "      <th></th>\n",
       "      <th></th>\n",
       "      <th></th>\n",
       "      <th></th>\n",
       "    </tr>\n",
       "  </thead>\n",
       "  <tbody>\n",
       "    <tr>\n",
       "      <th>Afghanistan</th>\n",
       "      <td>NaN</td>\n",
       "      <td>17.044167</td>\n",
       "      <td>0.014167</td>\n",
       "      <td>0.110833</td>\n",
       "      <td>NaN</td>\n",
       "      <td>0.000833</td>\n",
       "      <td>90.563333</td>\n",
       "      <td>1.617500</td>\n",
       "      <td>0.026667</td>\n",
       "      <td>3.591667</td>\n",
       "      <td>...</td>\n",
       "      <td>15.015000</td>\n",
       "      <td>NaN</td>\n",
       "      <td>14.946667</td>\n",
       "      <td>NaN</td>\n",
       "      <td>NaN</td>\n",
       "      <td>NaN</td>\n",
       "      <td>0.385000</td>\n",
       "      <td>5.305833</td>\n",
       "      <td>NaN</td>\n",
       "      <td>0.035833</td>\n",
       "    </tr>\n",
       "    <tr>\n",
       "      <th>Albania</th>\n",
       "      <td>NaN</td>\n",
       "      <td>79.652500</td>\n",
       "      <td>2.841667</td>\n",
       "      <td>32.464167</td>\n",
       "      <td>NaN</td>\n",
       "      <td>0.196667</td>\n",
       "      <td>344.952500</td>\n",
       "      <td>NaN</td>\n",
       "      <td>13.975000</td>\n",
       "      <td>44.381667</td>\n",
       "      <td>...</td>\n",
       "      <td>18.471667</td>\n",
       "      <td>6.845000</td>\n",
       "      <td>39.284167</td>\n",
       "      <td>0.798333</td>\n",
       "      <td>0.0</td>\n",
       "      <td>0.005833</td>\n",
       "      <td>1.718333</td>\n",
       "      <td>11.964167</td>\n",
       "      <td>1.660833</td>\n",
       "      <td>0.335000</td>\n",
       "    </tr>\n",
       "    <tr>\n",
       "      <th>Algeria</th>\n",
       "      <td>0.0</td>\n",
       "      <td>80.422500</td>\n",
       "      <td>0.120000</td>\n",
       "      <td>3.374167</td>\n",
       "      <td>0.008333</td>\n",
       "      <td>0.427500</td>\n",
       "      <td>177.480000</td>\n",
       "      <td>0.243333</td>\n",
       "      <td>0.020000</td>\n",
       "      <td>21.436667</td>\n",
       "      <td>...</td>\n",
       "      <td>16.134167</td>\n",
       "      <td>10.195833</td>\n",
       "      <td>14.145000</td>\n",
       "      <td>0.007500</td>\n",
       "      <td>0.0</td>\n",
       "      <td>0.000000</td>\n",
       "      <td>0.252500</td>\n",
       "      <td>3.270000</td>\n",
       "      <td>1.147500</td>\n",
       "      <td>NaN</td>\n",
       "    </tr>\n",
       "    <tr>\n",
       "      <th>Angola</th>\n",
       "      <td>NaN</td>\n",
       "      <td>33.684167</td>\n",
       "      <td>3.452500</td>\n",
       "      <td>NaN</td>\n",
       "      <td>0.000000</td>\n",
       "      <td>0.243333</td>\n",
       "      <td>84.195000</td>\n",
       "      <td>0.341667</td>\n",
       "      <td>11.042500</td>\n",
       "      <td>1.181667</td>\n",
       "      <td>...</td>\n",
       "      <td>2.984167</td>\n",
       "      <td>16.210833</td>\n",
       "      <td>23.000833</td>\n",
       "      <td>0.018333</td>\n",
       "      <td>0.0</td>\n",
       "      <td>0.000000</td>\n",
       "      <td>3.910833</td>\n",
       "      <td>2.957500</td>\n",
       "      <td>15.949167</td>\n",
       "      <td>NaN</td>\n",
       "    </tr>\n",
       "    <tr>\n",
       "      <th>Argentina</th>\n",
       "      <td>NaN</td>\n",
       "      <td>130.554167</td>\n",
       "      <td>4.538333</td>\n",
       "      <td>0.973333</td>\n",
       "      <td>0.000000</td>\n",
       "      <td>0.863333</td>\n",
       "      <td>107.671667</td>\n",
       "      <td>0.047500</td>\n",
       "      <td>79.016667</td>\n",
       "      <td>40.675000</td>\n",
       "      <td>...</td>\n",
       "      <td>3.700000</td>\n",
       "      <td>3.441667</td>\n",
       "      <td>152.111667</td>\n",
       "      <td>2.696667</td>\n",
       "      <td>0.0</td>\n",
       "      <td>0.000000</td>\n",
       "      <td>0.310833</td>\n",
       "      <td>15.673333</td>\n",
       "      <td>8.484167</td>\n",
       "      <td>0.224167</td>\n",
       "    </tr>\n",
       "  </tbody>\n",
       "</table>\n",
       "<p>5 rows × 82 columns</p>\n",
       "</div>"
      ],
      "text/plain": [
       "             Plantains  Sugar, Raw Equivalent  Beverages, Alcoholic  \\\n",
       "Country                                                               \n",
       "Afghanistan        NaN              17.044167              0.014167   \n",
       "Albania            NaN              79.652500              2.841667   \n",
       "Algeria            0.0              80.422500              0.120000   \n",
       "Angola             NaN              33.684167              3.452500   \n",
       "Argentina          NaN             130.554167              4.538333   \n",
       "\n",
       "             Olives (including preserved)    Cloves  Coconuts - Incl Copra  \\\n",
       "Country                                                                      \n",
       "Afghanistan                      0.110833       NaN               0.000833   \n",
       "Albania                         32.464167       NaN               0.196667   \n",
       "Algeria                          3.374167  0.008333               0.427500   \n",
       "Angola                                NaN  0.000000               0.243333   \n",
       "Argentina                        0.973333  0.000000               0.863333   \n",
       "\n",
       "             Vegetables, Other  Sesame seed       Wine  Apples and products  \\\n",
       "Country                                                                       \n",
       "Afghanistan          90.563333     1.617500   0.026667             3.591667   \n",
       "Albania             344.952500          NaN  13.975000            44.381667   \n",
       "Algeria             177.480000     0.243333   0.020000            21.436667   \n",
       "Angola               84.195000     0.341667  11.042500             1.181667   \n",
       "Argentina           107.671667     0.047500  79.016667            40.675000   \n",
       "\n",
       "               ...     Mutton & Goat Meat  Pelagic Fish  Bovine Meat  \\\n",
       "Country        ...                                                     \n",
       "Afghanistan    ...              15.015000           NaN    14.946667   \n",
       "Albania        ...              18.471667      6.845000    39.284167   \n",
       "Algeria        ...              16.134167     10.195833    14.145000   \n",
       "Angola         ...               2.984167     16.210833    23.000833   \n",
       "Argentina      ...               3.700000      3.441667   152.111667   \n",
       "\n",
       "             Molluscs, Other  Fish, Body Oil  Aquatic Animals, Others  \\\n",
       "Country                                                                 \n",
       "Afghanistan              NaN             NaN                      NaN   \n",
       "Albania             0.798333             0.0                 0.005833   \n",
       "Algeria             0.007500             0.0                 0.000000   \n",
       "Angola              0.018333             0.0                 0.000000   \n",
       "Argentina           2.696667             0.0                 0.000000   \n",
       "\n",
       "                Honey  Offals, Edible  Demersal Fish     Cream  \n",
       "Country                                                         \n",
       "Afghanistan  0.385000        5.305833            NaN  0.035833  \n",
       "Albania      1.718333       11.964167       1.660833  0.335000  \n",
       "Algeria      0.252500        3.270000       1.147500       NaN  \n",
       "Angola       3.910833        2.957500      15.949167       NaN  \n",
       "Argentina    0.310833       15.673333       8.484167  0.224167  \n",
       "\n",
       "[5 rows x 82 columns]"
      ]
     },
     "execution_count": 38,
     "metadata": {},
     "output_type": "execute_result"
    }
   ],
   "source": [
    "food_2000_2012_cleaned = food_2000_2012[predictors_1970_2000]\n",
    "food_2000_2012_cleaned.head()"
   ]
  },
  {
   "cell_type": "code",
   "execution_count": 39,
   "metadata": {
    "collapsed": false
   },
   "outputs": [
    {
     "name": "stdout",
     "output_type": "stream",
     "text": [
      "Percentage NaN cells after dropping: 0.0883750395946\n"
     ]
    }
   ],
   "source": [
    "# Sanity check to see what percentage of cells are missing\n",
    "print \"Percentage NaN cells after dropping:\", food_2000_2012_cleaned.isnull().sum().sum() / float(food_2000_2012_cleaned.shape[0] * food_2000_2012_cleaned.shape[1])"
   ]
  },
  {
   "cell_type": "markdown",
   "metadata": {},
   "source": [
    "### Imputation of Missing Values\n",
    "Let's use the same method of mean imputation (global average per food item) to fill in the remaining NaNs (justification can be found in the notebook called Missing Data). "
   ]
  },
  {
   "cell_type": "code",
   "execution_count": 42,
   "metadata": {
    "collapsed": false
   },
   "outputs": [],
   "source": [
    "# Impute by mean for each column (i.e. global average per crop)\n",
    "imp = Imputer(axis=1)\n",
    "food_2000_2012_cleaned = pd.DataFrame(imp.fit_transform(food_2000_2012_cleaned), index=food_2000_2012_cleaned.index, columns=food_2000_2012_cleaned.columns)"
   ]
  },
  {
   "cell_type": "code",
   "execution_count": 16,
   "metadata": {
    "collapsed": false
   },
   "outputs": [
    {
     "data": {
      "text/html": [
       "<div>\n",
       "<table border=\"1\" class=\"dataframe\">\n",
       "  <thead>\n",
       "    <tr style=\"text-align: right;\">\n",
       "      <th></th>\n",
       "      <th>Plantains</th>\n",
       "      <th>Sugar, Raw Equivalent</th>\n",
       "      <th>Beverages, Alcoholic</th>\n",
       "      <th>Olives (including preserved)</th>\n",
       "      <th>Cloves</th>\n",
       "      <th>Coconuts - Incl Copra</th>\n",
       "      <th>Vegetables, Other</th>\n",
       "      <th>Sesame seed</th>\n",
       "      <th>Wine</th>\n",
       "      <th>Apples and products</th>\n",
       "      <th>...</th>\n",
       "      <th>Mutton &amp; Goat Meat</th>\n",
       "      <th>Pelagic Fish</th>\n",
       "      <th>Bovine Meat</th>\n",
       "      <th>Molluscs, Other</th>\n",
       "      <th>Fish, Body Oil</th>\n",
       "      <th>Aquatic Animals, Others</th>\n",
       "      <th>Honey</th>\n",
       "      <th>Offals, Edible</th>\n",
       "      <th>Demersal Fish</th>\n",
       "      <th>Cream</th>\n",
       "    </tr>\n",
       "    <tr>\n",
       "      <th>Country</th>\n",
       "      <th></th>\n",
       "      <th></th>\n",
       "      <th></th>\n",
       "      <th></th>\n",
       "      <th></th>\n",
       "      <th></th>\n",
       "      <th></th>\n",
       "      <th></th>\n",
       "      <th></th>\n",
       "      <th></th>\n",
       "      <th></th>\n",
       "      <th></th>\n",
       "      <th></th>\n",
       "      <th></th>\n",
       "      <th></th>\n",
       "      <th></th>\n",
       "      <th></th>\n",
       "      <th></th>\n",
       "      <th></th>\n",
       "      <th></th>\n",
       "      <th></th>\n",
       "    </tr>\n",
       "  </thead>\n",
       "  <tbody>\n",
       "    <tr>\n",
       "      <th>Afghanistan</th>\n",
       "      <td>14.654771</td>\n",
       "      <td>17.044167</td>\n",
       "      <td>0.014167</td>\n",
       "      <td>0.110833</td>\n",
       "      <td>14.654771</td>\n",
       "      <td>0.000833</td>\n",
       "      <td>90.563333</td>\n",
       "      <td>1.617500</td>\n",
       "      <td>0.026667</td>\n",
       "      <td>3.591667</td>\n",
       "      <td>...</td>\n",
       "      <td>15.015000</td>\n",
       "      <td>14.654771</td>\n",
       "      <td>14.946667</td>\n",
       "      <td>14.654771</td>\n",
       "      <td>14.654771</td>\n",
       "      <td>14.654771</td>\n",
       "      <td>0.385000</td>\n",
       "      <td>5.305833</td>\n",
       "      <td>14.654771</td>\n",
       "      <td>0.035833</td>\n",
       "    </tr>\n",
       "    <tr>\n",
       "      <th>Albania</th>\n",
       "      <td>24.197568</td>\n",
       "      <td>79.652500</td>\n",
       "      <td>2.841667</td>\n",
       "      <td>32.464167</td>\n",
       "      <td>24.197568</td>\n",
       "      <td>0.196667</td>\n",
       "      <td>344.952500</td>\n",
       "      <td>24.197568</td>\n",
       "      <td>13.975000</td>\n",
       "      <td>44.381667</td>\n",
       "      <td>...</td>\n",
       "      <td>18.471667</td>\n",
       "      <td>6.845000</td>\n",
       "      <td>39.284167</td>\n",
       "      <td>0.798333</td>\n",
       "      <td>0.000000</td>\n",
       "      <td>0.005833</td>\n",
       "      <td>1.718333</td>\n",
       "      <td>11.964167</td>\n",
       "      <td>1.660833</td>\n",
       "      <td>0.335000</td>\n",
       "    </tr>\n",
       "    <tr>\n",
       "      <th>Algeria</th>\n",
       "      <td>0.000000</td>\n",
       "      <td>80.422500</td>\n",
       "      <td>0.120000</td>\n",
       "      <td>3.374167</td>\n",
       "      <td>0.008333</td>\n",
       "      <td>0.427500</td>\n",
       "      <td>177.480000</td>\n",
       "      <td>0.243333</td>\n",
       "      <td>0.020000</td>\n",
       "      <td>21.436667</td>\n",
       "      <td>...</td>\n",
       "      <td>16.134167</td>\n",
       "      <td>10.195833</td>\n",
       "      <td>14.145000</td>\n",
       "      <td>0.007500</td>\n",
       "      <td>0.000000</td>\n",
       "      <td>0.000000</td>\n",
       "      <td>0.252500</td>\n",
       "      <td>3.270000</td>\n",
       "      <td>1.147500</td>\n",
       "      <td>19.935206</td>\n",
       "    </tr>\n",
       "    <tr>\n",
       "      <th>Angola</th>\n",
       "      <td>20.927607</td>\n",
       "      <td>33.684167</td>\n",
       "      <td>3.452500</td>\n",
       "      <td>20.927607</td>\n",
       "      <td>0.000000</td>\n",
       "      <td>0.243333</td>\n",
       "      <td>84.195000</td>\n",
       "      <td>0.341667</td>\n",
       "      <td>11.042500</td>\n",
       "      <td>1.181667</td>\n",
       "      <td>...</td>\n",
       "      <td>2.984167</td>\n",
       "      <td>16.210833</td>\n",
       "      <td>23.000833</td>\n",
       "      <td>0.018333</td>\n",
       "      <td>0.000000</td>\n",
       "      <td>0.000000</td>\n",
       "      <td>3.910833</td>\n",
       "      <td>2.957500</td>\n",
       "      <td>15.949167</td>\n",
       "      <td>20.927607</td>\n",
       "    </tr>\n",
       "    <tr>\n",
       "      <th>Argentina</th>\n",
       "      <td>22.523144</td>\n",
       "      <td>130.554167</td>\n",
       "      <td>4.538333</td>\n",
       "      <td>0.973333</td>\n",
       "      <td>0.000000</td>\n",
       "      <td>0.863333</td>\n",
       "      <td>107.671667</td>\n",
       "      <td>0.047500</td>\n",
       "      <td>79.016667</td>\n",
       "      <td>40.675000</td>\n",
       "      <td>...</td>\n",
       "      <td>3.700000</td>\n",
       "      <td>3.441667</td>\n",
       "      <td>152.111667</td>\n",
       "      <td>2.696667</td>\n",
       "      <td>0.000000</td>\n",
       "      <td>0.000000</td>\n",
       "      <td>0.310833</td>\n",
       "      <td>15.673333</td>\n",
       "      <td>8.484167</td>\n",
       "      <td>0.224167</td>\n",
       "    </tr>\n",
       "  </tbody>\n",
       "</table>\n",
       "<p>5 rows × 82 columns</p>\n",
       "</div>"
      ],
      "text/plain": [
       "             Plantains  Sugar, Raw Equivalent  Beverages, Alcoholic  \\\n",
       "Country                                                               \n",
       "Afghanistan  14.654771              17.044167              0.014167   \n",
       "Albania      24.197568              79.652500              2.841667   \n",
       "Algeria       0.000000              80.422500              0.120000   \n",
       "Angola       20.927607              33.684167              3.452500   \n",
       "Argentina    22.523144             130.554167              4.538333   \n",
       "\n",
       "             Olives (including preserved)     Cloves  Coconuts - Incl Copra  \\\n",
       "Country                                                                       \n",
       "Afghanistan                      0.110833  14.654771               0.000833   \n",
       "Albania                         32.464167  24.197568               0.196667   \n",
       "Algeria                          3.374167   0.008333               0.427500   \n",
       "Angola                          20.927607   0.000000               0.243333   \n",
       "Argentina                        0.973333   0.000000               0.863333   \n",
       "\n",
       "             Vegetables, Other  Sesame seed       Wine  Apples and products  \\\n",
       "Country                                                                       \n",
       "Afghanistan          90.563333     1.617500   0.026667             3.591667   \n",
       "Albania             344.952500    24.197568  13.975000            44.381667   \n",
       "Algeria             177.480000     0.243333   0.020000            21.436667   \n",
       "Angola               84.195000     0.341667  11.042500             1.181667   \n",
       "Argentina           107.671667     0.047500  79.016667            40.675000   \n",
       "\n",
       "               ...      Mutton & Goat Meat  Pelagic Fish  Bovine Meat  \\\n",
       "Country        ...                                                      \n",
       "Afghanistan    ...               15.015000     14.654771    14.946667   \n",
       "Albania        ...               18.471667      6.845000    39.284167   \n",
       "Algeria        ...               16.134167     10.195833    14.145000   \n",
       "Angola         ...                2.984167     16.210833    23.000833   \n",
       "Argentina      ...                3.700000      3.441667   152.111667   \n",
       "\n",
       "             Molluscs, Other  Fish, Body Oil  Aquatic Animals, Others  \\\n",
       "Country                                                                 \n",
       "Afghanistan        14.654771       14.654771                14.654771   \n",
       "Albania             0.798333        0.000000                 0.005833   \n",
       "Algeria             0.007500        0.000000                 0.000000   \n",
       "Angola              0.018333        0.000000                 0.000000   \n",
       "Argentina           2.696667        0.000000                 0.000000   \n",
       "\n",
       "                Honey  Offals, Edible  Demersal Fish      Cream  \n",
       "Country                                                          \n",
       "Afghanistan  0.385000        5.305833      14.654771   0.035833  \n",
       "Albania      1.718333       11.964167       1.660833   0.335000  \n",
       "Algeria      0.252500        3.270000       1.147500  19.935206  \n",
       "Angola       3.910833        2.957500      15.949167  20.927607  \n",
       "Argentina    0.310833       15.673333       8.484167   0.224167  \n",
       "\n",
       "[5 rows x 82 columns]"
      ]
     },
     "execution_count": 16,
     "metadata": {},
     "output_type": "execute_result"
    }
   ],
   "source": [
    "food_2000_2012_cleaned.head()"
   ]
  },
  {
   "cell_type": "code",
   "execution_count": 44,
   "metadata": {
    "collapsed": false
   },
   "outputs": [
    {
     "name": "stdout",
     "output_type": "stream",
     "text": [
      "Percentage NaN cells after dropping: 0.0\n"
     ]
    }
   ],
   "source": [
    "# Sanity check to see what percentage of cells are missing\n",
    "print \"Percentage NaN cells after dropping:\", food_2000_2012_cleaned.isnull().sum().sum() / float(food_2000_2012_cleaned.shape[0] * food_2000_2012_cleaned.shape[1])"
   ]
  },
  {
   "cell_type": "code",
   "execution_count": 47,
   "metadata": {
    "collapsed": true
   },
   "outputs": [],
   "source": [
    "# Save dataframe for use later \n",
    "pickle.dump(food_2000_2012_cleaned, open('data/final/food_2000_2012_cleaned.p', 'wb'))"
   ]
  },
  {
   "cell_type": "markdown",
   "metadata": {
    "collapsed": true
   },
   "source": [
    "# Scoring Models"
   ]
  },
  {
   "cell_type": "markdown",
   "metadata": {},
   "source": [
    "Now that we have cleaned the 2000-2012 food categories, we can use this dataframe and the corresponding various response datasets for the age-standardized mortality rates and percentage risk of death for the non-communicable disease to score the models we fit earlier on the 1970-2000 food categories and the 2000 response datasets."
   ]
  },
  {
   "cell_type": "code",
   "execution_count": 4,
   "metadata": {
    "collapsed": false
   },
   "outputs": [],
   "source": [
    "# loading the response datasets from pickled files\n",
    "out = open('data/clean/deaths_100k.p', 'r')\n",
    "deaths_100k = pickle.load(out)\n",
    "out.close()\n",
    "out = open('data/clean/risk.p', 'r')\n",
    "risk_of_death = pickle.load(out)\n",
    "out.close()\n",
    "out = open('data/clean/countries_to_drop.p', 'r')\n",
    "countries_to_drop = pickle.load(out)\n",
    "out.close()"
   ]
  },
  {
   "cell_type": "code",
   "execution_count": 3,
   "metadata": {
    "collapsed": true
   },
   "outputs": [],
   "source": [
    "# Load merged dataframe from 2000-2012\n",
    "out = open('data/final/food_2000_2012_cleaned.p', 'r')\n",
    "food_2000_2012_cleaned = pickle.load(out)\n",
    "out.close()"
   ]
  },
  {
   "cell_type": "markdown",
   "metadata": {},
   "source": [
    "First we need to drop the same countries we dropped from the corresponding response datasets from 2000."
   ]
  },
  {
   "cell_type": "code",
   "execution_count": 5,
   "metadata": {
    "collapsed": true
   },
   "outputs": [],
   "source": [
    "# collecting the individual datasets\n",
    "deaths_100k_all_2012 = deaths_100k['all'][2012]\n",
    "deaths_100k_cancer_2012 = deaths_100k['cancer'][2012]\n",
    "deaths_100k_cardio_2012 = deaths_100k['cardio'][2012]\n",
    "deaths_100k_diabetes_2012 = deaths_100k['diabetes'][2012]\n",
    "deaths_100k_resp_2012 = deaths_100k['resp'][2012]\n",
    "\n",
    "risk_of_death_2012 = risk_of_death[2012]"
   ]
  },
  {
   "cell_type": "code",
   "execution_count": 6,
   "metadata": {
    "collapsed": true
   },
   "outputs": [],
   "source": [
    "# dropping the countries we previously dropped from the response datasets for 2000\n",
    "deaths_100k_all_2012 = deaths_100k_all_2012.drop(countries_to_drop)\n",
    "deaths_100k_cancer_2012 = deaths_100k_cancer_2012.drop(countries_to_drop)\n",
    "deaths_100k_cardio_2012 = deaths_100k_cardio_2012.drop(countries_to_drop)\n",
    "deaths_100k_diabetes_2012 = deaths_100k_diabetes_2012.drop(countries_to_drop)\n",
    "deaths_100k_resp_2012 = deaths_100k_resp_2012.drop(countries_to_drop)\n",
    "\n",
    "risk_of_death_2012 = risk_of_death_2012.drop(countries_to_drop)"
   ]
  },
  {
   "cell_type": "markdown",
   "metadata": {},
   "source": [
    "Now we can use these response datasets to check the predictive accuracy of the various models we fit on the 1970-2000 food data."
   ]
  },
  {
   "cell_type": "markdown",
   "metadata": {},
   "source": [
    "## Scoring the Random Forest Models"
   ]
  },
  {
   "cell_type": "markdown",
   "metadata": {},
   "source": [
    "First we load the random forest models we calculated earlier."
   ]
  },
  {
   "cell_type": "code",
   "execution_count": 67,
   "metadata": {
    "collapsed": true
   },
   "outputs": [],
   "source": [
    "# loading the random forest models\n",
    "out = open('data/models/deaths_all_forest_best.p', 'r')\n",
    "deaths_all_forest_best = pickle.load(out)\n",
    "out.close()\n",
    "out = open('data/models/deaths_cancer_forest_best.p', 'r')\n",
    "deaths_cancer_forest_best = pickle.load(out)\n",
    "out.close()\n",
    "out = open('data/models/deaths_cardio_forest_best.p', 'r')\n",
    "deaths_cardio_forest_best = pickle.load(out)\n",
    "out.close()\n",
    "out = open('data/models/deaths_diabetes_forest_best.p', 'r')\n",
    "deaths_diabetes_forest_best = pickle.load(out)\n",
    "out.close()\n",
    "out = open('data/models/deaths_resp_forest_best.p', 'r')\n",
    "deaths_resp_forest_best = pickle.load(out)\n",
    "out.close()"
   ]
  },
  {
   "cell_type": "markdown",
   "metadata": {},
   "source": [
    "Now we can use these models to compute predictions using the food data from 2000-2012 and check the accuracy of these random forest models on the actual 2012 response datasets."
   ]
  },
  {
   "cell_type": "code",
   "execution_count": 68,
   "metadata": {
    "collapsed": false
   },
   "outputs": [],
   "source": [
    "deaths_all_forest_score = deaths_all_forest_best.score(food_2000_2012_cleaned, deaths_100k_all_2012)\n",
    "deaths_cancer_forest_score = deaths_cancer_forest_best.score(food_2000_2012_cleaned, deaths_100k_cancer_2012)\n",
    "deaths_cardio_forest_score = deaths_cardio_forest_best.score(food_2000_2012_cleaned, deaths_100k_cardio_2012)\n",
    "deaths_diabetes_forest_score = deaths_diabetes_forest_best.score(food_2000_2012_cleaned, deaths_100k_diabetes_2012)\n",
    "deaths_resp_forest_score = deaths_resp_forest_best.score(food_2000_2012_cleaned, deaths_100k_resp_2012)\n",
    "forest_scores = [deaths_all_forest_score, deaths_cancer_forest_score, deaths_cardio_forest_score,\n",
    "                deaths_diabetes_forest_score, deaths_resp_forest_score]"
   ]
  },
  {
   "cell_type": "code",
   "execution_count": 69,
   "metadata": {
    "collapsed": false
   },
   "outputs": [
    {
     "name": "stdout",
     "output_type": "stream",
     "text": [
      "Random Forest Score for All Diseases: 0.495116535531\n",
      "Random Forest Score for Cancer: 0.340476365255\n",
      "Random Forest Score for Cardiovascular Disease: 0.522441892445\n",
      "Random Forest Score for Diabetes: 0.322944245907\n"
     ]
    }
   ],
   "source": [
    "diseases = ['All Diseases', 'Cancer', 'Cardiovascular Disease', 'Diabetes', 'Respiratory Disease']\n",
    "for i in range(4):\n",
    "    print 'Random Forest Score for {}: {}'.format(diseases[i], forest_scores[i])"
   ]
  },
  {
   "cell_type": "markdown",
   "metadata": {},
   "source": [
    "While our Random Forest models had interpretable results for the significant features, they performed rather poorly in terms of prediction accuracy. Perhaps some of the simpler models might do better."
   ]
  },
  {
   "cell_type": "markdown",
   "metadata": {},
   "source": [
    "# Scoring the Multiple Linear and Lasso Regression Models"
   ]
  },
  {
   "cell_type": "markdown",
   "metadata": {},
   "source": [
    "## Part I: Original Responses"
   ]
  },
  {
   "cell_type": "markdown",
   "metadata": {},
   "source": [
    "While using the Statsmodels version of Linear Regression provides very helpful summaries, one of its major downsides is that it cannot calculate R^2 directly on new feature and response values. Thus, we need to write a function that can do so."
   ]
  },
  {
   "cell_type": "code",
   "execution_count": 51,
   "metadata": {
    "collapsed": true
   },
   "outputs": [],
   "source": [
    "# defining a function to calculate R^2 on the 2000-2012 data\n",
    "def r_squared(model, x, y):\n",
    "    # getting predictions\n",
    "    y_pred = model.predict(x)\n",
    "    # calculating R^2\n",
    "    rss = 0\n",
    "    tss = 0\n",
    "    for i in range(len(y)):\n",
    "        rss = rss + (y[i] - y_pred[i])**2\n",
    "        tss = tss + (y[i])**2 # note that we use uncentered total sum of squares since statsmodels does not include intercept\n",
    "    r_2 = 1 - (rss/tss)\n",
    "    return r_2"
   ]
  },
  {
   "cell_type": "markdown",
   "metadata": {},
   "source": [
    "Now we can load the initial Multiple Linear and Lasso Regression models on the original response datasets."
   ]
  },
  {
   "cell_type": "code",
   "execution_count": 53,
   "metadata": {
    "collapsed": true
   },
   "outputs": [],
   "source": [
    "# loading the linreg models\n",
    "out = open('data/models/risk_results.p', 'r')\n",
    "risk_results = pickle.load(out)\n",
    "out.close()\n",
    "out = open('data/models/deaths_all_results.p', 'r')\n",
    "deaths_all_results = pickle.load(out)\n",
    "out.close()\n",
    "out = open('data/models/deaths_cancer_results.p', 'r')\n",
    "deaths_cancer_results = pickle.load(out)\n",
    "out.close()\n",
    "out = open('data/models/deaths_cardio_results.p', 'r')\n",
    "deaths_cardio_results = pickle.load(out)\n",
    "out.close()\n",
    "out = open('data/models/deaths_diabetes_results.p', 'r')\n",
    "deaths_diabetes_results = pickle.load(out)\n",
    "out.close()\n",
    "out = open('data/models/deaths_resp_results.p', 'r')\n",
    "deaths_resp_results = pickle.load(out)\n",
    "out.close()\n",
    "\n",
    "# and now lasso\n",
    "out = open('data/models/risk_results_lasso.p', 'r')\n",
    "risk_results_lasso = pickle.load(out)\n",
    "out.close()\n",
    "out = open('data/models/deaths_all_results_lasso.p', 'r')\n",
    "deaths_all_results_lasso = pickle.load(out)\n",
    "out.close()\n",
    "out = open('data/models/deaths_cancer_results_lasso.p', 'r')\n",
    "deaths_cancer_results_lasso = pickle.load(out)\n",
    "out.close()\n",
    "out = open('data/models/deaths_cardio_results_lasso.p', 'r')\n",
    "deaths_cardio_results_lasso = pickle.load(out)\n",
    "out.close()\n",
    "out = open('data/models/deaths_diabetes_results_lasso.p', 'r')\n",
    "deaths_diabetes_results_lasso = pickle.load(out)\n",
    "out.close()\n",
    "out = open('data/models/deaths_resp_results_lasso.p', 'r')\n",
    "deaths_resp_results_lasso = pickle.load(out)\n",
    "out.close()"
   ]
  },
  {
   "cell_type": "markdown",
   "metadata": {},
   "source": [
    "And now we can use the function we defined earlier to check the accuracy of these models. First we will calculate for all the Multiple Linear Regression Models."
   ]
  },
  {
   "cell_type": "code",
   "execution_count": 62,
   "metadata": {
    "collapsed": true
   },
   "outputs": [],
   "source": [
    "# computing scores for each linear regression model\n",
    "risk_2012_score = r_squared(risk_results, food_2000_2012_cleaned, risk_of_death_2012)\n",
    "deaths_all_2012_score = r_squared(deaths_all_results, food_2000_2012_cleaned, deaths_100k_all_2012)\n",
    "deaths_cancer_2012_score = r_squared(deaths_cancer_results, food_2000_2012_cleaned, deaths_100k_cancer_2012)\n",
    "deaths_cardio_2012_score = r_squared(deaths_cardio_results, food_2000_2012_cleaned, deaths_100k_cardio_2012)\n",
    "deaths_diabetes_2012_score = r_squared(deaths_diabetes_results, food_2000_2012_cleaned, deaths_100k_diabetes_2012)\n",
    "deaths_resp_2012_score = r_squared(deaths_resp_results, food_2000_2012_cleaned, deaths_100k_resp_2012)\n",
    "linreg_scores = [deaths_all_2012_score, deaths_cancer_2012_score, deaths_cardio_2012_score, \n",
    "                     deaths_diabetes_2012_score, deaths_resp_2012_score]"
   ]
  },
  {
   "cell_type": "code",
   "execution_count": 70,
   "metadata": {
    "collapsed": false
   },
   "outputs": [
    {
     "name": "stdout",
     "output_type": "stream",
     "text": [
      "Score of the Multiple Linear Regression Model on Percent Risk of Death: 0.915253484891\n",
      "Score of the Multiple Linear Regression Model on Mortality Rate of All Diseases: 0.919602530282\n",
      "Score of the Multiple Linear Regression Model on Mortality Rate of Cancer: 0.889741617712\n",
      "Score of the Multiple Linear Regression Model on Mortality Rate of Cardiovascular Disease: 0.872543320109\n",
      "Score of the Multiple Linear Regression Model on Mortality Rate of Diabetes: 0.701972348111\n"
     ]
    }
   ],
   "source": [
    "print 'Score of the Multiple Linear Regression Model on Percent Risk of Death: {}'.format(risk_2012_score)\n",
    "for i in range(4):\n",
    "    print 'Score of the Multiple Linear Regression Model on Mortality Rate of {}: {}'.format(diseases[i], linreg_scores[i])"
   ]
  },
  {
   "cell_type": "markdown",
   "metadata": {},
   "source": [
    "In terms of prediction, the basic Multiple Linear Regression Models we fit performed quite well compared, significantly outperforming the Random Forests.\n",
    "\n",
    "Now we will calculate R^2 for all Lasso Models."
   ]
  },
  {
   "cell_type": "code",
   "execution_count": 65,
   "metadata": {
    "collapsed": false
   },
   "outputs": [],
   "source": [
    "# computing scores for each lasso model\n",
    "risk_2012_lasso_score = r_squared(risk_results_lasso, food_2000_2012_cleaned, risk_of_death_2012)\n",
    "deaths_all_2012_lasso_score = r_squared(deaths_all_results_lasso, food_2000_2012_cleaned, deaths_100k_all_2012)\n",
    "deaths_cancer_2012_lasso_score = r_squared(deaths_cancer_results_lasso, food_2000_2012_cleaned, deaths_100k_cancer_2012)\n",
    "deaths_cardio_2012_lasso_score = r_squared(deaths_cardio_results_lasso, food_2000_2012_cleaned, deaths_100k_cardio_2012)\n",
    "deaths_diabetes_2012_lasso_score = r_squared(deaths_diabetes_results_lasso, food_2000_2012_cleaned, deaths_100k_diabetes_2012)\n",
    "deaths_resp_2012_lasso_score = r_squared(deaths_resp_results_lasso, food_2000_2012_cleaned, deaths_100k_resp_2012)\n",
    "lasso_scores = [deaths_all_2012_lasso_score, deaths_cancer_2012_lasso_score, deaths_cardio_2012_lasso_score, \n",
    "                     deaths_diabetes_2012_lasso_score, deaths_resp_2012_lasso_score]"
   ]
  },
  {
   "cell_type": "code",
   "execution_count": 66,
   "metadata": {
    "collapsed": false
   },
   "outputs": [
    {
     "name": "stdout",
     "output_type": "stream",
     "text": [
      "Score of the Lasso Model on Percent Risk of Death: 0.930914320073\n",
      "Score of the Lasso Model on Mortality Rate of All Diseases: 0.929043911136\n",
      "Score of the Lasso Model on Mortality Rate of Cancer: 0.926452510359\n",
      "Score of the Lasso Model on Mortality Rate of Cardiovascular Disease: 0.88974124637\n",
      "Score of the Lasso Model on Mortality Rate of Diabetes: 0.782755182613\n"
     ]
    }
   ],
   "source": [
    "print 'Score of the Lasso Model on Percent Risk of Death: {}'.format(risk_2012_lasso_score)\n",
    "for i in range(4):\n",
    "    print 'Score of the Lasso Model on Mortality Rate of {}: {}'.format(diseases[i], lasso_scores[i])"
   ]
  },
  {
   "cell_type": "markdown",
   "metadata": {},
   "source": [
    "Based on the R^2 calculations, it appears that Lasso has the best performance for prediction accuracy, significantly outperforming our Random Forest models as well as marginally beating the Multiple Regression models. However, in our analysis we found some potential issues with the assumptions of linear regression that we attempted to address using log transformations, so we should evaluate those models as well."
   ]
  },
  {
   "cell_type": "markdown",
   "metadata": {},
   "source": [
    "## Part II: Log Transformed Responses"
   ]
  },
  {
   "cell_type": "markdown",
   "metadata": {},
   "source": [
    "Now we will check the accuracy of the Multiple Linear Regression and Lasso models on the log transformed response datasets. As we mentioned before, performing a log transformation on the percentage risk of death from non-communicable diseases made little sense and we focused mainly on the age-standardized mortality rate data in this analysis."
   ]
  },
  {
   "cell_type": "code",
   "execution_count": 47,
   "metadata": {
    "collapsed": true
   },
   "outputs": [],
   "source": [
    "# loading the log models\n",
    "out = open('data/models/deaths_all_results_log.p', 'r')\n",
    "deaths_all_results_log = pickle.load(out)\n",
    "out.close()\n",
    "out = open('data/models/deaths_cancer_results_log.p', 'r')\n",
    "deaths_cancer_results_log = pickle.load(out)\n",
    "out.close()\n",
    "out = open('data/models/deaths_cardio_results_log.p', 'r')\n",
    "deaths_cardio_results_log = pickle.load(out)\n",
    "out.close()\n",
    "out = open('data/models/deaths_diabetes_results_log.p', 'r')\n",
    "deaths_diabetes_results_log = pickle.load(out)\n",
    "out.close()\n",
    "out = open('data/models/deaths_resp_results_log.p', 'r')\n",
    "deaths_resp_results_log = pickle.load(out)\n",
    "out.close()\n",
    "\n",
    "# and now lasso\n",
    "out = open('data/models/deaths_all_results_lasso_log.p', 'r')\n",
    "deaths_all_results_lasso_log = pickle.load(out)\n",
    "out.close()\n",
    "out = open('data/models/deaths_cancer_results_lasso_log.p', 'r')\n",
    "deaths_cancer_results_lasso_log = pickle.load(out)\n",
    "out.close()\n",
    "out = open('data/models/deaths_cardio_results_lasso_log.p', 'r')\n",
    "deaths_cardio_results_lasso_log = pickle.load(out)\n",
    "out.close()\n",
    "out = open('data/models/deaths_diabetes_results_lasso_log.p', 'r')\n",
    "deaths_diabetes_results_lasso_log = pickle.load(out)\n",
    "out.close()\n",
    "out = open('data/models/deaths_resp_results_lasso_log.p', 'r')\n",
    "deaths_resp_results_lasso_log = pickle.load(out)\n",
    "out.close()"
   ]
  },
  {
   "cell_type": "markdown",
   "metadata": {},
   "source": [
    "Since we are dealing with log transformed responses with these models, to calculate R^2 we need to back-transform the predictions we calculate from the models via exponentiation and then compute their accuracy on the 2012 response data in their original units, allowing us to compare these R^2 values to our other calculations."
   ]
  },
  {
   "cell_type": "code",
   "execution_count": 41,
   "metadata": {
    "collapsed": true
   },
   "outputs": [],
   "source": [
    "# defining a function to calculate R^2 on the log transformed 2000-2012 data\n",
    "def r_squared_log(model, x, y):\n",
    "    # getting predictions\n",
    "    y_pred_log = model.predict(x)\n",
    "    # transforming predictions from log model back to original units\n",
    "    y_pred_norm = np.exp(y_pred_log)\n",
    "    # calculating R^2\n",
    "    rss = 0\n",
    "    tss = 0\n",
    "    for i in range(len(y)):\n",
    "        rss = rss + (y[i] - y_pred_norm[i])**2 \n",
    "        tss = tss + (y[i])**2 # note that we use uncentered total sum of squares since statsmodels does not include intercept\n",
    "    r_2 = 1 - (rss/tss)\n",
    "    return r_2"
   ]
  },
  {
   "cell_type": "code",
   "execution_count": 42,
   "metadata": {
    "collapsed": false
   },
   "outputs": [],
   "source": [
    "# scoring the log models on the transformed 2012 data\n",
    "deaths_all_log_2012_score = r_squared_log(deaths_all_results_log, food_2000_2012_cleaned, deaths_100k_all_2012)\n",
    "deaths_cancer_log_2012_score = r_squared_log(deaths_cancer_results_log, food_2000_2012_cleaned, deaths_100k_cancer_2012)\n",
    "deaths_cardio_log_2012_score = r_squared_log(deaths_cardio_results_log, food_2000_2012_cleaned, deaths_100k_cardio_2012)\n",
    "deaths_diabetes_log_2012_score = r_squared_log(deaths_diabetes_results_log, food_2000_2012_cleaned, deaths_100k_diabetes_2012)\n",
    "deaths_resp_log_2012_score = r_squared_log(deaths_resp_results_log, food_2000_2012_cleaned, deaths_100k_resp_2012)\n",
    "linreg_log_scores = [deaths_all_log_2012_score, deaths_cancer_log_2012_score, deaths_cardio_log_2012_score, \n",
    "                     deaths_diabetes_log_2012_score, deaths_resp_log_2012_score]"
   ]
  },
  {
   "cell_type": "code",
   "execution_count": 55,
   "metadata": {
    "collapsed": false
   },
   "outputs": [
    {
     "name": "stdout",
     "output_type": "stream",
     "text": [
      "Score of transformed Linear Regression Model for Mortality Rate of All Diseases: -5.06540622297\n",
      "Score of transformed Linear Regression Model for Mortality Rate of Cancer: -0.427193256646\n",
      "Score of transformed Linear Regression Model for Mortality Rate of Cardiovascular Disease: -2.2903460927\n",
      "Score of transformed Linear Regression Model for Mortality Rate of Diabetes: 0.419601282373\n"
     ]
    }
   ],
   "source": [
    "# showing the scores\n",
    "for i in range(4):\n",
    "    print 'Score of transformed Linear Regression Model for Mortality Rate of {}: {}'.format(diseases[i], linreg_log_scores[i])"
   ]
  },
  {
   "cell_type": "code",
   "execution_count": 49,
   "metadata": {
    "collapsed": true
   },
   "outputs": [],
   "source": [
    "# and now the same for lasso\n",
    "deaths_all_log_2012_lasso_score = r_squared_log(deaths_all_results_lasso_log, food_2000_2012_cleaned, deaths_100k_all_2012)\n",
    "deaths_cancer_log_2012_lasso_score = r_squared_log(deaths_cancer_results_lasso_log, food_2000_2012_cleaned, deaths_100k_cancer_2012)\n",
    "deaths_cardio_log_2012_lasso_score = r_squared_log(deaths_cardio_results_lasso_log, food_2000_2012_cleaned, deaths_100k_cardio_2012)\n",
    "deaths_diabetes_log_2012_lasso_score = r_squared_log(deaths_diabetes_results_lasso_log, food_2000_2012_cleaned, deaths_100k_diabetes_2012)\n",
    "deaths_resp_log_2012_lasso_score = r_squared_log(deaths_resp_results_lasso_log, food_2000_2012_cleaned, deaths_100k_resp_2012)\n",
    "lasso_log_scores = [deaths_all_log_2012_lasso_score, deaths_cancer_log_2012_lasso_score, deaths_cardio_log_2012_lasso_score, \n",
    "                     deaths_diabetes_log_2012_lasso_score, deaths_resp_log_2012_lasso_score]"
   ]
  },
  {
   "cell_type": "code",
   "execution_count": 50,
   "metadata": {
    "collapsed": false
   },
   "outputs": [
    {
     "name": "stdout",
     "output_type": "stream",
     "text": [
      "Score of transformed Lasso Model for All Diseases: -2.43198498402\n",
      "Score of transformed Lasso Model for Cancer: 0.213108769092\n",
      "Score of transformed Lasso Model for Cardiovascular Disease: -1.15191140322\n",
      "Score of transformed Lasso Model for Diabetes: 0.636022677391\n"
     ]
    }
   ],
   "source": [
    "# showing the scores\n",
    "for i in range(4):\n",
    "    print 'Score of transformed Lasso Model for {}: {}'.format(diseases[i], lasso_log_scores[i])"
   ]
  },
  {
   "cell_type": "markdown",
   "metadata": {},
   "source": [
    "Although we addressed the concerns of normality in the residuals somewhat with the log transformed models, in terms of prediction accuracy these models performed very poorly."
   ]
  },
  {
   "cell_type": "markdown",
   "metadata": {},
   "source": [
    "# Conclusion"
   ]
  },
  {
   "cell_type": "markdown",
   "metadata": {},
   "source": [
    "Based on these scoring results, despite the concerns about assumptions the Lasso models with the original response variables seem to be the best choice due to their exemplary prediction accuracy. Moreover, with the coefficients and p values we can identify food categories that seem to have significant positive and negative effects on both percentage risk of death from all non-communicable diseases and the different age-standardized mortality rates, which we could not do with Random Forests. "
   ]
  }
 ],
 "metadata": {
  "anaconda-cloud": {},
  "kernelspec": {
   "display_name": "Python [Root]",
   "language": "python",
   "name": "Python [Root]"
  },
  "language_info": {
   "codemirror_mode": {
    "name": "ipython",
    "version": 2
   },
   "file_extension": ".py",
   "mimetype": "text/x-python",
   "name": "python",
   "nbconvert_exporter": "python",
   "pygments_lexer": "ipython2",
   "version": "2.7.12"
  }
 },
 "nbformat": 4,
 "nbformat_minor": 0
}
