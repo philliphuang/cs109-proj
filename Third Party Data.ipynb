{
 "cells": [
  {
   "cell_type": "markdown",
   "metadata": {},
   "source": [
    "# Third Party Data\n",
    "Let's merge and impute the hospital beds and doctors data using the same process that we used for the food data"
   ]
  },
  {
   "cell_type": "code",
   "execution_count": 63,
   "metadata": {
    "collapsed": true
   },
   "outputs": [],
   "source": [
    "import pickle\n",
    "import pandas as pd\n",
    "import numpy as np"
   ]
  },
  {
   "cell_type": "code",
   "execution_count": 2,
   "metadata": {
    "collapsed": true
   },
   "outputs": [],
   "source": [
    "# Load hospital beds and doctors data\n",
    "out = open('data/clean/beds.p', 'r')\n",
    "beds = pickle.load(out)\n",
    "out.close()\n",
    "out = open('data/clean/doctors.p', 'r')\n",
    "doctors = pickle.load(out)\n",
    "out.close()"
   ]
  },
  {
   "cell_type": "code",
   "execution_count": 14,
   "metadata": {
    "collapsed": false
   },
   "outputs": [],
   "source": [
    "# Load cleaned food data to see what countries should be included\n",
    "out = open('data/final/food_2000_2012_cleaned.p', 'r')\n",
    "food = pickle.load(out)\n",
    "out.close()\n",
    "\n",
    "countries = food.index"
   ]
  },
  {
   "cell_type": "code",
   "execution_count": 48,
   "metadata": {
    "collapsed": false
   },
   "outputs": [],
   "source": [
    "# Helper to print percentage of cells missing in a dataframe\n",
    "def print_NaN_percent(df):\n",
    "    if isinstance(df, pd.DataFrame):\n",
    "        print \"Percentage NaN cells:\", df.isnull().sum().sum() / float(df.shape[0] * df.shape[1])\n",
    "    if isinstance(df, pd.Series):\n",
    "        print \"Percentage NaN cells:\", df.isnull().sum() / float(df.shape[0])"
   ]
  },
  {
   "cell_type": "code",
   "execution_count": 10,
   "metadata": {
    "collapsed": false
   },
   "outputs": [
    {
     "name": "stdout",
     "output_type": "stream",
     "text": [
      "Percentage NaN cells: 0.658812729498\n"
     ]
    },
    {
     "data": {
      "text/html": [
       "<div>\n",
       "<table border=\"1\" class=\"dataframe\">\n",
       "  <thead>\n",
       "    <tr style=\"text-align: right;\">\n",
       "      <th></th>\n",
       "      <th>1960</th>\n",
       "      <th>1961</th>\n",
       "      <th>1962</th>\n",
       "      <th>1963</th>\n",
       "      <th>1964</th>\n",
       "      <th>1965</th>\n",
       "      <th>1966</th>\n",
       "      <th>1967</th>\n",
       "      <th>1968</th>\n",
       "      <th>1969</th>\n",
       "      <th>...</th>\n",
       "      <th>2007</th>\n",
       "      <th>2008</th>\n",
       "      <th>2009</th>\n",
       "      <th>2010</th>\n",
       "      <th>2011</th>\n",
       "      <th>2012</th>\n",
       "      <th>2013</th>\n",
       "      <th>2014</th>\n",
       "      <th>2015</th>\n",
       "      <th>2016</th>\n",
       "    </tr>\n",
       "    <tr>\n",
       "      <th>Country_corrected</th>\n",
       "      <th></th>\n",
       "      <th></th>\n",
       "      <th></th>\n",
       "      <th></th>\n",
       "      <th></th>\n",
       "      <th></th>\n",
       "      <th></th>\n",
       "      <th></th>\n",
       "      <th></th>\n",
       "      <th></th>\n",
       "      <th></th>\n",
       "      <th></th>\n",
       "      <th></th>\n",
       "      <th></th>\n",
       "      <th></th>\n",
       "      <th></th>\n",
       "      <th></th>\n",
       "      <th></th>\n",
       "      <th></th>\n",
       "      <th></th>\n",
       "      <th></th>\n",
       "    </tr>\n",
       "  </thead>\n",
       "  <tbody>\n",
       "    <tr>\n",
       "      <th>Afghanistan</th>\n",
       "      <td>0.034844</td>\n",
       "      <td>NaN</td>\n",
       "      <td>NaN</td>\n",
       "      <td>NaN</td>\n",
       "      <td>NaN</td>\n",
       "      <td>0.063428</td>\n",
       "      <td>NaN</td>\n",
       "      <td>NaN</td>\n",
       "      <td>NaN</td>\n",
       "      <td>NaN</td>\n",
       "      <td>...</td>\n",
       "      <td>0.146</td>\n",
       "      <td>0.145</td>\n",
       "      <td>0.175</td>\n",
       "      <td>0.194</td>\n",
       "      <td>0.234</td>\n",
       "      <td>0.225</td>\n",
       "      <td>0.266</td>\n",
       "      <td>NaN</td>\n",
       "      <td>NaN</td>\n",
       "      <td>NaN</td>\n",
       "    </tr>\n",
       "    <tr>\n",
       "      <th>Angola</th>\n",
       "      <td>0.067068</td>\n",
       "      <td>NaN</td>\n",
       "      <td>NaN</td>\n",
       "      <td>NaN</td>\n",
       "      <td>NaN</td>\n",
       "      <td>0.076062</td>\n",
       "      <td>NaN</td>\n",
       "      <td>NaN</td>\n",
       "      <td>NaN</td>\n",
       "      <td>NaN</td>\n",
       "      <td>...</td>\n",
       "      <td>NaN</td>\n",
       "      <td>NaN</td>\n",
       "      <td>0.166</td>\n",
       "      <td>NaN</td>\n",
       "      <td>NaN</td>\n",
       "      <td>NaN</td>\n",
       "      <td>NaN</td>\n",
       "      <td>NaN</td>\n",
       "      <td>NaN</td>\n",
       "      <td>NaN</td>\n",
       "    </tr>\n",
       "    <tr>\n",
       "      <th>Albania</th>\n",
       "      <td>0.276291</td>\n",
       "      <td>NaN</td>\n",
       "      <td>NaN</td>\n",
       "      <td>NaN</td>\n",
       "      <td>NaN</td>\n",
       "      <td>0.481283</td>\n",
       "      <td>NaN</td>\n",
       "      <td>NaN</td>\n",
       "      <td>NaN</td>\n",
       "      <td>NaN</td>\n",
       "      <td>...</td>\n",
       "      <td>1.146</td>\n",
       "      <td>NaN</td>\n",
       "      <td>1.144</td>\n",
       "      <td>1.132</td>\n",
       "      <td>1.113</td>\n",
       "      <td>1.145</td>\n",
       "      <td>1.145</td>\n",
       "      <td>NaN</td>\n",
       "      <td>NaN</td>\n",
       "      <td>NaN</td>\n",
       "    </tr>\n",
       "    <tr>\n",
       "      <th>United Arab Emirates</th>\n",
       "      <td>NaN</td>\n",
       "      <td>NaN</td>\n",
       "      <td>NaN</td>\n",
       "      <td>NaN</td>\n",
       "      <td>NaN</td>\n",
       "      <td>NaN</td>\n",
       "      <td>NaN</td>\n",
       "      <td>NaN</td>\n",
       "      <td>NaN</td>\n",
       "      <td>NaN</td>\n",
       "      <td>...</td>\n",
       "      <td>1.930</td>\n",
       "      <td>2.737</td>\n",
       "      <td>2.428</td>\n",
       "      <td>2.533</td>\n",
       "      <td>NaN</td>\n",
       "      <td>NaN</td>\n",
       "      <td>NaN</td>\n",
       "      <td>NaN</td>\n",
       "      <td>NaN</td>\n",
       "      <td>NaN</td>\n",
       "    </tr>\n",
       "    <tr>\n",
       "      <th>Argentina</th>\n",
       "      <td>1.350698</td>\n",
       "      <td>NaN</td>\n",
       "      <td>NaN</td>\n",
       "      <td>NaN</td>\n",
       "      <td>NaN</td>\n",
       "      <td>1.666652</td>\n",
       "      <td>NaN</td>\n",
       "      <td>NaN</td>\n",
       "      <td>NaN</td>\n",
       "      <td>NaN</td>\n",
       "      <td>...</td>\n",
       "      <td>NaN</td>\n",
       "      <td>NaN</td>\n",
       "      <td>NaN</td>\n",
       "      <td>3.210</td>\n",
       "      <td>NaN</td>\n",
       "      <td>NaN</td>\n",
       "      <td>3.859</td>\n",
       "      <td>NaN</td>\n",
       "      <td>NaN</td>\n",
       "      <td>NaN</td>\n",
       "    </tr>\n",
       "  </tbody>\n",
       "</table>\n",
       "<p>5 rows × 57 columns</p>\n",
       "</div>"
      ],
      "text/plain": [
       "                          1960  1961  1962  1963  1964      1965  1966  1967  \\\n",
       "Country_corrected                                                              \n",
       "Afghanistan           0.034844   NaN   NaN   NaN   NaN  0.063428   NaN   NaN   \n",
       "Angola                0.067068   NaN   NaN   NaN   NaN  0.076062   NaN   NaN   \n",
       "Albania               0.276291   NaN   NaN   NaN   NaN  0.481283   NaN   NaN   \n",
       "United Arab Emirates       NaN   NaN   NaN   NaN   NaN       NaN   NaN   NaN   \n",
       "Argentina             1.350698   NaN   NaN   NaN   NaN  1.666652   NaN   NaN   \n",
       "\n",
       "                      1968  1969  ...    2007   2008   2009   2010   2011  \\\n",
       "Country_corrected                 ...                                       \n",
       "Afghanistan            NaN   NaN  ...   0.146  0.145  0.175  0.194  0.234   \n",
       "Angola                 NaN   NaN  ...     NaN    NaN  0.166    NaN    NaN   \n",
       "Albania                NaN   NaN  ...   1.146    NaN  1.144  1.132  1.113   \n",
       "United Arab Emirates   NaN   NaN  ...   1.930  2.737  2.428  2.533    NaN   \n",
       "Argentina              NaN   NaN  ...     NaN    NaN    NaN  3.210    NaN   \n",
       "\n",
       "                       2012   2013  2014  2015  2016  \n",
       "Country_corrected                                     \n",
       "Afghanistan           0.225  0.266   NaN   NaN   NaN  \n",
       "Angola                  NaN    NaN   NaN   NaN   NaN  \n",
       "Albania               1.145  1.145   NaN   NaN   NaN  \n",
       "United Arab Emirates    NaN    NaN   NaN   NaN   NaN  \n",
       "Argentina               NaN  3.859   NaN   NaN   NaN  \n",
       "\n",
       "[5 rows x 57 columns]"
      ]
     },
     "execution_count": 10,
     "metadata": {},
     "output_type": "execute_result"
    }
   ],
   "source": [
    "print_NaN_percent(doctors)\n",
    "doctors.head()"
   ]
  },
  {
   "cell_type": "code",
   "execution_count": 12,
   "metadata": {
    "collapsed": false
   },
   "outputs": [
    {
     "name": "stdout",
     "output_type": "stream",
     "text": [
      "Percentage NaN cells: 0.762137902897\n"
     ]
    },
    {
     "data": {
      "text/html": [
       "<div>\n",
       "<table border=\"1\" class=\"dataframe\">\n",
       "  <thead>\n",
       "    <tr style=\"text-align: right;\">\n",
       "      <th></th>\n",
       "      <th>1960</th>\n",
       "      <th>1961</th>\n",
       "      <th>1962</th>\n",
       "      <th>1963</th>\n",
       "      <th>1964</th>\n",
       "      <th>1965</th>\n",
       "      <th>1966</th>\n",
       "      <th>1967</th>\n",
       "      <th>1968</th>\n",
       "      <th>1969</th>\n",
       "      <th>...</th>\n",
       "      <th>2007</th>\n",
       "      <th>2008</th>\n",
       "      <th>2009</th>\n",
       "      <th>2010</th>\n",
       "      <th>2011</th>\n",
       "      <th>2012</th>\n",
       "      <th>2013</th>\n",
       "      <th>2014</th>\n",
       "      <th>2015</th>\n",
       "      <th>2016</th>\n",
       "    </tr>\n",
       "    <tr>\n",
       "      <th>Country_corrected</th>\n",
       "      <th></th>\n",
       "      <th></th>\n",
       "      <th></th>\n",
       "      <th></th>\n",
       "      <th></th>\n",
       "      <th></th>\n",
       "      <th></th>\n",
       "      <th></th>\n",
       "      <th></th>\n",
       "      <th></th>\n",
       "      <th></th>\n",
       "      <th></th>\n",
       "      <th></th>\n",
       "      <th></th>\n",
       "      <th></th>\n",
       "      <th></th>\n",
       "      <th></th>\n",
       "      <th></th>\n",
       "      <th></th>\n",
       "      <th></th>\n",
       "      <th></th>\n",
       "    </tr>\n",
       "  </thead>\n",
       "  <tbody>\n",
       "    <tr>\n",
       "      <th>Afghanistan</th>\n",
       "      <td>0.170627</td>\n",
       "      <td>NaN</td>\n",
       "      <td>NaN</td>\n",
       "      <td>NaN</td>\n",
       "      <td>NaN</td>\n",
       "      <td>NaN</td>\n",
       "      <td>NaN</td>\n",
       "      <td>NaN</td>\n",
       "      <td>NaN</td>\n",
       "      <td>NaN</td>\n",
       "      <td>...</td>\n",
       "      <td>0.42</td>\n",
       "      <td>0.42</td>\n",
       "      <td>0.4</td>\n",
       "      <td>0.4</td>\n",
       "      <td>NaN</td>\n",
       "      <td>0.5</td>\n",
       "      <td>NaN</td>\n",
       "      <td>NaN</td>\n",
       "      <td>NaN</td>\n",
       "      <td>NaN</td>\n",
       "    </tr>\n",
       "    <tr>\n",
       "      <th>Angola</th>\n",
       "      <td>2.061462</td>\n",
       "      <td>NaN</td>\n",
       "      <td>NaN</td>\n",
       "      <td>NaN</td>\n",
       "      <td>NaN</td>\n",
       "      <td>NaN</td>\n",
       "      <td>NaN</td>\n",
       "      <td>NaN</td>\n",
       "      <td>NaN</td>\n",
       "      <td>NaN</td>\n",
       "      <td>...</td>\n",
       "      <td>NaN</td>\n",
       "      <td>NaN</td>\n",
       "      <td>NaN</td>\n",
       "      <td>NaN</td>\n",
       "      <td>NaN</td>\n",
       "      <td>NaN</td>\n",
       "      <td>NaN</td>\n",
       "      <td>NaN</td>\n",
       "      <td>NaN</td>\n",
       "      <td>NaN</td>\n",
       "    </tr>\n",
       "    <tr>\n",
       "      <th>Albania</th>\n",
       "      <td>5.102676</td>\n",
       "      <td>NaN</td>\n",
       "      <td>NaN</td>\n",
       "      <td>NaN</td>\n",
       "      <td>NaN</td>\n",
       "      <td>NaN</td>\n",
       "      <td>NaN</td>\n",
       "      <td>NaN</td>\n",
       "      <td>NaN</td>\n",
       "      <td>NaN</td>\n",
       "      <td>...</td>\n",
       "      <td>2.90</td>\n",
       "      <td>NaN</td>\n",
       "      <td>2.8</td>\n",
       "      <td>NaN</td>\n",
       "      <td>2.43</td>\n",
       "      <td>2.6</td>\n",
       "      <td>NaN</td>\n",
       "      <td>NaN</td>\n",
       "      <td>NaN</td>\n",
       "      <td>NaN</td>\n",
       "    </tr>\n",
       "    <tr>\n",
       "      <th>United Arab Emirates</th>\n",
       "      <td>NaN</td>\n",
       "      <td>NaN</td>\n",
       "      <td>NaN</td>\n",
       "      <td>NaN</td>\n",
       "      <td>NaN</td>\n",
       "      <td>NaN</td>\n",
       "      <td>NaN</td>\n",
       "      <td>NaN</td>\n",
       "      <td>NaN</td>\n",
       "      <td>NaN</td>\n",
       "      <td>...</td>\n",
       "      <td>1.86</td>\n",
       "      <td>1.90</td>\n",
       "      <td>NaN</td>\n",
       "      <td>NaN</td>\n",
       "      <td>NaN</td>\n",
       "      <td>1.1</td>\n",
       "      <td>NaN</td>\n",
       "      <td>NaN</td>\n",
       "      <td>NaN</td>\n",
       "      <td>NaN</td>\n",
       "    </tr>\n",
       "    <tr>\n",
       "      <th>Argentina</th>\n",
       "      <td>6.352251</td>\n",
       "      <td>NaN</td>\n",
       "      <td>NaN</td>\n",
       "      <td>NaN</td>\n",
       "      <td>NaN</td>\n",
       "      <td>NaN</td>\n",
       "      <td>NaN</td>\n",
       "      <td>NaN</td>\n",
       "      <td>NaN</td>\n",
       "      <td>NaN</td>\n",
       "      <td>...</td>\n",
       "      <td>NaN</td>\n",
       "      <td>NaN</td>\n",
       "      <td>NaN</td>\n",
       "      <td>4.5</td>\n",
       "      <td>4.50</td>\n",
       "      <td>4.7</td>\n",
       "      <td>NaN</td>\n",
       "      <td>NaN</td>\n",
       "      <td>NaN</td>\n",
       "      <td>NaN</td>\n",
       "    </tr>\n",
       "  </tbody>\n",
       "</table>\n",
       "<p>5 rows × 57 columns</p>\n",
       "</div>"
      ],
      "text/plain": [
       "                          1960  1961  1962  1963  1964  1965  1966  1967  \\\n",
       "Country_corrected                                                          \n",
       "Afghanistan           0.170627   NaN   NaN   NaN   NaN   NaN   NaN   NaN   \n",
       "Angola                2.061462   NaN   NaN   NaN   NaN   NaN   NaN   NaN   \n",
       "Albania               5.102676   NaN   NaN   NaN   NaN   NaN   NaN   NaN   \n",
       "United Arab Emirates       NaN   NaN   NaN   NaN   NaN   NaN   NaN   NaN   \n",
       "Argentina             6.352251   NaN   NaN   NaN   NaN   NaN   NaN   NaN   \n",
       "\n",
       "                      1968  1969  ...   2007  2008  2009  2010  2011  2012  \\\n",
       "Country_corrected                 ...                                        \n",
       "Afghanistan            NaN   NaN  ...   0.42  0.42   0.4   0.4   NaN   0.5   \n",
       "Angola                 NaN   NaN  ...    NaN   NaN   NaN   NaN   NaN   NaN   \n",
       "Albania                NaN   NaN  ...   2.90   NaN   2.8   NaN  2.43   2.6   \n",
       "United Arab Emirates   NaN   NaN  ...   1.86  1.90   NaN   NaN   NaN   1.1   \n",
       "Argentina              NaN   NaN  ...    NaN   NaN   NaN   4.5  4.50   4.7   \n",
       "\n",
       "                      2013  2014  2015  2016  \n",
       "Country_corrected                             \n",
       "Afghanistan            NaN   NaN   NaN   NaN  \n",
       "Angola                 NaN   NaN   NaN   NaN  \n",
       "Albania                NaN   NaN   NaN   NaN  \n",
       "United Arab Emirates   NaN   NaN   NaN   NaN  \n",
       "Argentina              NaN   NaN   NaN   NaN  \n",
       "\n",
       "[5 rows x 57 columns]"
      ]
     },
     "execution_count": 12,
     "metadata": {},
     "output_type": "execute_result"
    }
   ],
   "source": [
    "print_NaN_percent(beds)\n",
    "beds.head()"
   ]
  },
  {
   "cell_type": "markdown",
   "metadata": {},
   "source": [
    "Both of these datasets are very sparse."
   ]
  },
  {
   "cell_type": "markdown",
   "metadata": {},
   "source": [
    "## Create merged dataframes for hospital beds and doctors data"
   ]
  },
  {
   "cell_type": "code",
   "execution_count": 58,
   "metadata": {
    "collapsed": true
   },
   "outputs": [],
   "source": [
    "def merge_df(df, start, end, countries):\n",
    "    '''\n",
    "    Helper to average a dataframe of country-year data over a given time period\n",
    "    \n",
    "    Args:\n",
    "        df: dataframe to average\n",
    "        start: start year\n",
    "        end: ending year\n",
    "        countries: countries to used as index of resulting dataframe\n",
    "    Returns:\n",
    "        Series of average values for each country over a given time period\n",
    "    '''\n",
    "    time_period = range(start, end)\n",
    "\n",
    "    # Calculate the mean for each crop/meat over the period 2000-2012\n",
    "    merged = df[time_period].mean(axis=1)\n",
    "    # Filter out only for countries listed in index\n",
    "    merged = pd.DataFrame(merged.loc[countries])\n",
    "\n",
    "    return merged"
   ]
  },
  {
   "cell_type": "code",
   "execution_count": 59,
   "metadata": {
    "collapsed": false
   },
   "outputs": [
    {
     "name": "stdout",
     "output_type": "stream",
     "text": [
      "Percentage NaN cells: 0.142857142857\n",
      "Percentage NaN cells: 0.123376623377\n"
     ]
    }
   ],
   "source": [
    "# Get average data for hospital beds\n",
    "beds_1970_2000 = merge_df(beds, 1970, 2000, countries)\n",
    "print_NaN_percent(beds_1970_2000)\n",
    "beds_2000_2012 = merge_df(beds, 2000, 2012, countries)\n",
    "print_NaN_percent(beds_2000_2012)"
   ]
  },
  {
   "cell_type": "code",
   "execution_count": 60,
   "metadata": {
    "collapsed": false
   },
   "outputs": [
    {
     "name": "stdout",
     "output_type": "stream",
     "text": [
      "Percentage NaN cells: 0.12987012987\n",
      "Percentage NaN cells: 0.12987012987\n"
     ]
    }
   ],
   "source": [
    "# Get average data for doctors\n",
    "doctors_1970_2000 = merge_df(doctors, 1970, 2000, countries)\n",
    "print_NaN_percent(doctors_1970_2000)\n",
    "doctors_2000_2012 = merge_df(doctors, 2000, 2012, countries)\n",
    "print_NaN_percent(doctors_2000_2012)"
   ]
  },
  {
   "cell_type": "code",
   "execution_count": 64,
   "metadata": {
    "collapsed": false
   },
   "outputs": [],
   "source": [
    "# Let's use mean imputation as we did before to fill in the rest of the missing data\n",
    "beds_1970_2000_cleaned = beds_1970_2000.fillna(beds_1970_2000.mean())\n",
    "beds_2000_2012_cleaned = beds_2000_2012.fillna(beds_2000_2012.mean())\n",
    "doctors_1970_2000_cleaned = doctors_1970_2000.fillna(doctors_1970_2000.mean())\n",
    "doctors_2000_2012_cleaned = doctors_2000_2012.fillna(doctors_2000_2012.mean())"
   ]
  },
  {
   "cell_type": "code",
   "execution_count": 66,
   "metadata": {
    "collapsed": false
   },
   "outputs": [
    {
     "name": "stdout",
     "output_type": "stream",
     "text": [
      "Percentage NaN cells: 0.0\n",
      "Percentage NaN cells: 0.0\n",
      "Percentage NaN cells: 0.0\n",
      "Percentage NaN cells: 0.0\n"
     ]
    }
   ],
   "source": [
    "# Sanity check that we have no more NaN's\n",
    "for s in [beds_1970_2000_cleaned, beds_2000_2012_cleaned, doctors_1970_2000_cleaned, doctors_2000_2012_cleaned]:\n",
    "    print_NaN_percent(s)"
   ]
  },
  {
   "cell_type": "code",
   "execution_count": null,
   "metadata": {
    "collapsed": true
   },
   "outputs": [],
   "source": [
    "# Save for use later\n",
    "pickle.dump(beds_1970_2000_cleaned, open('data/final/beds_1970_2000_cleaned.p', 'wb'))\n",
    "pickle.dump(beds_2000_2012_cleaned, open('data/final/beds_2000_2012_cleaned.p', 'wb'))\n",
    "pickle.dump(doctors_1970_2000_cleaned, open('data/final/doctors_1970_2000_cleaned.p', 'wb'))\n",
    "pickle.dump(doctors_2000_2012_cleaned, open('data/final/doctors_2000_2012_cleaned.p', 'wb'))"
   ]
  }
 ],
 "metadata": {
  "anaconda-cloud": {},
  "kernelspec": {
   "display_name": "Python [Root]",
   "language": "python",
   "name": "Python [Root]"
  },
  "language_info": {
   "codemirror_mode": {
    "name": "ipython",
    "version": 2
   },
   "file_extension": ".py",
   "mimetype": "text/x-python",
   "name": "python",
   "nbconvert_exporter": "python",
   "pygments_lexer": "ipython2",
   "version": "2.7.12"
  }
 },
 "nbformat": 4,
 "nbformat_minor": 0
}
