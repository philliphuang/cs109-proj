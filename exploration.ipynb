{
 "cells": [
  {
   "cell_type": "markdown",
   "metadata": {},
   "source": [
    "# CS109 Project: Exploration\n",
    "Work by Phillip Huang"
   ]
  },
  {
   "cell_type": "code",
   "execution_count": 1,
   "metadata": {
    "collapsed": true
   },
   "outputs": [],
   "source": [
    "# import packages\n",
    "import numpy as np\n",
    "import pandas as pd\n",
    "import matplotlib\n",
    "import matplotlib.pyplot as plt"
   ]
  },
  {
   "cell_type": "code",
   "execution_count": 2,
   "metadata": {
    "collapsed": false
   },
   "outputs": [],
   "source": [
    "# read data\n",
    "crops = pd.read_csv('data/FoodSupply_Crops_E_All_Data.csv')\n",
    "crops_norm = pd.read_csv('data/FoodSupply_Crops_E_All_Data_(Norm).csv')\n",
    "meat = pd.read_csv('data/FoodSupply_LivestockFish_E_All_Data.csv')\n",
    "meat_norm = pd.read_csv('data/FoodSupply_LivestockFish_E_All_Data_(Norm).csv')"
   ]
  },
  {
   "cell_type": "code",
   "execution_count": 5,
   "metadata": {
    "collapsed": false
   },
   "outputs": [
    {
     "data": {
      "text/html": [
       "<div>\n",
       "<table border=\"1\" class=\"dataframe\">\n",
       "  <thead>\n",
       "    <tr style=\"text-align: right;\">\n",
       "      <th></th>\n",
       "      <th>Country Code</th>\n",
       "      <th>Country</th>\n",
       "      <th>Item Code</th>\n",
       "      <th>Item</th>\n",
       "      <th>Element Code</th>\n",
       "      <th>Element</th>\n",
       "      <th>Unit</th>\n",
       "      <th>Y1961</th>\n",
       "      <th>Y1961F</th>\n",
       "      <th>Y1962</th>\n",
       "      <th>...</th>\n",
       "      <th>Y2009</th>\n",
       "      <th>Y2009F</th>\n",
       "      <th>Y2010</th>\n",
       "      <th>Y2010F</th>\n",
       "      <th>Y2011</th>\n",
       "      <th>Y2011F</th>\n",
       "      <th>Y2012</th>\n",
       "      <th>Y2012F</th>\n",
       "      <th>Y2013</th>\n",
       "      <th>Y2013F</th>\n",
       "    </tr>\n",
       "  </thead>\n",
       "  <tbody>\n",
       "    <tr>\n",
       "      <th>0</th>\n",
       "      <td>2</td>\n",
       "      <td>Afghanistan</td>\n",
       "      <td>2617</td>\n",
       "      <td>Apples and products</td>\n",
       "      <td>641</td>\n",
       "      <td>Food supply quantity (tonnes)</td>\n",
       "      <td>tonnes</td>\n",
       "      <td>14345.00</td>\n",
       "      <td>S</td>\n",
       "      <td>14345.00</td>\n",
       "      <td>...</td>\n",
       "      <td>60666.00</td>\n",
       "      <td>S</td>\n",
       "      <td>65219.00</td>\n",
       "      <td>S</td>\n",
       "      <td>56185.00</td>\n",
       "      <td>S</td>\n",
       "      <td>43222.00</td>\n",
       "      <td>S</td>\n",
       "      <td>67678.00</td>\n",
       "      <td>S</td>\n",
       "    </tr>\n",
       "    <tr>\n",
       "      <th>1</th>\n",
       "      <td>2</td>\n",
       "      <td>Afghanistan</td>\n",
       "      <td>2617</td>\n",
       "      <td>Apples and products</td>\n",
       "      <td>646</td>\n",
       "      <td>Food supply quantity (g/capita/day)</td>\n",
       "      <td>g/capita/day</td>\n",
       "      <td>4.39</td>\n",
       "      <td>Fc</td>\n",
       "      <td>4.30</td>\n",
       "      <td>...</td>\n",
       "      <td>6.00</td>\n",
       "      <td>Fc</td>\n",
       "      <td>6.29</td>\n",
       "      <td>Fc</td>\n",
       "      <td>5.29</td>\n",
       "      <td>Fc</td>\n",
       "      <td>3.97</td>\n",
       "      <td>Fc</td>\n",
       "      <td>6.07</td>\n",
       "      <td>Fc</td>\n",
       "    </tr>\n",
       "    <tr>\n",
       "      <th>2</th>\n",
       "      <td>2</td>\n",
       "      <td>Afghanistan</td>\n",
       "      <td>2617</td>\n",
       "      <td>Apples and products</td>\n",
       "      <td>645</td>\n",
       "      <td>Food supply quantity (kg/capita/yr)</td>\n",
       "      <td>Kg</td>\n",
       "      <td>1.60</td>\n",
       "      <td>Fc</td>\n",
       "      <td>1.57</td>\n",
       "      <td>...</td>\n",
       "      <td>2.19</td>\n",
       "      <td>Fc</td>\n",
       "      <td>2.30</td>\n",
       "      <td>Fc</td>\n",
       "      <td>1.93</td>\n",
       "      <td>Fc</td>\n",
       "      <td>1.45</td>\n",
       "      <td>Fc</td>\n",
       "      <td>2.22</td>\n",
       "      <td>Fc</td>\n",
       "    </tr>\n",
       "    <tr>\n",
       "      <th>3</th>\n",
       "      <td>2</td>\n",
       "      <td>Afghanistan</td>\n",
       "      <td>2617</td>\n",
       "      <td>Apples and products</td>\n",
       "      <td>664</td>\n",
       "      <td>Food supply (kcal/capita/day)</td>\n",
       "      <td>kcal/capita/day</td>\n",
       "      <td>2.00</td>\n",
       "      <td>Fc</td>\n",
       "      <td>2.00</td>\n",
       "      <td>...</td>\n",
       "      <td>3.00</td>\n",
       "      <td>Fc</td>\n",
       "      <td>3.00</td>\n",
       "      <td>Fc</td>\n",
       "      <td>3.00</td>\n",
       "      <td>Fc</td>\n",
       "      <td>2.00</td>\n",
       "      <td>Fc</td>\n",
       "      <td>3.00</td>\n",
       "      <td>Fc</td>\n",
       "    </tr>\n",
       "    <tr>\n",
       "      <th>4</th>\n",
       "      <td>2</td>\n",
       "      <td>Afghanistan</td>\n",
       "      <td>2617</td>\n",
       "      <td>Apples and products</td>\n",
       "      <td>674</td>\n",
       "      <td>Protein supply quantity (g/capita/day)</td>\n",
       "      <td>g/capita/day</td>\n",
       "      <td>0.01</td>\n",
       "      <td>Fc</td>\n",
       "      <td>0.01</td>\n",
       "      <td>...</td>\n",
       "      <td>0.02</td>\n",
       "      <td>Fc</td>\n",
       "      <td>0.02</td>\n",
       "      <td>Fc</td>\n",
       "      <td>0.02</td>\n",
       "      <td>Fc</td>\n",
       "      <td>0.01</td>\n",
       "      <td>Fc</td>\n",
       "      <td>0.02</td>\n",
       "      <td>Fc</td>\n",
       "    </tr>\n",
       "  </tbody>\n",
       "</table>\n",
       "<p>5 rows × 113 columns</p>\n",
       "</div>"
      ],
      "text/plain": [
       "   Country Code      Country  Item Code                 Item  Element Code  \\\n",
       "0             2  Afghanistan       2617  Apples and products           641   \n",
       "1             2  Afghanistan       2617  Apples and products           646   \n",
       "2             2  Afghanistan       2617  Apples and products           645   \n",
       "3             2  Afghanistan       2617  Apples and products           664   \n",
       "4             2  Afghanistan       2617  Apples and products           674   \n",
       "\n",
       "                                  Element             Unit     Y1961 Y1961F  \\\n",
       "0           Food supply quantity (tonnes)           tonnes  14345.00      S   \n",
       "1     Food supply quantity (g/capita/day)     g/capita/day      4.39     Fc   \n",
       "2     Food supply quantity (kg/capita/yr)               Kg      1.60     Fc   \n",
       "3           Food supply (kcal/capita/day)  kcal/capita/day      2.00     Fc   \n",
       "4  Protein supply quantity (g/capita/day)     g/capita/day      0.01     Fc   \n",
       "\n",
       "      Y1962   ...       Y2009  Y2009F     Y2010  Y2010F     Y2011  Y2011F  \\\n",
       "0  14345.00   ...    60666.00       S  65219.00       S  56185.00       S   \n",
       "1      4.30   ...        6.00      Fc      6.29      Fc      5.29      Fc   \n",
       "2      1.57   ...        2.19      Fc      2.30      Fc      1.93      Fc   \n",
       "3      2.00   ...        3.00      Fc      3.00      Fc      3.00      Fc   \n",
       "4      0.01   ...        0.02      Fc      0.02      Fc      0.02      Fc   \n",
       "\n",
       "      Y2012  Y2012F     Y2013  Y2013F  \n",
       "0  43222.00       S  67678.00       S  \n",
       "1      3.97      Fc      6.07      Fc  \n",
       "2      1.45      Fc      2.22      Fc  \n",
       "3      2.00      Fc      3.00      Fc  \n",
       "4      0.01      Fc      0.02      Fc  \n",
       "\n",
       "[5 rows x 113 columns]"
      ]
     },
     "execution_count": 5,
     "metadata": {},
     "output_type": "execute_result"
    }
   ],
   "source": [
    "crops.head()"
   ]
  },
  {
   "cell_type": "code",
   "execution_count": 6,
   "metadata": {
    "collapsed": false
   },
   "outputs": [
    {
     "data": {
      "text/html": [
       "<div>\n",
       "<table border=\"1\" class=\"dataframe\">\n",
       "  <thead>\n",
       "    <tr style=\"text-align: right;\">\n",
       "      <th></th>\n",
       "      <th>Country Code</th>\n",
       "      <th>Country</th>\n",
       "      <th>Item Code</th>\n",
       "      <th>Item</th>\n",
       "      <th>Element Code</th>\n",
       "      <th>Element</th>\n",
       "      <th>Year Code</th>\n",
       "      <th>Year</th>\n",
       "      <th>Unit</th>\n",
       "      <th>Value</th>\n",
       "      <th>Flag</th>\n",
       "    </tr>\n",
       "  </thead>\n",
       "  <tbody>\n",
       "    <tr>\n",
       "      <th>0</th>\n",
       "      <td>2</td>\n",
       "      <td>Afghanistan</td>\n",
       "      <td>2617</td>\n",
       "      <td>Apples and products</td>\n",
       "      <td>641</td>\n",
       "      <td>Food supply quantity (tonnes)</td>\n",
       "      <td>1961</td>\n",
       "      <td>1961</td>\n",
       "      <td>tonnes</td>\n",
       "      <td>14345.0</td>\n",
       "      <td>S</td>\n",
       "    </tr>\n",
       "    <tr>\n",
       "      <th>1</th>\n",
       "      <td>2</td>\n",
       "      <td>Afghanistan</td>\n",
       "      <td>2617</td>\n",
       "      <td>Apples and products</td>\n",
       "      <td>641</td>\n",
       "      <td>Food supply quantity (tonnes)</td>\n",
       "      <td>1962</td>\n",
       "      <td>1962</td>\n",
       "      <td>tonnes</td>\n",
       "      <td>14345.0</td>\n",
       "      <td>S</td>\n",
       "    </tr>\n",
       "    <tr>\n",
       "      <th>2</th>\n",
       "      <td>2</td>\n",
       "      <td>Afghanistan</td>\n",
       "      <td>2617</td>\n",
       "      <td>Apples and products</td>\n",
       "      <td>641</td>\n",
       "      <td>Food supply quantity (tonnes)</td>\n",
       "      <td>1963</td>\n",
       "      <td>1963</td>\n",
       "      <td>tonnes</td>\n",
       "      <td>14345.0</td>\n",
       "      <td>S</td>\n",
       "    </tr>\n",
       "    <tr>\n",
       "      <th>3</th>\n",
       "      <td>2</td>\n",
       "      <td>Afghanistan</td>\n",
       "      <td>2617</td>\n",
       "      <td>Apples and products</td>\n",
       "      <td>641</td>\n",
       "      <td>Food supply quantity (tonnes)</td>\n",
       "      <td>1964</td>\n",
       "      <td>1964</td>\n",
       "      <td>tonnes</td>\n",
       "      <td>17480.0</td>\n",
       "      <td>S</td>\n",
       "    </tr>\n",
       "    <tr>\n",
       "      <th>4</th>\n",
       "      <td>2</td>\n",
       "      <td>Afghanistan</td>\n",
       "      <td>2617</td>\n",
       "      <td>Apples and products</td>\n",
       "      <td>641</td>\n",
       "      <td>Food supply quantity (tonnes)</td>\n",
       "      <td>1965</td>\n",
       "      <td>1965</td>\n",
       "      <td>tonnes</td>\n",
       "      <td>19380.0</td>\n",
       "      <td>S</td>\n",
       "    </tr>\n",
       "  </tbody>\n",
       "</table>\n",
       "</div>"
      ],
      "text/plain": [
       "   Country Code      Country  Item Code                 Item  Element Code  \\\n",
       "0             2  Afghanistan       2617  Apples and products           641   \n",
       "1             2  Afghanistan       2617  Apples and products           641   \n",
       "2             2  Afghanistan       2617  Apples and products           641   \n",
       "3             2  Afghanistan       2617  Apples and products           641   \n",
       "4             2  Afghanistan       2617  Apples and products           641   \n",
       "\n",
       "                         Element  Year Code  Year    Unit    Value Flag  \n",
       "0  Food supply quantity (tonnes)       1961  1961  tonnes  14345.0    S  \n",
       "1  Food supply quantity (tonnes)       1962  1962  tonnes  14345.0    S  \n",
       "2  Food supply quantity (tonnes)       1963  1963  tonnes  14345.0    S  \n",
       "3  Food supply quantity (tonnes)       1964  1964  tonnes  17480.0    S  \n",
       "4  Food supply quantity (tonnes)       1965  1965  tonnes  19380.0    S  "
      ]
     },
     "execution_count": 6,
     "metadata": {},
     "output_type": "execute_result"
    }
   ],
   "source": [
    "crops_norm.head()"
   ]
  },
  {
   "cell_type": "code",
   "execution_count": 9,
   "metadata": {
    "collapsed": false
   },
   "outputs": [
    {
     "data": {
      "text/plain": [
       "Fc    3635678\n",
       "S      513346\n",
       "A      258920\n",
       "Name: Flag, dtype: int64"
      ]
     },
     "execution_count": 9,
     "metadata": {},
     "output_type": "execute_result"
    }
   ],
   "source": [
    "crops_norm['Flag'].value_counts()"
   ]
  },
  {
   "cell_type": "code",
   "execution_count": 3,
   "metadata": {
    "collapsed": false
   },
   "outputs": [
    {
     "data": {
      "text/plain": [
       "Food supply quantity (kg/capita/yr)       216\n",
       "Food supply quantity (tonnes)             216\n",
       "Food supply quantity (g/capita/day)       216\n",
       "Food supply (kcal/capita/day)             216\n",
       "Fat supply quantity (g/capita/day)        197\n",
       "Protein supply quantity (g/capita/day)    194\n",
       "Name: Element, dtype: int64"
      ]
     },
     "execution_count": 3,
     "metadata": {},
     "output_type": "execute_result"
    }
   ],
   "source": [
    "crops[crops['Item'] == 'Apples and products']['Element'].value_counts()"
   ]
  },
  {
   "cell_type": "code",
   "execution_count": 4,
   "metadata": {
    "collapsed": false
   },
   "outputs": [
    {
     "data": {
      "text/plain": [
       "World                                      532\n",
       "Asia                                       529\n",
       "Americas                                   523\n",
       "Net Food Importing Developing Countries    523\n",
       "Low Income Food Deficit Countries          521\n",
       "Land Locked Developing Countries           520\n",
       "Least Developed Countries                  517\n",
       "South-Eastern Asia                         516\n",
       "Southern Asia                              515\n",
       "Eastern Asia                               514\n",
       "South America                              513\n",
       "European Union                             509\n",
       "Europe                                     509\n",
       "Africa                                     507\n",
       "Eastern Africa                             505\n",
       "China                                      504\n",
       "Small Island Developing States             503\n",
       "Western Asia                               500\n",
       "Central America                            499\n",
       "Western Africa                             497\n",
       "Caribbean                                  494\n",
       "Southern Europe                            492\n",
       "Oceania                                    489\n",
       "Nepal                                      489\n",
       "Northern Africa                            488\n",
       "Eastern Europe                             488\n",
       "Middle Africa                              487\n",
       "Northern America                           486\n",
       "Western Europe                             485\n",
       "C�te d'Ivoire                              481\n",
       "                                          ... \n",
       "Luxembourg                                 390\n",
       "USSR                                       390\n",
       "Suriname                                   388\n",
       "Czechoslovakia                             388\n",
       "Viet Nam                                   387\n",
       "Saint Vincent and the Grenadines           386\n",
       "Iceland                                    386\n",
       "Montenegro                                 386\n",
       "Antigua and Barbuda                        385\n",
       "Dominica                                   383\n",
       "Liberia                                    382\n",
       "Uzbekistan                                 379\n",
       "Saint Kitts and Nevis                      362\n",
       "Lao People's Democratic Republic           361\n",
       "Guinea-Bissau                              356\n",
       "Solomon Islands                            353\n",
       "Chad                                       349\n",
       "Sao Tome and Principe                      348\n",
       "Vanuatu                                    343\n",
       "Afghanistan                                336\n",
       "Micronesia                                 327\n",
       "Kiribati                                   327\n",
       "Samoa                                      315\n",
       "Democratic People's Republic of Korea      306\n",
       "Timor-Leste                                303\n",
       "Netherlands Antilles (former)              303\n",
       "Tajikistan                                 299\n",
       "Bermuda                                    284\n",
       "Lesotho                                    263\n",
       "Turkmenistan                               237\n",
       "Name: Country, dtype: int64"
      ]
     },
     "execution_count": 4,
     "metadata": {},
     "output_type": "execute_result"
    }
   ],
   "source": [
    "crops['Country'].value_counts()"
   ]
  },
  {
   "cell_type": "code",
   "execution_count": 8,
   "metadata": {
    "collapsed": false
   },
   "outputs": [
    {
     "data": {
      "text/plain": [
       "<pandas.core.groupby.DataFrameGroupBy object at 0x11279c3d0>"
      ]
     },
     "execution_count": 8,
     "metadata": {},
     "output_type": "execute_result"
    }
   ],
   "source": [
    "crops.groupby(\"Country Code\")."
   ]
  },
  {
   "cell_type": "code",
   "execution_count": null,
   "metadata": {
    "collapsed": true
   },
   "outputs": [],
   "source": []
  }
 ],
 "metadata": {
  "anaconda-cloud": {},
  "kernelspec": {
   "display_name": "Python [Root]",
   "language": "python",
   "name": "Python [Root]"
  },
  "language_info": {
   "codemirror_mode": {
    "name": "ipython",
    "version": 2
   },
   "file_extension": ".py",
   "mimetype": "text/x-python",
   "name": "python",
   "nbconvert_exporter": "python",
   "pygments_lexer": "ipython2",
   "version": "2.7.12"
  }
 },
 "nbformat": 4,
 "nbformat_minor": 0
}
