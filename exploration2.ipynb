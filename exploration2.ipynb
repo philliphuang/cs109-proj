{
 "cells": [
  {
   "cell_type": "markdown",
   "metadata": {},
   "source": [
    "# CS109 Project: Additional Data Munging"
   ]
  },
  {
   "cell_type": "code",
   "execution_count": 1,
   "metadata": {
    "collapsed": true
   },
   "outputs": [],
   "source": [
    "import numpy as np\n",
    "import pandas as pd\n",
    "import scipy as sp\n",
    "import sklearn as sk\n",
    "import pickle\n",
    "\n",
    "from IPython.core.interactiveshell import InteractiveShell\n",
    "InteractiveShell.ast_node_interactivity = \"all\""
   ]
  },
  {
   "cell_type": "markdown",
   "metadata": {},
   "source": [
    "### Part 1: Clean exercise data"
   ]
  },
  {
   "cell_type": "code",
   "execution_count": 2,
   "metadata": {
    "collapsed": false,
    "scrolled": true
   },
   "outputs": [
    {
     "data": {
      "text/html": [
       "<div>\n",
       "<table border=\"1\" class=\"dataframe\">\n",
       "  <thead>\n",
       "    <tr style=\"text-align: right;\">\n",
       "      <th></th>\n",
       "      <th>Country</th>\n",
       "      <th>Year</th>\n",
       "      <th>Age Group</th>\n",
       "      <th>Both sexes</th>\n",
       "      <th>Female</th>\n",
       "      <th>Male</th>\n",
       "      <th>Both sexes.1</th>\n",
       "      <th>Female.1</th>\n",
       "      <th>Male.1</th>\n",
       "    </tr>\n",
       "  </thead>\n",
       "  <tbody>\n",
       "    <tr>\n",
       "      <th>0</th>\n",
       "      <td>Afghanistan</td>\n",
       "      <td>2010</td>\n",
       "      <td>18+  years</td>\n",
       "      <td>NaN</td>\n",
       "      <td>NaN</td>\n",
       "      <td>NaN</td>\n",
       "      <td>NaN</td>\n",
       "      <td>NaN</td>\n",
       "      <td>NaN</td>\n",
       "    </tr>\n",
       "    <tr>\n",
       "      <th>1</th>\n",
       "      <td>Albania</td>\n",
       "      <td>2010</td>\n",
       "      <td>18+  years</td>\n",
       "      <td>NaN</td>\n",
       "      <td>NaN</td>\n",
       "      <td>NaN</td>\n",
       "      <td>NaN</td>\n",
       "      <td>NaN</td>\n",
       "      <td>NaN</td>\n",
       "    </tr>\n",
       "    <tr>\n",
       "      <th>2</th>\n",
       "      <td>Algeria</td>\n",
       "      <td>2010</td>\n",
       "      <td>18+  years</td>\n",
       "      <td>34.4 [30.5-38.5]</td>\n",
       "      <td>41.2 [35.7-46.9]</td>\n",
       "      <td>27.7 [22.3-33.6]</td>\n",
       "      <td>32.5 [28.6-36.6]</td>\n",
       "      <td>39.4 [33.9-45.1]</td>\n",
       "      <td>25.8 [20.4-31.7]</td>\n",
       "    </tr>\n",
       "    <tr>\n",
       "      <th>3</th>\n",
       "      <td>Andorra</td>\n",
       "      <td>2010</td>\n",
       "      <td>18+  years</td>\n",
       "      <td>26.1 [11.6-66.5]</td>\n",
       "      <td>29.7 [8.3-66.1]</td>\n",
       "      <td>22.4 [6.9-60.3]</td>\n",
       "      <td>30.9 [15.6-72.6]</td>\n",
       "      <td>34.7 [10.2-69.8]</td>\n",
       "      <td>27.2 [8.9-65.3]</td>\n",
       "    </tr>\n",
       "    <tr>\n",
       "      <th>4</th>\n",
       "      <td>Angola</td>\n",
       "      <td>2010</td>\n",
       "      <td>18+  years</td>\n",
       "      <td>NaN</td>\n",
       "      <td>NaN</td>\n",
       "      <td>NaN</td>\n",
       "      <td>NaN</td>\n",
       "      <td>NaN</td>\n",
       "      <td>NaN</td>\n",
       "    </tr>\n",
       "  </tbody>\n",
       "</table>\n",
       "</div>"
      ],
      "text/plain": [
       "       Country  Year   Age Group        Both sexes            Female  \\\n",
       "0  Afghanistan  2010  18+  years               NaN               NaN   \n",
       "1      Albania  2010  18+  years               NaN               NaN   \n",
       "2      Algeria  2010  18+  years  34.4 [30.5-38.5]  41.2 [35.7-46.9]   \n",
       "3      Andorra  2010  18+  years  26.1 [11.6-66.5]   29.7 [8.3-66.1]   \n",
       "4       Angola  2010  18+  years               NaN               NaN   \n",
       "\n",
       "               Male      Both sexes.1          Female.1            Male.1  \n",
       "0               NaN               NaN               NaN               NaN  \n",
       "1               NaN               NaN               NaN               NaN  \n",
       "2  27.7 [22.3-33.6]  32.5 [28.6-36.6]  39.4 [33.9-45.1]  25.8 [20.4-31.7]  \n",
       "3   22.4 [6.9-60.3]  30.9 [15.6-72.6]  34.7 [10.2-69.8]   27.2 [8.9-65.3]  \n",
       "4               NaN               NaN               NaN               NaN  "
      ]
     },
     "execution_count": 2,
     "metadata": {},
     "output_type": "execute_result"
    },
    {
     "data": {
      "text/html": [
       "<div>\n",
       "<table border=\"1\" class=\"dataframe\">\n",
       "  <thead>\n",
       "    <tr style=\"text-align: right;\">\n",
       "      <th></th>\n",
       "      <th>Country</th>\n",
       "      <th>Year</th>\n",
       "      <th>Age Group</th>\n",
       "      <th>Both sexes</th>\n",
       "      <th>Female</th>\n",
       "      <th>Male</th>\n",
       "      <th>Both sexes.1</th>\n",
       "      <th>Female.1</th>\n",
       "      <th>Male.1</th>\n",
       "    </tr>\n",
       "  </thead>\n",
       "  <tbody>\n",
       "    <tr>\n",
       "      <th>0</th>\n",
       "      <td>Afghanistan</td>\n",
       "      <td>2010</td>\n",
       "      <td>18+  years</td>\n",
       "      <td>NaN</td>\n",
       "      <td>NaN</td>\n",
       "      <td>NaN</td>\n",
       "      <td>NaN</td>\n",
       "      <td>NaN</td>\n",
       "      <td>NaN</td>\n",
       "    </tr>\n",
       "    <tr>\n",
       "      <th>1</th>\n",
       "      <td>Albania</td>\n",
       "      <td>2010</td>\n",
       "      <td>18+  years</td>\n",
       "      <td>NaN</td>\n",
       "      <td>NaN</td>\n",
       "      <td>NaN</td>\n",
       "      <td>NaN</td>\n",
       "      <td>NaN</td>\n",
       "      <td>NaN</td>\n",
       "    </tr>\n",
       "    <tr>\n",
       "      <th>2</th>\n",
       "      <td>Algeria</td>\n",
       "      <td>2010</td>\n",
       "      <td>18+  years</td>\n",
       "      <td>34.4 [30.5-38.5]</td>\n",
       "      <td>41.2 [35.7-46.9]</td>\n",
       "      <td>27.7 [22.3-33.6]</td>\n",
       "      <td>32.5 [28.6-36.6]</td>\n",
       "      <td>39.4 [33.9-45.1]</td>\n",
       "      <td>25.8 [20.4-31.7]</td>\n",
       "    </tr>\n",
       "    <tr>\n",
       "      <th>3</th>\n",
       "      <td>Andorra</td>\n",
       "      <td>2010</td>\n",
       "      <td>18+  years</td>\n",
       "      <td>26.1 [11.6-66.5]</td>\n",
       "      <td>29.7 [8.3-66.1]</td>\n",
       "      <td>22.4 [6.9-60.3]</td>\n",
       "      <td>30.9 [15.6-72.6]</td>\n",
       "      <td>34.7 [10.2-69.8]</td>\n",
       "      <td>27.2 [8.9-65.3]</td>\n",
       "    </tr>\n",
       "    <tr>\n",
       "      <th>4</th>\n",
       "      <td>Angola</td>\n",
       "      <td>2010</td>\n",
       "      <td>18+  years</td>\n",
       "      <td>NaN</td>\n",
       "      <td>NaN</td>\n",
       "      <td>NaN</td>\n",
       "      <td>NaN</td>\n",
       "      <td>NaN</td>\n",
       "      <td>NaN</td>\n",
       "    </tr>\n",
       "  </tbody>\n",
       "</table>\n",
       "</div>"
      ],
      "text/plain": [
       "       Country  Year    Age Group        Both sexes            Female  \\\n",
       "0  Afghanistan  2010   18+  years               NaN               NaN   \n",
       "1      Albania  2010   18+  years               NaN               NaN   \n",
       "2      Algeria  2010   18+  years  34.4 [30.5-38.5]  41.2 [35.7-46.9]   \n",
       "3      Andorra  2010   18+  years  26.1 [11.6-66.5]   29.7 [8.3-66.1]   \n",
       "4       Angola  2010   18+  years               NaN               NaN   \n",
       "\n",
       "               Male      Both sexes.1          Female.1            Male.1  \n",
       "0               NaN               NaN               NaN               NaN  \n",
       "1               NaN               NaN               NaN               NaN  \n",
       "2  27.7 [22.3-33.6]  32.5 [28.6-36.6]  39.4 [33.9-45.1]  25.8 [20.4-31.7]  \n",
       "3   22.4 [6.9-60.3]  30.9 [15.6-72.6]  34.7 [10.2-69.8]   27.2 [8.9-65.3]  \n",
       "4               NaN               NaN               NaN               NaN  "
      ]
     },
     "execution_count": 2,
     "metadata": {},
     "output_type": "execute_result"
    },
    {
     "data": {
      "text/plain": [
       "array([['Afghanistan', 2010, '18+  years', ..., nan, nan, nan],\n",
       "       ['Albania', 2010, '18+  years', ..., nan, nan, nan],\n",
       "       ['Algeria', 2010, '18+  years', ..., '32.5 [28.6-36.6]',\n",
       "        '39.4 [33.9-45.1]', '25.8 [20.4-31.7]'],\n",
       "       ..., \n",
       "       ['Yemen', 2010, '18+  years', ..., nan, nan, nan],\n",
       "       ['Zambia', 2010, '18+  years', ..., '17.7 [4.3-48.7]',\n",
       "        '20.6 [5.1-52.9]', '14.7 [3.9-46.4]'],\n",
       "       ['Zimbabwe', 2010, '18+  years', ..., '19.7 [4.9-51]',\n",
       "        '23.8 [6.1-57.1]', '15.3 [4.1-45.5]']], dtype=object)"
      ]
     },
     "execution_count": 2,
     "metadata": {},
     "output_type": "execute_result"
    },
    {
     "data": {
      "text/plain": [
       "array([['Afghanistan', 2010, ' 18+  years', ..., nan, nan, nan],\n",
       "       ['Albania', 2010, ' 18+  years', ..., nan, nan, nan],\n",
       "       ['Algeria', 2010, ' 18+  years', ..., '32.5 [28.6-36.6]',\n",
       "        '39.4 [33.9-45.1]', '25.8 [20.4-31.7]'],\n",
       "       ..., \n",
       "       ['Yemen', 2010, ' 18+  years', ..., nan, nan, nan],\n",
       "       ['Zambia', 2010, ' 18+  years', ..., '17.7 [4.3-48.7]',\n",
       "        '20.6 [5.1-52.9]', '14.7 [3.9-46.4]'],\n",
       "       ['Zimbabwe', 2010, ' 18+  years', ..., '19.7 [4.9-51]',\n",
       "        '23.8 [6.1-57.1]', '15.3 [4.1-45.5]']], dtype=object)"
      ]
     },
     "execution_count": 2,
     "metadata": {},
     "output_type": "execute_result"
    }
   ],
   "source": [
    "exer = pd.read_csv('data/exercise/data.csv', skiprows = 1, na_values='No data')\n",
    "exer_alt = pd.read_csv('data/exercise/alt.csv', skiprows = 1, na_values='No data')\n",
    "exer.head()\n",
    "exer_alt.head()\n",
    "exer.values\n",
    "exer_alt.values"
   ]
  },
  {
   "cell_type": "markdown",
   "metadata": {},
   "source": [
    "Looks like no substantial difference, except the standard data seems a bit cleaner. We'll just use that one.\n",
    "\n",
    "Now, we will see if all the countries match up with the dependent variable Risk/Deaths per 100k."
   ]
  },
  {
   "cell_type": "code",
   "execution_count": 3,
   "metadata": {
    "collapsed": false
   },
   "outputs": [
    {
     "data": {
      "text/html": [
       "<div>\n",
       "<table border=\"1\" class=\"dataframe\">\n",
       "  <thead>\n",
       "    <tr style=\"text-align: right;\">\n",
       "      <th></th>\n",
       "      <th>2012</th>\n",
       "      <th>2000</th>\n",
       "    </tr>\n",
       "    <tr>\n",
       "      <th>Country</th>\n",
       "      <th></th>\n",
       "      <th></th>\n",
       "    </tr>\n",
       "  </thead>\n",
       "  <tbody>\n",
       "    <tr>\n",
       "      <th>Afghanistan</th>\n",
       "      <td>31</td>\n",
       "      <td>33</td>\n",
       "    </tr>\n",
       "    <tr>\n",
       "      <th>Albania</th>\n",
       "      <td>19</td>\n",
       "      <td>24</td>\n",
       "    </tr>\n",
       "    <tr>\n",
       "      <th>Algeria</th>\n",
       "      <td>22</td>\n",
       "      <td>23</td>\n",
       "    </tr>\n",
       "    <tr>\n",
       "      <th>Angola</th>\n",
       "      <td>24</td>\n",
       "      <td>24</td>\n",
       "    </tr>\n",
       "    <tr>\n",
       "      <th>Argentina</th>\n",
       "      <td>17</td>\n",
       "      <td>20</td>\n",
       "    </tr>\n",
       "  </tbody>\n",
       "</table>\n",
       "</div>"
      ],
      "text/plain": [
       "             2012  2000\n",
       "Country                \n",
       "Afghanistan    31    33\n",
       "Albania        19    24\n",
       "Algeria        22    23\n",
       "Angola         24    24\n",
       "Argentina      17    20"
      ]
     },
     "execution_count": 3,
     "metadata": {},
     "output_type": "execute_result"
    }
   ],
   "source": [
    "out = open('data/clean/risk.p', 'r')\n",
    "risk = pickle.load(out)\n",
    "risk.head()"
   ]
  },
  {
   "cell_type": "code",
   "execution_count": 4,
   "metadata": {
    "collapsed": false
   },
   "outputs": [],
   "source": [
    "# check if all risk countries in exercise data\n",
    "for country in risk.index:\n",
    "    if country not in exer['Country'].tolist():\n",
    "        print country"
   ]
  },
  {
   "cell_type": "code",
   "execution_count": 5,
   "metadata": {
    "collapsed": false,
    "scrolled": true
   },
   "outputs": [
    {
     "name": "stdout",
     "output_type": "stream",
     "text": [
      "Andorra\n",
      "Antigua and Barbuda\n",
      "Cook Islands\n",
      "Dominica\n",
      "Grenada\n",
      "Kiribati\n",
      "Marshall Islands\n",
      "Micronesia (Federated States of)\n",
      "Monaco\n",
      "Nauru\n",
      "Niue\n",
      "Palau\n",
      "Saint Kitts and Nevis\n",
      "Saint Lucia\n",
      "Saint Vincent and the Grenadines\n",
      "Samoa\n",
      "San Marino\n",
      "Sao Tome and Principe\n",
      "Seychelles\n",
      "Tonga\n",
      "Tuvalu\n",
      "Vanuatu\n"
     ]
    }
   ],
   "source": [
    "# check if all exercise countries in risk data\n",
    "for country in exer['Country']:\n",
    "    if country not in risk.index:\n",
    "        print country"
   ]
  },
  {
   "cell_type": "code",
   "execution_count": 6,
   "metadata": {
    "collapsed": false,
    "scrolled": true
   },
   "outputs": [
    {
     "data": {
      "text/plain": [
       "['Afghanistan',\n",
       " 'Albania',\n",
       " 'Algeria',\n",
       " 'Angola',\n",
       " 'Argentina',\n",
       " 'Armenia',\n",
       " 'Australia',\n",
       " 'Austria',\n",
       " 'Azerbaijan',\n",
       " 'Bahamas',\n",
       " 'Bahrain',\n",
       " 'Bangladesh',\n",
       " 'Barbados',\n",
       " 'Belarus',\n",
       " 'Belgium',\n",
       " 'Belize',\n",
       " 'Benin',\n",
       " 'Bhutan',\n",
       " 'Bolivia (Plurinational State of)',\n",
       " 'Bosnia and Herzegovina',\n",
       " 'Botswana',\n",
       " 'Brazil',\n",
       " 'Brunei Darussalam',\n",
       " 'Bulgaria',\n",
       " 'Burkina Faso',\n",
       " 'Burundi',\n",
       " \"Cote d'Ivoire\",\n",
       " 'Cabo Verde',\n",
       " 'Cambodia',\n",
       " 'Cameroon',\n",
       " 'Canada',\n",
       " 'Central African Republic',\n",
       " 'Chad',\n",
       " 'Chile',\n",
       " 'China',\n",
       " 'Colombia',\n",
       " 'Comoros',\n",
       " 'Congo',\n",
       " 'Costa Rica',\n",
       " 'Croatia',\n",
       " 'Cuba',\n",
       " 'Cyprus',\n",
       " 'Czech Republic',\n",
       " \"Democratic People's Republic of Korea\",\n",
       " 'Democratic Republic of the Congo',\n",
       " 'Denmark',\n",
       " 'Djibouti',\n",
       " 'Dominican Republic',\n",
       " 'Ecuador',\n",
       " 'Egypt',\n",
       " 'El Salvador',\n",
       " 'Equatorial Guinea',\n",
       " 'Eritrea',\n",
       " 'Estonia',\n",
       " 'Ethiopia',\n",
       " 'Fiji',\n",
       " 'Finland',\n",
       " 'France',\n",
       " 'Gabon',\n",
       " 'Gambia',\n",
       " 'Georgia',\n",
       " 'Germany',\n",
       " 'Ghana',\n",
       " 'Greece',\n",
       " 'Guatemala',\n",
       " 'Guinea',\n",
       " 'Guinea-Bissau',\n",
       " 'Guyana',\n",
       " 'Haiti',\n",
       " 'Honduras',\n",
       " 'Hungary',\n",
       " 'Iceland',\n",
       " 'India',\n",
       " 'Indonesia',\n",
       " 'Iran (Islamic Republic of)',\n",
       " 'Iraq',\n",
       " 'Ireland',\n",
       " 'Israel',\n",
       " 'Italy',\n",
       " 'Jamaica',\n",
       " 'Japan',\n",
       " 'Jordan',\n",
       " 'Kazakhstan',\n",
       " 'Kenya',\n",
       " 'Kuwait',\n",
       " 'Kyrgyzstan',\n",
       " \"Lao People's Democratic Republic\",\n",
       " 'Latvia',\n",
       " 'Lebanon',\n",
       " 'Lesotho',\n",
       " 'Liberia',\n",
       " 'Libya',\n",
       " 'Lithuania',\n",
       " 'Luxembourg',\n",
       " 'Madagascar',\n",
       " 'Malawi',\n",
       " 'Malaysia',\n",
       " 'Maldives',\n",
       " 'Mali',\n",
       " 'Malta',\n",
       " 'Mauritania',\n",
       " 'Mauritius',\n",
       " 'Mexico',\n",
       " 'Mongolia',\n",
       " 'Montenegro',\n",
       " 'Morocco',\n",
       " 'Mozambique',\n",
       " 'Myanmar',\n",
       " 'Namibia',\n",
       " 'Nepal',\n",
       " 'Netherlands',\n",
       " 'New Zealand',\n",
       " 'Nicaragua',\n",
       " 'Niger',\n",
       " 'Nigeria',\n",
       " 'Norway',\n",
       " 'Oman',\n",
       " 'Pakistan',\n",
       " 'Panama',\n",
       " 'Papua New Guinea',\n",
       " 'Paraguay',\n",
       " 'Peru',\n",
       " 'Philippines',\n",
       " 'Poland',\n",
       " 'Portugal',\n",
       " 'Qatar',\n",
       " 'Republic of Korea',\n",
       " 'Republic of Moldova',\n",
       " 'Romania',\n",
       " 'Russian Federation',\n",
       " 'Rwanda',\n",
       " 'Saudi Arabia',\n",
       " 'Senegal',\n",
       " 'Serbia',\n",
       " 'Sierra Leone',\n",
       " 'Singapore',\n",
       " 'Slovakia',\n",
       " 'Slovenia',\n",
       " 'Solomon Islands',\n",
       " 'Somalia',\n",
       " 'South Africa',\n",
       " 'South Sudan',\n",
       " 'Spain',\n",
       " 'Sri Lanka',\n",
       " 'Sudan',\n",
       " 'Suriname',\n",
       " 'Swaziland',\n",
       " 'Sweden',\n",
       " 'Switzerland',\n",
       " 'Syrian Arab Republic',\n",
       " 'Tajikistan',\n",
       " 'Thailand',\n",
       " 'The former Yugoslav republic of Macedonia',\n",
       " 'Timor-Leste',\n",
       " 'Togo',\n",
       " 'Trinidad and Tobago',\n",
       " 'Tunisia',\n",
       " 'Turkey',\n",
       " 'Turkmenistan',\n",
       " 'Uganda',\n",
       " 'Ukraine',\n",
       " 'United Arab Emirates',\n",
       " 'United Kingdom of Great Britain and Northern Ireland',\n",
       " 'United Republic of Tanzania',\n",
       " 'United States of America',\n",
       " 'Uruguay',\n",
       " 'Uzbekistan',\n",
       " 'Venezuela (Bolivarian Republic of)',\n",
       " 'Viet Nam',\n",
       " 'Yemen',\n",
       " 'Zambia',\n",
       " 'Zimbabwe']"
      ]
     },
     "execution_count": 6,
     "metadata": {},
     "output_type": "execute_result"
    }
   ],
   "source": [
    "risk.index.tolist()"
   ]
  },
  {
   "cell_type": "markdown",
   "metadata": {},
   "source": [
    "All countries appear to be spelled the same way as in the risk data. Several countries appear to be excluded from the risk data. We will now drop them."
   ]
  },
  {
   "cell_type": "code",
   "execution_count": 7,
   "metadata": {
    "collapsed": false
   },
   "outputs": [
    {
     "data": {
      "text/html": [
       "<div>\n",
       "<table border=\"1\" class=\"dataframe\">\n",
       "  <thead>\n",
       "    <tr style=\"text-align: right;\">\n",
       "      <th></th>\n",
       "      <th>Country</th>\n",
       "      <th>Year</th>\n",
       "      <th>Age Group</th>\n",
       "      <th>Both sexes</th>\n",
       "      <th>Female</th>\n",
       "      <th>Male</th>\n",
       "      <th>Both sexes.1</th>\n",
       "      <th>Female.1</th>\n",
       "      <th>Male.1</th>\n",
       "    </tr>\n",
       "  </thead>\n",
       "  <tbody>\n",
       "    <tr>\n",
       "      <th>0</th>\n",
       "      <td>Afghanistan</td>\n",
       "      <td>2010</td>\n",
       "      <td>18+  years</td>\n",
       "      <td>NaN</td>\n",
       "      <td>NaN</td>\n",
       "      <td>NaN</td>\n",
       "      <td>NaN</td>\n",
       "      <td>NaN</td>\n",
       "      <td>NaN</td>\n",
       "    </tr>\n",
       "    <tr>\n",
       "      <th>1</th>\n",
       "      <td>Albania</td>\n",
       "      <td>2010</td>\n",
       "      <td>18+  years</td>\n",
       "      <td>NaN</td>\n",
       "      <td>NaN</td>\n",
       "      <td>NaN</td>\n",
       "      <td>NaN</td>\n",
       "      <td>NaN</td>\n",
       "      <td>NaN</td>\n",
       "    </tr>\n",
       "    <tr>\n",
       "      <th>2</th>\n",
       "      <td>Algeria</td>\n",
       "      <td>2010</td>\n",
       "      <td>18+  years</td>\n",
       "      <td>34.4 [30.5-38.5]</td>\n",
       "      <td>41.2 [35.7-46.9]</td>\n",
       "      <td>27.7 [22.3-33.6]</td>\n",
       "      <td>32.5 [28.6-36.6]</td>\n",
       "      <td>39.4 [33.9-45.1]</td>\n",
       "      <td>25.8 [20.4-31.7]</td>\n",
       "    </tr>\n",
       "    <tr>\n",
       "      <th>4</th>\n",
       "      <td>Angola</td>\n",
       "      <td>2010</td>\n",
       "      <td>18+  years</td>\n",
       "      <td>NaN</td>\n",
       "      <td>NaN</td>\n",
       "      <td>NaN</td>\n",
       "      <td>NaN</td>\n",
       "      <td>NaN</td>\n",
       "      <td>NaN</td>\n",
       "    </tr>\n",
       "    <tr>\n",
       "      <th>6</th>\n",
       "      <td>Argentina</td>\n",
       "      <td>2010</td>\n",
       "      <td>18+  years</td>\n",
       "      <td>39.2 [13.5-76.6]</td>\n",
       "      <td>42.7 [14.7-78.5]</td>\n",
       "      <td>35.8 [13.2-76.1]</td>\n",
       "      <td>40.1 [13.9-77]</td>\n",
       "      <td>44.1 [15.6-79.3]</td>\n",
       "      <td>35.7 [13.2-76]</td>\n",
       "    </tr>\n",
       "  </tbody>\n",
       "</table>\n",
       "</div>"
      ],
      "text/plain": [
       "       Country  Year   Age Group        Both sexes            Female  \\\n",
       "0  Afghanistan  2010  18+  years               NaN               NaN   \n",
       "1      Albania  2010  18+  years               NaN               NaN   \n",
       "2      Algeria  2010  18+  years  34.4 [30.5-38.5]  41.2 [35.7-46.9]   \n",
       "4       Angola  2010  18+  years               NaN               NaN   \n",
       "6    Argentina  2010  18+  years  39.2 [13.5-76.6]  42.7 [14.7-78.5]   \n",
       "\n",
       "               Male      Both sexes.1          Female.1            Male.1  \n",
       "0               NaN               NaN               NaN               NaN  \n",
       "1               NaN               NaN               NaN               NaN  \n",
       "2  27.7 [22.3-33.6]  32.5 [28.6-36.6]  39.4 [33.9-45.1]  25.8 [20.4-31.7]  \n",
       "4               NaN               NaN               NaN               NaN  \n",
       "6  35.8 [13.2-76.1]    40.1 [13.9-77]  44.1 [15.6-79.3]    35.7 [13.2-76]  "
      ]
     },
     "execution_count": 7,
     "metadata": {},
     "output_type": "execute_result"
    }
   ],
   "source": [
    "dropme = []\n",
    "\n",
    "for country in exer['Country']:\n",
    "    if country not in risk.index:\n",
    "        dropme.append(country)\n",
    "        \n",
    "clean_exer = exer[~exer['Country'].isin(dropme)]\n",
    "\n",
    "# check\n",
    "for country in clean_exer['Country']:\n",
    "    if country not in risk.index:\n",
    "        print 'Fail'\n",
    "\n",
    "clean_exer.head()"
   ]
  },
  {
   "cell_type": "markdown",
   "metadata": {},
   "source": [
    "Let's the first \"both sexes, female, male\" columns are the age-standarized estimates, while the second set are crude estimates. We should use the age-standarized because they are *INSERT REASONING HERE*. We should also drop the Age Group column and Year column if they are the same for every row. Finally, we should drop the male and female column because we only have data in the dependent variables for both sexes."
   ]
  },
  {
   "cell_type": "code",
   "execution_count": 8,
   "metadata": {
    "collapsed": false
   },
   "outputs": [
    {
     "data": {
      "text/plain": [
       "2010    172\n",
       "Name: Year, dtype: int64"
      ]
     },
     "execution_count": 8,
     "metadata": {},
     "output_type": "execute_result"
    },
    {
     "data": {
      "text/plain": [
       "18+  years    172\n",
       "Name: Age Group, dtype: int64"
      ]
     },
     "execution_count": 8,
     "metadata": {},
     "output_type": "execute_result"
    }
   ],
   "source": [
    "clean_exer['Year'].value_counts()\n",
    "clean_exer['Age Group'].value_counts()"
   ]
  },
  {
   "cell_type": "code",
   "execution_count": 9,
   "metadata": {
    "collapsed": false
   },
   "outputs": [
    {
     "data": {
      "text/html": [
       "<div>\n",
       "<table border=\"1\" class=\"dataframe\">\n",
       "  <thead>\n",
       "    <tr style=\"text-align: right;\">\n",
       "      <th></th>\n",
       "      <th>Country</th>\n",
       "      <th>Both sexes</th>\n",
       "    </tr>\n",
       "  </thead>\n",
       "  <tbody>\n",
       "    <tr>\n",
       "      <th>0</th>\n",
       "      <td>Afghanistan</td>\n",
       "      <td>NaN</td>\n",
       "    </tr>\n",
       "    <tr>\n",
       "      <th>1</th>\n",
       "      <td>Albania</td>\n",
       "      <td>NaN</td>\n",
       "    </tr>\n",
       "    <tr>\n",
       "      <th>2</th>\n",
       "      <td>Algeria</td>\n",
       "      <td>34.4 [30.5-38.5]</td>\n",
       "    </tr>\n",
       "    <tr>\n",
       "      <th>4</th>\n",
       "      <td>Angola</td>\n",
       "      <td>NaN</td>\n",
       "    </tr>\n",
       "    <tr>\n",
       "      <th>6</th>\n",
       "      <td>Argentina</td>\n",
       "      <td>39.2 [13.5-76.6]</td>\n",
       "    </tr>\n",
       "  </tbody>\n",
       "</table>\n",
       "</div>"
      ],
      "text/plain": [
       "       Country        Both sexes\n",
       "0  Afghanistan               NaN\n",
       "1      Albania               NaN\n",
       "2      Algeria  34.4 [30.5-38.5]\n",
       "4       Angola               NaN\n",
       "6    Argentina  39.2 [13.5-76.6]"
      ]
     },
     "execution_count": 9,
     "metadata": {},
     "output_type": "execute_result"
    }
   ],
   "source": [
    "exer = clean_exer[['Country', 'Both sexes']]\n",
    "exer.head()"
   ]
  },
  {
   "cell_type": "markdown",
   "metadata": {},
   "source": [
    "One last thing: we can remove the confidence interval range from the values. If we need them in the future, we can grab them here independently."
   ]
  },
  {
   "cell_type": "code",
   "execution_count": 10,
   "metadata": {
    "collapsed": false
   },
   "outputs": [
    {
     "data": {
      "text/html": [
       "<div>\n",
       "<table border=\"1\" class=\"dataframe\">\n",
       "  <thead>\n",
       "    <tr style=\"text-align: right;\">\n",
       "      <th></th>\n",
       "      <th>Country</th>\n",
       "      <th>Percent</th>\n",
       "    </tr>\n",
       "  </thead>\n",
       "  <tbody>\n",
       "    <tr>\n",
       "      <th>0</th>\n",
       "      <td>Afghanistan</td>\n",
       "      <td>NaN</td>\n",
       "    </tr>\n",
       "    <tr>\n",
       "      <th>1</th>\n",
       "      <td>Albania</td>\n",
       "      <td>NaN</td>\n",
       "    </tr>\n",
       "    <tr>\n",
       "      <th>2</th>\n",
       "      <td>Algeria</td>\n",
       "      <td>34.4</td>\n",
       "    </tr>\n",
       "    <tr>\n",
       "      <th>4</th>\n",
       "      <td>Angola</td>\n",
       "      <td>NaN</td>\n",
       "    </tr>\n",
       "    <tr>\n",
       "      <th>6</th>\n",
       "      <td>Argentina</td>\n",
       "      <td>39.2</td>\n",
       "    </tr>\n",
       "  </tbody>\n",
       "</table>\n",
       "</div>"
      ],
      "text/plain": [
       "       Country  Percent\n",
       "0  Afghanistan      NaN\n",
       "1      Albania      NaN\n",
       "2      Algeria     34.4\n",
       "4       Angola      NaN\n",
       "6    Argentina     39.2"
      ]
     },
     "execution_count": 10,
     "metadata": {},
     "output_type": "execute_result"
    }
   ],
   "source": [
    "def grab_num(full):\n",
    "    if pd.isnull(full):\n",
    "        return np.nan\n",
    "    split = full.split()\n",
    "    return float(split[0])\n",
    "\n",
    "exer = pd.DataFrame({\n",
    "        'Country': exer['Country'], \n",
    "        'Percent': exer['Both sexes'].apply(grab_num)\n",
    "    })\n",
    "exer.head()"
   ]
  },
  {
   "cell_type": "markdown",
   "metadata": {},
   "source": [
    "Looks good!"
   ]
  },
  {
   "cell_type": "code",
   "execution_count": 11,
   "metadata": {
    "collapsed": true
   },
   "outputs": [],
   "source": [
    "pickle.dump(exer, open('data/clean/exer.p', 'wb'))"
   ]
  },
  {
   "cell_type": "markdown",
   "metadata": {},
   "source": [
    "### Part 2: Deal with missing data"
   ]
  },
  {
   "cell_type": "markdown",
   "metadata": {},
   "source": [
    "Now we want to decide what to do with the NaNs. Let's first load in the rest of the data."
   ]
  },
  {
   "cell_type": "code",
   "execution_count": 12,
   "metadata": {
    "collapsed": true
   },
   "outputs": [],
   "source": [
    "out = open('data/clean/deaths_100k.p', 'r')\n",
    "deaths = pickle.load(out)\n",
    "out = open('data/clean/crops.p', 'r')\n",
    "crops = pickle.load(out)\n",
    "out = open('data/clean/meat.p', 'r')\n",
    "meat = pickle.load(out)\n",
    "out = open('data/clean/doctors.p', 'r')\n",
    "doctors = pickle.load(out)\n",
    "out = open('data/clean/beds.p', 'r')\n",
    "beds = pickle.load(out)"
   ]
  },
  {
   "cell_type": "code",
   "execution_count": 13,
   "metadata": {
    "collapsed": false
   },
   "outputs": [
    {
     "name": "stdout",
     "output_type": "stream",
     "text": [
      "doctors contains NaNs\n",
      "beds contains NaNs\n",
      "exer contains NaNs\n"
     ]
    }
   ],
   "source": [
    "# see if entire df contains NaNs\n",
    "for df in [('risk', risk), ('doctors', doctors), ('beds', beds), ('exer', exer)]:\n",
    "    if df[1].isnull().any().any():\n",
    "        print df[0], 'contains NaNs'"
   ]
  },
  {
   "cell_type": "code",
   "execution_count": 14,
   "metadata": {
    "collapsed": false,
    "scrolled": true
   },
   "outputs": [
    {
     "name": "stdout",
     "output_type": "stream",
     "text": [
      "crops contains NaNs\n",
      "meat contains NaNs\n"
     ]
    }
   ],
   "source": [
    "for group in [('deaths', deaths), ('crops', crops), ('meat', meat)]:\n",
    "    for df in group[1].values():\n",
    "        if df.isnull().any().any():\n",
    "            print group[0], 'contains NaNs'\n",
    "            break"
   ]
  }
 ],
 "metadata": {
  "anaconda-cloud": {},
  "kernelspec": {
   "display_name": "Python [Root]",
   "language": "python",
   "name": "Python [Root]"
  },
  "language_info": {
   "codemirror_mode": {
    "name": "ipython",
    "version": 2
   },
   "file_extension": ".py",
   "mimetype": "text/x-python",
   "name": "python",
   "nbconvert_exporter": "python",
   "pygments_lexer": "ipython2",
   "version": "2.7.12"
  }
 },
 "nbformat": 4,
 "nbformat_minor": 0
}
