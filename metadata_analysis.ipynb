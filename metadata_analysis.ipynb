{
 "cells": [
  {
   "cell_type": "code",
   "execution_count": 1,
   "metadata": {
    "collapsed": true
   },
   "outputs": [],
   "source": [
    "# Import packages\n",
    "import numpy as np\n",
    "import pandas as pd\n",
    "import matplotlib\n",
    "import matplotlib.pyplot as plt\n",
    "import statsmodels.formula.api as sm\n",
    "import pickle\n",
    "from collections import Counter\n",
    "from sklearn.preprocessing import Imputer\n",
    "%matplotlib inline"
   ]
  },
  {
   "cell_type": "code",
   "execution_count": 2,
   "metadata": {
    "collapsed": false
   },
   "outputs": [],
   "source": [
    "livestock_desc = pd.read_csv(\"data/metadata/var_desc_livestock.csv\")\n",
    "crops_desc = pd.read_csv(\"data/metadata/var_desc_crops.csv\")"
   ]
  },
  {
   "cell_type": "code",
   "execution_count": 3,
   "metadata": {
    "collapsed": true
   },
   "outputs": [],
   "source": [
    "# Load cleaned NCD data from pickled files\n",
    "out = open('data/clean/var_desc_livestock.p', 'rb')\n",
    "livestock_desc = pickle.load(out)\n",
    "out.close()\n",
    "out = open('data/clean/var_desc_crops.p', 'rb')\n",
    "crops_desc = pickle.load(out)\n",
    "out.close()"
   ]
  },
  {
   "cell_type": "code",
   "execution_count": 4,
   "metadata": {
    "collapsed": false
   },
   "outputs": [],
   "source": [
    "livestock_desc['Description'] = livestock_desc['Description'].astype('string')\n",
    "crops_desc['Description'] = crops_desc['Description'].astype('string')"
   ]
  },
  {
   "cell_type": "code",
   "execution_count": 5,
   "metadata": {
    "collapsed": false
   },
   "outputs": [
    {
     "data": {
      "text/html": [
       "<div>\n",
       "<table border=\"1\" class=\"dataframe\">\n",
       "  <thead>\n",
       "    <tr style=\"text-align: right;\">\n",
       "      <th></th>\n",
       "      <th>Item Code</th>\n",
       "      <th>Item</th>\n",
       "      <th>Description</th>\n",
       "      <th>HS Code</th>\n",
       "      <th>HS07 Code</th>\n",
       "      <th>HS12 Code</th>\n",
       "      <th>CPC Code</th>\n",
       "    </tr>\n",
       "  </thead>\n",
       "  <tbody>\n",
       "    <tr>\n",
       "      <th>0</th>\n",
       "      <td>2946</td>\n",
       "      <td>Animal fats</td>\n",
       "      <td>nan</td>\n",
       "      <td>NaN</td>\n",
       "      <td>NaN</td>\n",
       "      <td>NaN</td>\n",
       "      <td>NaN</td>\n",
       "    </tr>\n",
       "    <tr>\n",
       "      <th>1</th>\n",
       "      <td>2941</td>\n",
       "      <td>Animal Products</td>\n",
       "      <td>nan</td>\n",
       "      <td>NaN</td>\n",
       "      <td>NaN</td>\n",
       "      <td>NaN</td>\n",
       "      <td>NaN</td>\n",
       "    </tr>\n",
       "    <tr>\n",
       "      <th>2</th>\n",
       "      <td>2769</td>\n",
       "      <td>Aquatic Animals, Others</td>\n",
       "      <td>Default composition: 1587 Aqutc Anim F, 1588 A...</td>\n",
       "      <td>NaN</td>\n",
       "      <td>NaN</td>\n",
       "      <td>NaN</td>\n",
       "      <td>NaN</td>\n",
       "    </tr>\n",
       "    <tr>\n",
       "      <th>3</th>\n",
       "      <td>2775</td>\n",
       "      <td>Aquatic Plants</td>\n",
       "      <td>Default composition: 1594 Aquatic plants, fres...</td>\n",
       "      <td>NaN</td>\n",
       "      <td>NaN</td>\n",
       "      <td>NaN</td>\n",
       "      <td>NaN</td>\n",
       "    </tr>\n",
       "    <tr>\n",
       "      <th>4</th>\n",
       "      <td>2961</td>\n",
       "      <td>Aquatic Products, Other</td>\n",
       "      <td>nan</td>\n",
       "      <td>NaN</td>\n",
       "      <td>NaN</td>\n",
       "      <td>NaN</td>\n",
       "      <td>NaN</td>\n",
       "    </tr>\n",
       "  </tbody>\n",
       "</table>\n",
       "</div>"
      ],
      "text/plain": [
       "   Item Code                     Item  \\\n",
       "0       2946              Animal fats   \n",
       "1       2941          Animal Products   \n",
       "2       2769  Aquatic Animals, Others   \n",
       "3       2775           Aquatic Plants   \n",
       "4       2961  Aquatic Products, Other   \n",
       "\n",
       "                                         Description  HS Code  HS07 Code  \\\n",
       "0                                                nan      NaN        NaN   \n",
       "1                                                nan      NaN        NaN   \n",
       "2  Default composition: 1587 Aqutc Anim F, 1588 A...      NaN        NaN   \n",
       "3  Default composition: 1594 Aquatic plants, fres...      NaN        NaN   \n",
       "4                                                nan      NaN        NaN   \n",
       "\n",
       "   HS12 Code  CPC Code  \n",
       "0        NaN       NaN  \n",
       "1        NaN       NaN  \n",
       "2        NaN       NaN  \n",
       "3        NaN       NaN  \n",
       "4        NaN       NaN  "
      ]
     },
     "execution_count": 5,
     "metadata": {},
     "output_type": "execute_result"
    }
   ],
   "source": [
    "livestock_desc.head()"
   ]
  },
  {
   "cell_type": "code",
   "execution_count": 6,
   "metadata": {
    "collapsed": false
   },
   "outputs": [
    {
     "data": {
      "text/html": [
       "<div>\n",
       "<table border=\"1\" class=\"dataframe\">\n",
       "  <thead>\n",
       "    <tr style=\"text-align: right;\">\n",
       "      <th></th>\n",
       "      <th>Item Code</th>\n",
       "      <th>Item</th>\n",
       "      <th>Description</th>\n",
       "      <th>HS Code</th>\n",
       "      <th>HS07 Code</th>\n",
       "      <th>HS12 Code</th>\n",
       "      <th>CPC Code</th>\n",
       "    </tr>\n",
       "  </thead>\n",
       "  <tbody>\n",
       "    <tr>\n",
       "      <th>0</th>\n",
       "      <td>2924</td>\n",
       "      <td>Alcoholic Beverages</td>\n",
       "      <td>nan</td>\n",
       "      <td>NaN</td>\n",
       "      <td>NaN</td>\n",
       "      <td>NaN</td>\n",
       "      <td>NaN</td>\n",
       "    </tr>\n",
       "    <tr>\n",
       "      <th>1</th>\n",
       "      <td>2617</td>\n",
       "      <td>Apples and products</td>\n",
       "      <td>Default composition: 515 Apples, 518 Juice, ap...</td>\n",
       "      <td>NaN</td>\n",
       "      <td>NaN</td>\n",
       "      <td>NaN</td>\n",
       "      <td>NaN</td>\n",
       "    </tr>\n",
       "    <tr>\n",
       "      <th>2</th>\n",
       "      <td>2615</td>\n",
       "      <td>Bananas</td>\n",
       "      <td>Default composition: 486 Bananas</td>\n",
       "      <td>NaN</td>\n",
       "      <td>NaN</td>\n",
       "      <td>NaN</td>\n",
       "      <td>NaN</td>\n",
       "    </tr>\n",
       "    <tr>\n",
       "      <th>3</th>\n",
       "      <td>2513</td>\n",
       "      <td>Barley and products</td>\n",
       "      <td>Default composition: 44 Barley, 45 Barley, pot...</td>\n",
       "      <td>NaN</td>\n",
       "      <td>NaN</td>\n",
       "      <td>NaN</td>\n",
       "      <td>NaN</td>\n",
       "    </tr>\n",
       "    <tr>\n",
       "      <th>4</th>\n",
       "      <td>2546</td>\n",
       "      <td>Beans</td>\n",
       "      <td>Default composition: 176 Beans, dry</td>\n",
       "      <td>NaN</td>\n",
       "      <td>NaN</td>\n",
       "      <td>NaN</td>\n",
       "      <td>NaN</td>\n",
       "    </tr>\n",
       "  </tbody>\n",
       "</table>\n",
       "</div>"
      ],
      "text/plain": [
       "   Item Code                 Item  \\\n",
       "0       2924  Alcoholic Beverages   \n",
       "1       2617  Apples and products   \n",
       "2       2615              Bananas   \n",
       "3       2513  Barley and products   \n",
       "4       2546                Beans   \n",
       "\n",
       "                                         Description  HS Code  HS07 Code  \\\n",
       "0                                                nan      NaN        NaN   \n",
       "1  Default composition: 515 Apples, 518 Juice, ap...      NaN        NaN   \n",
       "2                   Default composition: 486 Bananas      NaN        NaN   \n",
       "3  Default composition: 44 Barley, 45 Barley, pot...      NaN        NaN   \n",
       "4                Default composition: 176 Beans, dry      NaN        NaN   \n",
       "\n",
       "   HS12 Code  CPC Code  \n",
       "0        NaN       NaN  \n",
       "1        NaN       NaN  \n",
       "2        NaN       NaN  \n",
       "3        NaN       NaN  \n",
       "4        NaN       NaN  "
      ]
     },
     "execution_count": 6,
     "metadata": {},
     "output_type": "execute_result"
    }
   ],
   "source": [
    "crops_desc.head()"
   ]
  },
  {
   "cell_type": "markdown",
   "metadata": {},
   "source": [
    "We would like to assess whether multiple items contain a given code in their descriptions, which would result in double counting that code."
   ]
  },
  {
   "cell_type": "code",
   "execution_count": 13,
   "metadata": {
    "collapsed": false
   },
   "outputs": [
    {
     "name": "stdout",
     "output_type": "stream",
     "text": [
      "Redundant Livestock codes:\n",
      "Redundant Crop codes:\n",
      "27\n",
      "33\n",
      "35\n",
      "154\n",
      "155\n",
      "160\n",
      "161\n",
      "162\n",
      "163\n",
      "165\n",
      "166\n",
      "167\n",
      "172\n",
      "173\n",
      "242\n",
      "567\n",
      "568\n"
     ]
    }
   ],
   "source": [
    "# create counters for each code in the description\n",
    "livestock_counter = Counter()\n",
    "crops_counter = Counter()\n",
    "\n",
    "# map each item to the codes it contains\n",
    "livestock_dict = {}\n",
    "crops_dict = {}\n",
    "\n",
    "# go through all descriptions in livestock\n",
    "for index, val in enumerate(livestock_desc['Description']):\n",
    "    ingredients = [int(num) for num in val.split() if num.isdigit()]\n",
    "    # check that the list is not empty\n",
    "    if ingredients:\n",
    "        item = livestock_desc.iloc[index, :]['Item']\n",
    "        for ingredient in ingredients:\n",
    "            livestock_counter[ingredient] += 1\n",
    "        livestock_dict[item] = ingredients\n",
    "    \n",
    "# go through all description in crops\n",
    "for index, val in enumerate(crops_desc['Description']):\n",
    "    ingredients = [int(num) for num in val.split() if num.isdigit()]\n",
    "    # check that the list is not empty\n",
    "    if ingredients:\n",
    "        item = crops_desc.iloc[index, :]['Item']\n",
    "        for ingredient in ingredients:\n",
    "            crops_counter[ingredient] += 1\n",
    "        crops_dict[item] = ingredients\n",
    "\n",
    "# store redudant livestock codes\n",
    "redundant_livestock_codes = []\n",
    "# store redundant crop codes\n",
    "redundant_crop_codes = []\n",
    "\n",
    "# get redundant item codes for livestock and crops\n",
    "print \"Redundant Livestock codes:\"\n",
    "for key, value in livestock_counter.items():\n",
    "    if value > 1:\n",
    "        print key\n",
    "        redundant_livestock_codes.append(key)\n",
    "\n",
    "print \"Redundant Crop codes:\"\n",
    "for key, value in crops_counter.items():\n",
    "    if value > 1:\n",
    "        print key\n",
    "        redundant_crop_codes.append(key)"
   ]
  },
  {
   "cell_type": "code",
   "execution_count": 12,
   "metadata": {
    "collapsed": false
   },
   "outputs": [
    {
     "name": "stdout",
     "output_type": "stream",
     "text": [
      "Vegetables, Other: 567\n",
      "Vegetables, Other: 568\n",
      "Fruits, Other: 567\n",
      "Fruits, Other: 568\n",
      "Sugar, Refined Equiv: 162\n",
      "Sugar (Raw Equivalent): 162\n",
      "Groundnuts (in Shell Eq): 242\n",
      "Sugar, Raw Equivalent: 154\n",
      "Sugar, Raw Equivalent: 155\n",
      "Sugar, Raw Equivalent: 160\n",
      "Sugar, Raw Equivalent: 161\n",
      "Sugar, Raw Equivalent: 162\n",
      "Sugar, Raw Equivalent: 163\n",
      "Sugar, Raw Equivalent: 166\n",
      "Sugar, Raw Equivalent: 167\n",
      "Sugar, Raw Equivalent: 172\n",
      "Sugar, Raw Equivalent: 173\n",
      "Molasses: 165\n",
      "Sugar non-centrifugal: 163\n",
      "Sweeteners, Other: 154\n",
      "Sweeteners, Other: 155\n",
      "Sweeteners, Other: 160\n",
      "Sweeteners, Other: 161\n",
      "Sweeteners, Other: 165\n",
      "Sweeteners, Other: 166\n",
      "Sweeteners, Other: 167\n",
      "Sweeteners, Other: 172\n",
      "Sweeteners, Other: 173\n",
      "Rice (Paddy Equivalent): 27\n",
      "Rice (Paddy Equivalent): 33\n",
      "Rice (Paddy Equivalent): 35\n",
      "Groundnuts (Shelled Eq): 242\n",
      "Rice (Milled Equivalent): 27\n",
      "Rice (Milled Equivalent): 33\n",
      "Rice (Milled Equivalent): 35\n"
     ]
    }
   ],
   "source": [
    "for key, value in crops_dict.items():\n",
    "    for code in value:\n",
    "        if code in redundant_crop_codes:\n",
    "            print key + \": \" + str(code)"
   ]
  },
  {
   "cell_type": "markdown",
   "metadata": {},
   "source": [
    "There were no redundancies for livestock.\n",
    "For crops, redundancies were:\n",
    "\n",
    "* 567: Watermelon\n",
    "    * Vegetables, Other\n",
    "    * Fruits, Other\n",
    "* 568: Melon\n",
    "    * Vegetables, Other\n",
    "    * Fruits, Other\n",
    "* 242: Groundnuts\n",
    "    * Groundnuts (in Shell Eq)\t\n",
    "    * Groundnuts (Shelled Eq)\t\n",
    "    * Oilcrops Oil, Other\n",
    "* 154: Fructose chemically pure\n",
    "    * Sugar, Raw Equivalent\t\n",
    "    * Sweeteners, Other\t\n",
    "* 155: Maltose chemically pure\n",
    "    * Sugar, Raw Equivalent\n",
    "    * Sweeteners, Other\n",
    "* 160: Maple sugar and syrups\n",
    "    * Sugar, Raw Equivalent\t\n",
    "    * Sweeteners, Other\t\n",
    "* 161: Sugar crops, nes\n",
    "    * Sugar, Raw Equivalent\n",
    "    * Sweeteners, Other\n",
    "* 162: Sugar Raw Centrifugal\n",
    "    * Sugar (Raw Equivalent)\n",
    "    * Sugar, Raw Equivalent\t\n",
    "    * Sugar, Refined Equiv\t\n",
    "* 163: Sugar non-centrifugal\n",
    "    * Sugar non-centrifugal\n",
    "    * Sugar, Raw Equivalent\t\n",
    "* 165: Molasses\n",
    "    * Molasses\n",
    "    * Sweeteners, Other\n",
    "* 166: Fructose and syrup, other\n",
    "    * Sugar, Raw Equivalent\n",
    "    * Sweeteners, Other\n",
    "* 167: Sugar, nes\n",
    "    * Sugar, Raw Equivalent\t\n",
    "    * Sweeteners, Other\t\n",
    "* 172: Glucose and dextrose\n",
    "    * Sugar, Raw Equivalent\t\n",
    "    * Sweeteners, Other\t\n",
    "* 173: Lactose\n",
    "    * Sugar, Raw Equivalent\n",
    "    * Sweeteners, Other\t\n",
    "* 27: Rice\n",
    "    * Rice (Milled Equivalent)\n",
    "    * Rice (Paddy Equivalent)\n",
    "* 33: Gluten\n",
    "    * Rice (Milled Equivalent)\t\n",
    "    * Rice (Paddy Equivalent)\t\n",
    "* 35: Bran, rice\n",
    "    * Rice (Milled Equivalent)\t\n",
    "    * Rice (Paddy Equivalent)\n",
    "* 242: Groundnuts\n",
    "    * Groundnuts (in Shell Eq)\t\n",
    "    * Groundnuts (Shelled Eq)\n",
    "    * Oilcrops Oil, Other\t\n",
    "\n"
   ]
  },
  {
   "cell_type": "markdown",
   "metadata": {},
   "source": [
    "* We will keep both `Vegetables, Other` and `Fruit, Other` because both have numerous other constituent crops besides watermelon and melon\n",
    "* We will drop `Groundnuts (in Shell Eq)` since `Groundnuts (Shelled Eq)` contains all crops in `Groundnuts (in Shell Eq)`\n",
    "* We will drop `Sweeteners, Other` (the \"others\" in that category were already dropped because of many Nans) and keep `Sugar, Raw Equivalent` because it seems to contain more relevant subcategories and they have a large number of subcategories in common\n",
    "* We will drop `Sugar, Refined Equiv` because it only contains one subcategory that is already contained in `Sugar, Raw Equivalent`\n",
    "* We will keep `Sugar (Raw Equivalent)` because it only has one subcategory in common with `Sugar, Raw Equivalent` and has many additional subcategories that may be relevant\n",
    "* `Rice (Milled Equivalent)` contains all the subcategories in `Rice (Paddy Equivalent)` and some additional, so we will drop `Rice (Paddy Equivalent)`\n",
    "* We will keep `Oilcrops Oil, Other` because it only has one subcategory in common with `Groundnuts (Shelled Eq)` and contains many unique subcategories"
   ]
  },
  {
   "cell_type": "code",
   "execution_count": null,
   "metadata": {
    "collapsed": true
   },
   "outputs": [],
   "source": []
  }
 ],
 "metadata": {
  "kernelspec": {
   "display_name": "Python 2",
   "language": "python",
   "name": "python2"
  },
  "language_info": {
   "codemirror_mode": {
    "name": "ipython",
    "version": 2
   },
   "file_extension": ".py",
   "mimetype": "text/x-python",
   "name": "python",
   "nbconvert_exporter": "python",
   "pygments_lexer": "ipython2",
   "version": "2.7.11"
  }
 },
 "nbformat": 4,
 "nbformat_minor": 1
}
